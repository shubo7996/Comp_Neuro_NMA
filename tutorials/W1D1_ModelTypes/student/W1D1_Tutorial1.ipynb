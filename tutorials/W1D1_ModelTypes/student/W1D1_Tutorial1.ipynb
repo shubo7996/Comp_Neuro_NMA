{
  "cells": [
    {
      "cell_type": "markdown",
      "metadata": {
        "id": "view-in-github",
        "colab_type": "text"
      },
      "source": [
        "<a href=\"https://colab.research.google.com/github/shubo7996/Comp_Neuro_NMA/blob/main/tutorials/W1D1_ModelTypes/student/W1D1_Tutorial1.ipynb\" target=\"_parent\"><img src=\"https://colab.research.google.com/assets/colab-badge.svg\" alt=\"Open In Colab\"/></a>"
      ]
    },
    {
      "cell_type": "markdown",
      "metadata": {
        "execution": {},
        "id": "Dmdi8ZdFV8d9"
      },
      "source": [
        "# Tutorial 1: \"What\" models\n",
        "**Week 1, Day 1: Model Types**\n",
        "\n",
        "**By Neuromatch Academy**\n",
        "\n",
        "__Content creators:__ Matt Laporte, Byron Galbraith, Konrad Kording\n",
        "\n",
        "__Content reviewers:__ Dalin Guo, Aishwarya Balwani, Madineh Sarvestani, Maryam Vaziri-Pashkam, Michael Waskom, Ella Batty\n",
        "\n",
        "__Post-production team:__ Gagana B, Spiros Chavlis\n",
        "\n",
        "We would like to acknowledge [Steinmetz _et al._ (2019)](https://www.nature.com/articles/s41586-019-1787-x) for sharing their data, a subset of which is used here.\n"
      ]
    },
    {
      "cell_type": "markdown",
      "metadata": {
        "execution": {},
        "id": "l_ZgAsFKV8eC"
      },
      "source": [
        "<p align='center'><img src='https://github.com/NeuromatchAcademy/widgets/blob/master/sponsors.png?raw=True'/></p>"
      ]
    },
    {
      "cell_type": "markdown",
      "metadata": {
        "execution": {},
        "id": "w4NMgTJaV8eD"
      },
      "source": [
        "___\n",
        "# Tutorial Objectives\n",
        "\n",
        "*Estimated timing of tutorial: 50 minutes*\n",
        "\n",
        "This is tutorial 1 of a 3-part series on different flavors of models used to understand neural data. In this tutorial we will explore 'What' models, used to describe the data. To understand what our data looks like, we will visualize it in different ways. Then we will compare it to simple mathematical models. Specifically, we will:\n",
        "\n",
        "- Load a dataset with spiking activity from hundreds of neurons and understand how it is organized\n",
        "- Make plots to visualize characteristics of the spiking activity across the population\n",
        "- Compute the distribution of \"inter-spike intervals\" (ISIs) for a single neuron\n",
        "- Consider several formal models of this distribution's shape and fit them to the data \"by hand\""
      ]
    },
    {
      "cell_type": "code",
      "execution_count": 7,
      "metadata": {
        "cellView": "form",
        "execution": {},
        "colab": {
          "base_uri": "https://localhost:8080/",
          "height": 501
        },
        "id": "-zAaKT2tV8eE",
        "outputId": "523feae2-88be-492e-8fd5-b37dab3cce01"
      },
      "outputs": [
        {
          "output_type": "execute_result",
          "data": {
            "text/plain": [
              "<IPython.lib.display.IFrame at 0x7f0aa8343690>"
            ],
            "text/html": [
              "\n",
              "        <iframe\n",
              "            width=\"854\"\n",
              "            height=\"480\"\n",
              "            src=\"https://mfr.ca-1.osf.io/render?url=https://osf.io/6dxwe/?direct%26mode=render%26action=download%26mode=render\"\n",
              "            frameborder=\"0\"\n",
              "            allowfullscreen\n",
              "        ></iframe>\n",
              "        "
            ]
          },
          "metadata": {},
          "execution_count": 7
        }
      ],
      "source": [
        "# @title Tutorial slides\n",
        "\n",
        "# @markdown These are the slides for the videos in all tutorials today\n",
        "from IPython.display import IFrame\n",
        "IFrame(src=f\"https://mfr.ca-1.osf.io/render?url=https://osf.io/6dxwe/?direct%26mode=render%26action=download%26mode=render\", width=854, height=480)"
      ]
    },
    {
      "cell_type": "code",
      "execution_count": 2,
      "metadata": {
        "cellView": "form",
        "execution": {},
        "colab": {
          "base_uri": "https://localhost:8080/",
          "height": 581,
          "referenced_widgets": [
            "6fa87f27b4da46eba3405873bea2a057",
            "1b183fb3f9fc466da31c2c53bcb5e7e6",
            "b0810c7d66e44939a7484f19f63c8046",
            "e831faff66de4429a29b063e5039dbeb",
            "220d0d13e4684e328a34e5826b6d8fb6",
            "154161b3e0ee40cfbff925d5e69e3996"
          ]
        },
        "id": "i4CRtNxDV8eF",
        "outputId": "289a8c00-daf1-43b2-f486-821cedb89662"
      },
      "outputs": [
        {
          "output_type": "display_data",
          "data": {
            "text/plain": [
              "Tab(children=(Output(), Output()), _titles={'0': 'Youtube', '1': 'Bilibili'})"
            ],
            "application/vnd.jupyter.widget-view+json": {
              "version_major": 2,
              "version_minor": 0,
              "model_id": "6fa87f27b4da46eba3405873bea2a057"
            }
          },
          "metadata": {}
        }
      ],
      "source": [
        "# @title Video 1: \"What\" Models\n",
        "from ipywidgets import widgets\n",
        "\n",
        "out2 = widgets.Output()\n",
        "with out2:\n",
        "  from IPython.display import IFrame\n",
        "  class BiliVideo(IFrame):\n",
        "      def __init__(self, id, page=1, width=400, height=300, **kwargs):\n",
        "          self.id=id\n",
        "          src = 'https://player.bilibili.com/player.html?bvid={0}&page={1}'.format(id, page)\n",
        "          super(BiliVideo, self).__init__(src, width, height, **kwargs)\n",
        "\n",
        "  video = BiliVideo(id=\"BV1mz4y1X7ot\", width=854, height=480, fs=1)\n",
        "  print('Video available at https://www.bilibili.com/video/{0}'.format(video.id))\n",
        "  display(video)\n",
        "\n",
        "out1 = widgets.Output()\n",
        "with out1:\n",
        "  from IPython.display import YouTubeVideo\n",
        "  video = YouTubeVideo(id=\"KgqR_jbjMQg\", width=854, height=480, fs=1, rel=0)\n",
        "  print('Video available at https://youtube.com/watch?v=' + video.id)\n",
        "  display(video)\n",
        "\n",
        "out = widgets.Tab([out1, out2])\n",
        "out.set_title(0, 'Youtube')\n",
        "out.set_title(1, 'Bilibili')\n",
        "\n",
        "display(out)"
      ]
    },
    {
      "cell_type": "markdown",
      "metadata": {
        "execution": {},
        "id": "AuvoWNxlV8eG"
      },
      "source": [
        "# Setup\n",
        "\n"
      ]
    },
    {
      "cell_type": "markdown",
      "metadata": {
        "execution": {},
        "id": "1lBkkuZQV8eH"
      },
      "source": [
        "Python requires you to explicitly \"import\" libraries before their functions are available to use. We will always specify our imports at the beginning of each notebook or script."
      ]
    },
    {
      "cell_type": "code",
      "execution_count": 3,
      "metadata": {
        "execution": {},
        "pycharm": {
          "name": "#%%\n"
        },
        "id": "zDZy0mppV8eI"
      },
      "outputs": [],
      "source": [
        "import numpy as np\n",
        "import matplotlib.pyplot as plt"
      ]
    },
    {
      "cell_type": "markdown",
      "metadata": {
        "execution": {},
        "id": "XsTDqdESV8eJ"
      },
      "source": [
        "Tutorial notebooks typically begin with several set-up steps that are hidden from view by default.\n",
        "\n",
        "**Important:** Even though the code is hidden, you still need to run it so that the rest of the notebook can work properly. Step through each cell, either by pressing the play button in the upper-left-hand corner or with a keyboard shortcut (`Cmd-Return` on a Mac, `Ctrl-Enter` otherwise). A number will appear inside the brackets (e.g. `[3]`) to tell you that the cell was executed and what order that happened in.\n",
        "\n",
        "If you are curious to see what is going on inside each cell, you can double click to expand. Once expanded, double-click the white space to the right of the editor to collapse again."
      ]
    },
    {
      "cell_type": "code",
      "execution_count": 4,
      "metadata": {
        "cellView": "form",
        "execution": {},
        "pycharm": {
          "name": "#%%\n"
        },
        "id": "XTESrHvqV8eK"
      },
      "outputs": [],
      "source": [
        "# @title Figure Settings\n",
        "import ipywidgets as widgets #interactive display\n",
        "\n",
        "%matplotlib inline\n",
        "%config InlineBackend.figure_format = 'retina'\n",
        "plt.style.use(\"https://raw.githubusercontent.com/NeuromatchAcademy/course-content/main/nma.mplstyle\")"
      ]
    },
    {
      "cell_type": "code",
      "execution_count": 5,
      "metadata": {
        "cellView": "form",
        "execution": {},
        "id": "nALDVLaqV8eK"
      },
      "outputs": [],
      "source": [
        "# @title Plotting functions\n",
        "\n",
        "def plot_isis(single_neuron_isis):\n",
        "  plt.hist(single_neuron_isis, bins=50, histtype=\"stepfilled\")\n",
        "  plt.axvline(single_neuron_isis.mean(), color=\"orange\", label=\"Mean ISI\")\n",
        "  plt.xlabel(\"ISI duration (s)\")\n",
        "  plt.ylabel(\"Number of spikes\")\n",
        "  plt.legend()"
      ]
    },
    {
      "cell_type": "code",
      "execution_count": 6,
      "metadata": {
        "cellView": "form",
        "execution": {},
        "pycharm": {
          "name": "#%%\n"
        },
        "id": "LRCGO9S0V8eL"
      },
      "outputs": [],
      "source": [
        "#@title Data retrieval\n",
        "#@markdown This cell downloads the example dataset that we will use in this tutorial.\n",
        "import io\n",
        "import requests\n",
        "r = requests.get('https://osf.io/sy5xt/download')\n",
        "if r.status_code != 200:\n",
        "  print('Failed to download data')\n",
        "else:\n",
        "  spike_times = np.load(io.BytesIO(r.content), allow_pickle=True)['spike_times']"
      ]
    },
    {
      "cell_type": "markdown",
      "metadata": {
        "execution": {},
        "id": "gVi3-T3FV8eL"
      },
      "source": [
        "---\n",
        "\n",
        "# Section 1: Exploring the Steinmetz dataset\n",
        "\n",
        "In this tutorial we will explore the structure of a neuroscience dataset.\n",
        "\n",
        "We consider a subset of data from a study of [Steinmetz _et al._ (2019)](https://www.nature.com/articles/s41586-019-1787-x). In this study, Neuropixels probes were implanted in the brains of mice. Electrical potentials were measured by hundreds of electrodes along the length of each probe. Each electrode's measurements captured local variations in the electric field due to nearby spiking neurons. A spike sorting algorithm was used to infer spike times and cluster spikes according to common origin: a single cluster of sorted spikes is causally attributed to a single neuron.\n",
        "\n",
        "In particular, a single recording session of spike times and neuron assignments was loaded and assigned to `spike_times` in the preceding setup.\n",
        "\n",
        "Typically a dataset comes with some information about its structure. However, this information may be incomplete. You might also apply some transformations or \"pre-processing\" to create a working representation of the data of interest, which might go partly undocumented depending on the circumstances. In any case it is important to be able to use the available tools to investigate unfamiliar aspects of a data structure.\n",
        "\n",
        "Let's see what our data looks like..."
      ]
    },
    {
      "cell_type": "markdown",
      "metadata": {
        "execution": {},
        "id": "lX5uRYcDV8eM"
      },
      "source": [
        "## Section 1.1: Warming up with `spike_times`"
      ]
    },
    {
      "cell_type": "markdown",
      "metadata": {
        "execution": {},
        "id": "aHwq0rhzV8eM"
      },
      "source": [
        "What is the Python type of our variable?"
      ]
    },
    {
      "cell_type": "code",
      "execution_count": 8,
      "metadata": {
        "execution": {},
        "pycharm": {
          "name": "#%%\n"
        },
        "colab": {
          "base_uri": "https://localhost:8080/"
        },
        "id": "O97t-GQUV8eM",
        "outputId": "394d93dd-8b12-408d-fe46-c6246fd7ea98"
      },
      "outputs": [
        {
          "output_type": "execute_result",
          "data": {
            "text/plain": [
              "numpy.ndarray"
            ]
          },
          "metadata": {},
          "execution_count": 8
        }
      ],
      "source": [
        "type(spike_times)"
      ]
    },
    {
      "cell_type": "markdown",
      "metadata": {
        "execution": {},
        "id": "WXH97KCXV8eN"
      },
      "source": [
        "You should see `numpy.ndarray`, which means that it's a normal NumPy array.\n",
        "\n",
        "If you see an error message, it probably means that you did not execute the set-up cells at the top of the notebook. So go ahead and make sure to do that.\n",
        "\n",
        "Once everything is running properly, we can ask the next question about the dataset: what's its shape?"
      ]
    },
    {
      "cell_type": "code",
      "execution_count": 9,
      "metadata": {
        "execution": {},
        "pycharm": {
          "name": "#%%\n"
        },
        "colab": {
          "base_uri": "https://localhost:8080/"
        },
        "id": "nVuDe9IRV8eN",
        "outputId": "c60d6eec-8a1c-4620-f041-e2f755853af0"
      },
      "outputs": [
        {
          "output_type": "execute_result",
          "data": {
            "text/plain": [
              "(734,)"
            ]
          },
          "metadata": {},
          "execution_count": 9
        }
      ],
      "source": [
        "spike_times.shape"
      ]
    },
    {
      "cell_type": "code",
      "source": [
        ""
      ],
      "metadata": {
        "id": "zVGQuc56bWMb"
      },
      "execution_count": 12,
      "outputs": []
    },
    {
      "cell_type": "markdown",
      "metadata": {
        "execution": {},
        "id": "KJOhIYzkV8eN"
      },
      "source": [
        "There are 734 entries in one dimension, and no other dimensions. What is the Python type of the first entry, and what is *its* shape?"
      ]
    },
    {
      "cell_type": "code",
      "execution_count": 13,
      "metadata": {
        "execution": {},
        "pycharm": {
          "name": "#%%\n"
        },
        "colab": {
          "base_uri": "https://localhost:8080/"
        },
        "id": "6X-v1vmwV8eO",
        "outputId": "9abcd415-06e2-4a03-adbe-65b9370b33e4"
      },
      "outputs": [
        {
          "output_type": "stream",
          "name": "stdout",
          "text": [
            "<class 'numpy.ndarray'>\n",
            "(826,)\n"
          ]
        }
      ],
      "source": [
        "idx = 0\n",
        "print(\n",
        "  type(spike_times[idx]),\n",
        "  spike_times[idx].shape,\n",
        "  sep=\"\\n\",\n",
        ")"
      ]
    },
    {
      "cell_type": "markdown",
      "metadata": {
        "execution": {},
        "id": "DaKfDNrSV8eO"
      },
      "source": [
        "It's also a NumPy array with a 1D shape! Why didn't this show up as a second dimension in the shape of `spike_times`? That is, why not `spike_times.shape == (734, 826)`?\n",
        "\n",
        "To investigate, let's check another entry."
      ]
    },
    {
      "cell_type": "code",
      "execution_count": 10,
      "metadata": {
        "execution": {},
        "pycharm": {
          "name": "#%%\n"
        },
        "colab": {
          "base_uri": "https://localhost:8080/"
        },
        "id": "04oZC2DYV8eP",
        "outputId": "9e88995a-b468-44eb-ebdf-6409e8e01d7f"
      },
      "outputs": [
        {
          "output_type": "stream",
          "name": "stdout",
          "text": [
            "<class 'numpy.ndarray'>\n",
            "(9723,)\n"
          ]
        }
      ],
      "source": [
        "idx = 321\n",
        "print(\n",
        "  type(spike_times[idx]),\n",
        "  spike_times[idx].shape,\n",
        "  sep=\"\\n\",\n",
        ")"
      ]
    },
    {
      "cell_type": "markdown",
      "metadata": {
        "execution": {},
        "id": "wV3MKdSyV8eP"
      },
      "source": [
        "It's also a 1D NumPy array, but it has a different shape. Checking the NumPy types of the values in these arrays, and their first few elements, we see they are composed of floating point numbers (not another level of `np.ndarray`):"
      ]
    },
    {
      "cell_type": "code",
      "execution_count": 14,
      "metadata": {
        "execution": {},
        "pycharm": {
          "name": "#%%\n"
        },
        "colab": {
          "base_uri": "https://localhost:8080/"
        },
        "id": "NKEcG9uJV8eP",
        "outputId": "e4a9a96f-8985-4cde-932d-df0905f1c765"
      },
      "outputs": [
        {
          "output_type": "stream",
          "name": "stdout",
          "text": [
            "Neuron 0:\n",
            "float32\n",
            "[ 0.8149   14.822467 24.9646   25.1436   38.8709  ]\n",
            "\n",
            "\n",
            "Neuron 321:\n",
            "float32\n",
            "[1.0698667 1.1536334 1.2403667 1.7072    1.799    ]\n",
            "\n",
            "\n"
          ]
        }
      ],
      "source": [
        "i_neurons = [0, 321]\n",
        "i_print = slice(0, 5)\n",
        "\n",
        "for i in i_neurons:\n",
        "  print(\n",
        "    \"Neuron {}:\".format(i),\n",
        "    spike_times[i].dtype,\n",
        "    spike_times[i][i_print],\n",
        "    \"\\n\",\n",
        "    sep=\"\\n\"\n",
        "  )"
      ]
    },
    {
      "cell_type": "markdown",
      "metadata": {
        "execution": {},
        "id": "4ifgCqteV8eQ"
      },
      "source": [
        "Note that this time we've checked the NumPy `dtype` rather than the Python variable type. These two arrays contain floating point numbers (\"floats\") with 32 bits of precision.\n",
        "\n",
        "The basic picture is coming together:\n",
        "- `spike_times` is 1D, its entries are NumPy arrays, and its length is the number of neurons (734): by indexing it, we select a subset of neurons.\n",
        "- An array in `spike_times` is also 1D and corresponds to a single neuron; its entries are floating point numbers, and its length is the number of spikes attributed to that neuron. By indexing it, we select a subset of spike times for that neuron.\n",
        "\n",
        "Visually, you can think of the data structure as looking something like this:\n",
        "\n",
        "```\n",
        "| . . . . . |\n",
        "| . . . . . . . . |\n",
        "| . . . |\n",
        "| . . . . . . . |\n",
        "```\n",
        "\n",
        "Before moving on, we'll calculate and store the number of neurons in the dataset and the number of spikes per neuron:"
      ]
    },
    {
      "cell_type": "code",
      "execution_count": 17,
      "metadata": {
        "execution": {},
        "pycharm": {
          "name": "#%%\n"
        },
        "colab": {
          "base_uri": "https://localhost:8080/"
        },
        "id": "3QSA0K2ZV8eQ",
        "outputId": "7f557f7f-ac49-4f28-c55f-76e7775f1028"
      },
      "outputs": [
        {
          "output_type": "stream",
          "name": "stdout",
          "text": [
            "Number of neurons: 734\n",
            "Number of spikes for first five neurons: [826, 2818, 3953, 646, 1115, 457, 10305, 3849, 1225, 2487, 625, 1722, 4647, 12935, 7954, 3231, 726, 8610, 348, 3534, 1128, 378, 3097, 3345, 1285, 1774, 286, 5355, 7230, 870, 4270, 6593, 1505, 2319, 215, 3771, 974, 3216, 4945, 4931, 9519, 2469, 2298, 3591, 13746, 2123, 4974, 1755, 4945, 6687, 3828, 3304, 2378, 471, 3537, 6405, 2735, 571, 6526, 3084, 397, 3919, 788, 7279, 6502, 300, 4723, 5462, 1815, 417, 10958, 380, 1028, 2278, 840, 12474, 7550, 828, 5795, 151, 1717, 4655, 2033, 169, 3104, 674, 1758, 947, 2996, 10729, 477, 878, 1093, 3660, 2291, 1026, 2116, 3908, 533, 1438, 17223, 1170, 7053, 5051, 6511, 329, 1894, 844, 8300, 2349, 3011, 14375, 16950, 13613, 8045, 1004, 3712, 482, 9475, 1144, 11530, 714, 6439, 4164, 5898, 3632, 503, 10404, 9327, 11450, 1097, 389, 881, 14602, 3410, 17092, 3007, 1132, 12119, 235, 6055, 361, 1209, 5830, 5442, 4941, 435, 1890, 13402, 349, 127, 17633, 11847, 1101, 6286, 1178, 879, 501, 1050, 3714, 6174, 1720, 155, 4457, 11411, 4689, 1878, 1341, 4319, 1933, 7021, 36499, 326, 153, 6341, 5621, 3597, 1144, 1678, 5305, 938, 316, 6730, 2231, 1836, 3202, 1142, 851, 3974, 378, 2060, 4252, 1067, 670, 3608, 14868, 323, 13641, 7668, 7884, 3341, 1552, 1140, 10703, 12102, 774, 2333, 638, 5892, 2831, 1016, 2945, 15597, 8202, 3031, 1435, 1613, 9478, 2228, 5128, 592, 2366, 186, 5593, 403, 9191, 3703, 1894, 28589, 2757, 3667, 8009, 3944, 4479, 3671, 124, 910, 18998, 1733, 1830, 2391, 1059, 604, 2991, 3321, 3792, 2883, 1157, 1682, 1763, 2259, 3320, 8260, 3215, 6717, 2774, 8403, 14737, 17995, 15996, 2144, 811, 466, 7749, 8433, 345, 2133, 11324, 6206, 2843, 218, 118, 204, 220, 19713, 50727, 27875, 47758, 50324, 50233, 34552, 30450, 29640, 115372, 28905, 40996, 38168, 22055, 30346, 21914, 18261, 21126, 26381, 18114, 16986, 18226, 13902, 18550, 18531, 19271, 17953, 15442, 13567, 16177, 13135, 15548, 12466, 21515, 15268, 21039, 17636, 11087, 14042, 11353, 11753, 12465, 12727, 12005, 10577, 8152, 16462, 9723, 10339, 6290, 10605, 9540, 9713, 8149, 14233, 5307, 7555, 4993, 6327, 5913, 7802, 4173, 7321, 5128, 5422, 4097, 3829, 8082, 2659, 3915, 8975, 4834, 2839, 2671, 3427, 2092, 2083, 1832, 1387, 1918, 970, 1498, 1260, 1072, 956, 750, 819, 2551, 400, 15895, 1043, 1617, 5804, 3459, 1867, 37089, 19119, 9978, 6695, 94768, 14967, 2186, 5602, 831, 38987, 18883, 3644, 2903, 1861, 10801, 438, 426, 8157, 3069, 21299, 433, 12153, 7019, 2164, 11177, 1315, 2553, 3835, 5803, 1930, 11720, 1473, 8722, 4932, 1990, 14711, 2948, 13657, 6856, 1773, 1291, 21348, 13277, 4188, 23279, 1670, 12319, 10834, 972, 14690, 15460, 22792, 1446, 50685, 270, 9851, 1747, 364, 1341, 2340, 5509, 1736, 4754, 27260, 957, 14934, 187, 510, 34452, 1636, 3208, 6957, 32679, 7154, 6720, 3756, 5561, 11164, 926, 26086, 3149, 6407, 11903, 2233, 13333, 329, 3294, 24183, 6265, 7634, 9948, 1481, 5185, 6408, 3414, 14324, 5133, 26822, 15138, 13756, 19317, 2636, 44526, 235, 1459, 29527, 10558, 676, 7328, 17956, 15757, 9358, 4266, 3597, 12862, 40331, 64193, 8704, 21384, 3533, 5171, 51216, 2838, 9661, 5120, 2979, 1108, 6154, 16542, 3231, 10547, 1872, 7595, 1154, 4023, 5888, 5293, 62250, 1872, 175, 1151, 30805, 2055, 4046, 18454, 2800, 2223, 20434, 3410, 620, 18523, 984, 15846, 2498, 1176, 1846, 16154, 4322, 12621, 2523, 8499, 1327, 58796, 14993, 20255, 11596, 453, 5901, 7115, 24489, 3083, 400, 13568, 1031, 4653, 8666, 23925, 2000, 15291, 42557, 11912, 6529, 2718, 4163, 5210, 3708, 3218, 4760, 1909, 4448, 4229, 13048, 3422, 27313, 15697, 1285, 1930, 14199, 3446, 11907, 10704, 519, 10743, 1688, 843, 7543, 1960, 44198, 2355, 7638, 8932, 2294, 2224, 23727, 6115, 1028, 4323, 1708, 3208, 2005, 9704, 4703, 18136, 781, 336, 5145, 34435, 7618, 7839, 28337, 10756, 727, 79676, 9999, 7326, 351, 6290, 2894, 18945, 276, 29737, 32415, 3507, 16844, 1514, 5792, 3322, 6526, 14937, 27043, 23204, 15653, 15917, 19587, 8065, 2722, 2305, 1689, 13430, 5046, 9127, 1937, 18180, 28588, 19327, 2321, 7480, 2133, 2340, 796, 1897, 8587, 1199, 3001, 1125, 1111, 19458, 6914, 7239, 24176, 8533, 94022, 67288, 69846, 107450, 72984, 64381, 35532, 53356, 73924, 28002, 44237, 62905, 39685, 21759, 27081, 23771, 19683, 21579, 38299, 28533, 48366, 21217, 18632, 16031, 28207, 20043, 58044, 25579, 21229, 20476, 20169, 20037, 21346, 20586, 27528, 13837, 40544, 22042, 18986, 16867, 15909, 15766, 15451, 9299, 38449, 22663, 14404, 18900, 13150, 8964, 12136, 12001, 20022, 14111, 12877, 9461, 10580, 8851, 14909, 11312, 7683, 125324, 6501, 7932, 5912, 5851, 4552, 5749, 8679, 3320, 4130, 2466, 2905, 4017, 2535, 3169, 3754, 6876, 2398, 82180, 3546, 1624, 1043, 3906]\n"
          ]
        }
      ],
      "source": [
        "n_neurons = len(spike_times)\n",
        "total_spikes_per_neuron = [len(spike_times_i) for spike_times_i in spike_times]\n",
        "\n",
        "print(f\"Number of neurons: {n_neurons}\")\n",
        "print(f\"Number of spikes for first five neurons: {total_spikes_per_neuron}\")"
      ]
    },
    {
      "cell_type": "code",
      "execution_count": 16,
      "metadata": {
        "cellView": "form",
        "execution": {},
        "colab": {
          "base_uri": "https://localhost:8080/",
          "height": 581,
          "referenced_widgets": [
            "e290205af1f047d6ab3e7a20489a89a8",
            "55f8717b024e4a56a8aa5fd83effd047",
            "641d23cf4ddb4bc0bbf0b7807a38c6ed",
            "86dfbdc01e8d42689b5917d0f43a746e",
            "33505ffa3a4f42bd944aa8e06015faa2",
            "afd3d0e13e764ee182af7c7086a8c12e"
          ]
        },
        "id": "9p_nJl2SV8eQ",
        "outputId": "9f1413c4-036a-4d2d-d362-1d65b78f4119"
      },
      "outputs": [
        {
          "output_type": "display_data",
          "data": {
            "text/plain": [
              "Tab(children=(Output(), Output()), _titles={'0': 'Youtube', '1': 'Bilibili'})"
            ],
            "application/vnd.jupyter.widget-view+json": {
              "version_major": 2,
              "version_minor": 0,
              "model_id": "e290205af1f047d6ab3e7a20489a89a8"
            }
          },
          "metadata": {}
        }
      ],
      "source": [
        "# @title Video 2: Exploring the dataset\n",
        "from ipywidgets import widgets\n",
        "\n",
        "out2 = widgets.Output()\n",
        "with out2:\n",
        "  from IPython.display import IFrame\n",
        "  class BiliVideo(IFrame):\n",
        "      def __init__(self, id, page=1, width=400, height=300, **kwargs):\n",
        "          self.id=id\n",
        "          src = 'https://player.bilibili.com/player.html?bvid={0}&page={1}'.format(id, page)\n",
        "          super(BiliVideo, self).__init__(src, width, height, **kwargs)\n",
        "\n",
        "  video = BiliVideo(id=\"BV1Hp4y1S7Au\", width=854, height=480, fs=1)\n",
        "  print('Video available at https://www.bilibili.com/video/{0}'.format(video.id))\n",
        "  display(video)\n",
        "\n",
        "out1 = widgets.Output()\n",
        "with out1:\n",
        "  from IPython.display import YouTubeVideo\n",
        "  video = YouTubeVideo(id=\"oHwYWUI_o1U\", width=854, height=480, fs=1, rel=0)\n",
        "  print('Video available at https://youtube.com/watch?v=' + video.id)\n",
        "  display(video)\n",
        "\n",
        "out = widgets.Tab([out1, out2])\n",
        "out.set_title(0, 'Youtube')\n",
        "out.set_title(1, 'Bilibili')\n",
        "\n",
        "display(out)"
      ]
    },
    {
      "cell_type": "markdown",
      "metadata": {
        "execution": {},
        "id": "ufpclzVXV8eQ"
      },
      "source": [
        "## Section 1.2: Getting warmer: counting and plotting total spike counts\n",
        "\n",
        "As we've seen, the number of spikes over the entire recording is variable between neurons. More generally, some neurons tend to spike more than others in a given period. Let's explore what the distribution of spiking looks like across all the neurons in the dataset."
      ]
    },
    {
      "cell_type": "markdown",
      "metadata": {
        "execution": {},
        "id": "nr8IKcvlV8eR"
      },
      "source": [
        "Are most neurons \"loud\" or \"quiet\", compared to the average? To see, we'll define bins of constant width in terms of total spikes and count the neurons that fall in each bin. This is known as a \"histogram\".\n",
        "\n",
        "You can plot a histogram with the matplotlib function `plt.hist`. If you just need to compute it, you can use the numpy function `np.histogram` instead."
      ]
    },
    {
      "cell_type": "code",
      "execution_count": 18,
      "metadata": {
        "execution": {},
        "pycharm": {
          "name": "#%%\n"
        },
        "colab": {
          "base_uri": "https://localhost:8080/",
          "height": 431
        },
        "id": "YN91bhDCV8eR",
        "outputId": "e59cac23-003b-43df-81f3-b06145dbd2e8"
      },
      "outputs": [
        {
          "output_type": "display_data",
          "data": {
            "text/plain": [
              "<Figure size 576x432 with 1 Axes>"
            ],
            "image/png": "[encoded data removed]"
          },
          "metadata": {
            "image/png": {
              "width": 558,
              "height": 414
            },
            "needs_background": "light"
          }
        }
      ],
      "source": [
        "plt.hist(total_spikes_per_neuron, bins=50, histtype=\"stepfilled\")\n",
        "plt.xlabel(\"Total spikes per neuron\")\n",
        "plt.ylabel(\"Number of neurons\");\n",
        "\n",
        "#Frequencey Distribution....meaning how many neurons has how many spikes....for eg: more than 200 neurons has around 1000 spikes..less than 50 neurons has 80k spikes)"
      ]
    },
    {
      "cell_type": "markdown",
      "metadata": {
        "execution": {},
        "id": "HWd3amZnV8eR"
      },
      "source": [
        "Let's see what percentage of neurons have a below-average spike count:"
      ]
    },
    {
      "cell_type": "code",
      "source": [
        ""
      ],
      "metadata": {
        "id": "vHuSGoFxfJVf"
      },
      "execution_count": null,
      "outputs": []
    },
    {
      "cell_type": "code",
      "execution_count": 19,
      "metadata": {
        "execution": {},
        "pycharm": {
          "name": "#%%\n"
        },
        "colab": {
          "base_uri": "https://localhost:8080/"
        },
        "id": "guLsRStrV8eR",
        "outputId": "52af9541-3408-4be0-9f63-eebf3b9df4b3"
      },
      "outputs": [
        {
          "output_type": "stream",
          "name": "stdout",
          "text": [
            "68.0% of neurons are below the mean\n"
          ]
        }
      ],
      "source": [
        "mean_spike_count = np.mean(total_spikes_per_neuron)\n",
        "frac_below_mean = (total_spikes_per_neuron < mean_spike_count).mean()\n",
        "print(f\"{frac_below_mean:2.1%} of neurons are below the mean\")"
      ]
    },
    {
      "cell_type": "code",
      "source": [
        "mean_spike_count"
      ],
      "metadata": {
        "colab": {
          "base_uri": "https://localhost:8080/"
        },
        "id": "FMRLBI90fLIB",
        "outputId": "8c1bd255-3222-48d9-e5b2-a9f43c53bb97"
      },
      "execution_count": 20,
      "outputs": [
        {
          "output_type": "execute_result",
          "data": {
            "text/plain": [
              "10319.351498637603"
            ]
          },
          "metadata": {},
          "execution_count": 20
        }
      ]
    },
    {
      "cell_type": "code",
      "source": [
        "frac_below_mean = (total_spikes_per_neuron < mean_spike_count)\n",
        "print(frac_below_mean)"
      ],
      "metadata": {
        "colab": {
          "base_uri": "https://localhost:8080/"
        },
        "id": "ecscYu4cfO09",
        "outputId": "979c0ab1-1c41-4a8c-d6c6-7b2057763b56"
      },
      "execution_count": 24,
      "outputs": [
        {
          "output_type": "stream",
          "name": "stdout",
          "text": [
            "[ True  True  True  True  True  True  True  True  True  True  True  True\n",
            "  True False  True  True  True  True  True  True  True  True  True  True\n",
            "  True  True  True  True  True  True  True  True  True  True  True  True\n",
            "  True  True  True  True  True  True  True  True False  True  True  True\n",
            "  True  True  True  True  True  True  True  True  True  True  True  True\n",
            "  True  True  True  True  True  True  True  True  True  True False  True\n",
            "  True  True  True False  True  True  True  True  True  True  True  True\n",
            "  True  True  True  True  True False  True  True  True  True  True  True\n",
            "  True  True  True  True False  True  True  True  True  True  True  True\n",
            "  True  True  True False False False  True  True  True  True  True  True\n",
            " False  True  True  True  True  True  True False  True False  True  True\n",
            "  True False  True False  True  True False  True  True  True  True  True\n",
            "  True  True  True  True False  True  True False False  True  True  True\n",
            "  True  True  True  True  True  True  True  True False  True  True  True\n",
            "  True  True  True False  True  True  True  True  True  True  True  True\n",
            "  True  True  True  True  True  True  True  True  True  True  True  True\n",
            "  True  True  True False  True False  True  True  True  True  True False\n",
            " False  True  True  True  True  True  True  True False  True  True  True\n",
            "  True  True  True  True  True  True  True  True  True  True  True  True\n",
            " False  True  True  True  True  True  True  True  True False  True  True\n",
            "  True  True  True  True  True  True  True  True  True  True  True  True\n",
            "  True  True  True  True  True False False False  True  True  True  True\n",
            "  True  True  True False  True  True  True  True  True  True False False\n",
            " False False False False False False False False False False False False\n",
            " False False False False False False False False False False False False\n",
            " False False False False False False False False False False False False\n",
            " False False False False False False False  True False  True False  True\n",
            " False  True  True  True False  True  True  True  True  True  True  True\n",
            "  True  True  True  True  True  True  True  True  True  True  True  True\n",
            "  True  True  True  True  True  True  True  True  True  True  True  True\n",
            "  True  True  True False  True  True  True  True  True False False  True\n",
            "  True False False  True  True  True False False  True  True  True False\n",
            "  True  True  True  True False  True False  True  True False  True  True\n",
            "  True  True  True False  True  True  True  True False  True False  True\n",
            "  True  True False False  True False  True False False  True False False\n",
            " False  True False  True  True  True  True  True  True  True  True  True\n",
            " False  True False  True  True False  True  True  True False  True  True\n",
            "  True  True False  True False  True  True False  True False  True  True\n",
            " False  True  True  True  True  True  True  True False  True False False\n",
            " False False  True False  True  True False False  True  True False False\n",
            "  True  True  True False False False  True False  True  True False  True\n",
            "  True  True  True  True  True False  True False  True  True  True  True\n",
            "  True  True False  True  True  True False  True  True False  True  True\n",
            " False  True  True False  True False  True  True  True False  True False\n",
            "  True  True  True False False False False  True  True  True False  True\n",
            "  True False  True  True  True False  True False False False  True  True\n",
            "  True  True  True  True  True  True  True  True False  True False False\n",
            "  True  True False  True False False  True False  True  True  True  True\n",
            " False  True  True  True  True  True False  True  True  True  True  True\n",
            "  True  True  True False  True  True  True False  True  True False False\n",
            "  True False  True  True  True  True  True False  True False False  True\n",
            " False  True  True  True  True False False False False False False  True\n",
            "  True  True  True False  True  True  True False False False  True  True\n",
            "  True  True  True  True  True  True  True  True  True False  True  True\n",
            " False  True False False False False False False False False False False\n",
            " False False False False False False False False False False False False\n",
            " False False False False False False False False False False False False\n",
            " False False False False False False False False False  True False False\n",
            " False False False  True False False False False False  True False  True\n",
            " False False  True False  True  True  True  True  True  True  True  True\n",
            "  True  True  True  True  True  True  True  True  True False  True  True\n",
            "  True  True]\n"
          ]
        }
      ]
    },
    {
      "cell_type": "markdown",
      "metadata": {
        "execution": {},
        "id": "_FRu6AQuV8eR"
      },
      "source": [
        "We can also see this by adding the average spike count to the histogram plot:"
      ]
    },
    {
      "cell_type": "code",
      "execution_count": 25,
      "metadata": {
        "execution": {},
        "pycharm": {
          "name": "#%%\n"
        },
        "colab": {
          "base_uri": "https://localhost:8080/",
          "height": 431
        },
        "id": "a8nZYxsyV8eS",
        "outputId": "0d2b477b-e478-4201-c5db-e659a308a781"
      },
      "outputs": [
        {
          "output_type": "display_data",
          "data": {
            "text/plain": [
              "<Figure size 576x432 with 1 Axes>"
            ],
            "image/png": "[encoded data removed]"
          },
          "metadata": {
            "image/png": {
              "width": 558,
              "height": 414
            },
            "needs_background": "light"
          }
        }
      ],
      "source": [
        "plt.hist(total_spikes_per_neuron, bins=50, histtype=\"stepfilled\")\n",
        "plt.xlabel(\"Total spikes per neuron\")\n",
        "plt.ylabel(\"Number of neurons\")\n",
        "plt.axvline(mean_spike_count, color=\"orange\", label=\"Mean neuron\")\n",
        "plt.legend();"
      ]
    },
    {
      "cell_type": "markdown",
      "metadata": {
        "execution": {},
        "id": "taujP_MdV8eS"
      },
      "source": [
        "This shows that the majority of neurons are relatively \"quiet\" compared to the mean, while a small number of neurons are exceptionally \"loud\": they must have spiked more often to reach a large count.\n",
        "\n",
        "### Coding Exercise 1.2: Comparing mean and median neurons\n",
        "\n",
        "If the mean neuron is more active than 68% of the population, what does that imply about the relationship between the mean neuron and the median neuron?\n",
        "\n",
        "*Exercise objective:* Reproduce the plot above, but add the median neuron.\n"
      ]
    },
    {
      "cell_type": "code",
      "execution_count": 27,
      "metadata": {
        "execution": {},
        "pycharm": {
          "name": "#%%\n"
        },
        "colab": {
          "base_uri": "https://localhost:8080/",
          "height": 448
        },
        "id": "-XT8x0uoV8eS",
        "outputId": "f00c1ba8-6f98-4e62-cdbe-3f6da983e0c5"
      },
      "outputs": [
        {
          "output_type": "execute_result",
          "data": {
            "text/plain": [
              "<matplotlib.legend.Legend at 0x7f0aa4222d10>"
            ]
          },
          "metadata": {},
          "execution_count": 27
        },
        {
          "output_type": "display_data",
          "data": {
            "text/plain": [
              "<Figure size 576x432 with 1 Axes>"
            ],
            "image/png": "[encoded data removed]"
          },
          "metadata": {
            "image/png": {
              "width": 558,
              "height": 414
            },
            "needs_background": "light"
          }
        }
      ],
      "source": [
        "#################################################################################\n",
        "## TODO for students:\n",
        "# Fill out function and remove\n",
        "#raise NotImplementedError(\"Student exercise: complete histogram plotting with median\")\n",
        "#################################################################################\n",
        "\n",
        "# Compute median spike count\n",
        "median_spike_count = np.median(total_spikes_per_neuron)  # Hint: Try the function np.median\n",
        "\n",
        "# Visualize median, mean, and histogram\n",
        "plt.hist(total_spikes_per_neuron, bins=50, histtype=\"stepfilled\")\n",
        "plt.axvline(median_spike_count, color=\"limegreen\", label=\"Median neuron\")\n",
        "plt.axvline(mean_spike_count, color=\"orange\", label=\"Mean neuron\")\n",
        "plt.xlabel(\"Total spikes per neuron\")\n",
        "plt.ylabel(\"Number of neurons\")\n",
        "plt.legend()"
      ]
    },
    {
      "cell_type": "markdown",
      "metadata": {
        "execution": {},
        "pycharm": {
          "name": "#%%\n"
        },
        "id": "thptjxvJV8eS"
      },
      "source": [
        "[*Click for solution*](https://github.com/NeuromatchAcademy/course-content/tree/main//tutorials/W1D1_ModelTypes/solutions/W1D1_Tutorial1_Solution_9af91fe0.py)\n",
        "\n",
        "*Example output:*\n",
        "\n",
        "<img alt='Solution hint' align='left' width=1116.0 height=827.0 src=https://raw.githubusercontent.com/NeuromatchAcademy/course-content/main/tutorials/W1D1_ModelTypes/static/W1D1_Tutorial1_Solution_9af91fe0_0.png>\n",
        "\n"
      ]
    },
    {
      "cell_type": "markdown",
      "metadata": {
        "execution": {},
        "id": "-c9Xp-ToV8eT"
      },
      "source": [
        "\n",
        "*Bonus:* The median is the 50th percentile. What about other percentiles? Can you show the interquartile range on the histogram?"
      ]
    },
    {
      "cell_type": "markdown",
      "metadata": {
        "execution": {},
        "id": "3A_P99v8V8eT"
      },
      "source": [
        "---\n",
        "\n",
        "# Section 2: Visualizing neuronal spiking activity\n",
        "\n",
        "*Estimated timing to here from start of tutorial: 15 min*"
      ]
    },
    {
      "cell_type": "markdown",
      "metadata": {
        "execution": {},
        "id": "k7IB9eNoV8eT"
      },
      "source": [
        "## Section 2.1: Getting a subset of the data\n",
        "\n",
        "Now we'll visualize trains of spikes. Because the recordings are long, we will first define a short time interval and restrict the visualization to only the spikes in this interval. We defined a helper function, `restrict_spike_times`, to do this for you. If you call `help()` on the function, it will tell you a little bit about itself:"
      ]
    },
    {
      "cell_type": "code",
      "execution_count": 28,
      "metadata": {
        "execution": {},
        "id": "djz-LKwGV8eT"
      },
      "outputs": [],
      "source": [
        "# @markdown Execute this cell for helper function `restrict_spike_times`\n",
        "def restrict_spike_times(spike_times, interval):\n",
        "  \"\"\"Given a spike_time dataset, restrict to spikes within given interval.\n",
        "\n",
        "  Args:\n",
        "    spike_times (sequence of np.ndarray): List or array of arrays,\n",
        "      each inner array has spike times for a single neuron.\n",
        "    interval (tuple): Min, max time values; keep min <= t < max.\n",
        "\n",
        "  Returns:\n",
        "    np.ndarray: like `spike_times`, but only within `interval`\n",
        "  \"\"\"\n",
        "  interval_spike_times = []\n",
        "  for spikes in spike_times:\n",
        "    interval_mask = (spikes >= interval[0]) & (spikes < interval[1])\n",
        "    interval_spike_times.append(spikes[interval_mask])\n",
        "  return np.array(interval_spike_times, object)"
      ]
    },
    {
      "cell_type": "code",
      "execution_count": 29,
      "metadata": {
        "execution": {},
        "pycharm": {
          "name": "#%%\n"
        },
        "colab": {
          "base_uri": "https://localhost:8080/"
        },
        "id": "BDxoE4rjV8eU",
        "outputId": "9ad40f87-bd9b-47b1-8fe6-ff8dceb1b8ca"
      },
      "outputs": [
        {
          "output_type": "stream",
          "name": "stdout",
          "text": [
            "Help on function restrict_spike_times in module __main__:\n",
            "\n",
            "restrict_spike_times(spike_times, interval)\n",
            "    Given a spike_time dataset, restrict to spikes within given interval.\n",
            "    \n",
            "    Args:\n",
            "      spike_times (sequence of np.ndarray): List or array of arrays,\n",
            "        each inner array has spike times for a single neuron.\n",
            "      interval (tuple): Min, max time values; keep min <= t < max.\n",
            "    \n",
            "    Returns:\n",
            "      np.ndarray: like `spike_times`, but only within `interval`\n",
            "\n"
          ]
        }
      ],
      "source": [
        "help(restrict_spike_times)"
      ]
    },
    {
      "cell_type": "code",
      "source": [
        "arr=[5,6,7]\n",
        "tup=('min','max')"
      ],
      "metadata": {
        "id": "d0moBq5xiUeD"
      },
      "execution_count": 31,
      "outputs": []
    },
    {
      "cell_type": "code",
      "execution_count": 43,
      "metadata": {
        "execution": {},
        "pycharm": {
          "name": "#%%\n"
        },
        "id": "x6_7aw5uV8eU"
      },
      "outputs": [],
      "source": [
        "t_interval = (5, 50)  # units are seconds after start of recording\n",
        "interval_spike_times = restrict_spike_times(spike_times, t_interval)\n"
      ]
    },
    {
      "cell_type": "code",
      "source": [
        "#interval_spike_times"
      ],
      "metadata": {
        "id": "PMVXnYt9iwxQ"
      },
      "execution_count": 36,
      "outputs": []
    },
    {
      "cell_type": "markdown",
      "metadata": {
        "execution": {},
        "id": "JHMiRh85V8eU"
      },
      "source": [
        "Is this a representative interval? What fraction of the total spikes fall in this interval?"
      ]
    },
    {
      "cell_type": "code",
      "execution_count": 45,
      "metadata": {
        "execution": {},
        "pycharm": {
          "name": "#%%\n"
        },
        "colab": {
          "base_uri": "https://localhost:8080/"
        },
        "id": "1Be5-EPjV8eU",
        "outputId": "e6b60691-c52a-4055-b792-84d276e576bb"
      },
      "outputs": [
        {
          "output_type": "stream",
          "name": "stdout",
          "text": [
            "1.53% of the total spikes are in the interval\n"
          ]
        }
      ],
      "source": [
        "original_counts = sum([len(spikes) for spikes in spike_times])\n",
        "\n",
        "interval_counts = sum([len(spikes) for spikes in interval_spike_times])\n",
        "frac_interval_spikes = interval_counts / original_counts\n",
        "print(f\"{frac_interval_spikes:.2%} of the total spikes are in the interval\")"
      ]
    },
    {
      "cell_type": "code",
      "source": [
        ""
      ],
      "metadata": {
        "id": "XIpE28x42UH2",
        "outputId": "7fb1de86-424c-4c1a-cb66-6020aa9e91dd",
        "colab": {
          "base_uri": "https://localhost:8080/"
        }
      },
      "execution_count": 44,
      "outputs": [
        {
          "output_type": "execute_result",
          "data": {
            "text/plain": [
              "122826"
            ]
          },
          "metadata": {},
          "execution_count": 44
        }
      ]
    },
    {
      "cell_type": "markdown",
      "metadata": {
        "execution": {},
        "id": "KDELyYFSV8eU"
      },
      "source": [
        "How does this compare to the ratio between the interval duration and the experiment duration? (What fraction of the total time is in this interval?)\n",
        "\n",
        "We can approximate the experiment duration by taking the minimum and maximum spike time in the whole dataset. To do that, we \"concatenate\" all of the neurons into one array and then use `np.ptp` (\"peak-to-peak\") to get the difference between the maximum and minimum value:"
      ]
    },
    {
      "cell_type": "code",
      "execution_count": 46,
      "metadata": {
        "execution": {},
        "pycharm": {
          "name": "#%%\n"
        },
        "colab": {
          "base_uri": "https://localhost:8080/"
        },
        "id": "op8M7XAFV8eU",
        "outputId": "f07908a1-bfa9-4ce0-f44c-8ffb283b4c9f"
      },
      "outputs": [
        {
          "output_type": "stream",
          "name": "stdout",
          "text": [
            "1.67% of the total time is in the interval\n"
          ]
        }
      ],
      "source": [
        "spike_times_flat = np.concatenate(spike_times)\n",
        "experiment_duration = np.ptp(spike_times_flat)\n",
        "interval_duration = t_interval[1] - t_interval[0]\n",
        "\n",
        "frac_interval_time = interval_duration / experiment_duration\n",
        "print(f\"{frac_interval_time:.2%} of the total time is in the interval\")"
      ]
    },
    {
      "cell_type": "code",
      "source": [
        "spike_times_flat"
      ],
      "metadata": {
        "id": "eRFlbaY730J0",
        "outputId": "82bca8c8-c3a1-497c-b527-0eaad8ac59c7",
        "colab": {
          "base_uri": "https://localhost:8080/"
        }
      },
      "execution_count": 47,
      "outputs": [
        {
          "output_type": "execute_result",
          "data": {
            "text/plain": [
              "array([8.1489998e-01, 1.4822467e+01, 2.4964600e+01, ..., 2.6981465e+03,\n",
              "       2.6998748e+03, 2.7012429e+03], dtype=float32)"
            ]
          },
          "metadata": {},
          "execution_count": 47
        }
      ]
    },
    {
      "cell_type": "markdown",
      "metadata": {
        "execution": {},
        "id": "jh_d9BBcV8eV"
      },
      "source": [
        "These two values—the fraction of total spikes and the fraction of total time—are similar. This suggests the average spike rate of the neuronal population is not very different in this interval compared to the entire recording.\n",
        "\n",
        "## Section 2.2: Plotting spike trains and rasters\n",
        "\n",
        "Now that we have a representative subset, we're ready to plot the spikes, using the matplotlib `plt.eventplot` function. Let's look at a single neuron first:"
      ]
    },
    {
      "cell_type": "code",
      "execution_count": 50,
      "metadata": {
        "execution": {},
        "pycharm": {
          "name": "#%%\n"
        },
        "colab": {
          "base_uri": "https://localhost:8080/",
          "height": 431
        },
        "id": "ll-d2QbbV8eV",
        "outputId": "2eb1ad0c-2919-446c-8a39-863eab1a27c5"
      },
      "outputs": [
        {
          "output_type": "display_data",
          "data": {
            "text/plain": [
              "<Figure size 576x432 with 1 Axes>"
            ],
            "image/png": "[encoded data removed]"
          },
          "metadata": {
            "image/png": {
              "width": 558,
              "height": 414
            },
            "needs_background": "light"
          }
        }
      ],
      "source": [
        "neuron_idx = 1\n",
        "plt.eventplot(interval_spike_times[neuron_idx], color=\".2\")\n",
        "plt.xlabel(\"Time (s)\")\n",
        "plt.yticks([]);\n",
        "\n",
        "#plt.xticks([]);"
      ]
    },
    {
      "cell_type": "code",
      "source": [
        ""
      ],
      "metadata": {
        "id": "iwOhTjLh5AYX"
      },
      "execution_count": null,
      "outputs": []
    },
    {
      "cell_type": "markdown",
      "metadata": {
        "execution": {},
        "id": "haFkWlANV8eV"
      },
      "source": [
        "We can also plot multiple neurons. Here are three:"
      ]
    },
    {
      "cell_type": "code",
      "execution_count": 51,
      "metadata": {
        "execution": {},
        "pycharm": {
          "name": "#%%\n"
        },
        "colab": {
          "base_uri": "https://localhost:8080/",
          "height": 430
        },
        "id": "-vD7YMdzV8eV",
        "outputId": "edd2d1b4-c6b1-4d35-8edf-77166fee9b17"
      },
      "outputs": [
        {
          "output_type": "display_data",
          "data": {
            "text/plain": [
              "<Figure size 576x432 with 1 Axes>"
            ],
            "image/png": "[encoded data removed]"
          },
          "metadata": {
            "image/png": {
              "width": 558,
              "height": 413
            },
            "needs_background": "light"
          }
        }
      ],
      "source": [
        "neuron_idx = [1, 11, 51]\n",
        "plt.eventplot(interval_spike_times[neuron_idx], color=\".2\")\n",
        "plt.xlabel(\"Time (s)\")\n",
        "plt.yticks([]);"
      ]
    },
    {
      "cell_type": "markdown",
      "metadata": {
        "execution": {},
        "id": "fYkKs3scV8eW"
      },
      "source": [
        "This makes a \"raster\" plot, where the spikes from each neuron appear in a different row.\n",
        "\n",
        "Plotting a large number of neurons can give you a sense for the characteristics in the population. Let's show every 5th neuron that was recorded:"
      ]
    },
    {
      "cell_type": "code",
      "execution_count": 52,
      "metadata": {
        "execution": {},
        "pycharm": {
          "name": "#%%\n"
        },
        "colab": {
          "base_uri": "https://localhost:8080/",
          "height": 430
        },
        "id": "5cGGFT6DV8eW",
        "outputId": "510e05f3-60a6-4210-f0cb-3a6bc1b6af20"
      },
      "outputs": [
        {
          "output_type": "display_data",
          "data": {
            "text/plain": [
              "<Figure size 576x432 with 1 Axes>"
            ],
            "image/png": "[encoded data removed]"
          },
          "metadata": {
            "image/png": {
              "width": 558,
              "height": 413
            },
            "needs_background": "light"
          }
        }
      ],
      "source": [
        "neuron_idx = np.arange(0, len(spike_times), 5)\n",
        "plt.eventplot(interval_spike_times[neuron_idx], color=\".2\")\n",
        "plt.xlabel(\"Time (s)\")\n",
        "plt.yticks([]);"
      ]
    },
    {
      "cell_type": "markdown",
      "metadata": {
        "execution": {},
        "id": "-v4-g_lLV8eW"
      },
      "source": [
        "*Question*: How does the information in this plot relate to the histogram of total spike counts that you saw above?"
      ]
    },
    {
      "cell_type": "markdown",
      "metadata": {
        "execution": {},
        "id": "5MvuWV94V8eW"
      },
      "source": [
        "[*Click for solution*](https://github.com/NeuromatchAcademy/course-content/tree/main//tutorials/W1D1_ModelTypes/solutions/W1D1_Tutorial1_Solution_b01195c9.py)\n",
        "\n"
      ]
    },
    {
      "cell_type": "code",
      "execution_count": 53,
      "metadata": {
        "cellView": "form",
        "execution": {},
        "colab": {
          "base_uri": "https://localhost:8080/",
          "height": 581,
          "referenced_widgets": [
            "81f4127a06374b64b66a667993716c7f",
            "4b1e3daddd4f4308b7a58bf18d62ed9b",
            "dc2a783135c1456792a877d99f686fbc",
            "15712df3afa84046ab1bb36656ca90d2",
            "b7d453ba6fa84cdfab7099f0f8a5069a",
            "4a1eb8c4ded24bf983d793a75e7276b6"
          ]
        },
        "id": "OdcypaJPV8eW",
        "outputId": "ff916efc-8737-445d-eb1d-250864b669c4"
      },
      "outputs": [
        {
          "output_type": "display_data",
          "data": {
            "text/plain": [
              "Tab(children=(Output(), Output()), _titles={'0': 'Youtube', '1': 'Bilibili'})"
            ],
            "application/vnd.jupyter.widget-view+json": {
              "version_major": 2,
              "version_minor": 0,
              "model_id": "81f4127a06374b64b66a667993716c7f"
            }
          },
          "metadata": {}
        }
      ],
      "source": [
        "# @title Video 3: Visualizing activity\n",
        "from ipywidgets import widgets\n",
        "\n",
        "out2 = widgets.Output()\n",
        "with out2:\n",
        "  from IPython.display import IFrame\n",
        "  class BiliVideo(IFrame):\n",
        "      def __init__(self, id, page=1, width=400, height=300, **kwargs):\n",
        "          self.id=id\n",
        "          src = 'https://player.bilibili.com/player.html?bvid={0}&page={1}'.format(id, page)\n",
        "          super(BiliVideo, self).__init__(src, width, height, **kwargs)\n",
        "\n",
        "  video = BiliVideo(id=\"BV1dt4y1Q7C5\", width=854, height=480, fs=1)\n",
        "  print('Video available at https://www.bilibili.com/video/{0}'.format(video.id))\n",
        "  display(video)\n",
        "\n",
        "out1 = widgets.Output()\n",
        "with out1:\n",
        "  from IPython.display import YouTubeVideo\n",
        "  video = YouTubeVideo(id=\"QGA5FCW7kkA\", width=854, height=480, fs=1, rel=0)\n",
        "  print('Video available at https://youtube.com/watch?v=' + video.id)\n",
        "  display(video)\n",
        "\n",
        "out = widgets.Tab([out1, out2])\n",
        "out.set_title(0, 'Youtube')\n",
        "out.set_title(1, 'Bilibili')\n",
        "\n",
        "display(out)"
      ]
    },
    {
      "cell_type": "markdown",
      "metadata": {
        "execution": {},
        "id": "YXp6kPqbV8eX"
      },
      "source": [
        "---\n",
        "\n",
        "# Section 3: Inter-spike intervals and their distributions\n",
        "\n",
        "*Estimated timing to here from start of tutorial: 25 min*"
      ]
    },
    {
      "cell_type": "markdown",
      "metadata": {
        "execution": {},
        "id": "O8rTRbinV8eX"
      },
      "source": [
        "Given the ordered arrays of spike times for each neuron in `spike_times`, which we've just visualized, what can we ask next?\n",
        "\n",
        "Scientific questions are informed by existing models. So, what knowledge do we already have that can inform questions about this data?\n",
        "\n",
        "We know that there are physical constraints on neuron spiking. Spiking costs energy, which the neuron's cellular machinery can only obtain at a finite rate. Therefore neurons should have a refractory period: they can only fire as quickly as their metabolic processes can support, and there is a minimum delay between consecutive spikes of the same neuron.\n",
        "\n",
        "More generally, we can ask \"how long does a neuron wait to spike again?\" or \"what is the longest a neuron will wait?\" Can we transform spike times into something else, to address questions like these more directly?\n",
        "\n",
        "We can consider the inter-spike times (or interspike intervals: ISIs). These are simply the time differences between consecutive spikes of the same neuron.\n",
        "\n",
        "### Exercise 3: Plot the distribution of ISIs for a single neuron\n",
        "\n",
        "*Exercise objective:* make a histogram, like we did for spike counts, to show the distribution of ISIs for one of the neurons in the dataset.\n",
        "\n",
        "Do this in three steps:\n",
        "\n",
        "1. Extract the spike times for one of the neurons\n",
        "2. Compute the ISIs (the amount of time between spikes, or equivalently, the difference between adjacent spike times)\n",
        "3. Plot a histogram with the array of individual ISIs"
      ]
    },
    {
      "cell_type": "code",
      "execution_count": 56,
      "metadata": {
        "execution": {},
        "pycharm": {
          "name": "#%%\n"
        },
        "colab": {
          "base_uri": "https://localhost:8080/",
          "height": 430
        },
        "id": "6fHPAvUrV8eX",
        "outputId": "66b2ccde-abc2-49e2-8c70-bd253c1ed1a9"
      },
      "outputs": [
        {
          "output_type": "display_data",
          "data": {
            "text/plain": [
              "<Figure size 576x432 with 1 Axes>"
            ],
            "image/png": "[encoded data removed]"
          },
          "metadata": {
            "image/png": {
              "width": 558,
              "height": 413
            },
            "needs_background": "light"
          }
        }
      ],
      "source": [
        "def compute_single_neuron_isis(spike_times, neuron_idx):\n",
        "  \"\"\"Compute a vector of ISIs for a single neuron given spike times.\n",
        "\n",
        "  Args:\n",
        "    spike_times (list of 1D arrays): Spike time dataset, with the first\n",
        "      dimension corresponding to different neurons.\n",
        "    neuron_idx (int): Index of the unit to compute ISIs for.\n",
        "\n",
        "  Returns:\n",
        "    isis (1D array): Duration of time between each spike from one neuron.\n",
        "  \"\"\"\n",
        "  #############################################################################\n",
        "  # Students: Fill in missing code (...) and comment or remove the next line\n",
        "  #raise NotImplementedError(\"Exercise: compute single neuron ISIs\")\n",
        "  #############################################################################\n",
        "\n",
        "  # Extract the spike times for the specified neuron\n",
        "  single_neuron_spikes = spike_times[neuron_idx]\n",
        "\n",
        "  # Compute the ISIs for this set of spikes\n",
        "  # Hint: the function np.diff computes discrete differences along an array\n",
        "  isis = np.diff(single_neuron_spikes)\n",
        "\n",
        "  return isis\n",
        "\n",
        "# Compute ISIs\n",
        "single_neuron_isis = compute_single_neuron_isis(spike_times, neuron_idx=550)\n",
        "\n",
        "# Visualize ISIs\n",
        "plot_isis(single_neuron_isis)"
      ]
    },
    {
      "cell_type": "code",
      "source": [
        "# Compute ISIs\n",
        "single_neuron_isis = compute_single_neuron_isis(spike_times, neuron_idx=550)\n",
        "\n",
        "# Visualize ISIs\n",
        "plot_isis(single_neuron_isis)"
      ],
      "metadata": {
        "id": "dGCfP0tm-FyK",
        "outputId": "d8fc2bf4-1630-4520-e0e9-fb798936d211",
        "colab": {
          "base_uri": "https://localhost:8080/",
          "height": 430
        }
      },
      "execution_count": 57,
      "outputs": [
        {
          "output_type": "display_data",
          "data": {
            "text/plain": [
              "<Figure size 576x432 with 1 Axes>"
            ],
            "image/png": "[encoded data removed]"
          },
          "metadata": {
            "image/png": {
              "width": 558,
              "height": 413
            },
            "needs_background": "light"
          }
        }
      ]
    },
    {
      "cell_type": "markdown",
      "metadata": {
        "execution": {},
        "pycharm": {
          "name": "#%%\n"
        },
        "id": "HWNkdK9NV8eX"
      },
      "source": [
        "[*Click for solution*](https://github.com/NeuromatchAcademy/course-content/tree/main//tutorials/W1D1_ModelTypes/solutions/W1D1_Tutorial1_Solution_2972c168.py)\n",
        "\n",
        "*Example output:*\n",
        "\n",
        "<img alt='Solution hint' align='left' width=1116.0 height=828.0 src=https://raw.githubusercontent.com/NeuromatchAcademy/course-content/main/tutorials/W1D1_ModelTypes/static/W1D1_Tutorial1_Solution_2972c168_0.png>\n",
        "\n"
      ]
    },
    {
      "cell_type": "code",
      "source": [
        ""
      ],
      "metadata": {
        "id": "Qmh0h8Hi-Emx"
      },
      "execution_count": null,
      "outputs": []
    },
    {
      "cell_type": "markdown",
      "metadata": {
        "execution": {},
        "id": "u83qwVyYV8eY"
      },
      "source": [
        "---\n",
        "\n",
        "In general, the shorter ISIs are predominant, with counts decreasing rapidly (and smoothly, more or less) with increasing ISI. However, counts also rapidly decrease to zero with _decreasing_ ISI below the maximum of the distribution (8-11 ms). The absence of these very low ISIs agrees with the refractory period hypothesis: the neuron cannot fire quickly enough to populate this region of the ISI distribution.\n",
        "\n",
        "Check the distributions of some other neurons. To resolve various features of the distributions, you might need to play with the value of `bins` in the call to `plt.hist`. Using too few bins might smooth over interesting details, but if you use too many bins, the random variability will start to dominate.\n",
        "\n",
        "You might also want to restrict the range to see the shape of the distribution when focusing on relatively short or long ISIs. *Hint:* `plt.hist` takes a `range` argument"
      ]
    },
    {
      "cell_type": "markdown",
      "metadata": {
        "execution": {},
        "id": "2RePEfr5V8eY"
      },
      "source": [
        "---\n",
        "\n",
        "# Section 4: What is the functional form of an ISI distribution?\n",
        "\n",
        "*Estimated timing to here from start of tutorial: 35 min*"
      ]
    },
    {
      "cell_type": "code",
      "execution_count": 58,
      "metadata": {
        "execution": {},
        "colab": {
          "base_uri": "https://localhost:8080/",
          "height": 581,
          "referenced_widgets": [
            "c927700aab0a4fec9362f1011297033b",
            "c4cf32acc6114acba479b4da30f18215",
            "70e2092bf4ed4e30ae3f3aa2602043fd",
            "1ad23488fda44b22b1892749ffd24c17",
            "8e9a27fa61c645c5b3e805a6199af3ac",
            "06f940a2c8164c019967aba1f10b32b6"
          ]
        },
        "id": "YDfCykO5V8eY",
        "outputId": "9d526cbd-43f6-4cb9-ec80-dfbb08642636"
      },
      "outputs": [
        {
          "output_type": "display_data",
          "data": {
            "text/plain": [
              "Tab(children=(Output(), Output()), _titles={'0': 'Youtube', '1': 'Bilibili'})"
            ],
            "application/vnd.jupyter.widget-view+json": {
              "version_major": 2,
              "version_minor": 0,
              "model_id": "c927700aab0a4fec9362f1011297033b"
            }
          },
          "metadata": {}
        }
      ],
      "source": [
        "# @title Video 4: ISI distribution\n",
        "from ipywidgets import widgets\n",
        "\n",
        "out2 = widgets.Output()\n",
        "with out2:\n",
        "  from IPython.display import IFrame\n",
        "  class BiliVideo(IFrame):\n",
        "      def __init__(self, id, page=1, width=400, height=300, **kwargs):\n",
        "          self.id=id\n",
        "          src = 'https://player.bilibili.com/player.html?bvid={0}&page={1}'.format(id, page)\n",
        "          super(BiliVideo, self).__init__(src, width, height, **kwargs)\n",
        "\n",
        "  video = BiliVideo(id=\"BV1ov411B7Pm\", width=854, height=480, fs=1)\n",
        "  print('Video available at https://www.bilibili.com/video/{0}'.format(video.id))\n",
        "  display(video)\n",
        "\n",
        "out1 = widgets.Output()\n",
        "with out1:\n",
        "  from IPython.display import YouTubeVideo\n",
        "  video = YouTubeVideo(id=\"DHhM80MOTe8\", width=854, height=480, fs=1, rel=0)\n",
        "  print('Video available at https://youtube.com/watch?v=' + video.id)\n",
        "  display(video)\n",
        "\n",
        "out = widgets.Tab([out1, out2])\n",
        "out.set_title(0, 'Youtube')\n",
        "out.set_title(1, 'Bilibili')\n",
        "\n",
        "display(out)"
      ]
    },
    {
      "cell_type": "markdown",
      "metadata": {
        "execution": {},
        "id": "N1FWme9GV8eY"
      },
      "source": [
        "The ISI histograms seem to follow continuous, monotonically decreasing functions above their maxima. The function is clearly non-linear. Could it belong to a single family of functions?\n",
        "\n",
        "To motivate the idea of using a mathematical function to explain physiological phenomena, let's define a few different function forms that we might expect the relationship to follow: exponential, inverse, and linear."
      ]
    },
    {
      "cell_type": "code",
      "execution_count": 59,
      "metadata": {
        "execution": {},
        "pycharm": {
          "name": "#%%\n"
        },
        "id": "eKMQqg-zV8eY"
      },
      "outputs": [],
      "source": [
        "def exponential(xs, scale, rate, x0):\n",
        "  \"\"\"A simple parameterized exponential function, applied element-wise.\n",
        "\n",
        "  Args:\n",
        "    xs (np.ndarray or float): Input(s) to the function.\n",
        "    scale (float): Linear scaling factor.\n",
        "    rate (float): Exponential growth (positive) or decay (negative) rate.\n",
        "    x0 (float): Horizontal offset.\n",
        "\n",
        "  \"\"\"\n",
        "  ys = scale * np.exp(rate * (xs - x0))\n",
        "  return ys\n",
        "\n",
        "def inverse(xs, scale, x0):\n",
        "  \"\"\"A simple parameterized inverse function (`1/x`), applied element-wise.\n",
        "\n",
        "  Args:\n",
        "    xs (np.ndarray or float): Input(s) to the function.\n",
        "    scale (float): Linear scaling factor.\n",
        "    x0 (float): Horizontal offset.\n",
        "\n",
        "  \"\"\"\n",
        "  ys = scale / (xs - x0)\n",
        "  return ys\n",
        "\n",
        "def linear(xs, slope, y0):\n",
        "  \"\"\"A simple linear function, applied element-wise.\n",
        "\n",
        "  Args:\n",
        "    xs (np.ndarray or float): Input(s) to the function.\n",
        "    slope (float): Slope of the line.\n",
        "    y0 (float): y-intercept of the line.\n",
        "\n",
        "  \"\"\"\n",
        "  ys = slope * xs + y0\n",
        "  return ys"
      ]
    },
    {
      "cell_type": "markdown",
      "metadata": {
        "execution": {},
        "id": "kkP-pyunV8eZ"
      },
      "source": [
        "### Interactive Demo 4: ISI functions explorer\n",
        "\n",
        "Here is an interactive demo where you can vary the parameters of these functions and see how well the resulting outputs correspond to the data. Adjust the parameters by moving the sliders and see how close you can get the lines to follow the falling curve of the histogram. This will give you a taste of what you're trying to do when you *fit a model* to data.\n",
        "\n",
        "\"Interactive demo\" cells have hidden code that defines an interface where you can play with the parameters of some function using sliders. You don't need to worry about how the code works – but you do need to **run the cell** to enable the sliders.\n",
        "\n",
        "- Which type of function (exponential/inverse/linear) can you make match the data best?\n"
      ]
    },
    {
      "cell_type": "code",
      "execution_count": 61,
      "metadata": {
        "cellView": "form",
        "execution": {},
        "pycharm": {
          "name": "#%%\n"
        },
        "colab": {
          "base_uri": "https://localhost:8080/",
          "height": 654,
          "referenced_widgets": [
            "df41d2c7a2974da1a7813e183f6654dc",
            "1ad1493638784c9e86125b920368e12d",
            "aef09cca53fb43c08e388c6bb3a2957a",
            "0ed66cba61b04ca3b24cb54a85d297cf",
            "9e59f32cdcdb4bea803d494a21af25fa",
            "c9577b6079ac430dbede04c2b46fff37",
            "9f48e47a8a324e1ca54c9205d2127bdc",
            "f8a0adec6fa642b785d410b9f66318ea",
            "222d278a416e459d9cdfa50d1cb70e76",
            "af4ded07d70e432f90e7814c8c70e4b2",
            "2c600e84965a489cbe6927a1633716d8",
            "bf4e2c6db38345a08f09a588dd19cdaf",
            "baebdfc35e394b8391de882ffbfd3d10",
            "abd26ed2342f4bea9941c172eba00981",
            "07f23b05799641e8a75efd1140d3fd07",
            "f9100e0eabc04d26bd76f92fc2125154",
            "87d87457bf0e4e319b90e3571fff4b63",
            "fd1b180235734007bbbb2c403e2d685c",
            "b0823a3c7584455fb03db1f7ce5c85c3",
            "7561d63e91c242a98322882ab7c6440d",
            "779d9de12e9540d4bcae4e7c5ad5fde6",
            "2763b9a0d4bb46048e7c979c35467e33",
            "fb26fb5243c2455e995f7e69ed76c178",
            "5cb3c125bd7448068bfd73442fc596c9",
            "d7cbd4e1739548f9bf8f5d04369b260d"
          ]
        },
        "id": "oUmrxMM8V8eZ",
        "outputId": "90f8e2cf-13fc-4add-bb86-c7d6ae49c056"
      },
      "outputs": [
        {
          "output_type": "display_data",
          "data": {
            "text/plain": [
              "interactive(children=(FloatSlider(value=1000.0, description='exp_scale', max=20000.0, step=250.0), FloatSlider…"
            ],
            "application/vnd.jupyter.widget-view+json": {
              "version_major": 2,
              "version_minor": 0,
              "model_id": "df41d2c7a2974da1a7813e183f6654dc"
            }
          },
          "metadata": {}
        }
      ],
      "source": [
        "#@title\n",
        "\n",
        "#@markdown Be sure to run this cell to enable the demo\n",
        "# Don't worry about understanding this code! It's to setup an interactive plot.\n",
        "single_neuron_idx = 283\n",
        "single_neuron_spikes = spike_times[single_neuron_idx]\n",
        "single_neuron_isis = np.diff(single_neuron_spikes)\n",
        "\n",
        "counts, edges = np.histogram(\n",
        "  single_neuron_isis,\n",
        "  bins=50,\n",
        "  range=(0, single_neuron_isis.max())\n",
        ")\n",
        "\n",
        "functions = dict(\n",
        "  exponential=exponential,\n",
        "  inverse=inverse,\n",
        "  linear=linear,\n",
        ")\n",
        "\n",
        "colors = dict(\n",
        "  exponential=\"C1\",\n",
        "  inverse=\"C2\",\n",
        "  linear=\"C4\",\n",
        ")\n",
        "\n",
        "@widgets.interact(\n",
        "  exp_scale=widgets.FloatSlider(1000, min=0, max=20000, step=250),\n",
        "  exp_rate=widgets.FloatSlider(-10, min=-200, max=50, step=1),\n",
        "  exp_x0=widgets.FloatSlider(0.1, min=-0.5, max=0.5, step=0.005),\n",
        "  inv_scale=widgets.FloatSlider(1000, min=0, max=3e2, step=10),\n",
        "  inv_x0=widgets.FloatSlider(0, min=-0.2, max=0.2, step=0.01),\n",
        "  lin_slope=widgets.FloatSlider(-1e5, min=-6e5, max=1e5, step=10000),\n",
        "  lin_y0=widgets.FloatSlider(10000, min=0, max=4e4, step=1000),\n",
        ")\n",
        "def fit_plot(\n",
        "  exp_scale=1000, exp_rate=-10, exp_x0=0.1,\n",
        "  inv_scale=1000, inv_x0=0,\n",
        "  lin_slope=-1e5, lin_y0=2000,\n",
        "):\n",
        "  \"\"\"Helper function for plotting function fits with interactive sliders.\"\"\"\n",
        "  func_params = dict(\n",
        "    exponential=(exp_scale, exp_rate, exp_x0),\n",
        "    inverse=(inv_scale, inv_x0),\n",
        "    linear=(lin_slope, lin_y0),\n",
        "  )\n",
        "  f, ax = plt.subplots()\n",
        "  ax.fill_between(edges[:-1], counts, step=\"post\", alpha=.5)\n",
        "  xs = np.linspace(1e-10, edges.max())\n",
        "  for name, function in functions.items():\n",
        "    ys = function(xs, *func_params[name])\n",
        "    ax.plot(xs, ys, lw=3, color=colors[name], label=name);\n",
        "  ax.set(\n",
        "      xlim=(edges.min(), edges.max()),\n",
        "      ylim=(0, counts.max() * 1.1),\n",
        "      xlabel=\"ISI (s)\",\n",
        "      ylabel=\"Number of spikes\",\n",
        "  )\n",
        "  ax.legend()"
      ]
    },
    {
      "cell_type": "markdown",
      "metadata": {
        "execution": {},
        "id": "h4rIrjZUV8eZ"
      },
      "source": [
        "[*Click for solution*](https://github.com/NeuromatchAcademy/course-content/tree/main//tutorials/W1D1_ModelTypes/solutions/W1D1_Tutorial1_Solution_b6cd7761.py)\n",
        "\n"
      ]
    },
    {
      "cell_type": "code",
      "execution_count": 62,
      "metadata": {
        "cellView": "form",
        "execution": {},
        "colab": {
          "base_uri": "https://localhost:8080/",
          "height": 581,
          "referenced_widgets": [
            "c1910bb77f7e4b14ae38710692e3e6a5",
            "7700010f35464173a15d3a20ddfca8a5",
            "e0b2d56ea45c4e048c3f436aaebe9eb3",
            "5ef9d0f6e04142e48f87d7f9700b87d8",
            "c2d7dfeb8eb54e01b4cf8504d7cd9925",
            "0ecab0fde61247558a024b3c4b834b55"
          ]
        },
        "id": "ffJA7U-DV8eZ",
        "outputId": "f5b3c707-f7b6-4644-ba00-1b3c3e16f639"
      },
      "outputs": [
        {
          "output_type": "display_data",
          "data": {
            "text/plain": [
              "Tab(children=(Output(), Output()), _titles={'0': 'Youtube', '1': 'Bilibili'})"
            ],
            "application/vnd.jupyter.widget-view+json": {
              "version_major": 2,
              "version_minor": 0,
              "model_id": "c1910bb77f7e4b14ae38710692e3e6a5"
            }
          },
          "metadata": {}
        }
      ],
      "source": [
        "# @title Video 5: Fitting models by hand\n",
        "from ipywidgets import widgets\n",
        "\n",
        "out2 = widgets.Output()\n",
        "with out2:\n",
        "  from IPython.display import IFrame\n",
        "  class BiliVideo(IFrame):\n",
        "      def __init__(self, id, page=1, width=400, height=300, **kwargs):\n",
        "          self.id=id\n",
        "          src = 'https://player.bilibili.com/player.html?bvid={0}&page={1}'.format(id, page)\n",
        "          super(BiliVideo, self).__init__(src, width, height, **kwargs)\n",
        "\n",
        "  video = BiliVideo(id=\"BV1w54y1S7Eb\", width=854, height=480, fs=1)\n",
        "  print('Video available at https://www.bilibili.com/video/{0}'.format(video.id))\n",
        "  display(video)\n",
        "\n",
        "out1 = widgets.Output()\n",
        "with out1:\n",
        "  from IPython.display import YouTubeVideo\n",
        "  video = YouTubeVideo(id=\"uW2HDk_4-wk\", width=854, height=480, fs=1, rel=0)\n",
        "  print('Video available at https://youtube.com/watch?v=' + video.id)\n",
        "  display(video)\n",
        "\n",
        "out = widgets.Tab([out1, out2])\n",
        "out.set_title(0, 'Youtube')\n",
        "out.set_title(1, 'Bilibili')\n",
        "\n",
        "display(out)"
      ]
    },
    {
      "cell_type": "markdown",
      "metadata": {
        "execution": {},
        "id": "VSR-QGJoV8ea"
      },
      "source": [
        "---\n",
        "# Section 5: Reflecting on what models\n",
        "\n",
        "*Estimated timing to here from start of tutorial: 40 min*"
      ]
    },
    {
      "cell_type": "markdown",
      "metadata": {
        "execution": {},
        "id": "e7N9odLpV8ea"
      },
      "source": [
        "## Think! 5: Reflecting on what models\n",
        "\n",
        "Please discuss the following questions for around 10 minutes with your group:\n",
        "- Have you seen what models before?\n",
        "- Have you ever done one?\n",
        "- Why are what models useful?\n",
        "- When are they possible? Does your field have what models?\n",
        "- What do we learn from constructing them?"
      ]
    },
    {
      "cell_type": "markdown",
      "metadata": {
        "execution": {},
        "id": "0fQXA6enV8ea"
      },
      "source": [
        "---\n",
        "# Summary\n",
        "\n",
        "*Estimated timing of tutorial: 50 minutes*\n",
        "\n",
        "In this tutorial, we loaded some neural data and poked at it to understand how the dataset is organized. Then we made some basic plots to visualize (1) the average level of activity across the population and (2) the distribution of ISIs for an individual neuron. In the very last bit, we started to think about using mathematical formalisms to understand or explain some physiological phenomenon. All of this only allowed us to understand \"What\" the data looks like.\n",
        "\n",
        "This is the first step towards developing models that can tell us something about the brain. That's what we'll focus on in the next two tutorials."
      ]
    }
  ],
  "metadata": {
    "colab": {
      "collapsed_sections": [],
      "name": "W1D1_Tutorial1",
      "provenance": [],
      "toc_visible": true,
      "include_colab_link": true
    },
    "kernel": {
      "display_name": "Python 3",
      "language": "python",
      "name": "python3"
    },
    "kernelspec": {
      "display_name": "Python 3",
      "name": "python3"
    },
    "language_info": {
      "codemirror_mode": {
        "name": "ipython",
        "version": 3
      },
      "file_extension": ".py",
      "mimetype": "text/x-python",
      "name": "python",
      "nbconvert_exporter": "python",
      "pygments_lexer": "ipython3",
      "version": "3.7.13"
    },
    "widgets": {
      "application/vnd.jupyter.widget-state+json": {
        "6fa87f27b4da46eba3405873bea2a057": {
          "model_module": "@jupyter-widgets/controls",
          "model_name": "TabModel",
          "model_module_version": "1.5.0",
          "state": {
            "_dom_classes": [],
            "_model_module": "@jupyter-widgets/controls",
            "_model_module_version": "1.5.0",
            "_model_name": "TabModel",
            "_titles": {
              "0": "Youtube",
              "1": "Bilibili"
            },
            "_view_count": null,
            "_view_module": "@jupyter-widgets/controls",
            "_view_module_version": "1.5.0",
            "_view_name": "TabView",
            "box_style": "",
            "children": [
              "IPY_MODEL_1b183fb3f9fc466da31c2c53bcb5e7e6",
              "IPY_MODEL_b0810c7d66e44939a7484f19f63c8046"
            ],
            "layout": "IPY_MODEL_e831faff66de4429a29b063e5039dbeb",
            "selected_index": 0
          }
        },
        "1b183fb3f9fc466da31c2c53bcb5e7e6": {
          "model_module": "@jupyter-widgets/output",
          "model_name": "OutputModel",
          "model_module_version": "1.0.0",
          "state": {
            "_dom_classes": [],
            "_model_module": "@jupyter-widgets/output",
            "_model_module_version": "1.0.0",
            "_model_name": "OutputModel",
            "_view_count": null,
            "_view_module": "@jupyter-widgets/output",
            "_view_module_version": "1.0.0",
            "_view_name": "OutputView",
            "layout": "IPY_MODEL_220d0d13e4684e328a34e5826b6d8fb6",
            "msg_id": "",
            "outputs": [
              {
                "output_type": "stream",
                "name": "stdout",
                "text": [
                  "Video available at https://youtube.com/watch?v=KgqR_jbjMQg\n"
                ]
              },
              {
                "output_type": "display_data",
                "data": {
                  "text/plain": "<IPython.lib.display.YouTubeVideo at 0x7f0aaca82a90>",
                  "text/html": "\n        <iframe\n            width=\"854\"\n            height=\"480\"\n            src=\"https://www.youtube.com/embed/KgqR_jbjMQg?fs=1&rel=0\"\n            frameborder=\"0\"\n            allowfullscreen\n        ></iframe>\n        ",
                  "image/jpeg": "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\n"
                },
                "metadata": {}
              }
            ]
          }
        },
        "b0810c7d66e44939a7484f19f63c8046": {
          "model_module": "@jupyter-widgets/output",
          "model_name": "OutputModel",
          "model_module_version": "1.0.0",
          "state": {
            "_dom_classes": [],
            "_model_module": "@jupyter-widgets/output",
            "_model_module_version": "1.0.0",
            "_model_name": "OutputModel",
            "_view_count": null,
            "_view_module": "@jupyter-widgets/output",
            "_view_module_version": "1.0.0",
            "_view_name": "OutputView",
            "layout": "IPY_MODEL_154161b3e0ee40cfbff925d5e69e3996",
            "msg_id": "",
            "outputs": [
              {
                "output_type": "stream",
                "name": "stdout",
                "text": [
                  "Video available at https://www.bilibili.com/video/BV1mz4y1X7ot\n"
                ]
              },
              {
                "output_type": "display_data",
                "data": {
                  "text/plain": "<__main__.BiliVideo at 0x7f0aacb1eb10>",
                  "text/html": "\n        <iframe\n            width=\"854\"\n            height=\"480\"\n            src=\"https://player.bilibili.com/player.html?bvid=BV1mz4y1X7ot&page=1?fs=1\"\n            frameborder=\"0\"\n            allowfullscreen\n        ></iframe>\n        "
                },
                "metadata": {}
              }
            ]
          }
        },
        "e831faff66de4429a29b063e5039dbeb": {
          "model_module": "@jupyter-widgets/base",
          "model_name": "LayoutModel",
          "model_module_version": "1.2.0",
          "state": {
            "_model_module": "@jupyter-widgets/base",
            "_model_module_version": "1.2.0",
            "_model_name": "LayoutModel",
            "_view_count": null,
            "_view_module": "@jupyter-widgets/base",
            "_view_module_version": "1.2.0",
            "_view_name": "LayoutView",
            "align_content": null,
            "align_items": null,
            "align_self": null,
            "border": null,
            "bottom": null,
            "display": null,
            "flex": null,
            "flex_flow": null,
            "grid_area": null,
            "grid_auto_columns": null,
            "grid_auto_flow": null,
            "grid_auto_rows": null,
            "grid_column": null,
            "grid_gap": null,
            "grid_row": null,
            "grid_template_areas": null,
            "grid_template_columns": null,
            "grid_template_rows": null,
            "height": null,
            "justify_content": null,
            "justify_items": null,
            "left": null,
            "margin": null,
            "max_height": null,
            "max_width": null,
            "min_height": null,
            "min_width": null,
            "object_fit": null,
            "object_position": null,
            "order": null,
            "overflow": null,
            "overflow_x": null,
            "overflow_y": null,
            "padding": null,
            "right": null,
            "top": null,
            "visibility": null,
            "width": null
          }
        },
        "220d0d13e4684e328a34e5826b6d8fb6": {
          "model_module": "@jupyter-widgets/base",
          "model_name": "LayoutModel",
          "model_module_version": "1.2.0",
          "state": {
            "_model_module": "@jupyter-widgets/base",
            "_model_module_version": "1.2.0",
            "_model_name": "LayoutModel",
            "_view_count": null,
            "_view_module": "@jupyter-widgets/base",
            "_view_module_version": "1.2.0",
            "_view_name": "LayoutView",
            "align_content": null,
            "align_items": null,
            "align_self": null,
            "border": null,
            "bottom": null,
            "display": null,
            "flex": null,
            "flex_flow": null,
            "grid_area": null,
            "grid_auto_columns": null,
            "grid_auto_flow": null,
            "grid_auto_rows": null,
            "grid_column": null,
            "grid_gap": null,
            "grid_row": null,
            "grid_template_areas": null,
            "grid_template_columns": null,
            "grid_template_rows": null,
            "height": null,
            "justify_content": null,
            "justify_items": null,
            "left": null,
            "margin": null,
            "max_height": null,
            "max_width": null,
            "min_height": null,
            "min_width": null,
            "object_fit": null,
            "object_position": null,
            "order": null,
            "overflow": null,
            "overflow_x": null,
            "overflow_y": null,
            "padding": null,
            "right": null,
            "top": null,
            "visibility": null,
            "width": null
          }
        },
        "154161b3e0ee40cfbff925d5e69e3996": {
          "model_module": "@jupyter-widgets/base",
          "model_name": "LayoutModel",
          "model_module_version": "1.2.0",
          "state": {
            "_model_module": "@jupyter-widgets/base",
            "_model_module_version": "1.2.0",
            "_model_name": "LayoutModel",
            "_view_count": null,
            "_view_module": "@jupyter-widgets/base",
            "_view_module_version": "1.2.0",
            "_view_name": "LayoutView",
            "align_content": null,
            "align_items": null,
            "align_self": null,
            "border": null,
            "bottom": null,
            "display": null,
            "flex": null,
            "flex_flow": null,
            "grid_area": null,
            "grid_auto_columns": null,
            "grid_auto_flow": null,
            "grid_auto_rows": null,
            "grid_column": null,
            "grid_gap": null,
            "grid_row": null,
            "grid_template_areas": null,
            "grid_template_columns": null,
            "grid_template_rows": null,
            "height": null,
            "justify_content": null,
            "justify_items": null,
            "left": null,
            "margin": null,
            "max_height": null,
            "max_width": null,
            "min_height": null,
            "min_width": null,
            "object_fit": null,
            "object_position": null,
            "order": null,
            "overflow": null,
            "overflow_x": null,
            "overflow_y": null,
            "padding": null,
            "right": null,
            "top": null,
            "visibility": null,
            "width": null
          }
        },
        "e290205af1f047d6ab3e7a20489a89a8": {
          "model_module": "@jupyter-widgets/controls",
          "model_name": "TabModel",
          "model_module_version": "1.5.0",
          "state": {
            "_dom_classes": [],
            "_model_module": "@jupyter-widgets/controls",
            "_model_module_version": "1.5.0",
            "_model_name": "TabModel",
            "_titles": {
              "0": "Youtube",
              "1": "Bilibili"
            },
            "_view_count": null,
            "_view_module": "@jupyter-widgets/controls",
            "_view_module_version": "1.5.0",
            "_view_name": "TabView",
            "box_style": "",
            "children": [
              "IPY_MODEL_55f8717b024e4a56a8aa5fd83effd047",
              "IPY_MODEL_641d23cf4ddb4bc0bbf0b7807a38c6ed"
            ],
            "layout": "IPY_MODEL_86dfbdc01e8d42689b5917d0f43a746e",
            "selected_index": 0
          }
        },
        "55f8717b024e4a56a8aa5fd83effd047": {
          "model_module": "@jupyter-widgets/output",
          "model_name": "OutputModel",
          "model_module_version": "1.0.0",
          "state": {
            "_dom_classes": [],
            "_model_module": "@jupyter-widgets/output",
            "_model_module_version": "1.0.0",
            "_model_name": "OutputModel",
            "_view_count": null,
            "_view_module": "@jupyter-widgets/output",
            "_view_module_version": "1.0.0",
            "_view_name": "OutputView",
            "layout": "IPY_MODEL_33505ffa3a4f42bd944aa8e06015faa2",
            "msg_id": "",
            "outputs": [
              {
                "output_type": "stream",
                "name": "stdout",
                "text": [
                  "Video available at https://youtube.com/watch?v=oHwYWUI_o1U\n"
                ]
              },
              {
                "output_type": "display_data",
                "data": {
                  "text/plain": "<IPython.lib.display.YouTubeVideo at 0x7f0aa838fed0>",
                  "text/html": "\n        <iframe\n            width=\"854\"\n            height=\"480\"\n            src=\"https://www.youtube.com/embed/oHwYWUI_o1U?fs=1&rel=0\"\n            frameborder=\"0\"\n            allowfullscreen\n        ></iframe>\n        ",
                  "image/jpeg": "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\n"
                },
                "metadata": {}
              }
            ]
          }
        },
        "641d23cf4ddb4bc0bbf0b7807a38c6ed": {
          "model_module": "@jupyter-widgets/output",
          "model_name": "OutputModel",
          "model_module_version": "1.0.0",
          "state": {
            "_dom_classes": [],
            "_model_module": "@jupyter-widgets/output",
            "_model_module_version": "1.0.0",
            "_model_name": "OutputModel",
            "_view_count": null,
            "_view_module": "@jupyter-widgets/output",
            "_view_module_version": "1.0.0",
            "_view_name": "OutputView",
            "layout": "IPY_MODEL_afd3d0e13e764ee182af7c7086a8c12e",
            "msg_id": "",
            "outputs": [
              {
                "output_type": "stream",
                "name": "stdout",
                "text": [
                  "Video available at https://www.bilibili.com/video/BV1Hp4y1S7Au\n"
                ]
              },
              {
                "output_type": "display_data",
                "data": {
                  "text/plain": "<__main__.BiliVideo at 0x7f0aa82a0750>",
                  "text/html": "\n        <iframe\n            width=\"854\"\n            height=\"480\"\n            src=\"https://player.bilibili.com/player.html?bvid=BV1Hp4y1S7Au&page=1?fs=1\"\n            frameborder=\"0\"\n            allowfullscreen\n        ></iframe>\n        "
                },
                "metadata": {}
              }
            ]
          }
        },
        "86dfbdc01e8d42689b5917d0f43a746e": {
          "model_module": "@jupyter-widgets/base",
          "model_name": "LayoutModel",
          "model_module_version": "1.2.0",
          "state": {
            "_model_module": "@jupyter-widgets/base",
            "_model_module_version": "1.2.0",
            "_model_name": "LayoutModel",
            "_view_count": null,
            "_view_module": "@jupyter-widgets/base",
            "_view_module_version": "1.2.0",
            "_view_name": "LayoutView",
            "align_content": null,
            "align_items": null,
            "align_self": null,
            "border": null,
            "bottom": null,
            "display": null,
            "flex": null,
            "flex_flow": null,
            "grid_area": null,
            "grid_auto_columns": null,
            "grid_auto_flow": null,
            "grid_auto_rows": null,
            "grid_column": null,
            "grid_gap": null,
            "grid_row": null,
            "grid_template_areas": null,
            "grid_template_columns": null,
            "grid_template_rows": null,
            "height": null,
            "justify_content": null,
            "justify_items": null,
            "left": null,
            "margin": null,
            "max_height": null,
            "max_width": null,
            "min_height": null,
            "min_width": null,
            "object_fit": null,
            "object_position": null,
            "order": null,
            "overflow": null,
            "overflow_x": null,
            "overflow_y": null,
            "padding": null,
            "right": null,
            "top": null,
            "visibility": null,
            "width": null
          }
        },
        "33505ffa3a4f42bd944aa8e06015faa2": {
          "model_module": "@jupyter-widgets/base",
          "model_name": "LayoutModel",
          "model_module_version": "1.2.0",
          "state": {
            "_model_module": "@jupyter-widgets/base",
            "_model_module_version": "1.2.0",
            "_model_name": "LayoutModel",
            "_view_count": null,
            "_view_module": "@jupyter-widgets/base",
            "_view_module_version": "1.2.0",
            "_view_name": "LayoutView",
            "align_content": null,
            "align_items": null,
            "align_self": null,
            "border": null,
            "bottom": null,
            "display": null,
            "flex": null,
            "flex_flow": null,
            "grid_area": null,
            "grid_auto_columns": null,
            "grid_auto_flow": null,
            "grid_auto_rows": null,
            "grid_column": null,
            "grid_gap": null,
            "grid_row": null,
            "grid_template_areas": null,
            "grid_template_columns": null,
            "grid_template_rows": null,
            "height": null,
            "justify_content": null,
            "justify_items": null,
            "left": null,
            "margin": null,
            "max_height": null,
            "max_width": null,
            "min_height": null,
            "min_width": null,
            "object_fit": null,
            "object_position": null,
            "order": null,
            "overflow": null,
            "overflow_x": null,
            "overflow_y": null,
            "padding": null,
            "right": null,
            "top": null,
            "visibility": null,
            "width": null
          }
        },
        "afd3d0e13e764ee182af7c7086a8c12e": {
          "model_module": "@jupyter-widgets/base",
          "model_name": "LayoutModel",
          "model_module_version": "1.2.0",
          "state": {
            "_model_module": "@jupyter-widgets/base",
            "_model_module_version": "1.2.0",
            "_model_name": "LayoutModel",
            "_view_count": null,
            "_view_module": "@jupyter-widgets/base",
            "_view_module_version": "1.2.0",
            "_view_name": "LayoutView",
            "align_content": null,
            "align_items": null,
            "align_self": null,
            "border": null,
            "bottom": null,
            "display": null,
            "flex": null,
            "flex_flow": null,
            "grid_area": null,
            "grid_auto_columns": null,
            "grid_auto_flow": null,
            "grid_auto_rows": null,
            "grid_column": null,
            "grid_gap": null,
            "grid_row": null,
            "grid_template_areas": null,
            "grid_template_columns": null,
            "grid_template_rows": null,
            "height": null,
            "justify_content": null,
            "justify_items": null,
            "left": null,
            "margin": null,
            "max_height": null,
            "max_width": null,
            "min_height": null,
            "min_width": null,
            "object_fit": null,
            "object_position": null,
            "order": null,
            "overflow": null,
            "overflow_x": null,
            "overflow_y": null,
            "padding": null,
            "right": null,
            "top": null,
            "visibility": null,
            "width": null
          }
        },
        "81f4127a06374b64b66a667993716c7f": {
          "model_module": "@jupyter-widgets/controls",
          "model_name": "TabModel",
          "model_module_version": "1.5.0",
          "state": {
            "_dom_classes": [],
            "_model_module": "@jupyter-widgets/controls",
            "_model_module_version": "1.5.0",
            "_model_name": "TabModel",
            "_titles": {
              "0": "Youtube",
              "1": "Bilibili"
            },
            "_view_count": null,
            "_view_module": "@jupyter-widgets/controls",
            "_view_module_version": "1.5.0",
            "_view_name": "TabView",
            "box_style": "",
            "children": [
              "IPY_MODEL_4b1e3daddd4f4308b7a58bf18d62ed9b",
              "IPY_MODEL_dc2a783135c1456792a877d99f686fbc"
            ],
            "layout": "IPY_MODEL_15712df3afa84046ab1bb36656ca90d2",
            "selected_index": 0
          }
        },
        "4b1e3daddd4f4308b7a58bf18d62ed9b": {
          "model_module": "@jupyter-widgets/output",
          "model_name": "OutputModel",
          "model_module_version": "1.0.0",
          "state": {
            "_dom_classes": [],
            "_model_module": "@jupyter-widgets/output",
            "_model_module_version": "1.0.0",
            "_model_name": "OutputModel",
            "_view_count": null,
            "_view_module": "@jupyter-widgets/output",
            "_view_module_version": "1.0.0",
            "_view_name": "OutputView",
            "layout": "IPY_MODEL_b7d453ba6fa84cdfab7099f0f8a5069a",
            "msg_id": "",
            "outputs": [
              {
                "output_type": "stream",
                "name": "stdout",
                "text": [
                  "Video available at https://youtube.com/watch?v=QGA5FCW7kkA\n"
                ]
              },
              {
                "output_type": "display_data",
                "data": {
                  "text/plain": "<IPython.lib.display.YouTubeVideo at 0x7f0a9afc0a50>",
                  "text/html": "\n        <iframe\n            width=\"854\"\n            height=\"480\"\n            src=\"https://www.youtube.com/embed/QGA5FCW7kkA?fs=1&rel=0\"\n            frameborder=\"0\"\n            allowfullscreen\n        ></iframe>\n        ",
                  "image/jpeg": "/9j/4AAQSkZJRgABAQAAAQABAAD/2wCEAAUDBAkICgsICAgICAgKCgoICAgICggICAgICAoICggICAoIChALCAgOCggIDRUNDhERExMTCAsWGBYSGBASExIBBQUFCAcIDwgJDhINDg8SEhISEhISEhISEhISEhISEhISEhISEhISEhISEhISEhISEhISEhISEhISEhISEhISEv/AABEIAWgB4AMBIgACEQEDEQH/xAAdAAEAAgMBAQEBAAAAAAAAAAAABQYEBwgDAgEJ/8QAWhAAAQMCAwMGBgsMBggFBQAAAQACAwQRBRIhBhMxBxYiQVFSCBRhcZLSGCMyM1RVgZGT1OIVNUJzdZShpLGytNEJYnKCwfAkNjdDdLPh8Rc0VoO1JYWio8T/xAAaAQEBAAMBAQAAAAAAAAAAAAAAAQIEBQMG/8QALBEBAAIBAwIDBwUBAAAAAAAAAAECEQMEIRIxBUFRFCJhgbHB8BORodHxI//aAAwDAQACEQMRAD8A4yREQEREBERAREQEREBERAREQEREBERAREQEREBERAREQEREBERAREQEREBERAREQEREBERAREQEREBERAREQEREBERAREQEREBERAREQEREBERAREQEREBERAREQEREBERAREQEREBERAREQEREBERAREQEREBERAREQEREBERAREQEREBERAREQEREBERAREQEREBERART/NSfvw+k/wBROak/fh9J/qIIBFP81J+/D6T/AFE5qT9+H0n+oggEU/zUn78PpP8AUTmpP34fSf6iCART/NSfvw+k/wBROak/fh9J/qIIBFP81J+/D6T/AFE5qT9+H0n+oggEU/zUn78PpP8AUTmpP34fSf6iCART/NSfvw+k/wBROak/fh9J/qIIBFP81J+/D6T/AFE5qT9+H0n+oggEU/zUn78PpP8AUTmpP34fSf6iCART/NSfvw+k/wBROak/fh9J/qIIBFP81J+/D6T/AFE5qT9+H0n+oggEU/zUn78PpP8AUTmpP34fSf6iCART/NSfvw+k/wBROak/fh9J/qIIBFP81J+/D6T/AFE5qT9+H0n+oggEU/zUn78PpP8AUTmpP34fSf6iCART/NSfvw+k/wBROak/fh9J/qIIBFP81J+/D6T/AFE5qT9+H0n+oggEU/zUn78PpP8AUTmpP34fSf6iCART/NSfvw+k/wBROak/fh9J/qIIBFP81J+/D6T/AFE5qT9+H0n+oggEU/zUn78PpP8AUTmpP34fSf6iCART/NSfvw+k/wBROak/fh9J/qIIBFP81J+/D6T/AFE5qT9+H0n+oggEU/zUn78PpP8AUTmpP34fSf6iCART/NSfvw+k/wBROak/fh9J/qIIBFP81J+/D6T/AFE5qT9+H0n+oggEU/zUn78PpP8AUTmpP34fSf6iCART/NSfvw+k/wBROak/fh9J/qIIBFP81J+/D6T/AFE5qT9+H0n+oggEU/zUn78PpP8AUTmpP34fSf6iC5oiLJiIiICIiAiIgIiICIiAiIgIiICIiAiIgIiICIiAiIgIiICIiAiIgIiICIiAiIgIiICIiAiIgIiICIiAiIgIiICIiAiIgIiICIiAiIgIobHMd8VeI91nuwPvny8S4WtlPd/SsDncPg5+k+wouFoRVfncPg5+k+wnO4fBz9J9hDC0IqvzuHwc/SfYTncPg5+k+whhaEVX53D4OfpPsJzuHwc/SfYQwtCKr87h8HP0n2E53D4OfpPsIYWhFV+dw+Dn6T7Cc7h8HP0n2EMLQiq/O4fBz9J9hOdw+Dn6T7CGFoRVfncPg5+k+wnO4fBz9J9hDC0IqvzuHwc/SfYTncPg5+k+whhaEVX53D4OfpPsJzuHwc/SfYQwtCKr87h8HP0n2E53D4OfpPsIYWhFV+dw+Dn6T7Cc7h8HP0n2EMLQiq/O4fBz9J9hOdw+Dn6T7CGFoRVfncPg5+k+wnO4fBz9J9hDC0IqvzuHwc/SfYTncPg5+k+whhaEVX53D4OfpPsJzuHwc/SfYQwtCKr87h8HP0n2E53D4OfpPsIYWhFXKPagSPZHuCM72svvL2zEC9smvFWNAREVQREQEREBERAREQEREBERAREQEREBERAREQEREFM259/b+Kb+/KoBT+3Pv7fxTf35VALFkIiICK6VXJTj8VJ905MGr20AgbVmrMR3IpntD2zlw/3eRwdfsKpaAimtj9lMQxiY0uF0VRXVDY3Tuhp2GR7YWOY10jgODA6Rgv2vHavPavZutwqc0eJUs1HVNa17oJ25JAyQXY4jsIQRKIiAiIgIrzyKcl9dtbWyYdh01HBPFTPrXOrXzRxGKOWnhc1pghkcZM1Sw2LQLB2vAGsbUYPJh1XU4fM6N81JUz0croi50TpaaV8Ujoy9rXGMuYSCWg2IuBwQRqIiAi2ByJck9ftdUzUeGzUUEtPB4zI6ufPGwxmRkdmGCCUl+Z40IAtfVUzHsNfR1E9HKWOkp5paaR0ZcY3Pge6N5YXNBLCWm1wDa2gQYSK67M8k+0GJ08ddQYNX1dJLn3VRDEXxybt74pMpvraSN7T5WlSX/gTtX/6dxP6E/wA0GuEWx/8AwJ2r/wDTuJ/Qn+aoeMYdNRzS0tVE+CogkdDPDIMr4pYyWvY8dTg4EfIgxEREBERAREQEREBERAREQZeD+/w/jY/32rY61xg/v8P42P8AfatjqwkiIiqCIiAi/Y2FxDWgucTYAC5JPAADiVb8E5PqycB72iNl+k0uYJcn4TgHEN0Hlv5Fha9a95wyisz2U9FsvENh6FhayOpLix2abpNLnMtcNabho4gE6/OvMYFTNIiYynvYOdvHPEuugzNadG6g2uPnK8Lbuker1jb2lrhFtNmwtPMLhjDduu4llzBw6w2Xo28/b5LqnbSbMGma6WB5mhY7JK12UTQOJsN61pOl+sdoTS3enqTiJ5L7e9YzKuoiLaeAiIgIiICIiAiIgIiICIiCmbc+/t/FN/flUAp/bn39v4pv78qgFiyEREH9VNgH0tTgmE4PVtztxDZ+Jjo3Wyy07KKhiqYteLiyrGnYHnqX8xdudnZcIr6vDKi5lo6mWlc4tLBJuXua2VrTqGPaGvHG4eOK7R5V9sjgFDsHipNooGUwqbBzr0c+G0kNXZrdXO3EkhA16Qb2LXnh88n8n3bocRoYjKcaZHShseu9xGnMUMYzXygyQy0jW3IvunntsF1/o/8AZ6PDMNqMeqmlsmJ1sGFUF8t3wxyBjnRdeV1RJLmB6sPvbTXT3h7f60z/APCUf/JW9drq2LCMc2M2KpHAxYe6OtqyAAJKgw1EEEht7mVxNdK4W18aadFo/wAOqndNtbLFGLvkp6GNg4Xe+MNaNeGpCDXHJbySY5tKXnCKB88Mbt3NVSOjgpYn2BLDLM4NfIGuaSxmZwD2m1iFadufBo2qwiF1XLhzaunjaXzPoJo6p0TRa7nQi0zmgEkljHABriSBqt8eGJj02x2C4PszgEsmHwysmE9TSvMFS+KiFPnbniAc11RPVPlke0tLjGQbte8HU3ge8quKUmP0dBPX1VTQV8ppJ6apmlnYJJWu3E0IlcRFKJt3dzfdNLgeogOfVs7kr5B9odpIfG8OoQ2iJc1lZVyMpoJXRuyvEOf2ycBwc0uY0tBje0kEWV88IjkvgZtxDhNM3c0uMVFDUZIQG+Lsr5tzWOjB0AEkVTKABYBwAFgrr4ee3VXhc+H7M4TNLhuHwUEdTJFRPfTCRrnzU9NTO3VneLwx0pIZfKTMCQSxpAZ/gbcleM7M7S1DMXonQMlweqEFQxzJ6aYtrcKu1ksRLQ+2uR2V1tbWXL/LT9/sY/K+JfxlQulf6PvlExetxKqwetxCorKFuHyV0TKt76iSCeKooYQIZZSXshLKh9475bgEAG99O02yseN7cz4XP7xUbQ1wqAC5pfTRVlTLURtc0gsc6KKRocOBcD1IMPky8H3aTaGEVlFQNion3MVVWyMpoprW1ha68srNT02sLOiRmuLKvcqXJdjGzMrIsYonU4lzeLzscyamnye63csRLc4uCWOs4BwJAuF2N4VHJ5tfjVXT02z5FLglLTMZHDBWsoGSVBJzufFG9uZkcbYY2Bws3K/LbMb+e1mxOLybAV1DtUBLiWGiWto6l0zKyYxUeSeGUzanebt9VTEk5t2TrrdBrL+jb+++I/k0fxVOueOU777Yl+Ua3+JmXQ/9G3998R/Jo/iqdc8cp332xL8o1v8AEzILLsby57TYPSRYbhuLPpaKDebmBtPQyBm+lkmk6U1O57rySyO1J91bhYLr3wPOUfF8dwfFqvFa59XUU0jmU0hipojE0Uu8ADYImtd09ekCv59rtnwAPvBjn45/8Eg0L7JjbL4+l/NcN+qqFx/k+2jxChm2xqqTxjD6h76upxJk+HkvklqDDLI6mgl3rP8ASCQQIxlsSQALrXS7C8AvHYcVw/F9ja8l8M8MtTAwlxPi1WwUteyMn3vI51NI0N/CmkdoQSg49Vx2z5McZwakpcSxOh8UpK4MdRvfPRulmEkQmaTTxzOnitGWk52NylzQ6xICsnJLyUz1+1MezlXGbUtbK3E7B2TxXD3uNSQdC1kojEbX9tRGdbq1+HZtyMVx40EEgdR4RH4ixrC0x+OOIfXubbVrg8RQOHUaPz3CkYlyE7T076OKTB5TJiJIoGRT0VQ6bKxsj3O8XnduI2se1xfLlaAdSFZNovBZ2toqc1Zw6KpDWl8tPR1EVRVRtDS51ogQZ3C1ssOdxJFgV0p4WXKVX7OYJhTsKMUFZWRCm8fLGSVFLTtgppJmUwkaWtdK5sQLjewj0GbK5mj/AAQeWHGxtDSUFditdiFFiDn008VfUT1mSTdSvgmgM73GGXetYCRo5rnAg2aWhzcto8lvIJtHtHCKugoBHROzBlZWSMpoJS0gHcB/tk7b5hnYwsux4zXFlsfl85NqeflAhwyNoZTYtUUVXURsuzKypP8A9RLC0aSPMFTJfvS9S3P4U3J5tbi81JQbNBlJgVJSxsbDBVsoA+oDnNyuYx7c0EUMdO1jSLNvJbjoHHHKryUY1sw9jMXojDHKSIKmN7J6WYt4tZLESGvA1yPyusL2tqq7sjs3W4vUx0GG0stZVym0cMQBcQNXOcSQ2ONo1L3ENA1JC7krth8ZdsHiuHbW2nraCOqraCczNrJhT0MUdXTufPmc4yCRtVDrY7ohvBag/o8NoaCjxmqpqt0cVXW0jYKCaTK0PeyZr5aNjibiSX2t4bwd4tbjlBCvTeCRtc2LeikonvtfxdtbTiYG3ubvIhzdXu7eVaKrKd8L3xSDLJG50b23ByvYS1wuDY2IPBdG8tXJrt3s/UVOJtxPF8QpM8kxxTD6yqErIi5zs1VBFI2Wlys1dlaYmcA6wXONTM6RzpHuLnvcXvcdS5ziS5x8pJJ+VB5oiIMvB/f4fxsf77Vsda4wf3+H8bH++1bHVhJERFUERfrW5iGjiSAPOdFBfNi6CKjidW1DWulI9oB4sabNzD+sS8C/81+Vm3LbucB0m6tzXsDlFyzMLAE3v5vMpDGqCSSjAaLse1rmlrXXIaCLHXTQix6/0KhtwqQExyNJadcpb0nD+r18Osdq52pMWnMuhp1mI4Wen2tcGGSd8IcALMYyNuV1yAC4gkixvxOt+NgvmGojnZni8XZK4AeMTODGhzeB1sZSBbjoBbgqbiGz75LtaHMc4Zt3axvoOkc3YSeHWsvANjJXOb7YdLtfexAGa1mjsI0+Qryv0YznDOtb57JhmNtoC4y1b6osA9rpy+MPcLm29cAMlr+4vc34cFN4HtKyva+SdpErScrbNbvKQ2a+KS7ss4sDcOsQQbeTIrtkskcLXNjbC17N68X1ZmuRc6u6RDidf0KFxPBwyYPhjYx7GhslgGGxZK3I8j3OaSVotfQCx4LyiaWjjv6srVtWee3oxNs8GihLZ6YPEEnFpuWscRcGN3XE6zrX4EEeQVtXTD4fapKeVrnQ2LTnN905zc7ZGnzlrh/Z1uqbLGWktcLOaS0jyg2K6W11JtXE8zDR16YnMeb5REW08BERAREQEREBERAREQUzbn39v4pv78qgFP7c+/t/FN/flUAsWQiIg628Mn/VbZL/AISD/wCOolujwbsRotqdnMHrMRyy1GA1IzOe7SOswyCWGnmlc7V/+i1EE5J/Dsdcq4P2y5ScXxilpMPxGt8Yo8PY2Ohh3FJDuGMjZE0Z4IWyS2jjYLvLuF+Oqqsc72gta97Wu901riA64sbgGx0Qb55Otrzj3KFTYsb5KrFS6AEWc2liifDRtcO+KeKEHyg8F9+HXO6LayWWM5ZGU9DIx2hyvZGHNdrobEBaT2Ux+qwqqhxCgl3FZTv3tPNkil3b7EZskzXRu0J0cCFl7e7Y4hj1U7EMVqfGqx7GRum3UEF2RDLG3JTRsjFh1ht0HXnhfYDNtngmD7TYBDJXxxNlM9NTN39SyKtEG8OSMlzn089K6KRjA4gyE+5Y4jVXgfckuLVOP0lfU4dV0mH4fIaueoqoZadrpY2P8Xhg3rRvpTNuyQ33LQ4m3RB1hyYcq+ObNl33IxCSmikcHzUzmxz0srxlBc6GdrmNkLWtaXsyus0C+gVn258JHarF4HUk+J+L00jck0dDFFSOlabXa+WMb4MIuC0PDXBxBBBsguXLlypUsm3lNisUjX0GE1VDSPnjvIJYKObPXvjDR0rPmqmNLbh27a4XzK9+HjyXYpitbR47hFHPilM+iZRzMoI3VUsTopZpoZwyHM+WGVlVYOY0hu4JcRmbfjRbY5OvCG2mwKnbQ0eINko4xlggrIoqlsDepsL3jeMjHUzNlHUAg6C8BTkixTBqybGMWi+55qaGWko8PqLNr5o3T0U01VJDfNTxMMUTMrwH3m1DRlz6C51NwTbioxWQEw020Nc+ewLneLPramOpLAPdPEMkhA7QFgf+Pu1H3QdjAxiTx91O+iEhgo5IYqSSSGV8MNPLA6CEF8EJLmsDjuxcnW+vcaxKatnmrKl+8qamaSpqJMrGbyed7pJX5YwGNu9zjZoAF9AEHZXhkbLY/UzU+0ezFXidZhdVSxb6PCKipkEb2i8NXHDTSXkp5YHx9NjSAYXFxGZt+cZsM2yqKaokmZtK6higklrZKp2Ix0gp2D20SuqXCN/RPuNSRfQr45MeW3aHZyMU+GYk9lIC53ic7IqmmBdmLt22dpMF3OLjuiy51N9VLbeeEZtRjMEtHVYixlHPGYZ6ampqWFksbr52ufuzNZwNiA+1hw4oNnf0bf33xH8mj+Kp1zxynffbEvyjW/xMyyOTblDxbZyaSpwas8Tnmj3Er9zS1GeLM1+XLVRPa3pNabgA6KvYpXSVM0tTO7PNNI+eZ9mtzyyuL5HZWANbdzibAAC+iDGXbPgAfeDHPxz/AOCXEyu3J/yr45gFPPR4TX+KU1U4uqY/F6KfeOLN2TmqYHvZ0NOiQgpKvPINtsdnsbocVLi2GKYR1gGY5qKoBiqui33wiKRz2jXpRsPEBUZSOzODT4jVU9BSsz1NVNHTQN1AMsz2sZmIHRbd1yeoAlB/SfbfCsP2Wkx3btojfU1GG08bGu0a6phBjjYyQE2jqpBhbCGjjBm1Ll/M7EKySolkqJ3ukmlkfNNI7V0ksri6R7j1uLnE/Kut/Du2iGGYfg+xsFRLMaemgqa2V5dvJoqSI0lDviOi8yPZUyuaeBjiNvclcgoO8/DK2CxTGsCwiXCqOSuNE0S1MMHTqRFLTQtbJFCOnOA5li1l3dIHKRmI0x4GfJVi020FLiNTh9XSUOHmSomnq4Zadr5d1KyCCHesG9l3r2OIHuWscTYloO3/AAxNscRwLD9na/CayWiqmtkj3kWVzXxupaUuimjka6OeIlrXZJGuF2NNrgEc6bb+EntVi9O6inxIQU8jTHO2ihipXzsNrtfLGN61pAILWOaHBzg4EGyCx8s/KvCdumY5TuFRRYZV0lOx0IBM9NRFra3dEnK/M91WGOvYgsPBbZ8MXZrHa91JtLstWYlWYZPSRMngwieqJFnPfDXMhpn3likila0lrbs3F3aO04jWw+THlo2g2cZucLxJ8dKSXGjnZHU0uY5i4xxztduCXOuTEWFxAvdB7uwzbOpp6h8jNpnUUVPNLWvqXYiykbSxxudUCZ1Q4Rubuw67CSXC9gVW9i9gsWxqOplwrD569tG2N9U2mySTMbOZBFkgDt7OTupNI2uIy62uFeNuPCR2pxeCWjqcRjipJ4nwVFPTU1NE2aKUFsjHSGMyhrmuIIDwCCqdybcpGMbOSSTYNXPonzBjZwI4JmTNiLjGHsqI3sNs77G1xmKDqTwMdr9s3Yk3CsUp8TqcHbFKZ6jFYZ2yYe5jHOg3dTUtEkpfLu4hA5zrNcXNDQxy5z8JiioqfaTFocNEbaRtW7KyK27jnLGOrI2AaMayqM7cg0blygAABWbaXwo9ra6B1McSZSse0skkooIaedzXCxyzAGSF39aIscO1aVJQfiIiDLwf3+H8bH++1bHWuMH9/h/Gx/vtWx1YSRERVBfrTY3HEaj5F+Ig3xyWQHFo4baxxvPjDXcDu2gm44FrnFgt2O+a1YvscBnkip4nPtmDBljzcLtL2tN/m6gOCp/gnVQMlZTED3EUzXa34va8dluixb0rahjej18PlP8A0XI3k9M4h2tjHVXLn6PZOoD5JZWNbM8m7SL7pl9A3q11PXoG9hU/sxsgW6yC46/N2eX/AKrY1djFNCbvMYAHSc+wAt23UezbPDnnI2aNznGwyatHlJvYBcXVveXXrSsY4YeP4ZEYsugyDQf99NeC0xtzCWOMsLy1zxu3gXAc0OJ4douB/fat81ETJQTG8OYeD2nMAfkWpuUGnFPI2OWM5nEvAjGdsrLHPYNBLXZM3V1Ada9djaerpae+px1Khg9SQA2UWzsEeozgvYTka7ycezrCre1UYbUyWFgcjgP7UbCf03Vwwpkk87IaSCWpyuBlAbfdxkN6T3ONoTYNdZ5bc3sqvt5A6KtmiewsdHkjLXCx6MbLHzWtbyWXd22IvMfBxdeJ6YnHGe6DREW+1BERAREQEREBERAREQUzbn39v4pv78qgFP7c+/t/FN/flUAsWQiIgIiICIiAiIgIr3yQVmzML5ztTSYtVRFkYoxhToWuZIC/embezx3aW5LWvwK6H5I+T/k92nir56DDtoYm4ZCyoqRVzxRukZI2oc0QbmpkDn2ppPdFo1brxsHHqLeO0uL8m7qWpbh+FbUx17qeZtDJUPpDTsrDG8Uz5w2ucTCJchdYE2B0PBaOQERXjke5MMQ2qqJqPDX0rJYIDVymrkfEzdNfHGcpjjeS7NI3SyCjoiICIiAs/Z7GanD52VlDUS0tVEXGKohcWSxl7XMcWOGrSWPcP7xUhydtw44hSjGnSNwrejx50OfeiCxuWbsF9724C69uU9uFDEqkYC6V2EZ2eJOn3m9LN1HvM+9Af77vOI4WQRu02P1mJzurMQqp6yqeGtfPUPdLK5sbQ1jS5xvYNAFlGIvaiaDIwEXBe0EHgQXDQoJvanbfFcVjigxLEqythp//AC8dTK+VkN2tad2HHo9FrR8iry6C8PPZ2hwzHqenw2hpKCB2FQTOho4YqaJ0rqrEGukLIWhpeWxsF7XsxvYufUBERAREQEREBERBl4P7/D+Nj/fatjrXGD+/w/jY/wB9q2OrCSIiKoIiINi8l9QcPllYKjJLUwlntbHuLGxtE2jiACXMuPlGqkanaWupDcTVEgdHv2GUPmiAuSL9cd2tOlxxGnEKN5HaJtfiNPa5fBTyunhIA3scUbomPjeXZcw38d2ut7k2JutsVWCCtlFPuS3Od3eQg5GPuJXNYzQvEeexJ0Nj1LnbqYi/MZdjZUtanuzMYa929dWiWJlVBKzewxTwxOdHeSR+czR2bcXZ0LtuTqLHVR0NJVysidTysjJLt9E4agkjKxjY+lwFtSLarfvKHgbarI9ozSxHNT2yksfrbR3UdPmB0IBFSwCrsdMrJW+7LYo2yNcPdD23MAb36iuV7THaKxEurXZzaMzMz81KwyjrqeV0dS2YRyQxmERzlscMkD5d44Bzi9zpGyxi1ne9akaK3HZVhp5JLOLszpIor5Hlrs996Wnpuyvd0eBGlutTrSJnl7nXeO/robG3YG6DQdgWbG7MNNLGxH+HmssPar8Ujj1x5vO2zpEza3Mz/DX2FU0NNJHHUNkibMC8bprWtay7Q1r72IZdzrdlitZ8rzA3EHMvd7Io45CTc5m5hHmPW7c7hdB4i+lijkrqtuVtM0kS9xsfSsxt7Pe5+gBB6VrLljGsQfVzy1Mnu5pHykXvlzuJDAesNFm+ZoW54XW19S2r5Rx+fs1vE9StNCujHfOf2z9c/wAMRERd18+IiICIiAiIgIiICIiCmbc+/t/FN/flUAp/bn39v4pv78qgFiyEREBERAREQEREBdW+AP8A+S2p/wCAp/8AlYsuUl1d4A//AJLan/gKb/lYsg5RXSnKDTsHJls/II2CQ4xOHSBrQ8jfbSaF1rkaDTyBc1rrrCdjazark5wvD8DbDWV+H4pPNVUu+hhkaN/i5MYdM5sbZd3iNNLle5t2E2ubAhWvBHp2P2f23c9jHOZgwLHOa1xYfEsf1aSLtOg4dgVs/o7Nrqh0ldgu7pvFYaabEmSbs+NGeSSkiLHy5rGDK2+TLx61PckvJkdmNmtq6atq4ZMaqMElqMQw+B7ZW4bT+I4v4hHK9os6okvVOdYkWYy1xZz9bf0eGJQxY7VUssjY5KvDJoqYOIBlljmppHRRgm75N02WSw/BheepBR8d23xLlAxHCMKrYsPpSavxWKSgpzBlZiElKyeWUOlcJN2yAOAFuDuN1t/lw5YHbC1o2Y2SoMPooKKGA1s8tOJqiqqZ4o5hvXkje+0yQ5nuu4lxFwGgLTA2WxfYLGcNxDGaF8McNcJojG+CVtbBQyweN+LFr+uKZti/L763hYgba8KDkZxPaLFBtLszEzGsNxWCnl3tNNTt3M0EMVNlLZnsO7cyBjr6lrt612UgAhictWGUW1WyUO3MVDTYdjFPOKXGG0bd3T1YM7abeFvEy55aWRrnEuDZXsc5+VjhauTXF8Nwrk9pcVxHDYsSNPXTSU1LI1m7nrfG6llMKlxabwMLjIQb33TRrwUBytNZshsPDsjWywux3Ep21tXRwyNlNHAKmOpzyll2gDxami42e/fFheIyVi4l/srpvym7+OqkEBsLypV2121uAz4pBQxmnnFNHHSRSRxGJxlkyvbNLJexNhrwA86rvhNVMVFtpXTmmhnhp62jndRva0QTxxQUb308jcpbu3hpadDo46FQ3gsf60YP/wAaz91621jdLQzcqTosUELqN1cy7ai25fUDDGGhY8O6Ls1WKZoadHFwGt0Fj5I+WXbHEa+gjGzLGbOVVTT00rKPCKxlBDRVEjI3VDagBzA2ON+cuJyEMNwBw0h4UWAUuGbWYhR0MDKalZPSSxwRANijdVUlHUStjaNI497PIQxtg0EAAAALorbLZzbZ21BxXEcS+5+ytFiENX4w7E2UWFDB6apZI2GSnjlDn1T4Ru3b2OzpCQXZMpWpfDh2SraXaaXFZoHNoMQfR+KVHRLJH01JSQTRGxu2RroXGxA0IKDM/pGf9Yqb8j038Zia5pXS39Iz/rFTfkem/jMTXNKAiIgIiICIiAiIgy8H9/h/Gx/vtWx1rjB/f4fxsf77VsdWEkREVQREQXHkXx1uH4rTzSECKTPSyk8A2oblYT2NEu6J8gK3zS4vLJWSNiABbG5hNj0XG3Dy2BH95cqFbz5NMVlxGHNT1G4rmMEFQ8ta/wBsDSIahzT7pkjWgO4HMx2o0XP3tJnFvLPLr+Ga8RFtP17fdLYtiWJB7t1MW2sCctyT1lubqUe9kkTTI9xMriXuN7OLnHU2PV5D2KZrYnvjAqaetfVMG7mAkZFBNKIwTNEWkuEBedL62vcdtPxbBnVQySQQQRAnOI5XzSuBy9EvytDODuBJ6XVZcjW04rPpDu0taY4z9IWHDsSe46nW17jh5fMf5hWvAKzOOlxt89uB/SqNh8QaMo0A0+SwAGvVYKw0FSI7X0WvXmXnrW45Uzl/qzFHFTjNaeWWV3SIbaIxlt29ZzPv5LLTq274QVOXR0dSB0c08Tj2F4hewH0H/MtRL6PYxH6MTHx+r5re5/WnPw+giItxqCIiAiIgIiICIiAiIgpm3Pv7fxTf35VAKf259/b+Kb+/KoBYshERAREQEREBERAWZh+KVFMHinqJ4BIMsohkkiEjRcBsgY4Zx0naHvHtWGiApPANoa7Dy51BXVlC54DZHUc81M6RovZrzC9pcBc6HtKjEQZ0eMVTd9lqqlvjN/Gssso8ZzZ83jFne3X3kl81753dpWLTzPjc2SN7o5GOD2PYS17HtILXsc3VrgQCCOFl5oglMf2irsQLDX11ZXGMERGsqJ6kxh1swjMz3ZAcrb27o7F94DtRiOHtcygxGvomPOZ7aSpqKZrzYC7xC9ocbAC57FEIg9qyqkme6WaR8srzmfJK50kj3Hi57nElx8pXqcTqDCKU1E5pgcwp95JuA65OYR3yB1yTe3WViIg9aSpkhe2WKR8UjTmZJG5zHsd2tc0gtPlC/a2qkneZZpJJpXavklc6SRxAABc55JcbADXsXiiCWxnabEK2NkNZiFdVwxWMUVTUzzxxEAgGNkry1mhI0A0K+MW2hrqtkcVXXVlVHAMtPHUTzTMgaAAGwtkeRELACzbcAoxEGVieIz1ThJUzzVEgAYHzyPleGgkhodISQ27nG3lKxURAREQEREBERAREQZeD+/w/jY/32rY61xg3v8P42P8AfatjqwkiIiqCIiApjY7aCXDKllVF0g3oyxXsJoTbPGew6Ag9TmtPUodfRYRqdOvXS/VoOJ17FJjMYllW0xOYdQYuwV0EVdTSAwTxtkbm0vnAIzDWzxwI6iCoGHDZG6yEAdgI4f4Kl8lu00zWw4MOm6aWQUhcQGseIpp5YSe57U8g96S3A3Uhj1fVRvLJI3RvBsQ42A+Y2PnXA32hMTh9Jtd310hN1crYzpx6uC+qWbO8EnQcP8/KqjT1EjyLkuceJOgVlwdjtL6dq58x0w9qz1zmWXypYbJV4RMadwFTTWrIbgEPMFzJC4HRwfHnbY9ZaufROHOcAMtibN7AdRbtsDZdAbe4sKXD6g5rF7DE3tzS9A28wJd/dK5uo43SOzNJDnSWYBexuQLfM5dnwm1uic9s8fdyPFK1jUjHfHP2SiL7qIixzmEG7TxsQHA+5c0ni0jUL4XWcsREVQREQEREBERAREQfLo2nUtB84B/avncs7jfRH8l6Iorz3LO430R/JNyzuN9EfyXoiDaPgtbGYdjeLyUWJ0jKqmbh1RUtjzzQ2mjqKBjH5qd7H6MmlFr26XDQW6f9jrsl8Ss/O8S+tLQHgRff+X8k1f8AF4Wu1VFap9jrsl8Ss/O8S+tJ7HXZL4lZ+d4l9aWw6LaCjnqZ8PhqoJK2lEbqulY9rp6dszWvhMzAbsDmuaRfiCvOq2moIquLDJK2mbiM8ZmgoTIzxqWFu8vKyK+cxe1S9K1va39hQUD2OuyXxKz87xL60nsddkviVn53iX1pbWRBqn2OuyXxKz87xL60nsddkviVn53iX1pbWRBqn2OuyXxKz87xL60nsddkviVn53iX1pbWRBqn2OuyXxKz87xL60nsddkviVn53iX1pbWRBqn2OuyXxKz87xL60nsddkviVn53iX1pXHANt6KuxCuweB0hrcMEBrWujc2NnjbN5DkedJLt424KSx3aGjoDC2tq4KU1MzKWlE72xmoqZNI4Isx6crupo1KDXnsddkviVn53iX1pPY67JfErPzvEvrS2LtHjtJhsDquvqoKOlYWh9RUyMhiaXuDWAueQAS5wAHaVm0k7JWNljcHRva2Rjhwcx4DmuF+oggoNW+x12S+JWfneJfWk9jrsl8Ss/O8S+tLayINU+x12S+JWfneJfWk9jrsl8Ss/O8S+tLaywNo8Whw+lqK+pLm09JBNVzua0vcIaaN8spa0aucGMdoOKDXHsddkviVn53iX1pPY67JfErPzvEvrSuOC7dYdVYYzHhUtgwuSPfipqv8AR2sizmPPLn97GYW17Qp3Da2KpijqaeRk0E0bJ4JoyHxywytD45I3DRzHNc0gjiCEGsfY67JfErPzvEvrSex12S+JWfneJfWltZEGqfY67JfErPzvEvrSex12S+JWfneJfWltZEHJHhY8lWB4FhtLU4VhzKWeXEWU0km+qp80DqSvlLMtRM9o6cMRuBfo8bE35s3LO430R/Jdj+Hb96KH8rR/wGKLjxVHnuWdxvoj+Sblncb6I/kvREHwImjUNb8wX2iKgiIiP1o7SAOsnQDylZdJFC46yF3aQMrL90E3LvmCgmEyuN9W8bDhx6N/kN1MSgRtA17ANCDcXPFFe1dWRxA5AGDgDYZ3HtBPSt51gUjnPyTHLZxe2NrXXDHM1dfr3pGo8mo/BtjVQ3rw0us0C73dxo46DUcDw7Co+irTlJia8NsbuOhcblzCG/g2IZY3va+isJLYOxFayDHMML3BrYnvkk7rd9BI0DThZsmv9ldA7YYZHP0nNBI6/wDPUuS8Kc5tdS2Ju3W5PCzQ0DjoNCt/Um0k0UeW28jI9ydcna1vW0eTq8i526jqtj4Ojs9SK159XjBTMa+zW31UtBx4DRVtm1Mcbi4wPJPAWAGvVcn/AAWBiO1k+V742MiHeOpubANBItckgcFyp2tp4dP2vTrGUDy44w97o6Nh6LelIerO8aD+6w//ALVRcGjtJc8GNLhp+HZrWEWOtnOafkWVjZmqniUvc4/hl1r5hdxeXONg02JueGXzLAwqQSEtbI10ri27Wkvs3ouLnOAytIc1oy3vx7Ne5oaMaWnFI8nB19WdW83nzXKGW04Y8Nkikb7lwu0tIbby8D/+K9qjZTOSYJWsudGTE2AJ4NkANx5x8qiqm4kheD7l27Nr8HaftN1aqCoIGR1z2acOPCwXq81PxXCKilPt0Tmg8HjpRnzPbosFbQZXtaCHWI4OaeBB4ggi1v8Aqq/i2EU0t3RAQO4AstkJ6g5hOnZ0beYq9XqYU9F+ytyuLCRmabG3mBBHkIIPyr8WSCIiqCIiAiIgIiICIiDePgRff+X8k1f8Xha7VXFXgRff+X8k1f8AF4Wu1Viycm4xyk0uzG1e11bM01FXJBgsGG4fGf8ASMQrH0VM2OGJou7dguaXvAOVvAOcWtdt7kI5Op8P3+OY25lTtPigEmIT6ObRQHKYsKpCCRHTxBsYdlJDnRN1cGMK1jzDodpNq9ssKxGPNDLTYK6OVtt9S1DKGDdVNO4joSsJPkcHOa4FrnA2PkJ2/rsLrnbEbVS3xSBoOC4m+4ZjOH9IQgucenVNDHAOvd27e13tkbnSBYdruVLEZ8Xl2b2Yw2mr66jhZPildiM0tNhtBvmsdBAdyx0lRO9r2mzOGoscsmTI5OuVCsmxWXZnaDD4cNxllOK6lfSTOqKDEqPMWulpnSNbJG5rmv6DgSd1Jwy2VE5PcXptm9sdo6bGaiKhGMGhxDC6qseyCmqYohUCSKOaUhm8D6rdhhIJMDrX0v8AgxWDaTb/AA+qweWKtosCwyoOIV9Od7S7+ujrIYqVk7BupH/6TG4ZXG+WcDWJ9gm8U5bsSdjeJ7M4XgQxDEKR1MKN2+MFNuJYWy1dZiUzxlp4YTJC0Nbd0hkDRrZT3ItynV+J4hiWAY5h9PQYvhYglk8SmdPSz09Uxr43sL+kwhskLtSbiYaNLSFAcif+uO2P9rBv4WZY/Jv/ALQdpfydhn8Nh6D6g5a8axDEsUwHBMBhq67D6x9P4zPO+HDqejjL2iprpCMxnkeGtZBHcuDZnXtGb3/a7F9pm+KwYThGGTTSUwmrqyvrHwUVJVDIHUscUDH1E9yXkPGgDNTci9G8Gb787YflwfsqVF8rG2z5tqW7OYlj02zGBxYa3EPGYKiHDZsTq3ysDYTXzC9NDl3wtGWkmnlF7ubkC8ci3KVXYpW4ngmM0FPQ4vhLoN8aOV89JUw1bHPilhMgzs6IY6ziTaVvAggRI5UcbxivrqPZXC8OqKLC5zRVmI4tUVFPFU1sdxNS0TaeNziWEEbx12m4Ogc0uofg0YphrdrsfjosRlq6epp6D7nVNdUz1NTiIpYxHVvhnrDva1jJmytDwXDLGMpLQCngr7a4bs4zHcEx7EKfDMQp8crKtza+RtNv4JoqaNksBlsJ83izngMuS2WNwBDgUEx4NmI1NXtVtVPW0L8Nq3MwcVFE+WOoMErKZ7HBs0XQmiOTM14tdr2mwvZZ3hk1UcDtmp55GQwxbTUEs0srgyOKKMudJJI52jGNaCSToACo7wZ9o4MX2p2qxGkbMKWoZhD6d1RE+CSWBtPIyKoEclnthlawSsLgCWSsJAvYS3hfNBl2XDgHA7UYcC1wBBBcbgg6EeRBibKUzuULEo8cqmvGyOFzvGB0MgLW4ziEJLJMVrI3aup43AtjY4X4g2vMx+yeWzlJj2bpYZBSyV9fW1MdBheHROEb6ysmNmMLyDu4xpd1jq5gt0lp/HaWfkzxN2JUcUs2xGKTj7pUkQL/ALhV0haxtVCwatp39FoyixDRGek2DNn+FVVRsn2W2tjc2qwbDsREtXUQB08bKPEnULoq4GIOvE0UuhA1fJE0G7hcJnaLlU2j2dbDX7UYLhrcGlmjgqarB6qoqKjCt9pG+rimitOzN0SYja/AklrXT/L5ytu2Y+5ckdH90IcRrG0sghL3ziI7t2ajZGD4xO5ryGsuA4louLqkeFvt9hWKYBJg2FV9JiuJ4tNQ09BSYdPDWTSObWU85eWwOcY47U72ZnWGZwHavHwiaB1JNsLSvcHPgx3C6d7hwc6F1CxzhfqJaT8qDYFByg4rh2HYhje1mG0mE0dNFFUUlNSVPjtW7eGRppah5yxGqdI6ljblytLptSLaUHbLbXa2u2er8Qq9ncPgwmtwmtPi8NdI/GKKkqaScMrJ2SxtgmY2N7ZHRtLJMt+iHAtVs8NPCZ6vZXEW07XSOi8Xq5GN4mnpqiGSod/ZZG18h8kRUDt3y2bP1my1QylxCGesrsHqaWDDKc76viqJqGVj456eO76eOHpufI+zA2JzgSLXDy2KxiLD+TmCsnoqfEYYcN3klDVgOp6hvjJGSUFpBbrfgdQFY9s+VE4FsjRbRUmHUwDqLCnxYc1xipqeOtip8sERY3oxxNkDWgAaMHBUQf7Lf/tP/wDUsbl6/wBmeHfk7Z7/AJVEgsO2PLhtDQ0nONuzMTNmGyQjPV1W6xeekqHsjirm07btponvkYGxvDn9NpIynMNh8sXKnDgFBT1kVNJiFXiEsNLhNBGd3JWVNUAYml1ju2AEXNjq5jfwgVW/DR/1OxP+zh3/AMnhypnhJUslLBsjtIYZKigwWpppsSZGwymKnqG4e4VRaDYbs0hDXHg+aPUXQTHKRyt7WbM4e7EsY2ewmaJxja2XD66ZzKSSR7A2CujmjzkuDngSwlzQ5gB92COgYH5mtd2gH5xdck+FzyyYPjmz89Dgks2Jkvo6mqqIYJ46Wgh38e68akqI2ZZpZLMbEAXaPJDcuvWtIOg3+y39gQaA8O370UP5Wj/gMUXHi7D8O370UP5Wj/gMUXHiqCIiqCIiAvGtlyMc7sabefqXsozaB5yBg/COvmCBhLi11hfjGO0XDG6H5VJYjUEvY0aNGawHFpA6TSONrm4WHhzTdr9bF44HUgjXhx49a/ZZc07rfgtA1sNT/wBAsu0DyqrBr+svZLfrB6D2jjpYXX5RU9o8oFurhxufL519VA0cRpoGAA8S97GkaeRxWVTjgOFzewJP6RqfnWI9sBjD68AWtGwcO3pLbNLDnaWh5b2cLEf57Fq/YKAvq5XdhDfJoB/ity4TS/JwvfguTr3/AOst3Sj3UM7CpZD0SwNvxyOv+l9lU9vW5HNpg973N6chBAAc73DcrQBoLngeI7FtXEXx00Lpjwa0m5sLho7fmHyrSVVUGaR0shs57i4nsvft/B4Beu2jqnqnyYa04jCLmYWDLI1rozdpuLtfcWLJLa2tcXHC6k6SBl2iMjJla8ZQ1pDTfoPA4O049dgRxWPVzgDtGgLBo55Nwxrf7Zv0uprXnqAOTh8O7BuQ6RxzSEcC4gXA7rABlaOoNAW7LVe2QA6gkh1xe+XQi1rFScFRpd3AeXQn/IsoeKTMRex1tw+XT/PasXEa8ueIGHQavtwvr1W4WVwqaqcQvw0HC4v5B0j5LrBrsUDG3ubnpDtDOrXtJ7TwA7So6smLnshaQAbZjaxsLl2o68rSovE6wvfbRw4AN4XHVrropgYlfWOLxISRcjyfP5dApimlD2hw8vzg2KgsQbpfr42/yFmbOzXa5vYbjzH/ALLKBKoiLJBERAREQEREBERBvHwIvv8Ay/kmr/i8LXaq4O8Fna2gwTF5K3E6jxWmdh1RTNk3c815pKigexmWnje/VkMpva3R46i/T/shNlfjf9TxT6qoyhsOlwWkinlrYqSmirKgMbVVccMTKmpbC0NibUTNaJJgxoDWhxNgAAvHHNmsPrnwzV2H0VZLTOL6SWqp4KiSmeSxxfTvmYXQuLoozdtjeNvYFQvZCbK/G/6nin1VPZCbK/G/6nin1VQXzafZnD8UY2HEqCjxCJjs7I62CGpYx9rZ2CZpDH20uLFeuz2BUeHRCmw+jpaGnBLhBSQxU0Qc73TskLQ3Mes2uVr72Qmyvxv+p4p9VT2Qmyvxv+p4p9VQbDosFpIJpquCkpoaqpyeN1MUMUdRVboFsXjErGh8+RpIGcmwOiU2CUkdRJXR0lLHWztbHUVjIYm1U8cYaI2TTNbvJWNDWgBxIGUW4LXnshNlfjf9TxT6qnshNlfjf9TxT6qg2HhmC0lK+aWmpKanlqX76rlghihkqptfbah0bQ6aTU9J9zqVh7UbIYZiu7OJ4Zh+IGK+5NbTU9UYs+XOI9+x2QOytuBocovwVI9kJsr8b/qeKfVU9kJsr8b/AKnin1VBeZdlMNdUQ1zsOoXVtNGIKWrNNAammhaHhsUEuTPFGBJIA1pAG8fb3Rv4Y/sRhGITMqq/CcNramMBsdRVUlNUTMa0kta2SWMuDQSSBfQm6pvshNlfjf8AU8U+qp7ITZX43/U8U+qoNh0WCUkE01XBSUsNVU5BVVMUMUdRUiFuWEVErGh8wY3RuYmw0CYvgtJWGI1dJTVRp5W1NMamGKc09RH73UQGVp3Uzep7bEdq157ITZX43/U8U+qp7ITZX43/AFPFPqqDZWJ0MNVE+nqYYqinlaY5oJ2Mlhljdo5kkcgLXsI4gghY2F4FR0tOKGlo6WmogHtFHBBDDShspc6VohjaIw17nvJFtS51+K197ITZX43/AFPFPqqeyE2V+N/1PFPqqC37ObBYNhspqMPwbC6GcgtM1JR0tPLkd7pgfDGHBhsOiDbRSeLYHR1joZKujpap9NK2opH1EMU76WoYQWT07pWkwzAtaQ9liLDVa99kJsr8b/qeKfVU9kJsr8b/AKnin1VBtIqs4fye4JTvllgwTCYZKiOSGpfFQ0jHTwzi08MxbEDJFIPdNOjusFVP2Qmyvxv+p4p9VT2Qmyvxv+p4p9VQX7m7Q+K/c3xCj+52TdeIeLweJbq+bd+L5N1u82uXLa6Yhs3QVNM3D6igop6BjY2MopqeCWkYyCwhY2B7DG1rA1uUAWblFrWVB9kJsr8b/qeKfVU9kJsr8b/qeKfVUGxcawilroXUlbS09ZSyZd5TVUUdRTybtzXszxStLH5XsY4XGha09SheUCbEqWkacDw6jr52PYx1DUTCjifRhjw9kMmUsjkuIwA4ZbXVU9kJsr8b/qeKfVU9kJsr8b/qeKfVUFB2p2S2k2uZT4RX7PUOyeAtq4qzFAyvpcQqsQZCcwp6YYexrIcx4ufY3axwd0Sx/SC1b7ITZX43/U8U+qp7ITZX43/U8U+qoKd4dv3oofytH/AYouPF0l4WPKfg2O4bS02FV3jU8WIsqZI9xWQZYG0lfEX5qiFjT05ohYG/S4WBtzaqgiIqgiIgKHxF2Z5cNcnRcO0cTbygqXJUHTPJc4t1N3E34PBOrT/PqVgScZywxH+t7rXUZjxPHgOpYUEvt0uutx1A9v8An5FlSR56du7/AAXOLGuNnE5m+1tvoXX0GovbS9wsOnsJZj2Bululfr0PA3CyuQz3tuw6ZhmZ8hzB3Dr0YeKyaVo4gm/DhbiewXI4LwYQWWN3Xc3iNQMk+nDTXX5F6F4DXOF7NBcctgOiDpxXmLFyV012yzEOPtjzpqXAE2t5ToAFuCigIHA2tck21vppr2kaeZaq5O6JzaYkNIzXkeSD0gwbuJo4EkEGTzgdq2phsDnvikL3We+S8YLmt3bHSlmnB1s0XHs61zJ062mbfFuRaYiIVnlixHdxRUbT05PbZAOIijPRB/tP1/8AaPatWzjS2tu3gfPp/n51J7a414/WTVLTdhdu4DxbuIehG7j7l1nP/wDcKgJZHe4aem45IzYGztC5+uuVrTmsRbMY1u6VOmuGte2ZyysNYC4vcehGXBt9Q6VwAkfpp0WtbH5w/tUk4eUa/Na/Vrw4alYUEbWBrGE2AsOu3G1+03usozho1NiPwbW8pGvk/avRi+ZHCIF56r8dNbG/A+RQeBOL3SSO67gG44fKV+47iBeC0HTXtHbx+f8AQvnA3lsTh0NG3JsL8NeKyhJeRmAMkh4j2ttzY3cLvvbjYED5V54dRE+2O0HVoLW43Av2LGpqxjI2ucA4kuf0h1vJygfJYfIveSokeM8hyNIOWIaEggWv2cFJGPXuBuAb9v8AkcF8bOyWkt3gWnzjUH9H6V+ubfgBrZY+EHLKB5f8bH9qirUiIs0EREBERAREQEREBERAREQEREBERAREQEREBERAREQEREBERAREQEREBERAREQEREBERBh4xKWROI4mzR8p/ksGilbIRdjt4BxiLQXDrOV+jj5iF9bRye5b1XzH/BY1J7WM72gWByg3PHr08l1YGZWFpjMQ1GYta6QiOzyGuDTYltybt42uRwXvs/Qy1TQ3dTSyAuYXsje+YBvFrwATKBYiztR2hbb8EfYiKtnlxbEqaklw1gkipBUneE10JgL5BTvBY9jY5H9Nx0e1tgdSOpqXE6KnIYyOEEaBzWMYQB1NDAABpwt1LR3W/jTnEVz8cx39PVu6GxvqV6o/I9XDeH7K4jKGRjDa18wu7IaWobeNsMri6z2A2AOvEX0vwvDVIaGPtpq1paP67gLeQr+gtVtHSM6T4g6MkCwvceUarXPL5s7Q4rQuFBRMdXjLLTua2zy9jg4sMjgGtBaHdDg45eHFa+n4lW2Yt7vzel/D71iJiJn5NH7KTWjZbSPM6S2uaRsbgbi5s1uWKRvYdToOMztXjrqShnfHmLreLxOzZ3NmqBJG94dwORwJ0sLN04BeWyNOY4zHJmDml4DXNs5rmjI5hBvY5mu7OJ01KqfK/XNvS0jRlPtlRJYBtg0NjjabaZbmX6Mdi9NCYm2HjqcRlTYxlbcZbWy2PAdnEaDjfq0PYvnCbPJmJJBBZDe49rBJc+x4F7iX+YtH4Kxa+VxDYRo6S7ewiIe+m7dC1xsziP8AeLNjmAFmgW4cNNPNot5qM64HDX5bC381GYlUgC1yDc34HydXkK/J57Dj5rDhcEquyPcXEkk3N9VlAyaiXy3Hl/7r68aywzOB0LWsb1avLr2+SyjppNbLKrb7qOMWzSSAi/Do2Df0gqjIoYWxtbNNbNb2qM6kNto4jjdflQXv1cA1vVewJtw0WU2ERHQ7yS3TfcHXrt2BeboQelK+/kHHrUkYwd+Dx+RYkT8kgJ0s/h5L9az5ZuLY22HbbXyqJlBDrnTz9fyLFV2ReVI/Mxru1oP6F6rMEREQREQEREBERAREQEREBERAREQEREBERAREQEREBERAREQEREBERAREQEREBERAREAvoC0HtccrR5XHqCCu44SZTmc2NgsLuIBNgCco4u6+CxZ8VisQ1heQNC/3NwNCWjjwVli2ZE2WXxmIukaXNswOc8D8JgJuI/KLjyr82f2ZbNiNHSyPMsU1ZSwyMIia58Mk8TZW5WO1BYXdV1naMRkr704dQ8i2zDKDDqFlRUFhjhE9RAQ1rn1WIh00rJBwayMStYOsmMcLFWnFMGw8XmMtRfXK1kzmi58o6/OVWttdlZ8XqzFFVfc6na28lUC4SAXAaIGNIzuzBw6RAGUnW4BzdsNlWWDosRqY5CQBuA1kd+8WG4K+e1Y6otaeOZ/19XT3JrWJmeI/z7ozEcMq7tfTVcVQziIqs5JW+Rs0LchH9pnnKm8EfVxD2+It0tZsjHi393q8uir+E4RXsNn1UdS0XyucxkMgA7xa4Nd6IU6TVwssI7t1uRY8fl0K5mpT45bdZzPPDF2ipo6q8jYwypYbiQAAztsQY5NbbwWbZ/XYArl7batfVYjNI6zTHlpQ0aZdxfNYAk3Er5Li99Cum2TG+pvfi0/gk9TiB8y0h4QeyRp3HEqaN25qXtjqsouyCoebGdw/BbKNMwtaR7u+Auh4ZuMW/Tt59v6cjxTa5j9Ssdu8fdrOj9sc6YNu0kBnDSNtwCTYXubu4fhrOa6w4gDz/t+ZfVK4RMDdPLw1HC2nyKPqagDr07Ov9i7zglTUk6Ai1h/m3aoqckG+lu3tXrU1DLaXuf2fMsN02YW6+I8vkWSPppzPCzqsF8kTcokyM3hbewNrcba8T+hR9I4Zrn/us7DsQEdS17m5mOa6Nw7GuIsR5QQ1Ue5qHPAPRb1WaLf91+wEDjx8uvWpDEMNB9ugIc06kC2mv8lFOJB6Qtbjf/FTuPeoudf2edRlYOlfrspNr7j+X7b2URVHpG3VoscKtWCSZoW+S7fmWaonZd3tZHY4/pAUssgREVQREQEU/sPs6zE5KiE1kdJJDQ1dfA18Uk7qyShjdM+kibGQWyOijndm6RAhdZruAxsB2YxHEG7yhw3EK2PX22kpampiBboRvIYyzMD1XvogiUWRiNDNTSGGpgnppwA50NTFJTzNBuAXRzNDwCQdSOorHQEREBERAREQEREBERARF+XQfqIsiloJ5mySRQTyxwNElRJFHJJHTxuNmyTuY0thYToHOIF0GOiIgIiICIiAiIgIiICIiAiIgIiICCkE5bG49Fzhcd4d0+Q9fkui9qJxD2kcb6ec6C3l1WVO5PZM4dG1sjo4wCQRvZP7PuIx29Yt7lvn1WyuS3D2ur6Z8mr2ytdEy2a5a17yfOGxvdfqyrW2Ft3YAv0iS+TyuJzW+QlXrkxx5sOLUUbiAJI64Zjwa9kcTYzrw0dIL/1irq8Um0s9CudSsfF0TtDVxxsvLDBNEW2GntjS618w4gGw4dg7FTsSjwu2dratrtBliqJS1vlDHuc39CbQtkkkyb3LZtwLajjrfgTx0VSqsEpmPM8lRUSy9Q3r4ooweoNjIaPOblfP61eqfR9VozFY/pPtooLh0GIyADV0dVFG9x8gdDk/S0rwxjEHi0fjDXNPA3Lc1uogcFTJ8SmilAiPjUbibtf0QwNtmyS26TwDoDcGx4WKzKGrgqS7dPa6WMgSwnKJYyeGdtz84uFoX07fJ79dfmmaKrJ6iHjRw4aeQjiLdqlY6qCdpp3QiRjwWSiVoMZYdHNcHXDmlVzxpzPk0BOhHmPFZ1FjEbGPe5rhkY5xOhuGAk/JovCaTM8LMx5ufOU6ipo6yeOiDYoI3bpsYLzctNi5r3k31v8AIAqLU07r21Fu3XTtBbxGnYrHW1m+e57iS55c9wI63Enr86wXTahpHDS9+Gq+upE1iI9HxtpzMygybA9fk0N/mXlCTl4D5jfzAdqnJIQ4m4zN6tO0+TgbBYFVQuHSY0uYdMoGazh1ebyrPLFGAW8nEEHiLI94BaeNv5qRlwyQgC7S7XoC5IuLm3UTpw7Viy4a9paLscxwBZLciNweAQbkdHrGvAgq5E1g1W9tix12ni08De/bpdStRDHMBfK134Q0/wC/Uq6/CKuBzWuiLc/uHZmmNx8j2ki9ivqXB52OAkifCXEZZZJA2F5PANla1zC4nqvdMZRly074uIuw9YvYa/tURXNs4kcDZTFfRVVKBn9sjtckXcGHrBuBp5bW8qi5iH6jzEcMp04jiNbKKm9mBZj/AO0D87Wn/FS6jNm2+1X8tj52gA/sUmqCIiqCIiDffJBt74lBS4rjcuH1tLRhmBYRRU9JRTY9SvswGoa8NZLFRNpTI113uMhLBlzOBfhcvu1bH1WIUswx/DcUpaiOmw+mjrw7BTRxP/8ANNp2MjdTGamLZGhue5kj6QAcFTNhaaOtwnF6GOkppcSiFLi1JNug6vdS0smTE4aeT3QDInRyiNurg6fQ6WqO8qcQqG5pJ62sqZIoWPmkfNPUTSFkMDDJM4l7iTGwZjwyjgEVdtitrX4i6LBMenlrcPqXtp6arqHGetwernOSnrKSokvKYN46NskL3FhZewFiHUXGqCSjmnpZwBPTTS00zRewlp3vjkDSRctzMNj1iy2hs5yX4iaWpazBa9m0eH4lRSRuqCyOgkopRJ0WGX/RqoRz0+Z7muIyTMIJAc1VHljqGT4pVzx4jSYsZiyWStoYHUlJLM6Jge2CN0kl2NLQM4e4P1dcklBbse5KcOwo0rsY2kio4qykgqoGxUFTVVGeVpM28jhkIhpYyY7TON5CXgNbkJMdWcj1azGjgLaineGwfdB2IuvHTMwwC766RmYuYA7oZAT0yBmynOPbwm66Gpq8PdTzRTtGz2HRl0L2StbJnr3GMlhID8r2HLxs9vatpYltrQUu0QEtbSx0tfsvTYZ4/wC01NNSVMj55YXVIdmiMOUjM14LfbI81mklEafrdhMPnpaurwPHPuq/D4hU11NLQz4dIaTMWyVtI6aRwmiZxcw2c1tiTcta6J5QtjjhEWGzGoFR90sNgxTKI914uZwHGC+d29DQW9Po316IWydoosdoqOsfW4zspSU81HUU2XD48HNVisczLPo6PxOibMWSjTOS3L0XEC12/O2Wz7dpMMwWqocTwiBlBhUWGYmK+rZSvoZqZsbXPkY5pc6M2kI4EgMLQ4OuCoWl5GXSYvSYIMRGarwlmMeMeLEiMyCceLCPfjP04PfMzdH+501xcN5LIKypjw6gx2lq62Nss2MObTVMeHYVTU7W7+ZtbIQyvDZXCMbsNzFwJyAOI25T43QN2vw6eKvpX0bdmo4WVRliZGS3x97WvJdaOUxFr8h1AcNFpnwecbpKd1bh2IVDKKnxbCZ8L8dk6MdJPKy0b5idGREOkBcSACGXsLkBkScm1BWU9VNgGPNxeooYXVVVRSUFTh80tNH77UURme7ftb3AL6t1u5od9Q8mVFDh2H4zimPMoKOvZK7dsoqisqmysfaOKCOB5MzDGHPfKQ0MIY2zy8Ws3J7gXM81mL4tX4U97sOqKLD6Kgq2Vs1fUVLoS1zWsaC2lbum3e4aCS5DcutZ5UqyF+AbLwxTRSSQ0uJMmYx7HvicZqJrRK1pvGSY32zWvkd2IjOx7kkw/C5Y/uttNTU1FVtZJhdRBRVNTNVwyNY41M8Ub8tDTsMjBnc9wdqRlsbR7ORys+7NTgclTBFHRwmtqsUka4UseHhjHiqLM1w45w3dlws5knSytL1++EVWxTwYGIJopizZyijkET2yGOTI8GN4YTkkuD0TrotqbXbS4dNj2MYdNiFNBT4zgcGGw4jvGSUtPVbmUxNnkY7Kxjm1BJJIHRYPwwg1zs/yUYdixqXYPtIyrjpKWapnbNh9TSVIfG28O7jnkAlppHB4MgN4yGAtdnBE7SbLYE/ZVj343FEx2MNe/FvuPWSTR1DqMB2Gblr9++NoJdvQ7dm3C6y+RrZEbP1FfLiuKYOyokwetgpqamrYqh0kbt1JNUSOs0RRjcRhgd0n55DlG7KrfJ/SsxjZmXAqerooMUhxZuJMp62ojpPGKV1LHCXQOk0e5ry+46sgvbM24Q2GcndHDRwYnjmNNwqnrXSfcyGOinr6ysgiIBq3QxPBp6exa7W+kkeoLmg3jkn2Zgjp9p6Cmxegq6WXCqJ7cVbnhpYoZTiBkfVsdd9PJE1rnPju4gBvWbDCx7Bm7UYbhDMPrsNixDCKQ4TiFBWVUVM+1Puo46umfcsngfuC7O0lpEjdbtIWPsdQ0+E0O1FC7FMNrJX4RSASUcwfA+pc+tbLSU735fGnxufE0uYLXlaNDcAK5i3J5RSYbU4tguNjFmUDoW4jBJQ1GHSxMqHBsdRCKh5c+K5OhA0jk1u0tWuls/knroYsD2njlmijklpcObCx72MfM4T1gIia43kIL2XDb+7b2rWCAiIgIiICIiAiIgIiICIiAiIgIDax6wQR5wbj9iIglnVFmlw42JB7TbiPOqxtdjktLPRTRGz44HPsfws1RMOlbUXEbdf6qki82y9X/a/7FV+UF2d9O/8AB8WEd/60cs2b99p/vL11Ji1cFZms5huXBeXCg3bfGGTslLbOsHua12lz0erzXWWzlRwWRubxktdfUPjqcoB7CYjrcdS5qAWXu7FsehJs51v6w6A89jf+8FzbbKlvX8+ToV8R1a+n5823tv8AlHY5j4KCcTXDX542uZCwtIIsXAOkkBtw07b2savsdXPjGcOcJNOmCQ+/EnNe5JOt1Vo2WzXHANYPKXG518zT86s2AQ9E2Cw1NvWleiGHtFtS/VP8MvF+ULE4pgyOoBa1oJbLHG+5Nzq6wdw8qk8O5TquoY+llgizSxTNM0RczK1sZJJY4m9ybcetUbHIvb5Nbe4FgL/gN1Pk1X1hTcr33A6FNldxNnzSNd8+Un5lsV22niPdjMPP2rVjMdUsiaQtcRe+gHV2LwncRqOv/qF5GQXPbwXmx59yfk/l5VsNZkxznttof5f4le5qMosO9fS/Zp+xYbdQfkH7T/Jfpf13t/nyqYGZvbNDrkPBaQeOodp/nyLI8YYxro3C7HFxDTboFxzZR/VzF3zqPYRdt7ZQQT+0rHklMgceskuHyaj9imFW6lxNj2Mp3C92uyZtbOaLtHkva3yrJmxFhp7P6cbhkeziHNuOI7RcKkw1B6Lm8W2IssypqejYHoOJe0dmb3TfMCf2KYRnYhJI1piDy5sfttM8km8f4cT9elpqL90hQtU0OAlj6LvclvDUD3vzWuW/KOxe7qs2DQb21t2tI6bB+351hxSBriCMzescL2sW+Y9d1lgT2zTwYjbvE+a4H/VSigdl5LuksLNd0gOzXh+kqeVURERBERBl4Nic9FPFV0kz6eqgeJYJ4yA+N4BFxcEEFpc0tcC1zXOaQQSDcpdqcErXb/EMDnpawkSSVGA1jaKGeW9y/wATqoJYqVxNiTC4Akk2BVCRFdAclPK48VBwigbTYRR1EVc9tfjVfVYjNFiPi0jqSqmqKt7YI4jNFEHQNiykyOIJcTm09tbtG2vZTsGG4VQy07ZmTT4ZTR0YrnSvYWyTshAjuwMs3KAPbH2sCGiARB+AIAv1ER+BoHAAIWjjYXX6iD8sOxfqIg/A0DgAPMll+ogmsK2TxCqhNVT0cssHthD27sOl3Dc05gjc4SVWQe6MTXZbG9rLzbsxXeKnEBSS+JBhmM3QHtDX7t1QI829dTCTomYNyAggu0KvXJ3tNhdE3D5JpY4ZKcVTK0SYe6vrHSVL6psc1HVSOLKGjbDPAXMgDJc0M/RkMuZQmJV+HTQwzOrq1k8GEU+DGhpY3QvnfSQtpC51S8GIYZNE0yvicM5Mj2ZdcyCExTY7EKSNs09BNFG58cfBjnslnBdBHNFG4y08rwDlZI1rnW0BUhinJ/X01N4xU08sczq+mwyGkDGTSTzVUVbIWtdDI7LUsdSMjNOW571LL5dA69c+MKpXzz08kMrTiOF4nSUseGvp53wYZXGd1NXV0znz1mIGKQe2SvdFmhe4PvJlEXs1tNheDmN0NXU4j/8AWYsSkBpnwFtJ4hjFG91p32kxBjsQje4aMcWMAedS0KbUbE4k2aOldQTOnmbLJTxx7uffNpmufUiJ0LnMkkja0lzAS5ugIBIB9a/YTFYI3zy0ErYYonVDpQ6B7DBG3NLPCY5D4xExur3RZgwA5stlaRtdR0zGUsM1O6NsOMPL8Ow77l0ranEMImw+kDY3Xnknc8s3khysa0RAZ8pcozBtpqWI4cXueG0mC4th01mE5arEOcG4azvMP3RpbuGgu6/uSiqvVYBVxPnjkppGSUkbZqtrsv8Ao8UhgbG95vbK41NOBYm+9ba6jlsfbbEd3hFEySOaDEsQgpo69szXMdJh2AvqoMLnLZLPy1DZIDnI6X3KaQSCL64RBERAREQEREBERAREQEREBERAREQFi4nRNnaGmwLSXMdYOyl1swIPFpsLjT3I1WUiCs1WDMgY6YjM9vBmpicTYXsekWa3ynzXKgoHHPncbnNmJPXc6q4bRP8Aa3MB6XRcRp7nNb9tlVY2CwJ4X17TpwFuJ8iYEpPBlyMGoe90vXbKAGxkAgEcX/Mrzs3RAMuQqm1l5w0aiNjGg6dbQ93DQnM8i/XZbCwWICMeZaevbN2xpRxlRNpKcCeTtO71Fh/uxx6yvhtJu45J2lrw8wizHAuY2KEZg8fguzOOnHog8CL5m1mUVD72Jyx/hG40I1b1Dh/kqvV1TK1ha15DC67mCxa46dKxHkA+RbcdmvPd4PYXnQ2FtfPfgNR8q8je1utt7HqcBpp5l8+NPIsS21yfcs4kWJ4diCd3k6wNLcdT7lB9tkPEdetv+h4r6dLfQi36NV5GXgC3QXN2mx186eMDUhrr6i9wdT5LedUegdc5fIdV9U0trXHBYjJgOrXyr7ErT5EH6527Jb1dXm4hfYmuMl9L5m+RfjXtcLG1+o3HD519OpesaEdnaFADjcEGxGt+wjgvRzszsxtqNerhofMvMRuHugQe3qP8lmYZh75nC4LYvwncLjsb2kqqldmKYsjLz+Gej/ZHA/Kb/oUuvxrQAABYAWAHAAcAv1EEREBFTOdc/ch9F/rpzrn7kPov9dRcLmipnOufuQ+i/wBdOdc/ch9F/roYXNFTOdc/ch9F/rpzrn7kPov9dDC5oqZzrn7kPov9dOdc/ch9F/roYXNFTOdc/ch9F/rpzrn7kPov9dDC5oqZzrn7kPov9dOdc/ch9F/roYXNFTOdc/ch9F/rpzrn7kPov9dDC5oqZzrn7kPov9dOdc/ch9F/roYXNFTOdc/ch9F/rpzrn7kPov8AXQwuaKmc65+5D6L/AF051z9yH0X+uhhdHEnUkk6C51NgAANeoAAeYBfipnOufuQ+i/1051z9yH0X+uhhc0VM51z9yH0X+unOufuQ+i/10MLmipnOufuQ+i/1051z9yH0X+uhhc0VM51z9yH0X+unOufuQ+i/10MLmipnOufuQ+i/1051z9yH0X+uhhc0VM51z9yH0X+unOufuQ+i/wBdDC5oqZzrn7kPov8AXTnXP3IfRf66GFzRUznXP3IfRf66c65+5D6L/XQwuaKmc65+5D6L/XTnXP3IfRf66GFzRUznXP3IfRf66c65+5D6L/XQwz8ble91gx2UakhpJcSbC9uIDGt8xe7tXjQUJeGsc1zQZGNeSHCzSQCfNYLG511Hch9F/rpzrqO5D6L/AF1l1GE9g4dJI+VwLS97n6gi2Yk63Ww8OLWsALm8B1hae51z9yH0X+uvznVP3IPRf661baGZzl6xqYjC4bXMLp3kAubkiN2lrh/vBbUXB06r9XaqvWwuJ9w+2umU/IvDnXP3IfRf66c65+5D6L/XWxHbDyw+Y6J3cd8oP8l6CjPcf8x/kvnnXP3IfRf66c66juQ+i/10MHiju4/0T/JYviz7noSce67+Syudc/ch9F/rpzrqO5D6L/XQwxDTv4ZH+ToO/kvjxd5/3cgP9hw/wWdzrqO5D6MnrpzrqO5D80nroYYApXkgbuTXQ9B3X8iv5ibwLQbdoBVP511Hch9F/rpzrn7kPov9dDC4CJvdb8wX2qZzrn7kPov9dOdc/ch9F/roYXNFTOdc/ch9F/rpzrn7kPov9dDC5oqZzrn7kPov9dOdc/ch9F/roYQCIiiiIiAiIgIiICIiAiIgIiICIiAiIgIiICIiAiIgIiICIiAiIgIiICIiAiIgIiICIiAiIgIiICIiAiIgIiICIiAiIgIiICIiAiIgIiICIiAiIgIiICIiAiIgIiICIiAiIgIiICIiAiIgIiICIiAiIgIiICIiAiIgIiICIiAiIgIiICIiAiIgIiICIiAiIgIiICIiAiIgIiICIiAiIgIiICIiAiIgIiICIiAiIgIiICIiAiIgIiICIiAiIgIiICIiAiIgIiICIiAiIgIiICIiAiIgIiICIiAiIgIiICIiAiIg/9k=\n"
                },
                "metadata": {}
              }
            ]
          }
        },
        "dc2a783135c1456792a877d99f686fbc": {
          "model_module": "@jupyter-widgets/output",
          "model_name": "OutputModel",
          "model_module_version": "1.0.0",
          "state": {
            "_dom_classes": [],
            "_model_module": "@jupyter-widgets/output",
            "_model_module_version": "1.0.0",
            "_model_name": "OutputModel",
            "_view_count": null,
            "_view_module": "@jupyter-widgets/output",
            "_view_module_version": "1.0.0",
            "_view_name": "OutputView",
            "layout": "IPY_MODEL_4a1eb8c4ded24bf983d793a75e7276b6",
            "msg_id": "",
            "outputs": [
              {
                "output_type": "stream",
                "name": "stdout",
                "text": [
                  "Video available at https://www.bilibili.com/video/BV1dt4y1Q7C5\n"
                ]
              },
              {
                "output_type": "display_data",
                "data": {
                  "text/plain": "<__main__.BiliVideo at 0x7f0a9afc0610>",
                  "text/html": "\n        <iframe\n            width=\"854\"\n            height=\"480\"\n            src=\"https://player.bilibili.com/player.html?bvid=BV1dt4y1Q7C5&page=1?fs=1\"\n            frameborder=\"0\"\n            allowfullscreen\n        ></iframe>\n        "
                },
                "metadata": {}
              }
            ]
          }
        },
        "15712df3afa84046ab1bb36656ca90d2": {
          "model_module": "@jupyter-widgets/base",
          "model_name": "LayoutModel",
          "model_module_version": "1.2.0",
          "state": {
            "_model_module": "@jupyter-widgets/base",
            "_model_module_version": "1.2.0",
            "_model_name": "LayoutModel",
            "_view_count": null,
            "_view_module": "@jupyter-widgets/base",
            "_view_module_version": "1.2.0",
            "_view_name": "LayoutView",
            "align_content": null,
            "align_items": null,
            "align_self": null,
            "border": null,
            "bottom": null,
            "display": null,
            "flex": null,
            "flex_flow": null,
            "grid_area": null,
            "grid_auto_columns": null,
            "grid_auto_flow": null,
            "grid_auto_rows": null,
            "grid_column": null,
            "grid_gap": null,
            "grid_row": null,
            "grid_template_areas": null,
            "grid_template_columns": null,
            "grid_template_rows": null,
            "height": null,
            "justify_content": null,
            "justify_items": null,
            "left": null,
            "margin": null,
            "max_height": null,
            "max_width": null,
            "min_height": null,
            "min_width": null,
            "object_fit": null,
            "object_position": null,
            "order": null,
            "overflow": null,
            "overflow_x": null,
            "overflow_y": null,
            "padding": null,
            "right": null,
            "top": null,
            "visibility": null,
            "width": null
          }
        },
        "b7d453ba6fa84cdfab7099f0f8a5069a": {
          "model_module": "@jupyter-widgets/base",
          "model_name": "LayoutModel",
          "model_module_version": "1.2.0",
          "state": {
            "_model_module": "@jupyter-widgets/base",
            "_model_module_version": "1.2.0",
            "_model_name": "LayoutModel",
            "_view_count": null,
            "_view_module": "@jupyter-widgets/base",
            "_view_module_version": "1.2.0",
            "_view_name": "LayoutView",
            "align_content": null,
            "align_items": null,
            "align_self": null,
            "border": null,
            "bottom": null,
            "display": null,
            "flex": null,
            "flex_flow": null,
            "grid_area": null,
            "grid_auto_columns": null,
            "grid_auto_flow": null,
            "grid_auto_rows": null,
            "grid_column": null,
            "grid_gap": null,
            "grid_row": null,
            "grid_template_areas": null,
            "grid_template_columns": null,
            "grid_template_rows": null,
            "height": null,
            "justify_content": null,
            "justify_items": null,
            "left": null,
            "margin": null,
            "max_height": null,
            "max_width": null,
            "min_height": null,
            "min_width": null,
            "object_fit": null,
            "object_position": null,
            "order": null,
            "overflow": null,
            "overflow_x": null,
            "overflow_y": null,
            "padding": null,
            "right": null,
            "top": null,
            "visibility": null,
            "width": null
          }
        },
        "4a1eb8c4ded24bf983d793a75e7276b6": {
          "model_module": "@jupyter-widgets/base",
          "model_name": "LayoutModel",
          "model_module_version": "1.2.0",
          "state": {
            "_model_module": "@jupyter-widgets/base",
            "_model_module_version": "1.2.0",
            "_model_name": "LayoutModel",
            "_view_count": null,
            "_view_module": "@jupyter-widgets/base",
            "_view_module_version": "1.2.0",
            "_view_name": "LayoutView",
            "align_content": null,
            "align_items": null,
            "align_self": null,
            "border": null,
            "bottom": null,
            "display": null,
            "flex": null,
            "flex_flow": null,
            "grid_area": null,
            "grid_auto_columns": null,
            "grid_auto_flow": null,
            "grid_auto_rows": null,
            "grid_column": null,
            "grid_gap": null,
            "grid_row": null,
            "grid_template_areas": null,
            "grid_template_columns": null,
            "grid_template_rows": null,
            "height": null,
            "justify_content": null,
            "justify_items": null,
            "left": null,
            "margin": null,
            "max_height": null,
            "max_width": null,
            "min_height": null,
            "min_width": null,
            "object_fit": null,
            "object_position": null,
            "order": null,
            "overflow": null,
            "overflow_x": null,
            "overflow_y": null,
            "padding": null,
            "right": null,
            "top": null,
            "visibility": null,
            "width": null
          }
        },
        "c927700aab0a4fec9362f1011297033b": {
          "model_module": "@jupyter-widgets/controls",
          "model_name": "TabModel",
          "model_module_version": "1.5.0",
          "state": {
            "_dom_classes": [],
            "_model_module": "@jupyter-widgets/controls",
            "_model_module_version": "1.5.0",
            "_model_name": "TabModel",
            "_titles": {
              "0": "Youtube",
              "1": "Bilibili"
            },
            "_view_count": null,
            "_view_module": "@jupyter-widgets/controls",
            "_view_module_version": "1.5.0",
            "_view_name": "TabView",
            "box_style": "",
            "children": [
              "IPY_MODEL_c4cf32acc6114acba479b4da30f18215",
              "IPY_MODEL_70e2092bf4ed4e30ae3f3aa2602043fd"
            ],
            "layout": "IPY_MODEL_1ad23488fda44b22b1892749ffd24c17",
            "selected_index": 0
          }
        },
        "c4cf32acc6114acba479b4da30f18215": {
          "model_module": "@jupyter-widgets/output",
          "model_name": "OutputModel",
          "model_module_version": "1.0.0",
          "state": {
            "_dom_classes": [],
            "_model_module": "@jupyter-widgets/output",
            "_model_module_version": "1.0.0",
            "_model_name": "OutputModel",
            "_view_count": null,
            "_view_module": "@jupyter-widgets/output",
            "_view_module_version": "1.0.0",
            "_view_name": "OutputView",
            "layout": "IPY_MODEL_8e9a27fa61c645c5b3e805a6199af3ac",
            "msg_id": "",
            "outputs": [
              {
                "output_type": "stream",
                "name": "stdout",
                "text": [
                  "Video available at https://youtube.com/watch?v=DHhM80MOTe8\n"
                ]
              },
              {
                "output_type": "display_data",
                "data": {
                  "text/plain": "<IPython.lib.display.YouTubeVideo at 0x7f0a9afeca90>",
                  "text/html": "\n        <iframe\n            width=\"854\"\n            height=\"480\"\n            src=\"https://www.youtube.com/embed/DHhM80MOTe8?fs=1&rel=0\"\n            frameborder=\"0\"\n            allowfullscreen\n        ></iframe>\n        ",
                  "image/jpeg": "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\n"
                },
                "metadata": {}
              }
            ]
          }
        },
        "70e2092bf4ed4e30ae3f3aa2602043fd": {
          "model_module": "@jupyter-widgets/output",
          "model_name": "OutputModel",
          "model_module_version": "1.0.0",
          "state": {
            "_dom_classes": [],
            "_model_module": "@jupyter-widgets/output",
            "_model_module_version": "1.0.0",
            "_model_name": "OutputModel",
            "_view_count": null,
            "_view_module": "@jupyter-widgets/output",
            "_view_module_version": "1.0.0",
            "_view_name": "OutputView",
            "layout": "IPY_MODEL_06f940a2c8164c019967aba1f10b32b6",
            "msg_id": "",
            "outputs": [
              {
                "output_type": "stream",
                "name": "stdout",
                "text": [
                  "Video available at https://www.bilibili.com/video/BV1ov411B7Pm\n"
                ]
              },
              {
                "output_type": "display_data",
                "data": {
                  "text/plain": "<__main__.BiliVideo at 0x7f0a9aeb7cd0>",
                  "text/html": "\n        <iframe\n            width=\"854\"\n            height=\"480\"\n            src=\"https://player.bilibili.com/player.html?bvid=BV1ov411B7Pm&page=1?fs=1\"\n            frameborder=\"0\"\n            allowfullscreen\n        ></iframe>\n        "
                },
                "metadata": {}
              }
            ]
          }
        },
        "1ad23488fda44b22b1892749ffd24c17": {
          "model_module": "@jupyter-widgets/base",
          "model_name": "LayoutModel",
          "model_module_version": "1.2.0",
          "state": {
            "_model_module": "@jupyter-widgets/base",
            "_model_module_version": "1.2.0",
            "_model_name": "LayoutModel",
            "_view_count": null,
            "_view_module": "@jupyter-widgets/base",
            "_view_module_version": "1.2.0",
            "_view_name": "LayoutView",
            "align_content": null,
            "align_items": null,
            "align_self": null,
            "border": null,
            "bottom": null,
            "display": null,
            "flex": null,
            "flex_flow": null,
            "grid_area": null,
            "grid_auto_columns": null,
            "grid_auto_flow": null,
            "grid_auto_rows": null,
            "grid_column": null,
            "grid_gap": null,
            "grid_row": null,
            "grid_template_areas": null,
            "grid_template_columns": null,
            "grid_template_rows": null,
            "height": null,
            "justify_content": null,
            "justify_items": null,
            "left": null,
            "margin": null,
            "max_height": null,
            "max_width": null,
            "min_height": null,
            "min_width": null,
            "object_fit": null,
            "object_position": null,
            "order": null,
            "overflow": null,
            "overflow_x": null,
            "overflow_y": null,
            "padding": null,
            "right": null,
            "top": null,
            "visibility": null,
            "width": null
          }
        },
        "8e9a27fa61c645c5b3e805a6199af3ac": {
          "model_module": "@jupyter-widgets/base",
          "model_name": "LayoutModel",
          "model_module_version": "1.2.0",
          "state": {
            "_model_module": "@jupyter-widgets/base",
            "_model_module_version": "1.2.0",
            "_model_name": "LayoutModel",
            "_view_count": null,
            "_view_module": "@jupyter-widgets/base",
            "_view_module_version": "1.2.0",
            "_view_name": "LayoutView",
            "align_content": null,
            "align_items": null,
            "align_self": null,
            "border": null,
            "bottom": null,
            "display": null,
            "flex": null,
            "flex_flow": null,
            "grid_area": null,
            "grid_auto_columns": null,
            "grid_auto_flow": null,
            "grid_auto_rows": null,
            "grid_column": null,
            "grid_gap": null,
            "grid_row": null,
            "grid_template_areas": null,
            "grid_template_columns": null,
            "grid_template_rows": null,
            "height": null,
            "justify_content": null,
            "justify_items": null,
            "left": null,
            "margin": null,
            "max_height": null,
            "max_width": null,
            "min_height": null,
            "min_width": null,
            "object_fit": null,
            "object_position": null,
            "order": null,
            "overflow": null,
            "overflow_x": null,
            "overflow_y": null,
            "padding": null,
            "right": null,
            "top": null,
            "visibility": null,
            "width": null
          }
        },
        "06f940a2c8164c019967aba1f10b32b6": {
          "model_module": "@jupyter-widgets/base",
          "model_name": "LayoutModel",
          "model_module_version": "1.2.0",
          "state": {
            "_model_module": "@jupyter-widgets/base",
            "_model_module_version": "1.2.0",
            "_model_name": "LayoutModel",
            "_view_count": null,
            "_view_module": "@jupyter-widgets/base",
            "_view_module_version": "1.2.0",
            "_view_name": "LayoutView",
            "align_content": null,
            "align_items": null,
            "align_self": null,
            "border": null,
            "bottom": null,
            "display": null,
            "flex": null,
            "flex_flow": null,
            "grid_area": null,
            "grid_auto_columns": null,
            "grid_auto_flow": null,
            "grid_auto_rows": null,
            "grid_column": null,
            "grid_gap": null,
            "grid_row": null,
            "grid_template_areas": null,
            "grid_template_columns": null,
            "grid_template_rows": null,
            "height": null,
            "justify_content": null,
            "justify_items": null,
            "left": null,
            "margin": null,
            "max_height": null,
            "max_width": null,
            "min_height": null,
            "min_width": null,
            "object_fit": null,
            "object_position": null,
            "order": null,
            "overflow": null,
            "overflow_x": null,
            "overflow_y": null,
            "padding": null,
            "right": null,
            "top": null,
            "visibility": null,
            "width": null
          }
        },
        "df41d2c7a2974da1a7813e183f6654dc": {
          "model_module": "@jupyter-widgets/controls",
          "model_name": "VBoxModel",
          "model_module_version": "1.5.0",
          "state": {
            "_dom_classes": [
              "widget-interact"
            ],
            "_model_module": "@jupyter-widgets/controls",
            "_model_module_version": "1.5.0",
            "_model_name": "VBoxModel",
            "_view_count": null,
            "_view_module": "@jupyter-widgets/controls",
            "_view_module_version": "1.5.0",
            "_view_name": "VBoxView",
            "box_style": "",
            "children": [
              "IPY_MODEL_1ad1493638784c9e86125b920368e12d",
              "IPY_MODEL_aef09cca53fb43c08e388c6bb3a2957a",
              "IPY_MODEL_0ed66cba61b04ca3b24cb54a85d297cf",
              "IPY_MODEL_9e59f32cdcdb4bea803d494a21af25fa",
              "IPY_MODEL_c9577b6079ac430dbede04c2b46fff37",
              "IPY_MODEL_9f48e47a8a324e1ca54c9205d2127bdc",
              "IPY_MODEL_f8a0adec6fa642b785d410b9f66318ea",
              "IPY_MODEL_222d278a416e459d9cdfa50d1cb70e76"
            ],
            "layout": "IPY_MODEL_af4ded07d70e432f90e7814c8c70e4b2"
          }
        },
        "1ad1493638784c9e86125b920368e12d": {
          "model_module": "@jupyter-widgets/controls",
          "model_name": "FloatSliderModel",
          "model_module_version": "1.5.0",
          "state": {
            "_dom_classes": [],
            "_model_module": "@jupyter-widgets/controls",
            "_model_module_version": "1.5.0",
            "_model_name": "FloatSliderModel",
            "_view_count": null,
            "_view_module": "@jupyter-widgets/controls",
            "_view_module_version": "1.5.0",
            "_view_name": "FloatSliderView",
            "continuous_update": true,
            "description": "exp_scale",
            "description_tooltip": null,
            "disabled": false,
            "layout": "IPY_MODEL_2c600e84965a489cbe6927a1633716d8",
            "max": 20000,
            "min": 0,
            "orientation": "horizontal",
            "readout": true,
            "readout_format": ".2f",
            "step": 250,
            "style": "IPY_MODEL_bf4e2c6db38345a08f09a588dd19cdaf",
            "value": 11250
          }
        },
        "aef09cca53fb43c08e388c6bb3a2957a": {
          "model_module": "@jupyter-widgets/controls",
          "model_name": "FloatSliderModel",
          "model_module_version": "1.5.0",
          "state": {
            "_dom_classes": [],
            "_model_module": "@jupyter-widgets/controls",
            "_model_module_version": "1.5.0",
            "_model_name": "FloatSliderModel",
            "_view_count": null,
            "_view_module": "@jupyter-widgets/controls",
            "_view_module_version": "1.5.0",
            "_view_name": "FloatSliderView",
            "continuous_update": true,
            "description": "exp_rate",
            "description_tooltip": null,
            "disabled": false,
            "layout": "IPY_MODEL_baebdfc35e394b8391de882ffbfd3d10",
            "max": 50,
            "min": -200,
            "orientation": "horizontal",
            "readout": true,
            "readout_format": ".2f",
            "step": 1,
            "style": "IPY_MODEL_abd26ed2342f4bea9941c172eba00981",
            "value": -50
          }
        },
        "0ed66cba61b04ca3b24cb54a85d297cf": {
          "model_module": "@jupyter-widgets/controls",
          "model_name": "FloatSliderModel",
          "model_module_version": "1.5.0",
          "state": {
            "_dom_classes": [],
            "_model_module": "@jupyter-widgets/controls",
            "_model_module_version": "1.5.0",
            "_model_name": "FloatSliderModel",
            "_view_count": null,
            "_view_module": "@jupyter-widgets/controls",
            "_view_module_version": "1.5.0",
            "_view_name": "FloatSliderView",
            "continuous_update": true,
            "description": "exp_x0",
            "description_tooltip": null,
            "disabled": false,
            "layout": "IPY_MODEL_07f23b05799641e8a75efd1140d3fd07",
            "max": 0.5,
            "min": -0.5,
            "orientation": "horizontal",
            "readout": true,
            "readout_format": ".2f",
            "step": 0.005,
            "style": "IPY_MODEL_f9100e0eabc04d26bd76f92fc2125154",
            "value": 0.025
          }
        },
        "9e59f32cdcdb4bea803d494a21af25fa": {
          "model_module": "@jupyter-widgets/controls",
          "model_name": "FloatSliderModel",
          "model_module_version": "1.5.0",
          "state": {
            "_dom_classes": [],
            "_model_module": "@jupyter-widgets/controls",
            "_model_module_version": "1.5.0",
            "_model_name": "FloatSliderModel",
            "_view_count": null,
            "_view_module": "@jupyter-widgets/controls",
            "_view_module_version": "1.5.0",
            "_view_name": "FloatSliderView",
            "continuous_update": true,
            "description": "inv_scale",
            "description_tooltip": null,
            "disabled": false,
            "layout": "IPY_MODEL_87d87457bf0e4e319b90e3571fff4b63",
            "max": 300,
            "min": 0,
            "orientation": "horizontal",
            "readout": true,
            "readout_format": ".2f",
            "step": 10,
            "style": "IPY_MODEL_fd1b180235734007bbbb2c403e2d685c",
            "value": 270
          }
        },
        "c9577b6079ac430dbede04c2b46fff37": {
          "model_module": "@jupyter-widgets/controls",
          "model_name": "FloatSliderModel",
          "model_module_version": "1.5.0",
          "state": {
            "_dom_classes": [],
            "_model_module": "@jupyter-widgets/controls",
            "_model_module_version": "1.5.0",
            "_model_name": "FloatSliderModel",
            "_view_count": null,
            "_view_module": "@jupyter-widgets/controls",
            "_view_module_version": "1.5.0",
            "_view_name": "FloatSliderView",
            "continuous_update": true,
            "description": "inv_x0",
            "description_tooltip": null,
            "disabled": false,
            "layout": "IPY_MODEL_b0823a3c7584455fb03db1f7ce5c85c3",
            "max": 0.2,
            "min": -0.2,
            "orientation": "horizontal",
            "readout": true,
            "readout_format": ".2f",
            "step": 0.01,
            "style": "IPY_MODEL_7561d63e91c242a98322882ab7c6440d",
            "value": -0.01
          }
        },
        "9f48e47a8a324e1ca54c9205d2127bdc": {
          "model_module": "@jupyter-widgets/controls",
          "model_name": "FloatSliderModel",
          "model_module_version": "1.5.0",
          "state": {
            "_dom_classes": [],
            "_model_module": "@jupyter-widgets/controls",
            "_model_module_version": "1.5.0",
            "_model_name": "FloatSliderModel",
            "_view_count": null,
            "_view_module": "@jupyter-widgets/controls",
            "_view_module_version": "1.5.0",
            "_view_name": "FloatSliderView",
            "continuous_update": true,
            "description": "lin_slope",
            "description_tooltip": null,
            "disabled": false,
            "layout": "IPY_MODEL_779d9de12e9540d4bcae4e7c5ad5fde6",
            "max": 100000,
            "min": -600000,
            "orientation": "horizontal",
            "readout": true,
            "readout_format": ".2f",
            "step": 10000,
            "style": "IPY_MODEL_2763b9a0d4bb46048e7c979c35467e33",
            "value": -460000
          }
        },
        "f8a0adec6fa642b785d410b9f66318ea": {
          "model_module": "@jupyter-widgets/controls",
          "model_name": "FloatSliderModel",
          "model_module_version": "1.5.0",
          "state": {
            "_dom_classes": [],
            "_model_module": "@jupyter-widgets/controls",
            "_model_module_version": "1.5.0",
            "_model_name": "FloatSliderModel",
            "_view_count": null,
            "_view_module": "@jupyter-widgets/controls",
            "_view_module_version": "1.5.0",
            "_view_name": "FloatSliderView",
            "continuous_update": true,
            "description": "lin_y0",
            "description_tooltip": null,
            "disabled": false,
            "layout": "IPY_MODEL_fb26fb5243c2455e995f7e69ed76c178",
            "max": 40000,
            "min": 0,
            "orientation": "horizontal",
            "readout": true,
            "readout_format": ".2f",
            "step": 1000,
            "style": "IPY_MODEL_5cb3c125bd7448068bfd73442fc596c9",
            "value": 10000
          }
        },
        "222d278a416e459d9cdfa50d1cb70e76": {
          "model_module": "@jupyter-widgets/output",
          "model_name": "OutputModel",
          "model_module_version": "1.0.0",
          "state": {
            "_dom_classes": [],
            "_model_module": "@jupyter-widgets/output",
            "_model_module_version": "1.0.0",
            "_model_name": "OutputModel",
            "_view_count": null,
            "_view_module": "@jupyter-widgets/output",
            "_view_module_version": "1.0.0",
            "_view_name": "OutputView",
            "layout": "IPY_MODEL_d7cbd4e1739548f9bf8f5d04369b260d",
            "msg_id": "",
            "outputs": [
              {
                "output_type": "display_data",
                "data": {
                  "text/plain": "<Figure size 576x432 with 1 Axes>",
                  "image/png": "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\n"
                },
                "metadata": {
                  "image/png": {
                    "width": 558,
                    "height": 413
                  },
                  "needs_background": "light"
                }
              }
            ]
          }
        },
        "af4ded07d70e432f90e7814c8c70e4b2": {
          "model_module": "@jupyter-widgets/base",
          "model_name": "LayoutModel",
          "model_module_version": "1.2.0",
          "state": {
            "_model_module": "@jupyter-widgets/base",
            "_model_module_version": "1.2.0",
            "_model_name": "LayoutModel",
            "_view_count": null,
            "_view_module": "@jupyter-widgets/base",
            "_view_module_version": "1.2.0",
            "_view_name": "LayoutView",
            "align_content": null,
            "align_items": null,
            "align_self": null,
            "border": null,
            "bottom": null,
            "display": null,
            "flex": null,
            "flex_flow": null,
            "grid_area": null,
            "grid_auto_columns": null,
            "grid_auto_flow": null,
            "grid_auto_rows": null,
            "grid_column": null,
            "grid_gap": null,
            "grid_row": null,
            "grid_template_areas": null,
            "grid_template_columns": null,
            "grid_template_rows": null,
            "height": null,
            "justify_content": null,
            "justify_items": null,
            "left": null,
            "margin": null,
            "max_height": null,
            "max_width": null,
            "min_height": null,
            "min_width": null,
            "object_fit": null,
            "object_position": null,
            "order": null,
            "overflow": null,
            "overflow_x": null,
            "overflow_y": null,
            "padding": null,
            "right": null,
            "top": null,
            "visibility": null,
            "width": null
          }
        },
        "2c600e84965a489cbe6927a1633716d8": {
          "model_module": "@jupyter-widgets/base",
          "model_name": "LayoutModel",
          "model_module_version": "1.2.0",
          "state": {
            "_model_module": "@jupyter-widgets/base",
            "_model_module_version": "1.2.0",
            "_model_name": "LayoutModel",
            "_view_count": null,
            "_view_module": "@jupyter-widgets/base",
            "_view_module_version": "1.2.0",
            "_view_name": "LayoutView",
            "align_content": null,
            "align_items": null,
            "align_self": null,
            "border": null,
            "bottom": null,
            "display": null,
            "flex": null,
            "flex_flow": null,
            "grid_area": null,
            "grid_auto_columns": null,
            "grid_auto_flow": null,
            "grid_auto_rows": null,
            "grid_column": null,
            "grid_gap": null,
            "grid_row": null,
            "grid_template_areas": null,
            "grid_template_columns": null,
            "grid_template_rows": null,
            "height": null,
            "justify_content": null,
            "justify_items": null,
            "left": null,
            "margin": null,
            "max_height": null,
            "max_width": null,
            "min_height": null,
            "min_width": null,
            "object_fit": null,
            "object_position": null,
            "order": null,
            "overflow": null,
            "overflow_x": null,
            "overflow_y": null,
            "padding": null,
            "right": null,
            "top": null,
            "visibility": null,
            "width": null
          }
        },
        "bf4e2c6db38345a08f09a588dd19cdaf": {
          "model_module": "@jupyter-widgets/controls",
          "model_name": "SliderStyleModel",
          "model_module_version": "1.5.0",
          "state": {
            "_model_module": "@jupyter-widgets/controls",
            "_model_module_version": "1.5.0",
            "_model_name": "SliderStyleModel",
            "_view_count": null,
            "_view_module": "@jupyter-widgets/base",
            "_view_module_version": "1.2.0",
            "_view_name": "StyleView",
            "description_width": "",
            "handle_color": null
          }
        },
        "baebdfc35e394b8391de882ffbfd3d10": {
          "model_module": "@jupyter-widgets/base",
          "model_name": "LayoutModel",
          "model_module_version": "1.2.0",
          "state": {
            "_model_module": "@jupyter-widgets/base",
            "_model_module_version": "1.2.0",
            "_model_name": "LayoutModel",
            "_view_count": null,
            "_view_module": "@jupyter-widgets/base",
            "_view_module_version": "1.2.0",
            "_view_name": "LayoutView",
            "align_content": null,
            "align_items": null,
            "align_self": null,
            "border": null,
            "bottom": null,
            "display": null,
            "flex": null,
            "flex_flow": null,
            "grid_area": null,
            "grid_auto_columns": null,
            "grid_auto_flow": null,
            "grid_auto_rows": null,
            "grid_column": null,
            "grid_gap": null,
            "grid_row": null,
            "grid_template_areas": null,
            "grid_template_columns": null,
            "grid_template_rows": null,
            "height": null,
            "justify_content": null,
            "justify_items": null,
            "left": null,
            "margin": null,
            "max_height": null,
            "max_width": null,
            "min_height": null,
            "min_width": null,
            "object_fit": null,
            "object_position": null,
            "order": null,
            "overflow": null,
            "overflow_x": null,
            "overflow_y": null,
            "padding": null,
            "right": null,
            "top": null,
            "visibility": null,
            "width": null
          }
        },
        "abd26ed2342f4bea9941c172eba00981": {
          "model_module": "@jupyter-widgets/controls",
          "model_name": "SliderStyleModel",
          "model_module_version": "1.5.0",
          "state": {
            "_model_module": "@jupyter-widgets/controls",
            "_model_module_version": "1.5.0",
            "_model_name": "SliderStyleModel",
            "_view_count": null,
            "_view_module": "@jupyter-widgets/base",
            "_view_module_version": "1.2.0",
            "_view_name": "StyleView",
            "description_width": "",
            "handle_color": null
          }
        },
        "07f23b05799641e8a75efd1140d3fd07": {
          "model_module": "@jupyter-widgets/base",
          "model_name": "LayoutModel",
          "model_module_version": "1.2.0",
          "state": {
            "_model_module": "@jupyter-widgets/base",
            "_model_module_version": "1.2.0",
            "_model_name": "LayoutModel",
            "_view_count": null,
            "_view_module": "@jupyter-widgets/base",
            "_view_module_version": "1.2.0",
            "_view_name": "LayoutView",
            "align_content": null,
            "align_items": null,
            "align_self": null,
            "border": null,
            "bottom": null,
            "display": null,
            "flex": null,
            "flex_flow": null,
            "grid_area": null,
            "grid_auto_columns": null,
            "grid_auto_flow": null,
            "grid_auto_rows": null,
            "grid_column": null,
            "grid_gap": null,
            "grid_row": null,
            "grid_template_areas": null,
            "grid_template_columns": null,
            "grid_template_rows": null,
            "height": null,
            "justify_content": null,
            "justify_items": null,
            "left": null,
            "margin": null,
            "max_height": null,
            "max_width": null,
            "min_height": null,
            "min_width": null,
            "object_fit": null,
            "object_position": null,
            "order": null,
            "overflow": null,
            "overflow_x": null,
            "overflow_y": null,
            "padding": null,
            "right": null,
            "top": null,
            "visibility": null,
            "width": null
          }
        },
        "f9100e0eabc04d26bd76f92fc2125154": {
          "model_module": "@jupyter-widgets/controls",
          "model_name": "SliderStyleModel",
          "model_module_version": "1.5.0",
          "state": {
            "_model_module": "@jupyter-widgets/controls",
            "_model_module_version": "1.5.0",
            "_model_name": "SliderStyleModel",
            "_view_count": null,
            "_view_module": "@jupyter-widgets/base",
            "_view_module_version": "1.2.0",
            "_view_name": "StyleView",
            "description_width": "",
            "handle_color": null
          }
        },
        "87d87457bf0e4e319b90e3571fff4b63": {
          "model_module": "@jupyter-widgets/base",
          "model_name": "LayoutModel",
          "model_module_version": "1.2.0",
          "state": {
            "_model_module": "@jupyter-widgets/base",
            "_model_module_version": "1.2.0",
            "_model_name": "LayoutModel",
            "_view_count": null,
            "_view_module": "@jupyter-widgets/base",
            "_view_module_version": "1.2.0",
            "_view_name": "LayoutView",
            "align_content": null,
            "align_items": null,
            "align_self": null,
            "border": null,
            "bottom": null,
            "display": null,
            "flex": null,
            "flex_flow": null,
            "grid_area": null,
            "grid_auto_columns": null,
            "grid_auto_flow": null,
            "grid_auto_rows": null,
            "grid_column": null,
            "grid_gap": null,
            "grid_row": null,
            "grid_template_areas": null,
            "grid_template_columns": null,
            "grid_template_rows": null,
            "height": null,
            "justify_content": null,
            "justify_items": null,
            "left": null,
            "margin": null,
            "max_height": null,
            "max_width": null,
            "min_height": null,
            "min_width": null,
            "object_fit": null,
            "object_position": null,
            "order": null,
            "overflow": null,
            "overflow_x": null,
            "overflow_y": null,
            "padding": null,
            "right": null,
            "top": null,
            "visibility": null,
            "width": null
          }
        },
        "fd1b180235734007bbbb2c403e2d685c": {
          "model_module": "@jupyter-widgets/controls",
          "model_name": "SliderStyleModel",
          "model_module_version": "1.5.0",
          "state": {
            "_model_module": "@jupyter-widgets/controls",
            "_model_module_version": "1.5.0",
            "_model_name": "SliderStyleModel",
            "_view_count": null,
            "_view_module": "@jupyter-widgets/base",
            "_view_module_version": "1.2.0",
            "_view_name": "StyleView",
            "description_width": "",
            "handle_color": null
          }
        },
        "b0823a3c7584455fb03db1f7ce5c85c3": {
          "model_module": "@jupyter-widgets/base",
          "model_name": "LayoutModel",
          "model_module_version": "1.2.0",
          "state": {
            "_model_module": "@jupyter-widgets/base",
            "_model_module_version": "1.2.0",
            "_model_name": "LayoutModel",
            "_view_count": null,
            "_view_module": "@jupyter-widgets/base",
            "_view_module_version": "1.2.0",
            "_view_name": "LayoutView",
            "align_content": null,
            "align_items": null,
            "align_self": null,
            "border": null,
            "bottom": null,
            "display": null,
            "flex": null,
            "flex_flow": null,
            "grid_area": null,
            "grid_auto_columns": null,
            "grid_auto_flow": null,
            "grid_auto_rows": null,
            "grid_column": null,
            "grid_gap": null,
            "grid_row": null,
            "grid_template_areas": null,
            "grid_template_columns": null,
            "grid_template_rows": null,
            "height": null,
            "justify_content": null,
            "justify_items": null,
            "left": null,
            "margin": null,
            "max_height": null,
            "max_width": null,
            "min_height": null,
            "min_width": null,
            "object_fit": null,
            "object_position": null,
            "order": null,
            "overflow": null,
            "overflow_x": null,
            "overflow_y": null,
            "padding": null,
            "right": null,
            "top": null,
            "visibility": null,
            "width": null
          }
        },
        "7561d63e91c242a98322882ab7c6440d": {
          "model_module": "@jupyter-widgets/controls",
          "model_name": "SliderStyleModel",
          "model_module_version": "1.5.0",
          "state": {
            "_model_module": "@jupyter-widgets/controls",
            "_model_module_version": "1.5.0",
            "_model_name": "SliderStyleModel",
            "_view_count": null,
            "_view_module": "@jupyter-widgets/base",
            "_view_module_version": "1.2.0",
            "_view_name": "StyleView",
            "description_width": "",
            "handle_color": null
          }
        },
        "779d9de12e9540d4bcae4e7c5ad5fde6": {
          "model_module": "@jupyter-widgets/base",
          "model_name": "LayoutModel",
          "model_module_version": "1.2.0",
          "state": {
            "_model_module": "@jupyter-widgets/base",
            "_model_module_version": "1.2.0",
            "_model_name": "LayoutModel",
            "_view_count": null,
            "_view_module": "@jupyter-widgets/base",
            "_view_module_version": "1.2.0",
            "_view_name": "LayoutView",
            "align_content": null,
            "align_items": null,
            "align_self": null,
            "border": null,
            "bottom": null,
            "display": null,
            "flex": null,
            "flex_flow": null,
            "grid_area": null,
            "grid_auto_columns": null,
            "grid_auto_flow": null,
            "grid_auto_rows": null,
            "grid_column": null,
            "grid_gap": null,
            "grid_row": null,
            "grid_template_areas": null,
            "grid_template_columns": null,
            "grid_template_rows": null,
            "height": null,
            "justify_content": null,
            "justify_items": null,
            "left": null,
            "margin": null,
            "max_height": null,
            "max_width": null,
            "min_height": null,
            "min_width": null,
            "object_fit": null,
            "object_position": null,
            "order": null,
            "overflow": null,
            "overflow_x": null,
            "overflow_y": null,
            "padding": null,
            "right": null,
            "top": null,
            "visibility": null,
            "width": null
          }
        },
        "2763b9a0d4bb46048e7c979c35467e33": {
          "model_module": "@jupyter-widgets/controls",
          "model_name": "SliderStyleModel",
          "model_module_version": "1.5.0",
          "state": {
            "_model_module": "@jupyter-widgets/controls",
            "_model_module_version": "1.5.0",
            "_model_name": "SliderStyleModel",
            "_view_count": null,
            "_view_module": "@jupyter-widgets/base",
            "_view_module_version": "1.2.0",
            "_view_name": "StyleView",
            "description_width": "",
            "handle_color": null
          }
        },
        "fb26fb5243c2455e995f7e69ed76c178": {
          "model_module": "@jupyter-widgets/base",
          "model_name": "LayoutModel",
          "model_module_version": "1.2.0",
          "state": {
            "_model_module": "@jupyter-widgets/base",
            "_model_module_version": "1.2.0",
            "_model_name": "LayoutModel",
            "_view_count": null,
            "_view_module": "@jupyter-widgets/base",
            "_view_module_version": "1.2.0",
            "_view_name": "LayoutView",
            "align_content": null,
            "align_items": null,
            "align_self": null,
            "border": null,
            "bottom": null,
            "display": null,
            "flex": null,
            "flex_flow": null,
            "grid_area": null,
            "grid_auto_columns": null,
            "grid_auto_flow": null,
            "grid_auto_rows": null,
            "grid_column": null,
            "grid_gap": null,
            "grid_row": null,
            "grid_template_areas": null,
            "grid_template_columns": null,
            "grid_template_rows": null,
            "height": null,
            "justify_content": null,
            "justify_items": null,
            "left": null,
            "margin": null,
            "max_height": null,
            "max_width": null,
            "min_height": null,
            "min_width": null,
            "object_fit": null,
            "object_position": null,
            "order": null,
            "overflow": null,
            "overflow_x": null,
            "overflow_y": null,
            "padding": null,
            "right": null,
            "top": null,
            "visibility": null,
            "width": null
          }
        },
        "5cb3c125bd7448068bfd73442fc596c9": {
          "model_module": "@jupyter-widgets/controls",
          "model_name": "SliderStyleModel",
          "model_module_version": "1.5.0",
          "state": {
            "_model_module": "@jupyter-widgets/controls",
            "_model_module_version": "1.5.0",
            "_model_name": "SliderStyleModel",
            "_view_count": null,
            "_view_module": "@jupyter-widgets/base",
            "_view_module_version": "1.2.0",
            "_view_name": "StyleView",
            "description_width": "",
            "handle_color": null
          }
        },
        "d7cbd4e1739548f9bf8f5d04369b260d": {
          "model_module": "@jupyter-widgets/base",
          "model_name": "LayoutModel",
          "model_module_version": "1.2.0",
          "state": {
            "_model_module": "@jupyter-widgets/base",
            "_model_module_version": "1.2.0",
            "_model_name": "LayoutModel",
            "_view_count": null,
            "_view_module": "@jupyter-widgets/base",
            "_view_module_version": "1.2.0",
            "_view_name": "LayoutView",
            "align_content": null,
            "align_items": null,
            "align_self": null,
            "border": null,
            "bottom": null,
            "display": null,
            "flex": null,
            "flex_flow": null,
            "grid_area": null,
            "grid_auto_columns": null,
            "grid_auto_flow": null,
            "grid_auto_rows": null,
            "grid_column": null,
            "grid_gap": null,
            "grid_row": null,
            "grid_template_areas": null,
            "grid_template_columns": null,
            "grid_template_rows": null,
            "height": null,
            "justify_content": null,
            "justify_items": null,
            "left": null,
            "margin": null,
            "max_height": null,
            "max_width": null,
            "min_height": null,
            "min_width": null,
            "object_fit": null,
            "object_position": null,
            "order": null,
            "overflow": null,
            "overflow_x": null,
            "overflow_y": null,
            "padding": null,
            "right": null,
            "top": null,
            "visibility": null,
            "width": null
          }
        },
        "c1910bb77f7e4b14ae38710692e3e6a5": {
          "model_module": "@jupyter-widgets/controls",
          "model_name": "TabModel",
          "model_module_version": "1.5.0",
          "state": {
            "_dom_classes": [],
            "_model_module": "@jupyter-widgets/controls",
            "_model_module_version": "1.5.0",
            "_model_name": "TabModel",
            "_titles": {
              "0": "Youtube",
              "1": "Bilibili"
            },
            "_view_count": null,
            "_view_module": "@jupyter-widgets/controls",
            "_view_module_version": "1.5.0",
            "_view_name": "TabView",
            "box_style": "",
            "children": [
              "IPY_MODEL_7700010f35464173a15d3a20ddfca8a5",
              "IPY_MODEL_e0b2d56ea45c4e048c3f436aaebe9eb3"
            ],
            "layout": "IPY_MODEL_5ef9d0f6e04142e48f87d7f9700b87d8",
            "selected_index": 0
          }
        },
        "7700010f35464173a15d3a20ddfca8a5": {
          "model_module": "@jupyter-widgets/output",
          "model_name": "OutputModel",
          "model_module_version": "1.0.0",
          "state": {
            "_dom_classes": [],
            "_model_module": "@jupyter-widgets/output",
            "_model_module_version": "1.0.0",
            "_model_name": "OutputModel",
            "_view_count": null,
            "_view_module": "@jupyter-widgets/output",
            "_view_module_version": "1.0.0",
            "_view_name": "OutputView",
            "layout": "IPY_MODEL_c2d7dfeb8eb54e01b4cf8504d7cd9925",
            "msg_id": "",
            "outputs": [
              {
                "output_type": "stream",
                "name": "stdout",
                "text": [
                  "Video available at https://youtube.com/watch?v=uW2HDk_4-wk\n"
                ]
              },
              {
                "output_type": "display_data",
                "data": {
                  "text/plain": "<IPython.lib.display.YouTubeVideo at 0x7f0a9ae70710>",
                  "text/html": "\n        <iframe\n            width=\"854\"\n            height=\"480\"\n            src=\"https://www.youtube.com/embed/uW2HDk_4-wk?fs=1&rel=0\"\n            frameborder=\"0\"\n            allowfullscreen\n        ></iframe>\n        ",
                  "image/jpeg": "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\n"
                },
                "metadata": {}
              }
            ]
          }
        },
        "e0b2d56ea45c4e048c3f436aaebe9eb3": {
          "model_module": "@jupyter-widgets/output",
          "model_name": "OutputModel",
          "model_module_version": "1.0.0",
          "state": {
            "_dom_classes": [],
            "_model_module": "@jupyter-widgets/output",
            "_model_module_version": "1.0.0",
            "_model_name": "OutputModel",
            "_view_count": null,
            "_view_module": "@jupyter-widgets/output",
            "_view_module_version": "1.0.0",
            "_view_name": "OutputView",
            "layout": "IPY_MODEL_0ecab0fde61247558a024b3c4b834b55",
            "msg_id": "",
            "outputs": [
              {
                "output_type": "stream",
                "name": "stdout",
                "text": [
                  "Video available at https://www.bilibili.com/video/BV1w54y1S7Eb\n"
                ]
              },
              {
                "output_type": "display_data",
                "data": {
                  "text/plain": "<__main__.BiliVideo at 0x7f0a9ae76610>",
                  "text/html": "\n        <iframe\n            width=\"854\"\n            height=\"480\"\n            src=\"https://player.bilibili.com/player.html?bvid=BV1w54y1S7Eb&page=1?fs=1\"\n            frameborder=\"0\"\n            allowfullscreen\n        ></iframe>\n        "
                },
                "metadata": {}
              }
            ]
          }
        },
        "5ef9d0f6e04142e48f87d7f9700b87d8": {
          "model_module": "@jupyter-widgets/base",
          "model_name": "LayoutModel",
          "model_module_version": "1.2.0",
          "state": {
            "_model_module": "@jupyter-widgets/base",
            "_model_module_version": "1.2.0",
            "_model_name": "LayoutModel",
            "_view_count": null,
            "_view_module": "@jupyter-widgets/base",
            "_view_module_version": "1.2.0",
            "_view_name": "LayoutView",
            "align_content": null,
            "align_items": null,
            "align_self": null,
            "border": null,
            "bottom": null,
            "display": null,
            "flex": null,
            "flex_flow": null,
            "grid_area": null,
            "grid_auto_columns": null,
            "grid_auto_flow": null,
            "grid_auto_rows": null,
            "grid_column": null,
            "grid_gap": null,
            "grid_row": null,
            "grid_template_areas": null,
            "grid_template_columns": null,
            "grid_template_rows": null,
            "height": null,
            "justify_content": null,
            "justify_items": null,
            "left": null,
            "margin": null,
            "max_height": null,
            "max_width": null,
            "min_height": null,
            "min_width": null,
            "object_fit": null,
            "object_position": null,
            "order": null,
            "overflow": null,
            "overflow_x": null,
            "overflow_y": null,
            "padding": null,
            "right": null,
            "top": null,
            "visibility": null,
            "width": null
          }
        },
        "c2d7dfeb8eb54e01b4cf8504d7cd9925": {
          "model_module": "@jupyter-widgets/base",
          "model_name": "LayoutModel",
          "model_module_version": "1.2.0",
          "state": {
            "_model_module": "@jupyter-widgets/base",
            "_model_module_version": "1.2.0",
            "_model_name": "LayoutModel",
            "_view_count": null,
            "_view_module": "@jupyter-widgets/base",
            "_view_module_version": "1.2.0",
            "_view_name": "LayoutView",
            "align_content": null,
            "align_items": null,
            "align_self": null,
            "border": null,
            "bottom": null,
            "display": null,
            "flex": null,
            "flex_flow": null,
            "grid_area": null,
            "grid_auto_columns": null,
            "grid_auto_flow": null,
            "grid_auto_rows": null,
            "grid_column": null,
            "grid_gap": null,
            "grid_row": null,
            "grid_template_areas": null,
            "grid_template_columns": null,
            "grid_template_rows": null,
            "height": null,
            "justify_content": null,
            "justify_items": null,
            "left": null,
            "margin": null,
            "max_height": null,
            "max_width": null,
            "min_height": null,
            "min_width": null,
            "object_fit": null,
            "object_position": null,
            "order": null,
            "overflow": null,
            "overflow_x": null,
            "overflow_y": null,
            "padding": null,
            "right": null,
            "top": null,
            "visibility": null,
            "width": null
          }
        },
        "0ecab0fde61247558a024b3c4b834b55": {
          "model_module": "@jupyter-widgets/base",
          "model_name": "LayoutModel",
          "model_module_version": "1.2.0",
          "state": {
            "_model_module": "@jupyter-widgets/base",
            "_model_module_version": "1.2.0",
            "_model_name": "LayoutModel",
            "_view_count": null,
            "_view_module": "@jupyter-widgets/base",
            "_view_module_version": "1.2.0",
            "_view_name": "LayoutView",
            "align_content": null,
            "align_items": null,
            "align_self": null,
            "border": null,
            "bottom": null,
            "display": null,
            "flex": null,
            "flex_flow": null,
            "grid_area": null,
            "grid_auto_columns": null,
            "grid_auto_flow": null,
            "grid_auto_rows": null,
            "grid_column": null,
            "grid_gap": null,
            "grid_row": null,
            "grid_template_areas": null,
            "grid_template_columns": null,
            "grid_template_rows": null,
            "height": null,
            "justify_content": null,
            "justify_items": null,
            "left": null,
            "margin": null,
            "max_height": null,
            "max_width": null,
            "min_height": null,
            "min_width": null,
            "object_fit": null,
            "object_position": null,
            "order": null,
            "overflow": null,
            "overflow_x": null,
            "overflow_y": null,
            "padding": null,
            "right": null,
            "top": null,
            "visibility": null,
            "width": null
          }
        }
      }
    }
  },
  "nbformat": 4,
  "nbformat_minor": 0
}