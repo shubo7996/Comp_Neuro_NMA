{
  "cells": [
    {
      "cell_type": "markdown",
      "metadata": {
        "id": "view-in-github",
        "colab_type": "text"
      },
      "source": [
        "<a href=\"https://colab.research.google.com/github/shubo7996/Comp_Neuro_NMA/blob/main/tutorials/W2D4_DynamicNetworks/student/W2D4_Tutorial1.ipynb\" target=\"_parent\"><img src=\"https://colab.research.google.com/assets/colab-badge.svg\" alt=\"Open In Colab\"/></a>"
      ]
    },
    {
      "cell_type": "markdown",
      "metadata": {
        "execution": {},
        "id": "5PS7ntdEuWMh"
      },
      "source": [
        "# Tutorial 1: Neural Rate Models\n",
        "**Week 2, Day 4: Dynamic Networks**\n",
        "\n",
        "**By Neuromatch Academy**\n",
        "\n",
        "__Content creators:__ Qinglong Gu, Songtin Li, Arvind Kumar, John Murray, Julijana Gjorgjieva \n",
        "\n",
        "__Content reviewers:__  Maryam Vaziri-Pashkam, Ella Batty, Lorenzo Fontolan, Richard Gao, Spiros Chavlis, Michael Waskom, Siddharth Suresh\n",
        "\n",
        "__Post-production team:__ Gagana B, Spiros Chavlis"
      ]
    },
    {
      "cell_type": "markdown",
      "metadata": {
        "execution": {},
        "id": "DmoEjkERuWMk"
      },
      "source": [
        "<p align='center'><img src='https://github.com/NeuromatchAcademy/widgets/blob/master/sponsors.png?raw=True'/></p>"
      ]
    },
    {
      "cell_type": "markdown",
      "metadata": {
        "execution": {},
        "id": "NGVOFuCEuWMl"
      },
      "source": [
        "---\n",
        "# Tutorial Objectives\n",
        "\n",
        "*Estimated timing of tutorial: 1 hour, 25 minutes*\n",
        "\n",
        "The brain is a complex system, not because it is composed of a large number of diverse types of neurons, but mainly because of how neurons are connected to each other. The brain is indeed a network of highly specialized neuronal networks. \n",
        "\n",
        "The activity of a neural network constantly evolves in time. For this reason, neurons can be modeled as dynamical systems. The dynamical system approach is only one of the many modeling approaches that computational neuroscientists have developed (other points of view include information processing,  statistical models, etc.). \n",
        "\n",
        "How the dynamics of neuronal networks affect the representation and processing of information in the brain is an open question. However, signatures of altered brain dynamics present in many brain diseases (e.g., in epilepsy or Parkinson's disease) tell us that it is crucial to study network activity dynamics if we want to understand the brain.\n",
        "\n",
        "In this tutorial, we will simulate and study one of the simplest models of biological neuronal networks. Instead of modeling and simulating individual excitatory neurons (e.g., LIF models that you implemented yesterday), we will treat them as a single homogeneous population and approximate their dynamics using a single one-dimensional equation describing the evolution of their average spiking rate in time.\n",
        "\n",
        "In this tutorial, we will learn how to build a firing rate model of a single population of excitatory neurons. \n",
        "\n",
        "<br>\n",
        "\n",
        "**Steps:**\n",
        "- Write the equation for the firing rate dynamics of a 1D excitatory population.\n",
        "- Visualize the response of the population as a function of parameters such as threshold level and gain, using the frequency-current (F-I) curve.\n",
        "- Numerically simulate the dynamics of the excitatory population and find the fixed points of the system."
      ]
    },
    {
      "cell_type": "code",
      "execution_count": 1,
      "metadata": {
        "cellView": "form",
        "execution": {},
        "id": "e65yHSZMuWMm",
        "outputId": "7ce084e8-18bb-4efd-f692-87dec57bc7b4",
        "colab": {
          "base_uri": "https://localhost:8080/",
          "height": 501
        }
      },
      "outputs": [
        {
          "output_type": "execute_result",
          "data": {
            "text/plain": [
              "<IPython.lib.display.IFrame at 0x7fe13e98d3d0>"
            ],
            "text/html": [
              "\n",
              "        <iframe\n",
              "            width=\"854\"\n",
              "            height=\"480\"\n",
              "            src=\"https://mfr.ca-1.osf.io/render?url=https://osf.io/nvuty/?direct%26mode=render%26action=download%26mode=render\"\n",
              "            frameborder=\"0\"\n",
              "            allowfullscreen\n",
              "        ></iframe>\n",
              "        "
            ]
          },
          "metadata": {},
          "execution_count": 1
        }
      ],
      "source": [
        "# @title Tutorial slides\n",
        "\n",
        "# @markdown These are the slides for the videos in all tutorials today\n",
        "from IPython.display import IFrame\n",
        "IFrame(src=f\"https://mfr.ca-1.osf.io/render?url=https://osf.io/nvuty/?direct%26mode=render%26action=download%26mode=render\", width=854, height=480)"
      ]
    },
    {
      "cell_type": "markdown",
      "metadata": {
        "execution": {},
        "id": "s2CJG58_uWMo"
      },
      "source": [
        "---\n",
        "# Setup"
      ]
    },
    {
      "cell_type": "code",
      "execution_count": 2,
      "metadata": {
        "cellView": "both",
        "execution": {},
        "id": "9MMiVKvvuWMo"
      },
      "outputs": [],
      "source": [
        "# Imports\n",
        "import matplotlib.pyplot as plt\n",
        "import numpy as np\n",
        "import scipy.optimize as opt  # root-finding algorithm"
      ]
    },
    {
      "cell_type": "code",
      "execution_count": 3,
      "metadata": {
        "cellView": "form",
        "execution": {},
        "id": "tyGDUl-muWMp"
      },
      "outputs": [],
      "source": [
        "# @title Figure Settings\n",
        "import ipywidgets as widgets       # interactive display\n",
        "%config InlineBackend.figure_format = 'retina'\n",
        "plt.style.use(\"https://raw.githubusercontent.com/NeuromatchAcademy/course-content/main/nma.mplstyle\")"
      ]
    },
    {
      "cell_type": "code",
      "execution_count": 4,
      "metadata": {
        "cellView": "form",
        "execution": {},
        "id": "qDdhVDQAuWMp"
      },
      "outputs": [],
      "source": [
        "# @title Plotting Functions\n",
        "\n",
        "\n",
        "def plot_fI(x, f):\n",
        "  plt.figure(figsize=(6, 4))  # plot the figure\n",
        "  plt.plot(x, f, 'k')\n",
        "  plt.xlabel('x (a.u.)', fontsize=14)\n",
        "  plt.ylabel('F(x)', fontsize=14)\n",
        "  plt.show()\n",
        "\n",
        "\n",
        "def plot_dr_r(r, drdt, x_fps=None):\n",
        "  plt.figure()\n",
        "  plt.plot(r, drdt, 'k')\n",
        "  plt.plot(r, 0. * r, 'k--')\n",
        "  if x_fps is not None:\n",
        "    plt.plot(x_fps, np.zeros_like(x_fps), \"ko\", ms=12)\n",
        "  plt.xlabel(r'$r$')\n",
        "  plt.ylabel(r'$\\frac{dr}{dt}$', fontsize=20)\n",
        "  plt.ylim(-0.1, 0.1)\n",
        "\n",
        "\n",
        "def plot_dFdt(x, dFdt):\n",
        "  plt.figure()\n",
        "  plt.plot(x, dFdt, 'r')\n",
        "  plt.xlabel('x (a.u.)', fontsize=14)\n",
        "  plt.ylabel('dF(x)', fontsize=14)\n",
        "  plt.show()"
      ]
    },
    {
      "cell_type": "markdown",
      "metadata": {
        "execution": {},
        "id": "vrAjMpK4uWMq"
      },
      "source": [
        "---\n",
        "# Section 1: Neuronal network dynamics"
      ]
    },
    {
      "cell_type": "code",
      "execution_count": 5,
      "metadata": {
        "cellView": "form",
        "execution": {},
        "id": "4-w1f6cPuWMq",
        "outputId": "25d57e85-f801-4534-e233-e452d7e1ed1a",
        "colab": {
          "base_uri": "https://localhost:8080/",
          "height": 581,
          "referenced_widgets": [
            "ea567f0af09d4a0fa0362366a6c6e49c",
            "2828e980c656496688cf80527131dddf",
            "3fb3097919d94593bcae19185609a741",
            "76175632d11c41f9bc187dc70914c8de",
            "a95eb88ae96f464c979f7f5632dab5ff",
            "45341568a95841e2a58383c4aa6e8031"
          ]
        }
      },
      "outputs": [
        {
          "output_type": "display_data",
          "data": {
            "text/plain": [
              "Tab(children=(Output(), Output()), _titles={'0': 'Youtube', '1': 'Bilibili'})"
            ],
            "application/vnd.jupyter.widget-view+json": {
              "version_major": 2,
              "version_minor": 0,
              "model_id": "ea567f0af09d4a0fa0362366a6c6e49c"
            }
          },
          "metadata": {}
        }
      ],
      "source": [
        "# @title Video 1: Dynamic networks\n",
        "from ipywidgets import widgets\n",
        "\n",
        "out2 = widgets.Output()\n",
        "with out2:\n",
        "  from IPython.display import IFrame\n",
        "  class BiliVideo(IFrame):\n",
        "      def __init__(self, id, page=1, width=400, height=300, **kwargs):\n",
        "          self.id=id\n",
        "          src = 'https://player.bilibili.com/player.html?bvid={0}&page={1}'.format(id, page)\n",
        "          super(BiliVideo, self).__init__(src, width, height, **kwargs)\n",
        "\n",
        "  video = BiliVideo(id=\"BV1dh411o7qJ\", width=854, height=480, fs=1)\n",
        "  print('Video available at https://www.bilibili.com/video/{0}'.format(video.id))\n",
        "  display(video)\n",
        "\n",
        "out1 = widgets.Output()\n",
        "with out1:\n",
        "  from IPython.display import YouTubeVideo\n",
        "  video = YouTubeVideo(id=\"p848349hPyw\", width=854, height=480, fs=1, rel=0)\n",
        "  print('Video available at https://youtube.com/watch?v=' + video.id)\n",
        "  display(video)\n",
        "\n",
        "out = widgets.Tab([out1, out2])\n",
        "out.set_title(0, 'Youtube')\n",
        "out.set_title(1, 'Bilibili')\n",
        "\n",
        "display(out)"
      ]
    },
    {
      "cell_type": "markdown",
      "metadata": {
        "execution": {},
        "id": "IVLQVVy3uWMr"
      },
      "source": [
        "This video covers how to model a network with a single population of neurons and introduces neural rate-based models. It overviews feedforward networks and defines the F-I (firing rate vs. input) curve."
      ]
    },
    {
      "cell_type": "markdown",
      "metadata": {
        "execution": {},
        "id": "jyYmCxo6uWMr"
      },
      "source": [
        "## Section 1.1: Dynamics of a single excitatory population\n",
        "\n",
        "\n",
        "<details>\n",
        "<summary> <font color='blue'>Click here for text recap of relevant part of video </font></summary>\n",
        "\n",
        "Individual neurons respond by spiking. When we average the spikes of neurons in a population, we can define the average firing activity of the population. In this model, we are interested in how the population-averaged firing varies as a function of time and network parameters. Mathematically, we can describe the firing rate dynamic of a feed-forward network as:\n",
        "\n",
        "\\begin{equation}\n",
        "\\tau \\frac{dr}{dt} = -r + F(I_{\\text{ext}})  \\quad\\qquad (1)\n",
        "\\end{equation}\n",
        "\n",
        "$r(t)$ represents the average firing rate of the excitatory population at time $t$, $\\tau$ controls the timescale of the evolution of the average firing rate, $I_{\\text{ext}}$ represents the external input, and the transfer function $F(\\cdot)$ (which can be related to f-I curve of individual neurons described in the next sections) represents the population activation function in response to all received inputs.\n",
        "\n",
        "</details>\n",
        "\n",
        "To start building the model, please execute the cell below to initialize the simulation parameters."
      ]
    },
    {
      "cell_type": "code",
      "execution_count": 6,
      "metadata": {
        "cellView": "form",
        "execution": {},
        "id": "ZzyN7bVmuWMr",
        "outputId": "2fe7e7f2-cecc-47b3-c6ba-9ba282247aec",
        "colab": {
          "base_uri": "https://localhost:8080/"
        }
      },
      "outputs": [
        {
          "output_type": "stream",
          "name": "stdout",
          "text": [
            "{'tau': 1.0, 'a': 1.2, 'theta': 2.8, 'w': 0.0, 'I_ext': 0.0, 'T': 20.0, 'dt': 0.1, 'r_init': 0.2, 'range_t': array([ 0. ,  0.1,  0.2,  0.3,  0.4,  0.5,  0.6,  0.7,  0.8,  0.9,  1. ,\n",
            "        1.1,  1.2,  1.3,  1.4,  1.5,  1.6,  1.7,  1.8,  1.9,  2. ,  2.1,\n",
            "        2.2,  2.3,  2.4,  2.5,  2.6,  2.7,  2.8,  2.9,  3. ,  3.1,  3.2,\n",
            "        3.3,  3.4,  3.5,  3.6,  3.7,  3.8,  3.9,  4. ,  4.1,  4.2,  4.3,\n",
            "        4.4,  4.5,  4.6,  4.7,  4.8,  4.9,  5. ,  5.1,  5.2,  5.3,  5.4,\n",
            "        5.5,  5.6,  5.7,  5.8,  5.9,  6. ,  6.1,  6.2,  6.3,  6.4,  6.5,\n",
            "        6.6,  6.7,  6.8,  6.9,  7. ,  7.1,  7.2,  7.3,  7.4,  7.5,  7.6,\n",
            "        7.7,  7.8,  7.9,  8. ,  8.1,  8.2,  8.3,  8.4,  8.5,  8.6,  8.7,\n",
            "        8.8,  8.9,  9. ,  9.1,  9.2,  9.3,  9.4,  9.5,  9.6,  9.7,  9.8,\n",
            "        9.9, 10. , 10.1, 10.2, 10.3, 10.4, 10.5, 10.6, 10.7, 10.8, 10.9,\n",
            "       11. , 11.1, 11.2, 11.3, 11.4, 11.5, 11.6, 11.7, 11.8, 11.9, 12. ,\n",
            "       12.1, 12.2, 12.3, 12.4, 12.5, 12.6, 12.7, 12.8, 12.9, 13. , 13.1,\n",
            "       13.2, 13.3, 13.4, 13.5, 13.6, 13.7, 13.8, 13.9, 14. , 14.1, 14.2,\n",
            "       14.3, 14.4, 14.5, 14.6, 14.7, 14.8, 14.9, 15. , 15.1, 15.2, 15.3,\n",
            "       15.4, 15.5, 15.6, 15.7, 15.8, 15.9, 16. , 16.1, 16.2, 16.3, 16.4,\n",
            "       16.5, 16.6, 16.7, 16.8, 16.9, 17. , 17.1, 17.2, 17.3, 17.4, 17.5,\n",
            "       17.6, 17.7, 17.8, 17.9, 18. , 18.1, 18.2, 18.3, 18.4, 18.5, 18.6,\n",
            "       18.7, 18.8, 18.9, 19. , 19.1, 19.2, 19.3, 19.4, 19.5, 19.6, 19.7,\n",
            "       19.8, 19.9])}\n"
          ]
        }
      ],
      "source": [
        "# @markdown *Execute this cell to set default parameters for a single excitatory population model*\n",
        "\n",
        "\n",
        "def default_pars_single(**kwargs):\n",
        "  pars = {}\n",
        "\n",
        "  # Excitatory parameters\n",
        "  pars['tau'] = 1.     # Timescale of the E population [ms]\n",
        "  pars['a'] = 1.2      # Gain of the E population\n",
        "  pars['theta'] = 2.8  # Threshold of the E population\n",
        "\n",
        "  # Connection strength\n",
        "  pars['w'] = 0.  # E to E, we first set it to 0\n",
        "\n",
        "  # External input\n",
        "  pars['I_ext'] = 0.\n",
        "\n",
        "  # simulation parameters\n",
        "  pars['T'] = 20.       # Total duration of simulation [ms]\n",
        "  pars['dt'] = .1       # Simulation time step [ms]\n",
        "  pars['r_init'] = 0.2  # Initial value of E\n",
        "\n",
        "  # External parameters if any\n",
        "  pars.update(kwargs)\n",
        "\n",
        "  # Vector of discretized time points [ms]\n",
        "  pars['range_t'] = np.arange(0, pars['T'], pars['dt'])\n",
        "\n",
        "  return pars\n",
        "\n",
        "pars = default_pars_single()\n",
        "print(pars)"
      ]
    },
    {
      "cell_type": "markdown",
      "metadata": {
        "execution": {},
        "id": "c_tNYJssuWMr"
      },
      "source": [
        "You can now use:\n",
        "- `pars = default_pars_single()` to get all the parameters. \n",
        "- `pars = default_pars_single(T=T_sim, dt=time_step)` to set new simulation time and time step\n",
        "- To update an existing parameter dictionary, use `pars['New_para'] = value`\n",
        "\n",
        "Because `pars` is a dictionary, it can be passed to a function that requires individual parameters as arguments using `my_func(**pars)` syntax."
      ]
    },
    {
      "cell_type": "markdown",
      "metadata": {
        "execution": {},
        "id": "N2E5YeLcuWMs"
      },
      "source": [
        "## Section 1.2: F-I curves\n",
        "\n",
        "*Estimated timing to here from start of tutorial: 17 min*\n",
        "\n",
        "<details>\n",
        "<summary> <font color='blue'>Click here for text recap of relevant part of video </font></summary>\n",
        "\n",
        "In electrophysiology, a neuron is often characterized by its spike rate output in response to input currents. This is often called the **F-I** curve, denoting the output spike frequency (**F**) in response to different injected currents (**I**). We estimated this for an LIF neuron in yesterday's tutorial.\n",
        "\n",
        "The transfer function $F(\\cdot)$ in Equation $1$ represents the gain of the population as a function of the total input. The gain is often modeled as a sigmoidal function, i.e., more input drive leads to a nonlinear increase in the population firing rate. The output firing rate will eventually saturate for high input values. \n",
        "\n",
        "A sigmoidal $F(\\cdot)$ is parameterized by its gain $a$ and threshold $\\theta$.\n",
        "\n",
        "$$ F(x;a,\\theta) = \\frac{1}{1+\\text{e}^{-a(x-\\theta)}} - \\frac{1}{1+\\text{e}^{a\\theta}}  \\quad(2)$$\n",
        "\n",
        "The argument $x$ represents the input to the population. Note that the second term is chosen so that $F(0;a,\\theta)=0$.\n",
        "\n",
        "Many other transfer functions (generally monotonic) can be also used. Examples are the rectified linear function $ReLU(x)$ or the hyperbolic tangent $tanh(x)$."
      ]
    },
    {
      "cell_type": "markdown",
      "metadata": {
        "execution": {},
        "id": "ZXzUcX6juWMs"
      },
      "source": [
        "### Coding Exercise 1.2: Implement F-I curve \n",
        "\n",
        "Let's first investigate the activation functions before simulating the dynamics of the entire population. \n",
        "\n",
        "In this exercise, you will implement a sigmoidal **F-I** curve or transfer function $F(x)$, with gain $a$ and threshold level $\\theta$ as parameters:\n",
        "\n",
        "\\begin{equation}\n",
        "F(x;a,\\theta) = \\frac{1}{1+\\text{e}^{-a(x-\\theta)}} - \\frac{1}{1+\\text{e}^{a\\theta}}\n",
        "\\end{equation}"
      ]
    },
    {
      "cell_type": "code",
      "execution_count": 7,
      "metadata": {
        "execution": {},
        "id": "_apo14LQuWMs",
        "outputId": "6d1fbc7d-a193-4616-fc4a-82c05699cb26",
        "colab": {
          "base_uri": "https://localhost:8080/",
          "height": 287
        }
      },
      "outputs": [
        {
          "output_type": "display_data",
          "data": {
            "text/plain": [
              "<Figure size 432x288 with 1 Axes>"
            ],
            "image/png": "[encoded data removed]"
          },
          "metadata": {
            "image/png": {
              "width": 413,
              "height": 270
            },
            "needs_background": "light"
          }
        }
      ],
      "source": [
        "def F(x, a, theta):\n",
        "  \"\"\"\n",
        "  Population activation function.\n",
        "\n",
        "  Args:\n",
        "    x (float): the population input\n",
        "    a (float): the gain of the function\n",
        "    theta (float): the threshold of the function\n",
        "\n",
        "  Returns:\n",
        "    float: the population activation response F(x) for input x\n",
        "  \"\"\"\n",
        "  #################################################\n",
        "  ## TODO for students: compute f = F(x) ##\n",
        "  # Fill out function and remove\n",
        "  #raise NotImplementedError(\"Student exercise: implement the f-I function\")\n",
        "  #################################################\n",
        "\n",
        "  # Define the sigmoidal transfer function f = F(x)\n",
        "  f = 1/(1+np.exp(-a*(x-theta)))-1/(1+np.exp(a*theta))\n",
        "\n",
        "  return f\n",
        "\n",
        "\n",
        "# Set parameters\n",
        "pars = default_pars_single()  # get default parameters\n",
        "x = np.arange(0, 10, .1)      # set the range of input\n",
        "\n",
        "# Compute transfer function\n",
        "f = F(x, pars['a'], pars['theta'])\n",
        "\n",
        "# Visualize\n",
        "plot_fI(x, f)"
      ]
    },
    {
      "cell_type": "markdown",
      "metadata": {
        "cellView": "both",
        "execution": {},
        "id": "ZGVSWVfDuWMs"
      },
      "source": [
        "[*Click for solution*](https://github.com/NeuromatchAcademy/course-content/tree/main//tutorials/W2D4_DynamicNetworks/solutions/W2D4_Tutorial1_Solution_04e84428.py)\n",
        "\n",
        "*Example output:*\n",
        "\n",
        "<img alt='Solution hint' align='left' width=849.0 height=561.0 src=https://raw.githubusercontent.com/NeuromatchAcademy/course-content/main/tutorials/W2D4_DynamicNetworks/static/W2D4_Tutorial1_Solution_04e84428_0.png>\n",
        "\n"
      ]
    },
    {
      "cell_type": "markdown",
      "metadata": {
        "execution": {},
        "id": "NAt7ao6_uWMt"
      },
      "source": [
        "### Interactive Demo 1.2 : Parameter exploration of F-I curve\n",
        "\n",
        "Here's an interactive demo that shows how the F-I curve changes for different values of the gain and threshold parameters. \n",
        "\n",
        "1. How does the gain parameter ($a$) affect the F-I curve?\n",
        "2. How does the threshold parameter ($\\theta$) affect the F-I curve?"
      ]
    },
    {
      "cell_type": "code",
      "execution_count": 8,
      "metadata": {
        "cellView": "form",
        "execution": {},
        "id": "-0uQBwoXuWMt",
        "outputId": "9a049f45-73da-4f8f-c5e9-53e85dc3bb25",
        "colab": {
          "base_uri": "https://localhost:8080/",
          "height": 494,
          "referenced_widgets": [
            "0590be1a8f2142008488043f0697d3e3",
            "1bafd9c552a74893b2e3e4f2847d2ebe",
            "68669813d93b4ade9093cad4529785d0",
            "abbda364a5d747de99bc245fbe21458d",
            "b110d825afe64be9b381a447a69972d7",
            "8b6c332ac076448fbf27fb7d0a433bfa",
            "be585aa0581d4e34837ce8a89a505422",
            "5761fc2c969d49f19d28e48fbeaa9149",
            "0671007387ed4b289514c66a95cd4347",
            "7c6df5d8c38b4f40a62ec1910337d7f6"
          ]
        }
      },
      "outputs": [
        {
          "output_type": "display_data",
          "data": {
            "text/plain": [
              "interactive(children=(FloatSlider(value=1.5, description='a', max=3.0, min=0.3, step=0.3), FloatSlider(value=3…"
            ],
            "application/vnd.jupyter.widget-view+json": {
              "version_major": 2,
              "version_minor": 0,
              "model_id": "0590be1a8f2142008488043f0697d3e3"
            }
          },
          "metadata": {}
        }
      ],
      "source": [
        "# @title\n",
        "\n",
        "# @markdown Make sure you execute this cell to enable the widget!\n",
        "\n",
        "\n",
        "def interactive_plot_FI(a, theta):\n",
        "  \"\"\"\n",
        "  Population activation function.\n",
        "\n",
        "  Expecxts:\n",
        "    a     : the gain of the function\n",
        "    theta : the threshold of the function\n",
        "\n",
        "  Returns:\n",
        "    plot the F-I curve with give parameters\n",
        "  \"\"\"\n",
        "\n",
        "  # set the range of input\n",
        "  x = np.arange(0, 10, .1)\n",
        "  plt.figure()\n",
        "  plt.plot(x, F(x, a, theta), 'k')\n",
        "  plt.xlabel('x (a.u.)', fontsize=14)\n",
        "  plt.ylabel('F(x)', fontsize=14)\n",
        "  plt.show()\n",
        "\n",
        "\n",
        "_ = widgets.interact(interactive_plot_FI, a=(0.3, 3, 0.3), theta=(2, 4, 0.2))"
      ]
    },
    {
      "cell_type": "markdown",
      "metadata": {
        "execution": {},
        "id": "AXaaihAyuWMt"
      },
      "source": [
        "[*Click for solution*](https://github.com/NeuromatchAcademy/course-content/tree/main//tutorials/W2D4_DynamicNetworks/solutions/W2D4_Tutorial1_Solution_89e4146a.py)\n",
        "\n"
      ]
    },
    {
      "cell_type": "markdown",
      "metadata": {
        "execution": {},
        "id": "4yCM_i-guWMt"
      },
      "source": [
        "## Section 1.3: Simulation scheme of E dynamics\n",
        "\n",
        "*Estimated timing to here from start of tutorial: 27 min*\n",
        "\n",
        "Because $F(\\cdot)$ is a nonlinear function, the exact solution of our differential equation of population activity can not be determined via analytical methods. As we have seen before, we can use numerical methods, specifically the Euler method, to find the solution (that is, simulate the population activity)."
      ]
    },
    {
      "cell_type": "code",
      "execution_count": 9,
      "metadata": {
        "execution": {},
        "id": "kENFJcgSuWMt",
        "outputId": "78f1f9c3-243b-471d-97ec-569730d00904",
        "colab": {
          "base_uri": "https://localhost:8080/"
        }
      },
      "outputs": [
        {
          "output_type": "stream",
          "name": "stdout",
          "text": [
            "Help on function simulate_single in module __main__:\n",
            "\n",
            "simulate_single(pars)\n",
            "    Simulate an excitatory population of neurons\n",
            "    \n",
            "    Args:\n",
            "      pars   : Parameter dictionary\n",
            "    \n",
            "    Returns:\n",
            "      rE     : Activity of excitatory population (array)\n",
            "    \n",
            "    Example:\n",
            "      pars = default_pars_single()\n",
            "      r = simulate_single(pars)\n",
            "\n"
          ]
        }
      ],
      "source": [
        "# @markdown *Execute this cell to enable the single population rate model simulator: `simulate_single`*\n",
        "\n",
        "\n",
        "def simulate_single(pars):\n",
        "  \"\"\"\n",
        "  Simulate an excitatory population of neurons\n",
        "\n",
        "  Args:\n",
        "    pars   : Parameter dictionary\n",
        "\n",
        "  Returns:\n",
        "    rE     : Activity of excitatory population (array)\n",
        "\n",
        "  Example:\n",
        "    pars = default_pars_single()\n",
        "    r = simulate_single(pars)\n",
        "  \"\"\"\n",
        "\n",
        "  # Set parameters\n",
        "  tau, a, theta = pars['tau'], pars['a'], pars['theta']\n",
        "  w = pars['w']\n",
        "  I_ext = pars['I_ext']\n",
        "  r_init = pars['r_init']\n",
        "  dt, range_t = pars['dt'], pars['range_t']\n",
        "  Lt = range_t.size\n",
        "\n",
        "  # Initialize activity\n",
        "  r = np.zeros(Lt)\n",
        "  r[0] = r_init\n",
        "  I_ext = I_ext * np.ones(Lt)\n",
        "\n",
        "  # Update the E activity\n",
        "  for k in range(Lt - 1):\n",
        "      dr = dt / tau * (-r[k] + F(w * r[k] + I_ext[k], a, theta))\n",
        "      r[k+1] = r[k] + dr\n",
        "\n",
        "  return r\n",
        "\n",
        "help(simulate_single)"
      ]
    },
    {
      "cell_type": "markdown",
      "metadata": {
        "execution": {},
        "id": "tfasH6rvuWMu"
      },
      "source": [
        "### Interactive Demo 1.3: Parameter Exploration of single population dynamics\n",
        "\n",
        "Explore these dynamics of the population activity in this interactive demo.\n",
        "\n",
        "1.  How does $r_{\\text{sim}}(t)$ change with different $I_{\\text{ext}}$ values? \n",
        "2.  How does it change with different $\\tau$ values? \n",
        "\n",
        "<br>\n",
        "\n",
        "Note that, $r_{\\rm ana}(t)$ denotes the analytical solution - you will learn how this is computed in the next section."
      ]
    },
    {
      "cell_type": "code",
      "execution_count": 10,
      "metadata": {
        "execution": {},
        "id": "AJjgZRKMuWMu",
        "outputId": "3bf93ff0-8d9a-4c8a-80a2-a1dce64d108f",
        "colab": {
          "base_uri": "https://localhost:8080/",
          "height": 494,
          "referenced_widgets": [
            "8dc040a0d4d94b9c88de4124decc64cd",
            "8c3eb153722d42dea9fe510747db437d",
            "114e74835fa5417e9422ab2ce7fd38c4",
            "1d655dcc9bd9445ab75c263b2baf3149",
            "45c32080dc9649e693f6e1ac7918b174",
            "8ff2fdf12e594805a392fba2594fd4a2",
            "2b06b103b4d54160a7c2db86083a9fae",
            "341aa1810c6e4a61be77107c589d8a1b",
            "13485311ddb140259246a5b28305708c",
            "603940814e6b4126827e5268dcd686ed"
          ]
        }
      },
      "outputs": [
        {
          "output_type": "display_data",
          "data": {
            "text/plain": [
              "interactive(children=(FloatSlider(value=5.0, description='I_ext', max=10.0, step=1.0), FloatSlider(value=3.0, …"
            ],
            "application/vnd.jupyter.widget-view+json": {
              "version_major": 2,
              "version_minor": 0,
              "model_id": "8dc040a0d4d94b9c88de4124decc64cd"
            }
          },
          "metadata": {}
        }
      ],
      "source": [
        "# @title\n",
        "\n",
        "# @markdown Make sure you execute this cell to enable the widget!\n",
        "\n",
        "# get default parameters\n",
        "pars = default_pars_single(T=20.)\n",
        "\n",
        "\n",
        "def Myplot_E_diffI_difftau(I_ext, tau):\n",
        "  # set external input and time constant\n",
        "  pars['I_ext'] = I_ext\n",
        "  pars['tau'] = tau\n",
        "\n",
        "  # simulation\n",
        "  r = simulate_single(pars)\n",
        "\n",
        "  # Analytical Solution\n",
        "  r_ana = (pars['r_init']\n",
        "           + (F(I_ext, pars['a'], pars['theta'])\n",
        "           - pars['r_init']) * (1. - np.exp(-pars['range_t'] / pars['tau'])))\n",
        "\n",
        "  # plot\n",
        "  plt.figure()\n",
        "  plt.plot(pars['range_t'], r, 'b', label=r'$r_{\\mathrm{sim}}$(t)', alpha=0.5,\n",
        "           zorder=1)\n",
        "  plt.plot(pars['range_t'], r_ana, 'b--', lw=5, dashes=(2, 2),\n",
        "           label=r'$r_{\\mathrm{ana}}$(t)', zorder=2)\n",
        "  plt.plot(pars['range_t'],\n",
        "           F(I_ext, pars['a'], pars['theta']) * np.ones(pars['range_t'].size),\n",
        "           'k--', label=r'$F(I_{\\mathrm{ext}})$')\n",
        "  plt.xlabel('t (ms)', fontsize=16.)\n",
        "  plt.ylabel('Activity r(t)', fontsize=16.)\n",
        "  plt.legend(loc='best', fontsize=14.)\n",
        "  plt.show()\n",
        "\n",
        "\n",
        "_ = widgets.interact(Myplot_E_diffI_difftau, I_ext=(0.0, 10., 1.),\n",
        "                     tau=(1., 5., 0.2))"
      ]
    },
    {
      "cell_type": "markdown",
      "metadata": {
        "execution": {},
        "id": "TDe1ccjUuWMu"
      },
      "source": [
        "[*Click for solution*](https://github.com/NeuromatchAcademy/course-content/tree/main//tutorials/W2D4_DynamicNetworks/solutions/W2D4_Tutorial1_Solution_44a82c10.py)\n",
        "\n"
      ]
    },
    {
      "cell_type": "markdown",
      "metadata": {
        "execution": {},
        "id": "ORSJiOHpuWMu"
      },
      "source": [
        "## Think! 1.3: Finite activities\n",
        "\n",
        "Above, we have numerically solved a system driven by a positive input. Yet, $r_E(t)$ either decays to zero or reaches a fixed non-zero value.\n",
        "\n",
        "1. Why doesn't the solution of the system \"explode\" in a finite time? In other words, what guarantees that $r_E$(t) stays finite? \n",
        "2. Which parameter would you change in order to increase the maximum value of the response? "
      ]
    },
    {
      "cell_type": "markdown",
      "metadata": {
        "execution": {},
        "id": "BKWD_ZpxuWMv"
      },
      "source": [
        "[*Click for solution*](https://github.com/NeuromatchAcademy/course-content/tree/main//tutorials/W2D4_DynamicNetworks/solutions/W2D4_Tutorial1_Solution_86ae968b.py)\n",
        "\n"
      ]
    },
    {
      "cell_type": "markdown",
      "metadata": {
        "execution": {},
        "id": "9_7_nVT7uWMv"
      },
      "source": [
        "---\n",
        "# Section 2: Fixed points of the single population system\n",
        "\n",
        "*Estimated timing to here from start of tutorial: 45 min*\n"
      ]
    },
    {
      "cell_type": "markdown",
      "metadata": {
        "execution": {},
        "id": "GeSvnMF6uWMv"
      },
      "source": [
        "## Section 2.1: Finding fixed points"
      ]
    },
    {
      "cell_type": "code",
      "execution_count": 11,
      "metadata": {
        "cellView": "form",
        "execution": {},
        "id": "bO0_8LDAuWMv",
        "outputId": "8f4004ea-9682-4742-ef1a-4012d9b469e3",
        "colab": {
          "base_uri": "https://localhost:8080/",
          "height": 581,
          "referenced_widgets": [
            "74c8ab81700841ce890a17a629160ee3",
            "7f2cfe07eaef45e1bbe316ae5f045026",
            "1b24b207505d4cf1be83fc2e50e7cf02",
            "6801ef755efb4e7fadb52ac9fca3293a",
            "c6e162c96bf1471aadf2654702857fbf",
            "6322c92f745f48cab18011834065a404"
          ]
        }
      },
      "outputs": [
        {
          "output_type": "display_data",
          "data": {
            "text/plain": [
              "Tab(children=(Output(), Output()), _titles={'0': 'Youtube', '1': 'Bilibili'})"
            ],
            "application/vnd.jupyter.widget-view+json": {
              "version_major": 2,
              "version_minor": 0,
              "model_id": "74c8ab81700841ce890a17a629160ee3"
            }
          },
          "metadata": {}
        }
      ],
      "source": [
        "# @title Video 2: Fixed point\n",
        "from ipywidgets import widgets\n",
        "\n",
        "out2 = widgets.Output()\n",
        "with out2:\n",
        "  from IPython.display import IFrame\n",
        "  class BiliVideo(IFrame):\n",
        "      def __init__(self, id, page=1, width=400, height=300, **kwargs):\n",
        "          self.id=id\n",
        "          src = 'https://player.bilibili.com/player.html?bvid={0}&page={1}'.format(id, page)\n",
        "          super(BiliVideo, self).__init__(src, width, height, **kwargs)\n",
        "\n",
        "  video = BiliVideo(id=\"BV1v54y1v7Gr\", width=854, height=480, fs=1)\n",
        "  print('Video available at https://www.bilibili.com/video/{0}'.format(video.id))\n",
        "  display(video)\n",
        "\n",
        "out1 = widgets.Output()\n",
        "with out1:\n",
        "  from IPython.display import YouTubeVideo\n",
        "  video = YouTubeVideo(id=\"Ox3ELd1UFyo\", width=854, height=480, fs=1, rel=0)\n",
        "  print('Video available at https://youtube.com/watch?v=' + video.id)\n",
        "  display(video)\n",
        "\n",
        "out = widgets.Tab([out1, out2])\n",
        "out.set_title(0, 'Youtube')\n",
        "out.set_title(1, 'Bilibili')\n",
        "\n",
        "display(out)"
      ]
    },
    {
      "cell_type": "markdown",
      "metadata": {
        "execution": {},
        "id": "_YIpUDyduWMv"
      },
      "source": [
        "This video introduces recurrent networks and how to derive their fixed points. It also introduces vector fields and phase planes in one dimension.\n",
        "\n",
        "<details>\n",
        "<summary> <font color='blue'>Click here for text recap of video </font></summary>\n",
        "\n",
        "We can now extend our feed-forward network to a recurrent network, governed by the equation:\n",
        "\n",
        "\\begin{align}\n",
        "\\tau \\frac{dr}{dt} &= -r + F(w\\cdot r + I_{\\text{ext}})  \\quad\\qquad (3)\n",
        "\\end{align}\n",
        "\n",
        "where as before, $r(t)$ represents the average firing rate of the excitatory population at time $t$, $\\tau$ controls the timescale of the evolution of the average firing rate, $I_{\\text{ext}}$ represents the external input, and the transfer function $F(\\cdot)$ (which can be related to f-I curve of individual neurons described in the next sections) represents the population activation function in response to all received inputs. Now we also have $w$ which denotes the strength (synaptic weight) of the recurrent input to the population.\n",
        "\n",
        "As you varied the two parameters in the last Interactive Demo, you noticed that, while at first the system output quickly changes, with time, it reaches its maximum/minimum value and does not change anymore. The value eventually reached by the system is called the **steady state** of the system, or the **fixed point**. Essentially, in the steady states the derivative with respect to time of the activity ($r$) is zero, i.e. $\\displaystyle \\frac{dr}{dt}=0$. \n",
        "\n",
        "We can find that the steady state of the Equation. (1) by setting $\\displaystyle{\\frac{dr}{dt}=0}$ and solve for $r$:\n",
        "\n",
        "\\begin{equation}\n",
        "-r_{\\text{steady}} + F(w\\cdot r_{\\text{steady}} + I_{\\text{ext}};a,\\theta) = 0 \\qquad (4)\n",
        "\\end{equation}\n",
        "\n",
        "When it exists, the solution of Equation. (4) defines a **fixed point** of the dynamical system in Equation (3). Note that if $F(x)$ is nonlinear, it is not always possible to find an analytical solution, but the solution can be found via numerical simulations, as we will do later.\n",
        "\n",
        "From the Interactive Demo, one could also notice that the value of $\\tau$ influences how quickly the activity will converge to the steady state from its initial value. \n",
        "\n",
        "In the specific case of $w=0$, we can also analytically compute  the solution of Equation (1) (i.e., the thick blue dashed line) and deduce the role of $\\tau$ in determining the convergence to the fixed point: \n",
        "\n",
        "\\begin{equation}\n",
        "\\displaystyle{r(t) = \\big{[}F(I_{\\text{ext}};a,\\theta) -r(t=0)\\big{]} (1-\\text{e}^{-\\frac{t}{\\tau}})} + r(t=0)\n",
        "\\end{equation}\n",
        "\n",
        "<br>\n",
        "\n",
        "We can now numerically calculate the fixed point with a root finding algorithm."
      ]
    },
    {
      "cell_type": "markdown",
      "metadata": {
        "execution": {},
        "id": "qP8A9_RauWMv"
      },
      "source": [
        "### Coding Exercise 2.1.1: Visualization of the fixed points\n",
        "\n",
        "When it is not possible to find the solution for Equation (3) analytically, a graphical approach can be taken. To that end, it is useful to plot $\\displaystyle{\\frac{dr}{dt}}$ as a function of $r$. The values of $r$ for which the plotted function crosses zero on the y axis correspond to fixed points. \n",
        "\n",
        "Here, let us, for example, set $w=5.0$ and $I^{\\text{ext}}=0.5$. From Equation (3), you can obtain\n",
        "\n",
        "\\begin{equation}\n",
        "\\frac{dr}{dt} = [-r + F(w\\cdot r + I^{\\text{ext}})]\\,/\\,\\tau\n",
        "\\end{equation}\n",
        "\n",
        "Then, plot the $dr/dt$ as a function of $r$, and check for the presence of fixed points."
      ]
    },
    {
      "cell_type": "code",
      "execution_count": 17,
      "metadata": {
        "execution": {},
        "id": "RxovdtSzuWMv",
        "outputId": "13e02751-3edd-418c-fb0b-99b8a83a7bdb",
        "colab": {
          "base_uri": "https://localhost:8080/",
          "height": 430
        }
      },
      "outputs": [
        {
          "output_type": "display_data",
          "data": {
            "text/plain": [
              "<Figure size 576x432 with 1 Axes>"
            ],
            "image/png": "[encoded data removed]"
          },
          "metadata": {
            "image/png": {
              "width": 558,
              "height": 413
            },
            "needs_background": "light"
          }
        }
      ],
      "source": [
        "def compute_drdt(r, I_ext, w, a, theta, tau, **other_pars):\n",
        "  \"\"\"Given parameters, compute dr/dt as a function of r.\n",
        "\n",
        "  Args:\n",
        "    r (1D array) : Average firing rate of the excitatory population\n",
        "    I_ext, w, a, theta, tau (numbers): Simulation parameters to use\n",
        "    other_pars : Other simulation parameters are unused by this function\n",
        "\n",
        "  Returns\n",
        "    drdt function for each value of r\n",
        "  \"\"\"\n",
        "  #########################################################################\n",
        "  # TODO compute drdt and disable the error\n",
        "  #raise NotImplementedError(\"Finish the compute_drdt function\")\n",
        "  #########################################################################\n",
        "\n",
        "  # Calculate drdt\n",
        "  drdt = -r+F(w*r+I_ext, a, theta)/tau\n",
        "\n",
        "  return drdt\n",
        "\n",
        "\n",
        "# Define a vector of r values and the simulation parameters\n",
        "r = np.linspace(0, 1, 1000)\n",
        "pars = default_pars_single(I_ext=0.5, w=5)\n",
        "\n",
        "# Compute dr/dt\n",
        "drdt = compute_drdt(r, **pars)\n",
        "\n",
        "# Visualize\n",
        "plot_dr_r(r, drdt)"
      ]
    },
    {
      "cell_type": "markdown",
      "metadata": {
        "execution": {},
        "id": "qpyUjkPFuWMw"
      },
      "source": [
        "[*Click for solution*](https://github.com/NeuromatchAcademy/course-content/tree/main//tutorials/W2D4_DynamicNetworks/solutions/W2D4_Tutorial1_Solution_c4108be6.py)\n",
        "\n",
        "*Example output:*\n",
        "\n",
        "<img alt='Solution hint' align='left' width=775.0 height=575.0 src=https://raw.githubusercontent.com/NeuromatchAcademy/course-content/main/tutorials/W2D4_DynamicNetworks/static/W2D4_Tutorial1_Solution_c4108be6_0.png>\n",
        "\n"
      ]
    },
    {
      "cell_type": "markdown",
      "metadata": {
        "execution": {},
        "id": "CoEN7ZkPuWMw"
      },
      "source": [
        "### Coding Exercise 2.1.2: Numerical calculation of fixed points\n",
        "\n",
        "We will now find the fixed points numerically. To do so, we need to specify initial values ($r_{\\text{guess}}$) for the root-finding algorithm to start from. From the line $\\displaystyle{\\frac{dr}{dt}}$ plotted above in the last exercise, initial values can be chosen as a set of values close to where the line crosses zero on the y axis (real fixed point).\n",
        "\n",
        "The next cell defines three helper functions that we will use:\n",
        "\n",
        "- `my_fp_single(r_guess, **pars)` uses a root-finding algorithm to locate a fixed point near a given initial value\n",
        "- `check_fp_single(x_fp, **pars)` verifies that the values of $r_{\\rm fp}$ for which $\\displaystyle{\\frac{dr}{dt}} = 0$ are the true fixed points\n",
        "- `my_fp_finder(r_guess_vector, **pars)` accepts an array of initial values and finds the same number of fixed points, using the above two functions"
      ]
    },
    {
      "cell_type": "code",
      "execution_count": 18,
      "metadata": {
        "cellView": "form",
        "execution": {},
        "id": "OJ9v6IrRuWMw",
        "outputId": "fdc2b309-d7d1-405d-e5bf-d0def0467898",
        "colab": {
          "base_uri": "https://localhost:8080/"
        }
      },
      "outputs": [
        {
          "output_type": "stream",
          "name": "stdout",
          "text": [
            "Help on function my_fp_finder in module __main__:\n",
            "\n",
            "my_fp_finder(pars, r_guess_vector, mytol=0.0001)\n",
            "    Calculate the fixed point(s) through drE/dt=0\n",
            "    \n",
            "    Args:\n",
            "      pars    : Parameter dictionary\n",
            "      r_guess_vector  : Initial values used for scipy.optimize function\n",
            "      mytol   : tolerance for checking fixed point, default as 10^{-4}\n",
            "    \n",
            "    Returns:\n",
            "      x_fps   : values of fixed points\n",
            "\n"
          ]
        }
      ],
      "source": [
        "# @markdown *Execute this cell to enable the fixed point functions*\n",
        "\n",
        "def my_fp_single(r_guess, a, theta, w, I_ext, **other_pars):\n",
        "  \"\"\"\n",
        "  Calculate the fixed point through drE/dt=0\n",
        "\n",
        "  Args:\n",
        "    r_guess  : Initial value used for scipy.optimize function\n",
        "    a, theta, w, I_ext : simulation parameters\n",
        "\n",
        "  Returns:\n",
        "    x_fp    : value of fixed point\n",
        "  \"\"\"\n",
        "  # define the right hand of E dynamics\n",
        "  def my_WCr(x):\n",
        "    r = x\n",
        "    drdt = (-r + F(w * r + I_ext, a, theta))\n",
        "    y = np.array(drdt)\n",
        "\n",
        "    return y\n",
        "\n",
        "  x0 = np.array(r_guess)\n",
        "  x_fp = opt.root(my_WCr, x0).x.item()\n",
        "\n",
        "  return x_fp\n",
        "\n",
        "\n",
        "def check_fp_single(x_fp, a, theta, w, I_ext, mytol=1e-4, **other_pars):\n",
        "  \"\"\"\n",
        "   Verify |dr/dt| < mytol\n",
        "\n",
        "  Args:\n",
        "    fp      : value of fixed point\n",
        "    a, theta, w, I_ext: simulation parameters\n",
        "    mytol   : tolerance, default as 10^{-4}\n",
        "\n",
        "  Returns :\n",
        "    Whether it is a correct fixed point: True/False\n",
        "  \"\"\"\n",
        "  # calculate Equation(3)\n",
        "  y = x_fp - F(w * x_fp + I_ext, a, theta)\n",
        "\n",
        "  # Here we set tolerance as 10^{-4}\n",
        "  return np.abs(y) < mytol\n",
        "\n",
        "\n",
        "def my_fp_finder(pars, r_guess_vector, mytol=1e-4):\n",
        "  \"\"\"\n",
        "  Calculate the fixed point(s) through drE/dt=0\n",
        "\n",
        "  Args:\n",
        "    pars    : Parameter dictionary\n",
        "    r_guess_vector  : Initial values used for scipy.optimize function\n",
        "    mytol   : tolerance for checking fixed point, default as 10^{-4}\n",
        "\n",
        "  Returns:\n",
        "    x_fps   : values of fixed points\n",
        "\n",
        "  \"\"\"\n",
        "  x_fps = []\n",
        "  correct_fps = []\n",
        "  for r_guess in r_guess_vector:\n",
        "    x_fp = my_fp_single(r_guess, **pars)\n",
        "    if check_fp_single(x_fp, **pars, mytol=mytol):\n",
        "      x_fps.append(x_fp)\n",
        "\n",
        "  return x_fps\n",
        "\n",
        "help(my_fp_finder)"
      ]
    },
    {
      "cell_type": "code",
      "execution_count": 21,
      "metadata": {
        "execution": {},
        "id": "SGuxwKExuWMw",
        "outputId": "e4b5b20b-2030-4cbe-c873-eff3c3d5edae",
        "colab": {
          "base_uri": "https://localhost:8080/",
          "height": 430
        }
      },
      "outputs": [
        {
          "output_type": "display_data",
          "data": {
            "text/plain": [
              "<Figure size 576x432 with 1 Axes>"
            ],
            "image/png": "[encoded data removed]"
          },
          "metadata": {
            "image/png": {
              "width": 558,
              "height": 413
            },
            "needs_background": "light"
          }
        }
      ],
      "source": [
        "# Set parameters\n",
        "r = np.linspace(0, 1, 1000)\n",
        "pars = default_pars_single(I_ext=0.5, w=5)\n",
        "\n",
        "# Compute dr/dt\n",
        "drdt = compute_drdt(r, **pars)\n",
        "\n",
        "#############################################################################\n",
        "# TODO for students:\n",
        "# Define initial values close to the intersections of drdt and y=0\n",
        "# (How many initial values? Hint: How many times do the two lines intersect?)\n",
        "# Calculate the fixed point with these initial values and plot them\n",
        "#raise NotImplementedError('student_exercise: find fixed points numerically')\n",
        "#############################################################################\n",
        "\n",
        "# Initial guesses for fixed points\n",
        "r_guess_vector = [0,0.4,-1]\n",
        "\n",
        "# Find fixed point numerically\n",
        "x_fps = my_fp_finder(pars, r_guess_vector)\n",
        "\n",
        "# Visualize\n",
        "plot_dr_r(r, drdt, x_fps)"
      ]
    },
    {
      "cell_type": "markdown",
      "metadata": {
        "execution": {},
        "id": "t2z2HZgRuWMw"
      },
      "source": [
        "[*Click for solution*](https://github.com/NeuromatchAcademy/course-content/tree/main//tutorials/W2D4_DynamicNetworks/solutions/W2D4_Tutorial1_Solution_1c599fac.py)\n",
        "\n",
        "*Example output:*\n",
        "\n",
        "<img alt='Solution hint' align='left' width=775.0 height=575.0 src=https://raw.githubusercontent.com/NeuromatchAcademy/course-content/main/tutorials/W2D4_DynamicNetworks/static/W2D4_Tutorial1_Solution_1c599fac_0.png>\n",
        "\n"
      ]
    },
    {
      "cell_type": "markdown",
      "metadata": {
        "execution": {},
        "id": "Uc1ouBfduWMw"
      },
      "source": [
        "### Interactive Demo 2.1: fixed points as a function of recurrent and external inputs.\n",
        "\n",
        "You can now explore how the previous plot changes when the recurrent coupling $w$ and the external input $I_{\\text{ext}}$ take different values. How does the number of fixed points change?"
      ]
    },
    {
      "cell_type": "code",
      "execution_count": 22,
      "metadata": {
        "cellView": "form",
        "execution": {},
        "id": "IzhEcOIquWMw",
        "outputId": "56d6564f-6546-4151-e381-fd4be9fd83bc",
        "colab": {
          "base_uri": "https://localhost:8080/",
          "height": 494,
          "referenced_widgets": [
            "d28b699f5eaa403984f3eff0bee87523",
            "f752caa36ed248458244e877a123b9db",
            "c7b8d9d19acc47389ef5a7ba363f98d2",
            "3dad64c59ca84bb587031afccfe4ed28",
            "1c6d38498c3046a8bc006b3b42665185",
            "a7bf5ce3807a4d7780ec1ffa6f338889",
            "ebc799791a254fe798a7d528e2afb40f",
            "7252e0826abf442db90f72ec7956150a",
            "a4cc81bfb015470f9b15f459e229cc13",
            "79fba0ddacfe4d11ad048396fe6c4747"
          ]
        }
      },
      "outputs": [
        {
          "output_type": "display_data",
          "data": {
            "text/plain": [
              "interactive(children=(FloatSlider(value=4.0, description='w', max=7.0, min=1.0, step=0.2), FloatSlider(value=1…"
            ],
            "application/vnd.jupyter.widget-view+json": {
              "version_major": 2,
              "version_minor": 0,
              "model_id": "d28b699f5eaa403984f3eff0bee87523"
            }
          },
          "metadata": {}
        }
      ],
      "source": [
        "# @title\n",
        "\n",
        "# @markdown Make sure you execute this cell to enable the widget!\n",
        "\n",
        "\n",
        "def plot_intersection_single(w, I_ext):\n",
        "  # set your parameters\n",
        "  pars = default_pars_single(w=w, I_ext=I_ext)\n",
        "\n",
        "  # find fixed points\n",
        "  r_init_vector = [0, .4, .9]\n",
        "  x_fps = my_fp_finder(pars, r_init_vector)\n",
        "\n",
        "  # plot\n",
        "  r = np.linspace(0, 1., 1000)\n",
        "  drdt = (-r + F(w * r + I_ext, pars['a'], pars['theta'])) / pars['tau']\n",
        "\n",
        "  plot_dr_r(r, drdt, x_fps)\n",
        "\n",
        "_ = widgets.interact(plot_intersection_single, w=(1, 7, 0.2),\n",
        "                     I_ext=(0, 3, 0.1))"
      ]
    },
    {
      "cell_type": "markdown",
      "metadata": {
        "execution": {},
        "id": "yYCBs73ZuWMx"
      },
      "source": [
        "[*Click for solution*](https://github.com/NeuromatchAcademy/course-content/tree/main//tutorials/W2D4_DynamicNetworks/solutions/W2D4_Tutorial1_Solution_7b60d4a8.py)\n",
        "\n"
      ]
    },
    {
      "cell_type": "markdown",
      "metadata": {
        "execution": {},
        "id": "u6rjiNeUuWMx"
      },
      "source": [
        "## Section 2.2: Relationship between trajectories & fixed points\n",
        "\n",
        "Let's examine the relationship between the population activity over time and the fixed points.\n",
        "\n",
        "Here, let us first set $w=5.0$ and $I_{\\text{ext}}=0.5$, and investigate the dynamics of $r(t)$ starting with different initial values $r(0) \\equiv r_{\\text{init}}$. "
      ]
    },
    {
      "cell_type": "code",
      "execution_count": 23,
      "metadata": {
        "cellView": "form",
        "execution": {},
        "id": "Qc9Urrl3uWMx",
        "outputId": "a8ae0c9f-e8af-4f37-8b5e-9b2b92fa24ec",
        "colab": {
          "base_uri": "https://localhost:8080/",
          "height": 430
        }
      },
      "outputs": [
        {
          "output_type": "display_data",
          "data": {
            "text/plain": [
              "<Figure size 576x432 with 1 Axes>"
            ],
            "image/png": "[encoded data removed]"
          },
          "metadata": {
            "image/png": {
              "width": 558,
              "height": 413
            },
            "needs_background": "light"
          }
        }
      ],
      "source": [
        "# @markdown Execute to visualize dr/dt\n",
        "\n",
        "def plot_intersection_single(w, I_ext):\n",
        "  # set your parameters\n",
        "  pars = default_pars_single(w=w, I_ext=I_ext)\n",
        "\n",
        "  # find fixed points\n",
        "  r_init_vector = [0, .4, .9]\n",
        "  x_fps = my_fp_finder(pars, r_init_vector)\n",
        "\n",
        "  # plot\n",
        "  r = np.linspace(0, 1., 1000)\n",
        "  drdt = (-r + F(w * r + I_ext, pars['a'], pars['theta'])) / pars['tau']\n",
        "\n",
        "  plot_dr_r(r, drdt, x_fps)\n",
        "\n",
        "plot_intersection_single(w = 5.0, I_ext = 0.5)"
      ]
    },
    {
      "cell_type": "markdown",
      "metadata": {
        "execution": {},
        "id": "qrnkb8lGuWMx"
      },
      "source": [
        "### Interactive Demo 2.2: dynamics as a function of the initial value\n",
        "\n",
        "Let's now set $r_{\\rm init}$ to a value of your choice in this demo. How does the solution change? What do you observe? How does that relate to the previous plot of $\\frac{dr}{dt}$?"
      ]
    },
    {
      "cell_type": "code",
      "execution_count": 24,
      "metadata": {
        "cellView": "form",
        "execution": {},
        "id": "_HZfBIEXuWMx",
        "outputId": "ed7691f2-cba0-4c61-b56c-74a1ac30657e",
        "colab": {
          "base_uri": "https://localhost:8080/",
          "height": 462,
          "referenced_widgets": [
            "a13efcfa538043b7801c532d932f9cf8",
            "2af8a7cdbb7f4d58bc7c3b0b0c9c8d98",
            "9ed4f2eb85734e569c743342158b2e2d",
            "45e7932b158d47d5874ce96ba44059d6",
            "a7cee43e71fd4777a333088fcd868d90",
            "3e223cea1ea34393952c23758440deeb",
            "804ff31e37724a8d90ea0efc56f87ad5"
          ]
        }
      },
      "outputs": [
        {
          "output_type": "display_data",
          "data": {
            "text/plain": [
              "interactive(children=(FloatSlider(value=0.0, description='r_init', max=1.0, step=0.02), Output()), _dom_classe…"
            ],
            "application/vnd.jupyter.widget-view+json": {
              "version_major": 2,
              "version_minor": 0,
              "model_id": "a13efcfa538043b7801c532d932f9cf8"
            }
          },
          "metadata": {}
        }
      ],
      "source": [
        "# @markdown Make sure you execute this cell to enable the widget!\n",
        "\n",
        "pars = default_pars_single(w=5.0, I_ext=0.5)\n",
        "\n",
        "def plot_single_diffEinit(r_init):\n",
        "  pars['r_init'] = r_init\n",
        "  r = simulate_single(pars)\n",
        "\n",
        "  plt.figure()\n",
        "  plt.plot(pars['range_t'], r, 'b', zorder=1)\n",
        "  plt.plot(0, r[0], 'bo', alpha=0.7, zorder=2)\n",
        "  plt.xlabel('t (ms)', fontsize=16)\n",
        "  plt.ylabel(r'$r(t)$', fontsize=16)\n",
        "  plt.ylim(0, 1.0)\n",
        "  plt.show()\n",
        "\n",
        "\n",
        "_ = widgets.interact(plot_single_diffEinit, r_init=(0, 1, 0.02))"
      ]
    },
    {
      "cell_type": "markdown",
      "metadata": {
        "execution": {},
        "id": "cpMcdIdVuWMx"
      },
      "source": [
        "[*Click for solution*](https://github.com/NeuromatchAcademy/course-content/tree/main//tutorials/W2D4_DynamicNetworks/solutions/W2D4_Tutorial1_Solution_c73e9caf.py)\n",
        "\n"
      ]
    },
    {
      "cell_type": "markdown",
      "metadata": {
        "execution": {},
        "id": "2TQy6ktpuWMx"
      },
      "source": [
        "We will plot the trajectories of $r(t)$ with $r_{\\text{init}} = 0.0, 0.1, 0.2,..., 0.9$."
      ]
    },
    {
      "cell_type": "code",
      "execution_count": 25,
      "metadata": {
        "cellView": "form",
        "execution": {},
        "id": "UK0_tkAiuWMy",
        "outputId": "90888d6e-3f2a-4f81-ecc0-d49e5dfef33a",
        "colab": {
          "base_uri": "https://localhost:8080/",
          "height": 358
        }
      },
      "outputs": [
        {
          "output_type": "display_data",
          "data": {
            "text/plain": [
              "<Figure size 576x360 with 1 Axes>"
            ],
            "image/png": "[encoded data removed]"
          },
          "metadata": {
            "image/png": {
              "width": 557,
              "height": 341
            },
            "needs_background": "light"
          }
        }
      ],
      "source": [
        "# @markdown Execute this cell to see the trajectories!\n",
        "\n",
        "pars = default_pars_single()\n",
        "pars['w'] = 5.0\n",
        "pars['I_ext'] = 0.5\n",
        "\n",
        "plt.figure(figsize=(8, 5))\n",
        "for ie in range(10):\n",
        "  pars['r_init'] = 0.1 * ie  # set the initial value\n",
        "  r = simulate_single(pars)  # run the simulation\n",
        "\n",
        "  # plot the activity with given initial\n",
        "  plt.plot(pars['range_t'], r, 'b', alpha=0.1 + 0.1 * ie,\n",
        "           label=r'r$_{\\mathrm{init}}$=%.1f' % (0.1 * ie))\n",
        "\n",
        "plt.xlabel('t (ms)')\n",
        "plt.title('Two steady states?')\n",
        "plt.ylabel(r'$r$(t)')\n",
        "plt.legend(loc=[1.01, -0.06], fontsize=14)\n",
        "plt.show()"
      ]
    },
    {
      "cell_type": "markdown",
      "metadata": {
        "execution": {},
        "id": "Pa6xOzSGuWMy"
      },
      "source": [
        "We have three fixed points but only two steady states showing up - what's happening? \n",
        "\n",
        "It turns out that the stability of the fixed points matters. If a fixed point is stable, a trajectory starting near that fixed point will stay close to that fixed point and converge to it (the steady state will equal the fixed point). If a fixed point is unstable, any trajectories starting close to it will diverge and go towards stable fixed points. In fact, the only way for a trajectory to reach a stable state at an unstable fixed point is if the initial value **exactly** equals the value of the fixed point."
      ]
    },
    {
      "cell_type": "markdown",
      "metadata": {
        "execution": {},
        "id": "6mcA5N9zuWMy"
      },
      "source": [
        "### Think! 2.2: Stable vs unstable fixed points\n",
        "\n",
        "Which of the fixed points for the model we've been examining in this section are stable vs unstable?"
      ]
    },
    {
      "cell_type": "code",
      "execution_count": null,
      "metadata": {
        "cellView": "form",
        "execution": {},
        "id": "wCfnm2gmuWMy"
      },
      "outputs": [],
      "source": [
        "# @markdown Execute to print fixed point values\n",
        "\n",
        "# Initial guesses for fixed points\n",
        "r_guess_vector = [0, .4, .9]\n",
        "\n",
        "# Find fixed point numerically\n",
        "x_fps = my_fp_finder(pars, r_guess_vector)\n",
        "\n",
        "print(f'Our fixed points are {x_fps}')"
      ]
    },
    {
      "cell_type": "markdown",
      "metadata": {
        "execution": {},
        "id": "EFbMXyIBuWMy"
      },
      "source": [
        "[*Click for solution*](https://github.com/NeuromatchAcademy/course-content/tree/main//tutorials/W2D4_DynamicNetworks/solutions/W2D4_Tutorial1_Solution_3d44c9a3.py)\n",
        "\n"
      ]
    },
    {
      "cell_type": "markdown",
      "metadata": {
        "execution": {},
        "id": "Oghub2seuWMy"
      },
      "source": [
        "We can simulate the trajectory if we start at the unstable fixed point: you can see that it remains at that fixed point (the red line below)."
      ]
    },
    {
      "cell_type": "code",
      "execution_count": null,
      "metadata": {
        "cellView": "form",
        "execution": {},
        "id": "FANdVLa0uWMy"
      },
      "outputs": [],
      "source": [
        "# @markdown Execute to visualize trajectory starting at unstable fixed point\n",
        "pars = default_pars_single()\n",
        "pars['w'] = 5.0\n",
        "pars['I_ext'] = 0.5\n",
        "\n",
        "plt.figure(figsize=(8, 5))\n",
        "for ie in range(10):\n",
        "  pars['r_init'] = 0.1 * ie  # set the initial value\n",
        "  r = simulate_single(pars)  # run the simulation\n",
        "\n",
        "  # plot the activity with given initial\n",
        "  plt.plot(pars['range_t'], r, 'b', alpha=0.1 + 0.1 * ie,\n",
        "           label=r'r$_{\\mathrm{init}}$=%.1f' % (0.1 * ie))\n",
        "\n",
        "pars['r_init'] = x_fps[1]  # set the initial value\n",
        "r = simulate_single(pars)  # run the simulation\n",
        "\n",
        "# plot the activity with given initial\n",
        "plt.plot(pars['range_t'], r, 'r', alpha=0.1 + 0.1 * ie,\n",
        "          label=r'r$_{\\mathrm{init}}$=%.4f' % (x_fps[1]))\n",
        "\n",
        "plt.xlabel('t (ms)')\n",
        "plt.title('Two steady states?')\n",
        "plt.ylabel(r'$r$(t)')\n",
        "plt.legend(loc=[1.01, -0.06], fontsize=14)\n",
        "plt.show()"
      ]
    },
    {
      "cell_type": "markdown",
      "metadata": {
        "execution": {},
        "id": "yM3ofh0-uWMy"
      },
      "source": [
        "See Bonus Section 1 to cover how to determine the stability of fixed points in a quantitative way."
      ]
    },
    {
      "cell_type": "markdown",
      "metadata": {
        "execution": {},
        "id": "gnTNwRcUuWMz"
      },
      "source": [
        "## Think! 2: Inhibitory populations\n",
        "\n",
        "Throughout the tutorial, we have assumed $w> 0 $, i.e., we considered a single population of **excitatory** neurons. What do you think will be the behavior of a population of inhibitory neurons, i.e., where $w> 0$ is replaced by $w< 0$? "
      ]
    },
    {
      "cell_type": "markdown",
      "metadata": {
        "execution": {},
        "id": "Ql2pv9NjuWMz"
      },
      "source": [
        "[*Click for solution*](https://github.com/NeuromatchAcademy/course-content/tree/main//tutorials/W2D4_DynamicNetworks/solutions/W2D4_Tutorial1_Solution_f3418e5f.py)\n",
        "\n"
      ]
    },
    {
      "cell_type": "markdown",
      "metadata": {
        "execution": {},
        "id": "wXjQgwpauWMz"
      },
      "source": [
        "---\n",
        "# Summary\n",
        "\n",
        "*Estimated timing of tutorial: 1 hour, 25 minutes*\n",
        "\n",
        "In this tutorial, we have investigated the dynamics of a rate-based single population of neurons.\n",
        "\n",
        "We learned about:\n",
        "- The effect of the input parameters and the time constant of the network on the dynamics of the population.\n",
        "- How to find the fixed point(s) of the system.\n",
        "\n",
        "We build on these concepts in the bonus material - check it out if you have time. You will learn:\n",
        "\n",
        "- How to determine the stability of a fixed point by linearizing the system.\n",
        "- How to add realistic inputs to our model."
      ]
    },
    {
      "cell_type": "markdown",
      "metadata": {
        "execution": {},
        "id": "X3xgPY6YuWMz"
      },
      "source": [
        "---\n",
        "# Bonus"
      ]
    },
    {
      "cell_type": "markdown",
      "metadata": {
        "execution": {},
        "id": "BDB1i4p8uWMz"
      },
      "source": [
        "---\n",
        "## Bonus Section 1: Stability analysis via linearization of the dynamics"
      ]
    },
    {
      "cell_type": "code",
      "execution_count": null,
      "metadata": {
        "cellView": "form",
        "execution": {},
        "id": "66LTlJUmuWMz"
      },
      "outputs": [],
      "source": [
        "# @title Video 3: Stability of fixed points\n",
        "from ipywidgets import widgets\n",
        "\n",
        "out2 = widgets.Output()\n",
        "with out2:\n",
        "  from IPython.display import IFrame\n",
        "  class BiliVideo(IFrame):\n",
        "      def __init__(self, id, page=1, width=400, height=300, **kwargs):\n",
        "          self.id=id\n",
        "          src = 'https://player.bilibili.com/player.html?bvid={0}&page={1}'.format(id, page)\n",
        "          super(BiliVideo, self).__init__(src, width, height, **kwargs)\n",
        "\n",
        "  video = BiliVideo(id=\"BV1oA411e7eg\", width=854, height=480, fs=1)\n",
        "  print('Video available at https://www.bilibili.com/video/{0}'.format(video.id))\n",
        "  display(video)\n",
        "\n",
        "out1 = widgets.Output()\n",
        "with out1:\n",
        "  from IPython.display import YouTubeVideo\n",
        "  video = YouTubeVideo(id=\"KKMlWWU83Jg\", width=854, height=480, fs=1, rel=0)\n",
        "  print('Video available at https://youtube.com/watch?v=' + video.id)\n",
        "  display(video)\n",
        "\n",
        "out = widgets.Tab([out1, out2])\n",
        "out.set_title(0, 'Youtube')\n",
        "out.set_title(1, 'Bilibili')\n",
        "\n",
        "display(out)"
      ]
    },
    {
      "cell_type": "markdown",
      "metadata": {
        "execution": {},
        "id": "oi5RIyxBuWMz"
      },
      "source": [
        "Here we will dive into the math of how to figure out the stability of a fixed point.\n",
        "\n",
        "\n",
        "Just like in our equation for the feedforward network, a generic linear system \n",
        "$\\frac{dx}{dt} = \\lambda (x - b)$, has a fixed point for $x=b$. The analytical solution of such a system can be found to be:\n",
        "\n",
        "\\begin{equation}\n",
        "x(t) = b + \\big{(} x(0) - b \\big{)} \\text{e}^{\\lambda t}.\n",
        "\\end{equation}\n",
        "\n",
        "Now consider a small perturbation of the activity around the fixed point: $x(0) = b + \\epsilon$, where $|\\epsilon| \\ll 1$. Will the perturbation $\\epsilon(t)$ grow with time or will it decay to the fixed point? The evolution of the perturbation with time can be written, using the analytical solution for $x(t)$, as:\n",
        "\n",
        "\\begin{equation}\n",
        "\\epsilon (t) = x(t) - b = \\epsilon \\text{e}^{\\lambda t}\n",
        "\\end{equation}\n",
        "\n",
        "<br>\n",
        "\n",
        "- if $\\lambda < 0$, $\\epsilon(t)$ decays to zero, $x(t)$ will still converge to $b$ and the fixed point is \"**stable**\".\n",
        "\n",
        "- if $\\lambda > 0$, $\\epsilon(t)$ grows with time, $x(t)$ will leave the fixed point $b$ exponentially, and the fixed point is, therefore, \"**unstable**\" ."
      ]
    },
    {
      "cell_type": "markdown",
      "metadata": {
        "execution": {},
        "id": "mzb-ieaPuWM0"
      },
      "source": [
        "Similar to what we did in the linear system above, in order to determine the stability of a fixed point $r^{*}$ of the excitatory population dynamics, we perturb Equation (1) around $r^{*}$ by $\\epsilon$, i.e. $r = r^{*} + \\epsilon$. We can plug in Equation (1) and obtain the equation determining the time evolution of the perturbation $\\epsilon(t)$:\n",
        "\n",
        "\\begin{equation}\n",
        "\\tau \\frac{d\\epsilon}{dt} \\approx -\\epsilon + w F'(w\\cdot r^{*} + I_{\\text{ext}};a,\\theta) \\epsilon \n",
        "\\end{equation}\n",
        "\n",
        "where $F'(\\cdot)$ is the derivative of the transfer function $F(\\cdot)$. We can rewrite the above equation as:\n",
        "\n",
        "\\begin{equation}\n",
        "\\frac{d\\epsilon}{dt} \\approx \\frac{\\epsilon}{\\tau }[-1 + w F'(w\\cdot r^* + I_{\\text{ext}};a,\\theta)] \n",
        "\\end{equation}\n",
        "\n",
        "That is, as in the linear system above, the value of\n",
        "\n",
        "\\begin{equation}\n",
        "\\lambda = [-1+ wF'(w\\cdot r^* + I_{\\text{ext}};a,\\theta)]/\\tau \\qquad (4)\n",
        "\\end{equation}\n",
        "\n",
        "determines whether the perturbation will grow or decay to zero, i.e., $\\lambda$ defines the stability of the fixed point. This value is called the **eigenvalue** of the dynamical system."
      ]
    },
    {
      "cell_type": "markdown",
      "metadata": {
        "execution": {},
        "id": "QPjhuWjquWM0"
      },
      "source": [
        "The derivative of the sigmoid transfer function is:\n",
        "\n",
        "\\begin{align} \n",
        "\\frac{dF}{dx} & = \\frac{d}{dx} (1+\\exp\\{-a(x-\\theta)\\})^{-1}  \\\\\n",
        "& = a\\exp\\{-a(x-\\theta)\\} (1+\\exp\\{-a(x-\\theta)\\})^{-2}. \\qquad (5)\n",
        "\\end{align}\n",
        "\n",
        "We provide a helper function `dF` which computes this derivative."
      ]
    },
    {
      "cell_type": "code",
      "execution_count": null,
      "metadata": {
        "cellView": "form",
        "execution": {},
        "id": "_PA2WEqquWM0"
      },
      "outputs": [],
      "source": [
        "# @markdown Execute this cell to enable helper function `dF` and visualize derivative\n",
        "\n",
        "def dF(x, a, theta):\n",
        "  \"\"\"\n",
        "  Population activation function.\n",
        "\n",
        "  Args:\n",
        "    x     : the population input\n",
        "    a     : the gain of the function\n",
        "    theta : the threshold of the function\n",
        "\n",
        "  Returns:\n",
        "    dFdx  : the population activation response F(x) for input x\n",
        "  \"\"\"\n",
        "\n",
        "  # Calculate the population activation\n",
        "  dFdx = a * np.exp(-a * (x - theta)) * (1 + np.exp(-a * (x - theta)))**-2\n",
        "\n",
        "  return dFdx\n",
        "\n",
        "# Set parameters\n",
        "pars = default_pars_single()  # get default parameters\n",
        "x = np.arange(0, 10, .1)      # set the range of input\n",
        "\n",
        "# Compute derivative of transfer function\n",
        "df = dF(x, pars['a'], pars['theta'])\n",
        "\n",
        "# Visualize\n",
        "plot_dFdt(x, df)"
      ]
    },
    {
      "cell_type": "markdown",
      "metadata": {
        "execution": {},
        "id": "17LPJkwCuWM0"
      },
      "source": [
        "### Bonus Coding Exercise 1: Compute eigenvalues\n",
        "\n",
        "As discussed above, for the case with $w=5.0$ and $I_{\\text{ext}}=0.5$, the system displays **three** fixed points. However, when we simulated the dynamics and varied the initial conditions $r_{\\rm init}$, we could only obtain **two** steady states. In this exercise, we will now check the stability of each of the three fixed points by calculating the corresponding eigenvalues with the function `eig_single`. Check the sign of each eigenvalue (i.e., stability of each fixed point). How many of the fixed points are stable?\n",
        "\n",
        "Note that the expression of the eigenvalue at fixed point $r^*$:\n",
        "\n",
        "\\begin{equation}\n",
        "\\lambda = [-1+ wF'(w\\cdot r^* + I_{\\text{ext}};a,\\theta)]/\\tau\n",
        "\\end{equation}"
      ]
    },
    {
      "cell_type": "code",
      "execution_count": null,
      "metadata": {
        "execution": {},
        "id": "LB6H2zfOuWM0"
      },
      "outputs": [],
      "source": [
        "def eig_single(fp, tau, a, theta, w, I_ext, **other_pars):\n",
        "  \"\"\"\n",
        "  Args:\n",
        "    fp   : fixed point r_fp\n",
        "    tau, a, theta, w, I_ext : Simulation parameters\n",
        "\n",
        "  Returns:\n",
        "    eig : eigenvalue of the linearized system\n",
        "  \"\"\"\n",
        "  #####################################################################\n",
        "  ## TODO for students: compute eigenvalue and disable the error\n",
        "  raise NotImplementedError(\"Student exercise: compute the eigenvalue\")\n",
        "  ######################################################################\n",
        "  # Compute the eigenvalue\n",
        "  eig = ...\n",
        "\n",
        "  return eig\n",
        "\n",
        "\n",
        "# Find the eigenvalues for all fixed points\n",
        "pars = default_pars_single(w=5, I_ext=.5)\n",
        "r_guess_vector = [0, .4, .9]\n",
        "x_fp = my_fp_finder(pars, r_guess_vector)\n",
        "\n",
        "\n",
        "for fp in x_fp:\n",
        "  eig_fp = eig_single(fp, **pars)\n",
        "  print(f'Fixed point1 at {fp:.3f} with Eigenvalue={eig_fp:.3f}')"
      ]
    },
    {
      "cell_type": "markdown",
      "metadata": {
        "execution": {},
        "id": "Euz28P8juWM0"
      },
      "source": [
        "[*Click for solution*](https://github.com/NeuromatchAcademy/course-content/tree/main//tutorials/W2D4_DynamicNetworks/solutions/W2D4_Tutorial1_Solution_12b2b44c.py)\n",
        "\n"
      ]
    },
    {
      "cell_type": "markdown",
      "metadata": {
        "execution": {},
        "id": "hEp5juXbuWM0"
      },
      "source": [
        "**SAMPLE OUTPUT**\n",
        "\n",
        "```\n",
        "Fixed point1 at 0.042 with Eigenvalue=-0.583\n",
        "Fixed point2 at 0.447 with Eigenvalue=0.498\n",
        "Fixed point3 at 0.900 with Eigenvalue=-0.626\n",
        "```"
      ]
    },
    {
      "cell_type": "markdown",
      "metadata": {
        "execution": {},
        "id": "TJmmOVHOuWM1"
      },
      "source": [
        "We can see that the first and third fixed points are stable (negative eigenvalues) and the second is unstable (positive eigenvalue) - as we expected!"
      ]
    },
    {
      "cell_type": "markdown",
      "metadata": {
        "execution": {},
        "id": "hSWbQloxuWM1"
      },
      "source": [
        "---\n",
        "## Bonus Section 2: Noisy input drives the transition between two stable states"
      ]
    },
    {
      "cell_type": "markdown",
      "metadata": {
        "execution": {},
        "id": "KrCFFX9AuWM1"
      },
      "source": [
        "As discussed in several previous tutorials, the Ornstein-Uhlenbeck (OU) process is usually used to generate a noisy input into the neuron. The OU input $\\eta(t)$ follows: \n",
        "\n",
        "\\begin{equation}\n",
        "\\tau_\\eta \\frac{d}{dt}\\eta(t) = -\\eta (t) + \\sigma_\\eta\\sqrt{2\\tau_\\eta}\\xi(t)\n",
        "\\end{equation}\n",
        "\n",
        "Execute the following function `my_OU(pars, sig, myseed=False)` to generate an OU process."
      ]
    },
    {
      "cell_type": "code",
      "execution_count": null,
      "metadata": {
        "cellView": "form",
        "execution": {},
        "id": "B6X_lzuvuWM1"
      },
      "outputs": [],
      "source": [
        "# @markdown Execute to get helper function `my_OU` and visualize OU process\n",
        "\n",
        "\n",
        "def my_OU(pars, sig, myseed=False):\n",
        "  \"\"\"\n",
        "  A functions that generates Ornstein-Uhlenback process\n",
        "\n",
        "  Args:\n",
        "    pars       : parameter dictionary\n",
        "    sig        : noise amplitute\n",
        "    myseed     : random seed. int or boolean\n",
        "\n",
        "  Returns:\n",
        "    I          : Ornstein-Uhlenbeck input current\n",
        "  \"\"\"\n",
        "\n",
        "  # Retrieve simulation parameters\n",
        "  dt, range_t = pars['dt'], pars['range_t']\n",
        "  Lt = range_t.size\n",
        "  tau_ou = pars['tau_ou']  # [ms]\n",
        "\n",
        "  # set random seed\n",
        "  if myseed:\n",
        "      np.random.seed(seed=myseed)\n",
        "  else:\n",
        "      np.random.seed()\n",
        "\n",
        "  # Initialize\n",
        "  noise = np.random.randn(Lt)\n",
        "  I_ou = np.zeros(Lt)\n",
        "  I_ou[0] = noise[0] * sig\n",
        "\n",
        "  # generate OU\n",
        "  for it in range(Lt - 1):\n",
        "    I_ou[it + 1] = (I_ou[it]\n",
        "                    + dt / tau_ou * (0. - I_ou[it])\n",
        "                    + np.sqrt(2 * dt / tau_ou) * sig * noise[it + 1])\n",
        "\n",
        "  return I_ou\n",
        "\n",
        "\n",
        "pars = default_pars_single(T=100)\n",
        "pars['tau_ou'] = 1.  # [ms]\n",
        "sig_ou = 0.1\n",
        "I_ou = my_OU(pars, sig=sig_ou, myseed=2020)\n",
        "plt.figure(figsize=(10, 4))\n",
        "plt.plot(pars['range_t'], I_ou, 'r')\n",
        "plt.xlabel('t (ms)')\n",
        "plt.ylabel(r'$I_{\\mathrm{OU}}$')\n",
        "plt.show()"
      ]
    },
    {
      "cell_type": "markdown",
      "metadata": {
        "execution": {},
        "id": "9Zi2mZXluWM1"
      },
      "source": [
        "In the presence of two or more fixed points, noisy inputs can drive a transition between the fixed points! Here, we stimulate an E population for 1,000 ms applying OU inputs."
      ]
    },
    {
      "cell_type": "code",
      "execution_count": null,
      "metadata": {
        "cellView": "form",
        "execution": {},
        "id": "4B6gTS7quWM1"
      },
      "outputs": [],
      "source": [
        "# @markdown Execute this cell to simulate E population with OU inputs\n",
        "\n",
        "pars = default_pars_single(T=1000)\n",
        "pars['w'] = 5.0\n",
        "sig_ou = 0.7\n",
        "pars['tau_ou'] = 1.  # [ms]\n",
        "pars['I_ext'] = 0.56 + my_OU(pars, sig=sig_ou, myseed=2020)\n",
        "\n",
        "r = simulate_single(pars)\n",
        "\n",
        "plt.figure(figsize=(10, 4))\n",
        "plt.plot(pars['range_t'], r, 'b', alpha=0.8)\n",
        "plt.xlabel('t (ms)')\n",
        "plt.ylabel(r'$r(t)$')\n",
        "plt.show()"
      ]
    },
    {
      "cell_type": "markdown",
      "metadata": {
        "execution": {},
        "id": "j7RexI7_uWM1"
      },
      "source": [
        "You can see that the population activity is changing between fixed points (it goes up and down)!"
      ]
    }
  ],
  "metadata": {
    "colab": {
      "collapsed_sections": [],
      "name": "W2D4_Tutorial1",
      "provenance": [],
      "toc_visible": true,
      "include_colab_link": true
    },
    "kernel": {
      "display_name": "Python 3",
      "language": "python",
      "name": "python3"
    },
    "kernelspec": {
      "display_name": "Python 3",
      "name": "python3"
    },
    "language_info": {
      "codemirror_mode": {
        "name": "ipython",
        "version": 3
      },
      "file_extension": ".py",
      "mimetype": "text/x-python",
      "name": "python",
      "nbconvert_exporter": "python",
      "pygments_lexer": "ipython3",
      "version": "3.7.13"
    },
    "widgets": {
      "application/vnd.jupyter.widget-state+json": {
        "ea567f0af09d4a0fa0362366a6c6e49c": {
          "model_module": "@jupyter-widgets/controls",
          "model_name": "TabModel",
          "model_module_version": "1.5.0",
          "state": {
            "_dom_classes": [],
            "_model_module": "@jupyter-widgets/controls",
            "_model_module_version": "1.5.0",
            "_model_name": "TabModel",
            "_titles": {
              "0": "Youtube",
              "1": "Bilibili"
            },
            "_view_count": null,
            "_view_module": "@jupyter-widgets/controls",
            "_view_module_version": "1.5.0",
            "_view_name": "TabView",
            "box_style": "",
            "children": [
              "IPY_MODEL_2828e980c656496688cf80527131dddf",
              "IPY_MODEL_3fb3097919d94593bcae19185609a741"
            ],
            "layout": "IPY_MODEL_76175632d11c41f9bc187dc70914c8de",
            "selected_index": 0
          }
        },
        "2828e980c656496688cf80527131dddf": {
          "model_module": "@jupyter-widgets/output",
          "model_name": "OutputModel",
          "model_module_version": "1.0.0",
          "state": {
            "_dom_classes": [],
            "_model_module": "@jupyter-widgets/output",
            "_model_module_version": "1.0.0",
            "_model_name": "OutputModel",
            "_view_count": null,
            "_view_module": "@jupyter-widgets/output",
            "_view_module_version": "1.0.0",
            "_view_name": "OutputView",
            "layout": "IPY_MODEL_a95eb88ae96f464c979f7f5632dab5ff",
            "msg_id": "",
            "outputs": [
              {
                "output_type": "stream",
                "name": "stdout",
                "text": [
                  "Video available at https://youtube.com/watch?v=p848349hPyw\n"
                ]
              },
              {
                "output_type": "display_data",
                "data": {
                  "text/plain": "<IPython.lib.display.YouTubeVideo at 0x7fe140af2250>",
                  "text/html": "\n        <iframe\n            width=\"854\"\n            height=\"480\"\n            src=\"https://www.youtube.com/embed/p848349hPyw?fs=1&rel=0\"\n            frameborder=\"0\"\n            allowfullscreen\n        ></iframe>\n        ",
                  "image/jpeg": "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\n"
                },
                "metadata": {}
              }
            ]
          }
        },
        "3fb3097919d94593bcae19185609a741": {
          "model_module": "@jupyter-widgets/output",
          "model_name": "OutputModel",
          "model_module_version": "1.0.0",
          "state": {
            "_dom_classes": [],
            "_model_module": "@jupyter-widgets/output",
            "_model_module_version": "1.0.0",
            "_model_name": "OutputModel",
            "_view_count": null,
            "_view_module": "@jupyter-widgets/output",
            "_view_module_version": "1.0.0",
            "_view_name": "OutputView",
            "layout": "IPY_MODEL_45341568a95841e2a58383c4aa6e8031",
            "msg_id": "",
            "outputs": [
              {
                "output_type": "stream",
                "name": "stdout",
                "text": [
                  "Video available at https://www.bilibili.com/video/BV1dh411o7qJ\n"
                ]
              },
              {
                "output_type": "display_data",
                "data": {
                  "text/plain": "<__main__.BiliVideo at 0x7fe133975b90>",
                  "text/html": "\n        <iframe\n            width=\"854\"\n            height=\"480\"\n            src=\"https://player.bilibili.com/player.html?bvid=BV1dh411o7qJ&page=1?fs=1\"\n            frameborder=\"0\"\n            allowfullscreen\n        ></iframe>\n        "
                },
                "metadata": {}
              }
            ]
          }
        },
        "76175632d11c41f9bc187dc70914c8de": {
          "model_module": "@jupyter-widgets/base",
          "model_name": "LayoutModel",
          "model_module_version": "1.2.0",
          "state": {
            "_model_module": "@jupyter-widgets/base",
            "_model_module_version": "1.2.0",
            "_model_name": "LayoutModel",
            "_view_count": null,
            "_view_module": "@jupyter-widgets/base",
            "_view_module_version": "1.2.0",
            "_view_name": "LayoutView",
            "align_content": null,
            "align_items": null,
            "align_self": null,
            "border": null,
            "bottom": null,
            "display": null,
            "flex": null,
            "flex_flow": null,
            "grid_area": null,
            "grid_auto_columns": null,
            "grid_auto_flow": null,
            "grid_auto_rows": null,
            "grid_column": null,
            "grid_gap": null,
            "grid_row": null,
            "grid_template_areas": null,
            "grid_template_columns": null,
            "grid_template_rows": null,
            "height": null,
            "justify_content": null,
            "justify_items": null,
            "left": null,
            "margin": null,
            "max_height": null,
            "max_width": null,
            "min_height": null,
            "min_width": null,
            "object_fit": null,
            "object_position": null,
            "order": null,
            "overflow": null,
            "overflow_x": null,
            "overflow_y": null,
            "padding": null,
            "right": null,
            "top": null,
            "visibility": null,
            "width": null
          }
        },
        "a95eb88ae96f464c979f7f5632dab5ff": {
          "model_module": "@jupyter-widgets/base",
          "model_name": "LayoutModel",
          "model_module_version": "1.2.0",
          "state": {
            "_model_module": "@jupyter-widgets/base",
            "_model_module_version": "1.2.0",
            "_model_name": "LayoutModel",
            "_view_count": null,
            "_view_module": "@jupyter-widgets/base",
            "_view_module_version": "1.2.0",
            "_view_name": "LayoutView",
            "align_content": null,
            "align_items": null,
            "align_self": null,
            "border": null,
            "bottom": null,
            "display": null,
            "flex": null,
            "flex_flow": null,
            "grid_area": null,
            "grid_auto_columns": null,
            "grid_auto_flow": null,
            "grid_auto_rows": null,
            "grid_column": null,
            "grid_gap": null,
            "grid_row": null,
            "grid_template_areas": null,
            "grid_template_columns": null,
            "grid_template_rows": null,
            "height": null,
            "justify_content": null,
            "justify_items": null,
            "left": null,
            "margin": null,
            "max_height": null,
            "max_width": null,
            "min_height": null,
            "min_width": null,
            "object_fit": null,
            "object_position": null,
            "order": null,
            "overflow": null,
            "overflow_x": null,
            "overflow_y": null,
            "padding": null,
            "right": null,
            "top": null,
            "visibility": null,
            "width": null
          }
        },
        "45341568a95841e2a58383c4aa6e8031": {
          "model_module": "@jupyter-widgets/base",
          "model_name": "LayoutModel",
          "model_module_version": "1.2.0",
          "state": {
            "_model_module": "@jupyter-widgets/base",
            "_model_module_version": "1.2.0",
            "_model_name": "LayoutModel",
            "_view_count": null,
            "_view_module": "@jupyter-widgets/base",
            "_view_module_version": "1.2.0",
            "_view_name": "LayoutView",
            "align_content": null,
            "align_items": null,
            "align_self": null,
            "border": null,
            "bottom": null,
            "display": null,
            "flex": null,
            "flex_flow": null,
            "grid_area": null,
            "grid_auto_columns": null,
            "grid_auto_flow": null,
            "grid_auto_rows": null,
            "grid_column": null,
            "grid_gap": null,
            "grid_row": null,
            "grid_template_areas": null,
            "grid_template_columns": null,
            "grid_template_rows": null,
            "height": null,
            "justify_content": null,
            "justify_items": null,
            "left": null,
            "margin": null,
            "max_height": null,
            "max_width": null,
            "min_height": null,
            "min_width": null,
            "object_fit": null,
            "object_position": null,
            "order": null,
            "overflow": null,
            "overflow_x": null,
            "overflow_y": null,
            "padding": null,
            "right": null,
            "top": null,
            "visibility": null,
            "width": null
          }
        },
        "0590be1a8f2142008488043f0697d3e3": {
          "model_module": "@jupyter-widgets/controls",
          "model_name": "VBoxModel",
          "model_module_version": "1.5.0",
          "state": {
            "_dom_classes": [
              "widget-interact"
            ],
            "_model_module": "@jupyter-widgets/controls",
            "_model_module_version": "1.5.0",
            "_model_name": "VBoxModel",
            "_view_count": null,
            "_view_module": "@jupyter-widgets/controls",
            "_view_module_version": "1.5.0",
            "_view_name": "VBoxView",
            "box_style": "",
            "children": [
              "IPY_MODEL_1bafd9c552a74893b2e3e4f2847d2ebe",
              "IPY_MODEL_68669813d93b4ade9093cad4529785d0",
              "IPY_MODEL_abbda364a5d747de99bc245fbe21458d"
            ],
            "layout": "IPY_MODEL_b110d825afe64be9b381a447a69972d7"
          }
        },
        "1bafd9c552a74893b2e3e4f2847d2ebe": {
          "model_module": "@jupyter-widgets/controls",
          "model_name": "FloatSliderModel",
          "model_module_version": "1.5.0",
          "state": {
            "_dom_classes": [],
            "_model_module": "@jupyter-widgets/controls",
            "_model_module_version": "1.5.0",
            "_model_name": "FloatSliderModel",
            "_view_count": null,
            "_view_module": "@jupyter-widgets/controls",
            "_view_module_version": "1.5.0",
            "_view_name": "FloatSliderView",
            "continuous_update": true,
            "description": "a",
            "description_tooltip": null,
            "disabled": false,
            "layout": "IPY_MODEL_8b6c332ac076448fbf27fb7d0a433bfa",
            "max": 3,
            "min": 0.3,
            "orientation": "horizontal",
            "readout": true,
            "readout_format": ".2f",
            "step": 0.3,
            "style": "IPY_MODEL_be585aa0581d4e34837ce8a89a505422",
            "value": 0.3
          }
        },
        "68669813d93b4ade9093cad4529785d0": {
          "model_module": "@jupyter-widgets/controls",
          "model_name": "FloatSliderModel",
          "model_module_version": "1.5.0",
          "state": {
            "_dom_classes": [],
            "_model_module": "@jupyter-widgets/controls",
            "_model_module_version": "1.5.0",
            "_model_name": "FloatSliderModel",
            "_view_count": null,
            "_view_module": "@jupyter-widgets/controls",
            "_view_module_version": "1.5.0",
            "_view_name": "FloatSliderView",
            "continuous_update": true,
            "description": "theta",
            "description_tooltip": null,
            "disabled": false,
            "layout": "IPY_MODEL_5761fc2c969d49f19d28e48fbeaa9149",
            "max": 4,
            "min": 2,
            "orientation": "horizontal",
            "readout": true,
            "readout_format": ".2f",
            "step": 0.2,
            "style": "IPY_MODEL_0671007387ed4b289514c66a95cd4347",
            "value": 2
          }
        },
        "abbda364a5d747de99bc245fbe21458d": {
          "model_module": "@jupyter-widgets/output",
          "model_name": "OutputModel",
          "model_module_version": "1.0.0",
          "state": {
            "_dom_classes": [],
            "_model_module": "@jupyter-widgets/output",
            "_model_module_version": "1.0.0",
            "_model_name": "OutputModel",
            "_view_count": null,
            "_view_module": "@jupyter-widgets/output",
            "_view_module_version": "1.0.0",
            "_view_name": "OutputView",
            "layout": "IPY_MODEL_7c6df5d8c38b4f40a62ec1910337d7f6",
            "msg_id": "",
            "outputs": [
              {
                "output_type": "display_data",
                "data": {
                  "text/plain": "<Figure size 576x432 with 1 Axes>",
                  "image/png": "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\n"
                },
                "metadata": {
                  "image/png": {
                    "width": 558,
                    "height": 413
                  },
                  "needs_background": "light"
                }
              }
            ]
          }
        },
        "b110d825afe64be9b381a447a69972d7": {
          "model_module": "@jupyter-widgets/base",
          "model_name": "LayoutModel",
          "model_module_version": "1.2.0",
          "state": {
            "_model_module": "@jupyter-widgets/base",
            "_model_module_version": "1.2.0",
            "_model_name": "LayoutModel",
            "_view_count": null,
            "_view_module": "@jupyter-widgets/base",
            "_view_module_version": "1.2.0",
            "_view_name": "LayoutView",
            "align_content": null,
            "align_items": null,
            "align_self": null,
            "border": null,
            "bottom": null,
            "display": null,
            "flex": null,
            "flex_flow": null,
            "grid_area": null,
            "grid_auto_columns": null,
            "grid_auto_flow": null,
            "grid_auto_rows": null,
            "grid_column": null,
            "grid_gap": null,
            "grid_row": null,
            "grid_template_areas": null,
            "grid_template_columns": null,
            "grid_template_rows": null,
            "height": null,
            "justify_content": null,
            "justify_items": null,
            "left": null,
            "margin": null,
            "max_height": null,
            "max_width": null,
            "min_height": null,
            "min_width": null,
            "object_fit": null,
            "object_position": null,
            "order": null,
            "overflow": null,
            "overflow_x": null,
            "overflow_y": null,
            "padding": null,
            "right": null,
            "top": null,
            "visibility": null,
            "width": null
          }
        },
        "8b6c332ac076448fbf27fb7d0a433bfa": {
          "model_module": "@jupyter-widgets/base",
          "model_name": "LayoutModel",
          "model_module_version": "1.2.0",
          "state": {
            "_model_module": "@jupyter-widgets/base",
            "_model_module_version": "1.2.0",
            "_model_name": "LayoutModel",
            "_view_count": null,
            "_view_module": "@jupyter-widgets/base",
            "_view_module_version": "1.2.0",
            "_view_name": "LayoutView",
            "align_content": null,
            "align_items": null,
            "align_self": null,
            "border": null,
            "bottom": null,
            "display": null,
            "flex": null,
            "flex_flow": null,
            "grid_area": null,
            "grid_auto_columns": null,
            "grid_auto_flow": null,
            "grid_auto_rows": null,
            "grid_column": null,
            "grid_gap": null,
            "grid_row": null,
            "grid_template_areas": null,
            "grid_template_columns": null,
            "grid_template_rows": null,
            "height": null,
            "justify_content": null,
            "justify_items": null,
            "left": null,
            "margin": null,
            "max_height": null,
            "max_width": null,
            "min_height": null,
            "min_width": null,
            "object_fit": null,
            "object_position": null,
            "order": null,
            "overflow": null,
            "overflow_x": null,
            "overflow_y": null,
            "padding": null,
            "right": null,
            "top": null,
            "visibility": null,
            "width": null
          }
        },
        "be585aa0581d4e34837ce8a89a505422": {
          "model_module": "@jupyter-widgets/controls",
          "model_name": "SliderStyleModel",
          "model_module_version": "1.5.0",
          "state": {
            "_model_module": "@jupyter-widgets/controls",
            "_model_module_version": "1.5.0",
            "_model_name": "SliderStyleModel",
            "_view_count": null,
            "_view_module": "@jupyter-widgets/base",
            "_view_module_version": "1.2.0",
            "_view_name": "StyleView",
            "description_width": "",
            "handle_color": null
          }
        },
        "5761fc2c969d49f19d28e48fbeaa9149": {
          "model_module": "@jupyter-widgets/base",
          "model_name": "LayoutModel",
          "model_module_version": "1.2.0",
          "state": {
            "_model_module": "@jupyter-widgets/base",
            "_model_module_version": "1.2.0",
            "_model_name": "LayoutModel",
            "_view_count": null,
            "_view_module": "@jupyter-widgets/base",
            "_view_module_version": "1.2.0",
            "_view_name": "LayoutView",
            "align_content": null,
            "align_items": null,
            "align_self": null,
            "border": null,
            "bottom": null,
            "display": null,
            "flex": null,
            "flex_flow": null,
            "grid_area": null,
            "grid_auto_columns": null,
            "grid_auto_flow": null,
            "grid_auto_rows": null,
            "grid_column": null,
            "grid_gap": null,
            "grid_row": null,
            "grid_template_areas": null,
            "grid_template_columns": null,
            "grid_template_rows": null,
            "height": null,
            "justify_content": null,
            "justify_items": null,
            "left": null,
            "margin": null,
            "max_height": null,
            "max_width": null,
            "min_height": null,
            "min_width": null,
            "object_fit": null,
            "object_position": null,
            "order": null,
            "overflow": null,
            "overflow_x": null,
            "overflow_y": null,
            "padding": null,
            "right": null,
            "top": null,
            "visibility": null,
            "width": null
          }
        },
        "0671007387ed4b289514c66a95cd4347": {
          "model_module": "@jupyter-widgets/controls",
          "model_name": "SliderStyleModel",
          "model_module_version": "1.5.0",
          "state": {
            "_model_module": "@jupyter-widgets/controls",
            "_model_module_version": "1.5.0",
            "_model_name": "SliderStyleModel",
            "_view_count": null,
            "_view_module": "@jupyter-widgets/base",
            "_view_module_version": "1.2.0",
            "_view_name": "StyleView",
            "description_width": "",
            "handle_color": null
          }
        },
        "7c6df5d8c38b4f40a62ec1910337d7f6": {
          "model_module": "@jupyter-widgets/base",
          "model_name": "LayoutModel",
          "model_module_version": "1.2.0",
          "state": {
            "_model_module": "@jupyter-widgets/base",
            "_model_module_version": "1.2.0",
            "_model_name": "LayoutModel",
            "_view_count": null,
            "_view_module": "@jupyter-widgets/base",
            "_view_module_version": "1.2.0",
            "_view_name": "LayoutView",
            "align_content": null,
            "align_items": null,
            "align_self": null,
            "border": null,
            "bottom": null,
            "display": null,
            "flex": null,
            "flex_flow": null,
            "grid_area": null,
            "grid_auto_columns": null,
            "grid_auto_flow": null,
            "grid_auto_rows": null,
            "grid_column": null,
            "grid_gap": null,
            "grid_row": null,
            "grid_template_areas": null,
            "grid_template_columns": null,
            "grid_template_rows": null,
            "height": null,
            "justify_content": null,
            "justify_items": null,
            "left": null,
            "margin": null,
            "max_height": null,
            "max_width": null,
            "min_height": null,
            "min_width": null,
            "object_fit": null,
            "object_position": null,
            "order": null,
            "overflow": null,
            "overflow_x": null,
            "overflow_y": null,
            "padding": null,
            "right": null,
            "top": null,
            "visibility": null,
            "width": null
          }
        },
        "8dc040a0d4d94b9c88de4124decc64cd": {
          "model_module": "@jupyter-widgets/controls",
          "model_name": "VBoxModel",
          "model_module_version": "1.5.0",
          "state": {
            "_dom_classes": [
              "widget-interact"
            ],
            "_model_module": "@jupyter-widgets/controls",
            "_model_module_version": "1.5.0",
            "_model_name": "VBoxModel",
            "_view_count": null,
            "_view_module": "@jupyter-widgets/controls",
            "_view_module_version": "1.5.0",
            "_view_name": "VBoxView",
            "box_style": "",
            "children": [
              "IPY_MODEL_8c3eb153722d42dea9fe510747db437d",
              "IPY_MODEL_114e74835fa5417e9422ab2ce7fd38c4",
              "IPY_MODEL_1d655dcc9bd9445ab75c263b2baf3149"
            ],
            "layout": "IPY_MODEL_45c32080dc9649e693f6e1ac7918b174"
          }
        },
        "8c3eb153722d42dea9fe510747db437d": {
          "model_module": "@jupyter-widgets/controls",
          "model_name": "FloatSliderModel",
          "model_module_version": "1.5.0",
          "state": {
            "_dom_classes": [],
            "_model_module": "@jupyter-widgets/controls",
            "_model_module_version": "1.5.0",
            "_model_name": "FloatSliderModel",
            "_view_count": null,
            "_view_module": "@jupyter-widgets/controls",
            "_view_module_version": "1.5.0",
            "_view_name": "FloatSliderView",
            "continuous_update": true,
            "description": "I_ext",
            "description_tooltip": null,
            "disabled": false,
            "layout": "IPY_MODEL_8ff2fdf12e594805a392fba2594fd4a2",
            "max": 10,
            "min": 0,
            "orientation": "horizontal",
            "readout": true,
            "readout_format": ".2f",
            "step": 1,
            "style": "IPY_MODEL_2b06b103b4d54160a7c2db86083a9fae",
            "value": 10
          }
        },
        "114e74835fa5417e9422ab2ce7fd38c4": {
          "model_module": "@jupyter-widgets/controls",
          "model_name": "FloatSliderModel",
          "model_module_version": "1.5.0",
          "state": {
            "_dom_classes": [],
            "_model_module": "@jupyter-widgets/controls",
            "_model_module_version": "1.5.0",
            "_model_name": "FloatSliderModel",
            "_view_count": null,
            "_view_module": "@jupyter-widgets/controls",
            "_view_module_version": "1.5.0",
            "_view_name": "FloatSliderView",
            "continuous_update": true,
            "description": "tau",
            "description_tooltip": null,
            "disabled": false,
            "layout": "IPY_MODEL_341aa1810c6e4a61be77107c589d8a1b",
            "max": 5,
            "min": 1,
            "orientation": "horizontal",
            "readout": true,
            "readout_format": ".2f",
            "step": 0.2,
            "style": "IPY_MODEL_13485311ddb140259246a5b28305708c",
            "value": 4.6
          }
        },
        "1d655dcc9bd9445ab75c263b2baf3149": {
          "model_module": "@jupyter-widgets/output",
          "model_name": "OutputModel",
          "model_module_version": "1.0.0",
          "state": {
            "_dom_classes": [],
            "_model_module": "@jupyter-widgets/output",
            "_model_module_version": "1.0.0",
            "_model_name": "OutputModel",
            "_view_count": null,
            "_view_module": "@jupyter-widgets/output",
            "_view_module_version": "1.0.0",
            "_view_name": "OutputView",
            "layout": "IPY_MODEL_603940814e6b4126827e5268dcd686ed",
            "msg_id": "",
            "outputs": [
              {
                "output_type": "display_data",
                "data": {
                  "text/plain": "<Figure size 576x432 with 1 Axes>",
                  "image/png": "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\n"
                },
                "metadata": {
                  "image/png": {
                    "width": 558,
                    "height": 413
                  },
                  "needs_background": "light"
                }
              }
            ]
          }
        },
        "45c32080dc9649e693f6e1ac7918b174": {
          "model_module": "@jupyter-widgets/base",
          "model_name": "LayoutModel",
          "model_module_version": "1.2.0",
          "state": {
            "_model_module": "@jupyter-widgets/base",
            "_model_module_version": "1.2.0",
            "_model_name": "LayoutModel",
            "_view_count": null,
            "_view_module": "@jupyter-widgets/base",
            "_view_module_version": "1.2.0",
            "_view_name": "LayoutView",
            "align_content": null,
            "align_items": null,
            "align_self": null,
            "border": null,
            "bottom": null,
            "display": null,
            "flex": null,
            "flex_flow": null,
            "grid_area": null,
            "grid_auto_columns": null,
            "grid_auto_flow": null,
            "grid_auto_rows": null,
            "grid_column": null,
            "grid_gap": null,
            "grid_row": null,
            "grid_template_areas": null,
            "grid_template_columns": null,
            "grid_template_rows": null,
            "height": null,
            "justify_content": null,
            "justify_items": null,
            "left": null,
            "margin": null,
            "max_height": null,
            "max_width": null,
            "min_height": null,
            "min_width": null,
            "object_fit": null,
            "object_position": null,
            "order": null,
            "overflow": null,
            "overflow_x": null,
            "overflow_y": null,
            "padding": null,
            "right": null,
            "top": null,
            "visibility": null,
            "width": null
          }
        },
        "8ff2fdf12e594805a392fba2594fd4a2": {
          "model_module": "@jupyter-widgets/base",
          "model_name": "LayoutModel",
          "model_module_version": "1.2.0",
          "state": {
            "_model_module": "@jupyter-widgets/base",
            "_model_module_version": "1.2.0",
            "_model_name": "LayoutModel",
            "_view_count": null,
            "_view_module": "@jupyter-widgets/base",
            "_view_module_version": "1.2.0",
            "_view_name": "LayoutView",
            "align_content": null,
            "align_items": null,
            "align_self": null,
            "border": null,
            "bottom": null,
            "display": null,
            "flex": null,
            "flex_flow": null,
            "grid_area": null,
            "grid_auto_columns": null,
            "grid_auto_flow": null,
            "grid_auto_rows": null,
            "grid_column": null,
            "grid_gap": null,
            "grid_row": null,
            "grid_template_areas": null,
            "grid_template_columns": null,
            "grid_template_rows": null,
            "height": null,
            "justify_content": null,
            "justify_items": null,
            "left": null,
            "margin": null,
            "max_height": null,
            "max_width": null,
            "min_height": null,
            "min_width": null,
            "object_fit": null,
            "object_position": null,
            "order": null,
            "overflow": null,
            "overflow_x": null,
            "overflow_y": null,
            "padding": null,
            "right": null,
            "top": null,
            "visibility": null,
            "width": null
          }
        },
        "2b06b103b4d54160a7c2db86083a9fae": {
          "model_module": "@jupyter-widgets/controls",
          "model_name": "SliderStyleModel",
          "model_module_version": "1.5.0",
          "state": {
            "_model_module": "@jupyter-widgets/controls",
            "_model_module_version": "1.5.0",
            "_model_name": "SliderStyleModel",
            "_view_count": null,
            "_view_module": "@jupyter-widgets/base",
            "_view_module_version": "1.2.0",
            "_view_name": "StyleView",
            "description_width": "",
            "handle_color": null
          }
        },
        "341aa1810c6e4a61be77107c589d8a1b": {
          "model_module": "@jupyter-widgets/base",
          "model_name": "LayoutModel",
          "model_module_version": "1.2.0",
          "state": {
            "_model_module": "@jupyter-widgets/base",
            "_model_module_version": "1.2.0",
            "_model_name": "LayoutModel",
            "_view_count": null,
            "_view_module": "@jupyter-widgets/base",
            "_view_module_version": "1.2.0",
            "_view_name": "LayoutView",
            "align_content": null,
            "align_items": null,
            "align_self": null,
            "border": null,
            "bottom": null,
            "display": null,
            "flex": null,
            "flex_flow": null,
            "grid_area": null,
            "grid_auto_columns": null,
            "grid_auto_flow": null,
            "grid_auto_rows": null,
            "grid_column": null,
            "grid_gap": null,
            "grid_row": null,
            "grid_template_areas": null,
            "grid_template_columns": null,
            "grid_template_rows": null,
            "height": null,
            "justify_content": null,
            "justify_items": null,
            "left": null,
            "margin": null,
            "max_height": null,
            "max_width": null,
            "min_height": null,
            "min_width": null,
            "object_fit": null,
            "object_position": null,
            "order": null,
            "overflow": null,
            "overflow_x": null,
            "overflow_y": null,
            "padding": null,
            "right": null,
            "top": null,
            "visibility": null,
            "width": null
          }
        },
        "13485311ddb140259246a5b28305708c": {
          "model_module": "@jupyter-widgets/controls",
          "model_name": "SliderStyleModel",
          "model_module_version": "1.5.0",
          "state": {
            "_model_module": "@jupyter-widgets/controls",
            "_model_module_version": "1.5.0",
            "_model_name": "SliderStyleModel",
            "_view_count": null,
            "_view_module": "@jupyter-widgets/base",
            "_view_module_version": "1.2.0",
            "_view_name": "StyleView",
            "description_width": "",
            "handle_color": null
          }
        },
        "603940814e6b4126827e5268dcd686ed": {
          "model_module": "@jupyter-widgets/base",
          "model_name": "LayoutModel",
          "model_module_version": "1.2.0",
          "state": {
            "_model_module": "@jupyter-widgets/base",
            "_model_module_version": "1.2.0",
            "_model_name": "LayoutModel",
            "_view_count": null,
            "_view_module": "@jupyter-widgets/base",
            "_view_module_version": "1.2.0",
            "_view_name": "LayoutView",
            "align_content": null,
            "align_items": null,
            "align_self": null,
            "border": null,
            "bottom": null,
            "display": null,
            "flex": null,
            "flex_flow": null,
            "grid_area": null,
            "grid_auto_columns": null,
            "grid_auto_flow": null,
            "grid_auto_rows": null,
            "grid_column": null,
            "grid_gap": null,
            "grid_row": null,
            "grid_template_areas": null,
            "grid_template_columns": null,
            "grid_template_rows": null,
            "height": null,
            "justify_content": null,
            "justify_items": null,
            "left": null,
            "margin": null,
            "max_height": null,
            "max_width": null,
            "min_height": null,
            "min_width": null,
            "object_fit": null,
            "object_position": null,
            "order": null,
            "overflow": null,
            "overflow_x": null,
            "overflow_y": null,
            "padding": null,
            "right": null,
            "top": null,
            "visibility": null,
            "width": null
          }
        },
        "74c8ab81700841ce890a17a629160ee3": {
          "model_module": "@jupyter-widgets/controls",
          "model_name": "TabModel",
          "model_module_version": "1.5.0",
          "state": {
            "_dom_classes": [],
            "_model_module": "@jupyter-widgets/controls",
            "_model_module_version": "1.5.0",
            "_model_name": "TabModel",
            "_titles": {
              "0": "Youtube",
              "1": "Bilibili"
            },
            "_view_count": null,
            "_view_module": "@jupyter-widgets/controls",
            "_view_module_version": "1.5.0",
            "_view_name": "TabView",
            "box_style": "",
            "children": [
              "IPY_MODEL_7f2cfe07eaef45e1bbe316ae5f045026",
              "IPY_MODEL_1b24b207505d4cf1be83fc2e50e7cf02"
            ],
            "layout": "IPY_MODEL_6801ef755efb4e7fadb52ac9fca3293a",
            "selected_index": 0
          }
        },
        "7f2cfe07eaef45e1bbe316ae5f045026": {
          "model_module": "@jupyter-widgets/output",
          "model_name": "OutputModel",
          "model_module_version": "1.0.0",
          "state": {
            "_dom_classes": [],
            "_model_module": "@jupyter-widgets/output",
            "_model_module_version": "1.0.0",
            "_model_name": "OutputModel",
            "_view_count": null,
            "_view_module": "@jupyter-widgets/output",
            "_view_module_version": "1.0.0",
            "_view_name": "OutputView",
            "layout": "IPY_MODEL_c6e162c96bf1471aadf2654702857fbf",
            "msg_id": "",
            "outputs": [
              {
                "output_type": "stream",
                "name": "stdout",
                "text": [
                  "Video available at https://youtube.com/watch?v=Ox3ELd1UFyo\n"
                ]
              },
              {
                "output_type": "display_data",
                "data": {
                  "text/plain": "<IPython.lib.display.YouTubeVideo at 0x7fe130ba7bd0>",
                  "text/html": "\n        <iframe\n            width=\"854\"\n            height=\"480\"\n            src=\"https://www.youtube.com/embed/Ox3ELd1UFyo?fs=1&rel=0\"\n            frameborder=\"0\"\n            allowfullscreen\n        ></iframe>\n        ",
                  "image/jpeg": "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\n"
                },
                "metadata": {}
              }
            ]
          }
        },
        "1b24b207505d4cf1be83fc2e50e7cf02": {
          "model_module": "@jupyter-widgets/output",
          "model_name": "OutputModel",
          "model_module_version": "1.0.0",
          "state": {
            "_dom_classes": [],
            "_model_module": "@jupyter-widgets/output",
            "_model_module_version": "1.0.0",
            "_model_name": "OutputModel",
            "_view_count": null,
            "_view_module": "@jupyter-widgets/output",
            "_view_module_version": "1.0.0",
            "_view_name": "OutputView",
            "layout": "IPY_MODEL_6322c92f745f48cab18011834065a404",
            "msg_id": "",
            "outputs": [
              {
                "output_type": "stream",
                "name": "stdout",
                "text": [
                  "Video available at https://www.bilibili.com/video/BV1v54y1v7Gr\n"
                ]
              },
              {
                "output_type": "display_data",
                "data": {
                  "text/plain": "<__main__.BiliVideo at 0x7fe130ba7990>",
                  "text/html": "\n        <iframe\n            width=\"854\"\n            height=\"480\"\n            src=\"https://player.bilibili.com/player.html?bvid=BV1v54y1v7Gr&page=1?fs=1\"\n            frameborder=\"0\"\n            allowfullscreen\n        ></iframe>\n        "
                },
                "metadata": {}
              }
            ]
          }
        },
        "6801ef755efb4e7fadb52ac9fca3293a": {
          "model_module": "@jupyter-widgets/base",
          "model_name": "LayoutModel",
          "model_module_version": "1.2.0",
          "state": {
            "_model_module": "@jupyter-widgets/base",
            "_model_module_version": "1.2.0",
            "_model_name": "LayoutModel",
            "_view_count": null,
            "_view_module": "@jupyter-widgets/base",
            "_view_module_version": "1.2.0",
            "_view_name": "LayoutView",
            "align_content": null,
            "align_items": null,
            "align_self": null,
            "border": null,
            "bottom": null,
            "display": null,
            "flex": null,
            "flex_flow": null,
            "grid_area": null,
            "grid_auto_columns": null,
            "grid_auto_flow": null,
            "grid_auto_rows": null,
            "grid_column": null,
            "grid_gap": null,
            "grid_row": null,
            "grid_template_areas": null,
            "grid_template_columns": null,
            "grid_template_rows": null,
            "height": null,
            "justify_content": null,
            "justify_items": null,
            "left": null,
            "margin": null,
            "max_height": null,
            "max_width": null,
            "min_height": null,
            "min_width": null,
            "object_fit": null,
            "object_position": null,
            "order": null,
            "overflow": null,
            "overflow_x": null,
            "overflow_y": null,
            "padding": null,
            "right": null,
            "top": null,
            "visibility": null,
            "width": null
          }
        },
        "c6e162c96bf1471aadf2654702857fbf": {
          "model_module": "@jupyter-widgets/base",
          "model_name": "LayoutModel",
          "model_module_version": "1.2.0",
          "state": {
            "_model_module": "@jupyter-widgets/base",
            "_model_module_version": "1.2.0",
            "_model_name": "LayoutModel",
            "_view_count": null,
            "_view_module": "@jupyter-widgets/base",
            "_view_module_version": "1.2.0",
            "_view_name": "LayoutView",
            "align_content": null,
            "align_items": null,
            "align_self": null,
            "border": null,
            "bottom": null,
            "display": null,
            "flex": null,
            "flex_flow": null,
            "grid_area": null,
            "grid_auto_columns": null,
            "grid_auto_flow": null,
            "grid_auto_rows": null,
            "grid_column": null,
            "grid_gap": null,
            "grid_row": null,
            "grid_template_areas": null,
            "grid_template_columns": null,
            "grid_template_rows": null,
            "height": null,
            "justify_content": null,
            "justify_items": null,
            "left": null,
            "margin": null,
            "max_height": null,
            "max_width": null,
            "min_height": null,
            "min_width": null,
            "object_fit": null,
            "object_position": null,
            "order": null,
            "overflow": null,
            "overflow_x": null,
            "overflow_y": null,
            "padding": null,
            "right": null,
            "top": null,
            "visibility": null,
            "width": null
          }
        },
        "6322c92f745f48cab18011834065a404": {
          "model_module": "@jupyter-widgets/base",
          "model_name": "LayoutModel",
          "model_module_version": "1.2.0",
          "state": {
            "_model_module": "@jupyter-widgets/base",
            "_model_module_version": "1.2.0",
            "_model_name": "LayoutModel",
            "_view_count": null,
            "_view_module": "@jupyter-widgets/base",
            "_view_module_version": "1.2.0",
            "_view_name": "LayoutView",
            "align_content": null,
            "align_items": null,
            "align_self": null,
            "border": null,
            "bottom": null,
            "display": null,
            "flex": null,
            "flex_flow": null,
            "grid_area": null,
            "grid_auto_columns": null,
            "grid_auto_flow": null,
            "grid_auto_rows": null,
            "grid_column": null,
            "grid_gap": null,
            "grid_row": null,
            "grid_template_areas": null,
            "grid_template_columns": null,
            "grid_template_rows": null,
            "height": null,
            "justify_content": null,
            "justify_items": null,
            "left": null,
            "margin": null,
            "max_height": null,
            "max_width": null,
            "min_height": null,
            "min_width": null,
            "object_fit": null,
            "object_position": null,
            "order": null,
            "overflow": null,
            "overflow_x": null,
            "overflow_y": null,
            "padding": null,
            "right": null,
            "top": null,
            "visibility": null,
            "width": null
          }
        },
        "d28b699f5eaa403984f3eff0bee87523": {
          "model_module": "@jupyter-widgets/controls",
          "model_name": "VBoxModel",
          "model_module_version": "1.5.0",
          "state": {
            "_dom_classes": [
              "widget-interact"
            ],
            "_model_module": "@jupyter-widgets/controls",
            "_model_module_version": "1.5.0",
            "_model_name": "VBoxModel",
            "_view_count": null,
            "_view_module": "@jupyter-widgets/controls",
            "_view_module_version": "1.5.0",
            "_view_name": "VBoxView",
            "box_style": "",
            "children": [
              "IPY_MODEL_f752caa36ed248458244e877a123b9db",
              "IPY_MODEL_c7b8d9d19acc47389ef5a7ba363f98d2",
              "IPY_MODEL_3dad64c59ca84bb587031afccfe4ed28"
            ],
            "layout": "IPY_MODEL_1c6d38498c3046a8bc006b3b42665185"
          }
        },
        "f752caa36ed248458244e877a123b9db": {
          "model_module": "@jupyter-widgets/controls",
          "model_name": "FloatSliderModel",
          "model_module_version": "1.5.0",
          "state": {
            "_dom_classes": [],
            "_model_module": "@jupyter-widgets/controls",
            "_model_module_version": "1.5.0",
            "_model_name": "FloatSliderModel",
            "_view_count": null,
            "_view_module": "@jupyter-widgets/controls",
            "_view_module_version": "1.5.0",
            "_view_name": "FloatSliderView",
            "continuous_update": true,
            "description": "w",
            "description_tooltip": null,
            "disabled": false,
            "layout": "IPY_MODEL_a7bf5ce3807a4d7780ec1ffa6f338889",
            "max": 7,
            "min": 1,
            "orientation": "horizontal",
            "readout": true,
            "readout_format": ".2f",
            "step": 0.2,
            "style": "IPY_MODEL_ebc799791a254fe798a7d528e2afb40f",
            "value": 5.8
          }
        },
        "c7b8d9d19acc47389ef5a7ba363f98d2": {
          "model_module": "@jupyter-widgets/controls",
          "model_name": "FloatSliderModel",
          "model_module_version": "1.5.0",
          "state": {
            "_dom_classes": [],
            "_model_module": "@jupyter-widgets/controls",
            "_model_module_version": "1.5.0",
            "_model_name": "FloatSliderModel",
            "_view_count": null,
            "_view_module": "@jupyter-widgets/controls",
            "_view_module_version": "1.5.0",
            "_view_name": "FloatSliderView",
            "continuous_update": true,
            "description": "I_ext",
            "description_tooltip": null,
            "disabled": false,
            "layout": "IPY_MODEL_7252e0826abf442db90f72ec7956150a",
            "max": 3,
            "min": 0,
            "orientation": "horizontal",
            "readout": true,
            "readout_format": ".2f",
            "step": 0.1,
            "style": "IPY_MODEL_a4cc81bfb015470f9b15f459e229cc13",
            "value": 0
          }
        },
        "3dad64c59ca84bb587031afccfe4ed28": {
          "model_module": "@jupyter-widgets/output",
          "model_name": "OutputModel",
          "model_module_version": "1.0.0",
          "state": {
            "_dom_classes": [],
            "_model_module": "@jupyter-widgets/output",
            "_model_module_version": "1.0.0",
            "_model_name": "OutputModel",
            "_view_count": null,
            "_view_module": "@jupyter-widgets/output",
            "_view_module_version": "1.0.0",
            "_view_name": "OutputView",
            "layout": "IPY_MODEL_79fba0ddacfe4d11ad048396fe6c4747",
            "msg_id": "",
            "outputs": [
              {
                "output_type": "display_data",
                "data": {
                  "text/plain": "<Figure size 576x432 with 1 Axes>",
                  "image/png": "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\n"
                },
                "metadata": {
                  "image/png": {
                    "width": 558,
                    "height": 413
                  },
                  "needs_background": "light"
                }
              }
            ]
          }
        },
        "1c6d38498c3046a8bc006b3b42665185": {
          "model_module": "@jupyter-widgets/base",
          "model_name": "LayoutModel",
          "model_module_version": "1.2.0",
          "state": {
            "_model_module": "@jupyter-widgets/base",
            "_model_module_version": "1.2.0",
            "_model_name": "LayoutModel",
            "_view_count": null,
            "_view_module": "@jupyter-widgets/base",
            "_view_module_version": "1.2.0",
            "_view_name": "LayoutView",
            "align_content": null,
            "align_items": null,
            "align_self": null,
            "border": null,
            "bottom": null,
            "display": null,
            "flex": null,
            "flex_flow": null,
            "grid_area": null,
            "grid_auto_columns": null,
            "grid_auto_flow": null,
            "grid_auto_rows": null,
            "grid_column": null,
            "grid_gap": null,
            "grid_row": null,
            "grid_template_areas": null,
            "grid_template_columns": null,
            "grid_template_rows": null,
            "height": null,
            "justify_content": null,
            "justify_items": null,
            "left": null,
            "margin": null,
            "max_height": null,
            "max_width": null,
            "min_height": null,
            "min_width": null,
            "object_fit": null,
            "object_position": null,
            "order": null,
            "overflow": null,
            "overflow_x": null,
            "overflow_y": null,
            "padding": null,
            "right": null,
            "top": null,
            "visibility": null,
            "width": null
          }
        },
        "a7bf5ce3807a4d7780ec1ffa6f338889": {
          "model_module": "@jupyter-widgets/base",
          "model_name": "LayoutModel",
          "model_module_version": "1.2.0",
          "state": {
            "_model_module": "@jupyter-widgets/base",
            "_model_module_version": "1.2.0",
            "_model_name": "LayoutModel",
            "_view_count": null,
            "_view_module": "@jupyter-widgets/base",
            "_view_module_version": "1.2.0",
            "_view_name": "LayoutView",
            "align_content": null,
            "align_items": null,
            "align_self": null,
            "border": null,
            "bottom": null,
            "display": null,
            "flex": null,
            "flex_flow": null,
            "grid_area": null,
            "grid_auto_columns": null,
            "grid_auto_flow": null,
            "grid_auto_rows": null,
            "grid_column": null,
            "grid_gap": null,
            "grid_row": null,
            "grid_template_areas": null,
            "grid_template_columns": null,
            "grid_template_rows": null,
            "height": null,
            "justify_content": null,
            "justify_items": null,
            "left": null,
            "margin": null,
            "max_height": null,
            "max_width": null,
            "min_height": null,
            "min_width": null,
            "object_fit": null,
            "object_position": null,
            "order": null,
            "overflow": null,
            "overflow_x": null,
            "overflow_y": null,
            "padding": null,
            "right": null,
            "top": null,
            "visibility": null,
            "width": null
          }
        },
        "ebc799791a254fe798a7d528e2afb40f": {
          "model_module": "@jupyter-widgets/controls",
          "model_name": "SliderStyleModel",
          "model_module_version": "1.5.0",
          "state": {
            "_model_module": "@jupyter-widgets/controls",
            "_model_module_version": "1.5.0",
            "_model_name": "SliderStyleModel",
            "_view_count": null,
            "_view_module": "@jupyter-widgets/base",
            "_view_module_version": "1.2.0",
            "_view_name": "StyleView",
            "description_width": "",
            "handle_color": null
          }
        },
        "7252e0826abf442db90f72ec7956150a": {
          "model_module": "@jupyter-widgets/base",
          "model_name": "LayoutModel",
          "model_module_version": "1.2.0",
          "state": {
            "_model_module": "@jupyter-widgets/base",
            "_model_module_version": "1.2.0",
            "_model_name": "LayoutModel",
            "_view_count": null,
            "_view_module": "@jupyter-widgets/base",
            "_view_module_version": "1.2.0",
            "_view_name": "LayoutView",
            "align_content": null,
            "align_items": null,
            "align_self": null,
            "border": null,
            "bottom": null,
            "display": null,
            "flex": null,
            "flex_flow": null,
            "grid_area": null,
            "grid_auto_columns": null,
            "grid_auto_flow": null,
            "grid_auto_rows": null,
            "grid_column": null,
            "grid_gap": null,
            "grid_row": null,
            "grid_template_areas": null,
            "grid_template_columns": null,
            "grid_template_rows": null,
            "height": null,
            "justify_content": null,
            "justify_items": null,
            "left": null,
            "margin": null,
            "max_height": null,
            "max_width": null,
            "min_height": null,
            "min_width": null,
            "object_fit": null,
            "object_position": null,
            "order": null,
            "overflow": null,
            "overflow_x": null,
            "overflow_y": null,
            "padding": null,
            "right": null,
            "top": null,
            "visibility": null,
            "width": null
          }
        },
        "a4cc81bfb015470f9b15f459e229cc13": {
          "model_module": "@jupyter-widgets/controls",
          "model_name": "SliderStyleModel",
          "model_module_version": "1.5.0",
          "state": {
            "_model_module": "@jupyter-widgets/controls",
            "_model_module_version": "1.5.0",
            "_model_name": "SliderStyleModel",
            "_view_count": null,
            "_view_module": "@jupyter-widgets/base",
            "_view_module_version": "1.2.0",
            "_view_name": "StyleView",
            "description_width": "",
            "handle_color": null
          }
        },
        "79fba0ddacfe4d11ad048396fe6c4747": {
          "model_module": "@jupyter-widgets/base",
          "model_name": "LayoutModel",
          "model_module_version": "1.2.0",
          "state": {
            "_model_module": "@jupyter-widgets/base",
            "_model_module_version": "1.2.0",
            "_model_name": "LayoutModel",
            "_view_count": null,
            "_view_module": "@jupyter-widgets/base",
            "_view_module_version": "1.2.0",
            "_view_name": "LayoutView",
            "align_content": null,
            "align_items": null,
            "align_self": null,
            "border": null,
            "bottom": null,
            "display": null,
            "flex": null,
            "flex_flow": null,
            "grid_area": null,
            "grid_auto_columns": null,
            "grid_auto_flow": null,
            "grid_auto_rows": null,
            "grid_column": null,
            "grid_gap": null,
            "grid_row": null,
            "grid_template_areas": null,
            "grid_template_columns": null,
            "grid_template_rows": null,
            "height": null,
            "justify_content": null,
            "justify_items": null,
            "left": null,
            "margin": null,
            "max_height": null,
            "max_width": null,
            "min_height": null,
            "min_width": null,
            "object_fit": null,
            "object_position": null,
            "order": null,
            "overflow": null,
            "overflow_x": null,
            "overflow_y": null,
            "padding": null,
            "right": null,
            "top": null,
            "visibility": null,
            "width": null
          }
        },
        "a13efcfa538043b7801c532d932f9cf8": {
          "model_module": "@jupyter-widgets/controls",
          "model_name": "VBoxModel",
          "model_module_version": "1.5.0",
          "state": {
            "_dom_classes": [
              "widget-interact"
            ],
            "_model_module": "@jupyter-widgets/controls",
            "_model_module_version": "1.5.0",
            "_model_name": "VBoxModel",
            "_view_count": null,
            "_view_module": "@jupyter-widgets/controls",
            "_view_module_version": "1.5.0",
            "_view_name": "VBoxView",
            "box_style": "",
            "children": [
              "IPY_MODEL_2af8a7cdbb7f4d58bc7c3b0b0c9c8d98",
              "IPY_MODEL_9ed4f2eb85734e569c743342158b2e2d"
            ],
            "layout": "IPY_MODEL_45e7932b158d47d5874ce96ba44059d6"
          }
        },
        "2af8a7cdbb7f4d58bc7c3b0b0c9c8d98": {
          "model_module": "@jupyter-widgets/controls",
          "model_name": "FloatSliderModel",
          "model_module_version": "1.5.0",
          "state": {
            "_dom_classes": [],
            "_model_module": "@jupyter-widgets/controls",
            "_model_module_version": "1.5.0",
            "_model_name": "FloatSliderModel",
            "_view_count": null,
            "_view_module": "@jupyter-widgets/controls",
            "_view_module_version": "1.5.0",
            "_view_name": "FloatSliderView",
            "continuous_update": true,
            "description": "r_init",
            "description_tooltip": null,
            "disabled": false,
            "layout": "IPY_MODEL_a7cee43e71fd4777a333088fcd868d90",
            "max": 1,
            "min": 0,
            "orientation": "horizontal",
            "readout": true,
            "readout_format": ".2f",
            "step": 0.02,
            "style": "IPY_MODEL_3e223cea1ea34393952c23758440deeb",
            "value": 0.38
          }
        },
        "9ed4f2eb85734e569c743342158b2e2d": {
          "model_module": "@jupyter-widgets/output",
          "model_name": "OutputModel",
          "model_module_version": "1.0.0",
          "state": {
            "_dom_classes": [],
            "_model_module": "@jupyter-widgets/output",
            "_model_module_version": "1.0.0",
            "_model_name": "OutputModel",
            "_view_count": null,
            "_view_module": "@jupyter-widgets/output",
            "_view_module_version": "1.0.0",
            "_view_name": "OutputView",
            "layout": "IPY_MODEL_804ff31e37724a8d90ea0efc56f87ad5",
            "msg_id": "",
            "outputs": [
              {
                "output_type": "display_data",
                "data": {
                  "text/plain": "<Figure size 576x432 with 1 Axes>",
                  "image/png": "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\n"
                },
                "metadata": {
                  "image/png": {
                    "width": 558,
                    "height": 413
                  },
                  "needs_background": "light"
                }
              }
            ]
          }
        },
        "45e7932b158d47d5874ce96ba44059d6": {
          "model_module": "@jupyter-widgets/base",
          "model_name": "LayoutModel",
          "model_module_version": "1.2.0",
          "state": {
            "_model_module": "@jupyter-widgets/base",
            "_model_module_version": "1.2.0",
            "_model_name": "LayoutModel",
            "_view_count": null,
            "_view_module": "@jupyter-widgets/base",
            "_view_module_version": "1.2.0",
            "_view_name": "LayoutView",
            "align_content": null,
            "align_items": null,
            "align_self": null,
            "border": null,
            "bottom": null,
            "display": null,
            "flex": null,
            "flex_flow": null,
            "grid_area": null,
            "grid_auto_columns": null,
            "grid_auto_flow": null,
            "grid_auto_rows": null,
            "grid_column": null,
            "grid_gap": null,
            "grid_row": null,
            "grid_template_areas": null,
            "grid_template_columns": null,
            "grid_template_rows": null,
            "height": null,
            "justify_content": null,
            "justify_items": null,
            "left": null,
            "margin": null,
            "max_height": null,
            "max_width": null,
            "min_height": null,
            "min_width": null,
            "object_fit": null,
            "object_position": null,
            "order": null,
            "overflow": null,
            "overflow_x": null,
            "overflow_y": null,
            "padding": null,
            "right": null,
            "top": null,
            "visibility": null,
            "width": null
          }
        },
        "a7cee43e71fd4777a333088fcd868d90": {
          "model_module": "@jupyter-widgets/base",
          "model_name": "LayoutModel",
          "model_module_version": "1.2.0",
          "state": {
            "_model_module": "@jupyter-widgets/base",
            "_model_module_version": "1.2.0",
            "_model_name": "LayoutModel",
            "_view_count": null,
            "_view_module": "@jupyter-widgets/base",
            "_view_module_version": "1.2.0",
            "_view_name": "LayoutView",
            "align_content": null,
            "align_items": null,
            "align_self": null,
            "border": null,
            "bottom": null,
            "display": null,
            "flex": null,
            "flex_flow": null,
            "grid_area": null,
            "grid_auto_columns": null,
            "grid_auto_flow": null,
            "grid_auto_rows": null,
            "grid_column": null,
            "grid_gap": null,
            "grid_row": null,
            "grid_template_areas": null,
            "grid_template_columns": null,
            "grid_template_rows": null,
            "height": null,
            "justify_content": null,
            "justify_items": null,
            "left": null,
            "margin": null,
            "max_height": null,
            "max_width": null,
            "min_height": null,
            "min_width": null,
            "object_fit": null,
            "object_position": null,
            "order": null,
            "overflow": null,
            "overflow_x": null,
            "overflow_y": null,
            "padding": null,
            "right": null,
            "top": null,
            "visibility": null,
            "width": null
          }
        },
        "3e223cea1ea34393952c23758440deeb": {
          "model_module": "@jupyter-widgets/controls",
          "model_name": "SliderStyleModel",
          "model_module_version": "1.5.0",
          "state": {
            "_model_module": "@jupyter-widgets/controls",
            "_model_module_version": "1.5.0",
            "_model_name": "SliderStyleModel",
            "_view_count": null,
            "_view_module": "@jupyter-widgets/base",
            "_view_module_version": "1.2.0",
            "_view_name": "StyleView",
            "description_width": "",
            "handle_color": null
          }
        },
        "804ff31e37724a8d90ea0efc56f87ad5": {
          "model_module": "@jupyter-widgets/base",
          "model_name": "LayoutModel",
          "model_module_version": "1.2.0",
          "state": {
            "_model_module": "@jupyter-widgets/base",
            "_model_module_version": "1.2.0",
            "_model_name": "LayoutModel",
            "_view_count": null,
            "_view_module": "@jupyter-widgets/base",
            "_view_module_version": "1.2.0",
            "_view_name": "LayoutView",
            "align_content": null,
            "align_items": null,
            "align_self": null,
            "border": null,
            "bottom": null,
            "display": null,
            "flex": null,
            "flex_flow": null,
            "grid_area": null,
            "grid_auto_columns": null,
            "grid_auto_flow": null,
            "grid_auto_rows": null,
            "grid_column": null,
            "grid_gap": null,
            "grid_row": null,
            "grid_template_areas": null,
            "grid_template_columns": null,
            "grid_template_rows": null,
            "height": null,
            "justify_content": null,
            "justify_items": null,
            "left": null,
            "margin": null,
            "max_height": null,
            "max_width": null,
            "min_height": null,
            "min_width": null,
            "object_fit": null,
            "object_position": null,
            "order": null,
            "overflow": null,
            "overflow_x": null,
            "overflow_y": null,
            "padding": null,
            "right": null,
            "top": null,
            "visibility": null,
            "width": null
          }
        }
      }
    }
  },
  "nbformat": 4,
  "nbformat_minor": 0
}