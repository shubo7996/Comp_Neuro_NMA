{
  "cells": [
    {
      "cell_type": "markdown",
      "metadata": {
        "id": "view-in-github",
        "colab_type": "text"
      },
      "source": [
        "<a href=\"https://colab.research.google.com/github/shubo7996/Comp_Neuro_NMA/blob/main/tutorials/W1D4_DimensionalityReduction/student/W1D4_Tutorial3.ipynb\" target=\"_parent\"><img src=\"https://colab.research.google.com/assets/colab-badge.svg\" alt=\"Open In Colab\"/></a>"
      ]
    },
    {
      "cell_type": "markdown",
      "metadata": {
        "execution": {},
        "id": "ftcbISAlQqMW"
      },
      "source": [
        "# Tutorial 3: Dimensionality Reduction & Reconstruction\n",
        "\n",
        "**Week 1, Day 4: Dimensionality Reduction**\n",
        "\n",
        "**By Neuromatch Academy**\n",
        "\n",
        "__Content creators:__ Alex Cayco Gajic, John Murray\n",
        "\n",
        "__Content reviewers:__ Roozbeh Farhoudi, Matt Krause, Spiros Chavlis, Richard Gao, Michael Waskom,  Siddharth Suresh, Natalie Schaworonkow, Ella Batty"
      ]
    },
    {
      "cell_type": "markdown",
      "metadata": {
        "execution": {},
        "id": "VZFGKNEYQqMb"
      },
      "source": [
        "<p align='center'><img src='https://github.com/NeuromatchAcademy/widgets/blob/master/sponsors.png?raw=True'/></p>"
      ]
    },
    {
      "cell_type": "markdown",
      "metadata": {
        "execution": {},
        "id": "JOWgmKSvQqMc"
      },
      "source": [
        "---\n",
        "# Tutorial Objectives\n",
        "\n",
        "*Estimated timing of tutorial: 50 minutes*\n",
        "\n",
        "In this notebook we'll learn to apply PCA for dimensionality reduction, using a classic dataset that is often used to benchmark machine learning algorithms: MNIST. We'll also learn how to use PCA for reconstruction and denoising.\n",
        "\n",
        "Overview:\n",
        "- Perform PCA on MNIST\n",
        "- Calculate the variance explained\n",
        "- Reconstruct data with different numbers of PCs\n",
        "- (Bonus) Examine denoising using PCA\n",
        "\n",
        "\n",
        "You can learn more about the MNIST dataset [here](https://en.wikipedia.org/wiki/MNIST_database)."
      ]
    },
    {
      "cell_type": "code",
      "execution_count": 1,
      "metadata": {
        "cellView": "form",
        "execution": {},
        "colab": {
          "base_uri": "https://localhost:8080/",
          "height": 501
        },
        "id": "I-hocMfUQqMd",
        "outputId": "0cd3d8d7-6697-4ba0-9686-17c6d947c85b"
      },
      "outputs": [
        {
          "output_type": "execute_result",
          "data": {
            "text/plain": [
              "<IPython.lib.display.IFrame at 0x7f9d68f7fa90>"
            ],
            "text/html": [
              "\n",
              "        <iframe\n",
              "            width=\"854\"\n",
              "            height=\"480\"\n",
              "            src=\"https://mfr.ca-1.osf.io/render?url=https://osf.io/kaq2x/?direct%26mode=render%26action=download%26mode=render\"\n",
              "            frameborder=\"0\"\n",
              "            allowfullscreen\n",
              "        ></iframe>\n",
              "        "
            ]
          },
          "metadata": {},
          "execution_count": 1
        }
      ],
      "source": [
        "# @title Tutorial slides\n",
        "\n",
        "# @markdown These are the slides for the videos in all tutorials today\n",
        "from IPython.display import IFrame\n",
        "IFrame(src=f\"https://mfr.ca-1.osf.io/render?url=https://osf.io/kaq2x/?direct%26mode=render%26action=download%26mode=render\", width=854, height=480)"
      ]
    },
    {
      "cell_type": "code",
      "execution_count": 2,
      "metadata": {
        "cellView": "form",
        "execution": {},
        "colab": {
          "base_uri": "https://localhost:8080/",
          "height": 581,
          "referenced_widgets": [
            "cfbf2be119054815b2c630befed108ea",
            "4988b811798747c49a15708c2141afc8",
            "9a7b72b301dc47bf9b8811e87210513e",
            "f3168c4b501f4aeb8b120ca5f640e297",
            "2805ed6219c54e038ca3f7ed62a844e8",
            "7eacbae9cfcf477d873532ee5034ad61"
          ]
        },
        "id": "wulyU2owQqMf",
        "outputId": "3b5432a7-937b-4edb-bc7a-70ed80842ad8"
      },
      "outputs": [
        {
          "output_type": "display_data",
          "data": {
            "text/plain": [
              "Tab(children=(Output(), Output()), _titles={'0': 'Youtube', '1': 'Bilibili'})"
            ],
            "application/vnd.jupyter.widget-view+json": {
              "version_major": 2,
              "version_minor": 0,
              "model_id": "cfbf2be119054815b2c630befed108ea"
            }
          },
          "metadata": {}
        }
      ],
      "source": [
        "# @title Video 1: PCA for dimensionality reduction\n",
        "from ipywidgets import widgets\n",
        "\n",
        "out2 = widgets.Output()\n",
        "with out2:\n",
        "  from IPython.display import IFrame\n",
        "  class BiliVideo(IFrame):\n",
        "      def __init__(self, id, page=1, width=400, height=300, **kwargs):\n",
        "          self.id=id\n",
        "          src = 'https://player.bilibili.com/player.html?bvid={0}&page={1}'.format(id, page)\n",
        "          super(BiliVideo, self).__init__(src, width, height, **kwargs)\n",
        "\n",
        "  video = BiliVideo(id=\"BV1up4y1S7xs\", width=854, height=480, fs=1)\n",
        "  print('Video available at https://www.bilibili.com/video/{0}'.format(video.id))\n",
        "  display(video)\n",
        "\n",
        "out1 = widgets.Output()\n",
        "with out1:\n",
        "  from IPython.display import YouTubeVideo\n",
        "  video = YouTubeVideo(id=\"oO0bbInoO_0\", width=854, height=480, fs=1, rel=0)\n",
        "  print('Video available at https://youtube.com/watch?v=' + video.id)\n",
        "  display(video)\n",
        "\n",
        "out = widgets.Tab([out1, out2])\n",
        "out.set_title(0, 'Youtube')\n",
        "out.set_title(1, 'Bilibili')\n",
        "\n",
        "display(out)"
      ]
    },
    {
      "cell_type": "markdown",
      "metadata": {
        "execution": {},
        "id": "5KBVItfqQqMg"
      },
      "source": [
        "---\n",
        "# Setup"
      ]
    },
    {
      "cell_type": "code",
      "execution_count": 3,
      "metadata": {
        "execution": {},
        "id": "v48XKLO_QqMg"
      },
      "outputs": [],
      "source": [
        "# Imports\n",
        "import numpy as np\n",
        "import matplotlib.pyplot as plt"
      ]
    },
    {
      "cell_type": "code",
      "execution_count": 4,
      "metadata": {
        "cellView": "form",
        "execution": {},
        "id": "Jw68Njc7QqMh"
      },
      "outputs": [],
      "source": [
        "# @title Figure Settings\n",
        "import ipywidgets as widgets   # interactive display\n",
        "%config InlineBackend.figure_format = 'retina'\n",
        "plt.style.use(\"https://raw.githubusercontent.com/NeuromatchAcademy/course-content/main/nma.mplstyle\")"
      ]
    },
    {
      "cell_type": "code",
      "execution_count": 5,
      "metadata": {
        "cellView": "form",
        "execution": {},
        "id": "uQSUJmtVQqMi"
      },
      "outputs": [],
      "source": [
        "# @title Plotting Functions\n",
        "\n",
        "def plot_variance_explained(variance_explained):\n",
        "  \"\"\"\n",
        "  Plots eigenvalues.\n",
        "\n",
        "  Args:\n",
        "    variance_explained (numpy array of floats) : Vector of variance explained\n",
        "                                                 for each PC\n",
        "\n",
        "  Returns:\n",
        "    Nothing.\n",
        "\n",
        "  \"\"\"\n",
        "\n",
        "  plt.figure()\n",
        "  plt.plot(np.arange(1, len(variance_explained) + 1), variance_explained,\n",
        "           '--k')\n",
        "  plt.xlabel('Number of components')\n",
        "  plt.ylabel('Variance explained')\n",
        "  plt.show()\n",
        "\n",
        "\n",
        "def plot_MNIST_reconstruction(X, X_reconstructed):\n",
        "  \"\"\"\n",
        "  Plots 9 images in the MNIST dataset side-by-side with the reconstructed\n",
        "  images.\n",
        "\n",
        "  Args:\n",
        "    X (numpy array of floats)               : Data matrix each column\n",
        "                                              corresponds to a different\n",
        "                                              random variable\n",
        "    X_reconstructed (numpy array of floats) : Data matrix each column\n",
        "                                              corresponds to a different\n",
        "                                              random variable\n",
        "\n",
        "  Returns:\n",
        "    Nothing.\n",
        "  \"\"\"\n",
        "\n",
        "  plt.figure()\n",
        "  ax = plt.subplot(121)\n",
        "  k = 0\n",
        "  for k1 in range(3):\n",
        "    for k2 in range(3):\n",
        "      k = k + 1\n",
        "      plt.imshow(np.reshape(X[k, :], (28, 28)),\n",
        "                 extent=[(k1 + 1) * 28, k1 * 28, (k2 + 1) * 28, k2 * 28],\n",
        "                 vmin=0, vmax=255)\n",
        "  plt.xlim((3 * 28, 0))\n",
        "  plt.ylim((3 * 28, 0))\n",
        "  plt.tick_params(axis='both', which='both', bottom=False, top=False,\n",
        "                  labelbottom=False)\n",
        "  ax.set_xticks([])\n",
        "  ax.set_yticks([])\n",
        "  plt.title('Data')\n",
        "  plt.clim([0, 250])\n",
        "  ax = plt.subplot(122)\n",
        "  k = 0\n",
        "  for k1 in range(3):\n",
        "    for k2 in range(3):\n",
        "      k = k + 1\n",
        "      plt.imshow(np.reshape(np.real(X_reconstructed[k, :]), (28, 28)),\n",
        "                 extent=[(k1 + 1) * 28, k1 * 28, (k2 + 1) * 28, k2 * 28],\n",
        "                 vmin=0, vmax=255)\n",
        "  plt.xlim((3 * 28, 0))\n",
        "  plt.ylim((3 * 28, 0))\n",
        "  plt.tick_params(axis='both', which='both', bottom=False, top=False,\n",
        "                  labelbottom=False)\n",
        "  ax.set_xticks([])\n",
        "  ax.set_yticks([])\n",
        "  plt.clim([0, 250])\n",
        "  plt.title('Reconstructed')\n",
        "  plt.tight_layout()\n",
        "\n",
        "\n",
        "def plot_MNIST_sample(X):\n",
        "  \"\"\"\n",
        "  Plots 9 images in the MNIST dataset.\n",
        "\n",
        "  Args:\n",
        "     X (numpy array of floats) : Data matrix each column corresponds to a\n",
        "                                 different random variable\n",
        "\n",
        "  Returns:\n",
        "    Nothing.\n",
        "\n",
        "  \"\"\"\n",
        "\n",
        "  fig, ax = plt.subplots()\n",
        "  k = 0\n",
        "  for k1 in range(3):\n",
        "    for k2 in range(3):\n",
        "      k = k + 1\n",
        "      plt.imshow(np.reshape(X[k, :], (28, 28)),\n",
        "                 extent=[(k1 + 1) * 28, k1 * 28, (k2+1) * 28, k2 * 28],\n",
        "                 vmin=0, vmax=255)\n",
        "  plt.xlim((3 * 28, 0))\n",
        "  plt.ylim((3 * 28, 0))\n",
        "  plt.tick_params(axis='both', which='both', bottom=False, top=False,\n",
        "                  labelbottom=False)\n",
        "  plt.clim([0, 250])\n",
        "  ax.set_xticks([])\n",
        "  ax.set_yticks([])\n",
        "  plt.show()\n",
        "\n",
        "\n",
        "def plot_MNIST_weights(weights):\n",
        "  \"\"\"\n",
        "  Visualize PCA basis vector weights for MNIST. Red = positive weights,\n",
        "  blue = negative weights, white = zero weight.\n",
        "\n",
        "  Args:\n",
        "     weights (numpy array of floats) : PCA basis vector\n",
        "\n",
        "  Returns:\n",
        "     Nothing.\n",
        "  \"\"\"\n",
        "\n",
        "  fig, ax = plt.subplots()\n",
        "  cmap = plt.cm.get_cmap('seismic')\n",
        "  plt.imshow(np.real(np.reshape(weights, (28, 28))), cmap=cmap)\n",
        "  plt.tick_params(axis='both', which='both', bottom=False, top=False,\n",
        "                  labelbottom=False)\n",
        "  plt.clim(-.15, .15)\n",
        "  plt.colorbar(ticks=[-.15, -.1, -.05, 0, .05, .1, .15])\n",
        "  ax.set_xticks([])\n",
        "  ax.set_yticks([])\n",
        "  plt.show()\n",
        "\n",
        "\n",
        "def plot_eigenvalues(evals, limit=True):\n",
        "  \"\"\"\n",
        "  Plots eigenvalues.\n",
        "\n",
        "  Args:\n",
        "     (numpy array of floats) : Vector of eigenvalues\n",
        "\n",
        "  Returns:\n",
        "    Nothing.\n",
        "\n",
        "  \"\"\"\n",
        "\n",
        "  plt.figure()\n",
        "  plt.plot(np.arange(1, len(evals) + 1), evals, 'o-k')\n",
        "  plt.xlabel('Component')\n",
        "  plt.ylabel('Eigenvalue')\n",
        "  plt.title('Scree plot')\n",
        "  if limit:\n",
        "    plt.show()"
      ]
    },
    {
      "cell_type": "code",
      "execution_count": 6,
      "metadata": {
        "execution": {},
        "id": "EGnI6ZvwQqMk"
      },
      "outputs": [],
      "source": [
        "# @title Helper Functions\n",
        "\n",
        "def add_noise(X, frac_noisy_pixels):\n",
        "  \"\"\"\n",
        "  Randomly corrupts a fraction of the pixels by setting them to random values.\n",
        "\n",
        "  Args:\n",
        "     X (numpy array of floats)  : Data matrix\n",
        "     frac_noisy_pixels (scalar) : Fraction of noisy pixels\n",
        "\n",
        "  Returns:\n",
        "     (numpy array of floats)    : Data matrix + noise\n",
        "\n",
        "  \"\"\"\n",
        "\n",
        "  X_noisy = np.reshape(X, (X.shape[0] * X.shape[1]))\n",
        "  N_noise_ixs = int(X_noisy.shape[0] * frac_noisy_pixels)\n",
        "  noise_ixs = np.random.choice(X_noisy.shape[0], size=N_noise_ixs,\n",
        "                               replace=False)\n",
        "  X_noisy[noise_ixs] = np.random.uniform(0, 255, noise_ixs.shape)\n",
        "  X_noisy = np.reshape(X_noisy, (X.shape[0], X.shape[1]))\n",
        "\n",
        "  return X_noisy\n",
        "\n",
        "\n",
        "def change_of_basis(X, W):\n",
        "  \"\"\"\n",
        "  Projects data onto a new basis.\n",
        "\n",
        "  Args:\n",
        "    X (numpy array of floats) : Data matrix each column corresponding to a\n",
        "                                different random variable\n",
        "    W (numpy array of floats) : new orthonormal basis columns correspond to\n",
        "                                basis vectors\n",
        "\n",
        "  Returns:\n",
        "    (numpy array of floats)   : Data matrix expressed in new basis\n",
        "  \"\"\"\n",
        "\n",
        "  Y = np.matmul(X, W)\n",
        "\n",
        "  return Y\n",
        "\n",
        "\n",
        "def get_sample_cov_matrix(X):\n",
        "  \"\"\"\n",
        "  Returns the sample covariance matrix of data X.\n",
        "\n",
        "  Args:\n",
        "    X (numpy array of floats) : Data matrix each column corresponds to a\n",
        "                                different random variable\n",
        "\n",
        "  Returns:\n",
        "    (numpy array of floats)   : Covariance matrix\n",
        "\"\"\"\n",
        "\n",
        "  X = X - np.mean(X, 0)\n",
        "  cov_matrix = 1 / X.shape[0] * np.matmul(X.T, X)\n",
        "  return cov_matrix\n",
        "\n",
        "\n",
        "def sort_evals_descending(evals, evectors):\n",
        "  \"\"\"\n",
        "  Sorts eigenvalues and eigenvectors in decreasing order. Also aligns first two\n",
        "  eigenvectors to be in first two quadrants (if 2D).\n",
        "\n",
        "  Args:\n",
        "    evals (numpy array of floats)    :   Vector of eigenvalues\n",
        "    evectors (numpy array of floats) :   Corresponding matrix of eigenvectors\n",
        "                                         each column corresponds to a different\n",
        "                                         eigenvalue\n",
        "\n",
        "  Returns:\n",
        "    (numpy array of floats)          : Vector of eigenvalues after sorting\n",
        "    (numpy array of floats)          : Matrix of eigenvectors after sorting\n",
        "  \"\"\"\n",
        "\n",
        "  index = np.flip(np.argsort(evals))\n",
        "  evals = evals[index]\n",
        "  evectors = evectors[:, index]\n",
        "  if evals.shape[0] == 2:\n",
        "    if np.arccos(np.matmul(evectors[:, 0],\n",
        "                           1 / np.sqrt(2) * np.array([1, 1]))) > np.pi / 2:\n",
        "      evectors[:, 0] = -evectors[:, 0]\n",
        "    if np.arccos(np.matmul(evectors[:, 1],\n",
        "                           1 / np.sqrt(2)*np.array([-1, 1]))) > np.pi / 2:\n",
        "      evectors[:, 1] = -evectors[:, 1]\n",
        "\n",
        "  return evals, evectors\n",
        "\n",
        "\n",
        "def pca(X):\n",
        "  \"\"\"\n",
        "  Performs PCA on multivariate data. Eigenvalues are sorted in decreasing order\n",
        "\n",
        "  Args:\n",
        "     X (numpy array of floats) :   Data matrix each column corresponds to a\n",
        "                                   different random variable\n",
        "\n",
        "  Returns:\n",
        "    (numpy array of floats)    : Data projected onto the new basis\n",
        "    (numpy array of floats)    : Corresponding matrix of eigenvectors\n",
        "    (numpy array of floats)    : Vector of eigenvalues\n",
        "\n",
        "  \"\"\"\n",
        "\n",
        "  X = X - np.mean(X, 0)\n",
        "  cov_matrix = get_sample_cov_matrix(X)\n",
        "  evals, evectors = np.linalg.eigh(cov_matrix)\n",
        "  evals, evectors = sort_evals_descending(evals, evectors)\n",
        "  score = change_of_basis(X, evectors)\n",
        "\n",
        "  return score, evectors, evals"
      ]
    },
    {
      "cell_type": "markdown",
      "metadata": {
        "execution": {},
        "id": "o1yP1LQdQqMl"
      },
      "source": [
        "---\n",
        "# Section 1: Perform PCA on MNIST\n",
        "\n",
        "The MNIST dataset consists of 70,000 images of individual handwritten digits. Each image is a 28x28 pixel grayscale image. For convenience, each 28x28 pixel image is often unravelled into a single 784 (=28x28) element vector, so that the whole dataset is represented as a 70,000 x 784 matrix. Each row represents a different image, and each column represents a different pixel.\n",
        " \n",
        "Enter the following cell to load the MNIST dataset and plot the first nine images. It may take a few minutes to load."
      ]
    },
    {
      "cell_type": "code",
      "execution_count": 7,
      "metadata": {
        "execution": {},
        "colab": {
          "base_uri": "https://localhost:8080/",
          "height": 430
        },
        "id": "S7zF_mzhQqMl",
        "outputId": "1ae0e82e-4c83-4747-a258-11cc135986c3"
      },
      "outputs": [
        {
          "output_type": "display_data",
          "data": {
            "text/plain": [
              "<Figure size 576x432 with 1 Axes>"
            ],
            "image/png": "[encoded data removed]"
          },
          "metadata": {
            "image/png": {
              "width": 418,
              "height": 413
            }
          }
        }
      ],
      "source": [
        "from sklearn.datasets import fetch_openml\n",
        "\n",
        "# GET mnist data\n",
        "mnist = fetch_openml(name='mnist_784', as_frame = False)\n",
        "X = mnist.data\n",
        "\n",
        "# Visualize\n",
        "plot_MNIST_sample(X)"
      ]
    },
    {
      "cell_type": "markdown",
      "metadata": {
        "execution": {},
        "id": "jYcLDXuEQqMm"
      },
      "source": [
        "The MNIST dataset has an extrinsic dimensionality of 784, much higher than the 2-dimensional examples used in the previous tutorials! To make sense of this data, we'll use dimensionality reduction. But first, we need to determine the intrinsic dimensionality $K$ of the data. One way to do this is to look for an \"elbow\" in the scree plot, to determine which eigenvalues are significant."
      ]
    },
    {
      "cell_type": "markdown",
      "metadata": {
        "execution": {},
        "id": "bhtv_KTCQqMm"
      },
      "source": [
        "## Coding Exercise 1: Scree plot of MNIST\n",
        "\n",
        "In this exercise you will examine the scree plot in the MNIST dataset.\n",
        "\n",
        "**Steps:**\n",
        "- Perform PCA on the dataset using our function `pca` from tutorial 2 (already loaded in) and examine the scree plot. \n",
        "- When do the eigenvalues appear (by eye) to reach zero? (**Hint:** use `plt.xlim` to zoom into a section of the plot).\n"
      ]
    },
    {
      "cell_type": "code",
      "execution_count": null,
      "metadata": {
        "execution": {},
        "id": "EP49csQhQqMn"
      },
      "outputs": [],
      "source": [
        "help(pca)"
      ]
    },
    {
      "cell_type": "code",
      "execution_count": 10,
      "metadata": {
        "execution": {},
        "colab": {
          "base_uri": "https://localhost:8080/",
          "height": 447
        },
        "id": "lM7rk8uqQqMn",
        "outputId": "d61b3198-f456-4c47-b2d2-8a3546cd719d"
      },
      "outputs": [
        {
          "output_type": "execute_result",
          "data": {
            "text/plain": [
              "(0.0, 100.0)"
            ]
          },
          "metadata": {},
          "execution_count": 10
        },
        {
          "output_type": "display_data",
          "data": {
            "text/plain": [
              "<Figure size 576x432 with 1 Axes>"
            ],
            "image/png": "[encoded data removed]"
          },
          "metadata": {
            "image/png": {
              "width": 558,
              "height": 413
            },
            "needs_background": "light"
          }
        }
      ],
      "source": [
        "#################################################\n",
        "## TODO for students\n",
        "# Fill out function and remove\n",
        "#raise NotImplementedError(\"Student exercise: perform PCA and visualize scree plot\")\n",
        "#################################################\n",
        "\n",
        "# Perform PCA\n",
        "score, evectors, evals = pca(X)\n",
        "\n",
        "# Plot the eigenvalues\n",
        "plot_eigenvalues(evals, limit=False)\n",
        "plt.xlim([0,100])  # limit x-axis up to 100 for zooming"
      ]
    },
    {
      "cell_type": "markdown",
      "metadata": {
        "execution": {},
        "id": "iOcRlpAKQqMo"
      },
      "source": [
        "[*Click for solution*](https://github.com/NeuromatchAcademy/course-content/tree/main//tutorials/W1D4_DimensionalityReduction/solutions/W1D4_Tutorial3_Solution_d8411e54.py)\n",
        "\n",
        "*Example output:*\n",
        "\n",
        "<img alt='Solution hint' align='left' width=849.0 height=561.0 src=https://raw.githubusercontent.com/NeuromatchAcademy/course-content/main/tutorials/W1D4_DimensionalityReduction/static/W1D4_Tutorial3_Solution_d8411e54_0.png>\n",
        "\n"
      ]
    },
    {
      "cell_type": "markdown",
      "metadata": {
        "execution": {},
        "id": "BTEon3K2QqMo"
      },
      "source": [
        "---\n",
        "# Section 2: Calculate the variance explained\n",
        "\n",
        "*Estimated timing to here from start of tutorial: 15 min*\n",
        "\n",
        "The scree plot suggests that most of the eigenvalues are near zero, with fewer than 100 having large values. Another common way to determine the intrinsic dimensionality is by considering the variance explained. This can be examined with a cumulative plot of the fraction of the total variance explained by the top $K$ components, i.e.,\n",
        "\n",
        "\\begin{equation}\n",
        "\\text{var explained} = \\frac{\\sum_{i=1}^K \\lambda_i}{\\sum_{i=1}^N \\lambda_i}\n",
        "\\end{equation}\n",
        "\n",
        "where $\\lambda_i$ is the $i^{th}$ eigenvalue and $N$ is the total number of components (the original number of dimensions in the data).\n",
        "\n",
        "The intrinsic dimensionality is often quantified by the $K$ necessary to explain a large proportion of the total variance of the data (often a defined threshold, e.g., 90%)."
      ]
    },
    {
      "cell_type": "markdown",
      "metadata": {
        "execution": {},
        "id": "wMZz5Q-BQqMo"
      },
      "source": [
        "## Coding Exercise 2: Plot the explained variance\n",
        "\n",
        "In this exercise you will plot the explained variance.\n",
        "\n",
        "**Steps:**\n",
        "- Fill in the function below to calculate the fraction variance explained as a function of the number of principal components. **Hint:** use `np.cumsum`.\n",
        "- Plot the variance explained using `plot_variance_explained`.\n",
        "\n",
        "**Questions:**\n",
        "- How many principal components are required to explain 90% of the variance?\n",
        "- How does the intrinsic dimensionality of this dataset compare to its extrinsic dimensionality?\n"
      ]
    },
    {
      "cell_type": "code",
      "execution_count": 16,
      "metadata": {
        "execution": {},
        "colab": {
          "base_uri": "https://localhost:8080/",
          "height": 430
        },
        "id": "MqF27HHfQqMo",
        "outputId": "bbae835c-a843-40c1-b1e1-3e8471d6c0fc"
      },
      "outputs": [
        {
          "output_type": "display_data",
          "data": {
            "text/plain": [
              "<Figure size 576x432 with 1 Axes>"
            ],
            "image/png": "[encoded data removed]"
          },
          "metadata": {
            "image/png": {
              "width": 558,
              "height": 413
            },
            "needs_background": "light"
          }
        }
      ],
      "source": [
        "def get_variance_explained(evals):\n",
        "  \"\"\"\n",
        "  Calculates variance explained from the eigenvalues.\n",
        "\n",
        "  Args:\n",
        "    evals (numpy array of floats) : Vector of eigenvalues\n",
        "\n",
        "  Returns:\n",
        "    (numpy array of floats)       : Vector of variance explained\n",
        "\n",
        "  \"\"\"\n",
        "\n",
        "  #################################################\n",
        "  ## TO DO for students: calculate the explained variance using the equation\n",
        "  ## from Section 2.\n",
        "  # Comment once you've filled in the function\n",
        "  #raise NotImplementedError(\"Student exercise: calculate explain variance!\")\n",
        "  #################################################\n",
        "\n",
        "  # Cumulatively sum the eigenvalues\n",
        "  csum = np.cumsum(evals)\n",
        "  #print(csum)\n",
        "  # Normalize by the sum of eigenvalues\n",
        "  variance_explained = csum/np.sum(evals)\n",
        "\n",
        "  return variance_explained\n",
        "\n",
        "\n",
        "# Calculate the variance explained\n",
        "variance_explained = get_variance_explained(evals)\n",
        "\n",
        "# Visualize\n",
        "plot_variance_explained(variance_explained)"
      ]
    },
    {
      "cell_type": "markdown",
      "metadata": {
        "execution": {},
        "id": "JrdBPH0FQqMp"
      },
      "source": [
        "[*Click for solution*](https://github.com/NeuromatchAcademy/course-content/tree/main//tutorials/W1D4_DimensionalityReduction/solutions/W1D4_Tutorial3_Solution_a4ac4c9c.py)\n",
        "\n",
        "*Example output:*\n",
        "\n",
        "<img alt='Solution hint' align='left' width=831.0 height=544.0 src=https://raw.githubusercontent.com/NeuromatchAcademy/course-content/main/tutorials/W1D4_DimensionalityReduction/static/W1D4_Tutorial3_Solution_a4ac4c9c_0.png>\n",
        "\n"
      ]
    },
    {
      "cell_type": "markdown",
      "metadata": {
        "execution": {},
        "id": "sYCa_wTyQqMp"
      },
      "source": [
        "---\n",
        "# Section 3: Reconstruct data with different numbers of PCs\n",
        "\n",
        "*Estimated timing to here from start of tutorial: 25 min*\n",
        "\n"
      ]
    },
    {
      "cell_type": "code",
      "execution_count": 13,
      "metadata": {
        "cellView": "form",
        "execution": {},
        "colab": {
          "base_uri": "https://localhost:8080/",
          "height": 581,
          "referenced_widgets": [
            "845a0fdf84734268aea7954417256be3",
            "93ed099d97cc45c1a02c7280a9bdc143",
            "3958d9f117ca45bf9b14e52ef6a4066a",
            "3b44d08e161545d4b61c8d26bdd47979",
            "0ad14b2119da4ffb9fb293b38ba662ba",
            "3d54ad29b2e74871bbdf96be58f6240a"
          ]
        },
        "id": "IvwxEvKIQqMp",
        "outputId": "d3181bb3-94dc-444b-d000-df6b5bb18dbf"
      },
      "outputs": [
        {
          "output_type": "display_data",
          "data": {
            "text/plain": [
              "Tab(children=(Output(), Output()), _titles={'0': 'Youtube', '1': 'Bilibili'})"
            ],
            "application/vnd.jupyter.widget-view+json": {
              "version_major": 2,
              "version_minor": 0,
              "model_id": "845a0fdf84734268aea7954417256be3"
            }
          },
          "metadata": {}
        }
      ],
      "source": [
        "# @title Video 2: Data Reconstruction\n",
        "from ipywidgets import widgets\n",
        "\n",
        "out2 = widgets.Output()\n",
        "with out2:\n",
        "  from IPython.display import IFrame\n",
        "  class BiliVideo(IFrame):\n",
        "      def __init__(self, id, page=1, width=400, height=300, **kwargs):\n",
        "          self.id=id\n",
        "          src = 'https://player.bilibili.com/player.html?bvid={0}&page={1}'.format(id, page)\n",
        "          super(BiliVideo, self).__init__(src, width, height, **kwargs)\n",
        "\n",
        "  video = BiliVideo(id=\"BV1XK4y1s7KF\", width=854, height=480, fs=1)\n",
        "  print('Video available at https://www.bilibili.com/video/{0}'.format(video.id))\n",
        "  display(video)\n",
        "\n",
        "out1 = widgets.Output()\n",
        "with out1:\n",
        "  from IPython.display import YouTubeVideo\n",
        "  video = YouTubeVideo(id=\"ZCUhW26AdBQ\", width=854, height=480, fs=1, rel=0)\n",
        "  print('Video available at https://youtube.com/watch?v=' + video.id)\n",
        "  display(video)\n",
        "\n",
        "out = widgets.Tab([out1, out2])\n",
        "out.set_title(0, 'Youtube')\n",
        "out.set_title(1, 'Bilibili')\n",
        "\n",
        "display(out)"
      ]
    },
    {
      "cell_type": "markdown",
      "metadata": {
        "execution": {},
        "id": "Oh_v8WgQQqMq"
      },
      "source": [
        "Now we have seen that the top 100 or so principal components of the data can explain most of the variance. We can use this fact to perform *dimensionality reduction*, i.e., by storing the data using only 100 components rather than the samples of all 784 pixels. Remarkably, we will be able to reconstruct much of the structure of the data using only the top 100 components. To see this, recall that to perform PCA we projected the data $\\bf X$ onto the eigenvectors of the covariance matrix:\n",
        "\n",
        "\\begin{equation}\n",
        "\\bf S = X W\n",
        "\\end{equation}\n",
        "\n",
        "Since $\\bf W$ is an orthogonal matrix, ${\\bf W}^{-1} = {\\bf W}^\\top$. So by multiplying by ${\\bf W}^\\top$ on each side we can rewrite this equation as  \n",
        "\n",
        "\\begin{equation}\n",
        "{\\bf X = S W}^\\top.\n",
        "\\end{equation}\n",
        "\n",
        "This now gives us a way to reconstruct the data matrix from the scores and loadings. To reconstruct the data from a low-dimensional approximation, we just have to truncate these matrices.  Let's denote ${\\bf S}_{1:K}$ and ${\\bf W}_{1:K}$ the matrices with only the first $K$ columns of $\\bf S$ and $\\bf W$, respectively. Then our reconstruction is:\n",
        "\n",
        "\\begin{equation}\n",
        "{\\bf \\hat X = S}_{1:K} ({\\bf W}_{1:K})^\\top.\n",
        "\\end{equation}"
      ]
    },
    {
      "cell_type": "markdown",
      "metadata": {
        "execution": {},
        "id": "5o_kROqqQqMq"
      },
      "source": [
        "## Coding Exercise 3: Data reconstruction\n",
        "\n",
        "Fill in the function below to reconstruct the data using different numbers of principal components. \n",
        "\n",
        "**Steps:**\n",
        "\n",
        "* Fill in the following function to reconstruct the data based on the weights and scores. Don't forget to add the mean!\n",
        "* Make sure your function works by reconstructing the data with all $K=784$ components. The two images should look identical."
      ]
    },
    {
      "cell_type": "code",
      "execution_count": 18,
      "metadata": {
        "execution": {},
        "colab": {
          "base_uri": "https://localhost:8080/",
          "height": 309
        },
        "id": "pLPazKw4QqMq",
        "outputId": "974edff3-b2ba-49c9-d0f5-ff75ed9986b6"
      },
      "outputs": [
        {
          "output_type": "display_data",
          "data": {
            "text/plain": [
              "<Figure size 576x432 with 2 Axes>"
            ],
            "image/png": "[encoded data removed]"
          },
          "metadata": {
            "image/png": {
              "width": 558,
              "height": 292
            }
          }
        }
      ],
      "source": [
        "def reconstruct_data(score, evectors, X_mean, K):\n",
        "  \"\"\"\n",
        "  Reconstruct the data based on the top K components.\n",
        "\n",
        "  Args:\n",
        "    score (numpy array of floats)    : Score matrix\n",
        "    evectors (numpy array of floats) : Matrix of eigenvectors\n",
        "    X_mean (numpy array of floats)   : Vector corresponding to data mean\n",
        "    K (scalar)                       : Number of components to include\n",
        "\n",
        "  Returns:\n",
        "    (numpy array of floats)          : Matrix of reconstructed data\n",
        "\n",
        "  \"\"\"\n",
        "\n",
        "  #################################################\n",
        "  ## TO DO for students: Reconstruct the original data in X_reconstructed\n",
        "  # Comment once you've filled in the function\n",
        "  #raise NotImplementedError(\"Student exercise: reconstructing data function!\")\n",
        "  #################################################\n",
        "\n",
        "  # Reconstruct the data from the score and eigenvectors\n",
        "  # Don't forget to add the mean!!\n",
        "  X_reconstructed =  score[:,0:K+1] @ (evectors[:,0:K+1]).T\n",
        "\n",
        "  return X_reconstructed\n",
        "\n",
        "\n",
        "K = 784\n",
        "\n",
        "# Reconstruct the data based on all components\n",
        "X_mean = np.mean(X, 0)\n",
        "X_reconstructed = reconstruct_data(score, evectors, X_mean, K)\n",
        "\n",
        "# Plot the data and reconstruction\n",
        "plot_MNIST_reconstruction(X, X_reconstructed)"
      ]
    },
    {
      "cell_type": "markdown",
      "metadata": {
        "execution": {},
        "id": "vTmtc8mSQqMr"
      },
      "source": [
        "[*Click for solution*](https://github.com/NeuromatchAcademy/course-content/tree/main//tutorials/W1D4_DimensionalityReduction/solutions/W1D4_Tutorial3_Solution_e3395916.py)\n",
        "\n",
        "*Example output:*\n",
        "\n",
        "<img alt='Solution hint' align='left' width=849.0 height=451.0 src=https://raw.githubusercontent.com/NeuromatchAcademy/course-content/main/tutorials/W1D4_DimensionalityReduction/static/W1D4_Tutorial3_Solution_e3395916_0.png>\n",
        "\n"
      ]
    },
    {
      "cell_type": "markdown",
      "metadata": {
        "execution": {},
        "id": "4RqTfemeQqMr"
      },
      "source": [
        "## Interactive Demo 3: Reconstruct the data matrix using different numbers of PCs\n",
        "\n",
        "Now run the code below and experiment with the slider to reconstruct the data matrix using different numbers of principal components.\n",
        "\n",
        "1.  How many principal components are necessary to reconstruct the numbers (by eye)? How does this relate to the intrinsic dimensionality of the data?\n",
        "2.  Do you see any information in the data with only a single principal component?"
      ]
    },
    {
      "cell_type": "code",
      "execution_count": 19,
      "metadata": {
        "cellView": "form",
        "execution": {},
        "colab": {
          "base_uri": "https://localhost:8080/",
          "height": 341,
          "referenced_widgets": [
            "9aad0d7cf4ca412cbad6bb8aad132070",
            "c0bb5527a0a14afeb47c2329228f0e6d",
            "459890fdfb174bbdb6207e8251f08a42",
            "2333038138804f62b3cc4fce2e6649ac",
            "45578c7b2e7b418093e78594f899da3d",
            "0273e9f1a92d47fd82e12b9abf402987",
            "c68135c2bfe744d08be8a197b8a9de11"
          ]
        },
        "id": "XdIYJzmVQqMr",
        "outputId": "f09c30aa-679a-458e-847b-39f02fdec8b3"
      },
      "outputs": [
        {
          "output_type": "display_data",
          "data": {
            "text/plain": [
              "interactive(children=(IntSlider(value=100, description='K', max=784, min=1, step=10), Output()), _dom_classes=…"
            ],
            "application/vnd.jupyter.widget-view+json": {
              "version_major": 2,
              "version_minor": 0,
              "model_id": "9aad0d7cf4ca412cbad6bb8aad132070"
            }
          },
          "metadata": {}
        }
      ],
      "source": [
        "# @title\n",
        "\n",
        "# @markdown Make sure you execute this cell to enable the widget!\n",
        "\n",
        "\n",
        "def refresh(K=100):\n",
        "  X_reconstructed = reconstruct_data(score, evectors, X_mean, K)\n",
        "  plot_MNIST_reconstruction(X, X_reconstructed)\n",
        "  plt.title('Reconstructed, K={}'.format(K))\n",
        "\n",
        "\n",
        "_ = widgets.interact(refresh, K=(1, 784, 10))"
      ]
    },
    {
      "cell_type": "markdown",
      "metadata": {
        "execution": {},
        "id": "YHus8wCCQqMr"
      },
      "source": [
        "[*Click for solution*](https://github.com/NeuromatchAcademy/course-content/tree/main//tutorials/W1D4_DimensionalityReduction/solutions/W1D4_Tutorial3_Solution_f041ae81.py)\n",
        "\n"
      ]
    },
    {
      "cell_type": "markdown",
      "metadata": {
        "execution": {},
        "id": "iq3O_9b9QqMr"
      },
      "source": [
        "---\n",
        "# Section 4: Visualize PCA components\n",
        "\n",
        "*Estimated timing to here from start of tutorial: 40 min*"
      ]
    },
    {
      "cell_type": "markdown",
      "metadata": {
        "execution": {},
        "id": "KQU6kzdMQqMs"
      },
      "source": [
        "## Coding Exercise 4: Visualization of the weights\n",
        "\n",
        "Next, let's take a closer look at the first principal component by visualizing its corresponding weights. \n",
        "\n",
        "**Steps:**\n",
        "\n",
        "* Enter `plot_MNIST_weights` to visualize the weights of the first basis vector.\n",
        "* What structure do you see? Which pixels have a strong positive weighting? Which have a strong negative weighting? What kinds of images would this basis vector differentiate (hint: think about the last demo with 1 component)?\n",
        "* Try visualizing the second and third basis vectors. Do you see any structure? What about the 100th basis vector? 500th? 700th?"
      ]
    },
    {
      "cell_type": "code",
      "execution_count": null,
      "metadata": {
        "execution": {},
        "id": "e6BKULJMQqMs"
      },
      "outputs": [],
      "source": [
        "help(plot_MNIST_weights)"
      ]
    },
    {
      "cell_type": "code",
      "execution_count": null,
      "metadata": {
        "execution": {},
        "id": "ICwdKuu1QqMs"
      },
      "outputs": [],
      "source": [
        "################################################################\n",
        "# Comment once you've filled in the function\n",
        "raise NotImplementedError(\"Student exercise: visualize PCA components\")\n",
        "################################################################\n",
        "\n",
        "# Plot the weights of the first principal component\n",
        "plot_MNIST_weights(...)"
      ]
    },
    {
      "cell_type": "markdown",
      "metadata": {
        "execution": {},
        "id": "-U6Decy_QqMs"
      },
      "source": [
        "[*Click for solution*](https://github.com/NeuromatchAcademy/course-content/tree/main//tutorials/W1D4_DimensionalityReduction/solutions/W1D4_Tutorial3_Solution_d27990ad.py)\n",
        "\n",
        "*Example output:*\n",
        "\n",
        "<img alt='Solution hint' align='left' width=682.0 height=544.0 src=https://raw.githubusercontent.com/NeuromatchAcademy/course-content/main/tutorials/W1D4_DimensionalityReduction/static/W1D4_Tutorial3_Solution_d27990ad_0.png>\n",
        "\n"
      ]
    },
    {
      "cell_type": "markdown",
      "metadata": {
        "execution": {},
        "id": "50XlA0yZQqMt"
      },
      "source": [
        "---\n",
        "# Summary\n",
        "\n",
        "*Estimated timing of tutorial: 50 minutes*\n",
        "\n",
        "* In this tutorial, we learned how to use PCA for dimensionality reduction by selecting the top principal components. This can be useful as the intrinsic dimensionality ($K$) is often less than the extrinsic dimensionality ($N$) in neural data. $K$ can be inferred by choosing the number of eigenvalues necessary to capture some fraction of the variance.\n",
        "* We also learned how to reconstruct an approximation of the original data using the top $K$ principal components. In fact, an alternate formulation of PCA is to find the $K$ dimensional space that minimizes the reconstruction error.\n",
        "* Noise tends to inflate the apparent intrinsic dimensionality, however the higher components reflect noise rather than new structure in the data. PCA can be used for denoising data by removing noisy higher components.\n",
        "* In MNIST, the weights corresponding to the first principal component appear to discriminate between a 0 and 1. We will discuss the implications of this for data visualization in the following tutorial."
      ]
    },
    {
      "cell_type": "markdown",
      "metadata": {
        "execution": {},
        "id": "nQ0ZjQrmQqMt"
      },
      "source": [
        "---\n",
        "# Notation\n",
        "\n",
        "\\begin{align}\n",
        "K &\\quad \\text{selected number of principal components}\\\\\n",
        "N &\\quad \\text{total number of principal components}\\\\\n",
        "\\bf W &\\quad \\text{weights, loadings matrix}\\\\\n",
        "{\\bf X} &\\quad \\text{original data matrix}\\\\\n",
        "\\bf S &\\quad \\text{projected matrix, scores}\\\\\n",
        "{\\bf S}_{1:K} &\\quad \\text{first K columns of score matrix } \\bf S\\\\\n",
        "{\\bf W}_{1:K} &\\quad \\text{first K columns of weight matrix } \\bf W\\\\\n",
        "\\end{align}"
      ]
    },
    {
      "cell_type": "markdown",
      "metadata": {
        "execution": {},
        "id": "DXYaR2XZQqMt"
      },
      "source": [
        "---\n",
        "# Bonus"
      ]
    },
    {
      "cell_type": "markdown",
      "metadata": {
        "execution": {},
        "id": "scVswCKwQqMt"
      },
      "source": [
        "---\n",
        "## Bonus Section 1: Examine denoising using PCA\n",
        "\n",
        "In this lecture, we saw that PCA finds an optimal low-dimensional basis to minimize the reconstruction error. Because of this property, PCA can be useful for denoising corrupted samples of the data."
      ]
    },
    {
      "cell_type": "markdown",
      "metadata": {
        "execution": {},
        "id": "RlSDQCX7QqMu"
      },
      "source": [
        "### Bonus Coding Exercise 1: Add noise to the data\n",
        "In this exercise you will add salt-and-pepper noise to the original data and see how that affects the eigenvalues. \n",
        "\n",
        "**Steps:**\n",
        "- Use the function `add_noise` to add noise to 20% of the pixels.\n",
        "- Then, perform PCA and plot the variance explained. How many principal components are required to explain 90% of the variance? How does this compare to the original data? \n"
      ]
    },
    {
      "cell_type": "code",
      "execution_count": null,
      "metadata": {
        "execution": {},
        "id": "8a-IzNPPQqMu"
      },
      "outputs": [],
      "source": [
        "help(add_noise)"
      ]
    },
    {
      "cell_type": "code",
      "execution_count": null,
      "metadata": {
        "execution": {},
        "id": "B1eWrI_oQqMu"
      },
      "outputs": [],
      "source": [
        "#################################################\n",
        "## TO DO for students\n",
        "# Comment once you've filled in the function\n",
        "raise NotImplementedError(\"Student exercise: make MNIST noisy and compute PCA!\")\n",
        "#################################################\n",
        "\n",
        "np.random.seed(2020)  # set random seed\n",
        "\n",
        "# Add noise to data\n",
        "X_noisy = ...\n",
        "\n",
        "# Perform PCA on noisy data\n",
        "score_noisy, evectors_noisy, evals_noisy = ...\n",
        "\n",
        "# Compute variance explained\n",
        "variance_explained_noisy = ...\n",
        "\n",
        "# Visualize\n",
        "plot_MNIST_sample(X_noisy)\n",
        "plot_variance_explained(variance_explained_noisy)"
      ]
    },
    {
      "cell_type": "markdown",
      "metadata": {
        "execution": {},
        "id": "3v7Q9vxTQqMu"
      },
      "source": [
        "[*Click for solution*](https://github.com/NeuromatchAcademy/course-content/tree/main//tutorials/W1D4_DimensionalityReduction/solutions/W1D4_Tutorial3_Solution_9615a6cd.py)\n",
        "\n"
      ]
    },
    {
      "cell_type": "markdown",
      "metadata": {
        "execution": {},
        "id": "l8pOYOJOQqMu"
      },
      "source": [
        "### Bonus Coding Exercise 2: Denoising\n",
        "\n",
        "Next, use PCA to perform denoising by projecting the noise-corrupted data onto the basis vectors found from the original dataset. By taking the top K components of this projection, we can reduce noise in dimensions orthogonal to the K-dimensional latent space. \n",
        "\n",
        "**Steps:**\n",
        "- Subtract the mean of the noise-corrupted data.\n",
        "- Project the data onto the basis found with the original dataset (`evectors`, not `evectors_noisy`) and take the top $K$ components. \n",
        "- Reconstruct the data as normal, using the top 50 components. \n",
        "- Play around with the amount of noise and K to build intuition.\n"
      ]
    },
    {
      "cell_type": "code",
      "execution_count": null,
      "metadata": {
        "execution": {},
        "id": "1x_dRKd_QqMv"
      },
      "outputs": [],
      "source": [
        "#################################################\n",
        "## TO DO for students\n",
        "# Comment once you've filled in the function\n",
        "raise NotImplementedError(\"Student exercise: reconstruct noisy data from PCA\")\n",
        "#################################################\n",
        "\n",
        "np.random.seed(2020)  # set random seed\n",
        "\n",
        "# Add noise to data\n",
        "X_noisy = ...\n",
        "\n",
        "# Compute mean of noise-corrupted data\n",
        "X_noisy_mean = ...\n",
        "\n",
        "# Project onto the original basis vectors\n",
        "projX_noisy = ...\n",
        "\n",
        "# Reconstruct the data using the top 50 components\n",
        "X_reconstructed = ...\n",
        "\n",
        "# Visualize\n",
        "plot_MNIST_reconstruction(X_noisy, X_reconstructed)"
      ]
    },
    {
      "cell_type": "markdown",
      "metadata": {
        "execution": {},
        "id": "wSHoELuXQqMv"
      },
      "source": [
        "[*Click for solution*](https://github.com/NeuromatchAcademy/course-content/tree/main//tutorials/W1D4_DimensionalityReduction/solutions/W1D4_Tutorial3_Solution_38d38d89.py)\n",
        "\n",
        "*Example output:*\n",
        "\n",
        "<img alt='Solution hint' align='left' width=849.0 height=451.0 src=https://raw.githubusercontent.com/NeuromatchAcademy/course-content/main/tutorials/W1D4_DimensionalityReduction/static/W1D4_Tutorial3_Solution_38d38d89_0.png>\n",
        "\n"
      ]
    }
  ],
  "metadata": {
    "colab": {
      "collapsed_sections": [
        "NgVDJxt9fWm9",
        "KXKX7e8hfWnB"
      ],
      "name": "W1D4_Tutorial3",
      "provenance": [],
      "toc_visible": true,
      "include_colab_link": true
    },
    "kernel": {
      "display_name": "Python 3",
      "language": "python",
      "name": "python3"
    },
    "kernelspec": {
      "display_name": "Python 3",
      "language": "python",
      "name": "python3"
    },
    "language_info": {
      "codemirror_mode": {
        "name": "ipython",
        "version": 3
      },
      "file_extension": ".py",
      "mimetype": "text/x-python",
      "name": "python",
      "nbconvert_exporter": "python",
      "pygments_lexer": "ipython3",
      "version": "3.7.13"
    },
    "widgets": {
      "application/vnd.jupyter.widget-state+json": {
        "cfbf2be119054815b2c630befed108ea": {
          "model_module": "@jupyter-widgets/controls",
          "model_name": "TabModel",
          "model_module_version": "1.5.0",
          "state": {
            "_dom_classes": [],
            "_model_module": "@jupyter-widgets/controls",
            "_model_module_version": "1.5.0",
            "_model_name": "TabModel",
            "_titles": {
              "0": "Youtube",
              "1": "Bilibili"
            },
            "_view_count": null,
            "_view_module": "@jupyter-widgets/controls",
            "_view_module_version": "1.5.0",
            "_view_name": "TabView",
            "box_style": "",
            "children": [
              "IPY_MODEL_4988b811798747c49a15708c2141afc8",
              "IPY_MODEL_9a7b72b301dc47bf9b8811e87210513e"
            ],
            "layout": "IPY_MODEL_f3168c4b501f4aeb8b120ca5f640e297",
            "selected_index": 0
          }
        },
        "4988b811798747c49a15708c2141afc8": {
          "model_module": "@jupyter-widgets/output",
          "model_name": "OutputModel",
          "model_module_version": "1.0.0",
          "state": {
            "_dom_classes": [],
            "_model_module": "@jupyter-widgets/output",
            "_model_module_version": "1.0.0",
            "_model_name": "OutputModel",
            "_view_count": null,
            "_view_module": "@jupyter-widgets/output",
            "_view_module_version": "1.0.0",
            "_view_name": "OutputView",
            "layout": "IPY_MODEL_2805ed6219c54e038ca3f7ed62a844e8",
            "msg_id": "",
            "outputs": [
              {
                "output_type": "stream",
                "name": "stdout",
                "text": [
                  "Video available at https://youtube.com/watch?v=oO0bbInoO_0\n"
                ]
              },
              {
                "output_type": "display_data",
                "data": {
                  "text/plain": "<IPython.lib.display.YouTubeVideo at 0x7f9d630b9fd0>",
                  "text/html": "\n        <iframe\n            width=\"854\"\n            height=\"480\"\n            src=\"https://www.youtube.com/embed/oO0bbInoO_0?fs=1&rel=0\"\n            frameborder=\"0\"\n            allowfullscreen\n        ></iframe>\n        ",
                  "image/jpeg": "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\n"
                },
                "metadata": {}
              }
            ]
          }
        },
        "9a7b72b301dc47bf9b8811e87210513e": {
          "model_module": "@jupyter-widgets/output",
          "model_name": "OutputModel",
          "model_module_version": "1.0.0",
          "state": {
            "_dom_classes": [],
            "_model_module": "@jupyter-widgets/output",
            "_model_module_version": "1.0.0",
            "_model_name": "OutputModel",
            "_view_count": null,
            "_view_module": "@jupyter-widgets/output",
            "_view_module_version": "1.0.0",
            "_view_name": "OutputView",
            "layout": "IPY_MODEL_7eacbae9cfcf477d873532ee5034ad61",
            "msg_id": "",
            "outputs": [
              {
                "output_type": "stream",
                "name": "stdout",
                "text": [
                  "Video available at https://www.bilibili.com/video/BV1up4y1S7xs\n"
                ]
              },
              {
                "output_type": "display_data",
                "data": {
                  "text/plain": "<__main__.BiliVideo at 0x7f9d68f7fa50>",
                  "text/html": "\n        <iframe\n            width=\"854\"\n            height=\"480\"\n            src=\"https://player.bilibili.com/player.html?bvid=BV1up4y1S7xs&page=1?fs=1\"\n            frameborder=\"0\"\n            allowfullscreen\n        ></iframe>\n        "
                },
                "metadata": {}
              }
            ]
          }
        },
        "f3168c4b501f4aeb8b120ca5f640e297": {
          "model_module": "@jupyter-widgets/base",
          "model_name": "LayoutModel",
          "model_module_version": "1.2.0",
          "state": {
            "_model_module": "@jupyter-widgets/base",
            "_model_module_version": "1.2.0",
            "_model_name": "LayoutModel",
            "_view_count": null,
            "_view_module": "@jupyter-widgets/base",
            "_view_module_version": "1.2.0",
            "_view_name": "LayoutView",
            "align_content": null,
            "align_items": null,
            "align_self": null,
            "border": null,
            "bottom": null,
            "display": null,
            "flex": null,
            "flex_flow": null,
            "grid_area": null,
            "grid_auto_columns": null,
            "grid_auto_flow": null,
            "grid_auto_rows": null,
            "grid_column": null,
            "grid_gap": null,
            "grid_row": null,
            "grid_template_areas": null,
            "grid_template_columns": null,
            "grid_template_rows": null,
            "height": null,
            "justify_content": null,
            "justify_items": null,
            "left": null,
            "margin": null,
            "max_height": null,
            "max_width": null,
            "min_height": null,
            "min_width": null,
            "object_fit": null,
            "object_position": null,
            "order": null,
            "overflow": null,
            "overflow_x": null,
            "overflow_y": null,
            "padding": null,
            "right": null,
            "top": null,
            "visibility": null,
            "width": null
          }
        },
        "2805ed6219c54e038ca3f7ed62a844e8": {
          "model_module": "@jupyter-widgets/base",
          "model_name": "LayoutModel",
          "model_module_version": "1.2.0",
          "state": {
            "_model_module": "@jupyter-widgets/base",
            "_model_module_version": "1.2.0",
            "_model_name": "LayoutModel",
            "_view_count": null,
            "_view_module": "@jupyter-widgets/base",
            "_view_module_version": "1.2.0",
            "_view_name": "LayoutView",
            "align_content": null,
            "align_items": null,
            "align_self": null,
            "border": null,
            "bottom": null,
            "display": null,
            "flex": null,
            "flex_flow": null,
            "grid_area": null,
            "grid_auto_columns": null,
            "grid_auto_flow": null,
            "grid_auto_rows": null,
            "grid_column": null,
            "grid_gap": null,
            "grid_row": null,
            "grid_template_areas": null,
            "grid_template_columns": null,
            "grid_template_rows": null,
            "height": null,
            "justify_content": null,
            "justify_items": null,
            "left": null,
            "margin": null,
            "max_height": null,
            "max_width": null,
            "min_height": null,
            "min_width": null,
            "object_fit": null,
            "object_position": null,
            "order": null,
            "overflow": null,
            "overflow_x": null,
            "overflow_y": null,
            "padding": null,
            "right": null,
            "top": null,
            "visibility": null,
            "width": null
          }
        },
        "7eacbae9cfcf477d873532ee5034ad61": {
          "model_module": "@jupyter-widgets/base",
          "model_name": "LayoutModel",
          "model_module_version": "1.2.0",
          "state": {
            "_model_module": "@jupyter-widgets/base",
            "_model_module_version": "1.2.0",
            "_model_name": "LayoutModel",
            "_view_count": null,
            "_view_module": "@jupyter-widgets/base",
            "_view_module_version": "1.2.0",
            "_view_name": "LayoutView",
            "align_content": null,
            "align_items": null,
            "align_self": null,
            "border": null,
            "bottom": null,
            "display": null,
            "flex": null,
            "flex_flow": null,
            "grid_area": null,
            "grid_auto_columns": null,
            "grid_auto_flow": null,
            "grid_auto_rows": null,
            "grid_column": null,
            "grid_gap": null,
            "grid_row": null,
            "grid_template_areas": null,
            "grid_template_columns": null,
            "grid_template_rows": null,
            "height": null,
            "justify_content": null,
            "justify_items": null,
            "left": null,
            "margin": null,
            "max_height": null,
            "max_width": null,
            "min_height": null,
            "min_width": null,
            "object_fit": null,
            "object_position": null,
            "order": null,
            "overflow": null,
            "overflow_x": null,
            "overflow_y": null,
            "padding": null,
            "right": null,
            "top": null,
            "visibility": null,
            "width": null
          }
        },
        "845a0fdf84734268aea7954417256be3": {
          "model_module": "@jupyter-widgets/controls",
          "model_name": "TabModel",
          "model_module_version": "1.5.0",
          "state": {
            "_dom_classes": [],
            "_model_module": "@jupyter-widgets/controls",
            "_model_module_version": "1.5.0",
            "_model_name": "TabModel",
            "_titles": {
              "0": "Youtube",
              "1": "Bilibili"
            },
            "_view_count": null,
            "_view_module": "@jupyter-widgets/controls",
            "_view_module_version": "1.5.0",
            "_view_name": "TabView",
            "box_style": "",
            "children": [
              "IPY_MODEL_93ed099d97cc45c1a02c7280a9bdc143",
              "IPY_MODEL_3958d9f117ca45bf9b14e52ef6a4066a"
            ],
            "layout": "IPY_MODEL_3b44d08e161545d4b61c8d26bdd47979",
            "selected_index": 0
          }
        },
        "93ed099d97cc45c1a02c7280a9bdc143": {
          "model_module": "@jupyter-widgets/output",
          "model_name": "OutputModel",
          "model_module_version": "1.0.0",
          "state": {
            "_dom_classes": [],
            "_model_module": "@jupyter-widgets/output",
            "_model_module_version": "1.0.0",
            "_model_name": "OutputModel",
            "_view_count": null,
            "_view_module": "@jupyter-widgets/output",
            "_view_module_version": "1.0.0",
            "_view_name": "OutputView",
            "layout": "IPY_MODEL_0ad14b2119da4ffb9fb293b38ba662ba",
            "msg_id": "",
            "outputs": [
              {
                "output_type": "stream",
                "name": "stdout",
                "text": [
                  "Video available at https://youtube.com/watch?v=ZCUhW26AdBQ\n"
                ]
              },
              {
                "output_type": "display_data",
                "data": {
                  "text/plain": "<IPython.lib.display.YouTubeVideo at 0x7f9d536be550>",
                  "text/html": "\n        <iframe\n            width=\"854\"\n            height=\"480\"\n            src=\"https://www.youtube.com/embed/ZCUhW26AdBQ?fs=1&rel=0\"\n            frameborder=\"0\"\n            allowfullscreen\n        ></iframe>\n        ",
                  "image/jpeg": "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\n"
                },
                "metadata": {}
              }
            ]
          }
        },
        "3958d9f117ca45bf9b14e52ef6a4066a": {
          "model_module": "@jupyter-widgets/output",
          "model_name": "OutputModel",
          "model_module_version": "1.0.0",
          "state": {
            "_dom_classes": [],
            "_model_module": "@jupyter-widgets/output",
            "_model_module_version": "1.0.0",
            "_model_name": "OutputModel",
            "_view_count": null,
            "_view_module": "@jupyter-widgets/output",
            "_view_module_version": "1.0.0",
            "_view_name": "OutputView",
            "layout": "IPY_MODEL_3d54ad29b2e74871bbdf96be58f6240a",
            "msg_id": "",
            "outputs": [
              {
                "output_type": "stream",
                "name": "stdout",
                "text": [
                  "Video available at https://www.bilibili.com/video/BV1XK4y1s7KF\n"
                ]
              },
              {
                "output_type": "display_data",
                "data": {
                  "text/plain": "<__main__.BiliVideo at 0x7f9d536be790>",
                  "text/html": "\n        <iframe\n            width=\"854\"\n            height=\"480\"\n            src=\"https://player.bilibili.com/player.html?bvid=BV1XK4y1s7KF&page=1?fs=1\"\n            frameborder=\"0\"\n            allowfullscreen\n        ></iframe>\n        "
                },
                "metadata": {}
              }
            ]
          }
        },
        "3b44d08e161545d4b61c8d26bdd47979": {
          "model_module": "@jupyter-widgets/base",
          "model_name": "LayoutModel",
          "model_module_version": "1.2.0",
          "state": {
            "_model_module": "@jupyter-widgets/base",
            "_model_module_version": "1.2.0",
            "_model_name": "LayoutModel",
            "_view_count": null,
            "_view_module": "@jupyter-widgets/base",
            "_view_module_version": "1.2.0",
            "_view_name": "LayoutView",
            "align_content": null,
            "align_items": null,
            "align_self": null,
            "border": null,
            "bottom": null,
            "display": null,
            "flex": null,
            "flex_flow": null,
            "grid_area": null,
            "grid_auto_columns": null,
            "grid_auto_flow": null,
            "grid_auto_rows": null,
            "grid_column": null,
            "grid_gap": null,
            "grid_row": null,
            "grid_template_areas": null,
            "grid_template_columns": null,
            "grid_template_rows": null,
            "height": null,
            "justify_content": null,
            "justify_items": null,
            "left": null,
            "margin": null,
            "max_height": null,
            "max_width": null,
            "min_height": null,
            "min_width": null,
            "object_fit": null,
            "object_position": null,
            "order": null,
            "overflow": null,
            "overflow_x": null,
            "overflow_y": null,
            "padding": null,
            "right": null,
            "top": null,
            "visibility": null,
            "width": null
          }
        },
        "0ad14b2119da4ffb9fb293b38ba662ba": {
          "model_module": "@jupyter-widgets/base",
          "model_name": "LayoutModel",
          "model_module_version": "1.2.0",
          "state": {
            "_model_module": "@jupyter-widgets/base",
            "_model_module_version": "1.2.0",
            "_model_name": "LayoutModel",
            "_view_count": null,
            "_view_module": "@jupyter-widgets/base",
            "_view_module_version": "1.2.0",
            "_view_name": "LayoutView",
            "align_content": null,
            "align_items": null,
            "align_self": null,
            "border": null,
            "bottom": null,
            "display": null,
            "flex": null,
            "flex_flow": null,
            "grid_area": null,
            "grid_auto_columns": null,
            "grid_auto_flow": null,
            "grid_auto_rows": null,
            "grid_column": null,
            "grid_gap": null,
            "grid_row": null,
            "grid_template_areas": null,
            "grid_template_columns": null,
            "grid_template_rows": null,
            "height": null,
            "justify_content": null,
            "justify_items": null,
            "left": null,
            "margin": null,
            "max_height": null,
            "max_width": null,
            "min_height": null,
            "min_width": null,
            "object_fit": null,
            "object_position": null,
            "order": null,
            "overflow": null,
            "overflow_x": null,
            "overflow_y": null,
            "padding": null,
            "right": null,
            "top": null,
            "visibility": null,
            "width": null
          }
        },
        "3d54ad29b2e74871bbdf96be58f6240a": {
          "model_module": "@jupyter-widgets/base",
          "model_name": "LayoutModel",
          "model_module_version": "1.2.0",
          "state": {
            "_model_module": "@jupyter-widgets/base",
            "_model_module_version": "1.2.0",
            "_model_name": "LayoutModel",
            "_view_count": null,
            "_view_module": "@jupyter-widgets/base",
            "_view_module_version": "1.2.0",
            "_view_name": "LayoutView",
            "align_content": null,
            "align_items": null,
            "align_self": null,
            "border": null,
            "bottom": null,
            "display": null,
            "flex": null,
            "flex_flow": null,
            "grid_area": null,
            "grid_auto_columns": null,
            "grid_auto_flow": null,
            "grid_auto_rows": null,
            "grid_column": null,
            "grid_gap": null,
            "grid_row": null,
            "grid_template_areas": null,
            "grid_template_columns": null,
            "grid_template_rows": null,
            "height": null,
            "justify_content": null,
            "justify_items": null,
            "left": null,
            "margin": null,
            "max_height": null,
            "max_width": null,
            "min_height": null,
            "min_width": null,
            "object_fit": null,
            "object_position": null,
            "order": null,
            "overflow": null,
            "overflow_x": null,
            "overflow_y": null,
            "padding": null,
            "right": null,
            "top": null,
            "visibility": null,
            "width": null
          }
        },
        "9aad0d7cf4ca412cbad6bb8aad132070": {
          "model_module": "@jupyter-widgets/controls",
          "model_name": "VBoxModel",
          "model_module_version": "1.5.0",
          "state": {
            "_dom_classes": [
              "widget-interact"
            ],
            "_model_module": "@jupyter-widgets/controls",
            "_model_module_version": "1.5.0",
            "_model_name": "VBoxModel",
            "_view_count": null,
            "_view_module": "@jupyter-widgets/controls",
            "_view_module_version": "1.5.0",
            "_view_name": "VBoxView",
            "box_style": "",
            "children": [
              "IPY_MODEL_c0bb5527a0a14afeb47c2329228f0e6d",
              "IPY_MODEL_459890fdfb174bbdb6207e8251f08a42"
            ],
            "layout": "IPY_MODEL_2333038138804f62b3cc4fce2e6649ac"
          }
        },
        "c0bb5527a0a14afeb47c2329228f0e6d": {
          "model_module": "@jupyter-widgets/controls",
          "model_name": "IntSliderModel",
          "model_module_version": "1.5.0",
          "state": {
            "_dom_classes": [],
            "_model_module": "@jupyter-widgets/controls",
            "_model_module_version": "1.5.0",
            "_model_name": "IntSliderModel",
            "_view_count": null,
            "_view_module": "@jupyter-widgets/controls",
            "_view_module_version": "1.5.0",
            "_view_name": "IntSliderView",
            "continuous_update": true,
            "description": "K",
            "description_tooltip": null,
            "disabled": false,
            "layout": "IPY_MODEL_45578c7b2e7b418093e78594f899da3d",
            "max": 784,
            "min": 1,
            "orientation": "horizontal",
            "readout": true,
            "readout_format": "d",
            "step": 10,
            "style": "IPY_MODEL_0273e9f1a92d47fd82e12b9abf402987",
            "value": 31
          }
        },
        "459890fdfb174bbdb6207e8251f08a42": {
          "model_module": "@jupyter-widgets/output",
          "model_name": "OutputModel",
          "model_module_version": "1.0.0",
          "state": {
            "_dom_classes": [],
            "_model_module": "@jupyter-widgets/output",
            "_model_module_version": "1.0.0",
            "_model_name": "OutputModel",
            "_view_count": null,
            "_view_module": "@jupyter-widgets/output",
            "_view_module_version": "1.0.0",
            "_view_name": "OutputView",
            "layout": "IPY_MODEL_c68135c2bfe744d08be8a197b8a9de11",
            "msg_id": "",
            "outputs": [
              {
                "output_type": "display_data",
                "data": {
                  "text/plain": "<Figure size 576x432 with 2 Axes>",
                  "image/png": "iVBORw0KGgoAAAANSUhEUgAABFwAAAJJCAYAAACXsiPbAAAABHNCSVQICAgIfAhkiAAAAAlwSFlzAAAWJQAAFiUBSVIk8AAAADh0RVh0U29mdHdhcmUAbWF0cGxvdGxpYiB2ZXJzaW9uMy4yLjIsIGh0dHA6Ly9tYXRwbG90bGliLm9yZy+WH4yJAAAgAElEQVR4nOzdd5xcdb3/8fdntmRLeichkEASei9KExRE1J9g7wrYEAGFq2K79nL1qterCLYrYtdr7ygo4VrovYYASYD0XrbvzPf3x5m4k/Hz3d3ZfGdns3k9H495ZPOZc77nOzNnTvnMOd+PhRAEAAAAAACAdHK17gAAAAAAAMBoQ8IFAAAAAAAgMRIuAAAAAAAAiZFwAQAAAAAASIyECwAAAAAAQGIkXAAAAAAAABIj4QIAAAAAAJAYCRcAAAAAAIDESLgAAAAAAAAkRsIFAAAAAAAgMRIuAAAAAAAAiZFwAQAAAAAASIyECwAAAAAAQGIkXAAAAAAAkiQzm2tmoeQxt9Z9AnZXJFwAAAAwaGb2kbKTsfJHwcy2mtkTZnatmX3UzBbUut8Adh9O0ue8CuZ9k5nlS+bdYmanVLG7g2aZA83sDWb2RTO73syWFLeZvWa23cyeLG47P2hm84awjPFmdpqZvdPMfmhmjxS3yzvej0VVeGmIqK91BwCkY2YfkfThfibpkdQpaYOklZIWS7pd0qIQwoNV7yAAYE9gksYVH3MkPUfSh8zsu5LeEULYVMvOYdeZ2TJJ+xb/e34I4Zra9WZkKSYGvlX87/IQwtza9WbPY2bvlvSfJaF1kp4TQrirRl0q92JJP+3n+dbiY29l286PmtnXJV0eQtg6UONmtljSAmXbYYwAJFyAPUtD8TFO0lxJJ0o6X5LM7EFJX5b0zRBCd606aGah5L/PDCEsqlVfAACD8sey/5ukiZIOljS2JP46SYeY2WkhhG3D1TkAewYz+5Sk95WEnpD07BDCIzXqkqc8EZKXtFzSakntyo7RF0qaVDL9BZKOM7MzBpGwXpiwr0iAhAswupUfBNcrOwieqOyXqdJtwMGSrpJ0mZm9LoRwy/B0EQCwOwshnOXFzaxO2a+5X5S0VzF8tKSPSbpseHoHYLQzs5ykKyW9tSS8WFmy5cna9CoqL+kmSb+W9H+S7gghdJVOYGYm6RRlV+o8rRg+WtIVkl47yOVsk3SXpDuUXc3+LklH7WrnUTkSLsAoFjsIliQza1a28X6psqtcJhSfWiDp/8zs+SGE66vfSwDAaBRCyEv6iZndI+lOZZfJS9KFZvbBEML22vUOwGhgZg2Svi3pVSXhOyWdFUJYV5texYUQfiHpFwNME5Qdi58q6XpJJxeferWZvT+E8EQ/s79GWZLlkWI7kiQze8uu9RxDxaC5wB4qhNARQvh7COEyZffYf6/k6UZJPzOzQ2vTOwDAaFG8nP+aktAYSc+oTW8AjBbFHw9/qZ2TLf+n7Jb0EZdsqVTxypcPlIRM0rMGmOcHIYTFpckW1BYJFwAKIWwLIbxO0mdKwuMlfb1GXQIAjC7/V/b/QVXeMLNJZnaxmf3WzB4vVvBoM7OlZvZTM3u9mVV8xbaZjTGz15nZd83sYTPbYGY9ZrbZzO4xs2+b2WvNbOzArUlm9lwz+4aZPWRmm8ys08yeMrNFZvZeM9tr4Fb+pQLUopL4fmb2KTO728w2mlmHmS0zs++b2TMrfO1nmtk3zezeYl97i+2tMbPbiq/9AjObUTbfaTv6pr4BcyXpWxapWOUse1l51Rkzqzezlxc/zyVmtq34/DXesr12+3mtpf05bZDzDGndKH7WQX0D5krSvrH3xrJCB/31I/m6b5mXm9mvLKsi1mlmK83sb2Z2qZlNrqS9WjKz8cpunX9eSfh3yq5sGXBw2d3I7WX/H9S2BCMHtxQBKPUBSSep79LFE8zszBDCn7yJzWymshHUnyHpMGUH0BMkdUvaKOl+STdIujqEsCG2UNt5RP9SN5i5g6y7o/6b2cRif06VdISk/ZWNVxOK/Vks6UZlAwM/FesPACC58oEeJw40g5ldJulDkWnnFh8vkfTvVsHYY2b2Okn/IWm28/QESYcXH6+XtN3M9ord/mRm85VdvXOS8/Ts4uPUYh8/HkL4jDPdQP29RNJnlV0ZVGrf4uPVZvYNSRcWb+OKtTND0o+L/SlXJ6lJ0nRJxyp77R8v/r9qzGw/ST+UdHw1lzNYKdeNXexH8nXfzGYre6/LyyPvVXycJOlyM3ulssFmRywzm6Ys2VI6JskPJJ0bQuitTa+qpqHs/6MpmbRHIOEC4J9CCHkz+5ik0gTLhWX/lySZ2dWSzpV/pVyDsnv150h6rqQPm9m7QwhfSd/rf/bnY5Leo+x2KM+s4uOZkj5gZv8h6SNccgkAw2JK2f+jJw3FX+2/qeykttRy9Z0ILpA0s+TvG8zs7IHGHjOzL0i6tCzcIelhZUmhsZLmS9rxS/9YRY6XzewISddJmlYS7lb2Y8M2ZSfFO64EaZX0aTNbEEJ4U399LFvGe5UlACSpq9j2VmUlYxeUTPpmSeslvT/SzhhJf5Z0SEm4R9kPETtuvZhUbHPHWDvl+/eN6huM/1RlCRoV+7RisK+pxORin+YW/79a0mPKbptYEJmnahKsG7dK6lSWrNlxS3ansh96PI86fajKul9Mtv1FO1ewySv77DYpW5/mK0u8XCvpFbG2as3M5ij73h1QEr5K0sWj9Jiu/Aq2v9ekFxi6EAIPHjxGyUPSR5RdzRFUHHNriO08VtLORkk5Z5rbS5el7GDgJmU7wX8oO/ALZY/3RZb3bGU7+GvLpr+1JF76+LbTxk/L5l0l6RZlg439TdJKpz9fq/VnxoMHDx6722Mo+xplJ0Sl29/T+pn202XTXi1pvjPdMyU9WDLdWkl79dPuu8raXSbp1ZKanGkPlvTRYpsTnefHKjth3tFWXtKnyqeVdIKke8uWe/Eg39sNkgrKSsVeKqmlbNqjJT1SMn2PpH0j7b6jZLpuSZdLGudMZ8quEP2IpHv76eeykvbOq2DdKZ1va/HfeyWdJslKpstJmlfy/9MqXeeK8w12nUu5bpxX2k6F361qrfu/KWv3W5Jmlk1zmLLjtx3tlU4/t5LXkeKhLBFX2ofzlCWMniiLf3K4+zaM78EMSUtKXut1u9DWopJ2FtX6te1Jj5p3gAcPHukeSpdw+XbZzuwIZ5p/KLs09SWSJkTaOUHZLzs72umVdPQAyx7UwZEz34+LBxSvlTQtMs2hkn5Wtoyza/258eDBg8fu9Kh0X6Psl+i2knlWSKqPTPt0ZUmGHdO+eYC2J5SdeF4ZmW6hsoTEjunukDR1EH1vllTnxD9Vti+5YIA+liZd2mPLLn9vlSVHTu6n7fnKrqLYMf0HI9NdX+kJqve6S55bVtLeeRWsO8vKXt89ksYPYr7ThnJ8M5hjiiqsG+eVtLWsgr5Wa91/Xtn78KUBXtM/yqYfKQmXL0paUxZ75y60f5rzOlM93HVtkP1qVZb0fK92TnwtljRrF9pdVNLWouH+PPfkB4PmAvCUD9C1vzPNmSGEV4UQfhZC2OI1EkK4SdLpygYxk7J7xN+Zrps7eWMI4QUhhO+FyMj0IYT7QwgvkfS1kvB7qtQfANijmVmdmb1U2VheLSVPvTvEx1l4r7KrLCTpuyGEb/S3jOL+54KS0HlmNs6Z9D3qu/2jTdJLQwjrB3oNIavot9O4KGbWJKm0xOofQghfU0Sxj+crO9GRspPaC2LTl/lsCOFv/bT9qKSfl4TKx+fYYU7J338dzILLX3eVvCXUfoDTZOvGLqrWun9Ryd/LlV3dFGuzQ9IblP1ANtK8XX1jCuWVHfd9vob9ScLMvlo2IPR2SXcru5VwWvH/X5B0bAhhZQ27iiFiDBcAnvIDjX8ZtT4McpC4EEJvcfC35xdDZ5tZXeoDucH2p+hyZePPNEk60cxmhBDWpOwPAOwpzOza8pCyX98PllR6AlhQdmvpDyLtTJb0gpLQ5waz/BDCX81sqbKB21uUXV35z7HHiuNivLxklmtCCEsH03bEM7TzmDQDnvSFEO6wrOrQjvEYXiTpk4NY1lWDmOZG9ZXFPSQyTUfJ30cpuz231u4JgxzouFqqsG4MtR/VWvdblRUT2OEbIYTOAdp82MyuUzYG30i1Rdlt47uidEyi1DYmaqdb2e1f3wghbEvUJoYZCRcAnvJqEuWDHVYkhLDEzDYU2xmr7CD8vl1pcxf7s9XMHpB0TDF0vLLbkQAAlXvOwJPof5XdynJvP9Ocor6BWtcOMG25e9RXavpY7TzY+zHK9j2lfdkVJ5T8vV3ZFTyD8Sv1JVyOMLOWEEJ7P9MvCyEMZjDa0qp7sepPtym7TUHKBrJfL+k7IYSuQbRfLeWlwmsh9boxVNVc9+tK/v+HQbb5O428hMvjkvYr/j1Z0l/M7FkhhAeG0ljxPT4rVed2wQPqS/zkJI1XdpvbJGWFIC6RdLGZfUXSZSGE7pr0EkNGwgWAp7wWc3Cn2jGx2VHKygkerGwnOE477+ClvqoHUjYaftUSLmZ2gLIKCocquxxznP51e7dfyd97V6svAABJ0omSpg4wzeElfzc5V87057CSv6eVPXdQ2f/Lb5ut1PySv+8PIRQGOV/pSXS9sgpGD/Uz/epBtttW8ndLZJovKqt806isvPTXJX3OzP6oLPFxs6S7huk2oh0eH8ZlxaReN4aqWut+aVWioOzkfjBq9qNYPz6hbJybHbfzTVdWoelZIYT7a9etXRNCuELSFeVxM3u6stLgz1V2XP42ZVWkXjysHcQuI+ECwFP+C9kGbyIzO1vZiPrlByyVtp+EmZ2s7DLcp1U4a1X6AwB7ghDCTkl6M5skaR9Jr5R0obLbi/aW9Dsze24IYVGkqdKrKcdrcFfOeCaU/b/0tti2Aa4qGYxJJX+7Y4ZFlE87yZ2qT7KrT0II95vZKyV9R31XdIyX9LLiQ5K2mtn1xWl+HULo98eWBGo9douUft0Yqmqt+6Xr2PYKrmhyj/tqLEh6q7JbE99ajE1TdqXL6SGEkZgkGrIQws2Snmdmn1VWRUuSXmRm54YQvl3DrqFCDJoLwDO97P//ci+qmX1C2eXRlSZbpOzXtaTM7C3KfqWrNNkiVaE/ALCnCiFsCiHcE0J4n7JbNnckGpok/cDMyn+F36E1Eq9U+fFtU8nf/Y5fMUil+4xKLu8vP9ltcqeqkhDCL5Rd8fBZSd7gm+OV/Xr+S0l3mtnBVe7SYK8MqqbU68ZQVWvdbyz5e1fW1RGhmAR8m3Ye22hH0uVwf67d3nslPVzy/0tq1REMDVe4APAcV/b/R0v/Y2bnSPpASWiFpG8qS3g8ruzgeqfR+81smbLLp5Mr3tL0FfXdCrVR2SBjf5a0RFkZwc4QQk/JPIuU3XYEAKiSEMIjZvYa9Y0rsZeyKyPf6Ey+ueTve0MIRzjTDEXpuGTlVwAMRWk/vaowMeP7aWdYhBBWKRs4/vJiQuVkZeOHPEvSrJJJj5R0o5kdE0J4Yrj7mYKZld/a7Em9bgxVtdb90quIdmVdHTGKSZeLihV9dlRgmqq+K13uGUw7xQTNf1apm5dXOA5PVAghb2Y/U99x91Fm1lysKIXdAAkXAJ6TSv7eIKn83tgPlvx9m6Rnx0pDl6hkR1+pD6jvV51lkk4aROm8avYHAFAUQrjOzH6ovko655nZfzu3AJSOWTIjYRdWlfxdb2b7hRB2ZfyQtSV/71/BfOXTrnWnGiYhhAclPSjp62ZmysbH+ID6qgpOlfTv2rkEdq3sdHWGmTWU/ogSMdAtW1L6dWOoqrXul1ZgbDSzWYMsLbzfwJPUVgjhYjMrqO+KjymS/lxB0mWyhn7r1kA+nbi90qRnTtm6TcJlN8EtRQB2YmZnSZpbErqx9D7u4qXgx5Q8/56Bki1mNlbVG7fFtPMO82ODPJhgoFwAGD4fkLTjBDmnbADMcv8o+XuGmc1zphmKm8r+f9outndHyd/7mdlgT5BPLPl7TQjhqeiUwyxkbpJ0tnauHhQ7IS29Hah8oP1qKB/vZbI71c4OG3iS5OuGNLT3plrr/h1l/x/sbddDuT172IUQ3q5sQOgddiRdjqxRl6ql/Oqr8mqiGMFIuAD4p+Lltx8sC19V9v99yv5/6yCaPlGD396UDtI3mAOVydq5pOOA/TGzhfrXcWoAAFUSQlgq6ZqS0NlmdkzZZLdp58E635Ro2Wsk3V0Semts2kG6seRvk/TagWYwszHKBhH22hgxihWXflkSmhmZtLQyUnP1evRPT2jn44PBjNcxYDWXKqwb0tDem2qt+49p57Lhr4pNu4OZ1Ut6eYrlD4cQwqWSvlAS2pF0OWqA+RaFEKxKj0WJX2bpLfCruJ1o90LCBUCpz2jnX+D+GkL4c9k0DUNo17tXP6bSA5Vq9wcAkMYntPOtIR8rfTKE0KudT5wuHeikqQL/XfL3cWY25IEniyexN5SE3mdmA5W8vlw73yry9aEufyiKV4MOVumPGP8yaH5R6a04CyrvUWVCCFuVjcm2wyv6m774w8obBtl8snWjqPS9mWZmA44NU+V1/5qSv19iZuXj9JW7SP/641qUmZ1nZqHkcd4Q+rhLQgj/JunzJaHJypIuRw93X1IrVuB8Xkno17XqC4aGhAsAmdk4M/u+pHeWhDfL/6Wn/HadZwzQ9unqKzk5GJUexK3XzgfwA/XnYElvr6A/AIAEioOvXl0Sep6Zld+68CX1nVi3SLrOzJ6vAZjZRDO70Mz+FJnkB9r59or/NrPLzCx6LGxmY83snWbmVZD5mPquuJiirOS1e+Wkmb1e0kdKQt6PGdV2b/HEuN9qOGa2n7IqMDvcEJm09L18hZkNx226Py35+1wze6Y3kZnNl/RbZevPYKReN+5V3+1zkvRvg+xHtdb9L6tvUN6cpF+Y2YGRts5RVsVqtxNCeJd27vskSdc7V9LVjJnNMbPvD/aWJzN7oaTfqO+K705Jn6tW/1AdDJoL7KHMrFnS0ZJeKul87Xx/aJekFxcH1NtJCOEJM3tMfYP/fc7Mbg0hbCif1sxOk/QzVXZ/9x3qS7S8wcy+E0KI3qsaQug1s79KOr0Y+pCZXVu8fL28P4dJ+r2GuRQnAOCfPqlsn7OjtPLHJZ2548kQwrbiSd/flZ0wTZH0WzO7TdKvlJ3MblK2HZ8i6RBlg72epuyKx+XeQkMIPWb2ckm3KBsMNifpvyS92cx+JOmuYrtjle2DTlY2eGyrsip85e0tMrP/Ut8PFcdLetDMvlHs+zZl46G9UtJZJbNulvT6Ad+l9A5VVr3vSjO7Ttn78JD6rmCZpewHi9ep7wqXbkn/EWnvB5Leo2z/vpekx8zsTmVVCv85hkkI4YUJX8NVki5WVkGnXtK1ZvY/kq5V9r7OlHSGsve3SdmVHecN1GgV1o3tZvYrZcdXUnZc8gZlAxSX3gryoxDCj0rmq9a6v8bMLlXflS6zJd1lZt+UdL2ydWBvSS9R321YP5D06v7et5EohHB5cSDd9xRDO5Iuzw4h3F7Dru1Qp+x9fbWZLZF0nbLP9Ull4xQ1KFsHD5N0jna+dS5IensIYafKoeXM7N+VDXZdrrRE+DPMzCuD/t0QwpsH+VowSCRcgFHMzK4tC9UpS6xMlDRP/jbgDknnhhAe6Kfpz6tvbJeDJd1nZlcpO1jpVlb++RxJL1J2MPZ7ZQd7g7lE9Xvqu8/9cElPFQ/iNqrv18S1IYTSqgmfV1/CZaakO83sq8oG/tuu7EDyecp2cvXKDp56lB0gAwCGSQjhqWJS4uJi6NlmdnII4W8l0zxkZscrG0vkkGL4uOJjV5b9uJmdoOzqhwOK4YMkfXSITb5b2X710uL/p0h6bz/Tr5J0Vghh2RCXl0KLsv3zOQNM1ynpNU4lKUlSCOE+M/uw+m4La1R28l81IYQVZvYWSd9X9r43Krsa523O5NdKukCDSLgU2069blwm6Vj1FSHYW/86WP/dZf+v5rr/bTPbS30JtCZltw5d5Ez+e0kf0uATLuWDRg+qLHO1hBDeW0y6vK8YmqjsaqEzQwi31bBr5RZo8LfjbZJ0SQjh+4OYtl59Ce0Yi0wzlNv0MQBuKQJGt+eUPc5QttNeoH9NtvxD2f3OTx8g2SJJX1V25coOeyn7lfJPkhZJ+rayX0lM0p2SXqOdB7uLCiH8Tjv/YtSi7Neks9V3kHhm2Tx/UPZr1A4TlR30/l5Z0uVHyn7xqpf0eLFvDDgGALXxKWUn9Dt8rHyC4q+4Ryu7tfXhAdoLyk5eP6ZsPxefMGv3SEnv0s6DiXoWK6uutD3SVgghXKZsn9Tfidx2ZeOEHBpCuHeAZVbLRcr2idsGmK5T0g8lHRZC+Hl/E4YQPi7pFGW3iT2g7Bf6Qn/z7KoQwo+V/YDySGSS9cpOtJ8fQuiOTBNrO+W68ZSkI5RdAfVnZck274qCWD+qse5/WtnVVosjk2xQdmXECyTlB9PXotJbuX8TQrirgnmrIoTwfmVX0+2wI+lS6x/a1kr6sLJj7sGsn08oex0HDjLZghHISqq9AtjNmdlHlG3IYzqUHRBtlbRjZP67lN1PvqSf+bxl1Ul6v7IDk/HOJJskfU3Sh0MI3Wa2TNmVL5J0fgjhmgHaf76yRM0xyhI6Y9V3a9LyEMJcZ54Lld0n791H36bsV7F3hxC2mtki9Y36/tEQwkf66w8AoHbMbI6yKyimKzt56lK2n3lU0n0hhNjgrgO1e6ikoyRNUzZQ+zZlt2bcVRxzptI+nqTsSstmZSewSyT9vdKT/2op7rsPlrRQ2RUXY5WdXG9SdiJ+ewjBTSKMJMVBgI9VlpiYrOyWoscl3ZDqvU65buxiP5Kv+8VxTXa8to2SlkpaVOl7V1yfNqrvOPC4EXLrzohnZo3Krv6er+xK7LHKrr7eqmy8xHtqfDUcEiHhAmCXmNlYZb9uLFR2QLJO0jJJN4YQevqZtVr9GaPsiphDlO28Nii7N3ZRCKF9uPsDAAAwGhUTNzsSLL8LIfy/WvYHGIlIuAAAAAAAKmJmpeWYjx9hY6QAIwJjuAAAAAAAKrXj1uxrSbYAPq5wAQAAAAAASIwrXAAAAAAAABIj4QIAAAAAAJAYCRcAAAAAAIDESLgAAAAAAAAkRsIFAAAAAAAgMRIuAAAAAAAAiVU14WJm3zez71dzGQAAAClx/AIAAFKwEEL1Gje7Y5wmHv00O6NqywAAALuP6wo/sVr3YSAcvwAAgFJDPX7hliIAAAAAAIDESLgAAAAAAAAkRsIFAAAAAAAgMRIuAAAAAAAAiZFwAQAAAAAASIyECwAAAAAAQGIkXAAAAAAAABIj4QIAAAAAAJAYCRcAAAAAAIDESLgAAAAAAAAkRsIFAAAAAAAgsfpadwAAAAAAAIwcVh9JFdTV+fFCiLYV8vnIPJH4KMIVLgAAAAAAAImRcAEAAAAAAEiMhAsAAAAAAEBiJFwAAAAAAAASI+ECAAAAAACQGAkXAAAAAACAxCgLDQAAAAAABhQtFx3iZaGVM3+Wnsj0o6hcNFe4AAAAAAAAJEbCBQAAAAAAIDESLgAAAAAAAImRcAEAAAAAAEiMhAsAAAAAAEBiVCkCAKACvc86xo2veluXG7/nhG+78SNuOteNz7qyMbrsuhvuHKB3wO6rfvYsN56fPsmNhwb/d8O6tm43bpu3RZdd2LzFj7e3+zP0V40DAEaguvnz3PiWo6a78Y6pkW1sp99+6+re6LJblm32n1i93g0Xtre58dAbKWs0grfJXOECAAAAAACQGAkXAAAAAACAxEi4AAAAAAAAJEbCBQAAAAAAIDESLgAAAAAAAIlRpWiY2TGHuPFCo/9RrDit1Y0/cMlV0WX0hHzlHUvk9Ptf6sZbz1nlxgudkWGuAaCGCqceFX3uS1d/2Y3Pb/C344VIO3ed8C03vvjY+Db83XOfHn0OSCHX1OTGrbnZj08Y58a750xx41vn+e1L0vbZ5sZ7JvjVJwp1fju5yFeofpvfJ0lqXekvY+KSDjfeuGydG8+v8ytuhC6/ihkApJRraYk+t/bUmW58w9P96kItk7e78fYt/v6g/dF4lcWp9X61uda8f5SUy/sb8kK7P32ITD8SqhdxhQsAAAAAAEBiJFwAAAAAAAASI+ECAAAAAACQGAkXAAAAAACAxEi4AAAAAAAAJEaVol0UTjjCjS85zx+l+QvP+qEbbzB/dOgzmre58Z4Qz5UVojUxqu+6Q//XjR/53Te48XkXrnTj+fUbkvUJAGJ6zjzWjV9+1Xej8yxs8LfvsW3v4z09bnxLYYwbP8oPS5K6nnucG2++4T6/T1SC2yNYZJ3MRSoISZKm+BUjumZPcOPb5vjL2D7HryzUsXek6sW0rdEujWnw58l3Rr5zvX6ZouYWvyLQ9HF+xQ1JenLDRDfeMd1/D2eFaW68vsOvapTv8V+bCrWrLAn0x+r908RQ6KfqC+tzzfUcf2D0uba9/e21NfjHLz3dkVRB5FSz0E9moXusf+7a3OpXrstFKj9GqxHFmP+as8aGp4IRV7gAAAAAAAAkRsIFAAAAAAAgMRIuAAAAAAAAiZFwAQAAAAAASIyECwAAAAAAQGJUKdpF4RMb3fjDB/58mHsyst194tVu/DlPe5sbH/M7qhSNdN3P8au7LH+NP3T5hUffGG3r0kmPVLTsw/7nEjfessofbXzziX7FCkna9/t+3rnxj7dX1CeMDHXjx7vxtmf4o/Zf9oUfuPFnNsermVT6W8U1m05043++6gQ3/vePfCna1nX/81U3fvD3Lnbj+73npgF6hxEpUlXBGiPViMaN9duZPiW6iPa5fjWiTQsa3Pj2uf62PTfDr8rTMsavztXZ7r8GSepa41cEal7tf+fGRAr/bJvvl/o64pgV0WUfMnGVG//VxqPdePf9/vsUPbCmesuI13HO8X58sl8NS5Km3O1X3Qp3PeDG62fOcOPbj93Xbye+aI27w1+fe5+Kr+eViFUp6q+yS+iOlK8Zpmowe5LOF/jr67oj4qf3+Wb/c2h8wt8uN2z1t6XjN/vt1HfEK+XWd/rzFFr8bWldS4sbty2R71xvZIcwAnCFCwAAAAAAQGIkXAAAAFQzpcYAACAASURBVAAAABIj4QIAAAAAAJAYCRcAAAAAAIDESLgAAAAAAAAkRpWiXbRi0Rz/Cb8gRtRNnf4o0G/4/Zv9GfwCBpkKBwJ/+tF+hZhvzf1TZQ1hVFr3Vr+SyhWXX+nGjx3jV2LI9ZPfPXfZGW78qAlPuPF73vTFaFuVLvvEya9y45P/WNEiMEI89Z3Zbvy24/z1dTh8bPptbvzasX71ovOXnRlt69tzr3fj4w+mstuoEqnoEbr8imuxuhB1Y/xjC0lq3NzsxlvX+GVRGrf5Bx51dzT57azy22l62K8GJEm9K1ZGn3Pl/GWMeZ1fvePJAyZFm9prql/5IsZ6IxU3tvZX4QzDyRr8yitrLvCrLG5Z4H+TWlbGD7oLzf6pVMN+c9342tP2cuPrT/KretWv9yu4SFLLExP9JxJVKYpWfbF+fq+vVTWiSGW3qJFYNSnyGla8xz8Obz+4042HfjZBLU/66+v45f66P/HBLW7cVq33FzA1vo1tm+dXxuucFqm+1+lPn9u2zY3nN/t9HQm4wgUAAAAAACAxEi4AAAAAAACJkXABAAAAAABIjIQLAAAAAABAYiRcAAAAAAAAEiPhAgAAAAAAkBhloXfRPp++3Y2/6H/9UrMx1u2Xg1uw9JaK+1SpzVOnuPHrbx7nxs9o9stx9edZ973CjY+/4QE3HitxiV0XK5PYecYRbvxn7/usG59V75cbfePyZ7vx5Z87INqn1t/d7cZvaNnHjd/4i4Vu/GcLfh1dRszWu/31f3LFLWE49T7rGDf+wyO/7MZz8tf7mPOXnx597vbrD3Lj973RX/YNHX7Z3Om3d7jxRzcdGF12w6ducOO5CitiYnSJlYvur8yyRZ4b948kXYqKFJodmkLeDeciJZtDiH9Rlrb5+4Km1f6hctOqjX6Xerqjy0B11M+c4cZXvXA/N94Z2cFPvt9fP6bfEC9lnn90qRuPrefdZ8/ylz3dL0u+ZaO/XkpS3eoNFS27UtGy0LXSX+nnSKlqi+wcQ97fdgxHuehck39M8NiHj3Ljc457yo0vX+OvG62PxE/vJz7qf6atS/2SyvkHFkfb8tjGzdHneg492o23z/A/u0LdWDc+fqv/um17mxsfCesxV7gAAAAAAAAkRsIFAAAAAAAgMRIuAAAAAAAAiZFwAQAAAAAASIyECwAAAAAAQGJUKdpFITIafX7xo8Pck6Fb82K/4sthjb+KzOFXp+nPypX+kPBj2x+vuC3smlUXH+vGb33XFyNz+J/3yx59gRvvfYlfcatlfbziVmxM+JVv8SvR3LIg1lffH9r9iluSNP9rT7rx2o9pDkkqnOqP2v+lq/2KQPMb/N1aIVL77OyHX+TG617qj3YvSROf76+xB3/3Yje+8Ep/Hcs9eZcbn/TX6KLV80m/ssLPDr/ajb/hmW9343U33BlfCLCbqBs/3o1vOsivTLKg0a/mJEl3PTHHjU9dHKmbuHRF/51DcrkjD3bja46Z4MbrIgWj5v1knRvPP7TEjw/ctX+Ra2lx4x0z/f1HU77OjY9/LL6M3lWrK+4Xam/FRX61nuaDNrnxx5f6Vbhm/9G/bmLC3+PnVoUtfjWsfHt7dJ5KxM6LJaljqt/fbfP8bWzI+d+J1hV+9aLcSv98hSpFAAAAAAAAoxAJFwAAAAAAgMRIuAAAAAAAACRGwgUAAAAAACAxEi4AAAAAAACJUaVoD7LuwhPc+IGvfdiNz6irvBpRzEGXL3XjQxn5HQNbcsXTos8tfvEVbjxSh0EHXfdWN37gu5a58fz6Df11rSJvvTBWKasyn/jkudHnJj15U5JlYOjsmEOiz63/tw43vrCh0Y3fESlC8pftfnWLDT/yK5NM2RRfLyZ872Y/Hpl+OMbHj22vN1zqVx6YfkM1ewOkZZHv+/oX+9uO/LxON75806ToMpru8qvKTL5lpRvv3bYt2hYGVjfJ/yzanz4/Os+GwxrceP12f/qZV/vV2PKd/vqRUtuzD/WXvbe/7PbH/D3IAX/01z9pD6ymGGI1LaXYUWyInWj021YFzK+IJkmbXv90N75tf/+Ta7rb/04c9H2/GlV+iV+NaKSuF+2z/Pd8zBz/C9y53a8w2tvibwfGRKpUjgRc4QIAAAAAAJAYCRcAAAAAAIDESLgAAAAAAAAkRsIFAAAAAAAgMRIuAAAAAAAAiY3c4XzRr7UXnxh97twLf+/GXzv+c258XM4f/X8oPr7uaDceurqTLQN9Hvu8PwL64hdfGZ1nS8EfIf9lD7/ajR9wySNuPF9hhYZca2v0uQ0vPdyNnzP2s35banbjB/7kIjc+/xoqEY0EuRa/Ckjvf26NznPzgT9340t7/W3Kv73/nW580l+fcOPTW9e68dFSQe34vZa78WXD2w3sgeqmTfOfmOhXnpCk/JSxbnzzfH/bsfFQv+pFvrPOjRcemBhd9j5/3OjGex9fFp0HA4tt97uPnOfGV50UPzXpntbjxvf5jV8ppjAM1YjqDjnAja87KvI61vq/de/3c7+vvUv9bTjKpKo6FGFj/EqAbc8/MjrPhiP9PjWv8NeNfT9fu6paqcS+75LUPdP//h4weZMbf7TZ3x8UGuKVoUYqrnABAAAAAABIjIQLAAAAAABAYiRcAAAAAAAAEiPhAgAAAAAAkBgJFwAAAAAAgMSoUrSLYqOTP3L+JDd+6sn3J1nub+dcEX2uoELkmcqqET3a0+vGX/EVvwqIJO3zizV+n7Y9VtGysbO6GdPd+LdfdJUbj68D8WpEjc/2R8KPt+TLHXmwGz/06oei83xixpciz/ijwp909yvd+AEf8ZcxWirO7O46Tj3Ejf/xQH897s+b3nGZGx/3y5vduL81A1AuN86vIrT92f62fe1R/m93BX/zrfr2eIUJi2ysuyf6e6L8WH+GxlUNbnyvm+LVPgr3Phx9DkOXmzLZjW/e319BbOH2aFuNwV93Grf5ValSseMOiz637Ez/+9Lb4leomXO9v87a3++uvGNIzur9U+PeE/zjl9VPi1+7UBjrH3nM/mWXP/1uVI0oJjc+XoWuabz/usc3Rl535Pue6/W/WyFf6RnL8OEKFwAAAAAAgMRIuAAAAAAAACRGwgUAAAAAACAxEi4AAAAAAACJkXABAAAAAABIjCpFgxBOOjL63Hnf+oUbP6d1fbW6U1T9XNnbH32FG5/9mX9E56EaTHVYkz+a/7FjKn/Hm9/uV6uyfee48SVv3duNn3nGnW78sulfd+P71DdH+xQbVzwf/JHI7cdT/ek3L4kuA7V3+Mf9Kgy5frZn5y8/3Y03//LWJH3a3TSYX42jx/+qqM4iT2CP1/usY9z4U6f7+4h5Jzzhxl8y6Uk3/n9r5rvxFcv87bckNa731+9C5GjVev1tx5hNfnWLMY+ujS6bSma7yPz3PLQ0ufHuCf7041vjlVrau/x1c9ucFjc+qcWPW4t/PLLheQvd+Lrj49VP6ia3u/GWW/xlj/n9bdG2MHyswV+XcvP8Y+H1h/vrseb4n78k1T/lr2e5G0fxOtAceZ8kRQ7ptbXbn6e+w5++rj2yte7p6a9nNcUVLgAAAAAAAImRcAEAAAAAAEiMhAsAAAAAAEBiJFwAAAAAAAASI+ECAAAAAACQGAkXAAAAAACAxCgLvYvq5Ne46q/MaQqx0qBSvDxopa49yC95fcprLorOM+H7N6dZOHYSOrvc+C1dDW78aWPipdF+df2P3HghWpy5Mtd3+CU/l/SzYj6zebsbv73bL9s38Ts3Vd4xDJvNrzvBjf/7jM+58YL8z1mS7vjTwW58H8XL049mPcEvBR/7/l77kP/+LZBf1h2jTKRUryR1T/APAXvG+evSli6/dOdPHz7KjTfd1urG978zXva3vs2vA7r+8LFufNs8//XVRRYR25cigUjNV+vxS7g2bvanX/fkpOgiLO9/3k1NfrzjmYf48cn+ur/Rn1w2oTvap97t/nHYlIfi82AYRbaBuYkT3HjHPH/9a5vlr6919f4+WZKal8e3v6NVfur46HPdHf53ZfmGyW68aZ3//tVvbPOX3U1ZaAAAAAAAgD0GCRcAAAAAAIDESLgAAAAAAAAkRsIFAAAAAAAgMRIuAAAAAAAAiVGlaBDs73dHn/vmC89y4+89b4ob3+eP/qjldR3+KO4pLXmjPzr0w2d9perLxq7Jr1nrxj984Zvc+Oe+elW0rcMjBWG+t3WOG//EjWe78YXX+GUg6tdscePTf7gx2qdnzvmLGz/3Bv/1LdTt0bZQe73NfnxCzl/5buocE21rv++s9JdRca9GnlxLixt/+HOH9jPXHW70NY8/140f+I6lbjxeVwFVEasWFKnskkw/7bf+3j+2WfjkAr+per/q0ITbH/Cn7638Wxrr7fS2hW68Z6xfFa+uO1Ixp9E/DkL1FFb7xy9T7hvnxhu3++tZ9py/5WpZst6N21a/AmJri7+Tato83Y1vWhjZqSm+vxuz0j/mSVMPEoNl9ZHv/CS/mk7HNP/UuHeCv+71bo8fv8x+aM+rirZlfvz7G9r8tb93tf8eTl8W2Yesj5xPFEbukQ1XuAAAAAAAACRGwgUAAAAAACAxEi4AAAAAAACJkXABAAAAAABIjIQLAAAAAABAYlQp2kX5Bx9x4/tdPswdGYSDlkzzn/ALLWE30PhHv1rP++cdn2wZC3VrRdNvO8df9u/2+VV0np7g536bl0VKKmFU2ZAfG32u9/Flw9eRKolVI1r86cPc+MPnfDna1h/aJ7jxlVfOd+PjNt08QO8wHGKVMmJVcwptbdXsjiQpdEUqaNx+f2XtJOjLgJ5a7YZzeb9KUW+zXxWqEKlMIkla4VdEw64ptLf7T9x6nxsed1ukopcUrbqVqjZJU2R/M/m5x0Xn2Xiw/x3ObfO/w1QpGl7W4J/qFsY1ufHusZH1ry5S+Wx7XXTZTcvWuPHRUGWx+znHuvG2veLXcjSv8p+b8Kj/rRh7f+T92xCvejpScYULAAAAAABAYiRcAAAAAAAAEiPhAgAAAAAAkBgJFwAAAAAAgMRIuAAAAAAAACRGlaI9yJoX+1UsgJR6m/08bk+I1xEoRMbtn3fNE/4yKu8WRrB3/f1l0ecW6o5h7MmuKZx6lBtf+28dbvyhY/1qRKff94roMlrPetyNjxPViGrO4tVVcs1+RQybMsmfXn71nfyTK9x46B3lW8W9Z7rhtr0jNZIipWC6Z7RGF1FfWXEmVEukElFN9Vc4KfLTdWiLVGfC8KrzqwgVGiPVixoiH3Zktcx19XPtQj5V/azqq5sx3Y2vP2t/N945xX+f6jvi39/JD/v7qda7nnTjvav86nS7I65wAQAAAAAASIyECwAAAAAAQGIkXAAAAAAAABIj4QIAAAAAAJAYCRcAAAAAAIDE9sgqRTZmjBvf/DK/wsSkXz0QbauwbVuSPqW06p0nuvFfvf0/I3P47wcwFON+FKmW8vnh7QdqKDLIfy6S4//iyT+MNnWlFqboUVLLP3aCG//Z6//LjS9saHTjR996rhuf9aIHh9Yx1JRFqmFIkrU0u/GemRPdeNcUf7/cODtS1egf9/kLLuw+VTL68+Tz/KpN04/0q1iseGKKG7fCCKyAgxGvY0r8dKkQeSp0dVepN6iExarH5fopPeUJ/vShLr5N6Zk92e/Tcr8qz3ConznDja95wX5uvH2G/7rHPeG/7im3rY8uO//QEjc+ymvsSeIKFwAAAAAAgORIuAAAAAAAACRGwgUAAAAAACAxEi4AAAAAAACJkXABAAAAAABIjIQLAAAAAABAYqO6LHTnC4534xPe9YQbv3H+FW78Rbe9Kr6QxdUtC12/10w3vuKlfvkuSfrxJZ9z47PqKyv/vCbf5cYbOiiriLhtr3x65Jk7hrUfqKHIJqKgghs/tXlDtKlLrznGje//Lb+thtX+NnnNqdPc+ORXPOXGL9nnz9E+PbfFX5d/3eaXW3z9fWe58alfa40uA6NMk7//7Z7slwzftNA/POtt9uPj5x7nxif/Ol5iPL91a/S5WontP6acudKN7z12sxvfuNw/dmq45YHosv0tCiB1TYyXEM5FKq+HTv8YGsMr5P0PyPL+N94qPMUJU+Plv1c+w9/Hz2k7yI0X7nnI71ODv5/ITZ7otzPLP96RpA0Hj3PjPS3+Oj7lAf/9a/2NfxyU790TijxXjitcAAAAAAAAEiPhAgAAAAAAkBgJFwAAAAAAgMRIuAAAAAAAACRGwgUAAAAAACCxUV2l6DmfvNGNv3PK/RW18/D7x8ef3P60itqq1CtPvMmN/3L676LzFNRQ0TLOXfYcN/7otw5w41N+7vcJkKQt+5HHRWWaLL4reujZX3XjfzulyY0v6fKrk5w/YVnF/Yp5x8pT3Pi1/zjSjS94x83Jlo3dVKQiRqyiV/cEP15/2BY3XjjRr5Sx+OiDo12afaPfp3H3rvFniFVdafa/i4VxzW58y0GRFydp1Wl+n2bm69z4bX/xq33Mv/pxN97b3h5dNhCT64mXrmmMFCsNPfHqNVWX878vUSG2fdr9q5KGSNWc3Hb/86lvr+w1z5u1PvrcmDn+spceM8WNd632zynHrPM/z+Z1fl/HbOlnfW3zP+tJ90f2LZHKSbv/mjG8ODMCAAAAAABIjIQLAAAAAABAYiRcAAAAAAAAEiPhAgAAAAAAkBgJFwAAAAAAgMRGdZWiVB4642u17oIjniu7qXOMG3/zLa934/PfvMSNT2mjGhEqN/tGvwpEw8XxUfP7KQCA3dCMRWvd+HsuOMGNf2Zm5duaZzT5FQZOblpWUTt3dfnb0lfd+JboPAvPv8ONLxDViPZkoRDfkIVIdZwx6zvdeNN6v9qgX/NCumC/v7rxBQetjvbpb2f4lQh/v/IQN75y9Ww3Xre60Y03bTQ3nuuJdknjlvjfx7rrprrxub+41Y33FvLxhQAVal0TqeIjqa7Lfy7XFKne1el/56PM/x5JUq6lxX8iUl0odPv7zTCKvy6hx99q1m3Y7MbHrhznxrev9rfJXXPjp9IvnnWXG582e6sbXzTXr7p27YN+tbmm9f46NmGx374khTsecOPxNRwpcIULAAAAAABAYiRcAAAAAAAAEiPhAgAAAAAAkBgJFwAAAAAAgMRIuAAAAAAAACQ2qqsU/eXtJ7nx77zteDd+z0lXV7M7/fre1jlufFXPRDd+9Z3+a5Ok+d/whxvf7+93u3FGpkZKFlnPrtk6PTrPq8atcOPth+zlxhuffKryjmHY5B95zI0vedlcN37wJZdE23rw5Vek6JIO/P3b3PgBV/nVYxbe5VciAqL6qYxT2N7mxutXbHDjU+/zK2KsGTPBjV9Zf6ob/9BBv4v26dLJ97nx10701/0rpp/ixn/acZwbH3e3/5vepJtXRvvUu+yJ6HNArdS3x7/bod6vImT77u3GcyvX+A0V/KNxa+jnVC1SGa3Q1eXGo5XUIlWNRoXIdjm/cZMbb3nAf79nhplufE2PH5ekK444zY3vO8Vf9uNr/GpsE2/2q8/O/MliN55f7+9XUDtc4QIAAAAAAJAYCRcAAAAAAIDESLgAAAAAAAAkRsIFAAAAAAAgMRIuAAAAAAAAiVmo4sjUZnbHOE08+ml2RtWWMRS5lhY3/uTbj3Tj377gv6NtHdroj07+rPte4ca3LPJHs973x36Vlt6ly6PLBnYnqy87Mfrcre/6ohs/f9mZbnzDO/2qXrr53or7BWB4XVf4ib/jHEGSH79YpJJJY6Mbz40f78bDXlPc+Pb5fvWijQfURbvUPrfHf6LRr5bSuMLv6/Q7/OnHLXrEjec3+RU6gFqrO2iBG2+bPyk+U+Q0qnlNh7+M9Vv9Zrb7FfPU0x1fdLf/HQ7d/jwhH6m2NJqrFFUq528zc81NfnySX01WkgoTx0WW4YftSb+CFdvMkWOoxy9c4QIAAAAAAJAYCRcAAAAAAIDESLgAAAAAAAAkRsIFAAAAAAAgMRIuAAAAAAAAie2RVYoADL+6qX51DUlq/Fm9G//x/N+68VPveZUbn/zqdW48v3nLAL0DMFz2yCpFlXfAD8eqGkWqL9r4sdFFhDF+W9bT68YL6zf68W3bossAainX2urGbe7ebrxzL//7UhgT/326Yav/fWnY0OYve6N/PFJo86sUxSoOSZIiVYeoRlQFkepF1uAfv/YndHXtam9QI1QpAgAAAAAAGCFIuAAAAAAAACRGwgUAAAAAACAxEi4AAAAAAACJkXABAAAAAABIjIQLAAAAAABAYpXXsgKAIciv3xB9rvslfsnogz5/gRt/6IyvufGzD3yjv4Cb7+2/cwAwkkTKt8bKieYjpZxtCCWbQ6/fFrC7KbT7pZbrVqx2482b/TLSKhSiywid/ncy9l0tRMo8R0s594cyz8MnRNaBoXxuI1Gk7HX0dbPuVYQrXAAAAAAAABIj4QIAAAAAAJAYCRcAAAAAAIDESLgAAAAAAAAkRsIFAAAAAAAgMaoUAai5WAWjBef68bN1XKQlqhEB2AMV/EoZsQITwB4hUkklv3mLP30sDsQqx42Wqm6RfQjS4AoXAAAAAACAxEi4AAAAAAAAJEbCBQAAAAAAIDESLgAAAAAAAImRcAEAAAAAAEiMhAsAAAAAAEBiJFwAAAAAAAASI+ECAAAAAACQGAkXAAAAAACAxEi4AAAAAAAAJEbCBQAAAAAAIDESLgAAAAAAAImRcAEAAAAAAEiMhAsAAAAAAEBiJFwAAAAAAAASI+ECAAAAAACQWH2tOwAAAAAoV+eGrc6PKxT8cD4fmT4MpVfYw1l9P6dLkXXTzPzpc+l+646u55E43wugNrjCBQAAAAAAIDESLgAAAAAAAImRcAEAAAAAAEiMhAsAAAAAAEBiJFwAAAAAAAASI+ECAAAAAACQGGWhAQAAUHuFSDnbSBxIqW78eDdu48dF5wmtzf4T9ZFS5gW/lLl19fjTd3XHl93Z6cc7/Lh6ev3peyPLplz06BMrVx7DOpAEV7gAAAAAAAAkRsIFAAAAAAAgMRIuAAAAAAAAiZFwAQAAAAAASIyECwAAAAAAQGJUKQIAAMCwyDU1RZ8rRKquAMMhv3WrG7dY1R9JdVMnu/HC9EluvHdcpKpRpHpM/bau6LJzm7b5T+Qj1b66IxWPqETTJ1bFx/xrFCzXT9WfyDwh8vnEqrQlVcvPOudX7rK6SEWv4Ff0ir5/I3g95goXAAAAAACAxEi4AAAAAAAAJEbCBQAAAAAAIDESLgAAAAAAAImRcAEAAAAAAEiMKkUjhI0Z48bbn3uEGz/8A/dE21pyXHxEc2Akqpvij/JvE8a78SdeMsuNd071Ryif/9H496XQ3j5A74CRo+2lT3Pjn/nPr7jxj7/89W483H5/sj4Bnvr95rrx/OSx8ZlYLzEChZ5IdR9JvatW+09E4g0L93fjPdPH+cuOVc2RFDr94/385i3ReVAUq5jT4J8aW2OjH6+Pn0rHqkKFtvj6NJrlWlsqiocu/30qbG/zp+/ne1prXOECAAAAAACQGAkXAAAAAACAxEi4AAAAAAAAJEbCBQAAAAAAIDESLgAAAAAAAIlRpWiEqJs21Y3fcOVX3fhfO+Mf3WfnvcCN9y5dXnnHgArlDj3QjS95X3N0njcc9g83/s4pf0zSp4NmvDX63ILz7kiyjNGs45zj/fgUf5T/yVffVM3u7NHWHuv/TvLxZf52H6iV7tmT3HjnNL/ahyS13F6t3gDDKzfOrzrUO8Wv0rVt3yY3PmZr/PvSunJd5R3b00SqEeWa/Oqw1ux/Dtbkx0N3T3TRhU2bBujcniU3xd8n5Cf535W6TdvcuHX51bmoUgQAAAAAALAHIeECAAAAAACQGAkXAAAAAACAxEi4AAAAAAAAJEbCBQAAAAAAIDGqFO2mTmnqjT73yX0mu/EcVYowBHbcYW780cv8kd8XnfxlNz6tzh8RXpJykdzv79r9Ec0f75ruxi+atNiNf/cZ34gu++PHnevGw233RefZ06x8hv/5tOy/2Z/h6ip2Zk8QqaogSWGfDjd++vSH3fif7cQkXQIqlW/21+OeFhvmnoxw1s/7EcLw9aNcf/3y1LKvEXXz57nx9SfPdOPb9/Zfc+jn5+mWNf7rbl2Td+Ptkep+Ww7w22/YFj9Va33cP0bSmrXReUYrq/ffJ2v0qzxZa6sfH+fHQ11kJWhrG7hzkCR1zfUr8vaM9T+7lh7/O6R1u98+hCtcAAAAAAAAEiPhAgAAAAAAkBgJFwAAAAAAgMRIuAAAAAAAACRGwgUAAAAAACAxqhTtpuqMXBmGpm7aNDf+yBdnu/HfnHiVG9+voSGyhHg1ophvbZ3jxn/5kpPdeGGMv+yLfutXKTp2TGSkc0kdM5rdeFN0jj3PR//fT9z4Zx46c5h7smeo23/f6HMPn+qXgDry1te68VlU20KNFOr9ShKdk+PHL5Mj+6f8unVJ+jQijcDqPv2KHX+G+H626p5+uBt+7AV+xZnWwza68YUT/Mp7j2/yq39KUuetfqWgSY9EqolGPu5Nh/nva8es+PvaO9E/ftn9argMUj8V/CqtRqQJY91wflyL306h4MbDdqoU7aSf6mab96/s/KB5ReTz7uqqqJ2RgLN2AAAAAACAxEi4AAAAAAAAJEbCBQAAAAAAIDESLgAAAAAAAImRcAEAAAAAAEiMhAsAAAAAAEBilIXeTeWDX55Mknpa/I+18mK9GI1WvHaBG3/g1C9G5oiVf67M9yKlnyXply880Y3nFz/ixu2oQ5L0CYPTYJHylqiK+v9pr3iejsfGV6EnwNC1zfSPRdpmx8sg9y6Y5cZtNJeF3t30c/xZK5sX+KV/e1v8dW3T+nF+O8snuvFJ98d/n977fx9y4/lNm9y4X8hZalnoHwdtnxd/v0POL8E7WstCW10/ZaHr/e2NNflnP4XWJjfeO8Gfvr6tx42HXo6PSoVIiXZJ2uKffqhltb/G5jq7caNK+QAAIABJREFU3Xh+N3zPucIFAAAAAAAgMRIuAAAAAAAAiZFwAQAAAAAASIyECwAAAAAAQGIkXAAAAAAAABKjStEotPYYv6rMnD8Mc0cwIs0+e1mSdn66faYb/69HTnfjMy6PV6bIL15S0bI3HUZFlmoonHykGz+l6W/D3JM929zWDRXPM+f6fBV6Agxd2yy/8kTvZL/ahyR1TfYrhPj1RFBVIb7PHmnGL+1w402bG914wza/8s+Y5X41rN6ly6PLTrXlrev04xbiNYdyPaN0u29DqLMUqdikOv/agkKzf66Ub/IrITVs9j+g3edbMjxWn+BXDJOk/Cz/Pcw9FdnCr9uYoksjAle4AAAAAAAAJEbCBQAAAAAAIDESLgAAAAAAAImRcAEAAAAAAEiMhAsAAAAAAEBiVCkaIUKPP2r/Iz3+iM4LG+Jj9nfM607SJ4xSb/arQBx80SVufM51/ij4rQ+sduNTlz/ixlOOpd8+Ywgj2GNAy/9fsxufXtcyzD3ZM9TP3ceNv3Tyrytuq3npJjc+SmtYYASxBr8STIgdYfbEt9+2G1XGwciR+9vdbrzS6la9u96VIWuf5a/7IRf/TuTa/eN9vwbTbiS2HQjxVxby/nOxrU2h3r/mIFYUyrb7lbD2VHVTp7jxbQvj36JcZF1uWet/dvn1lVdsHKm4wgUAAAAAACAxEi4AAAAAAACJkXABAAAAAABIjIQLAAAAAABAYiRcAAAAAAAAEqNK0QiRX7PWjb/9sVe48WsP/FU1u4NRLP/oUjc+/zI/HlPL0fx7jttWw6WPXvXzK3tfOx+eWKWe7Bme/O9WN37SmHglhm9u3dt/YvPWFF0CKhZ6/EopjX7hLIVcXbStxo3tKboEjFjdZx3nxgv7+FVJ65+K11qyVaOnistghEK8YpPlIzX5ItWLZH45Iossw9qoUlSq88i5/hON8eOX3Ep/XR7/sL+z2O2rbZXgChcAAAAAAIDESLgAAAAAAAAkRsIFAAAAAAAgMRIuAAAAAAAAiZFwAQAAAAAASIwqRQCSeuJDJ7rx3pb46PLyB4uXIrO8eMFNFfXp4qdOiz7XfO2dlSwaJabfPprGkB+8uqlT3Pialyx045Nf/pQbv3HhNyNLiFel+MqVL3Tj09f8IzoPUAtjV8Wqg8R/66vf4lcCidQfAZLKtbS48UJ75dWzckce7MafONOv0tXc7C+jfkVzdBn5desq7tduLcSPOUKsSlFEtBpR7OCvaUxF7ddSril+DFHo9KthVaptVqMbt/b4ZzT+MT9euPfhFF0a0bjCBQAAAAAAIDESLgAAAAAAAImRcAEAAAAAAEiMhAsAAAAAAEBiJFwAAAAAAAASo0rRKDR2cuWjqQN148e78c7jF7jxhvetceP3HnhFxctuMH/U/p5Q2ajzN3T4FQaeess+0XlC70MVLQN9Oib7OfvWhMsonHKUGw91fmmrJ8/wKwl0z+px47lGfx370ynx9bghUlVrdd5f9gcff5Eb31jwR/NvycXX+xm3bHPjVNXCSNO8ttuNt0+NV9AIOX4HRDq5Iw5y4xuOmujGCw1+Ow3b41tYixRl2XCYv6NombfFjW/f5B+/7LvE33ftkcIQ9nSReSzvf3Ahsn/PT/WPkXNr40c8hbY2N143Y7o/w+QJfp8a/dP17qn+OmP5+PtUt8ivzBlTv/dsN75tH/+Nsp5Y2VFp/PLeipY9mrBnAwAAAAAASIyECwAAAAAAQGIkXAAAAAAAABIj4QIAAAAAAJAYCRcAAAAAAIDESLgAAAAAAAAkRlnoUehnR3/DjV+ik4a5J6gVG+OXp5Wk7lMPc+OXXfVdN/7M5j+78TX5Ljd+Q8ckN/6hR86J9umHh1zjxmfVx1+Hpynnl098/OV+CUhJ2m+xX6K00NlZ0bJHg65OvyZmIVJ0+Fvv/4Ib//XFRybr03um/I8bz8kvPdgR/FK0K/N+qeUvrzvNjZ9x/aXRPk28q9GN7/Unv1S6LX/Kja97qNmNz6iLlwENt90XfQ4YSera/fU43xQvC907xf9O8OvgCGKRsq9DKdmbSN3C/d34+iP9fX/7DP81NG6NvIZ4pVt1TfCf7B3rt9W92V/Hx93v71daHl0dXba/V6uc1fung6EQeT9CpBa2VNP1wBXpT67TL1Fs4/3PoXOav93KnXBgdNH5pjo33jUxskWLvHXNG/xPun67v41tuPfxeJ+iz/i69/dLWHfs7b9/ddvjW+vmpZuS9Gl3xD4MAAAAAAAgMRIuAAAAAAAAiZFwAQAAAAAASIyECwAA/7+9O42S7KzPA/7eqt57pmffNDPaRhqBRjBoQ0bGZrGxjQFhMFgW4oT4EGMsgxKCZWzHCefEjo1NwhazmWApTg4QG2Ew9gEl2AbsaGGx1tEy2jUjzWj26W16q6p8cM6Jw/m/LdXo7enq7t/v43Pr3vt2d1X17X/XuQ8AABRm4AIAAABQmJaiDrfn77fGG/I3xWYJqWXaHg5feWF2n7/73Y+1dY4dn393mG/52/i+4r1/9d0wX7NpNHuOz990cZi/d809z7C6/99lvfEd2+/65/mv+SV7rg3zDX9yZ5g3x8fbWtNCcs5bbw/zHb/3rjDfeumTc7mclFJKf3tge5gf/NqWMF+zK34O9Hw9fl6mFD9+e/reM67tB+XutP/k+y4P80t7bwnzL4xubvvc0GlaXfH/9Br5kqI0uSpuSot7XZhTtbhhpdYXtwfW1q0J85lNcXPh5Kr4OF0n8p0lPQfi64hWLX6urXgkbhtcnfk9Ud8ft6ikrvh7kVJKY8/fEOZTK+Lncv2R+Otee3e81upE3AiZUkpdW+LfFa2+uGmnmom/t60T8blbo2NxPplfU2smbq/pNNV0/L2o555//fFzoNmT/+xCsztusOo7Ep9j4KEjYd7Y/XD2HOHj23r07Gb641FB1Refpfup/Gih8cBDRda0EPmECwAAAEBhBi4AAAAAhRm4AAAAABRm4AIAAABQmIELAAAAQGFaijrcsj2ttvdZXsX71M+P2z4a9+5u+xycWlVvfFf7+z/0wjh/fXtNRCml9PoHfibMt3/wkTBvPH0gzLu2xu0xO//iiey5r1tzb5gfb06F+WU3vjfMNz0vXtNfv+B/ZM99y7+Nv1dXXvXaMD/0sReEed/huPUgp/7Nf2jr8fPprN+I23Tm06aUfz51moEfPdjW43/rb382u217+s5zXQ6cGrnLl1kuayZWxE0gWopOvaqeaSlaMRTmE9vWh/nhC+LrlxPr4ydC36G43SellNZ/rxnm3bseD/PaPXHrUO4pmOvX6doYNxGllFLmkjstfyJe67K9cSNQ9xOHwrw1mH/2T2xdEeYzg/HPrvdIfJ3Svf94mFeNTKvRbE1E89RSlHu+ZhumpuN1dh+Om5l6JuLr0TR+Irum5kjcqtUci89Rsl2olO7hzNd9PH5enszfrUuBT7gAAAAAFGbgAgAAAFCYgQsAAABAYQYuAAAAAIUZuAAAAAAUpqWow9VO4mbf9aoK82Z//s7vdIaqK35JPvCRnWF+/xUfD/O9M5PZc1zx6V8L8zP/+OEwn8m0EU3/+MVhfsHv3x7m71///eyarh8+I8z/2795XZif86Vbw7y+dk2Yv/xV786ee+zK+O78f37hZ8J8y8fixoWcvxyL1/RH289u6zgsHWd8xV3+Wfi6Dg7H+cRgdp+ZgblaDe2qeuJrxtbQsjAf2doT5sefF1/ILtsUN7iM7FmeXdPQ4/Hv3+5Mm0676ufGv5dHz1ub3afRF19zr8w0JDV2PRDmucv96sId2XOPnRZ/z5uZv+7qk/Hvlu7Mzzrlmn/mS+bvm5Rmeb7mvracw8fCOHctvNh1HYjfxwf2xe/jKx6LW7iWOp9wAQAAACjMwAUAAACgMAMXAAAAgMIMXAAAAAAKM3ABAAAAKExLUYdbdcMtYf6pX4tbXVJK6Z0rHg/zB98T3838nLe2vy7mxp7rXhzm91/x0TB/KtNG9OYPXJc9x5lffiTMj7zyrDBvvTVuDPjiBfGa1tXjFoEdX8g3BW3/o0NhPvDAbdl9Io1Dh8N86PNx/o/b4vxN18RtThveFL++st67MrNhV3vHAVhAGg89GuZ9hzdm95npm6vVEJqt9SXTUNPqjf90yDVM1VdOhfmO9fvD/N4q39I2fMaqMF921uYw73q6P8yba+PjjJ01FOaN3vz3acVtT4b5zJ692X3aUZuczm6rGvH3qitTeVSfyLQ5zWTyXPtTswOb9DItn6k7k7fir6E1OlZoQYtDNR0/mfoOZxqvDo9nj9UssqKFySdcAAAAAAozcAEAAAAozMAFAAAAoDADFwAAAIDCDFwAAAAACjNwAQAAAChMLfQC9R9v/cnstp/6sY+E+fZf2h3mS7mmq9N88hc/0dbj+zJNha9757ez+2y+9miYv23oq22dO6VM/fPnrg3zc37ju9kjNWYyHYbzaP0nbg7zVns/opRSXBkJ9Sr+n8fR7d3ZfTZ+ba5WA6fG0KMT2W0Ta3tO4UqYTStTm1tNxr+ve4bjxzePxtcKB9cvC/OhvsnsmvZvjs8xfvryMF82ciLMa0eHw3xw/8Ewbxw6nF3TXF+9VEeOZ7cN7ou/7tp0fGXffTiuPK6GR8O8eSJ+rbZyddELSS3zmYPM836paqyOq9KrzBO/1R3XyS91PuECAAAAUJiBCwAAAEBhBi4AAAAAhRm4AAAAABRm4AIAAABQmJaiRaiR4uqa3N3G6RzfHn1emF/We3eYr67Hd///zbV3tH3u197/xjB/4pYtYX72F+M755+z6/th3urAJiKYT41WpiPOv0JYxHqejJvyUkqp2bPmFK6E2RpZWlNTYV7LNNoMPTIY5jP9A2G+Z3hzmDd78msa2Bdf3/Y9HbcRzTzyWPZYC0VzJP5+p5RS7xNHwryajq+3WmPj8TlybURT0/GJc7+75lFrMvN8PRG3XrV6Mm2AdS07/9TEafHrt5W5TplZHv9dklJKPevWhXnj0KF4h0XUGOWyDgAAAKAwAxcAAACAwgxcAAAAAAozcAEAAAAozMAFAAAAoDAtRYvQtq7+MD/8Cy8O8zWfvWUul0Mbbn7FaWF+2dWvDPPjO+O7sncdzNx9PaW0/VNPxvvsPxDmZ07sCfPOu0c9LA7jl8ZNErAYTG9amd02urknzNeesTXMZx6Pfz/x3OVaihpH4paprum40Wb9oRVhvuauuNUo1eImopRS6no8vk6Z2bc/u89CN1vDY3X4WLxPo9HWsbKPz+Tz1h4zW6vWRKaN6NhwmFd9cZtO9mteoiaH4tamKvOjaPTN0vK0On4vqDfj73kz04jWmsm1Z3Vuq5FPuAAAAAAUZuACAAAAUJiBCwAAAEBhBi4AAAAAhRm4AAAAABSmpWiBuv5lf5zddrR5IszX3pW523ORFVFC4/CRMN/wsZvj/CTOkb/fPXAq1Sv/82DpOXpe3KSYUkrjG+KGmsFz14d5t5aiuZNp/GhNxm0wjUyeDh0utSLXLz8g1ySVsq1Dcb9ktpkn0x7TiXLNNc3RsTCvMt+71vTSfJbV164J81rmKdA1Eb8/VM1Z/qrsyjQY1TJNSPX4Gqm1AH9ErvYAAAAACjNwAQAAACjMwAUAAACgMAMXAAAAgMIMXAAAAAAK01K0QF1335uy2950xu1hXhvL3Fm+yIoAiEx+Y12YN14UN0bAolDFjUNDj2WaVVJKg/vj/wP27Tke5q5fWOyqzOsopZRtkso/PvM7J5cvJLlWrUx70aL4mktaORTG3SPtvct2H8u0laWUqrG4RTfXfJZr1VqIfMIFAAAAoDADFwAAAIDCDFwAAAAACjNwAQAAACjMwAUAAACgMC1FC9Tq1+7ObvubNJjZkt8HgLmx8cM3h/lPf/iiMD873TGXy4FToqrXw7zv0UOz7BQ3srSOxi1FLAC1+HlQdcd/glQ9PdlDVQP9cT44EOatvvyxwuPkWlSOD2f3aY6Oxfs0Mu0uVfy/7tzrZTbZc2Ty7OPbbTtaSLLtRTPtHWe2tqjcLpmfaauZ+X435693rZqOvx/9T43Gj5+JG4Sq4fj1kFJKrZGRMG/mWoqyDVML7/nqEy4AAAAAhRm4AAAAABRm4AIAAABQmIELAAAAQGEGLgAAAACFGbgAAAAAFKYWGgCAU6J1+Gh+W67ONlMbygKQqbptTcW1srlK41m35Z4fvb2zLCxaU1xDm8tn03bNcyv+frQy9bv/uEumHjdzrIVYp9sxct+7TO35bKpaXDGd+7GVVHXHVemtTL15NT4RHyhTq92cmsqeO/v6WkT1zzk+4QIAAABQmIELAAAAQGEGLgAAAACFGbgAAAAAFGbgAgAAAFCYliIAAIpqZVosGiMjJ3GwxdNWwf+V+ZnmnjezbhsvsSA4CZkWrpROTetQqIpbkFLKN8E1jw+3dYrccWbfaem+j/uECwAAAEBhBi4AAAAAhRm4AAAAABRm4AIAAABQmIELAAAAQGFaigAAODWWcFMFwJyb7T22FbcLzVuj0hLhEy4AAAAAhRm4AAAAABRm4AIAAABQmIELAAAAQGEGLgAAAACFGbgAAAAAFGbgAgAAAFCYgQsAAABAYQYuAAAAAIUZuAAAAAAUZuACAAAAUFjXfC8AAACKqdXDuKpV2V1azVZuQybPPJ4Fq+ruifOe7vxOtfh/162pqTifnGx7XcDC5hMuAAAAAIUZuAAAAAAUZuACAAAAUJiBCwAAAEBhBi4AAAAAhRm4AAAAABSmFhoAgAWnPjQU5tXyZfEOzUzFc5qlxncirvFtTU3H+Uycq5HuHFVvb5jXMs+banAgf7CZRhg3Dh1ue13A4uQTLgAAAACFGbgAAAAAFGbgAgAAAFCYgQsAAABAYQYuAAAAAIVpKWJebbk1viN8rYrv5v/EZWNzuRzasPv6i8P80Z/8bJh/6MjZ2WN94+cuCfPGvbvbXxgAS0JjNL4m6Fq7Osxb/XE7TUop22BUO5FpKToxEefjJ+I813Y0HbcjLRpVlcnj//lW9Xr+WLX4WFVX/OdMbd2aMB8/b32YHzunJ8yb3fklrb4v/vn13PRUfidY4Lo2bgjz5sb4NZdSStV03OhVHTkeH+v4cJxn3ktTMz5+J/AJFwAAAIDCDFwAAAAACjNwAQAAACjMwAUAAACgMAMXAAAAgMK0FHFKPHhD3GjzF1s/FeYv/Pu3h/mZ6a5ia+LZqe84L8y/8oqPh/l0K76d/6+seiB7ji++8CfCfPm9z7A4WMAe/uBLwvy+t/xhdp/uKm7w+NFr3hHm/V/+TvsLg4Ui00ox88hjYd61ZXP2UFNnrgvzVtfy+FijcTtN/VDcrNE6cizMG41ZmjU6uHVjrrRmpmfZGDdYZh8+0Bfmx8+Kr1OOvWAmzOtj+f9Pb7w505gCi0B9bdw6tP+KuHl0Yk2mlSylNLgvfv2uvid+Pdam4/eCajp+nWbfHTrgfdQnXAAAAAAKM3ABAAAAKMzABQAAAKAwAxcAAACAwgxcAAAAAArTUkRRuz99aZjf/6pPhPlIM77L/+A3B4utiefoyf1hfO3unw/z/7XjxrlcDSw4+99zeZh/88o/CPPpVk/7J2mvvAOWpJm9T2a3TV0YNxhNDsX/m+w7EjeG9U/FDRrV2Ik4PzGRXVOrA9o1nrNcs1Cr3NfWmoybglp79oV591jcvFJNxj/r3kOz/H/6O3fPvjg6Uy1+/WYthtfiSWhu3RjmR3c2w7waiv+uSymlqtkf5isfiH8WtUZ8jtTK5NkT55uT2m0+O1k+4QIAAABQmIELAAAAQGEGLgAAAACFGbgAAAAAFGbgAgAAAFCYliKKevVF8d3ae6vuMP/FvT8W5us+eUuxNfHcNI4dD/PH954b77BjDhcDC9Do1viO+qtrJ9FGBJy8WZpJhs+IL4mnM6WJVaYoo/dwfL3T1Ru/3qvu/KV4a2Y6s0Et2bPRHBkJ8+V74laj8U19YT74VJutKHSOTENNVcs011TxZxEWRWPYSZjcMBDmuTaienf++9QVF7WlrmPjYd44enT2xT1bs7UUnSI+4QIAAABQmIELAAAAQGEGLgAAAACFGbgAAAAAFGbgAgAAAFCYlqIOceJnXhzmW657MMyPv6k3e6yZffuLrCnnwLsuz277xPo/CPM/Hd0c5vt+fVuY19Lt7S+MOVHfsD7Mf+T5u0/xSqCzjb75sjC/8Q0fzewR3zn/U8eelz3HN37ukjAffHxXmOvWgP+nuvj87LaRM+NXS/1Eew0XVa5AqJ75H2c935w0r3LNHougIann4FiY1yfilqLJFfn/T9f64n2aExPtL4zyMs/XVjPzPG5lmsGWqGPb4ta15nT8/avvjV8PKaW07s64pqhxX/y3bjEd8J7lEy4AAAAAhRm4AAAAABRm4AIAAABQmIELAAAAQGEGLgAAAACFGbgAAAAAFKYWukNc8/t/FuY/v/xomL/skndkj9X31bmthX7Xr3wpu21b97Iwv/LfvyXM13zrliJrYg4tHwzjn1793WKnOHBxXD+58q7tYd64VyU182fitS8O8/f/3h+H+fbu9mpl/+tnfiq7beO9N7d1LJgvJ14fv05qM/mKzt6/Kvd7JbLvh5dntzWWzYT5wFPxpfLAgakwrx0fD/PWxGTmxI3smuZcrvo5pZSq3P9kM2XzHVC9+mw1e+Kf6cTa+GuYWpX5mlNKg6/ZGec33tb+wjh1mvP4uutAY2+6LMyHt8XP/e4DcV305m/ma7Vr37q9/YUtEj7hAgAAAFCYgQsAAABAYQYuAAAAAIUZuAAAAAAUZuACAAAAUJiWog6xZ3p1ZkvcUjTTP/ezssbLLwrz1y/7z7PsFTfaNPrba+mgczQeejTMf+urV4b5z1718bbPsestHwvzC4//yzDfqqWIebTvrRNh/or+OE+pHqZve+zHw3zjRzURsXDs+9eXh/nEurjxZctfx+0+JdV2Pj/Mh7fHTUQppdRzOH6drr0nXm/frr1h3hyLW4pSM277aE3N8v3oxOafXHtRa+G0vjT74z9/JtfHX8Pqzceyxzq0c02YD97Y/rpgrk3/+MVh/tTL48e3euLXxGlfj98Hem763sksa9HzCRcAAACAwgxcAAAAAAozcAEAAAAozMAFAAAAoDADFwAAAIDCtBSdYg9+/LIwv2n1p8P8s8c3hvnKW+K746eUUv4e/LH6yhVhPvy+42G+th43EaWU0nX7LwzzDZ/5fph34P33eZa2/eqt8YarTu06YC50bdmc3bbrR64P8+lMS8d90/FxnvjQ9jAfTLfNvjiYB4d+6SVhPpJp/ll5d3yJ2f2N+HqgpL2vWhXm1SxNOutuj1uEer51d5jPTE62t6ha3IKUWvF5O9ZCW2+gdiJ+zlZ98XN289Bw9lh3r10ZH6srPlZrpt2rdGhP/Zyzstse+YmeMO/bOBLm3f97KMwHvqRNsR0+4QIAAABQmIELAAAAQGEGLgAAAACFGbgAAAAAFGbgAgAAAFCYlqI5Uj/vnDD/8ms+GuaTrfju9Tf85uvDfGBPuRaLhz99Rpg/sPNPwvzbE/lj3XVRrneozbv5s2B1V/FzeVolFR2ovuO8ML/kc/cUO8eVX7o2zLfdmGn6gnnUePlFYT4SXyqkwcfiS8lNf/pgfPyTWlWsa/NpYT65Jv6FM3R/pikopbT8a3eGebPdNqKcXLtPax5/Oc567g5cbyG1vQfCvDUTP8mbrSp7rGom3qaNiPmy9/Wbstuap50I86nHl4X51g9rIyrBJ1wAAAAACjNwAQAAACjMwAUAAACgMAMXAAAAgMIMXAAAAAAK01L0HDVf+qIw/+XrvxjmL+zpC/Oz/+fbw/zcPy/XRvTo774kzO976ccze8TzuF/+zDXZc2xJ7ma91E234g6KZq7xAObR41esCfMvrrl9lr3ippO3PPy6MN/+gYfDvGRbC7Srfv72MN+/M75OqU/Fx1l793SYNw4ePKl1tePIy04P875DcXPMaX99KHusxthYkTUtGougjSgn99zsOhQ3jO7bsDx7rJ6j+eYrmEszP3ZxmI+ePsv19vGeMN52Y9xeRBk+4QIAAABQmIELAAAAQGEGLgAAAACFGbgAAAAAFGbgAgAAAFCYlqJ/ouqO79z81LWXZPe5672fKHLut7zoO2H+hQ++NMzPff+d2WPVNq4P86te8+0wr1fx3O2CW68O8y2/p4kIWFiO/ELc0vbn7/xgZo/u7LHeuedlYT79tt4wbxx8Yta1wbNV64sbhKrTN4f5ibNXZ4916IL4OT66bSY+94n4WqHRM/f/uxu+6ofC/Ng58blX7Y5bOhr37i62JhafZXvjdqtjmwez+/RNztVqYHYHd8bXHKnKdyCuuit+z6xuzv9dyXPnEy4AAAAAhRm4AAAAABRm4AIAAABQmIELAAAAQGEGLgAAAACFGbgAAAAAFKYW+p/Yd01c/1yq+jmllP50dEWY/876u+P86jj/rVe9IHuOVw/9fZj/cF88X7tjMu602/zGXdlzAHSi+o7zwvzm3/nDzB5xze5sbtl7Zphvfeyeto8Fkaq7J95w3llhfHRHfG0xfGb+/2rjZ0yH+cDa8fjxB+Nq3PH19TCvve7FYT6xKn58SikdOT+z4fQTYdw8EL9++w/GX9u8qnI/i7jCOqWUUqs1J0sh1nck/lkMx23RKaWUJtfM8vODAsbfcFmYj54Z1z93jeXf9zfcuDvM80XSlOATLgAAAACFGbgAAAAAFGbgAgAAAFCYgQsAAABAYQYuAAAAAIUtyZaiA9dcHuZ3vi9uI5ps5e92f99UfHfyd/3qtWHedzg+1k0fiO8a/dnT48ahXKvRP2pvjvai3t4w/3eP/EN87jdcnT1W88772jo3i093FTdQTJ9E2cLQ5Qee42pYanb/5kCYT7fK3YP/9A/EuT4RSqmtXhnmExvipqDJFZkalVmelP17usP6LSODAAAJb0lEQVS8vjtuPNr8WPwa6j80EeYjW+Jri4Mvzre6LNsyHOYnxuNj9T0dX+/0Pn4kzOe1iaOpB6TjZV4vvX35vwMm1savvfr2bWHe2P1w28tiaaguuSDMn3xD/PzrH4xbZvtuGsqeo3HocPsLW+iqWWrGTlETnE+4AAAAABRm4AIAAABQmIELAAAAQGEGLgAAAACFGbgAAAAAFLYkW4ouedudYf5X431h/uufviZ7rNM+eHOYD6bb2lrTnvfsDPP3/uF4mP+nTXGDUEnvuvstYb5eExGzyLXBNFO+mSLnWzs/H+ZX/NDb4x1uvavtc7AwNV92YZj/ziVfLnL8V93z89lty753T5FzsITkWhKq+P9eVU9PnDfiRoWBg/H765p7p7JL6r49bktpDMdNQe2qv/mytveZ3BW3M616MH786nvitTYeerTtc0NtJn59TU7EjV4ppVTV4n1Gn78mzPu1FC159Q3rw/z+fxa30F2x4/th/rWHzg/zDV/JP8d0pc0Pn3ABAAAAKMzABQAAAKAwAxcAAACAwgxcAAAAAAozcAEAAAAobEm2FP3d1+NGoCc/tynMT3sgbiIqaWJDb5i/Z923M3ssyx7rot/+5TBfe0fceJSz6cG9Ye4O18zmeX/zL8L83lf+UbFz7H5H3OCx/dZip6DD/Ycb4ufTBd1xY0TOr+770TBfcdXR7D7eA2lbro2oXo8f34xbh7qPTIR57xMnwrzx4CPZJc3183hka/y1DcSXFimllM74Qrxx5rEnwry9VzvMrvfoTJjXnoxbTFNKaWZF/Eoa2Rr/ibUs01DTePrAM6yOxeLQq7eF+fkvfCzM65mWz57vxX8Lei79gNb8/6bwCRcAAACAwgxcAAAAAAozcAEAAAAozMAFAAAAoDADFwAAAIDClmRL0Rnvj1uHTkXzRH3dujB/6s3TYb6lK74D9Y2jQ9lzrPvkLe0vLKCJg5PRu7s/3vDKU7sOFrcLe+L/F0y32nvnuuX6i8J8/dG5b6djCWnFLROpFl+GtSYnw7y+/3CYz+zbf1LLKmH8jZeF+eSquBnirC8NZ4+VayOCU6H/oYNhvvyczdl9jp8X/y4a3xg//6fPPS3Ma5plFp36UPy32rHz4sef2TUV5l/d/YIwP+eGB8Pc32+dxydcAAAAAAozcAEAAAAozMAFAAAAoDADFwAAAIDCDFwAAAAACjNwAQAAAChsSdZCz6cHrzsnzB96xSfD/I5MNeRnX/uqWc7ycLvLgmK2/nZcp/v5q/O1ilcv39fWOR79qf8S5q/eeVWYN++8r63j0zn2fPGCMO+u7ihy/E3fPBTmahU5JRrxM605MhrmubroU6F+/vYwP3Bh/L+7gf1VmLdu31VsTVBSrpZ8xaPrs/sc3x7/KTW1bibMxzb3hfnyZ1gbC0/zvDPCfGawGeZ3PRVXhq+8aSDMGwfjGnM6j0+4AAAAABRm4AIAAABQmIELAAAAQGEGLgAAAACFGbgAAAAAFKalaI7k7ub/kTde39Zx3viX14b5ubtva3tNMJ9ueOLy7LardvxZW8eabj3X1dBJmi+7MLvtIy/672E+3YrbXY43J8L80q/9qzB/3uP3PsPqoIBW/KbVmombTFIun0cHLl8T5s2e+PGbvnk4zDWAsdD0PT2e3dYcWBbmPSvjRrGpZYNhXvX2hvl8NpPxzGoDcYNQSikd3hE/N1pd8btg68H48Wv+7K4wj7uO6EQ+4QIAAABQmIELAAAAQGEGLgAAAACFGbgAAAAAFGbgAgAAAFCYlqI58vYvfz3MXzMQN2i88DtXhfm579ZGxOIwecPG/MYPnrp10HkmVmdqTlJKL+0by2yph+lN46eH+fZ3fDfM3eUffkAtfm3Vp+KHr70jbmBq7Hqg1IpgXlXjszQFdcUtNa1mFR8r07JY6+8L84aWouemin8OqYo/c1B1x38a19evC/PhSzdnT31kR5zXlk+Hed/u+NzNsdx1EAuFT7gAAAAAFGbgAgAAAFCYgQsAAABAYQYuAAAAAIUZuAAAAAAUpqVojrzvK1eH+c9e/ckw7/nLlXO5HJh3q+44kt328aPnhfmvrNJyAXAq1VfH1yNDj8Yti113PBTmGsBYLKqZRnZbbST+U6oxGue9xzOvjGamvojnpKrHrWtVf3+Y11auCPOps+OWopEt8fFTSqmxbCbeMNYdxsue8q65WPmECwAAAEBhBi4AAAAAhRm4AAAAABRm4AIAAABQmIELAAAAQGFaiubItutuCfOfvO5FYb4mxY+HxaJx7+7stpsuGIrzdGmbZ7mvzcfTCYbu2J/d9u69rwzzT2391lwtBxaNWl9ffttpG8N8emPc0tE1HLcUNUdG2l8YVFWctzqvrWfmkcey207/+townxqK22sG94yXWBLPUquRaZiamoofPx7/fLr3x+9za2uZ53FKadmTcRtR92i8pv7b4mbOfEcWC4VPuAAAAAAUZuACAAAAUJiBCwAAAEBhBi4AAAAAhRm4AAAAABSmpQiAeTXz6OPZbXt/KM5fmy6eo9VAB6vFzSe1wYE4X7s6e6jpDXEbUbMnPkfXwclnWBwEcm1EVe5/vs38sTqwwah/b9xe07O8N8zrx0/EB8q13eS+fyl15Pej42S+R61MS1FzND5MrRkfp3c03zrVm2lImtn/dJhrI1q8fMIFAAAAoDADFwAAAIDCDFwAAAAACjNwAQAAACjMwAUAAACgMAMXAAAAgMLUQgMALAStuDI3V3HaOjacPVT3RKbmOVOj2jh6bPa1QSRbXZypf+7EquPZqpmfPhTG9UNxvXqajF93zbFMXTRzI1cXPT0T5s3Rsfg44/la6NyxWHp8wgUAAACgMAMXAAAAgMIMXAAAAAAKM3ABAAAAKMzABQAAAKAwLUUAAAtBrlkj03zSyOQw7zqxjShnlrU2jrTZ3pVpGltQ34/FrNkI41Ymh2fDJ1wAAAAACjNwAQAAACjMwAUAAACgMAMXAAAAgMKq1hzepKmqqsO1VF89mJbP2TkAgIVjJB37XKvVunq+1zEb1y/As1O1+Xg3x4WF6mSvX+a6pWi4mRppJB17bI7PAwBQiusXAOA5m9NPuAAAAAAsRe7hAgAAAFCYgQsAAABAYQYuAAAAAIUZuAAAAAAUZuACAAAAUJiBCwAAAEBhBi4AAAAAhRm4AAAAABRm4AIAAABQmIELAAAAQGEGLgAAAACFGbgAAAAAFPZ/AOyiU/BZIZw7AAAAAElFTkSuQmCC\n"
                },
                "metadata": {
                  "image/png": {
                    "width": 558,
                    "height": 292
                  }
                }
              }
            ]
          }
        },
        "2333038138804f62b3cc4fce2e6649ac": {
          "model_module": "@jupyter-widgets/base",
          "model_name": "LayoutModel",
          "model_module_version": "1.2.0",
          "state": {
            "_model_module": "@jupyter-widgets/base",
            "_model_module_version": "1.2.0",
            "_model_name": "LayoutModel",
            "_view_count": null,
            "_view_module": "@jupyter-widgets/base",
            "_view_module_version": "1.2.0",
            "_view_name": "LayoutView",
            "align_content": null,
            "align_items": null,
            "align_self": null,
            "border": null,
            "bottom": null,
            "display": null,
            "flex": null,
            "flex_flow": null,
            "grid_area": null,
            "grid_auto_columns": null,
            "grid_auto_flow": null,
            "grid_auto_rows": null,
            "grid_column": null,
            "grid_gap": null,
            "grid_row": null,
            "grid_template_areas": null,
            "grid_template_columns": null,
            "grid_template_rows": null,
            "height": null,
            "justify_content": null,
            "justify_items": null,
            "left": null,
            "margin": null,
            "max_height": null,
            "max_width": null,
            "min_height": null,
            "min_width": null,
            "object_fit": null,
            "object_position": null,
            "order": null,
            "overflow": null,
            "overflow_x": null,
            "overflow_y": null,
            "padding": null,
            "right": null,
            "top": null,
            "visibility": null,
            "width": null
          }
        },
        "45578c7b2e7b418093e78594f899da3d": {
          "model_module": "@jupyter-widgets/base",
          "model_name": "LayoutModel",
          "model_module_version": "1.2.0",
          "state": {
            "_model_module": "@jupyter-widgets/base",
            "_model_module_version": "1.2.0",
            "_model_name": "LayoutModel",
            "_view_count": null,
            "_view_module": "@jupyter-widgets/base",
            "_view_module_version": "1.2.0",
            "_view_name": "LayoutView",
            "align_content": null,
            "align_items": null,
            "align_self": null,
            "border": null,
            "bottom": null,
            "display": null,
            "flex": null,
            "flex_flow": null,
            "grid_area": null,
            "grid_auto_columns": null,
            "grid_auto_flow": null,
            "grid_auto_rows": null,
            "grid_column": null,
            "grid_gap": null,
            "grid_row": null,
            "grid_template_areas": null,
            "grid_template_columns": null,
            "grid_template_rows": null,
            "height": null,
            "justify_content": null,
            "justify_items": null,
            "left": null,
            "margin": null,
            "max_height": null,
            "max_width": null,
            "min_height": null,
            "min_width": null,
            "object_fit": null,
            "object_position": null,
            "order": null,
            "overflow": null,
            "overflow_x": null,
            "overflow_y": null,
            "padding": null,
            "right": null,
            "top": null,
            "visibility": null,
            "width": null
          }
        },
        "0273e9f1a92d47fd82e12b9abf402987": {
          "model_module": "@jupyter-widgets/controls",
          "model_name": "SliderStyleModel",
          "model_module_version": "1.5.0",
          "state": {
            "_model_module": "@jupyter-widgets/controls",
            "_model_module_version": "1.5.0",
            "_model_name": "SliderStyleModel",
            "_view_count": null,
            "_view_module": "@jupyter-widgets/base",
            "_view_module_version": "1.2.0",
            "_view_name": "StyleView",
            "description_width": "",
            "handle_color": null
          }
        },
        "c68135c2bfe744d08be8a197b8a9de11": {
          "model_module": "@jupyter-widgets/base",
          "model_name": "LayoutModel",
          "model_module_version": "1.2.0",
          "state": {
            "_model_module": "@jupyter-widgets/base",
            "_model_module_version": "1.2.0",
            "_model_name": "LayoutModel",
            "_view_count": null,
            "_view_module": "@jupyter-widgets/base",
            "_view_module_version": "1.2.0",
            "_view_name": "LayoutView",
            "align_content": null,
            "align_items": null,
            "align_self": null,
            "border": null,
            "bottom": null,
            "display": null,
            "flex": null,
            "flex_flow": null,
            "grid_area": null,
            "grid_auto_columns": null,
            "grid_auto_flow": null,
            "grid_auto_rows": null,
            "grid_column": null,
            "grid_gap": null,
            "grid_row": null,
            "grid_template_areas": null,
            "grid_template_columns": null,
            "grid_template_rows": null,
            "height": null,
            "justify_content": null,
            "justify_items": null,
            "left": null,
            "margin": null,
            "max_height": null,
            "max_width": null,
            "min_height": null,
            "min_width": null,
            "object_fit": null,
            "object_position": null,
            "order": null,
            "overflow": null,
            "overflow_x": null,
            "overflow_y": null,
            "padding": null,
            "right": null,
            "top": null,
            "visibility": null,
            "width": null
          }
        }
      }
    }
  },
  "nbformat": 4,
  "nbformat_minor": 0
}