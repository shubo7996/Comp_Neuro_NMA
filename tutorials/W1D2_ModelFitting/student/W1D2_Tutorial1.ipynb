{
  "cells": [
    {
      "cell_type": "markdown",
      "metadata": {
        "id": "view-in-github",
        "colab_type": "text"
      },
      "source": [
        "<a href=\"https://colab.research.google.com/github/shubo7996/Comp_Neuro_NMA/blob/main/tutorials/W1D2_ModelFitting/student/W1D2_Tutorial1.ipynb\" target=\"_parent\"><img src=\"https://colab.research.google.com/assets/colab-badge.svg\" alt=\"Open In Colab\"/></a>"
      ]
    },
    {
      "cell_type": "markdown",
      "metadata": {
        "execution": {},
        "id": "1OCGNsoYYjEW"
      },
      "source": [
        "# Tutorial 1: Linear regression with MSE\n",
        "\n",
        "**Week 1, Day 2: Model Fitting**\n",
        "\n",
        "**By Neuromatch Academy**\n",
        "\n",
        "**Content creators**: Pierre-Étienne Fiquet, Anqi Wu, Alex Hyafil with help from Byron Galbraith\n",
        "\n",
        "**Content reviewers**: Lina Teichmann, Saeed Salehi, Patrick Mineault,  Ella Batty, Michael Waskom"
      ]
    },
    {
      "cell_type": "markdown",
      "metadata": {
        "execution": {},
        "id": "xw-zkVebYjEb"
      },
      "source": [
        "<p align='center'><img src='https://github.com/NeuromatchAcademy/widgets/blob/master/sponsors.png?raw=True'/></p>"
      ]
    },
    {
      "cell_type": "markdown",
      "metadata": {
        "execution": {},
        "id": "hZoNGE7fYjEb"
      },
      "source": [
        "___\n",
        "# Tutorial Objectives\n",
        "\n",
        "*Estimated timing of tutorial: 30 minutes*\n",
        "\n",
        "This is Tutorial 1 of a series on fitting models to data. We start with simple linear regression, using least squares optimization (Tutorial 1) and Maximum Likelihood Estimation (Tutorial 2). We will use bootstrapping to build confidence intervals around the inferred linear model parameters (Tutorial 3). We'll finish our exploration of regression models by generalizing to multiple linear regression and polynomial regression (Tutorial 4). We end by learning how to choose between these various models. We discuss the bias-variance trade-off (Tutorial 5) and Cross Validation for model selection (Tutorial 6).\n",
        "\n",
        "In this tutorial, we will learn how to fit simple linear models to data.\n",
        "- Learn how to calculate the mean-squared error (MSE) \n",
        "- Explore how model parameters (slope) influence the MSE\n",
        "- Learn how to find the optimal model parameter using least-squares optimization\n",
        "\n",
        "---\n",
        "\n",
        "**Acknowledgements:** \n",
        "- We thank Eero Simoncelli. Much of today's tutorials are inspired by exercises assigned in his mathtools class."
      ]
    },
    {
      "cell_type": "code",
      "execution_count": 1,
      "metadata": {
        "cellView": "form",
        "execution": {},
        "id": "D2w0z7P8YjEc",
        "outputId": "7bc65baf-7baa-441a-fa6c-d729fba56e6c",
        "colab": {
          "base_uri": "https://localhost:8080/",
          "height": 521
        }
      },
      "outputs": [
        {
          "output_type": "execute_result",
          "data": {
            "text/plain": [
              "<IPython.lib.display.IFrame at 0x7faf107e4f90>"
            ],
            "text/html": [
              "\n",
              "        <iframe\n",
              "            width=\"854\"\n",
              "            height=\"480\"\n",
              "            src=\"https://mfr.ca-1.osf.io/render?url=https://osf.io/2mkq4/?direct%26mode=render%26action=download%26mode=render\"\n",
              "            frameborder=\"0\"\n",
              "            allowfullscreen\n",
              "        ></iframe>\n",
              "        "
            ]
          },
          "metadata": {},
          "execution_count": 1
        }
      ],
      "source": [
        "# @title Tutorial slides\n",
        "\n",
        "# @markdown These are the slides for the videos in all tutorials today\n",
        "from IPython.display import IFrame\n",
        "IFrame(src=f\"https://mfr.ca-1.osf.io/render?url=https://osf.io/2mkq4/?direct%26mode=render%26action=download%26mode=render\", width=854, height=480)"
      ]
    },
    {
      "cell_type": "markdown",
      "metadata": {
        "execution": {},
        "id": "xSka83fjYjEe"
      },
      "source": [
        "---\n",
        "# Setup"
      ]
    },
    {
      "cell_type": "code",
      "execution_count": 2,
      "metadata": {
        "cellView": "both",
        "execution": {},
        "id": "iquS446aYjEe"
      },
      "outputs": [],
      "source": [
        "import numpy as np\n",
        "import matplotlib.pyplot as plt"
      ]
    },
    {
      "cell_type": "code",
      "execution_count": 3,
      "metadata": {
        "cellView": "form",
        "execution": {},
        "id": "wgpa4TkEYjEf"
      },
      "outputs": [],
      "source": [
        "#@title Figure Settings\n",
        "import ipywidgets as widgets       # interactive display\n",
        "%config InlineBackend.figure_format = 'retina'\n",
        "plt.style.use(\"https://raw.githubusercontent.com/NeuromatchAcademy/course-content/main/nma.mplstyle\")"
      ]
    },
    {
      "cell_type": "code",
      "execution_count": 4,
      "metadata": {
        "cellView": "form",
        "execution": {},
        "id": "41037L9mYjEg"
      },
      "outputs": [],
      "source": [
        "#@title Plotting Functions\n",
        "\n",
        "def plot_observed_vs_predicted(x, y, y_hat, theta_hat):\n",
        "  \"\"\" Plot observed vs predicted data\n",
        "\n",
        "  Args:\n",
        "    x (ndarray): observed x values\n",
        "    y (ndarray): observed y values\n",
        "    y_hat (ndarray): predicted y values\n",
        "    theta_hat (ndarray):\n",
        "  \"\"\"\n",
        "  fig, ax = plt.subplots()\n",
        "  ax.scatter(x, y, label='Observed')  # our data scatter plot\n",
        "  ax.plot(x, y_hat, color='r', label='Fit')  # our estimated model\n",
        "  # plot residuals\n",
        "  ymin = np.minimum(y, y_hat)\n",
        "  ymax = np.maximum(y, y_hat)\n",
        "  ax.vlines(x, ymin, ymax, 'g', alpha=0.5, label='Residuals')\n",
        "  ax.set(\n",
        "      title=fr\"$\\hat{{\\theta}}$ = {theta_hat:0.2f}, MSE = {np.mean((y - y_hat)**2):.2f}\",\n",
        "      xlabel='x',\n",
        "      ylabel='y'\n",
        "  )\n",
        "  ax.legend()"
      ]
    },
    {
      "cell_type": "markdown",
      "metadata": {
        "execution": {},
        "id": "8gU4CLKHYjEh"
      },
      "source": [
        "---\n",
        "# Section 1: Mean Squared Error (MSE)"
      ]
    },
    {
      "cell_type": "code",
      "execution_count": 5,
      "metadata": {
        "cellView": "form",
        "execution": {},
        "id": "g6JRNAC6YjEi",
        "outputId": "09bef9eb-5c75-4666-e40d-b75a13c30262",
        "colab": {
          "base_uri": "https://localhost:8080/",
          "height": 598,
          "referenced_widgets": [
            "312f2b0a932540d4959d44d7ade22a23",
            "4706b275414a492ea863ae5c256f485f",
            "16a7a93f38c640d4a8963ecf280b2dcc",
            "a93c1a50a62b43feb2f6a9f1b83ccbae",
            "195438ac44d34d1980403e4e7b3e1e6c",
            "ea79b36ae53d4ca4b903dba6b3764c71"
          ]
        }
      },
      "outputs": [
        {
          "output_type": "display_data",
          "data": {
            "text/plain": [
              "Tab(children=(Output(), Output()), _titles={'0': 'Youtube', '1': 'Bilibili'})"
            ],
            "application/vnd.jupyter.widget-view+json": {
              "version_major": 2,
              "version_minor": 0,
              "model_id": "312f2b0a932540d4959d44d7ade22a23"
            }
          },
          "metadata": {}
        }
      ],
      "source": [
        "# @title Video 1: Linear Regression & Mean Squared Error\n",
        "from ipywidgets import widgets\n",
        "\n",
        "out2 = widgets.Output()\n",
        "with out2:\n",
        "  from IPython.display import IFrame\n",
        "  class BiliVideo(IFrame):\n",
        "      def __init__(self, id, page=1, width=400, height=300, **kwargs):\n",
        "          self.id=id\n",
        "          src = 'https://player.bilibili.com/player.html?bvid={0}&page={1}'.format(id, page)\n",
        "          super(BiliVideo, self).__init__(src, width, height, **kwargs)\n",
        "\n",
        "  video = BiliVideo(id=\"BV1tA411e7NW\", width=854, height=480, fs=1)\n",
        "  print('Video available at https://www.bilibili.com/video/{0}'.format(video.id))\n",
        "  display(video)\n",
        "\n",
        "out1 = widgets.Output()\n",
        "with out1:\n",
        "  from IPython.display import YouTubeVideo\n",
        "  video = YouTubeVideo(id=\"HumajfjJ37E\", width=854, height=480, fs=1, rel=0)\n",
        "  print('Video available at https://youtube.com/watch?v=' + video.id)\n",
        "  display(video)\n",
        "\n",
        "out = widgets.Tab([out1, out2])\n",
        "out.set_title(0, 'Youtube')\n",
        "out.set_title(1, 'Bilibili')\n",
        "\n",
        "display(out)"
      ]
    },
    {
      "cell_type": "markdown",
      "metadata": {
        "execution": {},
        "id": "_AFRIL4eYjEj"
      },
      "source": [
        "This video covers a 1D linear regression and mean squared error.\n",
        "\n",
        "<details>\n",
        "<summary> <font color='blue'>Click here for text recap of video </font></summary>\n",
        "\n",
        "**Linear least squares regression** is an old but gold  optimization procedure that we are going to use for data fitting. Least squares (LS) optimization problems are those in which the objective function is a quadratic function of the\n",
        "parameter(s) being optimized.\n",
        "\n",
        "Suppose you have a set of measurements: for each data point or measurement, you have $y_{i}$ (the \"dependent\" variable) obtained for a different input value, $x_{i}$ (the \"independent\" or \"explanatory\" variable).  Suppose we believe the measurements are proportional to the input values, but are corrupted by some (random) measurement errors, $\\epsilon_{i}$, that is:\n",
        "\n",
        "\\begin{equation}\n",
        "y_{i}= \\theta x_{i}+\\epsilon_{i}\n",
        "\\end{equation}\n",
        "\n",
        "for some unknown slope parameter $\\theta.$ The least squares regression problem uses **mean squared error (MSE)** as its objective function, it aims to find the value of the parameter $\\theta$ by minimizing the average of squared errors:\n",
        "\n",
        "\\begin{equation}\n",
        "\\min _{\\theta} \\frac{1}{N}\\sum_{i=1}^{N}\\left(y_{i}-\\theta x_{i}\\right)^{2}\n",
        "\\end{equation}"
      ]
    },
    {
      "cell_type": "markdown",
      "metadata": {
        "execution": {},
        "id": "bg0b2QFWYjEj"
      },
      "source": [
        "We will now explore how MSE is used in fitting a linear regression model to data. For illustrative purposes, we will create a simple synthetic dataset where we know the true underlying model. This will allow us to see how our estimation efforts compare in uncovering the real model (though in practice we rarely have this luxury).\n",
        "\n",
        "First we will generate some noisy samples $x$ from [0, 10) along the line $y = 1.2x$ as our dataset we wish to fit a model to."
      ]
    },
    {
      "cell_type": "code",
      "execution_count": 6,
      "metadata": {
        "cellView": "form",
        "execution": {},
        "id": "_692vDJSYjEk",
        "outputId": "7e412a69-a354-4bf3-9aed-bec3597d9e44",
        "colab": {
          "base_uri": "https://localhost:8080/",
          "height": 430
        }
      },
      "outputs": [
        {
          "output_type": "display_data",
          "data": {
            "text/plain": [
              "<Figure size 576x432 with 1 Axes>"
            ],
            "image/png": "[encoded data removed]"
          },
          "metadata": {
            "image/png": {
              "width": 557,
              "height": 413
            },
            "needs_background": "light"
          }
        }
      ],
      "source": [
        "# @title\n",
        "\n",
        "# @markdown Execute this cell to generate some simulated data\n",
        "\n",
        "# setting a fixed seed to our random number generator ensures we will always\n",
        "# get the same psuedorandom number sequence\n",
        "np.random.seed(121)\n",
        "\n",
        "# Let's set some parameters\n",
        "theta = 1.2\n",
        "n_samples = 30\n",
        "\n",
        "# Draw x and then calculate y\n",
        "x = 10 * np.random.rand(n_samples)  # sample from a uniform distribution over [0,10)\n",
        "noise = np.random.randn(n_samples)  # sample from a standard normal distribution\n",
        "y = theta * x + noise\n",
        "\n",
        "# Plot the results\n",
        "fig, ax = plt.subplots()\n",
        "ax.scatter(x, y)  # produces a scatter plot\n",
        "ax.set(xlabel='x', ylabel='y');"
      ]
    },
    {
      "cell_type": "markdown",
      "metadata": {
        "execution": {},
        "id": "Q0Qg762sYjEk"
      },
      "source": [
        "Now that we have our suitably noisy dataset, we can start trying to estimate the underlying model that produced it. We use MSE to evaluate how successful a particular slope estimate $\\hat{\\theta}$ is for explaining the data, with the closer to 0 the MSE is, the better our estimate fits the data."
      ]
    },
    {
      "cell_type": "markdown",
      "metadata": {
        "execution": {},
        "id": "w8f4kf5yYjEl"
      },
      "source": [
        "## Coding Exercise 1: Compute MSE\n",
        "\n",
        "In this exercise you will implement a method to compute the mean squared error for a set of inputs $\\mathbf{x}$, measurements $\\mathbf{y}$, and slope estimate $\\hat{\\theta}$. Here, $\\mathbf{x}$ and $\\mathbf{y}$ are vectors of data points. We will then compute and print the mean squared error for 3 different choices of theta.\n",
        "\n",
        "As a reminder, the equation for computing the estimated y for a single data point is:\n",
        "\n",
        "\\begin{equation}\n",
        "\\hat{y}_{i}= \\theta x_{i}\n",
        "\\end{equation}\n",
        "\n",
        "and for mean squared error is:\n",
        "\n",
        "\\begin{equation}\n",
        "\\min _{\\theta} \\frac{1}{N}\\sum_{i=1}^{N}\\left(y_{i}-\\hat{y}_i\\right)^{2}\n",
        "\\end{equation}"
      ]
    },
    {
      "cell_type": "code",
      "execution_count": 10,
      "metadata": {
        "execution": {},
        "id": "74CmTr8zYjEl",
        "outputId": "23ab96f3-2996-44b0-9e71-777b4772dbd8",
        "colab": {
          "base_uri": "https://localhost:8080/"
        }
      },
      "outputs": [
        {
          "output_type": "stream",
          "name": "stdout",
          "text": [
            "theta_hat of 0.75 has an MSE of 9.08\n",
            "theta_hat of 1.0 has an MSE of 3.01\n",
            "theta_hat of 1.5 has an MSE of 4.52\n"
          ]
        }
      ],
      "source": [
        "def mse(x, y, theta_hat):\n",
        "  \"\"\"Compute the mean squared error\n",
        "\n",
        "  Args:\n",
        "    x (ndarray): An array of shape (samples,) that contains the input values.\n",
        "    y (ndarray): An array of shape (samples,) that contains the corresponding\n",
        "      measurement values to the inputs.\n",
        "    theta_hat (float): An estimate of the slope parameter\n",
        "\n",
        "  Returns:\n",
        "    float: The mean squared error of the data with the estimated parameter.\n",
        "  \"\"\"\n",
        "  ####################################################\n",
        "  ## TODO for students: compute the mean squared error\n",
        "  # Fill out function and remove\n",
        "  #raise NotImplementedError(\"Student exercise: compute the mean squared error\")\n",
        "  ####################################################\n",
        "\n",
        "  # Compute the estimated y\n",
        "  y_hat = theta_hat*x\n",
        "\n",
        "  # Compute mean squared error\n",
        "  mse = np.mean((y-y_hat)**2)\n",
        "\n",
        "  return mse\n",
        "\n",
        "\n",
        "theta_hats = [0.75, 1.0, 1.5]\n",
        "for theta_hat in theta_hats:\n",
        "  print(f\"theta_hat of {theta_hat} has an MSE of {mse(x, y, theta_hat):.2f}\")"
      ]
    },
    {
      "cell_type": "markdown",
      "metadata": {
        "cellView": "both",
        "execution": {},
        "id": "wyVLeUMyYjEm"
      },
      "source": [
        "[*Click for solution*](https://github.com/NeuromatchAcademy/course-content/tree/main//tutorials/W1D2_ModelFitting/solutions/W1D2_Tutorial1_Solution_12a57de0.py)\n",
        "\n"
      ]
    },
    {
      "cell_type": "markdown",
      "metadata": {
        "execution": {},
        "id": "qE4L5GuOYjEm"
      },
      "source": [
        "The result should be:\n",
        "\n",
        "theta_hat of 0.75 has an MSE of 9.08\\\n",
        "theta_hat of 1.0 has an MSE of 3.0\\\n",
        "theta_hat of 1.5 has an MSE of 4.52\n",
        "\n",
        "\n",
        "\n"
      ]
    },
    {
      "cell_type": "markdown",
      "metadata": {
        "execution": {},
        "id": "cKZw0MM8YjEn"
      },
      "source": [
        "We see that $\\hat{\\theta} = 1.0$ is our best estimate from the three we tried. Looking just at the raw numbers, however, isn't always satisfying, so let's visualize what our estimated model looks like over the data. \n",
        "\n"
      ]
    },
    {
      "cell_type": "code",
      "execution_count": null,
      "metadata": {
        "cellView": "form",
        "execution": {},
        "id": "sa7bgrnpYjEn"
      },
      "outputs": [],
      "source": [
        "#@title\n",
        "\n",
        "#@markdown Execute this cell to visualize estimated models\n",
        "\n",
        "fig, axes = plt.subplots(ncols=3, figsize=(18, 4))\n",
        "for theta_hat, ax in zip(theta_hats, axes):\n",
        "\n",
        "  # True data\n",
        "  ax.scatter(x, y, label='Observed')  # our data scatter plot\n",
        "\n",
        "  # Compute and plot predictions\n",
        "  y_hat = theta_hat * x\n",
        "  ax.plot(x, y_hat, color='r', label='Fit')  # our estimated model\n",
        "\n",
        "  ax.set(\n",
        "      title= fr'$\\hat{{\\theta}}$= {theta_hat}, MSE = {np.mean((y - y_hat)**2):.2f}',\n",
        "      xlabel='x',\n",
        "      ylabel='y'\n",
        "  );\n",
        "\n",
        "axes[0].legend()"
      ]
    },
    {
      "cell_type": "markdown",
      "metadata": {
        "execution": {},
        "id": "0Q7Wm4UPYjEn"
      },
      "source": [
        "## Interactive Demo 1: MSE Explorer\n",
        "\n",
        "Using an interactive widget, we can easily see how changing our slope estimate changes our model fit. We display the **residuals**, the differences between observed and predicted data, as line segments between the data point (observed response) and the corresponding predicted response on the model fit line.\n",
        "\n",
        "- What value of $\\hat{\\theta}$ results in the lowest MSE?\n",
        "- Is this a good way of estimating $\\theta$?\n"
      ]
    },
    {
      "cell_type": "code",
      "execution_count": 11,
      "metadata": {
        "cellView": "form",
        "execution": {},
        "id": "oQL_CUCDYjEo",
        "outputId": "ffd5127a-d27f-4c96-df9c-2a1089255ae4",
        "colab": {
          "base_uri": "https://localhost:8080/",
          "height": 462,
          "referenced_widgets": [
            "c0a7be602b88432dac0c92908d39a62a",
            "8666a6a4c331460b9f88d6c15c6579e1",
            "e74606fbda494c409b7ffab21f5eecf6",
            "1ba47d90754645f1a5eeb7643aba06e6",
            "735a9599af614895a54819e9a2dafe64",
            "767104fe9e8540d4ba6e984c5ef5f556",
            "67e763efe85b4b35ae86c0c5806706cf"
          ]
        }
      },
      "outputs": [
        {
          "output_type": "display_data",
          "data": {
            "text/plain": [
              "interactive(children=(FloatSlider(value=1.0, description='theta_hat', max=2.0), Output()), _dom_classes=('widg…"
            ],
            "application/vnd.jupyter.widget-view+json": {
              "version_major": 2,
              "version_minor": 0,
              "model_id": "c0a7be602b88432dac0c92908d39a62a"
            }
          },
          "metadata": {}
        }
      ],
      "source": [
        "#@title\n",
        "\n",
        "#@markdown Make sure you execute this cell to enable the widget!\n",
        "\n",
        "@widgets.interact(theta_hat=widgets.FloatSlider(1.0, min=0.0, max=2.0))\n",
        "def plot_data_estimate(theta_hat):\n",
        "  y_hat = theta_hat * x\n",
        "  plot_observed_vs_predicted(x, y, y_hat, theta_hat)"
      ]
    },
    {
      "cell_type": "markdown",
      "metadata": {
        "execution": {},
        "id": "iDDIiGZgYjEo"
      },
      "source": [
        "[*Click for solution*](https://github.com/NeuromatchAcademy/course-content/tree/main//tutorials/W1D2_ModelFitting/solutions/W1D2_Tutorial1_Solution_b528a7bb.py)\n",
        "\n"
      ]
    },
    {
      "cell_type": "markdown",
      "metadata": {
        "execution": {},
        "id": "3EHkvIDhYjEp"
      },
      "source": [
        "While visually exploring several estimates can be instructive, it's not the most efficient for finding the best estimate to fit our data. Another technique we can use is to choose a reasonable range of parameter values and compute the MSE at several values in that interval. This allows us to plot the error against the parameter value (this is also called an **error landscape**, especially when we deal with more than one parameter). We can select the final $\\hat{\\theta}$  ($\\hat{\\theta}_\\textrm{MSE}$) as the one which results in the lowest error."
      ]
    },
    {
      "cell_type": "code",
      "execution_count": null,
      "metadata": {
        "cellView": "form",
        "execution": {},
        "id": "XI6DlhdcYjEp"
      },
      "outputs": [],
      "source": [
        "# @title\n",
        "\n",
        "# @markdown Execute this cell to loop over theta_hats, compute MSE, and plot results\n",
        "\n",
        "# Loop over different thetas, compute MSE for each\n",
        "theta_hat_grid = np.linspace(-2.0, 4.0)\n",
        "errors = np.zeros(len(theta_hat_grid))\n",
        "for i, theta_hat in enumerate(theta_hat_grid):\n",
        "  errors[i] = mse(x, y, theta_hat)\n",
        "\n",
        "# Find theta that results in lowest error\n",
        "best_error = np.min(errors)\n",
        "theta_hat = theta_hat_grid[np.argmin(errors)]\n",
        "\n",
        "\n",
        "# Plot results\n",
        "fig, ax = plt.subplots()\n",
        "ax.plot(theta_hat_grid, errors, '-o', label='MSE', c='C1')\n",
        "ax.axvline(theta, color='g', ls='--', label=r\"$\\theta_{True}$\")\n",
        "ax.axvline(theta_hat, color='r', ls='-', label=r\"$\\hat{{\\theta}}_{MSE}$\")\n",
        "ax.set(\n",
        "  title=fr\"Best fit: $\\hat{{\\theta}}$ = {theta_hat:.2f}, MSE = {best_error:.2f}\",\n",
        "  xlabel=r\"$\\hat{{\\theta}}$\",\n",
        "  ylabel='MSE')\n",
        "ax.legend();"
      ]
    },
    {
      "cell_type": "markdown",
      "metadata": {
        "execution": {},
        "id": "KPd2sooLYjEp"
      },
      "source": [
        "We can see that our best fit is $\\hat{\\theta}=1.18$ with an MSE of 1.45. This is quite close to the original true value $\\theta=1.2$!\n"
      ]
    },
    {
      "cell_type": "markdown",
      "metadata": {
        "execution": {},
        "id": "fI18UCwwYjEq"
      },
      "source": [
        "---\n",
        "# Section 2: Least-squares optimization\n",
        "\n",
        "*Estimated timing to here from start of tutorial: 20 min*\n",
        "\n",
        "While the approach detailed above (computing MSE at various values of $\\hat\\theta$) quickly got us to a good estimate, it still relied on evaluating the MSE value across a grid of hand-specified values. If we didn't pick a good range to begin with, or with enough granularity, we might miss the best possible estimator. Let's go one step further, and instead of finding the minimum MSE from a set of candidate estimates, let's solve for it analytically.\n",
        "\n",
        "We can do this by minimizing the cost function. Mean squared error is a convex objective function, therefore we can compute its minimum using calculus. Please see video or Bonus Section 1 for this derivation! After computing the minimum, we find that:\n",
        "\n",
        "\\begin{equation}\n",
        "\\hat\\theta = \\frac{\\mathbf{x}^\\top \\mathbf{y}}{\\mathbf{x}^\\top \\mathbf{x}}\n",
        "\\end{equation}\n",
        "\n",
        "where $\\mathbf{x}$ and $\\mathbf{y}$ are vectors of data points.\n",
        "\n",
        "This is known as solving the normal equations. For different ways of obtaining the solution, see the notes on [Least Squares Optimization](https://www.cns.nyu.edu/~eero/NOTES/leastSquares.pdf) by Eero Simoncelli."
      ]
    },
    {
      "cell_type": "markdown",
      "metadata": {
        "execution": {},
        "id": "253ui1JUYjEq"
      },
      "source": [
        "## Coding Exercise 2: Solve for the Optimal Estimator\n",
        "\n",
        "In this exercise, you will write a function that finds the optimal $\\hat{\\theta}$ value using the least squares optimization approach (the equation above) to solve MSE minimization. It should take arguments $x$ and $y$ and return the solution $\\hat{\\theta}$.\n",
        "\n",
        "We will then use your function to compute $\\hat{\\theta}$ and plot the resulting prediction on top of the data. "
      ]
    },
    {
      "cell_type": "code",
      "execution_count": 13,
      "metadata": {
        "execution": {},
        "id": "VOjtrtK3YjEq",
        "outputId": "e45881f3-6f7f-45f4-afa5-8f580617f036",
        "colab": {
          "base_uri": "https://localhost:8080/",
          "height": 430
        }
      },
      "outputs": [
        {
          "output_type": "display_data",
          "data": {
            "text/plain": [
              "<Figure size 576x432 with 1 Axes>"
            ],
            "image/png": "[encoded data removed]"
          },
          "metadata": {
            "image/png": {
              "width": 557,
              "height": 413
            },
            "needs_background": "light"
          }
        }
      ],
      "source": [
        "def solve_normal_eqn(x, y):\n",
        "  \"\"\"Solve the normal equations to produce the value of theta_hat that minimizes\n",
        "    MSE.\n",
        "\n",
        "    Args:\n",
        "    x (ndarray): An array of shape (samples,) that contains the input values.\n",
        "    y (ndarray): An array of shape (samples,) that contains the corresponding\n",
        "      measurement values to the inputs.\n",
        "\n",
        "  Returns:\n",
        "    float: the value for theta_hat arrived from minimizing MSE\n",
        "  \"\"\"\n",
        "\n",
        "  ################################################################################\n",
        "  ## TODO for students: solve for the best parameter using least squares\n",
        "  # Fill out function and remove\n",
        "  #raise NotImplementedError(\"Student exercise: solve for theta_hat using least squares\")\n",
        "  ################################################################################\n",
        "\n",
        "  # Compute theta_hat analytically\n",
        "  theta_hat = (x.T @ y) / (x.T @ x)\n",
        "\n",
        "  return theta_hat\n",
        "\n",
        "\n",
        "theta_hat = solve_normal_eqn(x, y)\n",
        "y_hat = theta_hat * x\n",
        "plot_observed_vs_predicted(x, y, y_hat, theta_hat)"
      ]
    },
    {
      "cell_type": "markdown",
      "metadata": {
        "cellView": "both",
        "execution": {},
        "id": "vgOMhl1eYjEr"
      },
      "source": [
        "[*Click for solution*](https://github.com/NeuromatchAcademy/course-content/tree/main//tutorials/W1D2_ModelFitting/solutions/W1D2_Tutorial1_Solution_7a89ba24.py)\n",
        "\n",
        "*Example output:*\n",
        "\n",
        "<img alt='Solution hint' align='left' width=848.0 height=561.0 src=https://raw.githubusercontent.com/NeuromatchAcademy/course-content/main/tutorials/W1D2_ModelFitting/static/W1D2_Tutorial1_Solution_7a89ba24_0.png>\n",
        "\n"
      ]
    },
    {
      "cell_type": "markdown",
      "metadata": {
        "execution": {},
        "id": "bAARek2oYjEr"
      },
      "source": [
        "We see that the analytic solution produces an even better result than our grid search from before, producing $\\hat{\\theta} = 1.21$ with $\\text{MSE} = 1.43$!"
      ]
    },
    {
      "cell_type": "markdown",
      "metadata": {
        "execution": {},
        "id": "qkhWnHEuYjEr"
      },
      "source": [
        "---\n",
        "# Summary\n",
        "\n",
        "*Estimated timing of tutorial: 30 minutes*\n",
        "\n",
        "Linear least squares regression is an optimization procedure that can be used for data fitting:\n",
        "\n",
        "  - Task: predict a value for $y_i$ given $x_i$\n",
        "  - Performance measure: $\\textrm{MSE}$\n",
        "  - Procedure: minimize $\\textrm{MSE}$ by solving the normal equations\n",
        "\n",
        "**Key point**: We fit the model by defining an *objective function* and minimizing it. \n",
        "\n",
        "**Note**: In this case, there is an *analytical* solution to the minimization problem and in practice, this solution can be computed using *linear algebra*. This is *extremely* powerful and forms the basis for much of numerical computation throughout the sciences."
      ]
    },
    {
      "cell_type": "markdown",
      "metadata": {
        "execution": {},
        "id": "0O_qwwXvYjEr"
      },
      "source": [
        "# Notation\n",
        "\\begin{align}\n",
        "x_{i} &\\quad \\text{input, independent variable}\\\\\n",
        "y_{i} &\\quad \\text{measurement, dependent variable}\\\\\n",
        "\\mathbf{x} &\\quad \\text{vector of input values}\\\\\n",
        "\\mathbf{y} &\\quad \\text{vector of measurements}\\\\\n",
        "\\hat{y}_{i} &\\quad \\text{estimate of dependent variable}\\\\\n",
        "\\epsilon_{i} &\\quad \\text{measurement error}\\\\\n",
        "\\theta &\\quad \\text{slope parameter}\\\\\n",
        "\\hat{\\theta} &\\quad \\text{estimated slope parameter}\\\\\n",
        "\\hat{\\theta}_\\text{MSE} &\\quad \\text{slope parameter estimated via the mean squared error}\\\\\n",
        "\\textrm{MSE} &\\quad \\text{mean squared error}\\\\\n",
        "\\end{align}"
      ]
    },
    {
      "cell_type": "markdown",
      "metadata": {
        "execution": {},
        "id": "YM1hEFzVYjEs"
      },
      "source": [
        "---\n",
        "# Bonus"
      ]
    },
    {
      "cell_type": "markdown",
      "metadata": {
        "execution": {},
        "id": "SJlgC0LRYjEs"
      },
      "source": [
        "---\n",
        "## Bonus Section 1: Least Squares Optimization Derivation\n",
        "\n",
        "We will outline here the derivation of the least squares solution.\n",
        "\n",
        "We first set the derivative of the error expression with respect to $\\theta$ equal to zero, \n",
        "\n",
        "\\begin{align}\n",
        "\\frac{d}{d\\theta}\\frac{1}{N}\\sum_{i=1}^N(y_i - \\theta x_i)^2 &= 0 \\\\\n",
        "\\frac{1}{N}\\sum_{i=1}^N-2x_i(y_i - \\theta x_i) &= 0\n",
        "\\end{align}\n",
        "\n",
        "where we used the chain rule. Now solving for $\\theta$, we obtain an optimal value of:\n",
        "\n",
        "\\begin{equation}\n",
        "\\hat\\theta = \\frac{\\sum_{i=1}^N x_i y_i}{\\sum_{i=1}^N x_i^2}\n",
        "\\end{equation}\n",
        "\n",
        "Which we can write in vector notation as:\n",
        "\n",
        "\\begin{equation}\n",
        "\\hat\\theta = \\frac{\\mathbf{x}^\\top \\mathbf{y}}{\\mathbf{x}^\\top \\mathbf{x}}\n",
        "\\end{equation}\n",
        "\n",
        "<br>\n",
        "\n",
        "This is known as solving the *normal equations*. For different ways of obtaining the solution, see the notes on [Least Squares Optimization](https://www.cns.nyu.edu/~eero/NOTES/leastSquares.pdf) by Eero Simoncelli."
      ]
    }
  ],
  "metadata": {
    "celltoolbar": "Slideshow",
    "colab": {
      "collapsed_sections": [],
      "name": "W1D2_Tutorial1",
      "provenance": [],
      "include_colab_link": true
    },
    "kernel": {
      "display_name": "Python 3",
      "language": "python",
      "name": "python3"
    },
    "kernelspec": {
      "display_name": "Python 3",
      "language": "python",
      "name": "python3"
    },
    "language_info": {
      "codemirror_mode": {
        "name": "ipython",
        "version": 3
      },
      "file_extension": ".py",
      "mimetype": "text/x-python",
      "name": "python",
      "nbconvert_exporter": "python",
      "pygments_lexer": "ipython3",
      "version": "3.7.13"
    },
    "widgets": {
      "application/vnd.jupyter.widget-state+json": {
        "312f2b0a932540d4959d44d7ade22a23": {
          "model_module": "@jupyter-widgets/controls",
          "model_name": "TabModel",
          "model_module_version": "1.5.0",
          "state": {
            "_dom_classes": [],
            "_model_module": "@jupyter-widgets/controls",
            "_model_module_version": "1.5.0",
            "_model_name": "TabModel",
            "_titles": {
              "0": "Youtube",
              "1": "Bilibili"
            },
            "_view_count": null,
            "_view_module": "@jupyter-widgets/controls",
            "_view_module_version": "1.5.0",
            "_view_name": "TabView",
            "box_style": "",
            "children": [
              "IPY_MODEL_4706b275414a492ea863ae5c256f485f",
              "IPY_MODEL_16a7a93f38c640d4a8963ecf280b2dcc"
            ],
            "layout": "IPY_MODEL_a93c1a50a62b43feb2f6a9f1b83ccbae",
            "selected_index": 0
          }
        },
        "4706b275414a492ea863ae5c256f485f": {
          "model_module": "@jupyter-widgets/output",
          "model_name": "OutputModel",
          "model_module_version": "1.0.0",
          "state": {
            "_dom_classes": [],
            "_model_module": "@jupyter-widgets/output",
            "_model_module_version": "1.0.0",
            "_model_name": "OutputModel",
            "_view_count": null,
            "_view_module": "@jupyter-widgets/output",
            "_view_module_version": "1.0.0",
            "_view_name": "OutputView",
            "layout": "IPY_MODEL_195438ac44d34d1980403e4e7b3e1e6c",
            "msg_id": "",
            "outputs": [
              {
                "output_type": "stream",
                "name": "stdout",
                "text": [
                  "Video available at https://youtube.com/watch?v=HumajfjJ37E\n"
                ]
              },
              {
                "output_type": "display_data",
                "data": {
                  "text/plain": "<IPython.lib.display.YouTubeVideo at 0x7faf133f0e10>",
                  "text/html": "\n        <iframe\n            width=\"854\"\n            height=\"480\"\n            src=\"https://www.youtube.com/embed/HumajfjJ37E?fs=1&rel=0\"\n            frameborder=\"0\"\n            allowfullscreen\n        ></iframe>\n        ",
                  "image/jpeg": "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\n"
                },
                "metadata": {}
              }
            ]
          }
        },
        "16a7a93f38c640d4a8963ecf280b2dcc": {
          "model_module": "@jupyter-widgets/output",
          "model_name": "OutputModel",
          "model_module_version": "1.0.0",
          "state": {
            "_dom_classes": [],
            "_model_module": "@jupyter-widgets/output",
            "_model_module_version": "1.0.0",
            "_model_name": "OutputModel",
            "_view_count": null,
            "_view_module": "@jupyter-widgets/output",
            "_view_module_version": "1.0.0",
            "_view_name": "OutputView",
            "layout": "IPY_MODEL_ea79b36ae53d4ca4b903dba6b3764c71",
            "msg_id": "",
            "outputs": [
              {
                "output_type": "stream",
                "name": "stdout",
                "text": [
                  "Video available at https://www.bilibili.com/video/BV1tA411e7NW\n"
                ]
              },
              {
                "output_type": "display_data",
                "data": {
                  "text/plain": "<__main__.BiliVideo at 0x7faf0d137550>",
                  "text/html": "\n        <iframe\n            width=\"854\"\n            height=\"480\"\n            src=\"https://player.bilibili.com/player.html?bvid=BV1tA411e7NW&page=1?fs=1\"\n            frameborder=\"0\"\n            allowfullscreen\n        ></iframe>\n        "
                },
                "metadata": {}
              }
            ]
          }
        },
        "a93c1a50a62b43feb2f6a9f1b83ccbae": {
          "model_module": "@jupyter-widgets/base",
          "model_name": "LayoutModel",
          "model_module_version": "1.2.0",
          "state": {
            "_model_module": "@jupyter-widgets/base",
            "_model_module_version": "1.2.0",
            "_model_name": "LayoutModel",
            "_view_count": null,
            "_view_module": "@jupyter-widgets/base",
            "_view_module_version": "1.2.0",
            "_view_name": "LayoutView",
            "align_content": null,
            "align_items": null,
            "align_self": null,
            "border": null,
            "bottom": null,
            "display": null,
            "flex": null,
            "flex_flow": null,
            "grid_area": null,
            "grid_auto_columns": null,
            "grid_auto_flow": null,
            "grid_auto_rows": null,
            "grid_column": null,
            "grid_gap": null,
            "grid_row": null,
            "grid_template_areas": null,
            "grid_template_columns": null,
            "grid_template_rows": null,
            "height": null,
            "justify_content": null,
            "justify_items": null,
            "left": null,
            "margin": null,
            "max_height": null,
            "max_width": null,
            "min_height": null,
            "min_width": null,
            "object_fit": null,
            "object_position": null,
            "order": null,
            "overflow": null,
            "overflow_x": null,
            "overflow_y": null,
            "padding": null,
            "right": null,
            "top": null,
            "visibility": null,
            "width": null
          }
        },
        "195438ac44d34d1980403e4e7b3e1e6c": {
          "model_module": "@jupyter-widgets/base",
          "model_name": "LayoutModel",
          "model_module_version": "1.2.0",
          "state": {
            "_model_module": "@jupyter-widgets/base",
            "_model_module_version": "1.2.0",
            "_model_name": "LayoutModel",
            "_view_count": null,
            "_view_module": "@jupyter-widgets/base",
            "_view_module_version": "1.2.0",
            "_view_name": "LayoutView",
            "align_content": null,
            "align_items": null,
            "align_self": null,
            "border": null,
            "bottom": null,
            "display": null,
            "flex": null,
            "flex_flow": null,
            "grid_area": null,
            "grid_auto_columns": null,
            "grid_auto_flow": null,
            "grid_auto_rows": null,
            "grid_column": null,
            "grid_gap": null,
            "grid_row": null,
            "grid_template_areas": null,
            "grid_template_columns": null,
            "grid_template_rows": null,
            "height": null,
            "justify_content": null,
            "justify_items": null,
            "left": null,
            "margin": null,
            "max_height": null,
            "max_width": null,
            "min_height": null,
            "min_width": null,
            "object_fit": null,
            "object_position": null,
            "order": null,
            "overflow": null,
            "overflow_x": null,
            "overflow_y": null,
            "padding": null,
            "right": null,
            "top": null,
            "visibility": null,
            "width": null
          }
        },
        "ea79b36ae53d4ca4b903dba6b3764c71": {
          "model_module": "@jupyter-widgets/base",
          "model_name": "LayoutModel",
          "model_module_version": "1.2.0",
          "state": {
            "_model_module": "@jupyter-widgets/base",
            "_model_module_version": "1.2.0",
            "_model_name": "LayoutModel",
            "_view_count": null,
            "_view_module": "@jupyter-widgets/base",
            "_view_module_version": "1.2.0",
            "_view_name": "LayoutView",
            "align_content": null,
            "align_items": null,
            "align_self": null,
            "border": null,
            "bottom": null,
            "display": null,
            "flex": null,
            "flex_flow": null,
            "grid_area": null,
            "grid_auto_columns": null,
            "grid_auto_flow": null,
            "grid_auto_rows": null,
            "grid_column": null,
            "grid_gap": null,
            "grid_row": null,
            "grid_template_areas": null,
            "grid_template_columns": null,
            "grid_template_rows": null,
            "height": null,
            "justify_content": null,
            "justify_items": null,
            "left": null,
            "margin": null,
            "max_height": null,
            "max_width": null,
            "min_height": null,
            "min_width": null,
            "object_fit": null,
            "object_position": null,
            "order": null,
            "overflow": null,
            "overflow_x": null,
            "overflow_y": null,
            "padding": null,
            "right": null,
            "top": null,
            "visibility": null,
            "width": null
          }
        },
        "c0a7be602b88432dac0c92908d39a62a": {
          "model_module": "@jupyter-widgets/controls",
          "model_name": "VBoxModel",
          "model_module_version": "1.5.0",
          "state": {
            "_dom_classes": [
              "widget-interact"
            ],
            "_model_module": "@jupyter-widgets/controls",
            "_model_module_version": "1.5.0",
            "_model_name": "VBoxModel",
            "_view_count": null,
            "_view_module": "@jupyter-widgets/controls",
            "_view_module_version": "1.5.0",
            "_view_name": "VBoxView",
            "box_style": "",
            "children": [
              "IPY_MODEL_8666a6a4c331460b9f88d6c15c6579e1",
              "IPY_MODEL_e74606fbda494c409b7ffab21f5eecf6"
            ],
            "layout": "IPY_MODEL_1ba47d90754645f1a5eeb7643aba06e6"
          }
        },
        "8666a6a4c331460b9f88d6c15c6579e1": {
          "model_module": "@jupyter-widgets/controls",
          "model_name": "FloatSliderModel",
          "model_module_version": "1.5.0",
          "state": {
            "_dom_classes": [],
            "_model_module": "@jupyter-widgets/controls",
            "_model_module_version": "1.5.0",
            "_model_name": "FloatSliderModel",
            "_view_count": null,
            "_view_module": "@jupyter-widgets/controls",
            "_view_module_version": "1.5.0",
            "_view_name": "FloatSliderView",
            "continuous_update": true,
            "description": "theta_hat",
            "description_tooltip": null,
            "disabled": false,
            "layout": "IPY_MODEL_735a9599af614895a54819e9a2dafe64",
            "max": 2,
            "min": 0,
            "orientation": "horizontal",
            "readout": true,
            "readout_format": ".2f",
            "step": 0.1,
            "style": "IPY_MODEL_767104fe9e8540d4ba6e984c5ef5f556",
            "value": 1.2
          }
        },
        "e74606fbda494c409b7ffab21f5eecf6": {
          "model_module": "@jupyter-widgets/output",
          "model_name": "OutputModel",
          "model_module_version": "1.0.0",
          "state": {
            "_dom_classes": [],
            "_model_module": "@jupyter-widgets/output",
            "_model_module_version": "1.0.0",
            "_model_name": "OutputModel",
            "_view_count": null,
            "_view_module": "@jupyter-widgets/output",
            "_view_module_version": "1.0.0",
            "_view_name": "OutputView",
            "layout": "IPY_MODEL_67e763efe85b4b35ae86c0c5806706cf",
            "msg_id": "",
            "outputs": [
              {
                "output_type": "display_data",
                "data": {
                  "text/plain": "<Figure size 576x432 with 1 Axes>",
                  "image/png": "iVBORw0KGgoAAAANSUhEUgAABFoAAAM7CAYAAAB6MfTiAAAABHNCSVQICAgIfAhkiAAAAAlwSFlzAAAWJQAAFiUBSVIk8AAAADh0RVh0U29mdHdhcmUAbWF0cGxvdGxpYiB2ZXJzaW9uMy4yLjIsIGh0dHA6Ly9tYXRwbG90bGliLm9yZy+WH4yJAAAgAElEQVR4nOzdeZyVZd3H8c81M6wO24ig7CjgQlLigj64YLinlitJgQuaVk8uaSalPmhaWlaalZpa5lKCSmq5Q2KKiriiKQIJEiooDssgDItzPX+cM8OZYZYzw5lzZvm8X6/z4pz7vq77/s1hTnm+XEuIMSJJkiRJkqStl5frAiRJkiRJkloKgxZJkiRJkqQMMWiRJEmSJEnKEIMWSZIkSZKkDDFokSRJkiRJyhCDFkmSJEmSpAwxaJEkSZIkScoQgxZJkiRJkqQMMWiRJEmSJEnKEIMWSZIkSZKkDDFokSRJkiRJyhCDFkmSJEmSpAwxaJEkSZIkScqQglwXIElSVSGEkcChyZdPxRhn5rIeSZIkKV0hxpjrGiRJqhBC6Ar8G+iVPPQB8IUY48rcVSVJkiSlx6lDkqSm5noSIcvG5KM38OucViRJkiSlyREtkqQmI4RwFPBI8uVFQAB+kXx9VIzxsZwUJkmSJKXJoEWS1CSEELqQmDLUG/h7jPHYEEIA/g58BVhCYgrRqhyWKUmSJNXKqUOSpKbi1yRClsXAqQAx8a8Bp5IIWfoAv8pZdZIkSVIaHNEiScq5EMLhwOPAJuCAGOOLVc6PBGaQ2C3viBjjE1kvUpIkSUqDQYskSZIkSVKGOHVIkiRJkiQpQwxaJEmSJEmSMsSgRZIkSZIkKUMMWiRJkiRJkjLEoEWSJEmSJClDDFokSZIkSZIyxKBFktQkhBDahxBODiH8LYQwP4SwNoSwLITwQgjh3BBC51zXKEmSJNUlxBhzXYMkqZULIXwZ+AOwUy3N/gMcGWOcn52qmo5kyDQc2BPYK/nnICAkmzwTYxzVSPduD4wEDk7WsCuwHdAWWAm8D7wITIkxPrsV9+kHjAOOAfoB2wIfA+8BU4G/xBg/afhPkhkhhEnA/1U5XAz0ijGur8d12gAfAt2rnLoixjgpjf5dgK8DXwa+ROLvpDOwHlhF4u9lPvAq8ALwcozx81quN4ktf676GhhjXLSV12g2cvm5rI8Qwj3A2CqH6/y7CiHkAbsD/wMMI/HZ70/id7YDsJbE7/4c4Bngnhjj0owWL0nNVEGuC5AktW4hhAuAX6Uc2gC8A6wh8R/2RcnjOwHTQgi7xRg/y26VuRNCeBcYzOYvb9m6b0/geuBooLCGZtslH3sB/xtCeBE4I8b4Tj3v9T3gWhJf3lL1ST4OBC4PIXw7xjilPtfOkiLgWOC+evQ5li1DljqFEPKBC0mEIh2radIx+dgB2JdEeAWwMoRwRIxxVn3vqS3l6nNZXyGEY9kyZEnXBcB1tZzvlHz0JxGQ/jSE8AvgyhjjhgbeU5JaBIMWSVLOhBC+D/wy5dBvgKtjjB8nz7cHJgE/TJ7vR+IL5sVZLDPXhuTovn1JjJioagnwAYl/ze5N5fr2BWaHEA6PMc5M5yYhhJ8Al1Y5PJ/EaI8+bB7lVARMDiFsE2P8U9o/RfacTv2CljPqe4PkKJgpwNeqnNoAzAOWk/jivy2JEKBdSpuuQLd63O6J+tYHrGtAn+YqV5/LtIUQugE3b80lqrzeSGKE2SckRk51AXYmEbZAYpTbj4E9Qwhfq88IL0lqaQxaJEk5EUI4CPhFyqHTY4x3pLaJMZYCl4QQdmbzl8vTQggTa5sG0UKVAK8BrwAvAxcBe2Tp3jOBO4DHY4xLUk+EEAYCVwOnJA9tAzwcQtg5xri8touGEI6ncsjyNjAuxvhqSpu9gDtJjG4C+EMI4d8xxpe24ufJlJXJP7sCh4UQesUYP6yrUwihF3B4Ndeoy5VUDlnmA5cBD8cYK4UcyVBmDxIjZ06insFAjPGI+rRvxXL5uazL9SRGNgE8CRxWz/4bgenAP4BngTdijJtSGyRHWB1J4n/Ld0kePoLE72XVAFWSWg0Xw5UkZV1yfYm72fz/Q9dUDVmq+HnK8+2AAxqptKboGyS+wHSJMR4UY/x+jPEvwOpGvm8Z8CCwR4xx/xjjbVVDFoAY48IY41gqT/8qAibWdvEQQlsqB21LgP1TQ5bk9V8G9icxigYS/0iU2i+X1gP3Jp/nA+PT7Hdqsj3AX5PXqVVyKteFKYfmAHvHGCdXDVkAYowbY4wvxRgvJfH7cxiJ0QjKjFx9LtMSQjiKzb+Pj5D4PauXGOMNMcZDYozXxxhfqRqyJNt8HmP8B7AfiVFV5c4LIVSdCihJrYZBiyQpFy4kMS0EYBFwRR3tZ5P419VyuzVCTU1SjPEvMcZ3Y5ZXr48xvhpjPC7G+HqaXSaSCEvKnVhH+1OAHVNefz/GuKKGWoqB76ccOjCEcGCadTW2P6Y8Py3NPqfX0L82xwBtUl7/IMa4Kp2OMeGpGOO8ulsrHbn6XKYjGWT/IfmyBPh2Y98zxriSxMi2coXAiMa+ryQ1VQYtkqSsCiFsC5yfcuia5BShGiX/JfXTlEMDGqE0bYXk4pePpRzqF0KobrHWcielPP8Q+Fsdt5gKfFRD/5yJMc4G/p18uXMIYWRt7UMI+5NYPwXgreSInXTsUuV1WmvgqFX6FYn1kwAuiTH+N0v3rfq7vEO1rSSpFTBokSRl25lsXjxxJfDnNPuljmjZJqMVKVM+rfK6c3WNklMKDkk59Hh10xJSJc8/nnLo2AZV2DhSR6WcXmOrhNRFcNMdzQJbvpdNercb5UYI4XA2/449B9yUxdu3qfK6SUyjkqRcMGiRJGXbuJTnk+sazZIi9T/i0+2j7BqQ8ryMxC441dmNyjvipDs6I7VdvxBCUY0ts+tuNgeBJ9c0kieEUMjmkTgbk/3SVfW9rO/CpmrhQgidgVuTL9cDZ2Z5atPBKc83AU1hwWpJygmDFklS1oQQvgQMTTlUn+1wu6Q8X5uZipQpyVEqR6Ucml3LKJWqa+zMT/M2Vds1ibV6ktuRP5J82Yma16c5mcTaFQD/iDF+Uo/bvFDl9Y0hhL3r0V8t3y9IbMsOcGWM8d1s3Ti5M9yPUw7dUc/fb0lqUQxaJEnZdHjK89XAv9LplBwhkLqDxeKtKSKEMCCEEBvpcdrW1NaMnUvl6S131dJ2QJXX6f59vl/HdXLpTynPa5o+lDpt6E81tKnJE1T++XsBs0II00MI/xtC+GJyq91mzc9mw4QQRgPfSr58g8o7tTXG/UIIoXMIYe8QwtUk1mfpnjz9ApUXr5akVqcg1wVIklqVg1KedwY2hNCgpSay9i+1qlsI4QvApJRD/2HzFIbqVF1vZGWat6q6y06nalvlxqPAMqAncFAIYWCMcWH5yRDCEKB8odylVF44uE4xxg0hhHHAU2yedhWALycfAOtCCHOAWcCzwFPp7kxUVQihvlNObogxnl93M2VackrabcmXn5OYMlTrmkcNvM/jVA7Lq1oO3AD8PLk4tiS1WgYtkqSsCCHksfmL5tba2qBlHYkRAo3hg0a6bpOU3EXqb0D75KHPgdPq+KJVWOX1ujRvV7VdkwlaYoybQgh3AReRCEBOBy5PaZI6yuWuhnwRjjE+m9zV6M9UnoJXrgOJLXVHkBhhVBpCeIDENJLmsrWzn836u5bNo7t+XY+drDKpBLgF+LMhiyQZtEiSsqc/lUcyPE/iP87TMYzNW4UuijEu25pCkv2P2JprqGJdloeAQSmHfxxjfK6OrlV3J0k3dKjarup1cu2PJIIWgFNDCJNijGXJKT3jq7RrkBjjKyGEYcBxwKnAoWwOuapqD3wDGBNCuCjGeEM9blXfsOOderavlp/N+gkhjAK+nXz5HyqHe5mWGuDkA11JbDteSCL0/DFwcQjhKuAnWV6IV5KaFIMWSVK2DKnyekyMcUk6HZPTIcqDlhmZLEoNE0JoC0yl8iil38YYr02j+2dVXrcnvQWOqwYKVa+TUzHGd0IIs0iMKOlHYkrPNBLBQa9ksxdjjHO38j5lwAPAAyGEdsDewD7Al5L3rvpZKwCuDyGUxRhvTPMehh1NXHLtqtvZvNX3WTHGdEeH1VuM8dJqasgDRgM/IfG71wa4AigCnEomqdVyMVxJUrakjnrYBHyYTqcQwvbA7imHZmSwJjVACKENiR2jUr+M30piuko61lR5Xe12yNWo2i7dEVHZlDpapXy60Bk1nN9qMcb1McbnYoy/ijGOjzHuTGL02GXAiirNfxFC6JPJ+yunrgF2TD6/Lcb4dLYLiDGWxRifIhG4Tkk5dV5ytI0ktUoGLZKkbClKeb48+a/y6Tg25fkG4OHMlaT6CiEUAH+l8t/LH4Gz6zFVoOq2rztU22pLVdstT7NfNt3L5rVkjgshDAKOSb5eC0xu7AJijItjjFeRCChT1zNqB0xo7Pur8YUQdgP+N/nyI+AHOSyHGOPnwFlAccrh/62huSS1eE4dkiRlS+q0j/pM+Rib8vwfMcaq/0pfbyGEniQWFG0Mv0z+C2+Lk1xr5B7ghJTDd5CYslCf9RiqTp3pD7yZRr/+dVwn52KMq5ML0H6TxOK097F5LZkHYoyrs1jLByGEc4DUkQ4HZOv+DeFnM2092DxlaAdgRT13cFuY0v79GOOArS0o+bv/GIl1gQD+Z2uvKUnNlUGLJClbUkdRpjWaJYSwM3BgyqHbM1RLB2rfpnRr3NtI182pZMhyN3ByyuE/AxPqMTqp3L+rvB4O/CONfsNTnm8AFtTzvtnyJxJBCyTWTUk9nm3PkJiqVb7TU69a2jYFfjabt8Upz7vnrApJyjGDFklStqRurdolzT4Xs/lfbWfFGB/NbElKRzJkuRP4esrhO4EzGhCyEGP8bwjhPTavL3FQml1T2z2XnK7QFD0NLGLzlrsAC8nB+kIxxhhCSA1a6r2ttJqkjcCn9Wjfjsrbqq9gc+BdvGXzBkv93/atHn0oSc2VQYskKVsWpTzvEULoEWP8uKbGIYS9gdNSDv0oU4XEGBexOcBRLZK7itxB5SlcdwGnNyRkSfE34MLk81EhhH4xxsU1NQ4h9KNy0PLAVty7USXDjTuASSmH78jFdrchhCIS00zKpbUIda742UxPjHEm9RgxEkI4jcojqoYn3+tMS/2M/qcRri9JzYKL4UqSsuU5Ev8KW25MTQ1DCN1JrAVS/v9Tf4gx/rMRa1M1kiHLH9k8DQYS04dO28qQBRJf+sqvkUdil5zaXM7m34cSKu9wsoUQwowQQix/bFWlDXMlibVZyh8/2ZqLhRAOCiEMbEDXc6n833vTtqYOqSYhhG8AQ1MOuXC5pFbLoEWSlBUxxpVA6kKUl1b3xTGEMAB4EhicPPQWcH5j19eahBAGpIYQydEXVdsE4Bbg1JTD9wCnZiBkIcb4bxKhTbkzQwhn1lDv2VTeLeeXMcamuONQhZiwKeWxtWHPocC8EMKfQwgHhjpWPg0h5IcQLqJygFVC4u9QTVQ6n80s1bFfCOH3yV2z6mobQghnUXkNrU9I/O+HJLVKTh2SJGXT5SQWuswnMZ3hxRDCr4CXSawfcDBwBtAp2f5d4LAY47pqrtUqhBAuBS6t5lTblOcHhhBKq2lzV4zxrAbe+iQgNfiIQE/g0XrsbnJxjHFOLed/QGIXnPLA7dYQwjEkFi39EOgNnAIcndJnNvCLdAtoYQqA8cnHf0MIzwAvkViAtJjE56oniUWDTwB2qtL/ghjjR+ncKITweAPquznG+GAD+jU7OfxcZks74NvAt0MIr5NYX2gOia2kS5Lntyex2PPxVP5d20Bi1JtrtEhqtQxaJElZE2N8JYTwf8BVyUM9gGtqaP4M8PUY49KsFNd0FZD4UlObUEObNtUcS1fHau5xSD2vUdPfLQAxxo9DCEcBTwD9koePTT6qMwc4Osa4No1790x5/kYa7Zu6qgv/9iUxpeub1bStag1wXozxj/W4X0N2/mlIONNc5epzmQtfovLuWbX5gMQi2U82Yj2S1OQ5dUiSlFUxxqtJjFqpaVHOd4GzgYMNWVq+GONcYHfgJhKBQHU+JRHO7V3bAsrlQgg9gF1SDl25tXU2AVeQ2Or8OuBVtgxeqvMB8Ctgl3qGLNLbJILSdH/X3gEmArsaskgShBwsgC9JEiGEAhJThXYisSXoh8C/Y4yv5rQw5UwIoQMwCugPdAOWk9i55F8xxrS3JQ4hnAjcl3z5JvDFXOz405hCCNsAuwGDSIwMKySxdXMJiekdbwL/aWk/t7IvhNCRRBi6E4mRYtuQmB60Cvgv8Fq6U9IkqbUwaJEkSS1KCOFG4H+TL0+KMd6fy3okSVLr4tQhSZLU0hyU/PMt4IFcFiJJklofgxZJktRihBCKgC8kX17l1BlJkpRtTh2SJEmSJEnKEEe0SJIkSZIkZYhBiyRJkiRJUoYYtEiSJEmSJGWIQYskSZIkSVKGGLRIkiRJkiRliEFLExdCuCeEcE+u65AkSZIkSXUryHUBqtMuw4cPHw6MzXUhkiRJkiS1IqEhnRzRIkmSJEmSlCEGLZIkSZIkSRli0CJJkiRJkpQhBi2SJEmSJEkZYtAiSZIkSZKUIQYtkiRJkiRJGWLQIkmSJEmSlCEGLZIkSZIkSRli0CJJkiRJkpQhBi2SJEmSJEkZYtAiSZIkSZKUIQW5LkCNp7S0lNWrV1NSUsLGjRuJMea6JKnJCiHQpk0bOnXqROfOnWnfvn2uS5IkSZLUDBm0tFBr1qxhyZIlhitSmmKMbNiwgU8//ZTi4mL69OlDYWFhrsuSJEmS1MwYtLRApaWlFSFL586d6datG+3btycvz5liUk3KysooLS1lxYoVrF69miVLljBw4EDatWuX69IkSZIkNSMGLS3Q6tWrK0KWXr16EULIdUlSk5eXl0fHjh3p0KEDkPgcrVq1ih49euS4MkmSJEnNiUMcWqCSkhIAunXrZsgi1VMIgW7dugGbP0uSJEmSlC6DlhZo48aNAC7mKTVQ+Wen/LMkSZIkSekyaGmByhfAdU0WqWHKR4K5mLQkSZKk+vKbuCRV4ZQ7SZIkSQ1l0CJJkiRJkpQhBi2SJEmSJEkZYtAiSZIkSZKUIQYtkiRJkiRJGVKQ6wKklqR8EdWnn36aUaNG5bYYSZIkSdpK85aVMHPBctaUbqKwfQEjB3VnSM9OuS6rSTNokWoxadIkrrjiirTa1rYV8MqVK7n++usBOP/88+natWtG6pMkSZKkxjBzwXJumD6flxYWb3Fun4FFnDd6MCMHdc9BZU2fQYuUpp49e9bZZueddwagY8eOlY6vXLmyIrA57bTTDFokSZIkNVmTZy9m4tQ3Kavh35JfWljMuNtncc3xwzh5777ZLa4ZMGiR0rR06dI628ydOzcLlUiSJElS45i5YHmtIUu5sgiXTJ1D724dHNlShYvhSpIkSZIkAG6YPr/OkKVcWYTfTJ/fuAU1QwYtUgaFEAghMGPGjIpjo0aNYuDAgRWvBw4cWNEuhOCiuZIkSZKahHnLSqpdk6U2sxYWM29ZSSNV1Dw5dUhqZEVFRXTv3p3ly5cD0L17d/Lz8yudlyRJkqRcm7lgeYP7uRPRZgYtUiObOnUqixYtqhjVMnv2bAYMGJDboiRJkiSpijWlm6o9Xpo3p+J5+7JhafdrrQxaWrMQcl1B5tWyxfLW2n777Ws8N336dIYOHdpo95YkSZKkxlbYvvqIoDTvzYrn1QUtNfVrrXw3pDQtW7asxnMbN27MYiWSJEmSlHkN3T3IXYcqM2iR0hQbcbSMJEmSJOXakJ6d2GdgUb0WxB0xsMj1Wapw16HWLMaW95AkSZIkNdh5oweTl+YqE3kBzh09uHELaoYMWiRJkiRJEpCYBvSz43evM2zJC3DN8cOcNlQNpw5JkiRJkqQKY/buR59uHfnN9PnMqmYa0YiBRZw7erAhSw0MWqQsyMvbPHjMtV4kSZIkNXUjB3Vn5KDuzFtWwg+eeJINm8poW5DHLw4/0DVZ6mDQImVB586dK56vXLkyh5VIkiRJUvqG9OzEHv26VXqt2rlGi5QFXbt2pXfv3gD86U9/YtOmTTmuSJIkSZLUGAxapCw555xzALjxxhspLCykX79+DBgwgK9//es5rkySJEmSlClOHZKy5Ec/+hGdO3fmrrvuYu7cuSxZsoQYIwMGDMh1aZIkSZKkDHFEi1SLSZMmEWNMewHb8rajRo3a4lxeXh7nnnsus2fPpqSkhLKyMmKMzJgxI7NFS5IkSZJyxqBFkiRJkiQpQwxaJEmSJEmSMsSgRZIkSZIkKUMMWiRJkiRJkjLEoEWSJEmSJClDDFokSZIkSZIyxKBFkiRJkiQpQwxaJEmSJEmSMsSgRZIkSZIkKUMMWiRJkiRJkjLEoEWSJEmSJClDDFokSZIkSZIyxKBFkiRJkiQpQwxaJEmSJEmSMsSgRZIkSZIkKUMMWiRJkiRJkjLEoEXKgkWLFhFCIITAokWLcl1Oq+H7LkmSJKVv3rIS/jRzITdOn8+fZi5k3rKSXJfULBXkugCpuSgtLeXPf/4zf//735kzZw6ffPIJbdu2pVevXhxwwAGccsopHHzwwbkuU5IkSZLqZeaC5dwwfT4vLSze4tw+A4so3G4t/Yo65qCy5smgRUrDU089xRlnnMGSJUsqjnXu3Jn169czd+5c5s6dy6233sqRRx7JXXfdxbbbbpvDaiVJkiQpPZNnL2bi1Dcpi9Wff2lhMauWLOGQXXoytHeX7BbXTDl1SKrD5MmTOeqoo1iyZAm9e/fmtttuo7i4mFWrVlFaWso777zD+eefT0FBAY899hj77rsvH3/8ca7LliRJkqRazVywvNaQpVyMMG3uMhYXr81OYc2cQYtUi3feeYczzjiDTZs2sfvuu/Paa68xYcIEunXrVtFml1124de//jUPPfQQbdu2ZcGCBYwdOzaHVUuSJElS3W6YPr/OkKVcjDDrvU8bt6AWwqBFjaYlLKR06aWXsnbtWtq1a8d9993HdtttV2Pbo446iksvvRSA6dOn88gjj9TYdv78+Zx22mn06dOHdu3a0a9fP8455xw+/PDDGvssWbKECy64gKFDh7LNNtvQrl07evXqxZ577skFF1zA7Nmza+z7yCOPcMIJJ9C7d2/atWtHt27dOPDAA7npppvYsGFDtX1GjRpFCIFJkyaxceNGfvnLX7LXXnvRtWtXQgjMmDGDr371q4QQOP7442u8N8B//vOfikVpn3322S3Of/LJJ1x66aXssccedOnShfbt27PjjjsyYcIE/v3vf9d67Q8++ICzzz6bvn370q5dO/r06cPpp5/OggULau0nSZIktWbzlpVUuyZLbT5Yua5Zfq/LNtdoUcbVtZDSeaMHM3JQ9xxUVj8fffQRDz74IACnnHIKO++8c519LrjgAn7xi19QUlLC7373O77yla9s0WbWrFmcddZZlJSUUFhYSH5+Pv/973+55ZZbuO+++3jqqacYPnx4pT5vvPEGBx98MCtWrAAgPz+fzp07s3TpUj766CNeffVVVqxYwR133FGp37p16xg/fjz3339/xbHOnTuzatUqnn32WZ599lnuvPNOHn300UqjdFKVlpYyatQonn/+eQoKCujUqRMhBADGjRvHww8/zCOPPEJxcTFFRUXVXuPuu+8GYODAgey///6Vzk2bNo2TTjqJlStXAtCmTRvatm3LwoULWbhwIXfffTe33nor48eP3+K6r776KoccckjF+9KhQwdWrVrFHXfcwdSpU7n11lurrUeSJElq7WYuWN7gfkN6dspwNS2LI1qUUZNnL2bc7bNqTEZfWljMuNtnMWX2f7NcWf3NmDGDsrIyAE444YS0+hQWFnLYYYcB8Oyzz7Jp06Yt2px99tkMHDiQWbNmUVJSwmeffcYTTzxBv379KC4u5rjjjqOkpHJKfOGFF7JixQqGDx/OCy+8wMaNGykuLqa0tJR58+Zx3XXXMXTo0C3u9a1vfYv777+fHXfckXvuuYdVq1axatUq1q5dy0MPPcSOO+7Iiy++yBlnnFHjz/S73/2OOXPm8Kc//YnVq1dTXFzMJ598wrBhwzjmmGPo1q0bGzZsYMqUKTVeozxoGTduXEVIA/Dmm29y7LHHsnLlSs466yzefvtt1q1bx5o1a3j//ff5zne+w4YNG5gwYQIvv/xypWuWlJRw3HHHsWLFCvr168eTTz7JZ599RklJCc8//zx9+/bl7LPPrrEmSZIkqTVbU7rldxWA0rw5FY/69NNmBi3KmHQXUiqLcMnUOQ1OULMldcrKHnvskXa/L33pSwAVYUFVBQUFPPXUU+yzzz4AhBA47LDDePzxx2nbti2LFy/m5ptvrtTn+eefB+C3v/0t++67b0VY0bZtWwYPHsyFF17ID37wg0p9nn32We6++2569OjBjBkzGDt2LJ07dwagffv2HHvssTzzzDNss802PPjgg7z++uvV/jxr1qzhL3/5C6eddhodOnQAYNttt6WoqIh27dpx8sknA3DnnXdW2/+FF16omMYzbty4SufOP/981q1bx8SJE/nDH/7ArrvuSn5+PgD9+vXjd7/7Heeeey6bNm3iqquuqtT3pptuYvHixbRt25bHH3+cQw89tOJ92W+//Zg2bVqlUEeSJEnSZoXtq5/gUpr3ZsWjPv20WasKWkIIHUMIR4YQLg0hTA0hvB9CiMnHpDr69g4hfCeEcF8IYUEIYV3ysTCE8NcQwpez9GM0WfVZSKkswm+mz2/cgrbSp59uXuipPts1d+++eVpU6jXKnXPOOfTo0WOL47vuuisnnngiAPfee2+lc127dgUS05nSdfvttwPwjW98g759+1bbpk+fPhx88MEAPPHEE9W2GTp0KMccc0yN9ykPT1IDlVR33XUXkAg/Bg0aVHF80aJF/POf/6SgoICLLrqoxuuXTxmaNm0an3/+ecXx8vfopJNOYtddd92i3/bbb88555xT43UlSZKk1qyhyzk0h2Ugcq1VBS3APsCjwE+A44B+6XQKIfQF/gv8DjgR2AkoAyIwAPg6MD2EcHsIIT/zZTd9DVlIadbC4la5kNKXv34NsLgAACAASURBVFxzJld+bs6cOWzcuLHi+NFHHw3AqaeeyoUXXsgzzzzD2rW1b602c+ZMIBG4bL/99jU+pk2bBlDt6BuAkSNH1nqfkSNHstNOOwGbpwiV27BhA5MnTwbYYo2V8vrKysrYbbfdaqzviCOOAOCzzz6rCK42bNjAm28mEvZ03k9JkiRJlQ3p2Yl9Bla/xmJNenft4PosaWhtQQvACmA68AvgFGBpGn3ygZDsdyrQO8a4DVAIDAUeSrY7A5iU4Xqbha1ZSKmpSh3FUt3IlJosX775Z6puJEzv3r1r7Ft+btOmTRQXbw6ufv7zn3PwwQezZs0afvWrXzFq1Cg6d+7MXnvtxf/93//xwQcfbHGt8h2MVq9ezbJly2p8lJaWAtQY3FQ3+qaq8lEtVYOWRx99lOLiYtq2bcuYMWOqra+srKzW+lLfz/Iai4uLK9a/qe397NOnT521S5IkSa3VeaMHk5fmbPsQYMSO6Y/0b81aW9DybIyxKMZ4SIzx4hjjvcD6NPqtAPZM9rszxvghQIyxLMb4NonRMY8n254fQmjfOOU3XQ1dEKkpL6S02267VTx/9dVX0+732muvAYmFcfv375+RWrp27co///lPnn32WS6++GJGjhxJQUEBr7zyCldeeSWDBw/mr3/9a6U+5dNsbrrpJmKMdT6q7lhUrnzNlNqUBy3/+c9/KkaqwOZpQ0cfffQWuxqV19ezZ8+06osxMmDAgLTeL0mSJEl1GzmoOz87fvc6w5YQ4JBdetKvqGN2CmvmWlXQEmP8vO5W1fZbFWOs8Zt2jDECf0y+LAS2XDCihWvogkhNeSGlgw8+mLy8xEfkgQceSKvPmjVreOqppwA44IADKCjY8uerbvRJ1XMFBQXVbpW8//77c+211/Lcc8+xcuVKHnroIXbffXfWrVvHGWecwbJlyyrabr/99kDNU4Iyaccdd6yYYlQerqxYsYJHHnkE2HLaUGp9y5cv57PPPqvX/YqKiioCoHTeT0mSJEnVG7N3P+6aMIIRNUwjGjGwiOP26MPQ3l2yXFnz1aqClkZWmvK81a3T0hIXUtphhx346le/CiQWXn333Xfr7PPrX/+6Ymvm73znO9W2efrpp2vsX35u2LBhtGnTptZ7le8cNHXqVABKS0t57rnnKs6XBx//+Mc/6qw7E8rDlClTplRs97x+/Xq6d+/OUUcdtUX78vo+//xzHnvssXrdq23btgwbNgyo/f385z//Wa/rSpIkSa3RyEHdmXz2fjx5wYEcNGQ79ttxWw4ash1PXnAgk8/ez5Es9WTQkjmjkn9uAOal0yGE8EpdD2CXxio4kxqykNKIgUVNfiGln/zkJ3To0IH169dz0kknVVovpKrHHnusYgvigw8+mK985SvVtrv55purvc67777L/fffD1BpPZNNmzZRVlZW433Lt1wGKkbgAHzrW98C4K233uKmm26qsT8kFprdsGFDrW3qcvLJJ9OuXTtWrFjB3//+94qRLV//+terDY0GDx7MqFGjAPjxj3/MqlWrar1+6po1sPk9uu+++6oNwT7++OMttsmWJEmSVLMhPTuxR79ujNhxW/bo163Jf19rqgxaMiCEMBAo30d2coxxdS7ryZX6LKSUF+Dc0YMbt6AMGDp0KLfddhv5+fm8+eab7LHHHvzxj39k5cqVFW3mzZvH97//fY499lg2bNjAjjvuyF/+8hdCqP7N2LhxI4ceeiizZ88GIMbItGnTOPzww1m/fj19+/attC3xkiVLGDx4MFdddRWvvfZaxSKwkNid6Jvf/CYA22yzDQcddFDFuYMOOojTTz8dgO9+97tccMEFvPfeexXn169fz4svvsjFF19M//79+fjjj7fqveratWvFNtA/+9nPKtZqKV+/pTo33ngjhYWFzJs3j3333ZeHHnqoYnFeSEz9ueuuuxg9ejQ//OEPK/X99re/TZ8+fVi/fj1HHHEE06dPJzGLD2bNmsUhhxxSa0AlSZIkSY2h6S6Q0UyEEDoA9wEdgeXAJen2jTHumcb1XwGGN7jALCpfSGni1DcpizW3ywtwzfHDmvS0oVRjx46lqKiICRMmsGTJEiZMmMCECRPo0qUL69evrxQMHHbYYdx9991st912NV7vlltu4ayzzmKfffahsLCQsrKyit10unbtytSpU+ncuXOlPu+99x6XXXYZl112Gfn5+XTp0oU1a9ZUjEJp27Ytd9xxxxbrutx8883k5+dz2223cf3113P99ddTWFhImzZtWLVqVaUgoqZgqD7Gjx/P/fffzyuvvALALrvswj777FNj+y984Qs8/vjjnHjiicydO5evfe1r5Ofn07VrV9auXcu6desq2u64446V+nbu3Jm//e1vHHrooSxatIhDDjmEjh07kpeXx5o1a+jUqRO33XbbFrsdSZIkSVJjckTLVgghFAB/AfYENgLfKN+RqLVKZyGluyaM4OS9+2a5sq1zxBFHsGDBAn7/+99z1FFH0bt3b0pLS2nTpg1DhgxhwoQJTJs2jSeeeKLWkAVgxIgRvPzyy4wfP54uXbqwadMmevfuzVlnncWbb77JXnvtVal97969efjhh7ngggvYd9992WGHHVizZg0FBQXstttufPe73+Wtt97ixBNP3OJebdu25dZbb+X555/ntNNOY6edduLzzz9nzZo19OjRg1GjRnH55ZczZ86cWrdJTteRRx5Z6eevbTRLuZEjRzJv3jyuu+46DjzwQLp27crKlSvJz89n11135Zvf/Cb33HMP119//RZ999prL+bMmcOZZ55J79692bRpE126dOHUU0/l1VdfrTXkkSRJkqTGEMqH2rdWIYRFQH/gihjjpHr0yycRspwMbAJOiTHe3wj1vTJ8+PDh5SME0vHOO+8AsOuuud38aN6yEmYuWM6a0k0Uti9g5KDuzvFTs9FUPkeSJElSNk2aMWnz81GTajzWSjRo2L9ThxogGbLcTSJk+Rz4ZmOELM3dkJ6dDFYkSZIkqZVqrf/4btBST8mQ5R5gDJtDlsm5rUqSJEmSpKZh5oLl3DB9Pi8tLN7i3D4Dizhv9OBms2ZnQ7hGSz2kTBdKDVnuzW1VkiRJkiQ1DZNnL2bc7bOqDVkAXlpYzLjbZzFl9n+zXFn2GLSkKWUkS/maLN8wZJEkSZIkKWHmguV17kILUBbhkqlzmLlgeXYKy7JWF7SEELqFELqXP9j8HnRMPR5CKEzpU74myxgSIctYpwtJkiRJkrTZDdPn1xmylCuL8Jvp8xu3oBxpdUEL8BrwScqjfJ/hH1Q5/tuUPiOBryefR+DGEMLSWh5jsvKTSJIkSZLUBMxbVlLjdKGazFpYzLxlJY1UUe64GG56UgOpNkDPOtp3aMRaJEmSJElqUho6DWjmguUtbieiVhe0xBgHNKDPDBq4f7YkSZIkSS3dmtJN1R4vzZtT8bx92bC0+zVnrS5okSRJkiRJmVXYvvp4oTTvzYrn1QUtNfVrzlrjGi2SJEmSJCmDRg7qXu3xQZ+uZr/FH5NXVlavfs1Zy4uOJEmSJElSVg3p2Yl9BhZVLIi73/tv8Nd7f1xx/g97Deano8dV6jNiYFGLW58FDFokSZIkSVIGnDd6MDdfdgt33XvpFucGrMyv9DovwLmjB2ertKwyaJEkSZIkSVtn2jRGHnooI2s4PenQiyue5wW45vhhLXLaEBi0SJIkSZKkhnrySTj88BpP/3rkWG7Yf2zF6xEDizh39OAWG7KAQYskSZIkSc3evGUlzFywnDWlmyhsX8DIQd0bd/2TJ56AI46o+fyVVzLvW+fTdcFyLsxWTU2EQYskSZIkSc3UzAXLuWH6/IpFaFPtM7CI8zI9euTxx+HII2s+/5OfwKWJNVqGQKsIVqoyaJEkSZIkqRmaPHsxE6e+SVms/vxLC4sZd/ssrjl+GCfv3Xer7jVo1ny+eclfam5w9dXwox9t1T1airxcFyApcwYMGEAIgTvuuCMn/RtLU61LkiRJypWZC5bXGrKUK4twydQ5zFywvGE3evRRJh18Rc0hy09/CjEasqQwaJFqMWnSJEIIWzzatWtHr169OPzww7ntttvYuHFjrkuVJEmS1IrcMH1+nSFLubIIv5k+v17XH/zCPAgBvvKV6htcc00iYJk4sV7XbQ2cOiSlqWfPnhXPS0pK+Oijj/joo4948sknueWWW3jyySfp1q1bDiuEnXbaifbt29OlS5ec1iFJkiSp8cxbVlLtmiy1mbWwmHnLSupcM2XI8+8y9sf31tzg5z+HH/ygXvdubRzRIqVp6dKlFY/PPvuM999/n7POOguAl19+mXPPPTfHFcL06dOZO3cuxx13XK5LkSRJktRIGjoNqNZ+Z50FIdQcsvz854kRLIYsdTJokRqoX79+/OEPf+DLX/4yAFOmTGHNmjU5rkqSJElSS7emdFO1x0vz5lQ80u43YUJiitBtt1V/s+uuM2CpJ4MWaSsdkdw7fsOGDcyfv+W8x5KSEq655hr2228/ioqKaNeuHX379uXrX/86L7zwQo3XXbFiBZdffjnDhw+nc+fOtG3blu23355hw4ZxzjnnMH369C361LVo7Lp167jqqqvYbbfd6NChAz169OCoo46q9lqpZsyYUbE+TW3K28yYMWOLcy+++CI//OEPOeCAA+jfvz/t27ena9eu7Lvvvlx77bUNDqnWrVvHddddx3777Ue3bt1o06YN2223HbvtthunnnoqDzzwQIOuK0mSJDVVhe2rXwWkNO/Niked/U47LRGw/PGP1d/kl79MBCwXXriV1bY+rtEibaUYN69A9fnnn1c69/rrr3PMMcewZMkSAPLz8+nYsSNLlixh8uTJTJkyhauvvpqJVRaQWrJkCSNHjmTx4sUA5OXl0aVLF5YvX86yZct48803mTt3LqNHj067zuLiYg455BBee+01AAoKCti4cSOPPfYYjz/+OL/73e8a9POna7/99qt43rFjRzp27MiKFSuYNWsWs2bN4s477+Tpp5+mR48eaV+zpKSEAw44gDfeeANIBD1dunRh5cqVLF++nHfeeYdnnnmGE044IeM/jyRJkpQrIwd1b3i/cePg7rtrbjRgACxc2LDCBDiiRdpqTzzxBJD4kj9w4MCK4x999BGHH344S5Ys4fjjj+fll19m3bp1rF69mmXLlnHZZZeRn5/Pj370Ix588MFK15w0aRKLFy9mwIABTJs2jQ0bNlBcXMz69etZtGgRN910E/vuu2+96jzzzDN57bXXaNeuHTfffDMlJSWsWLGCRYsW8bWvfY3zzjuPTz75ZOvfkBocc8wxTJ48mY8++ojPPvuM4uJi1q5dy9SpU9l55515++23Oeecc+p1zRtuuIE33niDoqIiHnjgAdatW8eKFStYv349H3zwAXfeeSeHHXZYI/1EkiRJUm4M6dmJfQYW1avP3f/8DUO271xzyLLTTokRLIYsW80RLa3cjEUzmLFoRq7L2GqjBoxi1IBRWb3n4sWLueqqq/jnP/8JJIKEbbfdtuL8pZdeyscff8zYsWO55557KvXt0aMHV155Jd26deP73/8+kyZN4mtf+1rF+eeffx6An/70p5VGreTn59O/f/96BxIvvfQSf/vb3wD4/e9/zxlnnFFxrn///tx3332MGjWK5557rl7XrY+HH354i2MdOnTguOOOY5999mGnnXbiwQcfZPHixfTr1y+ta5a/TxdddBHHH398xfG8vDx69erFuHHjGDduXGZ+AEmSJKkJOW/0YMbdPqvOLZ5/8/DPOfadf9XcYMgQePfdzBbXyjmiRUrT9ttvX/HYZptt6N+/P7feeisAu+yyC7///e8r2paWlvKXv/wFgB/+8Ic1XnP8+PEAvPHGGyxbtqzieNeuXYHEqJhMuPfexMrhffv25fTTT9/ifH5+PpdddllG7tUQvXv35otf/CIxxorwJB2Zfp8kSZKk5mLkoO787PjdyathGcXfPnQti649uuaQZZddEiNYDFkyzhEtUppSg5BU48eP55ZbbqF9+/YVx1555RVKS0sB0p668v7779OzZ08Ajj76aF544QUuueQS5s6dy/HHH8///M//0Llz5wbV/vLLLwMwatSoGhe0PfDAAykoKGDTpupXMN9aZWVl3Hvvvdx77728/vrrfPLJJxXvUary9WzScfTRR/PXv/6V3/72t3zyySeMGTOG/fffn+7dGzZnVZIkSWpOxuzdjz7dOvKb6fOZtbAYgD8/8BxfnfvfmjsNHQpvvZWlClsng5ZWLhdTbpqr8kVvY4wsXbqUhx9+mEsuuYQ777yT3XffnYsuuqii7YcffljxvKaApqq1a9dWPP/BD37AG2+8wZQpU7j11lu59dZbCSEwdOhQjjjiCM4880x23nnntGv/+OOPgcTIkZq0b9+ebbfdNu1662Pt2rUcffTRPP300xXH2rZtS1FREW3atAESi/Vu3LiRzz77LO3rjh07lpdeeokbb7yxIsQBGDRoEIcddhhnnHEGe+65Z2Z/GEmSJKkJGTmoe2KR2zp2CGXYMEhuIqHG5dQhqZ5CCOywww6cffbZ/O1vfyOEwMUXX1yxVgtU3n1o3bp1xBjrfIwaNaqiT5s2bZg8eTKvv/46l19+OV/+8pfp2LEjb731Ftdddx1Dhw7ll7/8ZTZ/7K1y9dVX8/TTT9OhQwd+/etf8/7771NaWsqnn37K0qVLWbp0KSNGjAAq7+KUjuuvv553332Xn/70pxx55JF07dqVBQsW8Pvf/5699tqL888/vzF+JEmSJKlpCKH2kGWPPRJThAxZssagRdoKo0aNYty4ccQY+d73vlcRsGy//fYVbd5///0GX/+LX/wiV1xxBdOnT2flypVMmzaNAw88kM8//7xi1Es6yrdM/uCDD2pss379ej799NNqzxUUbB78Vt10H4BVq1bVeO3ykSaXX345559/Pv369dtiCtPSpUtr7F+XQYMGMXHiRB599FE+/fRTXnjhhYrFhW+44YZqF+KVJEmSmrW6ApY990wELK++mr2aBBi0SFvt8ssvJz8/n7fffps///nPAOy99960bdsWgL///e8ZuU9BQQGjR4/mkUceoV27dsQYmTZtWlp999prLwCeeeaZGkeM/Otf/6pxfZZu3bpVPP/vf6uf7zlr1qwa71/eZ4899qj2/KJFi1iwYEGN/esjLy+Pfffdl/vvv79i96KnnnoqI9eWJEmScq6ugAUSAUtynUZln0GLtJV22mknxowZA8BPfvITNm7cyDbbbMPYsWMBuPbaa1m8eHGt1yguLq70ev369TW2bdeuHfn5+UAiVEhHeX2LFy+uCINSlZWVcdVVV9XYf8iQIXTo0AGABx54oNr+P/vZz2rs36VLF4AaR+BccsklNRdfi9rep/z8/IqwK933SZIkSWqy0g1Y6jkVX5nntw8pAyZOnEgIgUWLFnH77bcD8NOf/pRevXqxfPly9ttvP+666y5KSkoq+nzyySc88MADHHfccZxyyimVrte/f38mTpzIiy++WClMWLBgAd/4xjdYu3YteXl5HH744WnVN2LECI499lgAvv3tb3PrrbdWXHfx4sWMGTOGF154gY4dO1bbv02bNpxwwgkVP9eUKVPYsGEDAO+++y7HHXccc+bMqfH+RxxxBABXXXUVU6dOrRg5s3DhQsaOHcuUKVMqjZpJ14gRIzj33HOZMWNGpUV0P/zwQ773ve9VjJI56qij6n1tSZIkqUkwYGl2DFqkDPjCF75QEWRcffXVrF+/nh122IFp06YxZMgQPvzwQ8aPH0/Xrl3ZdtttKSwspEePHpx44ok8+OCDlJWVVbresmXLuOaaa9hvv/3o2LEjRUVFdOjQgcGDB3PfffcRQuCXv/wlu+22W9o1/vGPf+SLX/wipaWlfOtb36JTp05069aN/v3788ADD3D99dez3Xbb1dj/Zz/7Gb169aKkpIQxY8ZQWFhIly5d2GWXXXj66aeZOnVqjX2vuuoqevbsSUlJCSeccAIdOnSga9eu7Ljjjvz1r3/l6quvZtiwYWn/LOVWrlzJjTfeyMEHH1zx8xQWFtK7d29++9vfAnDBBRekHUhJkiRJTYYBS7Nl0CJlyI9//GMAlixZwi233ALArrvuypw5c7jllls47LDD6N69O6tXrybGyKBBgzjppJP4wx/+wJQpUypd68knn2TixIkccMAB9O3bl3Xr1gGJRV9PP/10Zs+eXe/ddLbddluef/55rrjiCnbZZRfy8vIoKCjgiCOO4KmnnuI73/lOrf379OnDrFmzOPPMMyu2iS4sLGT8+PG8+uqrHHTQQTX27d+/Py+//DITJkygV69eQGI76aOPPponnniCiRMn1utnKXfvvfdyxRVXMHr0aAYOHMiGDRvYuHEj/fv3Z8yYMUyfPp1f/epXDbq2JEmSlBMGLM1eqO9WqsquEMIrw4cPH/7KK6+k3eedd94BEl/yJTWMnyNJkiRlVV3hChiuZF8afylbKqi7iSRJkiRJahQGLC2OQYskSZIkSdlmwNJiGbRIkiRJkpQtBiwtnkGLJEmSJEmNzYCl1TBokSRJkiSpsRiwtDoGLZIkSZIkZZoBS6tl0CJJkiRJUqbUFbCEAGVl2alFOZGX6wIkqamJ/suCJEmS6iuE2kOWgoLECBZDlhbPoKUFCskPd5kfYKlByoOWkM5wT0mSJLVudQUsHTokApaNG7NXk3LKoKUFatOmDQClpaU5rkRqnso/O+WfJUmSJGkLdQUsnTolApa1a7NXk5oEg5YWqFOnTgCsWLHCKRBSPcUYWbFiBbD5syRJkiRVqCtg6dIlEbCsXp29mtSkuBhuC9S5c2eKi4tZnfxgd+vWjfbt2xNCcCqEVI0YIzFGSktLWbFiBatXryaEQJcuXXJdmiRJkpqKur5LbbstLF+enVrUpBm0tEDt27enT58+LFmyhNWrV1cELpLSE0KgT58+tGvXLtelSJIkKdfqClh69oSlS7NTi5oFg5YWqrCwkIEDB7Jq1SpKSkrYuHGj04ikWoQQaNOmDZ06daJLly6GLJIkSa1dXQFL796wZEl2alGzYtDSgrVr144ePXrQo0ePXJciSZIkSc1DXQFL376weHF2alGz5GK4kiRJkiTVtcjtwIGJRW4NWVQHgxZJkiRJUutVV8AyeHAiYHnvvezVpGbNoEWSJEmS1PrUFbDsumsiYJk3L3s1qUUwaJEkSZIktR51BSxDhyYClrffzl5NalEMWiRJkiRJLV9dAcsXv5gIWN56K3s1qUUyaJEkSZIktVx1BSzDhycCltdfz15NatEMWiRJkiRJLUuMdQcs++yTaPfKK9mrS62CQYskSZIkqWUoD1jyavmq+z//k2g3a1b26lKrUpDrAiRJkiRJqq95y0qYuWA5a0o3Udgun9MP2Kn2DvvvD88+m53i1KoZtEiSJEmSmo2ZC5Zzw/T5vLSwGGJk0c+Pqb3DqFHw9NNZqU0CgxZJkiRJUjMxefZiJk59k7KyNAKW0aNh2rTsFCalMGiRJEmSJDV5MxcsZ+IDc3jv2toDlmcGDuf0MVdy14QRjMxSbVIqgxZJkiRJUtMWIyMHb8d7tTR5esc9Of2kK5Lt4TfT5zNyUPeslCelMmiRJEmSJDVNZWWQn19rk48KO7DreV+j66ZvVDo+a2Ex85aVMKRnp8asUNqCQYskSZIkqWlJI2BZ3rELgy44qtY2MxcsN2hR1hm0SJIkSZKahjQClmWFRYz47p0AtC+bU2vbNaWbMlaalK5WFbSEEDoCBwF7AsOTf/ZLnr4ixjgpjWv0BC4Gjk72XQf8G/gzcHuMMWa+ckmSJElqwT7/HApq/3r6QaftGPmdP1U61r5sWK19Ctu3qq+8aiJa22/dPsCjDe0cQtgTeALYNnloDdAJ2D/5ODGEcGyMccPWFipJkiRJLV4aAQsDBzLvhTc47Nf/qvflXQxXuZCX6wJyYAUwHfgFcAqwNJ1OIYQuwD9IhCxzgb1jjJ2AbYD/BTYChwPXN0LNkiRJktRybNoEIdQesgweDDHCe+8xpGcn9hlYVK9bjBhY5PosyonWFrQ8G2MsijEeEmO8OMZ4L7A+zb4XAduTmCp0VIzxZYAY44YY4++A/0u2+1YIYUjGK5ckSZKk5q48YGnTpuY2u+2WCFjmzat0+LzRg8kL6d0mL8C5owdvRaFSw7WqoCXG+PlWdB+f/PPeGOPCas7fSGIqUT7wjWrOS5IkSVLrtHFj3QHL7rsnApZ//7va0yMHdednx+9eZ9iSF+Ca44c5bUg506qCloYKIezM5kVzH6uuTYxxDfBs8uVh2ahLkiRJkpq08oClbdua2+yxRyJgmVP7DkIAY/bux10TRjCihmlEIwYWcdeEEZy8d9+GVixttda2GG5DfSHl+Vu1tHsLOBLYLZ2LhhBeSaPZLulcS5IkSZKajA0boF272tvsvTe89FK9Lz1yUHdGDurOvGUlzFywnDWlmyhsX8DIQd1dk0VNgkFLenqlPP+glnbl5zqHEAqTo1wkSZIkqXVYuxa22ab2NvvtB88/v9W3GtKzk8GKmiSDlvSkfnrX1tIu9VwnEmu21CjGuGddN06OehleVztJkiRJypnPPoPCwtrbHHAA/Kv+WzRLzY1BiyRJkqRWwakmjWDNGuhUx3s4ahQ8/XRWypGaAoOW9JSkPO8IrK6hXcca+kiSJEnKkZkLlnPD9Pm8tLB4i3P7DCzivNGD3aGmvkpKoHPnWpss3bYdN99/CZNGTcpOTVITYdCSng9Tnvem5qCld/LP1a7PIkmSJOXe5NmLmTj1Tcpi9edfWljMuNtncc3xw9ypJh2rV0OXLnU2G/WngxJ/NnI5UlPk9s7pSd1p6As1ttp87u1GrEWSJElSGmb+P3t3Hx9XWef//30NsaQlATIMRGgJDEwCgo1boIkwWMAIhbWuGl2qLl1vxFVMSAAAIABJREFUKuvqaisKS6uutj9XW0VXW3VFlspqf64WteIiCoVwUzZoEm5qK6BJaKAFbGhICwklLWGu7x8nKWk7c+bMZM6Zu9fz8ZhH5+ZzZj7rI9tm3lzX5+odcA1ZxiWstGT9ZrX3DgTTWDF64QXnmOZ0IYu1WnbPl4LpCShQBC3edEvaNnb/0mQFxpgjJL1l7OGGIJoCAAAAkNqqtp60Icu4hJVWt/X421Ax2rXLCViOPtq9zlrnBoCgxQtrrZX047GH7zPGnJyk7F8kVUl6VdJPgukMAAAAQDLd/UNJZ7K46egbVHc/oxYlSYODTsASDrvXEbAAhyi7oMUYU2OMiYzf9Nr/BtMmPm+MOfhssm9I2iFn4O1txpizx95vijHm45K+PFZ3g7W2O4j/WwAAAAAkl+02oLLfPvT8807AcswxqWuMIWABXJTjMNxHJJ2U5Plrxm7jfiTpQ+MPrLUvGGPmSbpD0hmSHjTGDEmqlPS6sbINkq7yoWcAAAAAGRgeGU36/Eho8/77lYlGz9eVvJ07peOOc685/HBpZCSYfoAiVo5BS9astQ8ZY86UdK2keZJOlPSSnGG5P5L0Q2ttIo8tAgAAAJBUVZn8q85IaMv++8mClj2vjOqm9j4Nj4yqqrJC8VhEDbXVvvWZd/390utf715TVeUc5wzAk7ILWqy1J0/y+n5Jnxm7AQAAAChA8Vgkq+u+f+/WQ55rioa1uKU+6/csSDt2SMcf714TDjtbiQBkpOxmtAAAAAAofQ211WqKphnk6lFn36AWrOnQzV3bc/J+efXss86MFbeQpbbWmb9CyAJkhaAFAAAAQEla3FKvkMnNeyWstGT95uIdlvvMM07AMn166poZM5yAZceO4PoCShBBCwAAAICSFI9FtKJ1Zk7DltVtPbl5s6Bs3+4ELDNmpK6JRp2AZXsJrNgBCgBBCwAAAICSNX92ndYubFZzjrYRdfQNqru/CAbDPvWUE7DU1aWuaWhwApath86lAZC9shuGCwAAAKC8xGMRxWMRdfcP6Zo7NmjfaEJTKkI677hT9f17n8j4/dp7Bwr3JKInn3RWqLg54wzp0UcDaQcoRwQtAAAAAMpCQ221ZtXV7H887dXDktaNhDbvv5/sCOjhkdHcNzdZW7dKp57qXvOmN0mbNgXTD1DGCFoAAAAAlKWqyuRfh0ZCW/bfTxa0pLouL3p6nC1Abs45R+rqCqYfAMxoAQAAAFCe4rFIoNfl1F/+4sxgcQtZzj3XmcFCyAIEiqAFAAAAQFlqqK1WU4ZDcpuj4fzOZ3n8cSdgOf301DVveYsTsDzwQHB9AdiPoAUAAABA2VrcUu/5+OeQkRa11PvbUCqPPuoELGeckbrmooucgGXjxuD6AnAIghYAAAAAZSsei+jds6Z7qn3PWTOC3za0ZYsTsLzxjalr5s51Apa77w6uLwApEbQAAAAAKFvtvQP61SPPeKr95cNPq713wOeOxmza5AQsjYcO491v3jwnYLn99mB6AuAJQQsAAACAsrWqrUcJ6602YaXVbT3+NvTww07AMmtW6pp3vcsJWG691d9eAGSFoAUAAABAWeruH1Jn32BG13T0Daq7fyj3zTz4oBOwnH126pr3vtcJWH71q9x/PoCcIWgBAAAAUJay3QaU0+1DnZ1OwDJ7duqa973PCVh+/vPcfS4A31TkuwEAAAAAyIfhkdGkz4+a/qyuy8imTe7bgyTpiiuktWsn/1kAAkXQAgAAAKAsVVUm/zo0ap7L6jpPHn7YfXuQJH34w9IPf5j9ZwDIK7YOAQAAAChL2R7VnNV1XmawXHmls0WIkAUoagQtAAAAAMpSQ221mqLhjK5pjobVUFvt/QIPM1geuPxcLbvnS9INN2TUC4DCxNYhAAAAAGVrcUu9Fqzp8HTEc8hIi1rqvb3xH/4gnXuue81Xv6pl5+719n4AigYrWgAAAACUrXgsohWtMxUy7nUhI61sbUy/bai93VnB4hayfO1rzhahpUszb7jAdfcP6ZFtu/T0rj366wsv6/lhgiSUH1a0AAAAAChr82fXaUbNNK1u61FH3+AhrzdHw1rUUu8estx/vzRnjvsHfeMb0mc/O8luC1N774BWtfWos29Quyt2aiT0siRp7c6n1P/M77U43f9+QAkhaAEAAABQ9uKxiOKxiLr7h/SOn03Tqwmrw0JGt75vjvtMlvvuky680P3Nv/Ut6dOfzmm/hWRd1zYtXb8l5farzr5BLVjToZWtjbp89onBNgfkAUELAAAAAIxpqK3W8UdNPeBxUnffLbW0uL/Zd74jffKTOeyu8LT3DriGLOMSVlqyfrOm10xlZQtKHjNaAAAAAMCru+5yZrC4hSz/+Z/ODJYSD1kkaVVbj6dBwpITtqxu6/G3IaAAELQAAAAAQDp33OEELBdfnLrmBz9wApaPfzy4vvKou39InUlm2rjp6BtUd/+QTx0BhYGgBQAAAABS+d3vnIDl0ktT19x4oxOw/NM/BddXAWjvHQj0OqBYMKMFAAAAAA5y7qbntWLVnyTdl7roppukD30oqJYKzvDIaNLnKxMzNWr6M74OKBUELQAAAAAw7oYbdO/HXMIVSfrxj6UFC4Lpp4BVVSb/OlmZaNRIaEvG1wGlgp9wAAAAoEx19w+pvXdAwyOjqqqsUDwWcT/KuJR9//vSJz7hXvOTn0gf+EAw/RSBbE8P4tQhlDqCFgAAAKDMtPcOaFVbT9JBpk3RsBa31JfPl+HvfEdatMi95mc/k+bPD6afItJQW62maDijgbjN0XD5hnkoGwzDBQAAAMrIuq5tWrCmI+WX486+QS1Y06Gbu7YH3Fmw3vyLPzhDbt1Clh/9yBlyS8iS0uKWeoWMt9qQkRa11PvbEFAAWNECAAAAlIn23gEtXb9FCetel7DSkvWbNb1masmtbDlv3QO65Po73Yu+973024ggydkGtKJ1Ztqfq5CRVrY2ltzPE5AMK1oAAACAMrGqrSdtyDIuYaXVbT3+NhSklSslY9xDluuvd1awELJkZP7sOq1d2Kw3vD71lqD62mpNr5kaYFdA/hC0AAAAAGWgu38oo1kaktTRN6ju/iGfOgrIV77ibBFaujR1zY03OgHLxz4WXF8l5ulde/QXl5+Vv+wYKostaYBE0AIAAACUhfbegUCvy7vly52A5QtfSF1z001OwLJwYXB9laBMt6QV7c8U4BFBCwAAAFAGhkdGkz4/Etq8/5bJdQXr3/7NCViWLUtds3atE7B86ENBdVXSynpLGpAEQQsAAABQBqoqk5+DMRLasv+WyXUFZ8kSJ2D5939PXfM//+MELFdcEVxfJa5st6QBLghaAAAAgDKQ7WkvBX9KzNVXOwHL176WumbdOidgef/7g+urTJTdljTAgyKJpwEAAABMRkNttZqi4YxWHzRHw2qoTX2STF5ddZX07W+71/ziF9J73hNMP2Uq1dayysTMrK4DSgErWgAAAIAysbilXiHjrTZkpEUt9f42lI1PftJZweIWstxyi7OChZDFd6m2llUmGvffMrkOKAUELQAAAECZiMciWtE6M23YEjLSytbGwto29M//7AQs3/te6ppbb3UClne+M7i+ylzJbkkDJoGgBQAAACgj82fXae3CZjVHw0lfb46GtXZhsy6ffWLAnaXw0Y86AcsPfpC65rbbnIBl3rzg+oKk17akZaKgt6QBOcB6LQAAAKDMxGMRxWMRdfcP6Zo7NmjfaEJTKkK6bu6cwvkC/MEPSj/+sXvN7bdLc+cG0w9SWtxSrwVrOjwd8VywW9KAHGJFCwAAAFCmGmqrNauuRs2nHKNZdTWFEbL8wz84K1jcQpY773RWsBCyFISi3pIG+IAVLQAAAADy7/LLpZ//3L3m7ruliy4Kpp8AdPcP6ZFtu/avKOruHyqMsCsL82fXaUbNNK1u61FHkpOtmqNhLWqpJ2RBWSBoAQAAAJA/ra3Sr37lXnPffdKcOcH0E4D23gGtautRZ9+gdlfs3P/8JY9tVFM0rMVFGkhM3JLW3jug4ZFRVVVWKB6LFG2ABGSDoAUAAABA8N7xDuk3v3Gv+b//k+LxYPoJyLqubVq6fkvKeSadfYNasKZDK1sbC2cgcYYaaqsJVlDWmNECAAAAIDiXXebMYHELWR54wJnBUmIhS3vvgGvIMi5hpSXrN6u9dyCYxgDkFEELAAAAAP+97W1OwHL77alrOjqcgOXcc4PrK0Cr2no8ncwjOWHL6rYefxsC4AuCFgAAAAD+ueACJ2Bpa0td09XlBCxNTcH1FbDu/iF1JhkS66ajb1Dd/UM+dQTALwQtAAAAAHLvvPOcgGXjxtQ1Dz/sBCznnBNcX3mS7TYgtg8BxYdhuAAAAAByZ/Zs6cEH3Ws2bZLe9KZg+ikQwyOjSZ+vTMzM6joAhYugBQAAAMDk/c3fSH/8o3vN5s3STPdgoVRVVSb/6lWZaMzqOgCFi/+vBQAAAJC9M8+UHnvMvebRR6UzzgimnwIVj0UCvQ5A/jCjBQAAAEDmTjvNmcHiFrI8/rgzg6XMQxZJaqitVlM0nNE1zdGwGmqrfeoIgF8IWgAAAAB4F406AUt3d+qav/zFCVhOPz24vorA4pZ6hYy32pCRFrXU+9sQAF8QtAAAAABIb8YMJ2B58snUNT09TsDS0BBYW8UkHotoRevMtGFLyEgrWxvZNgQUKWa0AAAAAEjtuOOknTvda554QjrllGD6KXLzZ9dpRs00rW7rUUff4CGvN0fDWtRST8gCFDGCFgAAAACHCoelXbvca/r6pJNPDqSdUhKPRRSPRdTdP6T23gENj4yqqrJC8ViEmSxACSBoyYIx5mJJV0pqllQryUr6q6TfS7rBWntfHtsDAAAAsnfEEdKePe41Tz0l1dUF008Ja6itJlgBShAzWjJgHNdL2iDp7yXVSUrICVqikj4g6V5jzH/kr0sAAAAgc/928ZedGSxuIcv27c4MFkIWAEiJFS2Z+ZCkj43d/4Wkz1lreyTJGHOapK9Jeqekq4wx91trf5WXLgEAAACPlr59hQ7fs8+96JlnpBNOCKYhAChyrGjJzD+O/dkr6f3jIYskWWv/ImeVy9axpy4PuDcAAADAu1NPlYxxD1mefdZZwULIAgCeEbRk5vixP/9orR09+EVr7SuSNo09rAqsKwAAAMCrujpni9DWralrduxwApbjj09dAwBIiqAlM+P/Gr3JGHPItitjzOsk/c3YwwcD6woAAABI54QTnIBl+/bUNc895wQstbXB9QUAJYYZLZn5vqTLJMUk/dQYs9Ra2yvtn9GyUtIpkp6Q9K10b2aMecjDZ56efbsAAAAoe8ceKw0MuNcMDko1NcH0AwAljhUtGbDW3irpKkn7JL1XUo8xZo8xZo+kP0u6UE4Y02StfTFvjQIAAABHH+2sYHELWXbvdlawELIAQM6woiVD1tpvG2N6JP1Q0nGSpk54eYqc2SxHSRr08F5np6sZW/VyVnbdAgAAoOwccYT7Ec2S9MIL0pFHBtMPAJQZVrRkwBgzzRizTtJvJG2TdImkY8dul0h6TNICSZ3GmMa8NQoAAIDyM2WKs4LFLWR58UVnBQshCwD4hhUtmblOzrHNf5H0FmvtyITX7jTG/J+cU4caJH1P0luCbxEAAABlxZj0NUNDUhWHYgJAEFjR4pExplrSP409/N5BIYskyVr7sqTvjj083xhzXFD9AQAAoMwYkz5kGR52VrAQsgBAYAhavGvQayuAnnCp65lwP+pfOwAAAChLXgKWl15yApYjjgimJwDAfmwd8i4x4f5JLnW1E+4P+dQLAAAAyo2XLUJ79khTp6avAwD4hhUt3v1Z0stj9z9qjDkkpDLGHKbXthftkjPLBQAAAMielxUsL7/srGAhZAGAvCNo8Whs/sqNYw/PknSrMWamMSY0dmuU9FtJ543VfNta+2o+egUAAEAJ8BKwjIw4AUtlZTA9AQDSYutQZq6VVC/p0gm3vWOvHT6h7qeSvhJsawAAACgJXrYI7d3rHOcMACg4rGjJwNiqlr+V9PeSfi3paUnj/xJul/RLSfOstR9gNQsAAAAy4mUFy969zgoWQhYAKFisaMmQtdZK+sXYDQAAAJgcLytY9u2TXvc6/3sBAEwaQQsAAACQD14ClldekSr4lR0Aigl/awMAAABBImABgJLG394AAABAELwELKOj0mGH+d8LAMA3BC0AAACAnwhYAKCsELQAAAAAfvASsLz6qhTiIFAAKCUELQAAAEAuEbAAQFkjaAEAAABygYAFACCCFgAAAGByvAQsiYS3OgBA0SNoAQAAALJBwAIASIKgBQAAAMgEAQsAwAVBCwAAAOAFAQsAwAOCFgAAABS07v4htfcOaHhkVFWVFYrHImqorQ6uAQ/BybK7vygZo2WELABQ9ghaAAAAUJDaewe0qq1HnX2Dh7zWFA1rcUu94rGIfw14CU2s1bJ7l/nXAwCg6HC2HAAAAArOuq5tWrCmI2nIIkmdfYNasKZDN3dtz/2HG5M+ZLHWuQEAcBCCFgAAABSU9t4BLV2/RYk0OUbCSkvWb1Z770BuPpiABQCQA2wdAgAAwKTkeobKqraetCHLuISVVrf1TG4LkcctQgAAeEHQAgAAgKz4MUOlu38o5XahVDr6BtXdP5R5uEPAAgDwAVuHAAAAkDG/Zqhkuw0oo+vYIgQA8BErWgAAAJCRTGeoTK+Z6nlly/DIaNLnR0Kb99+vTDR6vu4ArGABAASAFS0AAADISDYzVLyqqkz+3wFHQlv23zK5ThIrWAAAgSJoAQAAgGeTmaHiRbZDbZNeR8ACAMgDghYAAAB45vcMlYbaajVFwxm9d3M0fOAgXAIWAEAeEbQAAADAM7cZKuO3TK5LZnFLvUIexqlIUshIi1rqnQcELACAAkDQAgAAAM98maFykHgsohWtM9OGLSEjrWxtVLz+WAIWAEDB4NQhAACAHOjuH1J774CGR0ZVVVmheCxy4HaWEpHTGSou5s+u04yaaVrd1qOOJDNhmqNhrfvn86SVad6IcAUAEDCCFgAAgElo7x3QqraepANim6JhLW6pzzqcKETjM1QyGYh7yAwVj+KxiOKxiLr7h3TNHRu0bzShKRUh/fqD89JfTMACAMgTtg4BAABkaV3XNi1Y05EydOjsG9SCNR26uWt7wJ35K+sZKllqqK3WrLoa/W7hd/XrD652L2aLEAAgzwhaAAAAstDeO6Cl67cokeY7fcJKS9Zvzvq0nkKU8QyVya7oMUbLLlruXkPAAgAoEGwdAgAAyMKqtp60Icu4hJVWt/WU1BYiLzNUFiXZNpXRLJt0A24lwhUAQMEhaAEAAMhQd/9QRjNKJKmjb1Dd/UMlNSA31QyV6+bOOeT/zoxm2RCwAACKGEELAABAhrLdBtTeO1BSQcu48RkqEx9PtK5rm+s2q/FZNltXMuQWAFD8CFoAAAAyNDwymvT5kdDm/fcrE42erytlXmbZPPk1AhYAQOkgaAEAAMhQVWXyX6FGQlv2308WtKS6rpS5zbIhYAEAlKLy+9ceAABgkrIdaltKw3C9SDXLhoAFAFDKON4ZAAAgQw211WqKhjO6pjkaLsn5LG4OnmXz5NfmpQ1ZTr72N7rp/7b62RYAAL5iRQsAAEAWFrfUa8GaDk9HPIeMtKil3v+mCsz4TBovK1hOvvY3h1wHAEAxImgBAADIQjwW0YrWmWkHvYaMtLK1sey2DUnSp97WoE+lqZkYsIwrx1k2AIDSwb9iAAAAWZo/u04zaqZpdVuPOpLMImmOhrWopb78QhZj0pYkC1jGld3/XgCAkkLQAgAAMAnxWETxWETd/UO65o4N2jea0JSKkK6bO6fsZrIsu2h52hq3gEUqz1k2AIDSQtACAACQAw211ZpVV3PA47JhjJalKUkXsEjlO8sGAFBaOHUIAAAA2TEm/TYha7Wu8ymF0pSV8ywbAEBpYUULAAAAMuNhBovsaxOCmWUDACgnBC0AAADwJsOAZaKJs2zaewc0PDKqqsoKxWOR8tpmBQAoeQQtAAAAcDeJgOVgDbXVBCsAgJJG0AIAAIDkchiwAABQLghaAAAAcCACFgAAskbQAgAAAAcBCwAAk0bQAgAAUO4IWAAAyBmCFgAAgHJFwAIAQM4RtAAAAJQbAhYAAHxD0AIAAFAuCFgAAPAdQQsAAECpI2ABACAwBC0AAAClioAFAIDAEbQAAACUGgIWAADyhqAFAACgVBCwAACQdwQtAAAAxY6ABQCAgkHQAgAAUKwIWAAAKDgELQAAAMWGgAUAgIJF0AIAAFAMrJVCIW91AAAgbwhaAAAAChkBCwAARcXDv9pIxhhzpDHmWmPMA8aYncaYvcaYp40x9xhjlhljjs53jwAAoIhZ62wRSheyWEvIAgBAAWFFSxaMMRdJ+qmk2rGn9knaI2n62O1CSbdI2pSP/gAAQBFjBQsAAEWNFS0ZMsbEJd0mJ2RZL2m2pEprbY2kIyQ1SfqKpBfy1iQAACg+rGABAKAksKIlA8aYaZJ+LGmqpO9YaxdNfN1au0dS19gNAAAgvURCOuyw9HWEKwAAFAWClswskHSKpB2S/jXPvQAAgGJGwAIAQEkiaMnMP479+XNr7UheOwEAAMXp1VelCg+/ghGwAABQlAhaPDLGHC7pnLGHDxlj6iR9QdJlcua17JLUKel6a+1tHt/zIQ9lp2fRLgAAKDQELAAAlAWG4Xp3sqQpY/dPkfQnSVdKOk7SS2N/zpP0G2PMfxljTD6aBAAABWZ01Blymy5kYcgtAAAlgRUt3tVMuP8FSbsl/b2kX1trXxlb4fKNsec+KulxSf/h9obW2rPTfejYqpezsm0aAADkySuvSFOmpK8jXAEAoKSwosW70EH3F1prf2GtfUWSrLXbJL1P0h/Haj5njCHIAgCgzIRGX9Wyi5anD1lYwQIAQEkiCPBuaML9HmvtLQcXWGsTxphvSFor6RhJZ0vqCKg/AACQT/v2OQFLOoQrAACUNFa0ePfMhPt/dql7bML9k3zqBQAAFIq9e50ZLIcf7l7HChYAAMoCQYtH1tpBHRi2pDJxCC6/TQEAUKpGRpyApbLSvY6ABQCAskLQkpkNY3++waXmjAn3+3zsBQAA5MPLLzsBy9Sp7nUELAAAlCWClszcNPZnzBjzroNfNMaEJF099vAZSQ8H1RgAAPDZnj1OwDJtmnsdAQsAAGWNoCUD1tr7Jf1i7OGNxpj3jJ8sNHa8808lNY69/nlrbSIPbQIAgFwaHnYCliOOcK8jYAEAAOLUoWx8SNJxkubICV32GmP2SKqZULPcWvujPPQGAEDWuvuH1N47oOGRUVVVVigei6ihtjrfbeXP0JB05JHp6whXAADABAQtGbLWvmSMuUjSRyQtkPRGSdVytgrdL+k71toH8tgiAAAZae8d0Kq2HnX2DR7yWlM0rMUt9YrHInnoLE9efFE66qj0dQQsAAAgCYKWLIxtCbpx7AYAQNFa17VNS9dvUSJFZtDZN6gFazq0srVRl88+MdjmgrZ7t1RTk76OgAUAALhgRgsAAGWqvXfANWQZl7DSkvWb1d47EExjQdu1y5nBki5kYQYLAADwgKAFAIAytaqtJ23IMi5hpdVtPf42FLTnn3cClnDYvY6ABQAAZICgBQCAMtTdP5R0Joubjr5BdfcP+dRRgAYGnIAlkmbuDAELAADIQs6DFmPMT40xF+b6fQEAQO5kuw2oqLcPPfecE7Ace6x7HQELAACYBD9WtMyX1GaM6THG/Ksx5jgfPgMAAEzC8Mho0udHQpv33zK5rqDt2OEELLW17nUELAAAIAf82jpkJJ0iaYWk7caYnxtj5vr0WQAAIENVlckPHhwJbdl/y+S6gvTXvzoBy/HHu9cRsAAAgBzyI2g5W9IPJA3JCVxeJ6lV0m+NMX3GmC8YY6b78LkAAMCjeCzNfJIcXxeoZ55xApYTTnCvI2ABAAA+yHnQYq19xFr7cUnHS1oo6QE5gYuRdJKk5ZL6jDG/NsbMM8YwkBcAgIA11FarKZrmtJ2DNEfDaqit9qmjHNi2zQlYZsxwryNgAQAAPvIt5LDWvmytvclae76kMyWtkvS8nMClQtI8Sb+WtM0Y8/8ZY07yqxcAAHCoxS31ChlvtSEjLWqp97ehbD31lBOwnJTmVwkCFgAAEIBAVpNYax+31l4labqkD0i6e+wlI+kESZ+X9IQx5nZjTKsxpog2gAMAUJzisYhWtM5MG7aEjLSytbHwtg1t3eoELCef7F5HwAIAAAIU6LYda+0+a+3PrLVvkxSTMyz3r3ICl5CkiyX9XNLTxpivGmNODLI/AADKzfzZdVq7sFnNKbYRNUfDWruwWZfPLqB/knt7nYDl1FPd6whYAABAHuRt5Yi1ts8Yc4+k0yW9W5KVE7hI0nGSrpX0WWPMTZKWWGt356dTAABKWzwWUTwWUXf/kK65Y4P2jSY0pSKk6+bOKayZLN3d0mmnpa8jXAEAAHkUeNBijDle0oclfURSdOJLkh6XdJekd0k6Uc6JRVdKepsx5lxr7c6A2wUAoGw01FZrVl3NAY8LwuOPS2eckb6OgAUAABSAQLYOGcc8Y8wtkp6S9GVJp8gJV/ZJ+h9JF1hrz7TWLpZ0sqR3SnpwrCYq6YtB9AoAAArEo486W4TShSxsEQIAAAXE1xUtYycJLZSzguWE8afH/uyVdIOkm6y1z0+8zlprJd1qjLlN0u/kzG65zM9eAQBAgdiyRWpsdK8JhaRXXw2mHwAAgAzkPGgZOzHoXXK2/LTICVbGw5VROUc6X2+tbUv3XtbahDHmv+UELXW57hUAABSQTZukWbPca6ZMkfbuDaYfAACALPixouUZSePnP44HLE9J+i9Ja6y1/Rm+3+DYn4floDcAAFBoHn5YOvts95rqaunFF4PpBwAAYBL8CFqOHfvzVUm/lXS9pNum5u1KAAAgAElEQVTHtgNl4xlJP8pFYwAAoIB0dUlNTe41xxwjDQwE0w8AAEAO+LWiZY2k/7LWPjPZN7PW/knOjBcAAFAK/vAH6dxz3WuOP1569tlg+gEAAMghP4KWk6y1CR/eFwAAFLMHHpDicfeaE0+Utm0Lph8AAAAf5Px4Z0IWAABwgI0bnWOa3UKWU091jmgmZAEAAEXO1+OdAQBAGbvnHumtb3WvecMbpMceC6YfwAfd/UN6ZNsu7RtNaEpFSN39Q2qorc53WwCAPCJoAQAAuXXXXdLFF7vXvOlNznHOQJFq7x3QqrYedfYNanfFzv3PX/LYRjVFw1rcUq94LOLyDgCAUpXzrUMAAKBMbdjgbBFyC1nOOcfZIkTIgiK2rmubFqzpUGffYNLXO/sGtWBNh27u2h5wZwCAQkDQAgAAJue3v3UClrlzU9e8+c1OwNLVFVxfgA/aewe0dP0WJax7XcJKS9ZvVnsvx5MDQLkhaAEAANm59VYnYHn721PXzJnjBCy//31wfQE+WtXWkzZkGZew0uq2Hn8bAgAUHIIWAACQmVtucQKWv/u71DVve5sTsNx3X3B9AT7r7h9KuV0olY6+QXX3D/nUEQCgEBG0AAAAb375Sydgefe7U9dcdpkTsNx5Z3B9AQHJdhsQ24cAoLxw6hAAAHC3bp30vve517zjHdL//m8w/QB5MjwymvT5ysTMrK4DAJQmghYAAJDcT34iXXGFe01rq7PSBSgDVZXJf3WuTDRmdR0AoDTxtz4AADjAGzY+rvlfutm9aP586Wc/C6YhoEDEY5FArwMAFCeCFgAA4LjjDi27dLl7zRVXSGvXBtMPUGAaaqvVFA1nNBC3ORpWQ221j10BAAoNw3ABACh399/vDLm99NLUNR/6kDPklpAFZW5xS71CxlttyEiLWur9bQgAUHAIWgAAKFf33usELHPmpCx56O1nOQHLTTcF1xdQwOKxiFa0zkwbtoSMtLK1kW1DAFCG2DoEAEC5uftuqaXFteS+BXN0z0cukiSdHURPQBGZP7tOM2qmaXVbjzqSbCNqjoa1qKWekAUAyhRBCwAA5eKuu6SLL3Yt+fkX36tHLzozoIaA4hWPRRSPRdTdP6T23gENj4yqqrJC8ViEmSwAUOYIWgAAgeDLSB5t2CDNnete84tfaNkxW4LpByghDbXV/F0GADgAQQsAwFftvQNa1daT9JSOpmhYi1le75/f/U762791r/nlL6XWVuf+vQQtAAAAk8UwXACAb9Z1bdOCNR0pj0Lt7BvUgjUdurlre8Cdlbjf/MYZcusWstxyizPkdjxkAQAAQE4QtAAAfNHeO6Cl67coYd3rElZasn6z2nsHgmmslP3v/zoByzvekbrm1ludgOWd7wyuLwAAgDJC0AIA8MWqtp60Icu4hJVWt/X421Apu+UWJ2BxC09++1snYJk3L7i+AAAAyhBBCwAg57r7h1JuF0qlo29Q3f1DPnVUon75Sydgefe7U9fcfrsTsFx2WXB9AQAAlDGCFgBAzmW7DYjtQx7dfLMTsLz3valrNmxwApZ0pw0BAAAgpzh1CACQc8Mjo0mfHwlt3n+/MtHo+TqM+elPpQ98wL3mrruklpZg+gEAAMAhCFoAADlXVZn8n5eR0GvHBycLWlJdV/Z+8hPpiivca+65R7rwwkDaAQAAQGr8RgsAyLl4LBLodSXrxz+WPvhB95r77pPmzAmmHwAAAKTFjBYAQM411FarKRrO6JrmaFgNtdU+dVRkbrrJmcHiFrLcf78zg4WQBQAAoKAQtAAAfLG4pV4h4602ZKRFLfX+NlQMbrzRCVg+8pHUNe3tTsBy/vnB9QUAAADPCFoAAL6IxyJa0TozbdgSMtLK1sby3jZ0ww1OwHLllalr/vAHJ2A577zg+gIAAEDGmNECAPDN/Nl1mlEzTavbetTRN3jI683RsBa11JdvyPL970uf+IR7TWenNHt2MP0AAABg0ghaAAC+isciisci6u4f0jV3bNC+0YSmVIR03dw55TuT5bvflT71KfeaBx+Uzj47mH4AAACQMwQtAIBANNRWa1ZdzQGPy863vy1ddZV7zcMPS7NmBdMPAAAAco6gBQAAv33zm9LVV7vXbNokvelNwfQDAAAA3xC0AADgl69/Xbr2WveazZulmTOD6QcAAAC+I2gBACDXVqyQPvc595o//Uk688xg+gEAAEBgON4ZAIBc+fd/d45pdgtZHn3UOaaZkAUAAKAksaIFAIDJWrZMWr7cvebxx6XTTw+kHQAAAOQPQQsAANn64helL3/Zvaa7W6qvD6YfAAAA5B1BCwAAmfr856WvftW9pqdHisWC6QcAAAAFg6AFAACvrr3WOUnIzRNPSKecEkw/AAAAKDgMw80BY8wSY4wdv+W7HwBAjn32s86QW7eQZetWZ8gtIQsAAEBZY0XLJBljTpP0pXz3AQDwwac/La1a5V7z5JPSSScF0g4AAAAKHytaJsEYE5L0Q0mVkn6f53YAALnyqU85K1jcQpZt25wVLIQsAAAAmICgZXI+Jek8ST+RtCHPvQAAJuvjH3cClu9+N3XN9u1OwHLiicH1BQAAgKLB1qEsGWOikr4i6XlJV0n6l/x2BADI2pVXSjfe6F7z9NPS9OnB9JMH3f1DemTbLu0bTWhKRUh14Wk6purwfLcFAABQdAhasvdfko6Q9Alr7U5jTL77AVCEuvuH1N47oOGRUVVVVigei6ihtjrfbZWPD39Y+u//dq959lnp+OMDaScf2nsHtKqtR519g9pdsfOA16YfPVXNpxyTp84AAACKE0FLFowxV0pqkXSXtfbHk3ifhzyUnZ7t+wMoXBO/3B6sKRrW4pZ6xWORPHRWJv7xH6W1a91rduyQamuD6SdP1nVt09L1W5RIcV7eM7tf1q8eeVqXnrhdl89mqxQAAIAXzGjJkDFmuqTrJL0s6WN5bgdAEVrXtU0L1nQkDVkkqbNvUAvWdOjmru0Bd1YG/uEfnBksbiFLf78zg6XEQ5b23gHXkGWctdKS9ZvV3jsQTGMAAABFjhUtmfuBpKMkXWut3TqZN7LWnp2uZmzVy1mT+RwAhcPrl9vE2Jfb6TVTWdmSC/PnSzff7F7z3HPSsccG008BWNXWk/bncFzCSqvbevhZBAAA8IAVLRkwxlwh6e2SNkn6jzy3A6AIZfPlFpPwnvc4K1jcQpadO51lG2UUsnT3D6VcUZVKR9+guvuHfOoIAACgdBC0eGSMqZX0bUmvSrrSWjua55YAFBm+3AboXe9yApb161PXPP+8E7BEym+VRrbbgNg+BAAAkB5bh7xbKekYSd+X9GdjTNVBr08ZvzPhtX3W2n0B9QegwE3myy0nEXk0b550223uNYODUk1NMP0UqOGR5P+toDIxc//9kdAWz9cBAADgNQQt3kXH/vz42M3N+H9+XiXp0751BCBQkz2KOdWX1JHQ5v33KxONnq/DBHPnShs2uNfs2iUdfXQw/RS4qsrk//xP/PlLFrSkug4AAACv4TcmAEgjV0cxp/qSOvELbbKghS+3LlpapLvvdq/ZvVs66qhg+ikS2Q61ZRguAABAesxo8chae6G11qS6SVo+oXb8eVazAEUul0cx8+U2hy64wJnB4hayvPCCM4OFkOUQDbXVaoqGM7qmORpmCxsAAIAHBC0AkEKmRzGnm8HCl9scOP98J2DZuDF1zYsvOgHLkUcG11cRWtxSr5DxVhsy0qKWen8bAgAAKBEELQCQgh9HMfPlNkvNzU7A0t6eumZoyAlYqgmmvIjHIlrROjPtz6Mx0srWRlZWAQAAeETQAgBJ+HUUs9cvtyG+3DrOPtv5pt/ZmbpmeNgJWKoOPgwO6cyfXae1C5vVnGKl1fSjp+rds2bo8tknBtwZAABA8WLCYo5Ya5dJWpbnNgDkiJ9HMc+fXacZNdO0uq1HHUnCnOZoWIs8DtgtWY2N0pZDT705wEsvSdOmBdNPCYvHIorHIoecqvXwrpN0TNXh+W4PAACg6BC0AEASfh/FPPHL7TV3bNC+0YSmVIR03dw55T2T5Y1vlB591L1mzx5p6tRg+ikjDbXVB/zsPXUvIQsAAEA2CFoAIImgjmJuqK3WrLqaAx6XpdNOk7q73WteflmqrAymHwAAACBLBC0AkARHMQfk1FOlrVvda0ZGpMNZXQEAAIDiwDBcAEiCo5j9ddX8bzlDbt1ClpERZ8gtIQsAAACKCCtaACCFxS31WrCmw9MRzxzF7M1n/v4/dOSA+8lM2rtXmjIlmIYAAACAHGNFCwCkwFHMOfT2t0vGuIcs+/Y5K1gIWQAAAFDEWNECAC44inmSLrlEuvNO95p9+6TXvS6YfgAAAACfEbQAQBocxZyFlhbp7rvda155RargnyEAAACUFn7DBQCPOIrZgwsukDZudK8ZHZUOOyyYfgAAAICAEbQAACbv/POl9nb3mldflUKMBgMAAEBpI2gBAGTvzW+WOjrcawhYAAAAUEYIWgAAmZs9W3rwQfcaAhYAAACUIYIWAIB3s2ZJmza51xCwAAAAoIwRtACAz7r7h9TeO6DhkVFVVVYoHosU3yDdxkZpyxb3mkRCMiaYfgAAAIACRdACAD5p7x3QqrYedfYNHvJaUzSsxS31iscieegsA2ecIT3+uHsNAQsAAACwH0ELAPhgXdc2LV2/RQmb/PXOvkEtWNOhla2NwTbmVUOD1NPjXkPAAgAAAByCTfQAkGPtvQOuIcu4hJWWrN+sbYN7gmnMi1NOccITt5AlkZCsJWQBAAAAkiBoAYAcW9XWkzZkGZewUsfW5/1tyIuTTnKCk76+1DUELAAAAEBaBC0AkEPd/UNJZ7K4eWb3y3p+eK9PHaUxfboTnGzblrqGgAUAAADwjBktAJBD7b0DWV23bXCPjqk6PMfduKitlZ57zr2GGSxlq7t/SI9s26V9owlNqQipu3+o+E7KAgAAyBOCFgDIoeGR0aTPj4Q2779fmTh0AO6+0YRvPR0gHJZ27XKvsR73PaHkTDwpa3fFzv3PX/LYxuI5KQsAACDP2DoEADlUVZk8vx4Jbdl/S2ZKhc9/HR91lLM6xS1ksZaQpYyt69qmBWs6Um59Gz8p6+au7QF3BgAAUFwIWgAgh7L9r/114Wk57mTMEUc4AcuLL6auIWApe5melJXtFjkAAIByQNACADnUUFutpmg4o2umHz019/NZDj/cCVj2uBwdTcCCMZmelLW6zeX4bwAAgDJH0AIAOba4pV4hjzNkQ0ZqPuWY3H34YYc5Acu+falrCFgwQTYnZXX0Daq7f8injgAAAIobQQsA5Fg8FtGK1plpw5aQkVa2NuZm25Axzi3hMlSXgAVJZLsNiO1DAAAAyRG0AIAP5s+u09qFzWpOsY2oORrW2oXNunz2iZP7oPGAxQ0BC1ykOimrMjFz/y2T6wAAAModxzsDgE/isYjisYi6+4d0zR0btG80oSkVIV03d44aaqsn9+Zvfat0zz3uNYQr8CDVSVnJjiH3ch0AAEC547ckAPBZQ221ZtXVHPA4axdcIG3c6F5DwIIMZHtSVrbXAQAAlDq2DgFAMTj/fGeLkFvIwhYhZCGbk7Kao+HJr8oCAAAoUQQtAFDI3vxmJ2Bpb09ZctmaT+qdP1rEKTDIWqYnZS1qqfe3IQAAgCLG1iEAKERNTVJXl2vJ0Z9/v3Nn6/OSpEse26imaFiLW+rZ1oGMjJ+UtXT9FiVcFkWNn5TFzxcAAEBqBC0AUEjOOkt65BHXkpovvD/lDqHOvkEtWNOhla2Nkz/RCGVl/uw6zaiZptVtPeroGzzk9eZoWIsI8QAAANIiaAGAAvDPC6/X67f2u9a09+zUgjUdsvYnrnUJKy1Zv1nTa6bypRgZmXhSVnvvgIZHRlVVWaF4LMJMFgAAAI8IWgAgn4zRsnQ1Y8tXVv3g967bOiZKWGl1Ww9BC7LSUFtNsAIAAJAlhuECQD4Y49zcTDhFqLt/SJ1JtnO46egbZEAuAAAAEDCCFgAI0LKLlmcUsIxr7x3I6vOyvQ4AAABAdtg6BAABWHbR8vRFqSbcShoeGU36fGViputbproOAAAAgD8IWgDAT+lWr0iuAcu4qsrkf11XJhqzug4AAACAP/gNHAD8kKOAZVy2Q20ZhgsAAAAEixktAJBLGQ659aqhtlpN0XBG1zRHw5wcAwAAAASMoAUAcsGngGWixS31CnlYKCNJISMtaqnP+rMAAAAAZIegBQAmI4CAZVw8FtGK1plpPy5kpJWtjWwbAgAAAPKAoAUAspDtMc2TNX92nd49a4amHz016evN0bDWLmzW5bNPzOnnAgAAAPCGYbgAkIHJHtOcC3XhaaoLT9Pzw3t1Vs0ZGh4ZVVVlheKxCDNZAAAAgDwjaAEAL3J8ilAuHFN1uD4cjwb6mQAAAADcEbQAgJsCDFgAAAAAFC6CFgBIhoAFAAAAQBYIWgDkTHf/kNp7B4p7ZggBCwAAAIBJIGgBMGntvQNa1dajzr7BQ15rioa1uKW+8I8aJmABAAAAkAMc7wxgUtZ1bdOCNR1JQxZJ6uwb1II1Hbq5a3vAnXlkTF6OaQYAAABQmghaAGStvXdAS9dvUSJNBpGw0pL1m9XeOxBMY14QsAAAAADwAUELgKytautJG7KMS1hpdVuPvw15QcACAAAAwEcELQCy0t0/lHK7UCodfYPq7h/yqaM0CFgAAAAABICgBUBWst0GFPj2IQIWAAAAAAHi1CEAWRkeGU36/Eho8/77lYlGz9flHKcIAQAAAMgDghYAWamqTP7Xx0hoy/77yYKWVNflDAELAAAAgDwiaAGQlXgsEuh1aRGwAAAAACgAzGgBkJWG2mo1RcMZXdMcDauhtjq3jTCDBQAAAEABIWgBkLXFLfUKeVhIIkkhIy1qqc/dhxOwAAAAAChABC0ZMMYcY4z5sDHm/zfGPGaMeckYs9cY87Qx5hZjzLvz3SMQpHgsohWtM9OGLSEjrWxtzM22IQIWAAAAAAWMGS2Z2aED/zcbkfSKpOljt3caY34n6b3W2j156A8I3PzZdZpRM02r23rU0Td4yOvN0bAWtdRPPmRhBgsAAACAIkDQkpkKSZ2S/lvSHdbarZJkjDlZ0hckLZR0maQfSFqQlw6BPIjHIorHIuruH9I1d2zQvtGEplSEdN3cOZOfyZIuYKmokF55ZXKfAQAAAAA5QtCSmbdaa+85+Elr7ZOSPmqMGZX0MUlXGGM+Z63dHnSDQD411FZrVl3NAY+zli5gmTpV2sPCMQAAAACFhRktGUgWshxkzYT75/jZC1Cy0s1gOeIIZ4sQIQsAAACAAkTQklsjE+4flrcugGJjbfqA5eijnbrh4eD6AgAAAIAMsXUoty6ccH9LumJjzEMe3vP0rLsBCp21UihN3huJSDt3BtMPAAAAAEwSK1pyxBhztKSlYw/vt9b+JZ/9AAVtfAWLW8jy+tc7dYQsAAAAAIoIK1pywBgTkrRW0vFytg990st11tqzPbz3Q5LOmlSDQKHwsoJl+nTp6aeD6QcAAAAAcowVLbmxStK8sfv/Yq3dnM9mgILjZQXLSSc5dYQsAAAAAIoYQcskGWO+oddWsFxlrf1hPvsBCoqXgCUWc+qefDKwtgAAAADALwQtk2CM+bqkz449vNpa++189gMUDGu17KLl7gHLaac5AUtPT3B9AQAAAIDPmNGSJWPMdZKuHnv4r9bab+azH6AgjAcsbs44Q3r00WD6AQAAAICAsaIlC2PbhSaGLNflsx8g77xsEWpsdOoIWQAAAACUMIKWDI2FLBO3CxGyoHx5CVjOOsup++Mfg+sLAAAAAPKEoCUDB81k+QzbhVC2Eon0AUtTkxOwPPRQcH0BAAAAQJ4RtHhkjKmTdM3Yw4Ska40xO1xuV7u8HVCcxgOWww5LXfPZzzoBS0dHcH0BAAAAQIFgGK53oYPu16apr/KxFyBYiYR7uCJJV18tXcdOOr919w/pkW27tG80oSkVIXX3D6mhtjrfbQEAAAAYQ9DikbX2SUkm330AgfISsFx7rbRyZTD9lLH23gGtautRZ9+gdlfs3P/8JY9tVFM0rMUt9YrHInnsEAAAAIDE1iEAybz6avotQp/7nLNFiJDFd+u6tmnBmg519g0mfb2zb1AL1nTo5q7tAXcGAAAA4GAELQBeMx6wVLgsdvvCF5yA5StfCa6vMtbeO6Cl67coYd3rElZasn6z2nsHgmkMAAAAQFIELQC8BSxf/KITsHz5y8H1Ba1q60kbsoxLWGl1W4+/DQEAAABwRdAClLPR0fQBy/LlTsCyfHlwfUGSM/g21XahVDr6BtXdP+RTRwAAAADSIWgBytF4wPK616Wu+fKXnYDli18Mri8cINttQGwfAgAAAPKHU4eAcvLKK9KUKe41X/2qtHRpMP3A1fDIaNLnKxMzs7oOAAAAgP8IWoBy4CVgWbnSOaoZBaOqMvlf0ZWJxqyuAwAAAOA/fhsHSpmXgOXrX5euuSaYfpCReCwS6HUAAAAAJo8ZLUAp2rfPmcHiFrJ885vODBZCloLVUFutpmg4o2uao2E11Fb71BEAAACAdAhagFIyHrAcfnjqmm99ywlYPvOZ4PpC1ha31CtkvNWGjLSopd7fhgAAAAC4ImgBSsHevekDllWrnIDl058Ori9MWjwW0YrWmWnDlpCRVrY2sm0IAAAAyDNmtADFbGREmjrVveY735E++clg+oEv5s+u04yaaVrd1qOOvsFDXm+OhrWopZ6QBQAAACgABC1AMfISsPznf0of/3gw/cB38VhE8VhE3f1Dau8d0PDIqKoqKxSPRZjJAgAAABQQghagmOzdK1VWutdcf730sY8F0w8C11BbTbACAAAAFDCCFqAYeFnBcsMN0pVXBtMPAAAAACApghagkHkJWG68UVq4MJh+AAAAAACuCFqAQvTyy9K0aa4lt/zr32nTZbO07EJCFgAAAAAoFAQtQCHxELDo1lu1rOrBYPoBAAAAAGQklO8GAEjas0cyxj1kue02yVpp3rzg+gIAAAAAZIQVLUA+vfSSVFXlXvO730mXXhpMPwAAAACASSFoAfLBS8By++3S3LnB9AMAAAAAyAmCFiBIw8NSdbV7zYYN0sUXB9MPAAAAACCnCFqAIAwNSUce6V5z553S294WTD8AAAAAAF8QtAB+8hKwtLVJb31rMP0AAAAAAHxF0AL44cUXpaOOcq+5+27poouC6QcAAAAAEAiCFiCXvAQs994rXXBBIO0AAAAAAIJF0ALkwgsvSEcf7V6zcaP0lrcE0w8AAAAAIC8IWoDJ2L1bqqlxr7n/fun884PpBwAAAACQVwQtQDa8BCzt7dJ55wXTDwAAAACgIBC0AJnYtUsKh91rHnhAOvfcYPoBAAAAABQUghYUtO7+IbX3Dmh4ZFRVlRWKxyJqqK0OvpHBQemYY9xrfv976c1vDqYfAAAAAEBBImhBQWrvHdCqth519g0e8lpTNKzFLfWKxyL+N/L881Ikzed0dEhNTf73AgAAAAAoeKF8NwAcbF3XNi1Y05E0ZJGkzr5BLVjToZu7tvvXxMCAZIx7yNLZKVlLyAIAAAAA2I+gBQWlvXdAS9dvUcK61yWstGT9ZrX3DuS2gZ07nYDl2GNT13R1OQHL7Nm5/WwAAAAAQNEjaEFBWdXWkzZkGZew0uq2ntx88HPPOQHLccelrnnoISdgOeec3HwmAAAAAKDkELSgYHT3D6XcLpRKR9+guvuHsv/Q/n4nYKmtTV3z8MNOwHLWWdl/DgAAAACgLBC0oGBkuw0oq+t27HAClte/PnXNpk1OwDJrVlZ9AQAAAADKD6cOoWAMj4wmfX4ktHn//cpEo+frktqxQzr+ePeaP/5Rajz0cwAAAAAASIegBQWjqjL5j+NIaMv++8mCllTXHeCvf5VOOMG9ZvNmaebM9O8FAAAAAEAKBC0oGPGYy1HK2V737LPS9Onub/CnP0lnnpnVZwMAAAAAMBEzWlAwGmqr1RQNZ3RNczSshtrqQ1945hlnBotbyPLoo84MFkIWAAAAAECOELSgoCxuqVfIeKsNGWlRS/2BTz79tBOwzJiR+sLHHnMCljPOyL5RAAAAAACSIGhBQYnHIlrROjNt2BIy0srWxte2DW3f7gQsJ56Y+qLHH3cClje8IXcNAwAAAAAwATNaUHDmz67TjJppWt3Wo46+wUNeb46Gtail3glZnnpKOvlk9zf885+l007zp1kAAAAAACYgaEFBisciisci6u4f0jV3bNC+0YSmVIR03dw5zkyWJ5+UzLHub9LdLdXXu9cAAAAAAJBDBC0oaA211ZpVV/Pa4z0DkjnS/aKeHikW87kzAAAAAAAOxYwWFIWaZ3dp2UXLpVNOSV3U2+vMYCFkAQAAAADkCStaUNj++lcnYHHzxBPuAQwAAAAAAAFhRQsK0+CgFI1KJ5yQumbrVmcFCyELAAAAAKBAsKIFhWVwUDrrLOc0oVSefFI66aTAWgIAAAAAwCuCFhSG55+XZs2Stm9PXUPAAgAAAAAocGwdQn4NDEgzZkiRSPKQ5Q1vkHbvdrYI/b/27j/orrq+E/j7EyKGkIAgNla2SDRQqRIWUeI0awubFX/UcbcoVkWrXXU7Vkfqj6LsOiOt08oKrqLruP7AHX+CVhk72lKtGboi6wICKg7FQAlFUSIYKoEYfuW7f9zzmGtMnjzJc+69yfO8XjN37vd7zvc89wNzk5zzfr7ne4QsAAAA7OUELUzGHXckhx+ePOpRyW23/er+Jz5xELBcf31y8MHjrw8AAAD2gFuHGK877kiOOy758Y93vP/YY5NvfCM56KDx1gUAAAA9ELQwHj/5SbJyZbJhw473r1yZXHaZgAUAAIB9mqCF0frJT5InPWkwk2VHjjtuELAsXTreugAAAGAErNHCaGzYMFh/ZdmyHYcsxx+f3H138u1vC8nkff0AABb7SURBVFkAAACYMwQt9G/t2uTRjx48UWh7J5yQbNqUXHONgAUAAIA5R9BC/84881e3PeUpg4DlW99KliwZf00AAAAwBoIW+vec5/yieffKJyT33JNcdZWABQAAgDnPYrh7oKqWJnlTkucnWZ7koSTrklyU5P2ttfsnWN7kveMdOefE+3PfgYvSFlTOPvDASVcEAAAAYyFo2U1V9dgk/5jkyG7T5iQPT/KU7nV6Va1prd01kQL3EluWHjDpEgAAAGDs3Dq0G6pqYZIvZRCy/DjJM1prByZZnORFSTYlOT7JpyZVIwAAADA5gpbd8/Ikx3bt57fWvpYkrbWtrbXPJvnjbt9zqmrNJAoEAAAAJkfQsnte3r1f2lr75g72X5Rkfdf+w/GUBAAAAOwtBC0zVFWLk6zuupfsaExrrSX5+657yjjqAgAAAPYeFsOduWOyLZj63jTjpvY9uqoOba1t3NnAqrp6Bp/7hBnWBwAAAEyYGS0z95ih9m3TjBve95idjgIAAADmHDNaZm7pUHvzNOOG9y3d6agkrbUTdvWh3ayXJ+9qHAAAADB5ZrQAAAAA9ETQMnObhtqLpxk3vG/TTkcBAAAAc46gZeZ+NNQ+fJpxw/t+tNNRAAAAwJwjaJm5f0qytWs/aZpxU/tun+6JQwAAAMDcI2iZodba5iSXd91n7WhMVVWSZ3bdr46jLgAAAGDvIWjZPR/v3k+uqlU72H9aksd17U+MpyQAAABgbyFo2T0fT3JdkkryhapakyRVtaCqTkvykW7cJa21tROqEQAAAJiQhZMuYF/SWnuwqp6X5NIkRyb5WlVtziCwWtQNuzbJ6ZOpEAAAAJgkM1p2U2vtliQrk/xFku8laUkeSHJ1kjcneVpr7a6JFQgAAABMjBkte6C1tinJ27sXAAAAQBIzWgAAAAB6I2gBAAAA6ImgBQAAAKAnghYAAACAnghaAAAAAHoiaAEAAADoiaAFAAAAoCeCFgAAAICeCFoAAAAAeiJoAQAAAOiJoAUAAACgJ4IWAAAAgJ4IWgAAAAB6ImgBAAAA6ImgBQAAAKAnghYAAACAnghaAAAAAHoiaAEAAADoiaAFAAAAoCeCFgAAAICeCFoAAAAAeiJoAQAAAOiJoAUAAACgJ4IWAAAAgJ4IWgAAAAB6ImgBAAAA6ImgBQAAAKAnghYAAACAnghaAAAAAHoiaAEAAADoiaAFAAAAoCeCFgAAAICeCFoAAAAAeiJoAQAAAOiJoAUAAACgJ4IWAAAAgJ4IWgAAAAB6ImgBAAAA6ImgBQAAAKAnghYAAACAnghaAAAAAHoiaAEAAADoiaAFAAAAoCeCFgAAAICeCFoAAAAAeiJoAQAAAOiJoAUAAACgJ4IWAAAAgJ4IWgAAAAB6ImgBAAAA6ImgBQAAAKAnCyddALB71m3YlGtvvSv3P7g1+y9ckHUbNuXoZUsnXRYAAAARtMA+4/Kb7sz5a2/Mles35l8X3vGL7adc//WcuPzQnLHmqKxecdgEKwQAAMCtQ7AP+OxVt+ZlF1yRK9dv3OH+K9dvzMsuuCKfu+oHY64MAACAYYIW2MtdftOdOevi67K1TT9ua0veevF3c/lNd46nMAAAAH6FoAX2cuevvXGXIcuUrS1539obR1sQAAAAOyVogb3Yug2bdnq70M5csX5j1m3YNKKKAAAAmI6gBfZie3obkNuHAAAAJsNTh2Avds+WB3e4fdHWY/foOAAAAEZL0AJ7sSWLdvxHdNHWlXt0HAAAAKPl1qEZqqpHVtUfVdWnqur6qrq3qu6rqh9W1Rer6vcnXSNzz+oVh431OAAAAGbHr71n7vb88v+vLUkeSHJ49/qPVXVJkhe01jZPoD7moKOXLc2Jyw/drQVxVy0/NEcvWzrCqgAAANgZM1pmbmGSK5P8SZLHt9YOaK0tSbI8yQXdmGcn+dCE6mOOOmPNUVlQMxu7oJLXrzlqtAUBAACwU4KWmfv3rbVVrbUPttZuntrYWrultfaqbAtYXlpVvzGZEpmLVq84LO889dhdhi0LKjnn1JVuGwIAAJggQcsMtdYu3cWQC4baTxllLcw/f/DUI/LJV67KquWH7nD/quWH5pOvXJUXPlXGBwAAMEnWaOnPlqH2fhOrgjlr9YrDsnrFYVm3YVMuv+nO3LPlwSxZtDCrVxxmTRYAAIC9hKClPycNta+byQFVdfUMhj1hj6phzjp62VLBCgAAwF7KrUM9qKpHJDmr617WWvv+JOsBAAAAJsOMllmqqgVJPpnk1zO4feh1Mz22tXbCDH7+1UmevMcFAgAAAGMzZ2e0VNUrqqrN4vWsGX7U+Ume27Vf21r77oj+k/YZ6zZsyrW33pUrbv5prr31rqzbsGnSJQEAAMBYmNEyC1V1XrbNYHlDa+1jk6xn0i6/6c6cv/bGXLl+Y/514R2/2H7K9V/PicsPzRlrjvLoYQAAAOa0uRy0XJjky7M4/mfT7ayqdyV5U9d9c2vtvbP4rH3eZ6+6NWddfF22th3vv3L9xrzsgityzqkrPYIYAACAOWvOBi2ttfuS3DeKn11V5yZ5c9c9s7X27lF8zr7i8pvunDZkmbK1JW+9+Ls5/JADzGwBAABgTpqza7SMSne70HDIcu4k69kbnL/2xl2GLFO2tuR9a28cbUEAAAAwIYKW3dCFLMO3C837kGXdhk25cv3G3TrmivUbLZALAADAnCRomaHt1mR543y/XWjK5TfdOdbjAAAAYG82Z9do6VNVHZHkz7ru1iRvqaq3THPIea2180Zf2eTds+XBHW5ftPXYPToOAAAA9mWClplZsF172S7GLxlhLXuVJYt2/BVatHXlHh0HAAAA+zJXuzPQWrslSU26jr3Rnj49yFOHAAAAmIus0cKsHL1saU5cfuhuHbNq+aE5etnSEVUEAAAAkyNoYdbOWHNUFsxwvs+CSl6/5qjRFgQAAAATImhh1lavOCzvPPXYXYYtCyo559SVbhsCAABgzrJGC734g6cekX9zyOK8b+2NuWL9xl/Zv2r5oXn9mqOELAAAAMxpghZ6s3rFYVm94rCs27Apl990Z+7Z8mCWLFqY1SsOsyYLAAAA84Kghd4dvWypYAUAAIB5yRotAAAAAD0RtAAAAAD0RNACAAAA0BNBCwAAAEBPBC0AAAAAPRG0AAAAAPRE0AIAAADQE0ELAAAAQE8ELQAAAAA9EbQAAAAA9ETQAgAAANATQQsAAABATwQtAAAAAD0RtAAAAAD0RNACAAAA0BNBCwAAAEBPBC0AAAAAPRG0AAAAAPRE0AIAAADQE0ELAAAAQE8ELQAAAAA9qdbapGtgGlX10wMOOODQY445ZtKlAAAAwLxxzTXXfKa1dvruHido2ctV1fokByW5ZUwf+YTu/YYxfR7sDXzvma9895mPfO+Zj3zvmY/6+N7fIGhh1qrq6iRprZ0w6VpgXHzvma9895mPfO+Zj3zvmY8m+b23RgsAAABATwQtAAAAAD0RtAAAAAD0RNACAAAA0BNBCwAAAEBPBC0AAAAAPRG0AAAAAPRE0AIAAADQk2qtTboGAAAAgDnBjBYAAACAnghaAAAAAHoiaAEAAADoiaAFAAAAoCeCFgAAAICeCFoAAAAAeiJoAQAAAOiJoAUAAACgJ4IWkiRVtbSqzq6q66rqnqr6WVVdVVVvqqr9J10f9KmqHllVf1RVn6qq66vq3qq6r6p+WFVfrKrfn3SNMC5V9daqalOvSdcDo1RVB1XVW6rq/1bVHUN/91/anQc9YtI1Qp+q6hlV9bmq+peq2lJVP6+qm6vq01X1u5OuD3ZHVS2uqmdX1duq6uLuez11DnP2DH/Gsqp6d1V9v/vzsLGqLquqV1VV9VZra86p5ruqemySf0xyZLdpc5L9kjy861+bZE1r7a6xFwcjUFUPJFk4tGlLkoeSHDi07ZIkL2itbR5nbTBOVfWbSb6dZNHUttZabycZsDepqpOTXJhkWbfp/gzOeYbDleNba98ed23Qt+6C8YNJ/nho88+79wOGtr2ntfbGsRUGs1BVJyW5dCe7/7y1dvYujj8hyVeSPLLbdE8G50BT1wVfSfK81tr9s63VjJZ5rqoWJvlSBiHLj5M8o7V2YJLFSV6UZFOS45N8alI1wggsTHJlkj9J8vjW2gGttSVJlie5oBvz7CQfmlB9MHJVtSDJxzI4wfjmhMuBkaqq1Un+NoOQ5eIkT02yqLV2SAYh+4lJ/jLJzyZWJPTrFdkWsnw+ydGttcWttcVJnpDkb7p9bzCTl33MXUnWJjk3yYuT3D6Tg6rq4CRfziBkuSHJU1trSzP4N+B1SR5I8swk7+2jSDNa5rmqemWSj3bd326tfXO7/S9O8pmu+x9aa2vHWR+MQlWd3FrbWRqeqvpf2XZyckRr7QfjqQzGp6rOyOBk4tNJbkry9sSMFuaeqlqc5Lokj0vy/tba6ydcEoxcVV2a5KQM/n4/prX24Hb7H5bBxebjklzUWnvx2IuE3VRV+7XWHtpu2y1JHptdzGipqnckeVsGM7ue2Fpbv93+s5L8VQaz3H+rtbZuNrWa0cLLu/dLtw9ZOhclmfoS/uF4SoLRmi5k6Vww1H7KKGuBSaiq5Rn89v6nSd4w4XJg1F6WwcXk7UnOnHAtMC6/3r1/Z/uQJUlaaw9kcOtokiwZW1UwC9uHLLtp6lr2ou1Dls77M7iVaL8kp8/ic5IIWua17jc8q7vuJTsa0wZTnv6+654yjrpgL7BlqL3fxKqA0flIBlNl39hau2PSxcCITZ1c/3Vrbcu0I2HuuLl7P65bKuCXdDNa/m3X/dbYqoIJ6NakO6Lr7uy6954kl3XdWV/3Clrmt2Oy7TvwvWnGTe17dFUdOtqSYK9w0lD7ukkVAaNQVa9OsibJ11prn5h0PTBKVfXwbJuZeHVVHVFVH66qH1TV/VW1oaq+VFW/N8k6YQQ+2L2vSHJhVa2Y2tFddH4ug5le/5zkPeMvD8bqSUPtmVz3/tZsP1DQMr89Zqh92zTjhvc9ZqejYA7oHu15Vte9rLX2/UnWA32qqsMzWDzu5/nlJ1HAXHVkkv279uMyOIl+dZJfS3Jv9/7cJF+uqo/0+WhPmKTW2pcyuDX0/iQvSHJjVW2uqs0ZrM1yUgZhzImttbsnViiMx+5e9x5UVbO6pU7QMr8tHWpP9wjb4X1LdzoK9nHdU1g+mcF9zVsyWIEc5pIPJTk4ydmttZt3NRjmgEOG2m/L4KkSpyVZ0j1x6LFJ/rrb/6pYs4g5pLX23iSnJvlJt+mAbHu08/4ZrM1y8ARKg3Eb+3WvoAVgm/Mz+M1mkry2tfbdSRYDfaqqlyb5vQwWP/wfEy4HxmXBdu1XttY+3y0EmtbarUlelOQ73Zj/uqP1LGBfU1WLq+qzGTzO9tYM1px4VPc6Jcn1GSwUfWVVrZxYoTBHCVrmt01D7cXTjBvet2mno2AfVlXnZdsMlje01j42yXqgT1W1LINHOT+U5NU7egIFzFHD5y03tta+uP2A1trWJOd13UcmOWEchcGInZvkhUm+n+TprbV/aK3d2b3+IcnvJFmX5LAkH5hgnTAOY7/uFbTMbz8aah8+zbjhfT/a6SjYR1XVu5K8qeu+uZtqC3PJORlcQH44yQ1VtWT4lW1rWGRo+/47+2GwDxm+F/+GacZdP9R+7IhqgbGoqqVJ/kvX/cCOnrbVWvt5kv/Zdf9dVf3auOqDCdjd6967u6cQ7TFBy/z2T0m2du0nTTNuat/trbWNoy0Jxquqzk3yZ133zNbauydZD4zI8u79NRn8hmb711lDY6e2vWucBcIodOct0y18OGV4Edw2onJgXI5OMnUL3D9PM+7GofbynY6Cfd/wk4Zmct17/TRjZkTQMo+11jYnubzrPmtHY7rV95/Zdb86jrpgXLrbhd7cdc9srZ07yXoAGImp85djphkz/CjP9SOsBcZh61B7uhlay4balgdgLluXwVpFyc6vew9M8vSuO+vrXkELH+/eT66qVTvYf1oGj0NMkk+MpyQYvS5kGb5dSMjCnNVaO6m1Vjt7JfnzobFT2/90giVDn/53976iqv7T9ju7J85Nhe63JblmXIXBiNyQ5Odd+1U7WuC5qvbLttuL7spgLReYk1prLduuZV9UVUfuYNhrM3gS10NJPj3bzxS08PEk12UwZfYLVbUmGZx0VNVpST7SjbuktbZ2QjVCr7Zbk+WNbhcCmLtaa5cl+XzX/WhVPX/qwrOqjkhyYZKpp678t25xXNhndeuvfLTrPjnJl6rq2O78fkH3lKG/S/Lb3Zj3ttYemkStsLuq6pCqOmzqlW2ZxuLh7d0adMPOS3J7Bgve/m1VndD9vP2r6jVJ3tGN+3Brbd2s6xyEO8xnXaJ3aZIju02bM/jCLur61yZZ01q7a9y1Qd+6k+p/6bpbk9yxi0POa62dt4sxsE+rqrOTvD0ZzGiZbDXQv25K+N9l8KSVJLkvg/OdQ4aG/Xlr7ewxlwYjUVUHJLk4v3ybxH3d+8OHtl2Y5GWCFvYVVXVLZrZo+cdba6/Y7tgTknwlgwcEJINb5hYleVjX/2qS57XW7sssmdFCWmu3ZPCbnL/IYKGgluSBJFdnMJX2aUIW5pAF27WX7eK1fRoOwD6mtXZvkpOTvDrJ15Pcm8Hf77cluSjJaiELc0k3q+U5GSwD8DdJfphtiz7/IMkXkjy3tfYSIQvzRWvt6iRPTPKeDBaDflgG/x58I4N/H57dR8iSmNECAAAA0BszWgAAAAB6ImgBAAAA6ImgBQAAAKAnghYAAACAnghaAAAAAHoiaAEAAADoiaAFAAAAoCeCFgAAAICeCFoAAAAAeiJoAQAAAOiJoAUAAACgJ4IWAAAAgJ4IWgAAAAB6ImgBAAAA6ImgBQAAAKAnghYAAACAnghaAAAAAHoiaAEAAADoiaAFAGAWqup3q+qhqmpVdWtVPWKascur6mfd2Huq6jfHWSsAMHqCFgCAWWit/Z8k53Td30jy4R2Nq6qFST6T5KBu05+21r4/+goBgHEStAAAzN7bk1zRtU+rqv+8kzFP69pfaK19dCyVAQBjVa21SdcAALDPq6rHJfl2kqVJ7k1yfGvtxm7f05NcmmS/JD9Iclxr7a5J1QoAjI4ZLQAAPWit3ZzktV33wCSfqaqHdWu2fCqDkGVrkpcKWQBg7jKjBQCgR1X16SQv6br/PcnyJC/s+n/ZWnvbRAoDAMZC0AIA0KOqOiiDW4iWb7fr/yV5emvtwfFXBQCMi1uHAAB61Fq7O8npSYYDlbuTnC5kAYC5T9ACANC/H2awIO6Uq7s1XACAOU7QAgDQo6pakMHitwcPbT65ql4zoZIAgDEStAAA9OusJL/Ttdcm+VnXfndVHTOZkgCAcbEYLgBAT6pqVZJvJFmY5EdJViY5JclnuiHfSbKqtXbfZCoEAEbNjBYAgB5U1dIkn84gZGlJXt5a+2lr7cIkn+yGHZfknAmVCACMgaAFAKAfH0jy+K797tba14b2vTbJ1GK4Z1TVM8daGQAwNm4dAgCYpap6cbbdHnRtkqe11u7fbszwbUW3J1nZWrtjrIUCACNnRgsAwCxU1ZFJPth1Nyd5yfYhS5K01q5IcnbXfXSSj42hPABgzAQtAAB7qKr2yy8/yvmNrbUbpjnknUm+3rWfW1WvG2V9AMD4uXUIAAAAoCdmtAAAAAD0RNACAAAA0BNBCwAAAEBPBC0AAAAAPRG0AAAAAPRE0AIAAADQE0ELAAAAQE8ELQAAAAA9EbQAAAAA9ETQAgAAANATQQsAAABATwQtAAAAAD0RtAAAAAD0RNACAAAA0BNBCwAAAEBPBC0AAAAAPRG0AAAAAPRE0AIAAADQk/8PZQM5b2nVlHYAAAAASUVORK5CYII=\n"
                },
                "metadata": {
                  "image/png": {
                    "width": 557,
                    "height": 413
                  },
                  "needs_background": "light"
                }
              }
            ]
          }
        },
        "1ba47d90754645f1a5eeb7643aba06e6": {
          "model_module": "@jupyter-widgets/base",
          "model_name": "LayoutModel",
          "model_module_version": "1.2.0",
          "state": {
            "_model_module": "@jupyter-widgets/base",
            "_model_module_version": "1.2.0",
            "_model_name": "LayoutModel",
            "_view_count": null,
            "_view_module": "@jupyter-widgets/base",
            "_view_module_version": "1.2.0",
            "_view_name": "LayoutView",
            "align_content": null,
            "align_items": null,
            "align_self": null,
            "border": null,
            "bottom": null,
            "display": null,
            "flex": null,
            "flex_flow": null,
            "grid_area": null,
            "grid_auto_columns": null,
            "grid_auto_flow": null,
            "grid_auto_rows": null,
            "grid_column": null,
            "grid_gap": null,
            "grid_row": null,
            "grid_template_areas": null,
            "grid_template_columns": null,
            "grid_template_rows": null,
            "height": null,
            "justify_content": null,
            "justify_items": null,
            "left": null,
            "margin": null,
            "max_height": null,
            "max_width": null,
            "min_height": null,
            "min_width": null,
            "object_fit": null,
            "object_position": null,
            "order": null,
            "overflow": null,
            "overflow_x": null,
            "overflow_y": null,
            "padding": null,
            "right": null,
            "top": null,
            "visibility": null,
            "width": null
          }
        },
        "735a9599af614895a54819e9a2dafe64": {
          "model_module": "@jupyter-widgets/base",
          "model_name": "LayoutModel",
          "model_module_version": "1.2.0",
          "state": {
            "_model_module": "@jupyter-widgets/base",
            "_model_module_version": "1.2.0",
            "_model_name": "LayoutModel",
            "_view_count": null,
            "_view_module": "@jupyter-widgets/base",
            "_view_module_version": "1.2.0",
            "_view_name": "LayoutView",
            "align_content": null,
            "align_items": null,
            "align_self": null,
            "border": null,
            "bottom": null,
            "display": null,
            "flex": null,
            "flex_flow": null,
            "grid_area": null,
            "grid_auto_columns": null,
            "grid_auto_flow": null,
            "grid_auto_rows": null,
            "grid_column": null,
            "grid_gap": null,
            "grid_row": null,
            "grid_template_areas": null,
            "grid_template_columns": null,
            "grid_template_rows": null,
            "height": null,
            "justify_content": null,
            "justify_items": null,
            "left": null,
            "margin": null,
            "max_height": null,
            "max_width": null,
            "min_height": null,
            "min_width": null,
            "object_fit": null,
            "object_position": null,
            "order": null,
            "overflow": null,
            "overflow_x": null,
            "overflow_y": null,
            "padding": null,
            "right": null,
            "top": null,
            "visibility": null,
            "width": null
          }
        },
        "767104fe9e8540d4ba6e984c5ef5f556": {
          "model_module": "@jupyter-widgets/controls",
          "model_name": "SliderStyleModel",
          "model_module_version": "1.5.0",
          "state": {
            "_model_module": "@jupyter-widgets/controls",
            "_model_module_version": "1.5.0",
            "_model_name": "SliderStyleModel",
            "_view_count": null,
            "_view_module": "@jupyter-widgets/base",
            "_view_module_version": "1.2.0",
            "_view_name": "StyleView",
            "description_width": "",
            "handle_color": null
          }
        },
        "67e763efe85b4b35ae86c0c5806706cf": {
          "model_module": "@jupyter-widgets/base",
          "model_name": "LayoutModel",
          "model_module_version": "1.2.0",
          "state": {
            "_model_module": "@jupyter-widgets/base",
            "_model_module_version": "1.2.0",
            "_model_name": "LayoutModel",
            "_view_count": null,
            "_view_module": "@jupyter-widgets/base",
            "_view_module_version": "1.2.0",
            "_view_name": "LayoutView",
            "align_content": null,
            "align_items": null,
            "align_self": null,
            "border": null,
            "bottom": null,
            "display": null,
            "flex": null,
            "flex_flow": null,
            "grid_area": null,
            "grid_auto_columns": null,
            "grid_auto_flow": null,
            "grid_auto_rows": null,
            "grid_column": null,
            "grid_gap": null,
            "grid_row": null,
            "grid_template_areas": null,
            "grid_template_columns": null,
            "grid_template_rows": null,
            "height": null,
            "justify_content": null,
            "justify_items": null,
            "left": null,
            "margin": null,
            "max_height": null,
            "max_width": null,
            "min_height": null,
            "min_width": null,
            "object_fit": null,
            "object_position": null,
            "order": null,
            "overflow": null,
            "overflow_x": null,
            "overflow_y": null,
            "padding": null,
            "right": null,
            "top": null,
            "visibility": null,
            "width": null
          }
        }
      }
    }
  },
  "nbformat": 4,
  "nbformat_minor": 0
}