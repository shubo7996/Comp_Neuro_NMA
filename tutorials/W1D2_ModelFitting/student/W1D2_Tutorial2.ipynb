{
  "cells": [
    {
      "cell_type": "markdown",
      "metadata": {
        "id": "view-in-github",
        "colab_type": "text"
      },
      "source": [
        "<a href=\"https://colab.research.google.com/github/shubo7996/Comp_Neuro_NMA/blob/main/tutorials/W1D2_ModelFitting/student/W1D2_Tutorial2.ipynb\" target=\"_parent\"><img src=\"https://colab.research.google.com/assets/colab-badge.svg\" alt=\"Open In Colab\"/></a>"
      ]
    },
    {
      "cell_type": "markdown",
      "metadata": {
        "execution": {},
        "id": "-FbyNpGojrFu"
      },
      "source": [
        "# Tutorial 2: Linear regression with MLE\n",
        "\n",
        "**Week 1, Day 2: Model Fitting**\n",
        "\n",
        "**By Neuromatch Academy**\n",
        "\n",
        "**Content creators**: Pierre-Étienne Fiquet, Anqi Wu, Alex Hyafil  with help from Byron Galbraith\n",
        "\n",
        "**Content reviewers**: Lina Teichmann, Madineh Sarvestani, Patrick Mineault, Ella Batty, Michael Waskom"
      ]
    },
    {
      "cell_type": "markdown",
      "metadata": {
        "execution": {},
        "id": "DFdvpCeWjrFz"
      },
      "source": [
        "<p align='center'><img src='https://github.com/NeuromatchAcademy/widgets/blob/master/sponsors.png?raw=True'/></p>"
      ]
    },
    {
      "cell_type": "markdown",
      "metadata": {
        "execution": {},
        "id": "nRiITSMKjrFz"
      },
      "source": [
        "---\n",
        "# Tutorial Objectives\n",
        "\n",
        "*Estimated timing of tutorial: 30 minutes*\n",
        "\n",
        "This is Tutorial 2 of a series on fitting models to data. We start with simple linear regression, using least squares optimization (Tutorial 1) and Maximum Likelihood Estimation (Tutorial 2). We will use bootstrapping to build confidence intervals around the inferred linear model parameters (Tutorial 3). We'll finish our exploration of regression models by generalizing to multiple linear regression and polynomial regression (Tutorial 4). We end by learning how to choose between these various models. We discuss the bias-variance trade-off (Tutorial 5) and Cross Validation for model selection (Tutorial 6).\n",
        "\n",
        "In this tutorial, we will use a different approach to fit linear models that incorporates the random 'noise' in our data.\n",
        "- Learn about probability distributions and probabilistic models\n",
        "- Learn how to calculate the likelihood of our model parameters\n",
        "- Learn how to implement the maximum likelihood estimator, to find the model parameter with the maximum likelihood\n",
        "\n"
      ]
    },
    {
      "cell_type": "code",
      "execution_count": 1,
      "metadata": {
        "cellView": "form",
        "execution": {},
        "id": "Dghoq4HKjrF1",
        "outputId": "e20d0da1-aefc-4c1a-feb1-ac926cbe92cd",
        "colab": {
          "base_uri": "https://localhost:8080/",
          "height": 501
        }
      },
      "outputs": [
        {
          "output_type": "execute_result",
          "data": {
            "text/plain": [
              "<IPython.lib.display.IFrame at 0x7fd35a904150>"
            ],
            "text/html": [
              "\n",
              "        <iframe\n",
              "            width=\"854\"\n",
              "            height=\"480\"\n",
              "            src=\"https://mfr.ca-1.osf.io/render?url=https://osf.io/2mkq4/?direct%26mode=render%26action=download%26mode=render\"\n",
              "            frameborder=\"0\"\n",
              "            allowfullscreen\n",
              "        ></iframe>\n",
              "        "
            ]
          },
          "metadata": {},
          "execution_count": 1
        }
      ],
      "source": [
        "# @title Tutorial slides\n",
        "\n",
        "# @markdown These are the slides for the videos in all tutorials today\n",
        "from IPython.display import IFrame\n",
        "IFrame(src=f\"https://mfr.ca-1.osf.io/render?url=https://osf.io/2mkq4/?direct%26mode=render%26action=download%26mode=render\", width=854, height=480)"
      ]
    },
    {
      "cell_type": "markdown",
      "metadata": {
        "execution": {},
        "id": "p1Y__eBfjrF2"
      },
      "source": [
        "---\n",
        "# Setup"
      ]
    },
    {
      "cell_type": "code",
      "execution_count": 2,
      "metadata": {
        "execution": {},
        "id": "Cd5mlTnVjrF3"
      },
      "outputs": [],
      "source": [
        "import numpy as np\n",
        "import matplotlib.pyplot as plt\n",
        "from scipy import stats"
      ]
    },
    {
      "cell_type": "code",
      "execution_count": 3,
      "metadata": {
        "cellView": "form",
        "execution": {},
        "id": "jGeKsUG2jrF3"
      },
      "outputs": [],
      "source": [
        "#@title Figure Settings\n",
        "import ipywidgets as widgets       # interactive display\n",
        "%config InlineBackend.figure_format = 'retina'\n",
        "plt.style.use(\"https://raw.githubusercontent.com/NeuromatchAcademy/course-content/main/nma.mplstyle\")"
      ]
    },
    {
      "cell_type": "code",
      "execution_count": 4,
      "metadata": {
        "cellView": "form",
        "execution": {},
        "id": "gED0WFUijrF4"
      },
      "outputs": [],
      "source": [
        "# @title Plotting Functions\n",
        "def plot_density_image(x, y, theta, sigma=1, ax=None):\n",
        "  \"\"\" Plots probability distribution of y given x, theta, and sigma\n",
        "\n",
        "  Args:\n",
        "\n",
        "    x (ndarray): An array of shape (samples,) that contains the input values.\n",
        "    y (ndarray): An array of shape (samples,) that contains the corresponding\n",
        "      measurement values to the inputs.\n",
        "    theta (float): Slope parameter\n",
        "    sigma (float): standard deviation of Gaussian noise\n",
        "\n",
        "  \"\"\"\n",
        "\n",
        "  # plot the probability density of p(y|x,theta)\n",
        "  if ax is None:\n",
        "    fig, ax = plt.subplots()\n",
        "\n",
        "  xmin, xmax = np.floor(np.min(x)), np.ceil(np.max(x))\n",
        "  ymin, ymax = np.floor(np.min(y)), np.ceil(np.max(y))\n",
        "  xx = np.linspace(xmin, xmax, 50)\n",
        "  yy = np.linspace(ymin, ymax, 50)\n",
        "\n",
        "  surface = np.zeros((len(yy), len(xx)))\n",
        "  for i, x_i in enumerate(xx):\n",
        "    surface[:, i] = stats.norm(theta * x_i, sigma).pdf(yy)\n",
        "\n",
        "  ax.set(xlabel='x', ylabel='y')\n",
        "\n",
        "  return ax.imshow(surface, origin='lower', aspect='auto', vmin=0, vmax=None,\n",
        "            cmap=plt.get_cmap('Wistia'),\n",
        "            extent=[xmin, xmax, ymin, ymax])"
      ]
    },
    {
      "cell_type": "markdown",
      "metadata": {
        "execution": {},
        "id": "pMhNzn7ojrF5"
      },
      "source": [
        "---\n",
        "# Section 1: Maximum Likelihood Estimation (MLE)\n"
      ]
    },
    {
      "cell_type": "code",
      "execution_count": 5,
      "metadata": {
        "cellView": "form",
        "execution": {},
        "id": "78ftpYa1jrF6",
        "outputId": "a54c3274-0f68-4a2e-b425-cd93034d5ef4",
        "colab": {
          "base_uri": "https://localhost:8080/",
          "height": 581,
          "referenced_widgets": [
            "4b9e27b9de1841808fe68e57d82f06fc",
            "2162413d9fd84608ae0bf7d5502d4fd8",
            "27694e414e2c46f2ac500468e63c746f",
            "4e5671ca82b24d539f765cacf2069f53",
            "6b2fb0a469824e619b74f092ba642ac6",
            "3a4ad8f907a64114b699a56802e9ffeb"
          ]
        }
      },
      "outputs": [
        {
          "output_type": "display_data",
          "data": {
            "text/plain": [
              "Tab(children=(Output(), Output()), _titles={'0': 'Youtube', '1': 'Bilibili'})"
            ],
            "application/vnd.jupyter.widget-view+json": {
              "version_major": 2,
              "version_minor": 0,
              "model_id": "4b9e27b9de1841808fe68e57d82f06fc"
            }
          },
          "metadata": {}
        }
      ],
      "source": [
        "# @title Video 1: Maximum Likelihood Estimation\n",
        "from ipywidgets import widgets\n",
        "\n",
        "out2 = widgets.Output()\n",
        "with out2:\n",
        "  from IPython.display import IFrame\n",
        "  class BiliVideo(IFrame):\n",
        "      def __init__(self, id, page=1, width=400, height=300, **kwargs):\n",
        "          self.id=id\n",
        "          src = 'https://player.bilibili.com/player.html?bvid={0}&page={1}'.format(id, page)\n",
        "          super(BiliVideo, self).__init__(src, width, height, **kwargs)\n",
        "\n",
        "  video = BiliVideo(id=\"BV1Mg4y1i7WH\", width=854, height=480, fs=1)\n",
        "  print('Video available at https://www.bilibili.com/video/{0}'.format(video.id))\n",
        "  display(video)\n",
        "\n",
        "out1 = widgets.Output()\n",
        "with out1:\n",
        "  from IPython.display import YouTubeVideo\n",
        "  video = YouTubeVideo(id=\"8mpNmzLKNfU\", width=854, height=480, fs=1, rel=0)\n",
        "  print('Video available at https://youtube.com/watch?v=' + video.id)\n",
        "  display(video)\n",
        "\n",
        "out = widgets.Tab([out1, out2])\n",
        "out.set_title(0, 'Youtube')\n",
        "out.set_title(1, 'Bilibili')\n",
        "\n",
        "display(out)"
      ]
    },
    {
      "cell_type": "markdown",
      "metadata": {
        "execution": {},
        "id": "zL2fM_s7jrF7"
      },
      "source": [
        "This video covers Maximum Likelihood Estimation (MLE) in the context of a 1D linear regression.\n"
      ]
    },
    {
      "cell_type": "markdown",
      "metadata": {
        "execution": {},
        "id": "q5-YSYjfjrF7"
      },
      "source": [
        "## Section 1.1: Gaussian noise"
      ]
    },
    {
      "cell_type": "markdown",
      "metadata": {
        "execution": {},
        "id": "XNbsjPoOjrF8"
      },
      "source": [
        "\n",
        "<details>\n",
        "<summary> <font color='blue'>Click here for text recap of relevant part of video </font></summary>\n",
        "\n",
        "In the previous tutorial we made the assumption that the data was drawn from a linear relationship with noise added, and found an effective approach for estimating model parameters based on minimizing the mean squared error.\n",
        "\n",
        "In that case we treated the noise as simply a nuisance, but what if we factored it directly into our model?\n",
        "\n",
        "Recall our linear model:\n",
        "\n",
        "\\begin{align}\n",
        "y = \\theta x + \\epsilon.\n",
        "\\end{align}\n",
        "\n",
        "The noise component $\\epsilon$ is often modeled as a random variable drawn from a Gaussian distribution (also called the normal distribution).\n",
        "\n",
        "The Gaussian distribution is described by its [probability density function](https://en.wikipedia.org/wiki/Probability_density_function) (pdf)\n",
        "\\begin{align}\n",
        "\\mathcal{N}(x; \\mu, \\sigma^2) = \\frac{1}{\\sqrt{2\\pi\\sigma^2}}e^{-\\frac{1}{2\\sigma^2}(x-\\mu)^2}\n",
        "\\end{align}\n",
        "\n",
        "and is dependent on two parameters: the mean $\\mu$ and the variance $\\sigma^2$. We often consider the noise signal to be Gaussian \"white noise\", with zero mean and unit variance:\n",
        "\n",
        "\\begin{align}\n",
        "\\epsilon \\sim \\mathcal{N}(0, 1).\n",
        "\\end{align}\n",
        "\n"
      ]
    },
    {
      "cell_type": "markdown",
      "metadata": {
        "execution": {},
        "id": "ojlOHtUZjrF8"
      },
      "source": [
        "### Interactive Demo 1.1: Gaussian Distribution Explorer\n",
        "\n",
        "Use the explorer widget below to see how varying the $\\mu$ and $\\sigma$ parameters change the location and shape of the samples.\n",
        "\n",
        "\n",
        "1.   What effect does varying $\\mu$ have on the pdf?\n",
        "2.   What effect does varying $\\sigma$ have on the pdf?\n",
        "\n"
      ]
    },
    {
      "cell_type": "code",
      "execution_count": 6,
      "metadata": {
        "cellView": "form",
        "execution": {},
        "id": "Yvi5x_YkjrF9",
        "outputId": "e201d507-ee4a-4c0a-d281-e8c0c17473a5",
        "colab": {
          "base_uri": "https://localhost:8080/",
          "height": 494,
          "referenced_widgets": [
            "a2d4cd108d8a4c0ea92fe9076bdb06c4",
            "21d0924540bc41e2ada86049fa675cc1",
            "e1798e14c43e4b86b83c8e1c0304dd88",
            "2ae1d4b2a5534e1c9098e13407a49ba4",
            "1e6326801f7049f78a1d0112f700c1f8",
            "5c32bba30446494da4ec942af55edc8a",
            "fe57428c951d4a82a770de75ffb1be43",
            "36fe10d05d3c494db31d043a9bb81b85",
            "8e7524ded06340e1865005eaccb4caf4",
            "81d910b8ae424be8812057b4b580616e"
          ]
        }
      },
      "outputs": [
        {
          "output_type": "display_data",
          "data": {
            "text/plain": [
              "interactive(children=(FloatSlider(value=0.0, description='mu', max=2.0, min=-2.0), FloatSlider(value=1.0, desc…"
            ],
            "application/vnd.jupyter.widget-view+json": {
              "version_major": 2,
              "version_minor": 0,
              "model_id": "a2d4cd108d8a4c0ea92fe9076bdb06c4"
            }
          },
          "metadata": {}
        }
      ],
      "source": [
        "# @markdown Make sure you execute this cell to enable the widget!\n",
        "\n",
        "@widgets.interact(mu=widgets.FloatSlider(0.0, min=-2.0, max=2.0),\n",
        "                  sigma=widgets.FloatSlider(1.0, min=0.5, max=2.0))\n",
        "def plot_normal_dist(mu=0, sigma=1):\n",
        "\n",
        "  # Generate pdf & samples from normal distribution with mu/sigma\n",
        "  rv = stats.norm(mu, sigma)\n",
        "  x = np.linspace(-5, 5, 100)\n",
        "  y = rv.pdf(x)\n",
        "  samples = rv.rvs(1000)\n",
        "\n",
        "  # Plot\n",
        "  fig, ax = plt.subplots()\n",
        "  ax.hist(samples, 20, density=True, color='g', histtype='stepfilled', alpha=0.8,\n",
        "          label='histogram')\n",
        "  ax.plot(x, y, color='orange', linewidth=3, label='pdf')\n",
        "  ax.vlines(mu, 0, rv.pdf(mu), color='y', linewidth=3, label='$\\mu$')\n",
        "  ax.vlines([mu-sigma, mu+sigma], 0, rv.pdf([mu-sigma, mu+sigma]), colors='red',\n",
        "            color='b', linewidth=3, label='$\\sigma$')\n",
        "  ax.set(xlabel='x', ylabel='probability density', xlim=[-5, 5], ylim=[0, 1.0])\n",
        "  ax.legend()"
      ]
    },
    {
      "cell_type": "markdown",
      "metadata": {
        "execution": {},
        "id": "gHwhdz-1jrF9"
      },
      "source": [
        "[*Click for solution*](https://github.com/NeuromatchAcademy/course-content/tree/main//tutorials/W1D2_ModelFitting/solutions/W1D2_Tutorial2_Solution_5f94b40f.py)\n",
        "\n"
      ]
    },
    {
      "cell_type": "markdown",
      "metadata": {
        "execution": {},
        "id": "XDgMENUNjrF-"
      },
      "source": [
        "## Section 1.2: Probabilistic Models\n",
        "\n",
        "*Estimated timing to here from start of tutorial: 11 min*\n",
        "\n",
        "Now that we have a model of our noise component $\\epsilon$ as random variable, how do we incorporate this back into our original linear model from before? Consider again our simplified model $y = \\theta x + \\epsilon$ where the noise has zero mean and unit variance $\\epsilon \\sim \\mathcal{N}(0, 1)$. We can now also treat $y$ as a random variable drawn from a Gaussian distribution where $\\mu = \\theta x$ and $\\sigma^2 = 1$:\n",
        "\n",
        "\\begin{equation}\n",
        "y \\sim \\mathcal{N}(\\theta x, 1)\n",
        "\\end{equation}\n",
        "\n",
        "which is to say that the probability of observing $y$ given $x$ and parameter $\\theta$ is\n",
        "\n",
        "\\begin{equation}\n",
        "p(y|x,\\theta) = \\frac{1}{\\sqrt{2\\pi}}e^{-\\frac{1}{2}(y-\\theta x)^2}\n",
        "\\end{equation}\n",
        "\n",
        "\n",
        "Note that in this and the following sections, we will focus on a single data point (a single pairing of $x$ and $y$). We have dropped the subscript $i$ just for simplicity (that is, we use $x$ for a single data point, instead of $x_i$). \n",
        "\n",
        "Now, let's revisit our original sample dataset where the true underlying model has $\\theta = 1.2$."
      ]
    },
    {
      "cell_type": "code",
      "execution_count": 7,
      "metadata": {
        "cellView": "form",
        "execution": {},
        "id": "ZQSv7ZbnjrF-"
      },
      "outputs": [],
      "source": [
        "# @markdown Execute this cell to generate some simulated data\n",
        "\n",
        "# setting a fixed seed to our random number generator ensures we will always\n",
        "# get the same psuedorandom number sequence\n",
        "\n",
        "np.random.seed(121)\n",
        "theta = 1.2\n",
        "n_samples = 30\n",
        "x = 10 * np.random.rand(n_samples) # sample from a uniform distribution over [0,10)\n",
        "noise = np.random.randn(n_samples) # sample from a standard normal distribution\n",
        "y = theta * x + noise"
      ]
    },
    {
      "cell_type": "markdown",
      "metadata": {
        "execution": {},
        "id": "iqqUOmhYjrF-"
      },
      "source": [
        "This time we can plot the density of $p(y|x,\\theta=1.2)$ and see how $p(y)$ changes for different values of $x$."
      ]
    },
    {
      "cell_type": "code",
      "execution_count": 8,
      "metadata": {
        "cellView": "form",
        "execution": {},
        "id": "H01yvW-RjrF_",
        "outputId": "c7908e92-f963-47b2-c046-c68000dddc63",
        "colab": {
          "base_uri": "https://localhost:8080/",
          "height": 286
        }
      },
      "outputs": [
        {
          "output_type": "display_data",
          "data": {
            "text/plain": [
              "<Figure size 720x288 with 3 Axes>"
            ],
            "image/png": "[encoded data removed]"
          },
          "metadata": {
            "image/png": {
              "width": 702,
              "height": 269
            },
            "needs_background": "light"
          }
        }
      ],
      "source": [
        "# @markdown Execute this cell to visualize p(y|x, theta=1.2)\n",
        "\n",
        "fig, (ax1, ax2) = plt.subplots(ncols=2, figsize=(10, 4))\n",
        "\n",
        "# Invokes helper function to generate density image plots from data and parameters\n",
        "im = plot_density_image(x, y, 1.2, ax=ax1)\n",
        "plt.colorbar(im, ax=ax1)\n",
        "ax1.axvline(8, color='k')\n",
        "ax1.set(title=r'p(y | x, $\\theta$=1.2)')\n",
        "\n",
        "# Plot pdf for given x\n",
        "ylim = ax1.get_ylim()\n",
        "yy = np.linspace(ylim[0], ylim[1], 50)\n",
        "ax2.plot(yy, stats.norm(theta * 8, 1).pdf(yy), color='orange', linewidth=2)\n",
        "ax2.set(\n",
        "    title=r'p(y|x=8, $\\theta$=1.2)',\n",
        "    xlabel='y',\n",
        "    ylabel='probability density');"
      ]
    },
    {
      "cell_type": "markdown",
      "metadata": {
        "execution": {},
        "id": "xwe2Jd4njrF_"
      },
      "source": [
        "## Section 1.3: Likelihood Estimation\n",
        "\n",
        "*Estimated timing to here from start of tutorial: 15 min*\n",
        "\n",
        "Now that we have our probabilistic model, we turn back to our original challenge of finding a good estimate for $\\theta$ that fits our data. Given the inherent uncertainty when dealing in probabilities, we talk about the [likelihood](https://en.wikipedia.org/wiki/Likelihood_function) that some estimate $\\hat{\\theta}$ fits our data. The likelihood function $\\mathcal{L}(\\theta)$ is equal to the probability density function parameterized by that $\\theta$:\n",
        "\n",
        "\\begin{equation}\n",
        "\\mathcal{L}(\\theta|x,y) = p(y|x,\\theta) = \\frac{1}{\\sqrt{2\\pi\\sigma^2}}e^{-\\frac{1}{2\\sigma^2}(y-\\theta x)^2}\n",
        "\\end{equation}"
      ]
    },
    {
      "cell_type": "markdown",
      "metadata": {
        "execution": {},
        "id": "u68xGiJPjrGA"
      },
      "source": [
        "### Coding Exercise 1.3: Likelihood Function\n",
        "\n",
        "In this exercise you will implement the likelihood function $\\mathcal{L}(\\theta|x, y)$ for our linear model where $\\sigma = 1$.\n",
        "\n",
        "After implementing this function, we can produce probabilities that our estimate $\\hat{\\theta}$ generated the provided observations. We will try with one of the samples from our dataset.\n",
        "\n",
        "TIP: Use `np.exp` and `np.sqrt` for the exponential and square root functions, respectively."
      ]
    },
    {
      "cell_type": "code",
      "execution_count": 11,
      "metadata": {
        "execution": {},
        "id": "Rci6P824jrGA",
        "outputId": "0686a790-b890-422b-8f0e-758d5a424b3f",
        "colab": {
          "base_uri": "https://localhost:8080/"
        }
      },
      "outputs": [
        {
          "output_type": "stream",
          "name": "stdout",
          "text": [
            "0.11347320268373305\n"
          ]
        }
      ],
      "source": [
        "def likelihood(theta_hat, x, y):\n",
        "  \"\"\"The likelihood function for a linear model with noise sampled from a\n",
        "    Gaussian distribution with zero mean and unit variance.\n",
        "\n",
        "  Args:\n",
        "    theta_hat (float): An estimate of the slope parameter.\n",
        "    x (ndarray): An array of shape (samples,) that contains the input values.\n",
        "    y (ndarray): An array of shape (samples,) that contains the corresponding\n",
        "      measurement values to the inputs.\n",
        "\n",
        "  Returns:\n",
        "    ndarray: the likelihood values for the theta_hat estimate\n",
        "  \"\"\"\n",
        "  sigma = 1\n",
        "  ##############################################################################\n",
        "  ## TODO for students: implement the likelihood function\n",
        "  # Fill out function and remove\n",
        "  #raise NotImplementedError(\"Student exercise: implement the likelihood function\")\n",
        "  ##############################################################################\n",
        "\n",
        "  # Compute Gaussian likelihood\n",
        "  pdf = 1/np.sqrt(2*3.14*(sigma**2))*np.exp(-1/2*(sigma**2)*(y-theta_hat*x)**2)\n",
        "\n",
        "  return pdf\n",
        "\n",
        "\n",
        "print(likelihood(1.0, x[1], y[1]))"
      ]
    },
    {
      "cell_type": "markdown",
      "metadata": {
        "cellView": "both",
        "execution": {},
        "id": "b73nUXryjrGA"
      },
      "source": [
        "[*Click for solution*](https://github.com/NeuromatchAcademy/course-content/tree/main//tutorials/W1D2_ModelFitting/solutions/W1D2_Tutorial2_Solution_328a0c30.py)\n",
        "\n"
      ]
    },
    {
      "cell_type": "markdown",
      "metadata": {
        "execution": {},
        "id": "-1GIKeanjrGB"
      },
      "source": [
        "We should see that $\\mathcal{L}(\\theta=1.0|x=2.1,y=3.7) \\approx 0.11$. So far so good, but how does this tell us how this estimate is better than any others?\n",
        "\n",
        "When dealing with a set of data points, as we are with our dataset, we are concerned with their joint probability -- the likelihood that all data points are explained by our parameterization. Since we have assumed that the noise affects each output independently, we can factorize the likelihood, and write:\n",
        "\n",
        "\\begin{equation}\n",
        "\\mathcal{L}(\\theta|\\mathbf{x}, \\mathbf{y}) = \\prod_{i=1}^N \\mathcal{L}(\\theta|x_i,y_i),\n",
        "\\end{equation}\n",
        "\n",
        "where we have $N$ data points $\\mathbf{x} = [x_1,...,x_N]$ and $\\mathbf{y} = [y_1,...,y_N]$.\n",
        "\n",
        "In practice, such a product can be numerically unstable. Indeed, multiplying small values together can lead to [arithmetic underflow](https://en.wikipedia.org/wiki/Arithmetic_underflow), the situation in which the digital representation of a floating point number reaches its limit. This problem can be circumvented by taking the logarithm of the likelihood because the logarithm transforms products into sums:\n",
        "\n",
        "\\begin{equation}\n",
        "\\log\\mathcal{L}(\\theta|\\mathbf{x}, \\mathbf{y}) = \\sum_{i=1}^N \\log\\mathcal{L}(\\theta|x_i,y_i)\n",
        "\\end{equation}\n",
        "\n",
        "We can take the sum of the log of the output of our `likelihood` method applied to the full dataset to get a better idea of how different $\\hat{\\theta}$ compare. We can also plot the different distribution densities over our dataset and see how they line up qualitatively."
      ]
    },
    {
      "cell_type": "code",
      "execution_count": 12,
      "metadata": {
        "cellView": "form",
        "execution": {},
        "id": "g5aPpKZCjrGB",
        "outputId": "8f6a6564-3936-4d85-faa1-49cd3442192f",
        "colab": {
          "base_uri": "https://localhost:8080/",
          "height": 286
        }
      },
      "outputs": [
        {
          "output_type": "display_data",
          "data": {
            "text/plain": [
              "<Figure size 1152x288 with 4 Axes>"
            ],
            "image/png": "[encoded data removed]"
          },
          "metadata": {
            "image/png": {
              "width": 1126,
              "height": 269
            },
            "needs_background": "light"
          }
        }
      ],
      "source": [
        "# @markdown Execute this cell to visualize different distribution densities\n",
        "theta_hats = [0.5, 1.0, 2.2]\n",
        "fig, axes = plt.subplots(ncols=3, figsize=(16, 4))\n",
        "for theta_hat, ax in zip(theta_hats, axes):\n",
        "  ll = np.sum(np.log(likelihood(theta_hat, x, y)))  # log likelihood\n",
        "  im = plot_density_image(x, y, theta_hat, ax=ax)\n",
        "  ax.scatter(x, y)\n",
        "  ax.set(title=fr'$\\hat{{\\theta}}$ = {theta_hat}, log likelihood: {ll:.2f}')\n",
        "plt.colorbar(im, ax=ax);"
      ]
    },
    {
      "cell_type": "markdown",
      "metadata": {
        "execution": {},
        "id": "EbPRsVF2jrGB"
      },
      "source": [
        "Using the log likelihood calculation, we see that $\\mathcal{L}(\\theta=1.0) > \\mathcal{L}(\\theta=0.5) > \\mathcal{L}(\\theta=2.2)$.\n",
        "\n",
        "This is great: now we have a way to compare estimators based on likelihood. But like with the MSE approach, we want an analytic solution to find the best estimator. In this case, we want to find the estimator that maximizes the likelihood.\n"
      ]
    },
    {
      "cell_type": "markdown",
      "metadata": {
        "execution": {},
        "id": "PpEWeDK0jrGC"
      },
      "source": [
        "## Section 1.4: Finding the Maximum Likelihood Estimator\n",
        "\n",
        "*Estimated timing to here from start of tutorial: 23 min*\n",
        "\n",
        "<details>\n",
        "<summary> <font color='blue'>Click here for text recap of relevant part of video </font></summary>\n",
        "\n",
        "We want to find the parameter value $\\hat\\theta$ that makes our data set most likely:\n",
        "\n",
        "\\begin{align}\n",
        "\\hat{\\theta}_{\\textrm{MLE}} = \\underset{\\theta}{\\operatorname{argmax}} \\mathcal{L}(\\theta|X,Y) \n",
        "\\end{align}\n",
        "\n",
        "We discussed how taking the logarithm of the likelihood helps with numerical stability, the good thing is that it does so without changing the parameter value that maximizes the likelihood. Indeed, the $\\log()$ function is *monotonically increasing*, which means that it preserves the order of its inputs. So we have:\n",
        "\n",
        "\\begin{align}\n",
        "\\hat{\\theta}_{\\textrm{MLE}} = \\underset{\\theta}{\\operatorname{argmax}} \\sum_{i=1}^m \\textrm{log} \\mathcal{L}(\\theta|x_i,y_i) \n",
        "\\end{align}\n",
        "\n",
        "Now substituting our specific likelihood function and taking its logarithm, we get:\n",
        "\\begin{align}\n",
        "\\hat{\\theta}_{\\textrm{MLE}} = \\underset{\\theta}{\\operatorname{argmax}} [-\\frac{N}{2} \\operatorname{log} 2\\pi\\sigma^2 - \\frac{1}{2\\sigma^2}\\sum_{i=1}^N (y_i-\\theta x_i)^2].\n",
        "\\end{align}\n",
        "\n",
        "Note that maximizing the log likelihood is the same as minimizing the negative log likelihood (in practice optimization routines are developed to solve minimization not maximization problems). Because of the convexity of this objective function, we can take the derivative of our negative log likelihhood, set it to 0, and solve - just like our solution to minimizing MSE.\n",
        "\n",
        "\\begin{align}\n",
        "\\frac{\\partial\\operatorname{log}\\mathcal{L}(\\theta|x,y)}{\\partial\\theta}=\\frac{1}{\\sigma^2}\\sum_{i=1}^N(y_i-\\theta x_i)x_i = 0\n",
        "\\end{align}\n",
        "\n",
        "This looks remarkably like the equation we had to solve for the optimal MSE estimator, and, in fact, we arrive to the exact same solution!\n",
        "\n",
        "\\begin{align}\n",
        "\\hat{\\theta}_{\\textrm{MLE}} = \\hat{\\theta}_{\\textrm{MSE}} = \\frac{\\sum_{i=1}^N x_i y_i}{\\sum_{i=1}^N x_i^2}\n",
        "\\end{align}"
      ]
    },
    {
      "cell_type": "code",
      "execution_count": 13,
      "metadata": {
        "execution": {},
        "id": "nPilHSA4jrGC"
      },
      "outputs": [],
      "source": [
        "# Compute theta_hat_MLE\n",
        "theta_hat_mle = (x @ y) / (x @ x)"
      ]
    },
    {
      "cell_type": "code",
      "execution_count": null,
      "metadata": {
        "cellView": "form",
        "execution": {},
        "id": "W7qdZ7uCjrGC"
      },
      "outputs": [],
      "source": [
        "#@title\n",
        "#@markdown Execute this cell to visualize density with theta_hat_mle\n",
        "\n",
        "# Plot the resulting distribution density\n",
        "fig, ax = plt.subplots()\n",
        "ll = np.sum(np.log(likelihood(theta_hat_mle, x, y))) # log likelihood\n",
        "im = plot_density_image(x, y, theta_hat_mle, ax=ax)\n",
        "plt.colorbar(im, ax=ax);\n",
        "ax.scatter(x, y)\n",
        "ax.set(title=fr'$\\hat{{\\theta}}$ = {theta_hat_mle:.2f}, log likelihood: {ll:.2f}');"
      ]
    },
    {
      "cell_type": "markdown",
      "metadata": {
        "execution": {},
        "id": "h4luHMRJjrGD"
      },
      "source": [
        "---\n",
        "# Summary\n",
        "\n",
        "*Estimated timing of tutorial: 30 minutes*\n",
        "\n",
        "\n",
        "Likelihood vs probability:\n",
        "\n",
        "  - $\\mathcal{L}(\\theta|x, y) = p(y|x, \\theta)$\n",
        "  - $p(y|x, \\theta) \\rightarrow$ \"probability of observing the response $y$ given parameter $\\theta$ and input $x$\"\n",
        "  - $\\mathcal{L}(\\theta|x, y) \\rightarrow$ \"likelihood model that parameters $\\theta$ produced response $y$ from input $x$\"\n",
        "\n",
        "Log-likelihood maximization:\n",
        "\n",
        "  - We take the $\\log$ of the likelihood function for computational convenience\n",
        "  - The parameters $\\theta$ that maximize $\\log\\mathcal{L}(\\theta|x, y)$ are the model parameters that maximize the probability of observing the data.\n",
        "\n",
        "**Key point**: the log-likelihood is a flexible cost function, and is often used to find model parameters that best fit the data."
      ]
    },
    {
      "cell_type": "markdown",
      "metadata": {
        "execution": {},
        "id": "hPWv5AVNjrGD"
      },
      "source": [
        "\n",
        "---\n",
        "# Notation\n",
        "\n",
        "\\begin{align}\n",
        "x &\\quad \\text{input, independent variable}\\\\\n",
        "y &\\quad \\text{response measurement, dependent variable}\\\\\n",
        "\\mathbf{x} &\\quad \\text{vector of input values}\\\\\n",
        "\\mathbf{y} &\\quad \\text{vector of measurements}\\\\\n",
        "\\epsilon &\\quad \\text{measurement error, noise contribution}\\\\\n",
        "\\epsilon \\sim \\mathcal{N}(\\mu, \\sigma^2) &\\quad \\text{random variable } \\epsilon \\text{ is distributed according to a Gaussian distribution, with mean } \\mu \\text{ and variance } \\sigma^2\\\\\n",
        "\\mu &\\quad \\text{mean}\\\\\n",
        "\\sigma^2 &\\quad \\text{variance}\\\\\n",
        "\\sigma &\\quad \\text{standard deviation}\\\\\n",
        "\\theta &\\quad \\text{parameter}\\\\\n",
        "\\hat{\\theta} &\\quad \\text{estimate of parameter}\\\\\n",
        "\\mathcal{L}(\\theta|x, y) &\\quad \\text{likelihood of that parameter } \\theta \\text{ producing response } y \\text{ from input } x \\\\ \n",
        "p(y|x, \\theta) &\\quad \\text{probability of observing the response } y \\text{ given input } x \\text{ and parameter } \\theta \\\\ \n",
        "\\end{align}"
      ]
    },
    {
      "cell_type": "markdown",
      "metadata": {
        "execution": {},
        "id": "3JnOsoT_jrGD"
      },
      "source": [
        "---\n",
        "# Bonus"
      ]
    },
    {
      "cell_type": "markdown",
      "metadata": {
        "execution": {},
        "id": "353IJtpDjrGD"
      },
      "source": [
        "We can also see $\\mathrm{p}(\\mathrm{y} | \\mathrm{x}, \\theta)$ as a function of $x$. This is the stimulus likelihood function, and it is useful in case we want to decode the input $x$ from observed responses $y$. This is what is relevant from the point of view of a neuron that does not have access to the outside world and tries to infer what's out there from the responses of other neurons!\n",
        "\n",
        "\n",
        "\n"
      ]
    }
  ],
  "metadata": {
    "celltoolbar": "Slideshow",
    "colab": {
      "collapsed_sections": [],
      "name": "W1D2_Tutorial2",
      "provenance": [],
      "include_colab_link": true
    },
    "kernel": {
      "display_name": "Python 3",
      "language": "python",
      "name": "python3"
    },
    "kernelspec": {
      "display_name": "Python 3",
      "language": "python",
      "name": "python3"
    },
    "language_info": {
      "codemirror_mode": {
        "name": "ipython",
        "version": 3
      },
      "file_extension": ".py",
      "mimetype": "text/x-python",
      "name": "python",
      "nbconvert_exporter": "python",
      "pygments_lexer": "ipython3",
      "version": "3.7.13"
    },
    "widgets": {
      "application/vnd.jupyter.widget-state+json": {
        "4b9e27b9de1841808fe68e57d82f06fc": {
          "model_module": "@jupyter-widgets/controls",
          "model_name": "TabModel",
          "model_module_version": "1.5.0",
          "state": {
            "_dom_classes": [],
            "_model_module": "@jupyter-widgets/controls",
            "_model_module_version": "1.5.0",
            "_model_name": "TabModel",
            "_titles": {
              "0": "Youtube",
              "1": "Bilibili"
            },
            "_view_count": null,
            "_view_module": "@jupyter-widgets/controls",
            "_view_module_version": "1.5.0",
            "_view_name": "TabView",
            "box_style": "",
            "children": [
              "IPY_MODEL_2162413d9fd84608ae0bf7d5502d4fd8",
              "IPY_MODEL_27694e414e2c46f2ac500468e63c746f"
            ],
            "layout": "IPY_MODEL_4e5671ca82b24d539f765cacf2069f53",
            "selected_index": 0
          }
        },
        "2162413d9fd84608ae0bf7d5502d4fd8": {
          "model_module": "@jupyter-widgets/output",
          "model_name": "OutputModel",
          "model_module_version": "1.0.0",
          "state": {
            "_dom_classes": [],
            "_model_module": "@jupyter-widgets/output",
            "_model_module_version": "1.0.0",
            "_model_name": "OutputModel",
            "_view_count": null,
            "_view_module": "@jupyter-widgets/output",
            "_view_module_version": "1.0.0",
            "_view_name": "OutputView",
            "layout": "IPY_MODEL_6b2fb0a469824e619b74f092ba642ac6",
            "msg_id": "",
            "outputs": [
              {
                "output_type": "stream",
                "name": "stdout",
                "text": [
                  "Video available at https://youtube.com/watch?v=8mpNmzLKNfU\n"
                ]
              },
              {
                "output_type": "display_data",
                "data": {
                  "text/plain": "<IPython.lib.display.YouTubeVideo at 0x7fd35b7a0110>",
                  "text/html": "\n        <iframe\n            width=\"854\"\n            height=\"480\"\n            src=\"https://www.youtube.com/embed/8mpNmzLKNfU?fs=1&rel=0\"\n            frameborder=\"0\"\n            allowfullscreen\n        ></iframe>\n        ",
                  "image/jpeg": "/9j/4AAQSkZJRgABAQAAAQABAAD/2wCEAAUDBAkICAoICggICAgICggICAgICwgICAgICAgICAgICAgKChALCAgOCggIDRUNDhERExMTCAsWGBYSGBASExIBBQUFCAcIDQkIDxINEA0SEhISEhISEhISEhISEhISEhISEhISEhISEhISEhISEhISEhISEhISEhISEhISEhISEv/AABEIAWgB4AMBIgACEQEDEQH/xAAdAAEAAgMBAQEBAAAAAAAAAAAABgcEBQgDAQIJ/8QAVhAAAQMCAwMGBgsLCgYDAQEAAQACAwQRBRIhBhMxBxYiQVKRCBRRYXHSFRgyVFVzgZOx1OIJIzRCkpShpLPR8CQzNTZidbS1weFTcnSCsvE3Q6KFdv/EABoBAQADAQEBAAAAAAAAAAAAAAABAgMEBQb/xAAmEQEAAgICAgEEAgMAAAAAAAAAAQIDERIhBDFBE1FhcRQyBeHw/9oADAMBAAIRAxEAPwDjJERAREQEREBERAREQEREBERAREQEREBERAREQEREBERAREQEREBERAREQEREBERAREQEREBERAREQEREBERAREQEREBERAREQEREBERAREQEREBERAREQEREBERAREQEREBERAREQEREBERAREQEREBERAREQEREBERAREQEREBERAREQEREBERAREQEREBERAREQEREBFv+ak/bh73+onNSftw97/UQaBFv+ak/bh73+onNSftw97/UQaBFv+ak/bh73+onNSftw97/AFEGgRb/AJqT9uHvf6ic1J+3D3v9RBoEW/5qT9uHvf6ic1J+3D3v9RBoEW/5qT9uHvf6ic1J+3D3v9RBoEW/5qT9uHvf6ic1J+3D3v8AUQaBFv8AmpP24e9/qJzUn7cPe/1EGgRb/mpP24e9/qJzUn7cPe/1EGgRb/mpP24e9/qJzUn7cPe/1EGgRb/mpP24e9/qJzUn7cPe/wBRBoEW/wCak/bh73+onNSftw97/UQaBFv+ak/bh73+onNSftw97/UQaBFv+ak/bh73+onNSftw97/UQaBFv+ak/bh73+onNSftw97/AFEGgRb/AJqT9uHvf6ic1J+3D3v9RBoEW/5qT9uHvf6ic1J+3D3v9RBoEW/5qT9uHvf6ic1J+3D3v9RBoEW/5qT9uHvf6ic1J+3D3v8AUQaBFv8AmpP24e9/qJzUn7cPe/1EGgRb/mpP24e9/qJzUn7cPe/1EGgRb/mpP24e9/qJzUn7cPe/1EGgRb/mpP24e9/qJzUn7cPe/wBRBoEW/wCak/bh73+onNSftw97/UQaBFv+ak/bh73+onNSftw97/UQaBFv+ak/bh73+onNSftw97/UQaBFv+ak/bh73+onNSftw97/AFEGgRb/AJqT9uHvf6ic1J+3D3v9RBoEW/5qT9uHvf6ic1J+3D3v9RBoEW/5qT9uHvf6ic1J+3D3v9RBM0RFZUREQEREBERAREQEREBERAREQEREBERAREQEREBERAREQEREBERAREQEREBERAREQEREBERAREQEREBERAREQEREBERAREQEREBERARabHMd8VkEe6z5mB982Xi5zbWyns/pWBzuHvc/OfYUJ0lCKL87h73Pzn2E53D3ufnPsIaShFF+dw97n5z7Cc7h73Pzn2ENJQii/O4e9z859hOdw97n5z7CGkoRRfncPe5+c+wnO4e9z859hDSUIovzuHvc/OfYTncPe5+c+whpKEUX53D3ufnPsJzuHvc/OfYQ0lCKL87h73Pzn2E53D3ufnPsIaShFF+dw97n5z7Cc7h73Pzn2ENJQii/O4e9z859hOdw97n5z7CGkoRRfncPe5+c+wnO4e9z859hDSUIovzuHvc/OfYTncPe5+c+whpKEUX53D3ufnPsJzuHvc/OfYQ0lCKL87h73Pzn2E53D3ufnPsIaShFF+dw97n5z7Cc7h73Pzn2ENJQii/O4e9z859hOdw97n5z7CGkoRRfncPe5+c+wnO4e9z859hDSUIo5R7UCSRke4IzvYy+e9szg29smvFSNAREUoEREBERAREQEREBERAREQEREBERAREQEREBERBDNufwhnxTf2kq0C3+3P4Qz4pv7SVaBVWERSTYrYTFcb33sdh1VX+LbrxjxZhk3W+3m6z+TNupLf8AIUEbRbHaPBKrDaqSirKeWkq4C0TU8zSySMvY2RuZp4XY9rh5Q4LXICKYbR8mGO4bSeP1mEV1JRjd3qJ4yyMb4gRgk8C4uA+VQ9AREQEREBFZXLbyMYlsi2hfXVFBOMTFS6n8RkqJCwUopjJvt9TxZb+NR2y5uDr20vWqAiIgIrK5cuRjEtj3Uja+ow+c4gKh0PiMlRKGimMIfvd9TxWvv2Wtfg69tL1qgIrFj5DNqnAOGz2JkOAIIhNiCLg8Um5DdqWNL3bPYm1rQXOJhNg1ouSdeFggrpFINi9isTxp8keHUFTXvga18zaducxteS1rneQEg9y0dRC6N7o3tLXsc5j2nQtc0lrmkdRBBCDzREQERSPZzYXFcRpJ66kw6qqqOjzmqqIWZooN3FvpN47qtH0vQgjiIiAiIgIiICIiDLwf8Jh+Ni/aNVjquMH/AAmH42L9o1WOphEiIilAiIgIiICIiAiIgIiICIiAiIgIiICIiAiIgIiIIZtz+EM+Kb+0lWgW/wBufwhnxTf2kq0CqsLsT7m7VCCHaWdwJbDHhErg22YtjbjDyG367Bcdrrn7nr+A7V/9Nhv7HGUGJ90P2TYK3Dto6cB9PidOKWeWMDI6aBolpZS7i50tNJlH9mj76Y8GrYjnBtPh9A5gfTNlFXWhzczDR0n36Vkg7MhayH0ztXRuyTeenJPNQ2EuJbPtcyAZcz8+FsE9IIm3vmkw+Q0wPlL/AEKKeClGNmtk9oNtZQ1s5iOGYUXsJJkDmC4P48MlZNSNIHDxKQnhoF0+Gni0VbsJVzwuzRiuhp83UX0eKPpJS3ys3kD7HrFj1r+feA4RU19THR0tPLVVU7skMEDXSSyOsSQ1jRc2AJJ4AAk2AK6924eXci1E5xLnOdTOc5xJc5xxeYkknUkk3uvDwF8OpsL2dx/a58QnqqJtZBGDlzMgw6gjxGaOI6ZTM6aIHX/6GcNbhWNP4Jm17qffGhpWSWJFK+rpfGDa9mgteYQ42HGQe6F7a2qHbHZeuwerfQ19JNRVUdi6GYWJaSQ2SNwu2WI2NnsJabGxK3eKcqmP1Nc7EX41iQq3SGUSR1E8TYyXZskMTHhkUQ4CNoDQBa1l0/4QDmbV8mWH7VTsb7JUO4Mk7WtY6QurfYiujsBZsT6gMmyjQGNttL3DknYfZHEMbrG0GHUctbVvBeIosoDWNsHSSyPIjhiBc0F73NbdzRe5Cs7avwXtrMOpHVjsPjqo42l8sdFNFUVETACSdwLPlI8kQef0q5uQRzdleTDEdqKdrfZKv35jqC1r3RFtb7D0LbOBDo4p3STZSCCZHXuLBcy7O8rW0NBWivhxvEjUh2d5nqJ6mOfytqIZnuZOw34PB6iLEAgOjvukP8xs18Xi/wD4YOuW9g9i8Sx2rFDhtFNW1JaXlkWVrI4xxkmmkLYoI72bmkc0Xc0XuQD1P90okL49nHm13Mxlxtwu5uDk282qlfITsTiNDybOfgccbNoceaZzUl7InMikqnQxubO+xYY6EOcwA9GWZ7he5uHO22Pgw7VYXSOrX0MVTDE0yTtopo6iaFjRdzjDo+QAcd2H2GvAEqll3R4MvJttxgWPMnxGZ02E1LKhmIMlrxWdIwvfTzsidIfv4nZE3OBfLJIOBK5h8KHZ6HC9r8Xo4GCOBtS2eONoDWxitp4a0xsaBZsbTUEADgAAgvv7pj/PYD8Xi3/lhy46XYv3TH+ewH4vFv8Ayw5cdIP6AeGZyiYts9hODS4XXOopKl0kc7mx0828YymhcwETRPAsSeFuK5aqPCT2wkY6N2OyFj2uY4eLYaLtcC1wuKW40JXYfhN0+y0mG4SNpJ6yCAZvEzRiYl0vi8O9Em6iebZctr261yzytUXJ2zCJ3YJV4nLi4MHirKhtWISDURCfOZKdrdId6RcjUBBheClXbVwVNcdmaOmrJ3QwCtbUupGhkQkeYi3xioiBJdnHRJ+RRXkw2DxDaTaA0UdJ4zLHOavFIWywQCOkbWwxVz2vfK0OyunAtG4u6VwDa6vf7mp/SGM/9LR/t5lRGxmL1NHtZG6mqqildNirKeZ1NLLA6WnkxKMyQSGNwL4XFrSWG4OUaaIL68JDwW6gVlKNl8DJpBTu8cJrormp3rsv9IVgf/N5fcDL8qhngnchT8axSaXFMNM+C0T63D6p7apkW7xSmbC7cWgqGzvAEoOZgLDfibKffdBdrMSw7F8NZRYniFCyShe+RlHU1NMx7xVSAOe2KRoc62lzqod4AeOVj9qjSurKp1NNTV9XNTummMEtU4QB1TJCXZJJyABvCC7QaoNHy6+DvjOG1mKV9Jg+42epHzT08vjlHJu6Fmofklq3VT9L6OBd5l5chdftfFs5jEeDUVLUYK8VfstPM6jbLCDQZajdiWpZIbU/SGVjteFzosDwndssVG02N0HsriXiPjlRD4n43VeKbokXi8X3m73f9m1lcXgb/wBQtqv+XEv8mQcobGbM1mM10OG0MHjFbVF4ghzww5zHE+Z43kz2xtsyN56ThwtxICmmC8g+01XitRg8eFPFZQ7jx4ulpvFaTxiKOeHe1jZTAXuilY8MY5zyM1m9EgbPwNP68YP8ZW/5bWK2vDU5a8Ro8ZqdnsMkkwqOA0s+JVdGfF6yvqp6OlljJqYyJGRMp/Fo9CHO3ZaSWhoQUjys8h2P7MRNqa+jYaR7mxispZGVEDZXXtHJaz4XG2he0A3sCTcKuqOmkmkZDFG+WaV7IooomukklkkcGsjjY0Fz3ucQA0C5JC7Q5LdoanHeSbHvZGaWvkoTicEc1W99RM4U9NSYlTuklkJe90c03RJJyiJgFg0ARL7nLsnBV4viGKysEkmFQU0VKHAERzYgahrp26XEjYqWVgPknf5rBCKHwUtr5aXxn2PgjcW5m0stVTMqnAi4GXPu2OOmj3tIvrbVQzHORnaKhwyfGKrCpabD6STc1Es0tIySKTxltGGupTN4xYzPYAQyxD2uBLTmWXyo8smM4xjFRiLcUxCmi30hoYaeonp2UlM1xFOyNkTwGSBgbmcNXOuTqV0ntTtVW4zyMVFfXTGpq3mmiknIa18jafaOlgjc/KAC/IxoLrXNrm5JJDiJERBl4P8AhMPxsX7RqsdVxg/4TD8bF+0arHUwiRERSgREQEREBERAREQEREBERAREQEREBERAREQEREEM25/CGfFN/aSrQLf7c/hDPim/tJVoFVYXXP3PX8B2r/6bDf2OMrkZS/k85SsY2fZVx4bW+KMxFscdY3c0k++ZCJmxi9RC8x2FRN7jLfPrwFguf7nttl4jtFNhMjgIMapy1gIOtbQh88PSvZrTA6sGvEmMeYyDw6cQpMFw7CdjMPbuaWHe4rPE24ytkmqG0rS4aODpZK55aeBbEfIVyWx5aQ4EtI1BBsQfKCOBX2WVzzmc5zj5XEuOnnKDsbbT/wCFKH00v+bTLx8BfE6bE9nsf2QfMIKmuZWTxE2zPgxCgZh074gb5nQmGJxFv/ubx1tzfW8qONTYIzZ2SuzYNDl3dHuKMZckxnb/ACgQic2kcXav67cNFGcExWooaiOrpZ5qWpgdnhnge6KWN1iLse0gjQkecEjrQSrE+STaGnrnYc7A8SdVNkMQbFTzyxyEOyh8U7GGOSE8d4HZba3sum/CEEeynJph2ykz2HEq0QCWBjg8sLK32WrpQb6wsqS2IHr3gtoDaoIPCv2wZBufZGne+xAqX0lGZxe9jpGIiRccWH3IvfW9R7W7S12L1T66vq5q2ql91NO4udlBJDGD3McQubMaA0X0AQdi8h1A3arkpq9naV7fZCjNTFui5jHGduJHGqMOLjZkUpIizmw6MmvRJHPOxPg+bS4lW+Kvwqrw2GNx8arsSikpKSniaTvJRLIAKkAAkCLNe4OgOZQ3k927xTZ+q8cwytlo5y3I8sDHxys45JoJGujmbfUBzTY6ix1U25QvCK2nxykdQVOINipJmllRDRxRU3jDDoWTSNG8MZFwWBwa4OIIIQXZ90maBFs2A4OAZjADhwcA3B7OHmI1W65E66Xazk2lwLD619Jj2EARx7uV1PId1UmqoyHseHMgmgz02cmwex5IsADyhykcp+M7Rtpm4pXeOCgEzaQbijp90JxCJR/J4WZ7+Lw+6vbJpa5vpdkdpq7CKpldQVc9FVR6NmgcWktJBMb2+5liJaLseC021BQTqrw/bmKodSuj2u8Ya4sMTfZeRziDboFhIkaepzbgixBIUJ26w/EaXEJoMUFS3Embk1Lax7pakZ4IpId69znOJ3LotCbgWGlrK2n+FltgYd17IUzX2A8YFHR74kWu4tMZhubdTLaqn9rNoavFayXEK2odVVlSWumneGNc8sY2JnRY0NADGMaAABZoQdYfdMf57Afi8W/8sOXHSmPKZyn4ztKYHYrXeOmjEopjuKOm3YnMZl/BoY8991H7q9sulrlQ5B2t90R/oXAPjZv8JAuKVNuUTlWxvaGGnp8Tr/HIaMudTM3FFT7suY1hOangY5/RaB0ieChKDrj7mp/SGM/9LR/t5lzrR1bINpWTyODIocXZLI88Gxx14e9x8waCfkTk05SsY2bkmlwqt8SkqmsjnduaSozsjcXMFqmGQNsXHVtuKi1ZUPmkfK85pJXOke6wGZ73FzjYAAXJOg0QdifdD9kMRrK/C62loaqsp/FpqVz6WKWoEcwn3jWybtp3edsoy391kfb3JVa+AbO2DbWKKX73JLS4hTsY8FrjM2MSujIOocGwyG39krR7H+EvtVhdEyghxFksELBFTmqggqJoI2izGMlc3M9rRYASZ7AADQAKrIMbqo6wYhHPJFWtmNU2piO6kZUF5k3rCy2R2c30sEFseFhsXidPtVjFU/D6zxWWd1ZHVthmdTOp5WMeJBOG7vK0uyu10c1wOoVv+Bv/AFC2q/5cS/yZUvtb4SG0+K4ZLhVVWwSU9Szc1DxS0rJp47glrntYGtvYasa0+dRLY3lQxrB6CqwuhrvF6HERKKyDcUc2+E0Pi8n32aF0kd4uj0HNtxGuqCW+Bp/XjB/jK3/Laxe/htf17xf/APmf5Ph6rHYzaasweuhxKhn8WraUvME2SGbIZInwv+9zMdG67JHjpNPHy2X6222prcar5sTr5/Ga6p3W/nyQw59zDHTx/e4WMjbaOKNvRaL5bm5JKDqbwcP/AIo2p+Oxn/JsNWi+527Z09BjFdhU72xOxiKmNK95AbJU0Lpy2nB/4j46qUjymK3EgGjNm+U3GcOwmqwOlrdzheIGZ1ZS7ikk3zqiGKnmO/khdNHmihjb0HttluLEkrD5Ndjq/HcRjw7D2B9a9k80Qc8QgeLQvqD99Okbju8rSSBmey5HEBcW13gl7Sx4tNTUVHDPhrp3+KV7qmnZEyldITEahkjxUNkYwtDg2N2odlzjU3TyobKQ4HySV2ExVseIGikp4qmpi0i8c5xUjqyGP+zFM58Wut4nXsbtFRS4LyrPZ7Fk7QlhtHm8ZjAIvwdiYmvk6jeWxFwdFOuX+CLZDk2otkpqiKbFK58Tpo4nXytFc7E6mYDQmnZMI4GuIGbQ20dYOM0REGXg/wCEw/GxftGqx1XGD/hMPxsX7RqsdTCJERFKBERAREQEREBERAREQEREBERAREQEREBERAREQQzbn8IZ8U39pKtAt/tz+EM+Kb+0lWgVVhERAREQEREBERARTvkgrNmYZKg7Q0mLVUTmRCjGFGFrmSBz96Zt5PHdpbkta/Arofkj5P8Ak92nhxGejw7aGJuDwx1FSKueKN0jJG1D2iARVMgc+1NJ7otGrdeNg49RXjtLi/Ju6iqW0WFbUx17qeobQyVD6Q07KwwvFM+cNrnEwiXIXWBNgdDwVHICIpxyPcmGIbVVc1HQPpWS00DquU1cj4mbpskcZylkbyXZpG6WQQdERAREQEW/5O24ccUpBirpG4UZR486HPvRBY3LMgL73twF17cp7cKGLVQwd0rsID2eJOn3m9LNzHvM+8Af/O7ziOFkEaRF7UTQZWAi4L2Ag8CC4aFB4ougvDz2docM2lpqehoaSggfhVNM6GjhiponSurcQY6QxxNDS8tjYL2vZjfIufUBERAWfgWM1VBMKmkq6miqGhwbUUkstNM0OFnBssTg8AjQ2OqwEQWkPCG2uybvnBW5bWvanz2tb+d3We/nvdV1jWLVNbM6pqqmoq6iS28qKqSSomfYWGeWRxe6wAGpWEiAiIgy8H/CYfjYv2jVY6rjB/wmH42L9o1WOphEiIilAiIgIiICIsiioZZjaNjneU8Gj0uOgQY6LY1GEPj91JCD5A4uI9IAXiyge7gWea7st/QHWU8ZGIiyn4dMP/qeevoguFvS26xXC2hFj5DoVAIiICIiAiIgIiICIiAiIghm3P4Qz4pv7SVaBb/bn8IZ8U39pKtAqrCIiAiIgIiICIiAurfAH/o/a3/oKT9jiy5SXV3gD/0ftb/0FJ+xxZByiulOUGnYOR7ZyQRsEjsYqQ6QNaHkb/aTQvtcjQaeYLmtddYTsbWbVck+E4fhLYayvwzFKmaqpd9DDI0eMYuTGHSubG2Xd4jTS5XubdhNrmwIRnwR6dj9l9vHOYx7mYM0sc5rXFh9jsfN2ki7ToOHkClv3Oza6odLX4Lu6bxWCmnxJkm7PjRnklpICx02axgytvky8etb7kl5MjsxshtfTVVXDJjVTgk9RiGHwPbK3Daf2NxfxCOWRos6okvVOdYkWYy1xZz62+54YlDFtJV0skjY5K7DJ4qYOIBlljqKaZ0UYJu+TdNlksPxYXnqQQfHdt8S5QMWwbCqqHD6Umr8VikoIDBlZiEtKyeWVrpXCTdsgDgBbg7jdW/y4csDthcRGzGzdBh9FBh8NMa2eWATVFVUzwRzjeyEje/eZIcz3XcS4i4DQFTDdlsX2Cx/C8QxShfDHBXCaIxvglbWwUU0Hjfixa/rimbYvDf51vCxAtrwoORnE9osZG0uAxMxrDcagpZd7TS07dzNBTxUmUtkew7tzIGOvqWu3rXZSACGJy1YZRbVbDwbcx0NNh2MUs7aXGG0bd3T1YNS2k3hZxMueWlka5xLg2V7HOflY4Srk1xfDcK5LKTFa3DYsSNLXVElNSyNZu563x6pjphUuLTeBhcZCDe+6aNeC0HK01myHJ1BsjVSwux3F52VtXRwyNlNHAKuOrzyubdoA8WpohrZ798WF4jJWLiX/wALU395u/zGqQaDYXlSrtrtudnp8QgoYzSztpo46SKSOIxOMsmV7JZZL2JsNeAHpUd8JqpiouUDEJzTQzw0tbQTuo3taIJ44qajkfTyNylu7eGlp0OjjoVpvBY/rlgn/Ws/8Hq2sbpaGblmdFiAhdRvro7tqLbl9QMHY6hY8O6Ls1WKZoadHFwGt0Ej5I+WXbHEcTw+MbMsZs5W1NNTSso8KrGUENFUSsidUNqgHMDY435y4nIQw3AHCkPCiwClwzbfEaOjgZTUrJ6GWOCIBsUbqqio6uVsbBpHHvZ5CGNsGggAAABdFbZbObbO2yOK1uJex+yuHYhT1fjDsRZRYUMHpqtkzYZKVkoc+qfCN27ex2dISC7JlKqXw4dkq2l2wmxWWBzaDE30HilR0SyR9NQ0lNNEbG7ZGuhcbEDQgoMz7oz/AFrpf7npP8fia5pXS33Rn+tdL/c9J/j8TXNKAiIgIiICIiAiIgy8H/CYfjYv2jVY6rjB/wAJh+Ni/aNVjqYRIiIpQIiICNFzYakovWKobCcxyucOANso87j/AKKYjaUhwbBImN3s95D+JBHrmN+Fx7o+jQcSbLZzSPyZWhsQI9xGQA0EdoAhrsvW0fKeKjuH47cm+uawLtOl1ZbdTPI0eTXzbF1YZxaM6Ws52gym2U2dbV+o0/2ct61iFLbYFfMxhLb5ncbNBLibXGd5JDflJWK2WQ8I2sHWXOJJ85JFh6FtG0zQCWgOAF3yONmAa9JziOmdOOvUTxWlrMRhzFrZN64nQxhz23Pkdqy3ksVebIiJbCKrkY3i0HyxSEG/yNF/R/6WWw79gM1pWjQPbbejzZwNflFlpPF3yENA4DpEmwvxNtdbA+e9vItthtA2mjOYuLj1kuIsfI3XTW6iIifa3b80+ERyEhpfbqBI4XA4ga+S9u9e9ZsfUZDLA01LG6PY0fyhh6wYQSZBwN230INgvPDq9sczHvcRGHAHLwsb9IDidPLfhorCwyrdG9r4nl28D2GRoLAGPjLczbak+Q/Kq3pX4TG5U/LG5jixzXMe02c14LXNPkc06g+Yr8q4dr9i5sUbRTQ1OHxiOJ8FTLUyyNqXVO9kkcXhsT3SQNYYmNLbgESeUqp8VoJaWaSnmZklhcWPbcOsdCCHDRzSCCCNCCCueVrVmGMiIioiIgIiICIiCGbc/hDPim/tJVoFv9ufwhnxTf2kq0CqsIiICIiAiIgIiICzMPxSopw8Q1E8AlAbKIZJIhI0XAbIGOGcWc7Q9o+VYaIC2eAbQ12Huc6jrqyhdIA2R1HPNTOkaL2a8xPaXAXOh8pWsRBnR4xVN32WqqW+N5vGssso8ZzZ83jFnffr7yS+a987vKVi08z43tkY90ckbmvY9hLXse0hzXscNWuBAII4WXmiDaY/tFXYgWGsrqyuMQIiNZPPUmMOtmEZle7IDlbe3ZHkX7wHajEcPa5lHiNfRMkOZ7aSoqKZrzYC72xPaHGwAufItQiD2rKqSaR0ssj5ZZCXPklc6SR7jxc97iS4+cr1OJ1BgFL4xOaYHMKfeSbgOuTmEV8gdck3t1lYiIPWkqZIXtljkfFIw5mSRucx7HeVr2kFp84X2tqpJ5HSyySTSv1fJK50kjiAAC57iS42AGvkXiiDbYztNiFbGyGqxCuq4YbGKKpqJ544iAWgxskeWs0JGgGhX4xbaGuq2RR1NdWVUdOMtPHUTzTMgaABlhZI8iIWAFm24BaxEGVieIz1TxJPPNUSABgfPI+V4aCSGhzySG3c4285WKiICIiAiIgIiICIiDLwf8Jh+Ni/aNVjquMG/CYfjYv2jVY6mESIiKUCIvxNIGguPUg8qqoDAfKLW85PC3nWomqS7Qn3Or9b3d1AeYDT038y8q6qN/PfT/mP+gAWFmv0RwGrneT7XkW1a6S2UFSXOAGjQRrp3AcSf9VJsMmc4CMNIaNBG3pF54HNby+Tz63Wj2bwuSpkbGwW8pOoY3rPHV1lfmwuy9PTRtJYC7rJAJPlKpkyxVpTFy7lDML2Qqq8jfAsisLRDSNo4joXtI/h0jfXUWUxwzk2gabZbnrvqfJxvfrPcrFpIo2tuAB6LaLJoZm5nG3XYejKP9brjnLO9uquL7INUcnbQwljbOGot/p5FCNqNnJohdoddvEDi0cfc8Hj6LroeAtctfj+BslGbKCfNbN6Qe1/64FI8vit/FizlM0wza9E+bQE+QjqVj8ku0FI2rp8OqadjaeovF43JILsmyndhznMBa1xAa0l1mkjq0X75RNkN0d41uvG7eDh5QOo/vUAqqZzIi3IHFwHkPRv7q3E8OC7K5YvDnnHNJXns7h0LoHVj5iaanzb8QCJ7oW3c5jsm8a0seLOFiBZ2mt7U9yt1NFNi001FVOq6eRsDt86J1ON62Jkb42RuJJjbkbZ3Xc8bXOowjEZ8MlllpZXwGpjdFLlsBMx4GZs0fuJCDf3QPUfRqgFnrSmXJy6+z6iIpYiIiAiIgIiIPy6Np1LQfSAV+dyzsN7h+5eiKEvPcs7De4fuTcs7De4fuXoiC0fBa2Mw7G8dkoq+kZVUzcOqqlseaaG00dVQRsfnhex+jJpRa9ulw0Fun/a67JfArPzrEvrSoDwIv6zy/3TW/43C12qoSqn2uuyXwKz86xL60ntddkvgVn51iX1pWsiCqfa67JfArPzrEvrSe112S+BWfnWJfWlayIKp9rrsl8Cs/OsS+tJ7XXZL4FZ+dYl9aVrIgqn2uuyXwKz86xL60ntddkvgVn51iX1pT3HtqsPoJ6amqq6lpaivfuqKGeRkclVLnjj3cDXG8js80TbDrkb5VuUFU+112S+BWfnWJfWk9rrsl8Cs/OsS+tK1kQVT7XXZL4FZ+dYl9aT2uuyXwKz86xL60rWX5lkDWlziA1oLnE6AAC5J81kFV+112S+BWfnWJfWk9rrsl8Cs/OsS+tKxdnMdpMSpmVlHUw1lLKXiOop3tlieY3ujeGvabGz2uafO0r8bN7RUWJRyS0dXBWRwSvppn072yNiqIw10kEhaejK0PYS06jMEFe+112S+BWfnWJfWk9rrsl8Cs/OsS+tKwMP2loaisnw+Gsppq2jDTV0scjHT04eAWGaMHMwEOHHyhes2O0jKyPD3VMLa6aJ1RFSF7fGHwMJa+ZsXujGCCM3C4QV17XXZL4FZ+dYl9aT2uuyXwKz86xL60rWRBVPtddkvgVn51iX1pPa67JfArPzrEvrStZEFU+112S+BWfnWJfWk9rrsl8Cs/OsS+tK1kQVT7XXZL4FZ+dYl9aT2uuyXwKz86xL60rWRByR4WPJVgeBYTSVOHYcylnmxGOmkk3tVPmgdQ18xZlnme0dOGI3Av0eNib82blnYb3D9y7H8O3+gqD+9of8txRceKUPPcs7De4fuTcs7De4fuXoiD8CJo1yt7gv2iKQRERAtbjc2UAfKfkv/v3rZKP47Jd5HULD/X/T9KtSO0ta55Lr+Tq/tO11PmF+9elDEXuDQCSSLW6zfif9F4yaAcfKfPc8P0BSfYWjL5Q/LexCve2oXrG5WVyd4AIYwcvTdqT5T16qzMNgyj0WUC9lZ6do3cbTwGtzb5F6YTtnMHZZYg2/W24/RcrgvG+3XRZ8byB5lmUI04+X6Sf9VF6DExK3Q3uOH0LMOJCJty61v9PNdc8y6tdJtQg3C3MMeYW61VbNucrrRxvkt+N7kX8gvqphsjtLLUi+4LR5/p4rO2P5Wi3wztqtm21cDo7WJBIOmjrdXk1+lcy4zSPpp5Ij7uFxa6N2nWQbdWUkfxcLsSJwdYlpHlHya/IucvCaoWUeIQVTRY1McgLQPduY4n/xcePkWvh5J58Z+WfkViacvsrTEKcOiLmjo6SN/S17fNbQf9q0q2+DT79krQTZpLSDqWbxrmnN/ZzAG+uoK1C9KXmZI7ERFDMREQEREBERAREQEREF4+BF/WeX+6a3/G4Wu1VxV4EX9Z5f7prf8bha7VVVhERAREQERQbl622Gz2zuIYoHATwwOjow4Zg6tqCIKW7bgvaJXtc4D8Vj/Ig5j5ccAqts67aXG6WWZsOx0UFBhG6c9jZ6yhm8bxiRhbd2+jY2fKWWz5qWxsNOpuRnbJm0GA0GLNtmq4GGdrdBHVxEw1cYB1ytnjlAPWAD1qmOSfkO2nw3CIIINsnYWKhgq6qg9h8PrDFV1bGvqY5amaYvqXg9AudxycALBfjwR2TbN4zjWwtVOZzSOjxbDJyx0QqaaeOFlQ6NrnOa0dOlO7a42f4zqbOKDY7G8uOPY+aykwnZ6mlraCuq6aeqqqh8OF09NCGNp3vky7yerleJxuo/cCNjibO0nfIZypOx7DaypraRuF1uD1VVQYrBvBJDDLSMa+WRkov96ALgdTYxv1IsTDvAg/ovHP8A/T4v/h8OUd5HcKmr8J5Q6GAZqisxbaelgbwDpqinmijaT1AueBfzoJXsnyp7TY9C/GMI2fw+bAxLOykjrq19LimKR08jony01o3U9MS9j25ZTYOaRmIF1IeQzlOl2mwjEa+egbRuoa6uw7xVzi8uZTU1NN9/uOjITUOY5ouBl4lQPwbOWTAKDZCip6zEaeircMZLSVWHyEivM0c8mUQUdt9UueHMP3truk8tNi1wH3wMaje7O7QS7uSLeY9jcm6mbkmiz0NA7dysuckjb2IvoQUFh+DDtDDiuzFHXQYbSYTDM6sDKCiAbTQ7utqInFgDWgF7mF504vKhPIa8YPtrtZgLiWQ1T4NpKMO6LMlSAa97TwDRLUwR26twfItt4Dn9RsN/58S/zOrVa+G/WVGA4th+0VKHB1dheMbP1LmkNA3tPL4m4kg9NslY+YW4+JAE2QaDwfMQmg22o8ele8023jNo9wJLgw+LYjNLDGQT7nJR0zW9Y3wHDVXJyZO9lNttpccNnw4PDS7M0DxewMP8rxSN2ts7KsAXtwkt5bwnwjdnX7N7MbK4lDEJKjZCrwre2Ji3kToYxWNc9urWTVNPA1wF7iU8VZPgoYHLTbJU081jW406qxurkGm+mxN5lildoOkabxa/o8iDe+D5ygybT4FDi8tNHSPnkqYzDE50jGiCZ0QIe4AknLfh1rz5AeUSXaXD6qslpo6V1LiNZhzWRPdI17KVsJEpLgCHEynTzBUz4KHKng+B7HMpa2tZHiNHVV0L8JaC7FZqiWpLoaenoP56aR7pGMBAyhxIcW5XWlPgHSuk2ernvjMT345ibnxON3RPdFRl0bjYXLSSOA4IOgkREBERAREQc+eHb/QVB/e0P+W4ouPF2H4dv9BUH97Q/wCW4ouPFKBERSgREQEREBRnENZNeBLie/QelSVxsFF6513W830m3+pV8ftJh1JDO8tlq2UtiA0vjnmDr34tha5zW8NbHjwVjbPujoXblrYpSxsZNQc7myb2NsoLI3WDWhrxq4XNjw4KsMCjMtU0dZdw9Gn7le+AbM+MNa8MD7xwtcwHpXhiZD7jiQRGDp2lXNLfHDT1W2kcTS8U4liY5rHPAYOm7gB1dR8vBKLaGCrZvBC6I69BzQ3NYB1wWjW1wev5FvsQ2YjDHQyUrcrrEgZmHom7SRpqDbVYsWzbcjY2QuDY3GRnSecrjxJN9dNNerTgua0xMOikTH6e2z2LgyNY0Pdd1uiG5W2AJvmdfQOB0vxUoq6qIZmvcbhmYdTX9INsL6i178Fptj9nMk7DxDc4aNdDI8Of6fcgfJ5ypntHsi2YB+rHWLHuF75TqBfqbmDb+Zq576h1Unava7a2CjLXujDm3Ia1jQXOvc3c592tFg7q6lY/J3tZT1EUc81HLTwySGCKYlpY+RoDjGA3gcpB1todLnRQaTYbO5zZYpZI5HCRxZmcMw4ZXNHRsDbQjTRWXsRg0ETI4TDM9kTS2PfucWxA6kMDvck9dlGTjx63spE8tzrSwsYYGUUs9PfeRRl7Om/KbWJu0ki1rqsuW3C8KllpajE5cQbH4vK+JlKIRlzZH5W5g/Obm1zl0Ct/CKYZHRW6L25SCbgA6H9CqDwvmDPh8fAFlS8gWvo6EAa/9yr40zF4iUZZiYmIc54S/LUzEFwa/WMOAB3ebLG14abZwzLe2l72XlVMyvcPIStTT1t5y7UC4aLnz2B/jzrcVRuQ7tD6Db6AF62Sunl39PFERUZCIiAiIgIiICIiAiIgvHwIv6zy/wB01v8AjcLXaq4O8Fna2gwTHZK2vqPFaZ2HVVM2TdzzXmkqqCRjMkMb36shlN7W6PHUX6f9sJsr8L/qmKfVVC0LSRVb7YTZX4X/AFTFPqqe2E2V+F/1TFPqqgWkiq32wmyvwv8AqmKfVU9sJsr8L/qmKfVUFpLX45gdHXsZHV0dLWxwysqImVcMVQyKojDmxzxtlaQyZoe8B4sRmdrqq99sJsr8L/qmKfVU9sJsr8L/AKpin1VBaS1suAUTqxmIuoqR2IRxmCOudDCayOE57wsqi3eti++P6Idbpu8pVf8AthNlfhf9UxT6qnthNlfhf9UxT6qgsLA8EpKFsjKSjpaNk0r6iZlLDFTtlqJA0STyNjaA+ZwYwF5uTlFzovuEYLSUZmNNSUtKaqV9TUmmiigNRUSayVE5jaN9M7re65PlVee2E2V+F/1TFPqqe2E2V+F/1TFPqqCZHYfCDXeyfsRhnsjm3nj/AIrTeObwCwk8Z3e83ltM1720uoL4M+wtbglDitPXxRsdXY3iWIQsa+OZr6SqhpGRl+UkAkxSAtPk86yPbCbK/C/6pin1VPbCbK/C/wCqYp9VQWLgeD0tBA2lpKWno6aPMY6ekiip4GF7i95ZDE0MaS5znGw1LieteeO4FR17Y2VdFSVrIZGzwtq4YalsU7AQyaNsrSI5QHOAeLEZj5VX3thNlfhf9UxT6qnthNlfhf8AVMU+qoLFxzCKWugdS1dLT1lNJl3lPVRR1EEmR7ZGZ4ZWljsr2tcLjQtB6lk00DImNijYyOONrY444wGMjYwBrGMY0WawAAADQAKsfbCbK/C/6pin1VPbCbK/C/6pin1VBNIti8KbXHE24VhzcRcS417aWmFYXkZS81Ij3mctNi69yNFn4HgtJQRuipKSlo4pJHzyR0sUVPG+aS28meyJoDpXZW3cdTYKvPbCbK/C/wCqYp9VT2wmyvwv+qYp9VQWkiq32wmyvwv+qYp9VT2wmyvwv+qYp9VQWkiq32wmyvwv+qYp9VT2wmyvwv8AqmKfVUFpIqt9sJsr8L/qmKfVU9sJsr8L/qmKfVUEO8O3+gqD+9of8txRceLpLwseU/BsdwmkpsOrvGp4cRjqZI9xWQZYG0NfCX5p4WNPTmiFgb9LhYG3NqlAiIpQIiICIiDznPRPoKiVQdXn5B+ngpVXOsw+jr8g1UPz+6Pl4d61x+ks3YY/y2MfL3LozZl9g35PlXNOy8gZVxEn8a36F0Js9W2AHlssPJdPj9rBnaJGcNVGMTeGG1/kW6pq0ZP/AEtBi8DnEyt1ezpBnW5o4gf2lxV7l2zERCTcn7G76MvIAzAm/nVnVNG10ZLdRray54oNoJpK2OJsUjYNA6ZxyEO6w6LLozqzF1/Mrnw7aN8D44TBHJSiPM+obLeXeHXKIclsoGly69+pZZ79cW2HF8tDXxN3hYctx1HQ/wC3BbXA4Mrhayje0bJZJn1TGlrS4lkZ91lvwOlgbeRbjYms31r8eBv1HhYhZRfUNbU7W9su0luouuePDUxQR1cDQenFSuy+QOkc83cfRk4arpDZtmWMDrXGvhe7dU9TidTh8Mb3VFNM2GeZ4aI2iJjTu4tSXOva5IAGq18KJvlhx57a38KOpJi0X6+v5Rca+lTGF4dC09fA+awAt6OChFK7T0cfk6ipnhljT+drsvdfXut3r3ssdPMjuJftERcqgiIgIiICIiAiIgIiICIiAiIgIiICIiAiIgIiICIiAiIgIiICIiAiIgIiICIiAiIgIiICIiAiIgwcbflhceo2aflu6w/IUSb1/wAarf7Sz2Ab6dPk0Po49y0TG6ekrekdJeEEu7kY/sOa7uOvy2V77NTiSJrwb6NsR5CqGqBbX5P47lO+S7aLL/JXusRfdk/jDjYHyj6Fj5FNxtthtqVy+NFjLngASfkBK1+C7UU0zc2+Y7UghpuWkXuNPR+helPO2SO3yHzg8fkWhqMGZBKZoQGONy8AAtJItmy8CVxY/bvmd6TOgrqVztM7iRoWhvXfW1+BU22dpGNYHAPyvuW3A4D3Rt5ADqoHslUOja5wbR1DnRiGzi6ne1oDxe1nhx6XVlHHyqyMAxqo3McUVNSRvjZLG15c+cHesa0nIGttbKNL68FlmiZdeOJiNaZe0WIUFFS56mrgp2uBEZqHCIvdpowO92dRoL8VicmUbZnNnaOjIM1hwcLkBwHnFl+Nrdjn4m1k9cWzPjDhSw5csUZeGguEetrWBuSSbDVSfkzwgUzclujGAxt/I0fvuuDLMRX8te4T+nmbCx0jyGxxMdI9x0DWsbmcSeoAAlfzK2yxU4jiFXiBuDW1NTV2Pug2eZ8jWm3WGuA+Rdd+F1ymMoMOdglPKPH8TaG1OR3SpaA33jnWGj5Q0xgG3Rc93UL8bvAAv2Rb9wXsf4nFNaTefl43mX3Oofqmb0eF+Jt9KlWBm0JHaDT6CwhunpblPyqMRaBjfLY95/cpJgjhuiOvN/rY+n3Le5epl/rLlqzURFxqCIiAiIgIiICIiAiIgIiICIiAiIgIiICIiAiIgIiICIiAiIgIiICIiAiIgIiICIiAiIgIiIC+Er6sbEZMsZtxIIHm01KCPY3MXyeYAD5CAR8tligX08no4df0Lzmku/zk8Oqw/wBgvWP3R9H7v910wsw6waWWIx7mEOaS1wN2uB1BB0IWbXngPLc3+j6VhSjXzfwEFp8n+2O9G7l6LxYF34r/AD/2SrGp2tmbdpvfXiuetln5ZSPKAe6/erW2fxB8dtSW6aa3C8/NSKz068V5mO1jYTTkWvG08NTZWLsm0tdcRgHThrw+XzKutnMSbJbpDy63H6CrK2XrY4+k438w1vZeZ5EvXxWtxTalifN0njTz9QA4jyKquWzlvo8AY+hod3V4rls78anoyb2fO4aSSjiIgb8M1hxyuVbb+SCkl3Z3LQ13udHut5XDUegLibEqp88z5HOLnPc5zidSXOJJPn1V/C8WMs8r+vs5vLzzSNR7ll1+JT1tTJV1Mz56moeZJppTme9x4k9QFhYAAAAAAABfIxnsAPda/Je5K8oYurrdp6G21+Xq+Ve75gwFo90ejfyAXvbzL6Gsa6h40v0xwdM3yBw/Rb930qUYZDliJ/tADuN/oUVwht35vkb6ToD9Kl7TZoHULlRmt1paI6mX7REXMzEREBERAREQEW/2H2dZictTCayOkkp6Gur4GvjkndWSUMLp30kTWEFsjoo53ZukQIXWa7gMbAdmMRxBm8o8NxCtj1++0lNU1MQLdCN7FGWZgeq99EGpRZGI0M1NKYZ4J6adoDnQ1MclPM0EkAuikaHgEg6kdRWOgIiICIiAiIgIiICIiAiL5dB9RFkUtBPMyWSOCeWOnaJKiSKOSSOnjccrZJ3taWwsJ0DnEC6DHREQEREBERAREQEREBERAREQEREBERAUdx3EdS0XtwJ/SQ3z8NfOQtvilQI43G9jbQ+T5OsqHSm5L3aN6m+YcG6+U6n0q9K77SQdry3DfRbU/SsuBvutP4B/3XjEGnXOHnzAtAt1C/UL/oXqx1s3mDu4an9P+i2Sxa0+5P8AZcPlzEf6LDOtv44rLxUWyDzO/wDM2/QsVhufp+RBl4ActQ3z/wCxVpYEbgDzKq8LOWdh/tN/Ta6tHCvvbm+Ry4/J9ujx5TfZ9hY638eZT2jrcrePV9ChWFAEB3lW2fUZW+deTkjlL1aW1CFcumL/AMmcwHje414Gw+T3RVGUTPxj8gP6PQVYnLBWF7svlJuPIAR9OvcoFA4DpdQ4ec/+l6/iV40h5XlW5X29J5N23TVx0/fbzD+OCwx6dT/HevRxLjmOgH6B5PSvsYt0j7o+58w8q7qOaZbDDG2dl4huunWTYW89uClUXSbcagXb/rf0alRamO6jL+BFy2/Eu8w67DXv8ykWA1Log12hAbqCA4E2adb8dQFW9OS+41pkord2XxfApKNrJQGkFokbLTy1LWuc53Qc5rNZMpzDLbRp4kZRs9oOTDBpoJKinxFtGYi0OLT47SlzrWjbEHmp3jszCMpIyv8Ac3Y8Ny+jb47Z7Ueik+1WweI4bGJp4G7g2tJHJFIWh1yx00LXmWnDgD/ONGoI4qMLOazHU9AiIoBERBffJBt74lTUmK4rLh9bS0AZgWEUVPS0U2PUr7MBqGyZWSxUTaUyNdd7jISwZczgX4XL7tWx9ZiVLKMfw3FKKohpsPpo60OwU0cUn4W2layN1MZqYtkaG57mSPpABwUM2Fpo63BMZoWUlNLiUAo8WpJt0HV7qWllyYnDTze6AZE6OURt1cHVGh0tEd5U4hVMzST1tZVyQwsfNI+aeomlLIIGGaVxL3EmNgzHhlGgCJTbYrax+IviwTGJ5a3D6t7aemq6gmetwerndu6espKp95dxvHRtkhe4sLL2AsQ6C41QSUdRPSzACekmnppmi9hLTyPikDSRctzMNj1iytDZzkuxE0VU1mC17No8LxLDpI3VBZHQSUUrZOiwyfyaqEc9Pme5riMkzCCQHNUR5Y6hk+M1k7MRpMWNQWSyVtDA6kpJZnQsD2wRGSS7GloGcPcH6uuSSgl2PclOHYUaR2J7SRUcVfSU1VA2KhqaqozytJm3kUUhENLGTHaZxvIS8BrchJ11ZyP1rNoDgLaineGwDEHYi68dMzDMt310jMxcwB3QyAnpkDNlOce3hN10NTXYa6GaKdrdnsKjLoXsla2TeV7jGS0kB+V7Dl42e3yq0sS22oKXaoCStpY6XEtl6TDPH/vNVTUlTI+eaF1SDmiMOUjM14LfvkeazSSiFP1uwmHz0VZV4Rjnsq/CohU11NLRT4dIaTMWyVtI6WRwmiZxcw2c1tiTcta7U8oWxxwiDDJjUCo9lsNp8UyiPdeLmduYwXzu3oaC3p9G+vRCsnaKLHaKgrX1WM7KUlPPR1VNlw+PBzVYrHNHZ9HRilomzFko0zksy9FxAtdv52y2fbtJhGBVVJieEQMwzCocMxMV9UylfQzUzI2ufJG5pc6M2kI4EgMLQ4OuCWlpeRl0mO0eCDERmrcJjxjxjxckRmRs48WEW/GfpwfzmZuj/c6a4uG8lkFZVx4dR47S1dbE2abGHNp6mPDsKpqdrd/M3EHkMrw2VwjG7DcxcCcgDiLcp8boG7d4ZNHX0r6NmzMMLKoyxMjJb4/I1r3F1o5TEWvyHUBw0VM+DzjdJTvr8OrahlFT43hNThfjsnRjpJ5Y8sb5nHRkRDpAXEgAhl7C5AZEnJtQVlLVzYNjzcXqMNhdVVVFJRVOHzS00ZtLUURle7ftb2AL6t1u5od+oeTKihwrDsZxDHmUFHibJnbtlHUVlU2Vklo4oIoXkzMMYc98pDQwhjbPLxaTcnuBcz3VuL4jX4U97sOqqLD6KgqmVs1fUVLoS1zWtaC2lbum3e4aCS5DcusZ5UqyF+zOycMc0UklPS4uyZjHse+JxqKJrRKwG8ZJjfbNa+R3kRDOx7kkw/C5o/ZHaampqKubHJhdRBR1NTLVwSMY41M8DH5aGnYZGDO57g7UjLY217ORys9n6rA31MEUdBCa2qxSRrhSx4eI2SCqMea4cc4buy4WcyTpZWl6eEVWxT02AiKaKYx7OYfHIIntkMcgY8GN4aTkkuD0TrorV2v2lw6babGsNkxCmgp8fwOmw2HEd4ySlgqtxKYmzytdkYxzagkkkDosH44QVzs/yUYdixqXYZtIyrjoaWepnbNQVNJUh8bLw7uKWQCWmkcHgyA3jIYC12cEb2k2WwJ+xTHvxuKJjsYa9+LexNZJNHUOoAHYZuGv3742tJdvQ7dm3C6y+RrZEbP1eIy4jimDsqJcHxCCmpaasiqHSRuMUs1RI6zRFGNxGGB3SfnkOUbsqN8n9KzGNj5cChq6KDFIMWZiTKetnjpPGKV1HHAXQPk0e5ry+46sgvbM24abDOTujhw+nxPFsabhVNiDpvYyGOjnr6yshiIBq3QRvBp6exa7W+kkeoLmgzjkn2ZgjpdqqCDF6CrpZsKw57cVbnhpYoZTiDpH1cbrvp5Imtc58d3EAN6zYYWPYM3ajCMGZRV2GxYhgVIcJxCgrKmKmfan3UUdXTPuWTwP3BdnaS0iRut2kLH2OoafCcO2soXYphtZK/CKECSjmD4H1Ln1rZaSnkfl8afG58TS5gteVo0NwAjmLcnlE/CKnFsKxsYszDHQNxGCSiqMOliZUODI6iFszy58VydCBpHJrdpaq6Vn8k9dDFs7tXHJNFHJPS4S2Fj3sY+ZwqKwERNJvIQXsuG3tnb5VWCAiIgIiICIiAiIgIiICIiAiIg+OdZebp2jU58o4uDHuHoBAy3t5+sLLoaZ00jImC75HBrfJr1nzAXJ8wK2lVE008Yfu/F7yC1jnnhzEve5z3ENaXfe25GtB6RNyLrXDim8q2vFUNxUFzxaJ+nuTPYWuAdGDgbEcV8wvC2PgrZZAHGGAlnRuGPdHUPaR2TePj6FIuVHFGS4vXFmUskm38RAszczsZLDkbp0d25lh1cFFoK7d01QwdJ0z6VrTqQ0RmaR5ceBJBAt5z51tNYr6OTwxcBj9y1obuw1rtS43sA4X4ZbC4sBx11WDE24cT2beknU/QhBaDe+Z/ScTxcXO4+W3p8y/NNr0R5ePlN7d/8Asqrw8MSBzDyNA+heEbVm4o3Uecn9GnydfesYaC/8eVRCJfguLXNeOIOb8mxVvYFapp45W8CAfQbcFUU7bZfR/v8AT9CsnkfrSQ6mOoBzM77lp8uh/wDyflxz1622wTqVm7OxHd5TxCzKiI2Pcs/CIP7JC2D6G4On8eZeXMdvRrZRHKjhrmgykef5LqvIm5rN/i/n+QLoDlTwvNSuaOOWQ30t0Wa6n0jvCoYMs21+PEjz2vb02Xp+L3V5+f8As+NjDj/Ybf8A7jfVx+XT5F6tZrqOuw9I6/QvSOEcP406vQP3r9RFupv7kgdR0NrfLqD8q7a1YvergvktwA6N9L3zC59JAWzww/e4+Opy+jUkH/8AICxZW9EOJADb343sDp6TosvD5M8Thws/ojQXaGtBPo6bf0LTgjbJ8ZEUocRaOfPG5rbNa7JkEjGjMSJLua4OsLG2mi3k0Lg8NbKS9mWaCVj5WtfCTmbJZgzFw1BbbRzXDyr5g7BUxGBzwCWvijZmpmPyyOdJIWtna1rnF1jm3zPcAWW4wSn3tLJBZra3DAZ2nNmdJTg3lizxvfEbh4Fmk3cIwDq9zurxskVnU/8Afljkrv0nuw+JTVtM928bVup4HbxjwfGX0jXskeRKWZpGsbFLEQ4OIZMLAgZTs38k2GYvTynD5JMOxaNm+FFM8S0k7X2LCyQDoxPJs2RmgzC8YIIFebGYl4riBiZK6OOqbYOa5zzGyraY3yBp4ZHODm2PFrbq6dlqbdvki4YkTGaCY9G0EJG4pmXJEQDonA3OpvfUXdT/ACGOJn9pxenM2KUE1LNJTTxSQVELiyWGUZXscOojrHWCLggggkEFYytPwknvfiFM+QWkNMWvGbOQWVEoHSPSLCNW31yuHpNWLx5jU6aiIigZeDYnPRVEVXTTPp6qneJYJ4yA+N4BFxcEOBBc0tcC1zXOaQQSDMpdqcErX7+twOelrCRJJUYDVtooZ5b3L/EKiCWKlcTYkwuAJJNgoEiJdAclPK48VJwijbTYRR1UWIvbX41XVWIzRYj4nI+kqpqqpe2COIzRRB0DYspMjiCXE5qe2t2jbXx0zPY3CqGWlbOyafDKeOjFc6WRjmyTxxAR3YGWblAH3x9rAho0CIh8AQBfUQfA0DqAQtHGwuvqIPlh5F9REHwNA4AD0JZfUQbrCtk8Qqqc1UFHLLB9+Ie3dh0u4bmnMETnCSqyD3Ria7LY3tZebdmK7xM4gKSXxIMdMZugPvDZN06oEWbeuphJ0TMG5AQQXaFTrk72mwuibh0ksscMlKKxlaJKB1fWOkqZKpsc1HWPcWUNG2GeAuZAGS5oZ+jIZcy0mJV+HTU8Ezq6tZPTYRS4MaGljdC+d9JTtoi51W4GIYZNE0yvicM5Mj2ZdcyDSYpsdiFJC2aagmijc+KPgxz2SztL4I5oGOMtPK8A5WSNa51tAVsMU5P6+mo/GJ6eWOZ1dSYZDSBjJpJ5qqCtlLWuikdlqWOpGRmnLc96ll8ugdOhtxhVLJUTwSQytOI4NilJSx4e+nnfBhmImpdTV2JSufPWYgYpB98le6LNC9wdeTKNXs1tNheDujdFV1OJWxmDEpAaZ8BbR+xuMUD3WmfaTEGOxCN7hoxxYwB51LQhtRsTiTZ4qV1BM6eobPJTxx7uffNpmOfUiJ8TnMkkja0lzAS5ugIBIB9a/YTFYInzyUErYYYnVDpQ6B7DBG3PLPCWSHxiJjdXuizBgBzZbKUja6jpo2UsU1O+NsOPPL8Nw/2LpW1OIYHNhdIGxOvPJO55ZvJDlY1oiAz5S5azBtpqWJ2GFznhtFguOYdNZhOWqxDnBuGsH4zD7I0t3DQXdf3JRKL1WAVcUlRG+mkZJQxsmq2uy/yeKR0DI3vN7ZXGppwLE33rbXWuVj7bYju8CoGPjmhxLFIKOOvbM1zHPw/AZKqmwuctfZ+WobJAc5HS9imkEgi9cIgREQEREBERAREQEREBERARF9a0kgAEkkAAakk6AAdZQZWB414lUGVrJJHshmkyxZTIIwwh5GZw0y5iSL2DXGxF1uMfo3+LyWlqjC2UspqSNkbadkUkr2xCTJEHThjGSMs5zyN5DwJWrlwoxQ1UkrGw1EW5YGVEUxdumkTSOLWwv6D/AHAJtbKSbDjsBnrWQzzTMZS3fBOWSSMo2SwT7qIyMlIblfvYQ5xF7RSHqXfjjjER9u2F53KAYzcsZM4OEkLWU7uIvBd3izhfXSzo9dbMj6isSjYXU7SbgOmne/qaGtjhDbDy33g/9r12ni3cuj4yy+WIMlglLY2dBgeInnI4hoPk8i86qXdw07RcuEZkdfre+Vz228wj3Pygql47aV9PWqprNc8gg6Gx/FNsrGnyHLr3rX0bSX36mguPG2h0+gdy/VXiZ3bYw4u1LnZuLnEXLnHr/wDa/QqWNitwDiGuPEkNsTr+j5D5VRbb81urQfLfXzG5P0LHEdyB1CwPym/0fQslrS8ADygAa6aZu+wH6V+GQuOUC15TlF72BcbWv1cQnpOtzphzdJ/m4C/kH/snuUw5LqlsdUGnQlzCD5Bmyh3oBIv5nFRR1O5ji1wIc0lrgeogkFZWEVW4nbK03yObmA45eDhp12v3BVvXdWuCYreOX6l19g9JnY1x08oPURoQtjVQhrCeJt6er6FreT3FoqikY9xJksM3DWzR0vlAHVwLeJuVuMQkjAHSsNX6X8pAF7W6j/F1wxhmZ9OjJfhaaz8Kc5asW3VOYL9OQZQOIaHEZ+PAmxPp9CoOao148P324ehdAcomw0uKS5mVUUYBBu9r3kaHQAWsOI49QUcpuQ3oZnV0kjtD97ibG2wILtXOcT0TcfQu3FqkduS08pVGyrIaTfU2b5/k/QtjRUj2N++B4LwJGgtcwnhexdoeHFXzsnyX0uGuFQ1hnmboHznOWA5wSxos0Py3F7Dq896z5bb+ORm1i1ttBYABxt/5H+AujHfc9Ky0NI3MDn0voG3FmgcDprm1+heLKksla0ahlmOt+Nm1Jt1jq/7Qtea29rW+gnqsSPJ5fOvjHlozekNNtb2NifMNe9dMI0mGAYpuKi7XvYw5RI5jpWkxhwdJmMb2uIFr2BFyBwI0tHZyVwq4azIxjqRzXyB0s8kslI4sgrhaS/jEcecnOxzrOhnJAGUmjMKlka/MxuZzOnltfQXJJHW211cfJE90j2xOjrXNdbeUlA9s0r4JbteThtToYXtc8GWnOa7h5brLJPHtOmn2giFPVmEXYIpKqnbwLA2GV7WanpF1miyt/ZSdsVRBVzvfM2omdLZ2Uy5xBvImvb1xwseXty6dIlwzFpdU/KvDusSew2ztlkDyRd+d0Ebnku4R6uNwdf0qT7DS7qaCWYGenlZRlzW2H3q0JFG4nVrC8Z8o0lMga7z9fkxypW3z/pjT3pi+EPBIzEIC9mUvgeQ7o/fg2pmjE9hr0g0G590bu1vdVorW8Jyq32KwSA3jfSRPjI9ycxOYtPWLtCqleLlndpbQIoZzrn7EPc/1051z9iHuf66zTpM0UM51z9iHuf66c65+xD3P9dDSZooZzrn7EPc/1051z9iHuf66GkzRQznXP2Ie5/rpzrn7EPc/10NJmihnOufsQ9z/AF051z9iHuf66GkzRQznXP2Ie5/rpzrn7EPc/wBdDSZooZzrn7EPc/1051z9iHuf66GkzRQznXP2Ie5/rpzrn7EPc/10NJmihnOufsQ9z/XTnXP2Ie5/roaTNFDOdc/Yh7n+unOufsQ9z/XQ0mjiSbkknQXOpsAGgX8gAA9AC+KGc65+xD3P9dOdc/Yh7n+uhpM0UM51z9iHuf66c65+xD3P9dDSZooZzrn7EPc/1051z9iHuf66GkzRQznXP2Ie5/rpzrn7EPc/10NJmihnOufsQ9z/AF051z9iHuf66GkzRQznXP2Ie5/rpzrn7EPc/wBdDSZooZzrn7EPc/1051z9iHuf66GkzXvQVLoZGytc5r4znY5oa9zXtBLCGu6Js63FQXnXP2Ie5/rpzrn7EPc/11MTqdmlp7MbRTBtRvn531RLN/KASZbOMTneRm8IDjYhubMAcjb+GzWHSmGehnduxkZJTtmdA/d1DM7Q/eRzP6TvvmbrDZSQ3UFVnzrn7EPc/wBdOdU/Yg/Jf666reXud6ZRiSLHcNaIImMbG6rke2+UgviDwCxrgHaEARk6cZZAQCy69ds8Iie6SSG2SAU8Ol7vztc9jmtH4u7dAw2vZ99eNoxzrn7EPc/1051z9iHuf66ytm38LxTTXPppNfvUgPkyu0A4Dh/Fl7so3mO2R/XYZXX8vk8n+iyudc/Yh7n+unOufsQ9z/XVfqp0/eHxSXeTFI9jWPcQARYgENfYkZgDl4XNrqY4Bsw3PGySdji50UjYxYZg+N5e95Iswtc5gtfW3mUL51z9iHuf66c6p+xD+S/11E5NpjpOdp8EibXUkkxG4mmhiryx3uY45Y2TPu3VuaDM648isTazaCHGn4hg5wXC6bD8NjrfEaqEw0uIUficMu4q4nue1tXTPdCwOhYHEsnadbXVBc6p+xB+S/11851T9iD8l/rpW+o0vmt9S/LWtry8HbGSXx0kjA7psjkZM/cRmIHOXOl4sYIg8ZhqN2FZE08cIdHvIvvbni29idbpPBAIdYgcAfMFyKdqpz+JAf8Atf66c6Z/+HB+S/10jJozW+pMTPvUR+9OvMPngeLmWFrtTYyRX0cbj3VuBW4w19OQPv1OOibh0rR+I8ai+vD9C4r50z/8OD8l/rr5zom/4cH5L/XS19s4jTt2oFMWEOqKd1jchskbb3vx6dyLtfoOOZqpLliwWGWCSeN0TnQxOf0XNcS4tAa1rR+Nmkb+SfSqP50Tf8OD8l/rr7zpn/4cH5L/AF0pfils8DwJ0kzGP+9teMwd/ZBOb0GzXgD0LOpMCfDiDKaYtyySCMTHK+Nt3Wa43u0NPDpaAOUf51z9iH8l/rpzqn7EP5L/AF1r/JlK4+TvB6GN+WYRwyveWU1Y05mCOSVtPJHNYkNla57SHEWyX0IdZbuOohopzh7HCamgqTStzSs3dS3NI+pmljlY9kUEUG6GeLI4vFweo0Bzqn7EH5L/AF051T9iD8l/rqn1fuLY5U6oS4i6RgAZK9koAe45WyU0TgC1znOc6zvxnEgggk6rZbLyDxmAyS5Y9xTPhLcrnRxMp4xWCnaQWNr2gSuBfc5WgM6eUClhtVP2IPyX+uvnOqfsQfkv9ddVvPm1Irr1+WcU72vzwgpYXV1J4u9jqVuH0zYBG7OxrM0pyjXom51Bsb8VW6hY2qn7EH5L/XX3nXP2Ie5/rrhmdrtAiIqpEREBERAREQEREBERAREQEREBERAREQEREBERAREQEREBERAREQEREBERAREQEREBERAREQEREBERAREQEREBERAREQEREBERAREQEREBERAREQEREBERAREQEREBERAREQEREBERAREQEREBERAREQEREBERAREQEREBERAREQEREBERAREQEREBERAREQEREBERAREQEREBERAREQEREBERAREQEREBERAREQEREBERAREQEREBERAREQEREBERAREQEREBERAREQEREBERAREQEREBERAREQEREBERB//Z\n"
                },
                "metadata": {}
              }
            ]
          }
        },
        "27694e414e2c46f2ac500468e63c746f": {
          "model_module": "@jupyter-widgets/output",
          "model_name": "OutputModel",
          "model_module_version": "1.0.0",
          "state": {
            "_dom_classes": [],
            "_model_module": "@jupyter-widgets/output",
            "_model_module_version": "1.0.0",
            "_model_name": "OutputModel",
            "_view_count": null,
            "_view_module": "@jupyter-widgets/output",
            "_view_module_version": "1.0.0",
            "_view_name": "OutputView",
            "layout": "IPY_MODEL_3a4ad8f907a64114b699a56802e9ffeb",
            "msg_id": "",
            "outputs": [
              {
                "output_type": "stream",
                "name": "stdout",
                "text": [
                  "Video available at https://www.bilibili.com/video/BV1Mg4y1i7WH\n"
                ]
              },
              {
                "output_type": "display_data",
                "data": {
                  "text/plain": "<__main__.BiliVideo at 0x7fd349910910>",
                  "text/html": "\n        <iframe\n            width=\"854\"\n            height=\"480\"\n            src=\"https://player.bilibili.com/player.html?bvid=BV1Mg4y1i7WH&page=1?fs=1\"\n            frameborder=\"0\"\n            allowfullscreen\n        ></iframe>\n        "
                },
                "metadata": {}
              }
            ]
          }
        },
        "4e5671ca82b24d539f765cacf2069f53": {
          "model_module": "@jupyter-widgets/base",
          "model_name": "LayoutModel",
          "model_module_version": "1.2.0",
          "state": {
            "_model_module": "@jupyter-widgets/base",
            "_model_module_version": "1.2.0",
            "_model_name": "LayoutModel",
            "_view_count": null,
            "_view_module": "@jupyter-widgets/base",
            "_view_module_version": "1.2.0",
            "_view_name": "LayoutView",
            "align_content": null,
            "align_items": null,
            "align_self": null,
            "border": null,
            "bottom": null,
            "display": null,
            "flex": null,
            "flex_flow": null,
            "grid_area": null,
            "grid_auto_columns": null,
            "grid_auto_flow": null,
            "grid_auto_rows": null,
            "grid_column": null,
            "grid_gap": null,
            "grid_row": null,
            "grid_template_areas": null,
            "grid_template_columns": null,
            "grid_template_rows": null,
            "height": null,
            "justify_content": null,
            "justify_items": null,
            "left": null,
            "margin": null,
            "max_height": null,
            "max_width": null,
            "min_height": null,
            "min_width": null,
            "object_fit": null,
            "object_position": null,
            "order": null,
            "overflow": null,
            "overflow_x": null,
            "overflow_y": null,
            "padding": null,
            "right": null,
            "top": null,
            "visibility": null,
            "width": null
          }
        },
        "6b2fb0a469824e619b74f092ba642ac6": {
          "model_module": "@jupyter-widgets/base",
          "model_name": "LayoutModel",
          "model_module_version": "1.2.0",
          "state": {
            "_model_module": "@jupyter-widgets/base",
            "_model_module_version": "1.2.0",
            "_model_name": "LayoutModel",
            "_view_count": null,
            "_view_module": "@jupyter-widgets/base",
            "_view_module_version": "1.2.0",
            "_view_name": "LayoutView",
            "align_content": null,
            "align_items": null,
            "align_self": null,
            "border": null,
            "bottom": null,
            "display": null,
            "flex": null,
            "flex_flow": null,
            "grid_area": null,
            "grid_auto_columns": null,
            "grid_auto_flow": null,
            "grid_auto_rows": null,
            "grid_column": null,
            "grid_gap": null,
            "grid_row": null,
            "grid_template_areas": null,
            "grid_template_columns": null,
            "grid_template_rows": null,
            "height": null,
            "justify_content": null,
            "justify_items": null,
            "left": null,
            "margin": null,
            "max_height": null,
            "max_width": null,
            "min_height": null,
            "min_width": null,
            "object_fit": null,
            "object_position": null,
            "order": null,
            "overflow": null,
            "overflow_x": null,
            "overflow_y": null,
            "padding": null,
            "right": null,
            "top": null,
            "visibility": null,
            "width": null
          }
        },
        "3a4ad8f907a64114b699a56802e9ffeb": {
          "model_module": "@jupyter-widgets/base",
          "model_name": "LayoutModel",
          "model_module_version": "1.2.0",
          "state": {
            "_model_module": "@jupyter-widgets/base",
            "_model_module_version": "1.2.0",
            "_model_name": "LayoutModel",
            "_view_count": null,
            "_view_module": "@jupyter-widgets/base",
            "_view_module_version": "1.2.0",
            "_view_name": "LayoutView",
            "align_content": null,
            "align_items": null,
            "align_self": null,
            "border": null,
            "bottom": null,
            "display": null,
            "flex": null,
            "flex_flow": null,
            "grid_area": null,
            "grid_auto_columns": null,
            "grid_auto_flow": null,
            "grid_auto_rows": null,
            "grid_column": null,
            "grid_gap": null,
            "grid_row": null,
            "grid_template_areas": null,
            "grid_template_columns": null,
            "grid_template_rows": null,
            "height": null,
            "justify_content": null,
            "justify_items": null,
            "left": null,
            "margin": null,
            "max_height": null,
            "max_width": null,
            "min_height": null,
            "min_width": null,
            "object_fit": null,
            "object_position": null,
            "order": null,
            "overflow": null,
            "overflow_x": null,
            "overflow_y": null,
            "padding": null,
            "right": null,
            "top": null,
            "visibility": null,
            "width": null
          }
        },
        "a2d4cd108d8a4c0ea92fe9076bdb06c4": {
          "model_module": "@jupyter-widgets/controls",
          "model_name": "VBoxModel",
          "model_module_version": "1.5.0",
          "state": {
            "_dom_classes": [
              "widget-interact"
            ],
            "_model_module": "@jupyter-widgets/controls",
            "_model_module_version": "1.5.0",
            "_model_name": "VBoxModel",
            "_view_count": null,
            "_view_module": "@jupyter-widgets/controls",
            "_view_module_version": "1.5.0",
            "_view_name": "VBoxView",
            "box_style": "",
            "children": [
              "IPY_MODEL_21d0924540bc41e2ada86049fa675cc1",
              "IPY_MODEL_e1798e14c43e4b86b83c8e1c0304dd88",
              "IPY_MODEL_2ae1d4b2a5534e1c9098e13407a49ba4"
            ],
            "layout": "IPY_MODEL_1e6326801f7049f78a1d0112f700c1f8"
          }
        },
        "21d0924540bc41e2ada86049fa675cc1": {
          "model_module": "@jupyter-widgets/controls",
          "model_name": "FloatSliderModel",
          "model_module_version": "1.5.0",
          "state": {
            "_dom_classes": [],
            "_model_module": "@jupyter-widgets/controls",
            "_model_module_version": "1.5.0",
            "_model_name": "FloatSliderModel",
            "_view_count": null,
            "_view_module": "@jupyter-widgets/controls",
            "_view_module_version": "1.5.0",
            "_view_name": "FloatSliderView",
            "continuous_update": true,
            "description": "mu",
            "description_tooltip": null,
            "disabled": false,
            "layout": "IPY_MODEL_5c32bba30446494da4ec942af55edc8a",
            "max": 2,
            "min": -2,
            "orientation": "horizontal",
            "readout": true,
            "readout_format": ".2f",
            "step": 0.1,
            "style": "IPY_MODEL_fe57428c951d4a82a770de75ffb1be43",
            "value": 0
          }
        },
        "e1798e14c43e4b86b83c8e1c0304dd88": {
          "model_module": "@jupyter-widgets/controls",
          "model_name": "FloatSliderModel",
          "model_module_version": "1.5.0",
          "state": {
            "_dom_classes": [],
            "_model_module": "@jupyter-widgets/controls",
            "_model_module_version": "1.5.0",
            "_model_name": "FloatSliderModel",
            "_view_count": null,
            "_view_module": "@jupyter-widgets/controls",
            "_view_module_version": "1.5.0",
            "_view_name": "FloatSliderView",
            "continuous_update": true,
            "description": "sigma",
            "description_tooltip": null,
            "disabled": false,
            "layout": "IPY_MODEL_36fe10d05d3c494db31d043a9bb81b85",
            "max": 2,
            "min": 0.5,
            "orientation": "horizontal",
            "readout": true,
            "readout_format": ".2f",
            "step": 0.1,
            "style": "IPY_MODEL_8e7524ded06340e1865005eaccb4caf4",
            "value": 1.5
          }
        },
        "2ae1d4b2a5534e1c9098e13407a49ba4": {
          "model_module": "@jupyter-widgets/output",
          "model_name": "OutputModel",
          "model_module_version": "1.0.0",
          "state": {
            "_dom_classes": [],
            "_model_module": "@jupyter-widgets/output",
            "_model_module_version": "1.0.0",
            "_model_name": "OutputModel",
            "_view_count": null,
            "_view_module": "@jupyter-widgets/output",
            "_view_module_version": "1.0.0",
            "_view_name": "OutputView",
            "layout": "IPY_MODEL_81d910b8ae424be8812057b4b580616e",
            "msg_id": "",
            "outputs": [
              {
                "output_type": "display_data",
                "data": {
                  "text/plain": "<Figure size 576x432 with 1 Axes>",
                  "image/png": "iVBORw0KGgoAAAANSUhEUgAABFwAAAM7CAYAAAB3L4SlAAAABHNCSVQICAgIfAhkiAAAAAlwSFlzAAAWJQAAFiUBSVIk8AAAADh0RVh0U29mdHdhcmUAbWF0cGxvdGxpYiB2ZXJzaW9uMy4yLjIsIGh0dHA6Ly9tYXRwbG90bGliLm9yZy+WH4yJAAAgAElEQVR4nOzdeZyWdb3/8dcHBhiWYRx2ERHrlFnKMSTNLSksy5OJC8ftCCapZeqvU6ZHc8Ew1J/6MzXNXBKXFJGyOCVuKOjxaB3I1MxyOS6AIso2DPvy/f1x3zMMODPMDNfMPXPzej4e9+O67uv6Xt/rc2vzh+++S6SUkCRJkiRJUnY6FLoASZIkSZKkYmPgIkmSJEmSlDEDF0mSJEmSpIwZuEiSJEmSJGXMwEWSJEmSJCljBi6SJEmSJEkZM3CRJEmSJEnKmIGLJEmSJElSxgxcJEmSJEmSMmbgIkmSJEmSlDEDF0mSJEmSpIwZuEiSJEmSJGXMwEWSJEmSJCljBi6SJEmSJEkZK9rAJSK6RcTXIuLCiPhNRLwdESn/GZ/RO/pHxDUR8Y+IWBURiyPi6Yj4VkREFu+QJEmSJEntT0mhC2hB+wAPtVTnEbE38AjQO3+pCigDDsx/jomIb6SU1rZUDZIkSZIkqW0q2hEueUuAGcBVwPHAgiw6jYhy4Pfkwpa/A59LKZUB3YEzgXXAocBPs3ifJEmSJElqX4p5hMvTKaVetS9ExBUZ9X0OMABYBRyWUnoTID+a5caI6AlMBE6LiJ+mlF7N6L2SJEmSJKkdKNoRLimlDS3Y/Zj8cXJ12LKFG8hNMeoInNiCdUiSJEmSpDaoaAOXlhIRuwGD81+n19UmpVQFPJ3/+pXWqEuSJEmSJLUdBi5Nt0et87820K763qdbsBZJkiRJktQGFfMaLi1lYK3z+Q20q77XMyJ65Ee91Csi5jTi3UOAh1NKTlOSJEmSJKkNM3BpurJa5ysbaFf7Xhm5NV22VemwYcNOAE7IoC9JkiRJkrR10ZyHDFzaiJTS3ltrkx8FM6wVypEkSZIkSdvANVyabnmt824NtKt9b3m9rSRJkiRJUtExcGm6d2ud79RAu+p7lVtbv0WSJEmSJBUXA5emq70z0R71ttp0728tWIskSZIkSWqDDFya7lXgnfz5V+tqEBHdgYPyXx9tjaIkSZIkSVLbYeDSRCmlBNyV/3pcRAypo9l3gR7ABuBXrVOZJEmSJElqK4o6cImIiojoU/1h0+/tVvt6RPTY4rnxEZHynyF1dH01sIDcwrh/iIi98891jojvABPy7W5JKb3aEr9NkiRJkiS1XUUduADPAx/U+uycv/7DLa7/rCmdppSWAV8HFgGfBmZHRCVQBdwEdCY3lejft/0nSJIkSZKk9qbYA5cWk1KaA3wGuBZ4DegErAD+CzgV+FpKaU3hKpQkSZIkSYUSuSVJ1B5ExJxhw4YNmzNnTqFLkSRJkiRpexHNeagk6yokSZIkSc23evVqKisrWb58OevWrcP/k1xqnoigU6dOlJWV0bNnT0pLS1v1/QYukiRJktRGVFVVMW/ePEMWKQMpJdauXcuiRYtYvHgxgwYNokePHlt/MCMGLpIkSZLUBqxevbombOnZsycVFRWUlpbSoYNLb0rNsXHjRlavXs2SJUuorKxk3rx57LrrrnTp0qVV3m/gIkmSJEltQGVlZU3YMnDgQCKatWyEpLwOHTrQrVs3unbtCuT+xpYtW0a/fv1a5/2t8hZJkiRJUoOWL18OQEVFhWGLlKGIoKKiAtj0d9YaDFwkSZIkqQ1Yt24dQKsv7CltD6r/rqr/zlqDgYskSZIktQHVC+W6ZouUvepRY625ILV/yZIkSZIkqagVYpqegYskSZIkSVLGDFwkSZIkSZIyZuAiSZIkSZKUMQMXSZIkSZKkjBm4SJIkSZLUBCNGjCAiGD9+fJ33Fy9ezNlnn83HP/5xunTpQkQQESxdurR1C1VBlRS6AEmSJEmSisWGDRsYOXIkf/nLXwDo0aMHFRUVgFt+b28MXCRJkiRJyshjjz3GX/7yFzp16sQTTzzBgQceWOiSVCDGa5IkSZIkZeSll14CYOjQoYYt2zkDF0mSJEmSMrJy5UogN5VI2zcDF0mSJElSUam9qO3atWu54oorGDp0KN27d6eiooIvf/nLTJ8+vd7nN2zYwA033MCwYcPo3r07vXr1YsSIEUydOrXeZ04++eTNFtKdNWtWzWK5DS2wq+LlGi6SJEmSpKK0du1aDjnkEJ5++mlKSkro0aMHS5cu5fHHH+fxxx/nkksu+UgQsmbNGo444ggeeeQRILfQbefOnXnqqaeYNWsW5513Xp3vKi8vp3///lRVVbFixQo6depEr169au474mX7Y+AiSZIkSe3BvVHoClrWCSnzLm+66SZWr17NzTffzNixYyktLWXu3Ll8//vfZ+rUqVx66aUMGzaMb3zjGzXPnH/++TzyyCNEBBMmTOCss86iZ8+eLFy4kPHjx3PllVdSXl7+kXddd911XHfddYwfP55LL72U/fffn5kzZ2b+m9R+OKVIkiRJklSUli1bxk033cTpp59OaWkpADvvvDP3338/X/jCFwC44IILatq/++673HDDDQBceOGF/OhHP6Jnz54A9OvXj5tuuonjjz+eZcuWtfIvUXtk4CJJkiRJKko777wz3/zmNz9yvUOHDlx44YUAvPzyyzU7C02dOpX169fTtWtXzjnnnDr7dC0WNZaBiyRJkiSpKFUvnluXgw46iJKS3Cobs2fP3uw4fPjwmpEtW/rkJz/JTjvt1ALVqtgYuEiSJEmSilJDwUhpaSm9e/cGYOHChZsdtxaoDBo0KKMKVcwMXCRJkiRJkjLmLkWSJEmS1B60wC4+xW7+/Pn13luzZg2LFi0Ccgvi1j429Fxj7kvgCBdJkiRJUpGaNWsWKdUdVD399NOsX78eyK3ZUvs4e/Zsqqqq6nzutddeY968eS1QrYqNgYskSZIkqSi988473HnnnR+5vnHjRiZOnAjApz/9afbcc08Ajj76aDp27MiqVau4+uqr6+zzxz/+ccsVrKJi4CJJkiRJKkrl5eV85zvf4dZbb2X16tUAzJ07l+OPP54nn3wSgMsuu6ym/U477cR3v/tdACZMmMDll1/O8uXLAfjggw8488wzueeeeygvL2/lX6L2yMBFkiRJklSUzjjjDIYPH85pp51Gz5496dWrF4MHD2bKlCkAXHjhhRx55JGbPXPllVdyyCGHsHHjRi644AIqKiro1asX/fv358Ybb+S8885jr732KsTPUTtj4CJJkiRJKkqdO3dmxowZTJw4kd122401a9ZQXl7OyJEj+cMf/sCECRM+8kxpaSnTp0/nuuuuY6+99qJz586klDjooIOYMmUKV1xxRQF+idqjqG8BIbU9ETFn2LBhw+bMmVPoUiRJkiRl7JVXXgFg9913L3Al7d+IESOYNWsWl1xyCePHjy90OWojtuFvLJrzPke4SJIkSZIkZczARZIkSZIkKWMGLpIkSZIkSRkzcJEkSZIkScpYSaELkCRJkiQpSzNnzix0CZIjXCRJkiRJkrJm4CJJkiRJkpQxAxdJkiRJkqSMGbhIkiRJkiRlzMBFkiRJkiQpYwYukiRJkiRJGTNwkSRJkiRJypiBiyRJkiRJUsYMXCRJkiRJkjJm4CJJkiRJkpQxAxdJkiRJkqSMGbhIkiRJkiRlrKTQBUiSJEmSmmb4LcMLXUImZp82u0X6HTFiBLNmzeKSSy5h/PjxrfasVJuBiyRJkiRJLWTSpEm89dZbjBgxghEjRhS6HLUiAxdJkiRJkvIGDx7MbrvtRp8+fTLpb9KkScyaNQvAwGU7Y+AiSZIkSVLeXXfdVegSVCRcNFeSJEmSJCljBi6SJEmSpKKVUuLWW29l3333pWfPnpSVlbHffvtxzz331Nl+xIgRRESdC+auX7+eW265hREjRtCnTx86depE79692W233Tj22GO5/fbba9pOmjSJiKiZTnTppZcSEZt93nrrrc3637BhA7/85S/50pe+RJ8+fejSpQs77bQTo0ePZubMmVv9nXfccQf77bcfZWVllJeXs++++3LLLbeQUuLkk08mIjj55JM/8uyQIUOICCZNmkRVVRUXX3wxe+65J2VlZZvVuW7dOqZNm8Zpp53G8OHD2XHHHencuTP9+vXj0EMP5b777iOlVGd9M2fOrPndAC+++CLHH388AwcOpGvXruy+++5cffXVrF+/vuaZZ555hlGjRrHjjjtSWlrKHnvswY033ljvO9oapxRJkiRJkorShg0bOPLII/nd735HSUkJ3bp1Y/ny5Tz33HM899xzvPbaa1x66aWN7uuwww7jscceq7lWXl7OihUrWLx4Ma+++ipTpkxh3LhxAHTt2pX+/fuzePFi1q1bR/fu3enRo8dmfXbs2LHmfNmyZYwaNaomWOnYsSNlZWW89957TJ06lalTp3LOOedw1VVX1VnbiSeeyP333w9ARLDDDjswe/Zs/vSnPzFz5kw6d+681d+4aNEi9t57b1599VU6d+5Mt27dNrv/zDPPcMQRR9R879mzJ6WlpXzwwQc8+uijPProozz44INMnjyZDh3qH98xffp0jjrqKFavXk15eTlr1qzh73//Oz/84Q+ZM2cO9913H7fddhvf/va32bhxIz179mTNmjW8/PLLnHnmmcydO5crrrhiq7+n0BzhIkmSJEkqSjfeeCMzZ85k0qRJVFZWsmzZMubOncvhhx8OwGWXXcZrr73WqL7uu+8+HnvsMUpLS7nttttYvnw5S5cuZdWqVbz//vv85je/4Zhjjqlpf+yxx7JgwQL2339/AM455xwWLFiw2WfnnXeuaT9u3LiaYOT666+nsrKSJUuW8O6773LKKacAcPXVV3PzzTd/pLarrrqqJmz5/ve/zwcffMDixYtZsmQJEydOZPLkyUybNm2rv3H8+PFUVlby4IMPUlVVxZIlS5g7dy79+vUDoFu3bpx++uk89thjLFu2jGXLllFZWcmiRYu47rrr6NmzJw888AA/+9nPGnzPCSecwBFHHMHbb7/N0qVLWbZsGeeffz4AkydP5oorruCMM87gjDPOYMGCBSxdupTFixfXjM656qqrePXVV7f6ewrNwEWSJEmSVJSWLFnCgw8+yNixY+natSsAgwYN4oEHHmDgwIFs3LiRKVOmNKqv//7v/wZgzJgxjBs3rma0SkTQr18/jjzySB544IFm1fnHP/6RX//61wDccMMNnHXWWTWjSwYMGMDtt9/O0UcfDcBFF13E6tWra55dsWIFl19+OZALba655hp69+4N5EagnH/++Vx88cUsWbJkq3WsWrWKhx56iFGjRtGpUycg98+rupZ99tmHm2++mUMOOYSePXvWPNerVy/OPvvsmilV119/fYPv+dznPsd9993H4MGDASgrK2PixIkcdNBBAJx//vmMHTuW66+/vibsqaio4LbbbmPXXXdt0r+3QjJwkSRJkiQVpQMOOIAvfvGLH7nepUsXDj30UCC3lkhj7LDDDgAsWLAguwLzqkenDBo0iG9961t1tpkwYQIAH3744WbTmh599FEqKysB+NGPflTnsz/4wQ8+Mj2oLl/96lf57Gc/26Taa/uXf/kXAN54440G/zmdd955NWu51Fb97wSoGfFSW8eOHRk5ciTQ+H9vhWTgIkmSJEkqSvvuu2+99wYOHAjA4sWLG9XXYYcdRkQwbdo0vva1r3Hffffx7rvvZlLn7NmzAfjiF79Y79onu+++OzvttNNm7QH+/Oc/AzB48GB23XXXOp8tKytj77333modBxxwwFbbLF++nKuuuoqDDz6Yfv360blz55rFcGuHOvPmzau3j3322afO6/379wdyI2Y+9rGPNdimMSN2Cs1FcyVJkiRJRamsrKzeeyUluf8cXrduXaP6OvDAA7nyyiu58MILefjhh3n44YeB3KiUQw45hDFjxtQ5mqYxFi5cCFATqNRn0KBBzJ8/v6Y9wAcffABsCpDqs7W+gZrpO/V59dVXGTly5GZhSrdu3dhhhx1qgqL3338fyE11qk99/16q/51k+e+tkBzhIkmSJElSI/zwhz/kzTff5Nprr2XUqFH069ePefPmMWnSJL70pS8xevToggUBdU3RaarauybV5Zvf/Cbz5s1jyJAhPPDAAyxatIgVK1awcOFCFixYwPz582vatpetm1uSgYskSZIkSY00cOBAvve97/Hggw/y/vvv8+KLL9asuzJ16lR+/vOfN7nP6pElDU3DqX2/9kiUvn37Amx1elPtMKQ55s6dW7Nw8H333ccxxxxDr169NmvTEuvbtGcGLpIkSZIkNdOee+7JrbfeWrP+Se0FbYGaqTYNjfgYPnw4AE8++SQbN26ss83f//73mtDkc5/7XM31YcOGAfD222/z1ltv1flsVVUVc+bMacSvqd/cuXNrzutbWPfxxx/fpncUGwMXSZIkSZK2Ys2aNQ3er952estFb6u3T166dGm9zx533HFAbhTKbbfdVmebiy++GIA+ffpwyCGH1Fz/yle+UvOOiRMn1vnstddey8qVKxusf2vKy8trzl944YWP3F++fDmXXXbZNr2j2Bi4SJIkSZK0FaNGjeKUU05h+vTpm4Unixcv5rLLLmPGjBnApq2Rq+2xxx4APPTQQ/VO69lnn304+uijATjrrLP42c9+VhOQLFiwgFNPPZUHHngAyG0PXVpaWvNs9+7dOe+88wC49dZbOffcc2t2Xlq+fDlXXnkl48ePp6KiYpt+/+67787gwYMBOOWUUzYbMfPss88yYsSIdrFzUGsycJEkSZIkaStWrVrFHXfcwWGHHUZFRQXl5eWUl5fTu3dvLrroIlJKHHPMMTXruVQbO3YspaWlvP766wwePJgBAwYwZMgQhgwZstmaLbfffjsHH3wwa9eu5ayzzqK8vJxevXoxcODAmlEv55xzDt/+9rc/Utu5557LMcccA8BVV11F37596dWrFxUVFfzHf/wHJ554IocffjjAZmFNU3To0IEbb7yRkpISXn75ZYYPH0737t3p3r07+++/P//4xz+4//77m9V3sXJbaEmSJElqZ2afNrvQJWx3brjhBqZPn86sWbN47bXXWLBgAatXr2bgwIEMHz6csWPHctRRR33kuU984hM8+eSTXH755fzxj39k0aJFrF+/HqDmCLkpOzNmzODOO+/k7rvv5oUXXqCqqooBAwaw//77c+aZZzJixIg6ayspKWHKlCn88pe/5JZbbuHll19m/fr1DB8+nFNPPZVx48ZxxBFHALDDDjs0+5/B17/+dZ566il+8pOf8Mwzz7By5UoGDBjAyJEjOe+889htt92a3XcxCrdqaj8iYs6wYcOGbetiR5IkSZLanldeeQXITd2QspRSYvDgwcybN4+77rqLk046qdAlFcQ2/I01a89tpxRJkiRJklTE7r77bubNm0dJSclmC+6qZRm4SJIkSZLUzh1//PFMnTqVDz/8sOba+++/zxVXXMGpp54KwJgxY9hxxx0LVeJ2xzVcJEmSJElq56ZPn87kyZMB6NatG506dWLZsmU19w866CCuvfbaQpW3XTJwkSRJkiSpnbv++uuZPn06zz//PAsXLqSqqoq+ffuy1157cdxxx3HSSSfRqVOnQpe5XTFwkSRJkiSpnRszZgxjxowpdBmqxTVcJEmSJEmSMmbgIkmSJEmSlDEDF0mSJEmSpIwZuEiSJEmSJGXMwEWSJEmSJCljBi6SJEmSJEkZM3CRJEmSJEnKmIGLJEmSJElSxgxcJEmSJEmSMmbgIkmSJEmSlDEDF0mSJEmSpIwZuEiSJEmSJGXMwEWSJEmSJCljBi6SJEmSJEkZM3CRJEmSJEnKmIGLJEmSJElSxgxcJEmSJElF6eCDDyYiuPjii+tt84Mf/ICI4PDDD2/FyrQ9MHCRJEmSJBWdlBJ/+ctfABg2bFi97f785z9vtY3UHCWFLkCSJEmS1DQzZ0ahS8jEiBGpxfp+4403qKysBGDvvfeut111KPPZz362xWrR9skRLpIkSZKkovP8888D0LdvX3beeec627zxxhssXboUcISLsmfgIkmSJEkqOo2ZKlQdyvTu3ZvBgwe3Sl3afhi4SJIkSZKKTnWY0pj1W5xOpJZg4CJJkiRJKjrVgUtD67cYuKglGbhIkiRJkorK/PnzWbhwIdC4KUWu36KW4C5FkiRJktTOtOTuPsWgeuRKeXk5u+66a51t3njjjZpQxhEuagmOcJEkSZIkFZXqkSv9+/evt839998PQI8ePfjEJz7RKnVp+2LgIkmSJEkqKtUjXObNm8fq1as/cv+tt97iqquuAmDo0KF06OB/Git7/q9KkiRJklRUqke4rFy5kpNOOom3334bgKqqKiZPnsyBBx7I0qVLASgpKWHZsmUsW7asYPWqOBm4SJIkSZKKxqJFi3jnnXcAOPzww5k6dSpDhgyhc+fOlJWVcfzxxzNo0CD2228/AJ566ikqKipYs2ZNIctWETJwkSRJkiQVjerRLaWlpUyZMoULL7yQnXfemYjg4x//OBdccAFPPPEEF198MX379qVv376cfvrp9OvXr8CVq9i4S5EkSZIkqWhUr9+y5557UlpayoQJE5gwYcJH2n31q1+t2aVIagmOcJEkSZIkFY3qES5u9axCM3CRJEmSJBWN6hEue+21V4Er0fbOwEWSJEmSVBSqqqp4/fXXAUe4qPAMXCRJkiRJReGFF15g48aNdOjQgaFDhxa6HG3nXDRXkiRJklQUDjjgAFJKhS5DAhzhIkmSJEmSlDkDF0mSJEmSpIwZuEiSJEmSJGXMwEWSJEmSJCljBi6SJEmSJEkZM3CRJEmSJEnKmIGLJEmSJElSxgxcJEmSJEmSMmbgIkmSJEmSlDEDF0mSJEmSpIwZuEiSJEmSJGXMwEWSJEmSJCljBi6SJEmSJEkZM3CRJEmSJEnKWNEHLhFRFhHjI+KliKiKiGUR8T8R8YOI6LyNfR8TEf8ZEe9GxNqIWBER/4iIWyNir6x+gyRJkiRJal9KCl1AS4qIXYCZwJD8pZVAF2B4/nNiRIxMKS1pYr9dgAeAw2tdrgI6A5/Mf06JiHNSStduy2+QJEmSJEntT9GOcImIEuA/yYUt7wFfTil1B7oBxwHLgc8C9zSj+wvYFLbcBAxKKZUBXckFOf9F7p/tNRGx9zb8DEmSJEmS1A4VbeACjAX2zJ8fnVJ6HCCltDGldD9wev7eYRExsol9j8kfZ6WUvptSml+r7znA18mNeAngmG35EZIkSZIkqf0p9sAF4MmU0rN13J8MvJk/H1PH/YbsmD/OrutmSmkZ8Gr+a48m9i1JkiRJktq5ogxcIqIbcED+6/S62qSUEvBw/utXmviK/80f65wuFBHl5NZxgXpCGUmSJElS6/j973/P6NGjGTJkCN26dSMi6v3cdttthS5XRaJYF83dnU1h0l8baFd9b0BE9EopLW5k/z8HrgdGRMSNwMSU0vyICHLrwlxHbmTLszRyjZiImNOIZp9qZH2SJEmSilhEoSvIRkot2/+qVas47rjjmDZtGgARQXl5OevWrWP9+vV1PrPXXm44q2wU5QgXYGCt8/kNtKt9b2C9rT7qRuD/AhuBM4B5EbEcWA3MAf4JuAIYmVLa0IR+JUmSJEkZOeGEE5g2bRodO3bkoosuYsGCBSxZsoTly5dz7bWbNpTdd999ueOOO7jjjjvYc889G+hRarxiHeFSVut8ZQPtat8rq7fVFlJKGyPifOBvwM/IjWapvVZLKVAOdAdWNbLPre5mlB8FM6yxdUqSJEnS9uruu+/mt7/9LQC/+MUvGDduXM290tJSvve97/Hcc89x//338/rrr3PyyScXqFIVq2Id4dKiIqIPMAOYRG7a0IHADuQW0z0K+AD4DvDHiNipQGVKkiRJ0nYppcSECRMAGDVq1GZhS22HH344AIsWLeK9995rtfq0fSjWwGV5rfNuDbSrfW95va0+6k5gBDALODSl9ExKaVlKaUFK6UFyAcyHwMfITS2SJEmSJLWSZ599ltdeew2Ac845p952vXv3rjlft25di9el7UuxBi7v1jpvaIRJ7Xvv1tuqlojYHTgs//Wa/G5Hm0kpLQTuyn89Kr+YriRJkiSpFcyYMQOAAQMGsN9++9XbbuHChQB06NCBAQMGtEpt2n4Ua+DyCrkFbQH2aKBd9b0FTdih6NO1zt9ooN1r+WM3oF8j+5YkSZKkrUqpOD4t5aWXXgJgn332oUOH+v+zd9asWQAMHTqUzp07t1xB2i4VZeCSUloJPJP/+tW62uRHnRya//poE7rfWOt8lwba9a91XtWE/iVJkiRJ22D+/NyGtH369Km3zYYNG2q2iz7ssMPqbSc1V1EGLnl35o9fjIh967g/mtwaK7Bp+k9j/LnW+XfqahAR3YEx+a8vppRWNKF/SZIkSdI2KCnJbci7aNGietv84he/4MMPP6Rjx46ceuqprVWatiPFHri8BATw64gYCRARHSJiNHBrvt30lNKM2g9GxPiISPnPkNr3UkpvA/+Z/3p4RNwdER+PnE4RsT8wk01hzjUt8NskSZIkSfX41Kc+BcCTTz7J0qVLP3L/73//O+eeey4AZ599NkOGDGnN8rSdKNrAJaW0HvgG8Ba5xXEfj4gVwApgCtATeB44sRndnwLMyZ//G/A6uWlD1VOZhufvXZVSasroGUmSJEnSNjrxxNx/5lVWVjJ69GjeeecdAFavXs3dd9/NQQcdxIoVKzjggAP4yU9+UshSVcSKNnABSCm9BQwFfgz8FUjAOnJhyTnA51NKS5rR74fA54FvAY8A7wOdgPXA/wL3AAellM7d9l8hSZIkSWqKL3zhC5x55pkAPP744+yyyy5UVFRQVlbGmDFj+PDDDznyyCN56KGH6Nq1a4GrVbGKOnY1VhsVEXOGDRs2bM6cOVtvLEmSJKldeeWVVwDYfffdC1xJ8bj33nu55ZZbeOGFF1i5ciX9+vVj//33Z9y4cXzlK18pdHlqZdvwNxbNeV9Jcx6SJEmSJKmtO+GEEzjhhBMKXYa2UyupBv8AACAASURBVEU9pUiSJEmSJKkQDFwkSZIkSZIyZuAiSZIkSZKUMQMXSZIkSZKkjBm4SJIkSZIkZczARZIkSZIkKWMGLpIkSZIkSRkzcJEkSZIkSUUtpdTq7zRwkSRJkqQ2ICIA2LhxY4ErkYpPdeBS/XfWGgxcJEmSJKkN6NSpEwCrV68ucCVS8an+u6r+O2sNBi6SJEmS1AaUlZUBsGTJkoJMf5CKVUqJJUuWAJv+zlpDSau9SZIkSZJUr549e7J48WIqKysBqKiooLS0lIho1WkQUjFIKZFSYvXq1SxZsoTKykoigvLy8larwcBFkiRJktqA0tJSBg0axLx586isrKwJXiRtu4hg0KBBdOnSpdXeaeAiSZIkSW1Ejx492HXXXVm2bBnLly9n3bp1Ti+Smiki6NSpE2VlZZSXl7dq2AIGLpIkSZLUpnTp0oV+/frRr1+/QpciaRu4aK4kSZIkSVLGDFwkSZIkSZIyZuAiSZIkSZKUMQMXSZIkSZKkjBm4SJIkSZIkZczARZIkSZIkKWMGLpIkSZIkSRkzcJEkSZIkScqYgYskSZIkSVLGDFwkSZIkSZIyZuAiSZIkSZKUMQMXSZIkSZKkjBm4SJIkSZIkZczARZIkSZIkKWMGLpIkSZIkSRkzcJEkSZIkScqYgYskSZIkSVLGDFwkSZIkSZIyZuAiSZIkSZKUMQMXSZIkSZKkjBm4SJIkSZIkZczARZIkSZIkKWMGLpIkSZIkSRkzcJEkSZIkScqYgYskSZIkSVLGDFwkSZIkSZIyZuAiSZIkSZKUMQMXSZIkSZKkjBm4SJIkSZIkZczARZIkSZIkKWMGLpIkSZIkSRkzcJEkSZIkScqYgYskSZIkSVLGDFwkSZIkSZIyZuAiSZIkSZKUMQMXSZIkSZKkjBm4SJIkSZIkZczARZIkSZIkKWMGLpIkSZIkSRkzcJEkSZIkScqYgYskSZIkSVLGDFwkSZIkSZIyZuAiSZIkSZKUMQMXSZIkSZKkjBm4SJIkSZIkZczARZIkSZIkKWMGLpIkSZIkSRkzcJEkSZIkScpYpoFLRNwXESOy7FOSJEmSJKm9yXqEy7HAjIh4LSLOjYh+GfcvSZIkSZLU5rXElKIAPgZcDsyNiAci4tAWeI8kSZIkSVKblHXgsjfwC2A5ueClE3AU8FBEvBkRF0bEThm/U5IkSZIkqU3JNHBJKT2fUvoOsCMwDvhvcsFLALsAlwJvRsTvIuLrEeGivZIkSZIkqei0SOCRUlqVUrojpXQg8BngOmARueClBPg68DvgnYj4cUTs0hJ1SJIkSZIkFUKLjzBJKb2SUvp3YCfgBOCJ/K0ABgI/At6IiIcj4qiIKGnpmiRJkiRJklpSq03pSSmtTSlNTikdAvwTuUV13yMXvHQAvgw8AMyLiIkRsXNr1SZJkiRJkpSlgqyhklJ6E3gSeK76EpvWeukHnAe8HhE3R8QOhahRkiRJkiSpuVo1cImIHSPigoh4HXgEGFV9C3gFuAGYy6Ydjk4FZkdE39asU5IkSZIkaVu0eOASOV+PiN8CbwMTgI+RC1XWAvcCB6eUPpNS+j/AEOAIYHa+za7AxS1dpyRJkiRJUlZabIHa/M5D44BvklscF3IBCsDrwC3AHSmlRbWfSykl4D8j4g/AdHJru3ytpeqUJEmSJEnKWqaBS36HoVHkpgKNZNO6LADryW0FfXNKacbW+kopbYyISeQCl8FZ1ilJkiRJktSSsh7hMh/okz+vDlreBm4Fbk8pvd/E/hbnjx0zqE2SJEmSJKlVZB24VC9uuwF4CLgZeDg/Tag55gN3ZlGYJEmSJElSa2mJES63A7emlOZva2cppb+SWwNGkiRJkiSp3cg6cNklpbQx4z4lSZIkSZLalawDlwMjAuCvKaXFW2tcLSJ2AIYCpJSeyrgmSZIkSZKkVpV14DITSMCRwLQmPLcvuS2gN7ZATZIkSZIkSa2qQ6EL2EJsvYkkSZIkSVLb1lYCl+qgpbm7GUmSJEmSJLUZbSVw6ZM/rihoFZIkSZIkSRkoeOASEV2AsfmvbxWwFEmSJEmSpEw0e4HaiBjLpqBkS5dFxPe21gXQHfhU/piAGc2tR5IkSZIkqa3Ylh2BhgAj+Oi6KwF8pgn9VK/fshC4ehvqkSRJkiRJahOy2IK5rp2FGrPbUAKqgDfJjWy5JqX0bgb1SJIkSZIkFVSzA5eU0qXApbWvRcRGckHKkSmladtYmyRJkiRJUrvUEovmNmZ0iyRJkiRJUtHKYkpRjZRSwXc9kiRJkiRJKjQDEkmSJEmSpIwZuEiSJEmSJGWsWVOKImJM9XlK6a66rjdX7f4kSZIkSZLao+au4TKJ3G5ECbirjuvNtWV/kiRJkiRJ7c62LJpb325E7lIkSZIkSZK2a80NXL7ZxOuSJEmSJEnbjWYFLimlO5tyXZIkSZIkaXviLkWSJEmSJEkZM3CRJEmSJEnK2LYsmttsEVEBfC7//hdTSvMKUYckSZIkSVJLyDRwiYhewL/lvz6cUnq1jjb/AVwMdMlfShFxD3B6SmlNlvVIkiRJkiQVQtYjXI4FfgqsBX615c2IOAGYCCQ2bR8dwElAJ+DEjOuRJEmSJElqdVmv4fLF/PGplNKi2jciIoDLal2aClwNvE0udDkuIg7MuB5JkiRJkqRWl3Xg8klyo1eerePeAcCQ/P3zUkr/mlI6l9xaLovzbcZmXI8kSZIkSVKryzpw6ZM/vl7HvUPyx1XATdUXU0ofAveSG+Xy+YzrkSRJkiRJanVZBy6988eqOu5VTxealVJaucW9l/LHwRnXI0mSJEmS1OqyDlw25o89al+MiBJgX3LTif6rjueqpxR1y7geSZIkSZKkVpd14LIgf/zMFtcPArrnz/+7jufK8sctR75IkiRJkiS1O1kHLrPJrcXybxHRu9b1s/LHVdS9oO4n88d5GdcjSZIkSZLU6rIOXO7NH3cE/iciro2IR4BR5KYTPZBSWlvHc/vn77+ccT2SJEmSJEmtLtPAJaX0O+AhcqNcdgHOZtPuRJXA+C2fiYh+5LaMhrpHv0iSJEmSJLUrWY9wATgGuI5cwBL5z5+AQ1JKb9fR/jSgY/78kRaoR5IkSZIkqVWVZN1hSmk18O8R8QOgL7AqpVTZwCO/B57OPZr+lnU9kiRJkiRJrS3zwKVaSmkj8H4j2v2lpWqQJEmSJEkqhJaYUiRJkiRJkrRdM3CRJEmSJEnKWItNKYqIAcBI4NNABVDaiMdSSmlcS9UkSZIkSZLUGjIPXCJiB+CnwAls2n2oKQxcJEmSJElSu5Zp4BIRXYEngH8mtx10U6Us65EkSZIkSSqErEe4/B9gL3LByVLgRnIBzHxgTcbvkiRJkiRJapOyDlxG54+LgH1SSm9l3H+TRUQZ8APgaGBXYAPwKjAZuCGltHYb+x8AfBc4LN9/V2Ah8AowE7gmpbRuW94hSZIkSZLal6wDl0+QG91yYxsJW3YhF3oMyV9aCXQBhuc/J0bEyJTSkmb2fyxwC9Azf2k1sBYYnP8cCtxMbrSPJEmSJEnaTrTUttB/a6F+Gy0iSoD/JBe2vAd8OaXUHegGHAcsBz4L3NPM/kcD95ILW24BPpNS6ppSKs9f+wJwLeDoFkmSJEmStjNZj3B5C/gM0CPjfptjLLBn/vzolNKzACmljcD9EdGBXGByWH6Uy4zGdhwROwK/IBdY/SCl9P9q308pLQeezn8kSZIkSdJ2JusRLr8htzvRiIz7bY6x+eOT1WHLFiYDb+bPxzSx77OBCuB5cqNYJEmSJEmSamQduNwAvAscFxHDM+670SKiG3BA/uv0utqklBLwcP7rV5r4iuqA5p58P5IkSZIkSTUyDVxSSouAI4AlwCMRcUJERJbvaKTd2fTb/tpAu+p7AyKiV2M6johdgYH5r3MiYs+IuDci3ouINRExLyLuj4gDGupHkiRJkiQVr0zXcImIX+ZP/wp8Cbgb+H8RMRv4ENi4lS5SSmlcBqUMrHU+v4F2te8NBBY3ou9P1jo/ALgE6AysIrdL0U7AvwKjI+KSlNKExhQcEXMa0exTjelLkiRJkiQVVtaL5p5Mbltoah37Al9rQh9ZBC5ltc5XNtCu9r2yelttrqLW+QTgHeBU4ImU0saI+DRwI7l1bH4cES+nlH7TyL4lSZIkSVIRyDpwgdyiuc3VHtZDqT0NK8jtgPTn6gsppb9FxOHAa8AAciNgthq4pJT23lqb/CiYYU2uWJIkSZIktaqsA5ddM+6vuZbXOu/WQLva95bX26r+vmfUDluqpZSqIuJGciNghkZE/5TS+43sX5IkSZIktXOZBi4ppbez7G8bvFvrfCfgxXra7VTPMw2pve7LKw20+1ut810AAxdJkiRJkrYTWW8L3Va8wqYFevdooF31vQUppcYsmAu5IGVDI9rVnlrVHqZKSZIkSZKkjBRl4JJSWgk8k//61bra5LerPjT/9dEm9L0aeCr/dfcGmn66+hHgrcb2L0mSJEmS2r8WDVwionNEfCEiTo+I/4iIi1vyfVu4M3/8YkTsW8f90cDH8ud3NbHvO/LHkRHxkUVsI6IHcEb+6x9TSh80sX9JkiRJktSOtUjgEhGlETGR3LolTwI3AT8ht2PPlm2vjIhXI2JGxmXcCbxEbmrPryNiZP59HSJiNHBrvt30lNJm746I8RGR8p8hdfT9K+BPtfuOiA75Z3cHppHboWgj8KOMf5ckSZIkSWrjMt8WOiL6A4+Tm1Kz5RbRda1l8hvgh8DHI2KflNKfsqgjpbQ+Ir5BLvAZAjweESvJhUyl+WbPAyc2o++NEXEEMIPc73wcWBkR64DyfLN1wHdTSk9s0w+RJEmSJEntTqYjXPLrovwW+Ay5sOVp4HTgx/U9k1L6I/Bm/uthWdaTUnoLGJp//1/JBT7rgDnAOcDnU0pLmtn3AmBYvp//yffbldx6Lb8EhqWUbq23A0mSJEmSVLQipew20ImIE4B7yAUbE1NKF+WvHwE8CKSUUsc6nrsF+BbwWErp0C3vKyci5gwbNmzYnDlzCl2KJEmSJEnbiy1n7zRK1mu4HJs/zqkOWxrppfzxUxnXI0mSJEmS1OqyDlz2Jje6ZXITn6vexadPtuVIkiRJkiS1vqwDl+rA5O0mPrchf2zRbaolSZIkSZJaQ9YBx4r8sVsTn9sxf1ycYS2SJEmSJEkFkXXg8k7++M9NfO4L+eM/MqxFkiRJkiSpILIOXJ4gt3rvcRFR2pgHIuKfgG+QW/tlRsb1SJIkSZIktbqsA5fbgY3kpgjdvLXGEdEfmAqUAGuA2zKuR5IkSZIkqdVlGriklP4G3EhulMtJEfFsRBwLDKxuExGDI+KAiLgU+CuwJ7nRLZellN7Psh5JkiRJkqRCKGmBPr8P7AyMAvYB7s1fT/njm7XaRv54Z0ppYgvUIkmSJEmS1Ooy34Y5pbQhpXQU8O/AB+RClfo+HwJnpZS+mXUdkiRJkiRJhdISI1wASCldFxE3A4cCBwFDgHKgCpgPzAIeSimtbKkaJEmSJEmSCqHFAheAlNIaYFr+I0mSJEmStF3IfEqRJEmSJEnS9s7ARZIkSZIkKWMGLpIkSZIkSRlr1houEfG/WReSl1JKH2+hviVJkiRJklpFcxfNHQIkcls7b02qdR51fK+vrSRJkiRJUrvU3MDlHRoORzoBO5ILVKpDlaXACqA7sEOttgl4D1jXzFokSZIkSZLalGYFLimlIfXdi4jBwBRgIPAn4BpgRkppca02vYBDgO8BnwfmAqNTSvOaU48kSZIkSVJbkumiuRHRFfg98DngmpTS51NKD9QOWwBSSotTSlNSSvsDVwP7An+IiNIs65EkSZIkSSqErHcpOgPYA/hTSumHjXkgpXQuuZEwe+SflyRJkiRJateyDlyOJbcmy31NfO5X5NZ6OS7jeiRJkiRJklpd1oFL9ZbO7zXxuQVbPC9JkiRJktRuZR24dMkfd27ic9XtuzTYSpIkSZIkqR3IOnB5m9zUoDER0ai+8+3G1HpekiRJkiSpXcs6cJmWP+4J/CIiGtx2OiI6Aj8HhpJb++W3GdcjSZIkSZLU6rIOXK4GPsyfnwK8FBHfiYjd8uEKEdEx//07wIvAt/LtPwSuybgeSZIkSZKkVtfgCJSmSiktiogjgOlAT+CTwM+q70fE+jreGUAlcERKaXGW9UiSJEmSJBVC1iNcSCk9CwwHniAXptT+dKrj2uPA3iml57KuRZIkSZIkqRAyHeFSLaX0OnBIRPwzcCTwOWAg0AOoAt4F/gQ8mFJ6sSVqkCRJkiRJKpQWCVyqpZReAF5oyXdIkiRJkiS1NZlPKZIkSZIkSdreGbhIkiRJkiRlzMBFkiRJkiQpYwYukiRJkiRJGTNwkSRJkiRJypiBiyRJkiRJUsYMXCRJkiRJkjJm4CJJkiRJkpQxAxdJkiRJkqSMGbhIkiRJkiRlLNPAJSIiy/4kSZIkSZLao6xHuLwTEeMjYnDG/UqSJEmSJLUbWQcuOwEXAf8bEdMj4siI6JjxOyRJkiRJktq0rAOXRUDk+/0KMBWYFxETI+LjGb9LkiRJkiSpTco6cBkIHA/MyH8PoD9wHvBqRMyIiGMjolPG75UkSZIkSWozMg1cUkrrUkr3p5S+DPwTcDnwHrngJYARwL3A/Ii4OiI+leX7JUmSJEmS2oIW2xY6pfRmSulHwGBgFPB7YCO54KUP8O/AyxHxdET8W0SUtlQtkiRJkiRJranFApdqKaUNKaVpKaVvALsAlwBvsWnUy/7AncC7EXF9RAxt6ZokSZIkSZJaUosHLrWllN5NKU1IKX0MOBR4kE3Byw7Ad4HnI+LZiDguIqI165MkSZIkScpCqwYu1SJiCPAFYB8g5T+wKXzZB/gV8FJE7FOAEiVJkiRJkpqt1QKXiCiJiNER8SjwOnABuV2NAqgCfg4cTW5R3bX5658GZjrNSJIkSZIktSctHrhExG4RcTUwH5gMjMy/N4DngdOAgSml76aUHkwp/RuwM/BTciNfugDjW7pOSZIkSZKkrJS0RKf5HYf+FfgWcED15fxxBbng5Rcppdl1PZ9S+hD4fkR0Ab4D7NsSdUqSJEnS/2fvvsPlqur9j7/XzOnpIaQTCKEloECIIiAIRBFQERstCigS+1VsV8XCRUXFcuVevSr8QDoGBCu9o4CUgAHSaIGQhPR+6pT1+2MmEmLOnJJ95rT363nm2XP2fNeeb/C598z5zNprSVJXSDRwCSEcQCFkOQ0YsuV08fgM8BvgqhjjxnZe8i4KgcvoJPuUJEmSJEnqSknPcHmCwm1AW0KWJuAGCrNZHurE9RqSakySJEmSJKlcuuKWogAsBC4GLo8xrtuBaz0NfDSRriRJkiRJksok6cBlFoXZLPclcbEY4zLgiiSuJUmSJEmSVC6JBi4xxlOTvJ4kSZIkSVJvlPSiud8uPv1djPHZDoybBMwAiDGen2RPkiRJkiRJ5Zb0LUXnUVg0959AuwMXYI+txhq4SJIkSZKkXi3V3Q1IkiRJkiT1NT0lcEkXj7lu7UKSJEmSJCkBPSVw2bV43NitXUiSJEmSJCUg6TVctojtKQoh1AFTgXOKYxZ0UT+SJEmSJEll0+nAJYTwHeDb23sJ+GMIoTOX/VNn+5EkSZIkSeopdnSGS2upSmfSlr8DF+1AL5IkSZIkST3CjgQuLwH3b3PubRRuDZoHrG5jfB7YDCwC7gZujjHmd6AfSZIkSZKkHqHTgUuM8Qrgiq3PhRC2BCbnxhj/vCONSZIkSZIk9VZJL5r7AIUZLm3NbpEkSZIkSeqzEg1cYoxHJnk9SZIkSZKk3ijV3Q1IkiRJkiT1NQYukiRJkiRJCevULUUhhMuKT2OM8aztnO+s111PkiRJkiSpN+rsGi5nUlgcF+CsVs53loGLJEmSJEnq1XZk0dzA9sOVsAPX3NGwRpIkSZIkqdt1NnCZ2MHzkiRJkiRJ/UanApcY48sdOS9JkiRJktSfuEuRJEmSJElSwgxcJEmSJEmSEmbgIkmSJEmSlLBOreESQpiQdCNbxBgXd9W1JUmSJEmSyqGzuxS9RNds4RzZsa2qJUmSJEmSut2OhBshsS4kSZIkSZL6kM4GLlck2oUkSZIkSVIf0qnAJcb40aQbkSRJkiRJ6ivcpUiSJEmSJClhBi6SJEmSJEkJM3CRJEmSJElKmIGLJEmSJElSwjq1aG4I4bLi0xhjPGs75zvrddeTJEmSJEnqjTq7LfSZQCw+P6uV851l4CJJkiRJknq1zgYuAIHthythB665o2GNJEmSJElSt+ts4DKxg+clSZIkSZL6jU4FLjHGlztyXpIkSZIkqT9xlyJJkiRJkqSEGbhIkiRJkiQlbEcWzW2XEEIApgBjgYHAZmAZMC/G6CK5kiRJkiSpz+mywCWEcBDwReA9wIDtlNSHEP4E/DzGOLur+pAkSZIkSSq3LrmlKIRwIfAP4BQKs1rCdh4DgdOAf4QQftQVfUiSJEmSJHWHxGe4hBB+DZxNIVQBWAc8CDwP1FOY7bIHcBgwDEgDXw4hDIkxfjLpfiRJkiRJksot0cAlhHAsMBOIwCbgq8BlMcbMdmorgY8CFwKDgbNDCDfFGO9IsidJkiRJkqRyS/qWoi0zVLLAO2KMv9le2AIQY8zEGC8GjgG21Hwm4X4kSZIkSZLKLunA5WAKs1uujDE+2p4BxborKdyCdHDC/UiSJEmSJJVd0oHL0OLxgQ6O21I/JMFeJEmSJEmSukXSgcvy4jHXwXFb6peXrJIkSZIkSeoFkg5cHi4ep3Vw3JuKx4cS7EWSJEmSJKlbJB24/JLCGi4fDyHs3p4BxbqzKMxy+UXC/UiSJEmSJJVdooFLjPFB4JvAQOD+EMLbS9WHEKYD9wIDgG/EGB8uVS9JkiRJktQbVHRmUAjh9BIvLwP+BLwXuD2EMBe4G3geaADqgD2Ao4H9imP+BKwIIZweY7yyMz1JkiRJkiT1FCHG2PFBIeQp3DrUZmkbddu+HmOMnQqB+oMQwuypU6dOnT17dne3IkmSJElSfxE6M2hHwo32vmFbdZ1qXJIkSZIkqafqbODy0US7kCRJkiRJ6kM6FbjEGK9IuhFJkiRJkqS+IultoSVJkiRJkvo9AxdJkiRJkqSEGbhIkiRJkiQlrCxbMIcQBgGDgXRbtTHGxV3fkSRJkiRJUtfpksAlhJAGTgM+ArwZGNTOobGrepIkSZIkSSqXxMONEMIY4A/Am7acSvo9JEmSJEmSerJEA5cQQgr4M3BQ8dQi4BHgFAqzV+4D1gC7AgcAlcXzdwKvJtmLJEmSJElSd0l60dxTKYQtEfg5sGeM8bStXr8oxnhSjPFgYDxwUbH2DcAvYowfTbgfSZIkSZKksks6cPlg8bgU+GqMMd9aYYxxVYzxHODTwBjgphDCsIT7kSRJkiRJKrukA5cts1uujjFm2/N+McaLgQcozHj5VML9EEIYFEI4L4TwdAhhcwhhQwjhsRDCl0IIVQm/169DCLH4eCnJa0uSJEmSpN4j6cBlRPG4aJvzW2a61LQy7kYKi+uemGQzIYRdgaeA7wD7Fd+jGpgG/AT4R1KzakIIRwEzk7iWJEmSJEnq3ZIOXLbsSLR2m/ObisdRrYxbUTzullgjIVQAfyle81XgHTHGAUAdhUV8NwEHAlcn8F51wCVAFnh8R68nSZIkSZJ6t6QDl5XF4+Btzi8rHvdrZdz4VsbtiDMoLMYL8IEY410AMcZ8jHEW8Inia8eHEKbv4Ht9H5gEXAjM3cFrSZIkSZKkXi7pwGVe8bjHNuefpDD75YQQQu3WL4QQAvCR4o/LE+zljOLx3hjjw9t5/Xe8duvT6Z19kxDCW4D/AJ4FvtfZ60iSJEmSpL4j6cDlQQrByqHbnL+xeBxBYTeifUIIVSGEycANwP4UFtu9O4kmirf4HFb88dbt1cQYI3Bb8cdjOvk+1cBlFP7NM2OMTZ25jiRJkiRJ6luSDlxuKR4PDSGM3Or8H4EnKAQTx1C47aYReAZ4X7GmicItOUmYzGv/tmdK1G15bXQIYXgn3ufbxfe6NMZ4fyfGS5IkSZKkPqgiyYvFGJ8IIZwH1AK7UFzTJcYYQwjvBe6gEFBsqx6YEWNcmFArY7d6vrRE3davjeXfF/ttVQjhQOCrFBb8/UqHutv+9Wa3o2yfHX0fSZIkSZLU9RINXABijOe3cn5pCGF/4FTg7RR2LGoAHgN+G2NMcv2WQVs9byhRt/Vrg1qt2kZxB6TLKPz3+48Y4/qOtSdJkiRJkvqyxAOXUmKMWeCq4qM3+xpwAPDXGOP1SVwwxnhQWzXFWTBTk3g/SZIkSZLUdZJew6Wn2LTV87oSdVu/tqnVqq2EEKYA3wI2A5/ueGuSJEmSJKmvK+sMlzJattXzccBTrdSNa2VMKb8EqoDvAOtCCAO3eX3Lf9Ow1WvNMcZMO68vSZIkSZJ6uS4NXEIIe1LYhehNFBalHUhhZsgyCmu3/CHG+FwXvPV8IE9hBs9+tLI1dPE1gOUxxvYumDuxePxB8dGaCbw2a+Yc4OftvL4kSZIkSerluiRwCSGMpzAT5N0lyt4P/CCE8BfgszHGJUm9f4yxIYTwIHA4cCzw4+30GIB3Fn+8I6n3liRJkiRJSnwNlxDCQcA/KYQtoR2P9wBPFrdZTtIVxeNRIYSDt/P6h4Ddi8+vbO9FY4y7xRhDa4+t3vflrc47u0WSJEmSpH4k0cAlhDAM+CswnEKY8hLwVWAaMBSoLB6nAV8BFhXrdgJuDiEMTbCdK4Cni9e/MYQwvdhjKoTwIeCSYt2tMca7t/l3nBdCiMXHbgn2JEmSJEmS+oGkZ7h8CRgFROAaYHKM8ScxxidijBtjjLni8YkY40+BycU6iuO+lFQjxS2oT6AQ+owD7goh1AP1wPXAYOBJYEZS7ylJkiRJkgTJBy7vLR7nIgcq6AAAIABJREFUAWfGGJtLFccYW4CPAnMpzER5X5LNxBhfAt4InA88QyEIygCzgS8Db4kxrkvyPSVJkiRJkkKMMbmLhbAZqAX+M8b4kw6M+zJwIdAQY9x2m2UVhRBmT506ders2bO7uxVJkiRJkvqL0JlBSc9w2TKj5eUOjttSX3JGjCRJkiRJUm+QdODyYvE4uoPjRm0zXpIkSZIkqddKOnC5gcJUm1M6OO5UCuurXJ9wP5IkSZIkSWWXdODyC2AB8JYQwgXtGRBC+D5wCIWFdn+RcD+SJEmSJElll2jgEmNsAI4FHgf+M4TwtxDC+0IIQ7euCyEMKZ5/APga8ChwfIyxMcl+JEmSJEmSukNFZwaFENpaa6WSwq1FhxYfhBDWAg1AHTB8m/pxwP0hhBhjnNSZniRJkiRJknqKTgUuwG4U1lxpbWukWHywVc1Oxce2dQBji3XJ7VEtSZIkSZLUTTobuCzGcESSJEmSJGm7OhW4xBh3S7gPSZIkSZKkPiPpXYokSZIkSZL6PQMXSZIkSZKkhBm4SJIkSZIkJayzi+a2SwhhMHAMcDAwBhgEbAKWAY8Ct8cYN3VlD5IkSZIkSeXWJYFLCKEK+C7wSWBgidLNIYRfAd+JMTZ3RS+SJEmSJEnllvgtRSGEYcAjwJcpzGgJJR6DgK8ADxfHSZIkSZIk9XpdMcPlRmD/4vMG4DrgDuBZYDOFGS97UrjV6FRgQLH+98D0LuhHkiRJkiSprBINXEIIJwJHAhGYDXwwxrh4O6VzgN+HEL5LIWh5E3BkCOG9McY/JdmTJEmSJElSuSV9S9GpxeMK4JhWwpZ/iTG+AhxbrAeYkXA/kiRJkiRJZZd04HIwhdktl8UY17dnQIxxHfD/KKzpcnDC/UiSJEmSJJVd0oHLyOLx6Q6Oe6Z43DnBXiRJkiRJkrpF0oFLS/FY28FxW+pbSlZJkiRJkiT1AkkHLq8Uj0d1cNzR24yXJEmSJEnqtZIOXO6msBbLqSGEw9ozIIRwKIXFdmNxvCRJkiRJUq+WdODyayAHpIFbQwgzQwjb3Xo6hJAOIZwF3FKszxXHS5IkSZIk9WrbDUM6K8a4IIRwAfAtYADwK+B7IYT7gGeB+uL5PYEjgREUZsRE4IIY44Ik+5EkSZIkSeoOiQYuADHG74QQqoCvUghTRgAfaKU8AHngRzHG85LuRZIkSZIkqTskfUsRADHGrwNvBf4INFMIVrZ9tAA3AYfFGM/tij4kSZIkSZK6Q+IzXLaIMT4MvL8422V/YAwwCNgEvArMiTG6DbQkSZIkSepzEg1cQgjfLj59IcZ4DUAxVHksyfeRJEmSJEnqyZKe4XIehQVwv57wdSVJkiRJknqNpNdwWV88Lkr4upIkSZIkSb1G0oHLK8Xj4ISvK0mSJEmS1GskHbj8lcIOREcnfF1JkiRJkqReI+nA5ZcUbis6KYRwWMLXliRJkiRJ6hUSDVxijMuAU4AG4JYQwmdCCLVJvockSZIkSVJPl/S20JcVnz4FHAb8D/DDEMKTwFKgsY1LxBjjWUn2JEmSJEmSVG5Jbwt9JoVtodnqOIBC+NJeBi6SJEmSJKlXSzpwgcKiue05tz2x7RJJkiRJkqSeLenAZWLC15MkSZIkSep1Eg1cYowvJ3k9SZIkSZKk3ijpbaElSZIkSZL6PQMXSZIkSZKkhHXFormvE0IYCbwJGAsMBDYDy4DHYowru/r9JUmSJEmSyq3LApcQwvuALwNvKVHzMPCTGOMfu6oPSZIkSZKkckv8lqIQQlUI4Xrg9xTCllDicQhwYwhhVgihKuleJEmSJEmSukNXzHC5ETieQqACMA+4B3geqAcGAHsARwH7Fms+CNQCJ3RBP5IkSZIkSWWVaOASQjgFeBcQKazTclaM8fYS9ccAlwLjgHeFEE6OMc5KsidJkiRJkqRyS/qWorOKx3rgbaXCFoAY4x3AkRQW0gX4eML9SJIkSZIklV3Sgcv+FGa3XBpjfKE9A4p1l1K4BemAhPuRJEmSJEkqu6QDl4HF42MdHLelvi7BXiRJkiRJkrpF0oHLsuIx3cFxW+qXlaySJEmSJEnqBZIOXO4pHg/v4LjDKdyKdE9bhZIkSZIkST1d0oHL/wAtwOkhhDe1Z0AIYRpwBtBcHC9JkiRJktSrJRq4xBifAc6msADunSGEj4cQtrv1dAghHUI4C7iTwuyWj8cY5ybZjyRJkiRJUnfYbhjSWSGEbxef3gkcD/wG+GEI4W/A80ADhYVx9wDeCgwv1t8C7LHV+H8TYzw/yV4lSZIkSZK6SogxJnexEPIUZqu87vR2zpU6v10xxo4uxNvnhBBmT506ders2bO7uxVJkiRJkvqL0JlBic5wKdpeI601196mk0uFJEmSJEmSuljSgctRCV9PkiRJkiSp10k0cIkx3p/k9SRJkiRJknqjpLeFliRJkiRJ6vcMXCRJkiRJkhJm4CJJkiRJkpQwAxdJkiRJkqSEGbhIkiRJkiQlzMBFkiRJkiQpYQYukiRJkiRJCTNwkSRJkiRJSpiBiyRJkiRJUsIMXCRJkiRJkhJm4CJJkiRJkpQwAxdJkiRJkqSEGbhIkiRJkiQlzMBFkiRJkiQpYQYukiRJkiRJCTNwkSRJkiRJSpiBiyRJkiRJUsIMXCRJkiRJkhJm4CJJkiRJkpQwAxdJkiRJkqSEGbhIkiRJkiQlzMBFkiRJkiQpYRXd3YAkSVKvlK2HppWvPZpXvfY839K+a1TUQvXOUDMSqkcWjjUjC+cqaru2f0mS1KUMXCRJ0nZNu3had7eQqMdnPt6xAdlG2DgfNswtPuZD0/LXQpVcQ9c0ukXFoNfCl7qxMHgKDN0PhuwLg/Zi2qWHdu37l1mH//eRJKmHM3CRJEn9W64ZNi7cKlh5BtbPhfoXIea7r6/sJti8CTa/AGsAbnrttVDBrNoKXszX8mK+hhfytbyQr2VJrCZH6K6OJUnSVgxcJElS/5LZDKsehJX3wYr7YO3jELPd3VXHxCyT0lkmpZted7o5Bp7ODWB2bhCP5wbxTH4AGZfskySpWxi4SJKkPq2GHPun62HOubDiXljzWO8LWNqpOkSmVWxmWsVmPsGrNMXA07mBPJ4bxOzcQOYawEiSVDYGLpIkqU8JRN6Qquewig0clN7EvqkGKkOEuRd0d2tlVxMib6rYxJsqNgHQFANzcgN5IjeIB3JDeC5fC96CJElSlzBwkSRJvV4gsn9qM9Mr1nN0xTpGpTJleNOKrXYV2naHoQFA4LnnP7fdoXvu8b9ALKzT8rqdjrba8agL1o+pCZGDKzZxcMUmPsUyFueruSs7jLuzw1ho+CJJUqIMXCRJUq+UInJAajNvr1jHURXr2bkrQpbasYVdgYbsB0P3hUF7Qs2oQrBSORRC6YBi6autBC57f7b0+8Y8tKwrBjHLC4v6rn/mtUV9m1d39l/0OhNSzXysajkfq1rOknwVdxfDl3n5OgxfJEnaMQYukiSp10gTOTC9iekV6zkqvY4RqYTWYqneCYa+8bVwZci+hYClalgy1++okCr0VL0TDJkMo456/etNK/nENYezR6qR3VONTEo1skeqkYGh87NixqdaOKNqBWdUrWBZMXy5KzuMuYYvkiR1ioGLJEnq8UaFFk6sXM17K1YzMomZLDUjYeSRMOrIwnHwPm3OVulRakYyOzeI2blB/zqVIrJnqpGD0puYlt7EgenNDAq5Tl1+bKqFj1St4CNVK3g5X80fMiP4S2YEG/zoKElSu/lbU5Ik9UgpIoemN/D+ytUclt5AegfykHWxgmETTizMFBl1JAye3LsClnbIE1iYr2Nhvo5rM6P+FcBMS2/ioPQmpqY3dWoGzK6pZr5QvZRPVy3jnuxQbszszJP5gTjrRZKk0gxcJElSjzIitPDeijWcWLmaMamWTl0jH2FOfiD3Zofyj9xgXszX8PjhNyTcac+2dQBzTTGA2SvVwKHpjRxdsY590o0dul5ViBxbuY5jK9fxYr6GmzIjuDmzE5v8OClJ0nb5G1KSJHW7QOTg9EbeX7maI9LrqejE5Il8hCfzA7k7O4x7skNZHauSb7QXyxNYkB/AgvwALsuMYXxoYnrFeqZXrGNKuqFD19o91cSXq5fw2aql3JUdxo2ZnXk6X9iZSZIkFRi4SJKkblNJnndVrOH0qhVMSDV3eHwuwhO5QdydHcq9uWGsiZVd0GXftCTWcEVmNFdkRjM2NDO9Yh3TK9axXwfCl5oQeXflWt5duZYFuVouz4zmnuww8gYvkiQZuEiSpPKrI8f7Klfz4coVndrO+cncQG7NDOe+3FDWGrLssGWxmqsyo7kqM5rRoZnpFes5vmINe3fgtqN90o38ML2Il/PLuLJlNLdkh5Mh1YVdS5LUsxm4SJKkshlClpOrVnJy5UqGdHAHnY0xzc2ZnbgpM4JFsbaLOtTyWM01mVFckxnJvqkGPlC5imMq1lITYrvG75pq5ls1LzMzv4xrM6O4KTOCRtJd3LUkST2PgYskSepyI0MLH65cwfsqV1PbwZ1ynsoN4KbMCO7MDqfZGRNlFJibH8Dc5gH8rHk876pcy/srVjEp3dSu0aNSGc6pXsJHq17l+sxIZrWMdFtpSVK/4m89SZLUZSaEJs6oWs7xFWupbOcMCYDNMcWt2cJslufydV3YodpjMxXMyoxkVmZn9k/V84HKVUyvWEd1O/43HRpyzKx6lQ9XruAPmRFcnRnFKhc0liT1AwYukiQpcaNCCzOrlvHuijWkO7B+6gu5Gq7NjOKO7DBvQ+mRAnPyA5nTPJCfNu/CuyvXcFLlSsa1Y/vuupBnRtVKPli5iuszI7m8ZbQzXiRJfZq/5SRJUmIGk+XMquWcXLmyXbMftpiTG8DlLaP5e24I0R1ueoUNVHBNZhS/y4zknRVrOaNyebtuN6oOkY9UreDEytVc0TKK6zKjvFVMktQnGbhIkqQdVk2eUypXcmbVcgZ1YDHch7KDubxlNE/kB4JBS6+UI3BLdiduzQ7n8PQGzqxazhvT9W2OGxRyfLZ6GSdXruKSljGQz0DKHackSX2HgYskSeq0NJETKlZzdtWrjGzn9s75CHdnh3F5ZjQLXZ+lz4gEHsgN5YHGIRyU3syZlcs5pGJjm+N2TmX4Rs1iuHk/2P/7sMsHIBi+SZJ6PwMXSZLUCZGj0+v5TPVSdk01t2tEJgZuzg7nypbRLI41Xdzfv5t28bSyv+dP9tr++e7opXwCs3ODmJ0bxD6pes6sWs7R6fWk2spQNj0Lf/8QDH8THPBDGH10WbqVJKmrGLhIkqQO2S+1mS9Xv8J+6YZ21Wcj/DE7gstaxrDS3Wn6lQX5AXytaRK7hiY+UbWMYyrXtT1o7WNwz3QY806Y+t8wZHLXNypJUhcwcJEkSe0yPGT4bNVSTqhc0+4xd2SG8auWsbzSDTNa1HO8HGv4RvPuXJmp53NVSzm4YlPbg169HW55I+z9eXjDt6FycNc3KklSggxcJElSSWkiJ1euZGbVMgaGfLvGPJIdxC9axjE/P6CLu1NvsiA/gM807cWb0xv5bNVSprQ1SypmYcFP4aVr4MALYbcPu76LJKnXMHCRJEmtmpbeyFeqXmnXdr8A83N1/KJlHI/knI2g1j2aG8wZjYOYXrGOT1ctY0Jb6wA1LYeHT2fO3z/Fhc0TesViy4/PfLy7W5AkdTMDF0mS9O/qF/OD6hd5R3vW3AAW56v5VctY7soOI7q9s9ohErgrO5x7s8M4sWI1Z1ctY0QqW3LM/ul6rqqdz03ZEfyqeRwb/CgrSerBUt3dgCRJ6kFyTfDM9+Gv+7QrbFkXK/hh0y58qGFf7swON2xRh+UI3JjdmRMb9uNXzWNpiKU/nqYCfLByNTcOeIYPVKwiRSxTp5IkdYxfC0iSlJDevtXvwemNfK16Mbu0Y5vnXITfZ3bm1y1j2eTHCSWgiTSXZsbwl+xOfL5qCe9sI/AbGnJ8vWYx78ut4vvNu7pekCSpx/ETkiRJ/dwQspxT/QrvrlzbrvoncgP5cfMuPNcL1tFQ77MyVnFu8+7cmNnEV6sXs0cb6wftk27k8toFXJsZxW9axtBEukydSpJUmrcUSZLUb0XeWbGWG+rmtitsWZmv5Nymicxs3MuwRV3uifwgZjRO4cfNu7Aplg5R0gE+UrWC39XN4+D0xjJ1KElSac5wkSSpHxoVWvh69cu8taLtP04zMXBtZiSXtoyhwdkDKqMcgVmZkdyRHcZnqpZyYuWakvXjUy38svY5/pLZiZ83j3dRXUlSt3KGiyRJ/UiKyMmVK7mhbm67wpaHsoM5pWEK/9sy3rBF3WZdrOR7zbtxRsM+zM21PbvqPZVruKFuLsdUrAUX1ZUkdRNjf0mS+olJqUa+Wf0yb0jXt1m7PF/Jj5sncH9uCLjzkHqIufkBnNm4DydUrOE/qpcwJORarR2eynJBzSKOy67lh80TWBGrytipJEnOcJEkqc+rJM8nqpZxde38NsOWfIRZLTtzcsO+3J8bimGLeppI4E/ZEZzUsC93ZIa1WX94xQaur5vLyZUrCc52kSSVkYGLJEl92F6pBq6qnc/ZVa9SGUr/sflivoaPN+7Nj1smUO/tQ+rh1sRKvtG8O+c0TmJ5vrJk7YCQ5yvVr/Dr2mcZG9re9lySpCQYuEiS1AeliZxV+SpX1s5vc1vdTAz8pnkMMxom81R+YJk6lJLxt9xQTm7Yl+tbdibfxgSWg9Kbua5uHidWrMK1XSRJXc3ARZKkPmbX0MRltQv4VPUyKtq4I2hObgCnNUzmksxYMn4sUC9VT5oLWyZwduPevJivKVk7IOT5Zs1iLqp5nhGhpUwdSpL6Iz9ZSZLURwQip1au4Jq6eeybbihZWx9T/LBpFz7euDeLYm2ZOpS61pz8QGY0TObiljFkYum08bCKjcyqm8c73clIktRFDFwkSeoDxoZmfl37LF+qXkJNG2u1PJAdwkkN+/L77Eiii+Kqj8mQ4uKWscxonMyc3ICStUNCju/XLOJHNS8ylEyZOpQk9RcGLpIk9WqREytWcV3dPA5Kby5ZuTmm+E7TbnyxaZJb5KrPezFfy9mNe3NR8zha2pjtMr1iPbPq5vG29PoydSdJ6g8MXCRJ6qV2Chkuqnmeb9YsZkDIl6x9JDuIkxv25ebsTrjVs/qLPIGrMqP5cONk5ufqStbulMry09oX+E71SwwgV54GJUl9Wp8PXEIIg0II54UQng4hbA4hbAghPBZC+FIIoVNf74UQxoUQPh1CuCGE8HwIobH4WBRCuC6EcHTS/w5JkrZ2RHo9s+rmcljFxpJ1jcW1Wj7btKezWtRvvZiv5czGfbi4ZQzZNpZreU/lGq6tm8cbU6VnjEmS1JaK7m6gK4UQdgXuA3YrnmoAqoFpxceMEML0GOO6DlxzF+BlXv/1YEPx592Kj1NCCJcBM2OMfkUiSUpMNXnOqX6FD1aubrP2n7kBnNe0G0ti6V1bpP4gR+DilrH8LTuE/6p5id1TrW+XPi7VwiW1C7k0M4ZLW8aQc1aYJKkT+uwMlxBCBfAXCgHIq8A7YowDgDrgFGATcCBwdQcvnaYQrtwNnAGMK153ILAv8Kdi3ceA83boHyFJ0lb2SjVwVd38NsOWlhi4qHkcMxv3NmyRtjE/P4APN0zmqpZR5EvMdkkHmFn1KhfXLmRMaC5fg5KkPqPPBi4UwpA3FJ9/IMZ4F0CMMR9jnAV8ovja8SGE6R247jrgoBjj22OMV8YYl2113XnA+4DbirVfCCH4SVeStEMCkRmVK7i8dkHJb+UBFuRq+UjjZK7KjCbvt/LSdrWQ4qKW8cxs3Isl+dK32u2frue6f20fLUlS+/X1wAXg3hjjw9t5/XfAouLz09t70RjjhhjjEyVej8BlxR8HApPbe21Jkra1U8jwPzXPc071EqpKbPeci3BJyxjOaJzMC/naMnYo9V7/zA/i1IYp3JgZUbJuYMjz/ZpFnF+9yAV1JUnt1icDlxBCHXBY8cdbt1dTDEa2zEQ5JuEWtv76MZ3wtSVJ/cQR6fX8rm4eh7SxMO7SfBVnN+7Nb1rGutaE1EGNpPlB8658qXES62Ppj23HV67lGhfUlSS1U19dNHcyr4VJz5So2/La6BDC8BhjUnNFjyweW4Bn2zMghDC7HWX7dLYhSVLvUU2eL1Qv4UOVq9qsvSUznB81T6DefF/aIffnhjK3YQr/Vf0SB1dsarVufKqFi2sXcmnLGC7LuKCuJKl1fXKGCzB2q+dLS9Rt/drYVqs6IIQwEfhk8cdZMcbSX0tKkrSViaGRK2vntxm2bI4pvtW0G99unmjYIiVkdazis0178t/N48nE1oOUigCfqH6VX9U+y8jQUsYOJUm9SV+d4TJoq+cNJeq2fm1Qq1XtFEKoBW6gsBPSauBr7R0bYzyoHdefDUztdIOSpB4sckLFGr5avZiaEmu1AMzJDeDbTRNZGqvL1JvUf0QC12RG8XhuEN+rWcTEEgtVT01v5tq6eXynaSIP5oaUsUtJUm/QV2e4lF1xG+prgYOADDBjyw5GkiSVUkeO71a/xLdrXi4ZtuQiXNwyhpmNexu2SF1sYb6ODzdMbnNB3aEhx0W1z/OFqleoIF+m7iRJvUFfDVy2vvG2rkTd1q+1frNuG0IIaeAa4EQgC5wWY7yjs9eTJPUfe6cauLpuPsdVll5GbFm+ipmNe3OxC+NKZdNMqt0L6n64aiWX1i5kXGguU3eSpJ6urwYuW88sGVeibuvXOjUbpRi2XA2cBOSAD8cYf9+Za0mS+pPIyZUr+W3tAiakSv+BdntmGKc1TGZOfmCZepO0tftzQzmlYQqPZEvfgb5vuoFr6uYxPb2uTJ1Jknqyvhq4zId/zencr0TdlteWd2aHoq1mtpzCa2HLrI5eR5LUvwwiy49rXuQr1a9QVeIWoqYYOL9pV85tnsjmPrvsmtQ7rI5VfK5pT/6veSy5EsssDQx5flT7Ijz2aci1vv6LJKnv65OBS4yxAXiw+OOx26sJIQTgncUfO3z7TzFsuRY4mdfClt91vFtJUn/yhtRmrqmbz1EV60vWvZCr4fTGyfw5OwK8hUjqEfIELssU1lFanq8sXfzcr+D2g2HDgvI0J0nqcfpk4FJ0RfF4VAjh4O28/iFg9+LzKzty4a1mtpxEYc2WGYYtkqRSApGPVC7nktqFjE2V3kb2pswITm+czIv52jJ1J6kj5uQHMqNhCg9k29iZaP1TcPs0WHRVeRqTJPUofT1weZrC14I3hhCmA4QQUiGEDwGXFOtujTHevfXAEMJ5IYRYfOy2zWtb1mw5mdcWyPU2IklSqwaT5ac1L/D56qVUlJisUh9TnNs0kQuad6W5T/+Klnq/DVTwxaZJ/LR5PJlY4v+ws/Xw8OnwyEzINpavQUlSt+uzn+ZijFngBOAlCovj3hVCqAfqgeuBwcCTwIwOXvowCmu2AETgf0MIy0s8Tk7i3yNJ6p32TdVzdd18jqjYULJufq6OGQ2TuT07vEydSdpxgesyozircW+W5KtKl75wCdxxCGx8rjytSZK6XZ8NXABijC8BbwTOB56hEJBkgNnAl4G3xBg7uoz81v/NKoFRbTycDy5J/VJhF6L/145biK5rGcnHGvdmSawpU2+SkjQvP4AZDVO4IzOsdOH6OXDbQbD4hvI0JknqVn1+y4MY4ybgO8VHe8ecB5zXymv34eqFkqQSBpDjWzUv8fY2FsbdENOc37Qb9+eGlqkzSV2lnjTfaJ7I47lBfLH6FWpa24Esuwn+fhLs9Vk48CeQri5vo5KksunTM1wkSSq3vVINXFU3v82w5encAGY0TDZskfqUwE3ZnTmzcR8YtFfp0md/AXceDptfKktnkqTyM3CRJCkJMXJixSp+W7uACanmkqXXtozk7Ma9WB79Zlvqi57P18Gxj8GENpbyW/sY3HogLPlzeRqTJJWVgYskSTsqsxkePp1v1iymurXbCIDNMcVXGnfnZy27kPVXsNS3VQ6Gw66Dab+EVIkFdTPr4YH3wpNfhXymfP1Jkrqcn/YkSdoRG+bDHQfDS1eXLFuQq2VGwxTuzbWxqKakviME2OvTcMxDMGBi6dr5P4a7j4aGZeXpTZLU5QxcJEnqrJd+B7e/CTbMK1l2Q2ZnPta4D0u9hUjqn4YfBMc9AeNPLF236u9w24Gw4t7y9CVJ6lIGLpIkdVSuGR7/HDx0KmTrWy1riCnObZrIj5on0OKvXKl/qxoKh98EU38GocRGoU0r4Z63w9wLIObL158kKXF++pMkqSPqF8NdRxR2GCnh+VwNH2mYzO3Z4WVqTFKPFwLscw68/QGoG996XczDnHPh/hOgeW35+pMkJcrARZKk9lp2W2FHkTWPliz7c2YnzmiczMuxpkyNSepVdj4Ejn0SxhxXum7ZzXDbQbDm8fL0JUlKlIGLJEltyefgqe/AfcdDS+vfNjfFwPlNu3J+8240+ytWUik1I+DIv8IbvwuE1uvqX4I7D4Pnfg2x9V3QJEk9j58GJUkqpWkV3HccPHM+UOKPnYGT+FjjPvw5O6JsrUnq5UIK9vsmHH0HVO/cel2+BR77FDx8esl1oyRJPYuBiyRJrVn1MNw2FZbfWbpu/Ilw7OM8m68rT1+S+pbRb4fjnoQRh5aue+lquP1g2LCgPH1JknaIgYskSduKERb+T2Fx3IYlrdeFNBz448LOI1VDy9efpL6nbhy8/T7Y54ul6zbMLWxHv/iGsrQlSeo8AxdJkraW2QQPngKzPw8x23pdzWiYfg9M/nJh5xFJ2lGpSpj6U3jr76FiUOt12c3w95Ng9jmQz5SvP0lShxi4SJK0xfq5cPubYfH1petGHlmY/j/yiLK0JamfmfABOPZxGPqG0nULfw53HVl6Jp4kqdsYuEiSBPDStYWwZWMbayNM+TocfSfUji5PX5L6p8F7wTH/gIlnlK6mpaTOAAAgAElEQVRb/RDcOhWW312eviRJ7WbgIknq33LN8Nhn4aEZkGtova5yKBzxZzjgAkhVlK8/Sf1XRR285bfw5ksgVd16XfMquPcYeOb7EPPl60+SVJKBiySp/6pfXFgY97lflq4bdiAcNxvGv6c8fUnSFiHAHh+HYx6CAbu1Xhfz8NQ34f4ToHlt2dqTJLXOwEWS1D8tu72w5fOaR0uWXXzP2YU/dAbuXqbGJGk7hk+F457gL0+8u3TdspvhtoNg7ezy9CVJapWBiySpf8nn4On/gvuOg+Y1rZY1ttRw5m9+yycuvRjSNWVsUJJaUTWM9/7sT3x91gXk8iU+xte/BHccCs9fXNjmXpLULQxcJEn9R9MquO94ePo8oPU/Qp5fPom3fOcfXPHAmeXqTJLaJcYUP/zz13nHD+5k5YadWy/Mt8Cjn4CHz4BsffkalCT9i4GLJKl/WPUQ3HogLL+jZNkfHjuRad96nKcW71+mxiSp4+6ddzQHnvskDz57aOnCl66C2w+GDW3swCZJSpyBiySpb4sRFvwc7nobNC5tvS6k+cq1F/L+n9/Ehoah5etPkjpp2bpxHPm9+/jZLeeULtwwF25/E7w8qzyNSZIAAxdJUl+W2Qh//xA8cQ7EbOt1NaPh6Lv5yc1fAULZ2pOkHZXNVfKla34Gb70eKgaWKNwMD54Cj38Ocs3la1CS+jEDF0lS37TuKbhtGrxyY+m6kUfAcU/AqLeVpy9J6goTPgTHPg5D9itd9+wv4K4joP7l8vQlSf2YgYskqe958XK442DY9Fzpuilfg6PvhtoxZWlLkrrU4L3hnY/AxNNL1615FG6dCstuK09fktRPGbhIkvqObCM88nH4x0ch19R6XeVQOOLPcMAPIFVRvv4kqatV1MFbLoc3Xwyp6tbrWtYWdm2b8y3I58rWniT1JwYukqS+YeNzcMch8MKlpeuGTS3cQjT+PeXpS5LKLQTY42w45iEYMLFEYYS534N7j4HGFWVrT5L6CwMXSVLv9/L1cNtBsH5O6bo9PgnHPAgDS/0BIkl9xPAtAfN7S9etuAduPQBW3FeWtiSpvzBwkST1XrlmeOwz8ODJkN3Uel26Dg65Ct78K0jXlK8/SepuVUPh8D/AARdCSLde17Qc7pkOz3wPYr58/UlSH+aN65Kk3mnzi/C3D8G6J0rXDd4b3nojDN23PH1JEjDt4mlddOXHO/1+B6Qm8YOaReycymy/IObhqW/x8BM/5ltNu7Geyte/88ztv7ckafuc4SJJ6n1e+UNhh422wpYJJ8M7HzNskSTgn/lBzGiczGPZQSXrDqnYyDV189k/tblMnUlS32TgIknqPXItMPsL8Lf3Q2ZD63WpKpj2SzjsOqgs/YeFJPUna2Mln2nak0taxpCPrdeNSmX4Te1CzqhcTqBEoSSpVQYukqTeof5luOtwWHhR6bqBuxd25tjr04WdOiRJr5Mn8JuWsXyuaU/WxdZXGKgI8Lnqpfys5gWGkC1jh5LUNxi4SJJ6viV/gVsPhDWPlq4b/z44djYMP6g8fUlSL/ZIbjCnNUzmydzAknWHV2zgmrp5sOrhMnUmSX2DgYskqefKtcDsc+CBE6BlXet1qUqY+nM4/MbCjhySpHZZFav4ZONeXN4yqmTd6FSmMMtw3oXuYiRJ7WTgIknqmTa9AHceCgt/XrpuwK7w9r/DPp/3FiJJ6oQcgV+0jOfzjXuwPpbYOjrm4J//CfcdD00ry9egJPVSbgstSeoWpbYwPaZiLd+ofpmBofS3qA9kh3DeiqFsvOnTCXXV+e1WJam3ezA3hBkNU7ig5kX2T9e3Xvjq7XDL/nDoNTD66PI1KEm9jDNcJEk9RjV5vlH9MhfULCoZtmQj/HfzeL7YNImNfncgSYlZEauY2bg3V7VxixFNy+Get8NT34a8C+pK0vYYuEiSeoSJoZEra+fz/srVJeuW5yuZ2bg312RGAd5CJElJyxG4qGU8X2qcxIZStxgR4Znvwt1HQ8OSsvUnSb2FgYskqZtF3luxmqvq5jMp3VSy8v7sEE5rmMJT+dI7akiSdtz9uaGc1jCFObkBpQtX/Q1uPQCW/rU8jUlSL2HgIknqNgPI8b3qRXyr5mVqQmy1riUGfty8C1/yFiJJKqsttxhd1jKakrMKm9fA/e+BJ75U2GFOkmTgIknqHvum6rm6bj7HVpbY7hlYnK/mo437MCszEm8hkqTyyxH4v5ZxcNRtUDOydPGCnxV2mNv4bHmak6QezMBFklRe+RzMvYBLaxewS6q5ZOmtmeF8pGEyC/N1ZWpOktSqMcfAcXNg1PTSdWtnw60HwguXQWx99qIk9XUGLpKk8ql/Be6ZDnPOpaLEZJWmGDi/aVe+1bwb9ZRasFGSVFa1o+Go22H/70Mo8f+fcw3wyFnw95OgpfRMRknqqwxcJEnlsfj3cOv+sPL+kmXP52r4SMNk/pwdgbcQSVIPlErDvt+A6fdB3fjSta/8Hm7ZH1Y+UJbWJKknMXCRJHWtzGZ45OPw9w+1+S3nTZkRnNE4mUWxtkzNSZI6beRb4bh/wrgTStc1vAJ3HQlzzoV8piytSVJPYOAiSeo6a2fDbVPhhUtLlm2Iab7auDsXNO9Ks7+aJKn3qN4JjvgjTPsFpGtKFEaYewHc+VbY9ELZ2pOk7uSnWklS8mIe5l0IdxwCm54rWTo7N5DTGqZwT25YmZqTJCUqBNjrM/DOx2DIfqVr1zwKtx4AL17pgrqS+jwDF0lSsuoXwz3vgH/+Z8mp49kIv2wey6ca92JFrCpjg5KkLjF0Pzj2MdjrP0rXZTfDP86AB0+F5rXl6U2SuoGBiyQpGTHCoqvgljfAintK1w6cxFmN+/DbzBjyLowrSX1HugamXQRvuxlqRpauXTyr8Dtj2e3l6U2SyszARZK045pWFxbFffh0yGwsXTvxDDjuSebmB5SnN0lS+Y07Ho57CsYcW7qucRncdyw89hnI1penN0kqEwMXSdKOWXoz3LIfvHJj6brKIXDodXDI5VA5qCytSZK6Ue0oOPJmmPpzSLVx6+hz/we3Hgir/1Ge3iSpDCq6uwFJUi+V2QxPfBFeuKTt2p0Pg0OvgQG7dn1fkqQuMe3iaZ0eu2dqEt+rXsSkdFPrRZueI3f7Ifw2M5r/1zKGbBd/N/z4zMe79PqS5AwXSVLHrXoQbt2/7bAlVMAbvwfT7zNskaR+7Ll8Hac3Tua6ltLruqQDfLxqOb+tXcjE0Fim7iSpaxi4SJLaL9cM//w63HUEbH6xdO2QKfDOR2G/cyHlhEpJ6u+aSfHTll34dOOeLM9XlqydnG7g6rr5nFa5goDbR0vqnQxcJEnts3Y23P5mmPdDiPkShQH2+SIcOxuGH1i29iRJvcOjucGc0jCFWzLDS9ZVh8gXq5fw69pnGReay9SdJCXHwEWSVFquGeacC7cfDOufKl1bNwGm3wNTf1rYGlSSpO3YTAXfbp7IfzbuzvqYLll7UHozs+rmcoqzXST1MgYukqTWrX4UbpsKcy+AmCtdu/uZcPxTMOrIcnQmSeoD7s4N4+SGfXkwO7hkXU2IfLl6CZfULmRCKLHwriT1IAYukqR/l22EJ78Kdx4CG+aVrq0eAYffBG/5LVQNKU9/kqQ+Y02s5PNNe3BB0wQaY+k/Tw5I13Nt3Tw+XLmclLNdJPVwBi6SpNdb9RDcdiDM/3Eba7UA494Dxz8Du7yvPL1JkvqowE3ZnTm1YTJzcgNKVtaEyBeql3KpOxlJ6uEMXCRJBdkGmP1FuPOtsHFh6drKoYUZLUf8CWpHlac/SVKftyTWMLNxby5qHkdzDCVr35Cu55q6+ZxZ+SppZ7tI6oEMXCRJsPIBuGV/WPjf0NaH1nHvgXfNLazZEkp/GJYkqaNyBK7KjOa0hiltznapCpHPVi/jt7ULmJRytouknsXARZL6s+a18MjH4a63webnS9dWDYdDri7MaqkbW57+JEn91suxhrMb9+ZnzeNpamO2y5R0A9fUzuMzVUuppo3bYSWpTAxcJKk/ihFeuhZungwvXNp2/S7vL8xqmTjDWS2SpLLJE7g2M4pTGqbwRG5gydqKAB+tWs6surkcnN5Ypg4lqXUGLpLU32x6Ae49Fh6aAU0rS9dWj4DDZsFbfw+1o8vTnyRJ21gSa/hE415c2LwLDW3sZDQ+1cIva5/ju9WLGBYyZepQkv6dgYsk9Rf5DMz9IdyyHyy/o+36CSfBu+bBric5q0WS1O0igeszIzmlYQqPZQe1WX9c5Vp+XzeX91asps31ySSpCxi4SFJ/sPofcNtBMOfrkGsqXVszCg6/Ed46C2p2Lk9//7+9O4+Ts6rzPf45Vb0nnc6eEAIk7JssLzLK6CA4KIqAjiiKMgPovXBdxuugjOPo3FHHcXTGfTYHHBdUcBt0FJCdsDmKbFGWhAQIW/Y96b2Wc/94qpMidLqrk6equ6s/79frvJ79qV+Ller69nnOkSSpQqtjM+/vPYzP9R5I5zC9XTpCgf/X8ixXtC7noDDM558kpczARZLqWf82uP8DcMsrYesjw59/6KVw9tJkzBZJksaoSODa/Cze3n0Md+SnDnv+SdlOftj2OJc2rabJQXUl1UjDaBcgSaqCWISV34clH4XedcOf33E0/MEVMPuPql+bJEkpWR+b+GjvIZya3cpfNj/H3Myex2xpDJFLm9bwhobNfKnvgBpWKWmisoeLJNWbzQ/DrafAby4aPmzJNMNxfw9veNiwRZI0bt1VmMrbu4/hmv7ZFIYZruXATB9fa30S7npTMpC8JFWJgYsk1Yu+zXD/++HmRbDxf4Y/f84fwxsfgWM/Admm6tcnSVIVdZPly/0HcHHPkSwrtA5/warr4IZj4Pd/C/nu6hcoacIxcJGk8a5YgBVXwPWHw4qvJ48TDaV5Bpx8FfzxbTDlsNrUKElSjSwtTuKinqP4St98eoYZVJdiHzz6Gbj+KHjuWojOZiQpPQYukjSebfg13PxyuP+90Ldp+PMPvhjOWgYHX+hUz5KkulUgcHVuDud1H809+Y7hL+h+Du59Gyw+A7YtrX6BkiYEAxdJGo961sFv3g23vhK2PDT8+R3Hwul3wsnfhpaZVS9PkqSxYG1s5rLeQ/jLnoNZXazg8dm1t8Evj4OHLofc9uoXKKmuGbhI0niS74ZHPwvXHQpPf2f48xs74KR/hjMfhjmnVr08SZLGnsDiwjTO6z6GK/v3oy8O08Mz5mHZl+C6w2DFf0AxX5syJdUdp4WWpPEgFvnktw/hfU2rhpzystzPczP416792XLXVXDXVVUuUJKksa2PDFf2z+OG3Awua36e0xq2DX1B73q4/33wxNfgxC/AvLN8HFfSiNjDRZLGunWL4aZFfLrlmYrClscKbVzUfSSf6VvAlthYgwIlSRo/VsVmLu89FE77JbRXMHj89mVw1zlwx2th88PVL1BS3TBwkaSxattSuPMcuP2PYcvwv+BtiQ18pvcgLu45kseKk2pQoCRJ49i8M+GNj8AJn4eGCj43190BN50Ev74Yul+oenmSxj8DF0kaa3rXw/3vh1++DFZfP+zphQg/6p/FuV3H8PP8TCJ2d5YkqSLZZjj6r+DsZXDQ+RVcEGHlVXDd4fC7v4HcjqqXKGn8MnCRpLEi15kMiPuLQ2HF1yEWhr3k1/kpXNBzFF/oP5AdDsslSdLeaZsPr/oBvPZumP4Hw59f6IHHSoPYL/93KPRXv0ZJ446BiySNtnwPLP0y/GIh/P5vID/8X8ueLLTw5z2H8sHew3iy2FaDIiVJmgBmnwKv/w288hqYdNDw5/euhwc+ANcfDk992xmNJL2IgYskjZZCfzLd5HWHwsMfgb6Nw16ysZiM0/KunqP5TaGjBkVKkjTBhAwseGfymNEJ/wiNU4a/putZuO898Mtj4dkfQSxWv05JY56BiyTVWrEAT18F1x+ZTDfZs3r4a7JtXNm/H2/pPpaf52dSdJwWSZKqK9sCR38UznkKDv8ghAoe3d3+BPzqfLjxRHjhFxBj9euUNGYZuEhSrcQiPPeT5K9fv7kYulZWcFGAg98D56zgyv559JCtdpWSJKlcy0xY9M9w1mMw/08qu2br7+HuN8MtfwhrbzN4kSYoAxdJqrZYTP7KddNJcO/bYfuyyq6bewacuQRO/ia0zatujZIkaWhTDodX/wxee1dlA+sCbLoP7ngd3P4aWH93deuTNOY4pYUkVUuxkPRoefwfYOsjlV8364/g+M/C7FdXrzZJkia4RVcu2oerI6dmD+G9Tas5LNsz/Onr74LbTuXhwmS+3T+X/ylMgZQfD37g0gdSvZ+kfWfgIklpK/TDM9+Hxz8PO1ZUft30k+C4v4f9Xg/BMVokSRq7AncVpnJ3TwdnNGzh0qbVHJTpG/aqE7OdnNj6JEsLbXy7fy6LC1OJjssm1S0DF0lKS74HnvpPWPoF6H6+8us6joHjPpM8F27QIknSuBEJ3Jyfzm35aZzVsIlLmtawX6Z/2OuOynbzT61P83Sxhe/0z+Xm/HQKBi9S3TFwkaR9ldsOK74Oy74Mvesrv27yIfCyT8NB50PGwXAlSRqvCgR+kZ/JjfnpvKVxI+9pXMPMTH7Y6w7O9PJ3Lc9waXE13+2fy3X5GeQcZlOqGwYukrS3etbA8n+H5f8Kua2VX9c2H479Wzj4Ysg0Vq08SZJUWzky/Dg3m5/nZvL2xvVc1LSWqaEw7HXzM/18vOU5/ndxDT/IzeZnuZl0+lVNGvd8F0vSSG1ZAsu+As/+AIq5yq+bfDAc/TFYeCFkm6tXnyRJGlV9ZPhebi7X5mbx1sYNXNC4rqIeL7MzOT7UvIpLmtbwi9wMfpCbw6ro7wzSeGXgIkmViEVYdUPy2ND6O0d2bcfRcPTH4aB3QMZ/diVJmii6yfK93Fx+nJvNmxo3cmHjuorGeGkLRc5v2sDbGzdwd6GDa/rn8FBxMmnPbCSpuvzNX5KGku+Cp78DT3xtZDMOQTLr0DGfgPlvhuDz2JIkTVR9ZPhJ6VGhMxs2c3HT2opmNcoEOK1hG6c1bGNZoZWrc3O4NT+NvOO8SOOCgYskDabreVjxb7DiipGNzwIw65QkaNnvDGcdkiRJO+XJcF1+JjfkZ3B6wxbe3biWw7M9FV17ZLaHz2Sf4f8WV/Hj3Cx+mpvFNr/OSWOa71BJGlAswJqb4MkrYPUNyWNEI7Hf65OgZfYp1alPkiTVhSKBW/PTuTU/jVOy23h301qOy3ZVdO2sTI4PNK/mkqY13J6fxrW5mSwpTq5yxZL2hoGLpLq16MpFFZ03I+R4c8NG3tK4saLnqsv1xcCN+en8IDeHp1ZshBWX7U2pkiRpQgrcU5jKPT1TeVmmkwua1vGa7FayFXSQbQqRMxs3c2bjZp4utsAT/wwL/wyaplW/bEkVMXCRNCEFIi/P7uDcxg2cmt1Kwwif/NlUbOAnuVlcm5/FlujUzpIkad88UpzMx3ons1/o4x2N6/mTxo1MDpX1tj040wsPfgiWfCwZpP/Q98KMl/toszTKDFwkTSjTQo6zGzZxbuNGDqhgsLrdrSi0ck1uNjfnp9PvgHWSJClla2IzX+0/gG/0z+Ocxo2c37ie+ZX2wC30JIP9P/0dmHo8HPZeOOid0NRRzZIl7YGBi6S610SRU7LbOKtxE6/MbhtxbxaAe/NTuCY3h98W2nFKRkmSVG1dZPlhbg4/zs3m1OxW3tW0nhOznZXfYOvv4P73wUOXwfw/gYUXwdzXQsavgFKt+G6TVJ9i5LhMJ2c1buJ1DVuYEgojvsX2mOWG3Az+KzeLZ2NLFYqUJEkaWpHA4sI0FvdM4+hMF29r3MAZDZtpCbGyGxR64dkfJq1lLiy4ABZeCNOOq27hkgxcJNWZzmdg5fdg5Xf5VtuTe3WL3xcm8dPcTG7NT6fPx4YkSdIY8XhxEn/XN4kv983nrMbNnNuwgUOyvZXfoHctLPtS0qadkAQvB70LWudUr2hpAjNwkTT+9W6AF34Gz1wN6+/eq1t0xQw35qfz09wslhfbUi5QkiQpPZ008KPcbH6Um8XxmS7e2riBNzZ3QnEEsy1uWZK0h/8S9ntDMtbL/HOgcUr1CpcmGAMXSePTQMjy3E9g3WKII39kCGBZoZVrc7O4OT+dbrIpFylJklRNgd8VJ/O7vsm88R03wcqr4MkrYMeKym8RC7D6hqRlmmHeG+CA8wxfpBQYuEgaP3o3lkKWH+9TyLI9Zrk1P41f5GbyWLENB8GVJEnjXstMOOojcORlye9JT38bnv9pMnNRpYp98MLPkzYQvhz4dtj/HGhsr17tUp0ycJE0tvWuTz70n/sJrLtjr0OWfIT/KXRwQ24G9xQ6nNJZkiTVp5CBuacnLbcDnvsvWPldWH/nyO7zkvDlTDjwPJh3ltNMSxUycJE0tsQIWx+B1dfDC9fBpvuACkfhH8SyQivX52dwc346W2JjenVKkiSNdY3tcMi7k9b1LKz8fvLY0UgeOYJS+PLfSQsNMPvVsP/ZSc+X9kOrU7tUBwxcJI2+Qh+suxNWXZcELV3P7tv9WveDBX/KOx68gaeKramUKEmSNK5NOgiO/QQc8/HkD1pPX5VMFZ3bOrL7xHzS63jdHfDQh2HKkUnwsv85MPMPIeNXTGmA7wZJo6NnDay+KQlZ1t4C+a59u1/zTDjg3KSr6+zTINPAU/ffkUqpkiRJdSMEmHly0k76Kqy5ORkf74VfQH7HyO+3fVnSln4BmqYnjx7tfw7MfR00T0+/fmkcMXCRVBv5Llh3F6y9NWnbHtv3ew4SskiSJKlC2WaY/6akFXpL4ctP9j586d8Mz1ydNAJMPykJXvZ7Hcx8ZfJ60gTitxNJOy26clFq98oQOSrTzcnZ7by8YTvHZbpoDHs/FsuALbGBxfmp3JafxoOd7RQ2PQhLHkyhYkmSpAks2wLz35y0NMIXImx+IGmPfw6yrcnYL3Nfl7SpL0t620h1zMBFUioyRA7N9HBitpOTsjtYlN3BlLB3Mwrtbm2xkXsLHdyRn8aDhXYKTuMsSZJUPYOFL8//DFbfAH0b9+6ehZ7kPmtuTrZb5sDc18LsU2HWKTDlCAMY1R0DF0l7pZEiR2e6OSHbyYnZHRyf7aI9pYAF4LFCG3fnp3JPoYPlxVYwZJEkSaq98vClWEgG3F11XdL25RHx3nVljx8BzbNg9ilJ+DL7FJh6vI+La9zz/8GSKjKJAsdmuzgxu4MTs50ck+miJYVHhAb0xAz3Fdq5Jz+VewsdbHIKZ0mSpLElk4VZr0zaCZ+DzpWw6vokfFl/JxRze3/vvg3w/E+TBtAwORn3ZSCEmfEH0NCWyo8h1YqBi6SXaKDIYZkejs12cUymi2Oy3SzM9Kb+Os8Wm/ltYQr35jt4oNBOH5nUX0OSJElVMnkhHPHBpOW2w5pbYPUvkwkSul/Yt3vnO5OZLNfekmyHLHQcCzNenrSZr4ApRychkDRGGbhIE10swo6nYNNvubzpOY7JdnNEppumFHuvDNgas/w2P4X7ClO4r9DO2uhI9ZIkSXWhcQoc+LakxQjbn9g1O+W6O/dy4N0ysQBbf5e0p76R7GuYlMyENBDCzHg5tB3oWDAaMwxcpIkk3wPbHoUtS2DL72BraZnvBOD8pnRfri8GlhQm89vCFH5TmMLyYivRsVgkSZLqWwjQcWTSjvhg8qjRpt/CmlIAs+m+JEDZV/kuWH930gY0TYdpx8PUE5LltBNgylGQTfkXXakCBi5SPYoRelbD1keTvwJsWZK0HU8kPVqqpDcGHi1M4uFiO0sKk1lSmOxjQpIkSRNdphFmvSppx30K+rclIcmGe2D9PcnU0TGfzmv1b4Z1i5NW/vpTjk7Cl2mlIKbjmGSgXnvDqIoMXKTxLBah61nY9jhsX5osB9Zz26v+8jtidmew8nBhMkuLbeQMWCRJkjSUpg6Yf07SIOmpsvG+XQHMxl9DoTu91yvmdj2OtPKqXfubZyRBTMdRpWVpvXV/gxilwsBFGg/6t8COJ2HHitJyOWxbmgQrhZ6albGq2MRjhUksKSYBy1PFVoo+IiRJkjTqFl25aLRLSE2WI7nv3H9PApgN9yZhTO/a9F+ob1PpNe558f6G9l3hS/thSZt8KLQfCo3t6dehumXgIo0FMSZT4XWuTAKVzvJwZUXSNbLGtsYsjxUm8VhxEo8VJvF4sY0tTtUsSZKkKisQklmIZr4Cjrq89Lj8qmQcmJ3t/p3jEKYuvyMZZ2bTfS891jInCV52hjCHQfshMGkhNE2zZ4xexMBFqoVYhJ61yeM/Xc8MvqxhT5WXyLbBtOO5ZvVTpYCljRdiM9h7RZIkSaMtBGibn7QDzk32FQuwfdmLQ5htj0Kxv7q19K5L2oZfvfRYQztMOggmLUiWkxeUbS+A5pkGMhOMgYu0rwr9yQC1PaugexV0v7BrvXxZ7X/8K9U6D6YeXzZo2Akw+RDIZPlyHXVFlSRJ0vg18kekAlmOZUGml8Mz3Rye6eHwTDdHZLuZGlKYEakS+R1J6LPt0cGPZ1uT8WHa9k/Co4H18mXrfpDxa3q98L+kNJhiAfo2Js+KDqTYPWXrpf2bNy9leialEdVT1hsDzxZbeLrYyvJiK8uLbSwvtrKlsxE2rAduKTVJkiRp/CsQeKrYylPFVm7cuTcyK+Q4PNPDEZluDsv0cHCmhwMzfTSGWOMCe5KhAzqfHOKkkDy21Do3WbYMLMv3lfY3T4fghBVjWd0HLiGEduAjwFuBhUABWA78EPiXGONedzsIIcwBPgqcDRwI9ACPAVcB34wx1vgdrEEV+iG3NRl4tn9LEqS8pG168Xb/5oqmT54+Bv59644ZVpaClZXFlp3ra2KTA9pKkiRpggtsiE1sKDTxq0LHzr1ZIvNDHwdnejg408vCTA8LM70clOmlpdZBzIvE0h93KxgkOGSTmZaaZw7dmngiOHsAAA8wSURBVGYk48s0TYOmqfagqaG6/l86hHAQcCewoLSrG2gGFpXaBSGE02OMW/bi3icBNwMzSrs6gXbgj0rtbSGEN+1LoCOS0CPfCf3bkmmOc9shN9j6tlKgUhasDLQ0p5QbJfkIq2MzzxdLLbbwXLGZp4utrIuNONaKJEmSVLkCgWdjC88WWlhc9sRRhsh+oX9nL5gDMr0cEPo4INPH3NBPZiz92h0L0Ls+aSPR0J4ELztDmFJrnJpM2d04BRoHllNeut0w2bFoKlS3gUsIoQG4jiRsWQNcGGO8LYSQAc4DvgGcCHwfOGuE9+4AricJW5YBfxZjfCCE0ARcAnwFeD3wVeD9qfxAY1WxAMW+pHtcobe07IF8dxJ0DLbMd0OhC3KdSZhS3l6yr2u0f8Ka6Y2BNbGZ1cUmniu28HxZwLImNiejtUuSJEmqmiKBVbGZVYXm5NmIMo0UmRf6OTDTywGZPuaHPg7M9DIv08/c0E/TqPaMGYH8jqR1P7+XNwhJ6NI4OVmWtxftm5S0bBs0tA2xbC21ltKyuW4elarbwAW4CHhZaf2tMcZfA8QYi8CPSsHLNcAbS71cbh/BvS8H5pI8QvTGGOPK0r37gX8LIUwB/gG4NITw1Rjj8nR+JJJwY9tSiHko5qCYh5hL1nffV+gvHetPWvn2wHqhr3S8r7Q+1LI3acVeyPcky2IutR+t3nXFDGuKTayOzawtNrE6NrGm2Mya2MSa2MSW2IA9VSRJkqSxKUdmZ6+Y3cOYQGRGyLFf6N8ZwMwr9YqZl+lnYSPJd6m6EHeFNtWSaSoLYFqSlmlJwphM856XmabSetNurXGQ9UYIjaXthl3roaG0r2y9/ZC9+jHqPXABWDwQtuzmh8BnScZ1uRAYSeBy4cA9BsKW3fwL8HFgMnAB8MkR3HtoWx+DG45O7XZKx+ZiA+tjI+tjExtiI+uLyXLdzu1GOslioCJJkiTVn0hgY2xiY2zikUGGgnzgkvuTcSK7X3jpbKbls5z2b6598WPRQKeB3PbRriTxrr3rvVSXgUsIoQ14VWnzxsHOiTHGEMJNwPuAM0Zw7yNIBsgd6t6dIYR7gDNL904vcFHNbI9ZNscGNsVGNhcb2RQb2Bwbk+2d68nxHPXR5U2SJElSFYRQGuB2Bkw7fs/n5Xt2zZT6ollS15XtL21Xs4eJUlGXgQtwFOz8BryHSdBfdGxuCGF6jLGSOPHYQa7f073PBOyOMsqKEXaQZUfMsj02sC02sHWwxq71bTFL3hBFkiRJUgoWXbkoxbt1AB00U6Qj5Jka8juXU0OeqZStl9rkUGBKKNAeCsPeXemp18BlXtn6qiHOKz82D6gkcBnpvaeEECbHGDuHumkI4cEKXvv4pavhpE9UcGYdKe5sgQJQjIEigSLJ6OK7jgWKMdlX2O34ix/lyZeaJO3upEH3Lv3sshrXoXpxafPg+1f1La1tIaoj/jslaaQCyVf/BiCSIZkWO1u+HpL1DJFsablze7djE3GQhIcuCFfHGC8Y6XX1Gri0l60PNSdw+bH2PZ6Vzr2HDFwqVOjpZ9tDz/BMCvcah+Juy1F3ZGnpbzjSLuP8ffHQoHu7n6txGaobK3at7vbeGOpXCGkodffv1Dj/3JCqwvdFnajXwGXciTEO/ucKjVkDvZL8byft4vtCGpzvDWlwvjekl/J9UT/qdZCK8tGD2oY4r/xYpSMOVfPekiRJkiSpDtRr4LK6bH3/Ic4rP7Z6j2ft2723Dzd+iyRJkiRJqi/1GrgsBQZmPz92iPMGjq2tcIYiePHMRJXc+/EK7ytJkiRJkupEXQYuMcZu4FelzTcMdk4IIQCvL23eMoLbLwcGhiXb070nAafsxb0lSZIkSVIdqMvApeSq0vI1IYRXDHL8PODg0vp3K71pjDGWnX9+CGHBIKd9AJgMFICrK723JEmSJEmqD/UeuDxCMk34tSGE0wFCCJkQwnnAN0rn3RhjvL38whDCp0IIsdQWDHLvLwJrSQbGvSGEcFLpuqYQwvuAz5TOuzLGuDzln0uSJEmSJI1xdTstdIwxH0J4E7AYWADcFkLoJgmZWkqnPQxcsBf33hZCOBu4GTgaeCCEsKN038bSabcAl+3TDyFJkiRJksaleu7hQozxGeA44O9IBruNQA54ELgcODnGuGUv7/0gcAzwFWAFSdDSBdwLXAKcGWPs28cfQZIkSZIkjUMhGZJEkiRJkiRJaanrHi6SJEmSJEmjwcBFkiRJkiQpZQYukiRJkiRJKTNwkSRJkiRJSpmBiyRJkiRJUsoMXCRJkiRJklJm4CJJkiRJkpQyAxdJkiRJkqSUGbhINRBC+FgIIQ600a5HqqUQwowQwrtDCN8PITweQugKIfSFEF4IIfx3COEto12jVC0hhPYQwqdCCI+EEDpDCNtCCPeHED4SQmga7fqkWvLzQBoZv0OMfyFG/7tJ1RRCOAJYArQM7IsxhtGrSKqtEEIOaCjb1QsUgEll+24E3hZj7K5lbVI1hRAOAu4EFpR2dQNZoLm0/TBweoxxS82Lk0aBnwdS5fwOUR/s4SJVUQghA3yL5B/KX49yOdJoaQB+C7wfOCTG2BpjnAwsBL5ZOudM4IpRqk9KXQihAbiOJGxZA7wuxjgJaAPOB3YAJwLfH60apVHg54FUAb9D1A97uEhVFEL4EPBV4GrgSeCTYDqtiSWE8JoY4+Ihjv8H8H9KmwfGGJ+vTWVS9YQQ/hfwn6XNV8YYf73b8XcC15Q2XxtjvL2W9Umjwc8DqTJ+h6gf9nCRqiSEsBD4LLAJuGyUy5FGzVC/XJd8s2x9UTVrkWrootJy8e5hS8kPgZWl9QtrU5I0uvw8kIbnd4j6YuAiVc83SJ5J/nCMccNoFyONYb1l69lRq0JKSQihDXhVafPGwc6JSRfjm0qbZ9SiLmkc8PNA8jtEXTFwkaoghHAJcDpwW4zxu6NdjzTGnVa2/shoFSGl6Ch2/Y716BDnDRybG0KYXt2SpHHhtLJ1Pw804fgdov4YuEgpCyHsD3wB6GHXc8iSBhFCmAr8dWnznhjjE6NZj5SSeWXrq4Y4r/zYvD2eJU0Afh5oovM7RH1qGP4USSN0BdAB/FWM8enRLkYaq0oj8H8P2I+kG/mfj25FUmray9aHmtq2/Fj7Hs+S6pyfBxLgd4i6ZA8XTWghhItDCHEf2ht2u9+fAmcBS4Avj8oPJe2jtN8XQ/gacHZp/QMxxt9X6UeSJI1tfh5oQvM7RP0ycJFSEkKYQzJ9WwG4JMaYH+WSpDErhPBFdv0F87IY47dGsx4pZTvK1tuGOK/82I49niXVMT8PNNH5HaK++UiRJrofANfvw/XbytY/D8wAvg4sCyFM3u3cpoGVsmP9Mcb+fXh9qRrSfF+8RAjhn4CPlDYvjzF+dR9eSxqLVpet7w/s6a/1++/hGmlC8PNAAvwOUdcMXDShxRj7gL6UbrewtHxfqQ1l4C+ZXwP+IqXXl1KR8vviRUIIXwAuL21+NMb4pWq8jjTKlgJFkp7Ex7KHqaFLxwDWxhg316Iwaazw80Daye8QdcxHiiRJNVHqNl7+y/UXRrMeqVpijN3Ar0qbg45pFEIIwOtLm7fUoi5prPDzQNJEYeAipSTGeFqMMeypAZ8uO3dgv8m0JoTSL9fl3cb95Vr17qrS8jUhhFcMcvw84ODS+ndrU5I0+vw8kF7M7xD1zcBFklRVuz2j/2G7jWuCuAp4BAjAtSGE0yGZ/jaEcB7wjdJ5N8YYbx+lGqWa8vNA0kQTYoyjXYM0IYQQPgV8EpJ0enSrkWojhHAg8GxpswhsGOaSL8YYv1jdqqTaCCEsABYDC0q7ukn+2NVS2n4YOD3GuKXWtUm15ueBtHf8DjG+OWiuJKmaMrutzxnm/N1H5pfGrRjjMyGE40jGqjiXZGDEHPAYyWxg/+IsE5pA/DyQNOHYw0WSJEmSJClljuEiSZIkSZKUMgMXSZIkSZKklBm4SJIkSZIkpczARZIkSZIkKWUGLpIkSZIkSSkzcJEkSZIkSUqZgYskSZIkSVLKDFwkSZIkSZJSZuAiSZIkSZKUMgMXSZIkSZKklBm4SJIkSZIkpczARZIkSZIkKWUGLpIkSZIkSSkzcJEkSZIkSUqZgYskSZIkSVLKDFwkSZIkSZJSZuAiSZIkSZKUMgMXSZIkSZKklBm4SJIkpSSEcGoIoRBCiCGE50IIU4c4d2EIYVvp3M4QwhG1rFWSJFWXgYskSVJKYox3AZ8vbR4AXDnYeSGEBuAaYEpp11/EGJ+ofoWSJKlWDFwkSZLS9UngvtL6eSGE9+zhnJNL69fGGP+zJpVJkqSaCTHG0a5BkiSproQQDgaWAO1AF3BijHFF6dgpwGIgCzwPHB9j3DJatUqSpOqwh4skSVLKYoxPAx8obU4CrgkhNJbGdPk+SdhSBP7UsEWSpPpkDxdJkqQqCSFcDbyrtPmPwELg7aXtz8YY/2ZUCpMkSVVn4CJJklQlIYQpJI8WLdzt0G+AU2KM+dpXJUmSasFHiiRJkqokxrgduAAoD1a2AxcYtkiSVN8MXCRJkqrrBZKBcwc8WBrjRZIk1TEDF0mSpCoJIWRIBsntKNv9mhDC+0apJEmSVCMGLpIkSdXz18CrS+u3A9tK618KIRw1OiVJkqRacNBcSZKkKgghvAK4F2gAVgPHAWcA15RO+R3wihhj3+hUKEmSqskeLpIkSSkLIbQDV5OELRG4KMa4Kcb4A+B7pdOOBz4/SiVKkqQqM3CRJElK378Bh5TWvxRjvK3s2AeAgUFzPxRCeH1NK5MkSTXhI0WSJEkpCiG8k12PDT0MnBxj7N/tnPLHjdYCx8UYN9S0UEmSVFX2cJEkSUpJCGEB8PXSZjfwrt3DFoAY433Ap0qbc4Fv1aA8SZJUQwYukiRJKQghZHnxFNAfjjEuG+KSzwF3l9bPDiH8eTXrkyRJteUjRZIkSZIkSSmzh4skSZIkSVLKDFwkSZIkSZJSZuAiSZIkSZKUMgMXSZIkSZKklBm4SJIkSZIkpczARZIkSZIkKWUGLpIkSZIkSSkzcJEkSZIkSUqZgYskSZIkSVLKDFwkSZIkSZJSZuAiSZIkSZKUMgMXSZIkSZKklBm4SJIkSZIkpczARZIkSZIkKWUGLpIkSZIkSSkzcJEkSZIkSUqZgYskSZIkSVLKDFwkSZIkSZJS9v8B3H9pVM4PUfcAAAAASUVORK5CYII=\n"
                },
                "metadata": {
                  "image/png": {
                    "width": 558,
                    "height": 413
                  },
                  "needs_background": "light"
                }
              }
            ]
          }
        },
        "1e6326801f7049f78a1d0112f700c1f8": {
          "model_module": "@jupyter-widgets/base",
          "model_name": "LayoutModel",
          "model_module_version": "1.2.0",
          "state": {
            "_model_module": "@jupyter-widgets/base",
            "_model_module_version": "1.2.0",
            "_model_name": "LayoutModel",
            "_view_count": null,
            "_view_module": "@jupyter-widgets/base",
            "_view_module_version": "1.2.0",
            "_view_name": "LayoutView",
            "align_content": null,
            "align_items": null,
            "align_self": null,
            "border": null,
            "bottom": null,
            "display": null,
            "flex": null,
            "flex_flow": null,
            "grid_area": null,
            "grid_auto_columns": null,
            "grid_auto_flow": null,
            "grid_auto_rows": null,
            "grid_column": null,
            "grid_gap": null,
            "grid_row": null,
            "grid_template_areas": null,
            "grid_template_columns": null,
            "grid_template_rows": null,
            "height": null,
            "justify_content": null,
            "justify_items": null,
            "left": null,
            "margin": null,
            "max_height": null,
            "max_width": null,
            "min_height": null,
            "min_width": null,
            "object_fit": null,
            "object_position": null,
            "order": null,
            "overflow": null,
            "overflow_x": null,
            "overflow_y": null,
            "padding": null,
            "right": null,
            "top": null,
            "visibility": null,
            "width": null
          }
        },
        "5c32bba30446494da4ec942af55edc8a": {
          "model_module": "@jupyter-widgets/base",
          "model_name": "LayoutModel",
          "model_module_version": "1.2.0",
          "state": {
            "_model_module": "@jupyter-widgets/base",
            "_model_module_version": "1.2.0",
            "_model_name": "LayoutModel",
            "_view_count": null,
            "_view_module": "@jupyter-widgets/base",
            "_view_module_version": "1.2.0",
            "_view_name": "LayoutView",
            "align_content": null,
            "align_items": null,
            "align_self": null,
            "border": null,
            "bottom": null,
            "display": null,
            "flex": null,
            "flex_flow": null,
            "grid_area": null,
            "grid_auto_columns": null,
            "grid_auto_flow": null,
            "grid_auto_rows": null,
            "grid_column": null,
            "grid_gap": null,
            "grid_row": null,
            "grid_template_areas": null,
            "grid_template_columns": null,
            "grid_template_rows": null,
            "height": null,
            "justify_content": null,
            "justify_items": null,
            "left": null,
            "margin": null,
            "max_height": null,
            "max_width": null,
            "min_height": null,
            "min_width": null,
            "object_fit": null,
            "object_position": null,
            "order": null,
            "overflow": null,
            "overflow_x": null,
            "overflow_y": null,
            "padding": null,
            "right": null,
            "top": null,
            "visibility": null,
            "width": null
          }
        },
        "fe57428c951d4a82a770de75ffb1be43": {
          "model_module": "@jupyter-widgets/controls",
          "model_name": "SliderStyleModel",
          "model_module_version": "1.5.0",
          "state": {
            "_model_module": "@jupyter-widgets/controls",
            "_model_module_version": "1.5.0",
            "_model_name": "SliderStyleModel",
            "_view_count": null,
            "_view_module": "@jupyter-widgets/base",
            "_view_module_version": "1.2.0",
            "_view_name": "StyleView",
            "description_width": "",
            "handle_color": null
          }
        },
        "36fe10d05d3c494db31d043a9bb81b85": {
          "model_module": "@jupyter-widgets/base",
          "model_name": "LayoutModel",
          "model_module_version": "1.2.0",
          "state": {
            "_model_module": "@jupyter-widgets/base",
            "_model_module_version": "1.2.0",
            "_model_name": "LayoutModel",
            "_view_count": null,
            "_view_module": "@jupyter-widgets/base",
            "_view_module_version": "1.2.0",
            "_view_name": "LayoutView",
            "align_content": null,
            "align_items": null,
            "align_self": null,
            "border": null,
            "bottom": null,
            "display": null,
            "flex": null,
            "flex_flow": null,
            "grid_area": null,
            "grid_auto_columns": null,
            "grid_auto_flow": null,
            "grid_auto_rows": null,
            "grid_column": null,
            "grid_gap": null,
            "grid_row": null,
            "grid_template_areas": null,
            "grid_template_columns": null,
            "grid_template_rows": null,
            "height": null,
            "justify_content": null,
            "justify_items": null,
            "left": null,
            "margin": null,
            "max_height": null,
            "max_width": null,
            "min_height": null,
            "min_width": null,
            "object_fit": null,
            "object_position": null,
            "order": null,
            "overflow": null,
            "overflow_x": null,
            "overflow_y": null,
            "padding": null,
            "right": null,
            "top": null,
            "visibility": null,
            "width": null
          }
        },
        "8e7524ded06340e1865005eaccb4caf4": {
          "model_module": "@jupyter-widgets/controls",
          "model_name": "SliderStyleModel",
          "model_module_version": "1.5.0",
          "state": {
            "_model_module": "@jupyter-widgets/controls",
            "_model_module_version": "1.5.0",
            "_model_name": "SliderStyleModel",
            "_view_count": null,
            "_view_module": "@jupyter-widgets/base",
            "_view_module_version": "1.2.0",
            "_view_name": "StyleView",
            "description_width": "",
            "handle_color": null
          }
        },
        "81d910b8ae424be8812057b4b580616e": {
          "model_module": "@jupyter-widgets/base",
          "model_name": "LayoutModel",
          "model_module_version": "1.2.0",
          "state": {
            "_model_module": "@jupyter-widgets/base",
            "_model_module_version": "1.2.0",
            "_model_name": "LayoutModel",
            "_view_count": null,
            "_view_module": "@jupyter-widgets/base",
            "_view_module_version": "1.2.0",
            "_view_name": "LayoutView",
            "align_content": null,
            "align_items": null,
            "align_self": null,
            "border": null,
            "bottom": null,
            "display": null,
            "flex": null,
            "flex_flow": null,
            "grid_area": null,
            "grid_auto_columns": null,
            "grid_auto_flow": null,
            "grid_auto_rows": null,
            "grid_column": null,
            "grid_gap": null,
            "grid_row": null,
            "grid_template_areas": null,
            "grid_template_columns": null,
            "grid_template_rows": null,
            "height": null,
            "justify_content": null,
            "justify_items": null,
            "left": null,
            "margin": null,
            "max_height": null,
            "max_width": null,
            "min_height": null,
            "min_width": null,
            "object_fit": null,
            "object_position": null,
            "order": null,
            "overflow": null,
            "overflow_x": null,
            "overflow_y": null,
            "padding": null,
            "right": null,
            "top": null,
            "visibility": null,
            "width": null
          }
        }
      }
    }
  },
  "nbformat": 4,
  "nbformat_minor": 0
}